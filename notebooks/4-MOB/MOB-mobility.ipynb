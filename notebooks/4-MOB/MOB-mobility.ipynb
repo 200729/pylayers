{
 "metadata": {
  "name": "",
  "signature": "sha256:599e3235f5485c7235e99778a7d83b07165c11e9736880cdade1c3b66b6430d2"
 },
 "nbformat": 3,
 "nbformat_minor": 0,
 "worksheets": [
  {
   "cells": [
    {
     "cell_type": "code",
     "collapsed": false,
     "input": [
      "from IPython.display import Image, HTML, Latex, YouTubeVideo\n",
      "import numpy as np"
     ],
     "language": "python",
     "metadata": {},
     "outputs": [
      {
       "output_type": "display_data",
       "text": [
        "<matplotlib.figure.Figure at 0x8fe6650>"
       ]
      }
     ],
     "prompt_number": 1
    },
    {
     "cell_type": "code",
     "collapsed": false,
     "input": [
      "#YouTubeVideo('1Qa6xLpU5-M')"
     ],
     "language": "python",
     "metadata": {},
     "outputs": [],
     "prompt_number": 2
    },
    {
     "cell_type": "code",
     "collapsed": false,
     "input": [
      "import pylayers.mobility.trajectory as traj\n",
      "from pylayers.mobility.ban.body import *\n",
      "from pylayers.gis.layout import *"
     ],
     "language": "python",
     "metadata": {},
     "outputs": [],
     "prompt_number": 3
    },
    {
     "cell_type": "markdown",
     "metadata": {},
     "source": [
      "trajectories can be generated using simulnet.\n"
     ]
    },
    {
     "cell_type": "code",
     "collapsed": false,
     "input": [
      "from pylayers.simul.simulnet import *\n",
      "S=Simul()\n",
      "# set simulation duration\n",
      "S.sim_opt['duration']=10\n",
      "\n",
      "# turn off network simulation\n",
      "S.net_opt['network']=False\n",
      "\n",
      "# run mechanical simulation\n",
      "S.runsimul()\n"
     ],
     "language": "python",
     "metadata": {},
     "outputs": [
      {
       "output_type": "stream",
       "stream": "stdout",
       "text": [
        "Layout graphs are loaded from  /home/uguen/Bureau/P1 /struc/ini\n"
       ]
      },
      {
       "output_type": "display_data",
       "text": [
        "<matplotlib.figure.Figure at 0xa459c50>"
       ]
      }
     ],
     "prompt_number": 4
    },
    {
     "cell_type": "markdown",
     "metadata": {},
     "source": [
      "trajectories can be imported from a simulnet simulation with the `importh5` method"
     ]
    },
    {
     "cell_type": "code",
     "collapsed": false,
     "input": [
      "from pylayers.mobility.trajectory import *"
     ],
     "language": "python",
     "metadata": {},
     "outputs": [],
     "prompt_number": 5
    },
    {
     "cell_type": "code",
     "collapsed": false,
     "input": [
      "str1 = eval(S.sim_opt['filename'])\n",
      "str2 = S.L.filename.split('.')[0]\n",
      "# the save filename is composed of simulation filename and layout filename\n",
      "save_filename = str1 + '_' + str2 +'.h5'\n",
      "\n",
      "list_traj = S.traj"
     ],
     "language": "python",
     "metadata": {},
     "outputs": [],
     "prompt_number": 6
    },
    {
     "cell_type": "code",
     "collapsed": false,
     "input": [
      "list_traj"
     ],
     "language": "python",
     "metadata": {},
     "outputs": [
      {
       "output_type": "pyout",
       "prompt_number": 7,
       "text": [
        "Trajectories performed in Layout : TA-Office.ini\n",
        "\n",
        "Trajectory of agent John with ID 1\n",
        "----------------------------------\n",
        "t (s) : 0.00 : 1.00 : 10.00\n",
        "dtot (m) : 10.40\n",
        "Vmoy (m/s) : 1.04\n",
        "                             x         y        vx        vy            ax  \\\n",
        "t                                                                            \n",
        "1970-01-01 00:00:00  19.093744  3.273685  0.193744  0.776185  1.937441e-01   \n",
        "1970-01-01 00:00:01  19.287488  4.049870  0.193744  0.776185 -7.216450e-16   \n",
        "\n",
        "                               ay    s  \n",
        "t                                       \n",
        "1970-01-01 00:00:00  7.761851e-01  0.8  \n",
        "1970-01-01 00:00:01  2.220446e-16  1.6  \n",
        "\n",
        "[2 rows x 7 columns]\n",
        "\n",
        "Trajectory of agent Alex with ID 2\n",
        "----------------------------------\n",
        "t (s) : 0.00 : 1.00 : 10.00\n",
        "dtot (m) : 11.13\n",
        "Vmoy (m/s) : 1.11\n",
        "                             x          y        vx        vy            ax  \\\n",
        "t                                                                             \n",
        "1970-01-01 00:00:00  29.868667  11.716982  0.168667 -0.782018  1.686670e-01   \n",
        "1970-01-01 00:00:01  30.037334  10.934965  0.168667 -0.782018 -7.494005e-16   \n",
        "\n",
        "                               ay    s  \n",
        "t                                       \n",
        "1970-01-01 00:00:00 -7.820175e-01  0.8  \n",
        "1970-01-01 00:00:01 -1.110223e-16  1.6  \n",
        "\n",
        "[2 rows x 7 columns]\n",
        "\n",
        "Access point Router with ID 6\n",
        "-----------------------------\n",
        "t (s) : 0.00\n",
        "Vmoy (m/s) : 0.0\n",
        "              x  y    z  vx  vy  ax  ay  s\n",
        "t                                         \n",
        "1970-01-01  0.5  2  2.5   0   0   0   0  0\n",
        "\n",
        "[1 rows x 8 columns]\n",
        "\n",
        "Access point Router with ID 7\n",
        "-----------------------------\n",
        "t (s) : 0.00\n",
        "Vmoy (m/s) : 0.0\n",
        "              x   y    z  vx  vy  ax  ay  s\n",
        "t                                          \n",
        "1970-01-01  0.7  14  2.5   0   0   0   0  0\n",
        "\n",
        "[1 rows x 8 columns]\n",
        "\n",
        "Access point Router with ID 8\n",
        "-----------------------------\n",
        "t (s) : 0.00\n",
        "Vmoy (m/s) : 0.0\n",
        "             x   y    z  vx  vy  ax  ay  s\n",
        "t                                         \n",
        "1970-01-01  39  13  2.5   0   0   0   0  0\n",
        "\n",
        "[1 rows x 8 columns]\n",
        "\n"
       ]
      }
     ],
     "prompt_number": 7
    },
    {
     "cell_type": "markdown",
     "metadata": {},
     "source": [
      "The 2 following trajectories have been calculated with `pylayers.simul.simulnet`"
     ]
    },
    {
     "cell_type": "code",
     "collapsed": false,
     "input": [
      "f=plt.figure(figsize=(20,20))\n",
      "f,a = S.L.showGs(fig=f)\n",
      "for nodes in list_traj:\n",
      "    f,a = nodes.plot(fig=f,ax=a)"
     ],
     "language": "python",
     "metadata": {},
     "outputs": [
      {
       "output_type": "display_data",
       "png": "[encoded data removed]",
       "text": [
        "<matplotlib.figure.Figure at 0xb88d790>"
       ]
      }
     ],
     "prompt_number": 8
    }
   ],
   "metadata": {}
  }
 ]
}