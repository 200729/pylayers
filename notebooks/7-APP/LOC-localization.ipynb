{
 "metadata": {
  "name": ""
 },
 "nbformat": 3,
 "nbformat_minor": 0,
 "worksheets": [
  {
   "cells": [
    {
     "cell_type": "code",
     "collapsed": false,
     "input": [
      "from pylayers.location.algebraic.algebraic import *\n",
      "from pylayers.util.geomutil import dist"
     ],
     "language": "python",
     "metadata": {},
     "outputs": [],
     "prompt_number": 1
    },
    {
     "cell_type": "heading",
     "level": 2,
     "metadata": {},
     "source": [
      "Example of TDOA "
     ]
    },
    {
     "cell_type": "markdown",
     "metadata": {},
     "source": [
      "First, it is necesary to define Anchor nodes and associated Reference Anchor Nodes. This is important to be very specific about what exactly the TDOA is. In the example the Blin node is draw randomly as well as anchor nodes. "
     ]
    },
    {
     "cell_type": "code",
     "collapsed": false,
     "input": [
      "nodes = {}\n",
      "N = 5\n",
      "AN_TDOA = np.random.rand(2,N) \n",
      "#AN_TDOA1=np.array([[0, 0, 1, 1],[0,1,1,0]])\n",
      "#AN_TDOAr1 = np.roll(AN_TDOA,1,axis=1)\n",
      "AN_TDOAr1 = np.zeros((2,1))\n",
      "AN_TDOAr2 = AN_TDOA[:,-1][:,newaxis]\n",
      "BN = np.array([[0.2],[0.3]])"
     ],
     "language": "python",
     "metadata": {},
     "outputs": [],
     "prompt_number": 2
    },
    {
     "cell_type": "code",
     "collapsed": false,
     "input": [
      "AN_TDOA"
     ],
     "language": "python",
     "metadata": {},
     "outputs": [
      {
       "output_type": "pyout",
       "prompt_number": 3,
       "text": [
        "array([[ 0.58334354,  0.10421906,  0.69906436,  0.66681206,  0.70441244],\n",
        "       [ 0.75672828,  0.85641807,  0.53373185,  0.9398167 ,  0.49078487]])"
       ]
      }
     ],
     "prompt_number": 3
    },
    {
     "cell_type": "code",
     "collapsed": false,
     "input": [
      "AN_TDOAr1"
     ],
     "language": "python",
     "metadata": {},
     "outputs": [
      {
       "output_type": "pyout",
       "prompt_number": 4,
       "text": [
        "array([[ 0.],\n",
        "       [ 0.]])"
       ]
      }
     ],
     "prompt_number": 4
    },
    {
     "cell_type": "code",
     "collapsed": false,
     "input": [
      "AN_TDOAr2"
     ],
     "language": "python",
     "metadata": {},
     "outputs": [
      {
       "output_type": "pyout",
       "prompt_number": 5,
       "text": [
        "array([[ 0.70441244],\n",
        "       [ 0.49078487]])"
       ]
      }
     ],
     "prompt_number": 5
    },
    {
     "cell_type": "markdown",
     "metadata": {},
     "source": [
      "The figure below illustrates the situation, in red the anchor nodes, the blue star is the blind node. "
     ]
    },
    {
     "cell_type": "code",
     "collapsed": false,
     "input": [
      "plot(AN_TDOA[0,:],AN_TDOA[1,:],'or')\n",
      "plot(AN_TDOAr2[0,:],AN_TDOAr2[1,:],'ok')\n",
      "plot(BN[0,:],BN[1,:],'*b')\n",
      "axis([-1,2,-1,2])"
     ],
     "language": "python",
     "metadata": {},
     "outputs": [
      {
       "output_type": "pyout",
       "prompt_number": 6,
       "text": [
        "[-1, 2, -1, 2]"
       ]
      },
      {
       "output_type": "display_data",
       "png": "[encoded data removed]",
       "text": [
        "<matplotlib.figure.Figure at 0x2af52a9ffb90>"
       ]
      }
     ],
     "prompt_number": 6
    },
    {
     "cell_type": "code",
     "collapsed": false,
     "input": [
      "\n",
      "d = dist(AN_TDOA,BN,0)\n",
      "dr1= dist(AN_TDOAr1,BN,0)\n",
      "dr2= dist(AN_TDOAr2,BN,0)\n"
     ],
     "language": "python",
     "metadata": {},
     "outputs": [],
     "prompt_number": 7
    },
    {
     "cell_type": "code",
     "collapsed": false,
     "input": [
      "tdoa1 = (d-dr1)/0.3\n",
      "tdoa2 = (d-dr2)/0.3\n",
      "tdoa0 = (d-roll(d,1))/0.3\n",
      "\n",
      "print cumsum(tdoa0)\n",
      "print tdoa1\n",
      "print tdoa2\n"
     ],
     "language": "python",
     "metadata": {},
     "outputs": [
      {
       "output_type": "stream",
       "stream": "stdout",
       "text": [
        "[ 0.1899845   0.08438131  0.03932913  0.84240708  0.        ]\n",
        "[ 0.78575837  0.68015517  0.635103    1.43818094  0.59577386]\n",
        "[ 0.1899845   0.08438131  0.03932913  0.84240708  0.        ]\n"
       ]
      }
     ],
     "prompt_number": 8
    },
    {
     "cell_type": "code",
     "collapsed": false,
     "input": [
      "node={}\n",
      "nodes['BN']=BN\n",
      "nodes['RN_TDOA']=AN_TDOA\n",
      "nodes['RNr_TDOA']=AN_TDOAr2\n",
      "ldp = {}\n",
      "ldp['TDOA']=cumsum(tdoa0)\n",
      "ldp['TDOA_std']=np.ones(N)"
     ],
     "language": "python",
     "metadata": {},
     "outputs": [],
     "prompt_number": 9
    },
    {
     "cell_type": "code",
     "collapsed": false,
     "input": [
      "S=algloc(nodes,ldp)"
     ],
     "language": "python",
     "metadata": {},
     "outputs": [],
     "prompt_number": 10
    },
    {
     "cell_type": "code",
     "collapsed": false,
     "input": [
      "S.info()"
     ],
     "language": "python",
     "metadata": {},
     "outputs": [
      {
       "output_type": "stream",
       "stream": "stdout",
       "text": [
        "Nodes :  {'RN_TDOA': array([[ 0.58334354,  0.10421906,  0.69906436,  0.66681206,  0.70441244],\n",
        "       [ 0.75672828,  0.85641807,  0.53373185,  0.9398167 ,  0.49078487]]), 'BN': array([[ 0.2],\n",
        "       [ 0.3]]), 'RNr_TDOA': array([[ 0.70441244],\n",
        "       [ 0.49078487]])}\n",
        "Location dependent parameters :  {'TDOA': array([ 0.1899845 ,  0.08438131,  0.03932913,  0.84240708,  0.        ]), 'TDOA_std': array([ 1.,  1.,  1.,  1.,  1.])}\n"
       ]
      }
     ],
     "prompt_number": 11
    },
    {
     "cell_type": "code",
     "collapsed": false,
     "input": [
      "S = algloc(nodes,ldp)"
     ],
     "language": "python",
     "metadata": {},
     "outputs": [],
     "prompt_number": 12
    },
    {
     "cell_type": "code",
     "collapsed": false,
     "input": [
      "S.ls_locate(tdoa=True,toa=False,rss=False)"
     ],
     "language": "python",
     "metadata": {},
     "outputs": [
      {
       "output_type": "pyout",
       "prompt_number": 13,
       "text": [
        "array([[ 0.19997011],\n",
        "       [ 0.29993204]])"
       ]
      }
     ],
     "prompt_number": 13
    },
    {
     "cell_type": "code",
     "collapsed": false,
     "input": [
      "nodes['BN']"
     ],
     "language": "python",
     "metadata": {},
     "outputs": [
      {
       "output_type": "pyout",
       "prompt_number": 14,
       "text": [
        "array([[ 0.2],\n",
        "       [ 0.3]])"
       ]
      }
     ],
     "prompt_number": 14
    },
    {
     "cell_type": "code",
     "collapsed": false,
     "input": [],
     "language": "python",
     "metadata": {},
     "outputs": [],
     "prompt_number": 15
    }
   ],
   "metadata": {}
  }
 ]
}