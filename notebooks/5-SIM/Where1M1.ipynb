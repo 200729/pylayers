{
 "metadata": {
  "name": "",
  "signature": "sha256:2695f03b380dc5d5eb6b5be63a644cdfb930d098249844f11e4436a64bee1978"
 },
 "nbformat": 3,
 "nbformat_minor": 0,
 "worksheets": [
  {
   "cells": [
    {
     "cell_type": "code",
     "collapsed": false,
     "input": [
      "from IPython.core.display import HTML\n",
      "\n",
      "def css_styling():\n",
      "    styles = open(\"../styles/custom.css\", \"r\").read()\n",
      "    return HTML(styles)\n",
      "css_styling()"
     ],
     "language": "python",
     "metadata": {},
     "outputs": [
      {
       "html": [
        "<style>\n",
        "    @font-face {\n",
        "        font-family: \"Computer Modern\";\n",
        "        src: url('http://mirrors.ctan.org/fonts/cm-unicode/fonts/otf/cmunss.otf');\n",
        "    }\n",
        "    div.cell{\n",
        "        width:800px;\n",
        "        margin-left:16% !important;\n",
        "        margin-right:auto;\n",
        "    }\n",
        "    h1 {\n",
        "        font-family: Helvetica, serif;\n",
        "    }\n",
        "    h4{\n",
        "        margin-top:12px;\n",
        "        margin-bottom: 3px;\n",
        "       }\n",
        "    div.text_cell_render{\n",
        "        font-family: Computer Modern, \"Helvetica Neue\", Arial, Helvetica, Geneva, sans-serif;\n",
        "        line-height: 145%;\n",
        "        font-size: 130%;\n",
        "        width:800px;\n",
        "        margin-left:auto;\n",
        "        margin-right:auto;\n",
        "    }\n",
        "    .CodeMirror{\n",
        "            font-family: \"Source Code Pro\", source-code-pro,Consolas, monospace;\n",
        "    }\n",
        "    .prompt{\n",
        "        display: None;\n",
        "    }\n",
        "    .text_cell_render h5 {\n",
        "        font-weight: 300;\n",
        "        font-size: 22pt;\n",
        "        color: #4057A1;\n",
        "        font-style: italic;\n",
        "        margin-bottom: .5em;\n",
        "        margin-top: 0.5em;\n",
        "        display: block;\n",
        "    }\n",
        "    \n",
        "    .warning{\n",
        "        color: rgb( 240, 20, 20 )\n",
        "        }  \n",
        "</style>\n",
        "<script>\n",
        "    MathJax.Hub.Config({\n",
        "                        TeX: {\n",
        "                           extensions: [\"AMSmath.js\"]\n",
        "                           },\n",
        "                tex2jax: {\n",
        "                    inlineMath: [ ['$','$'], [\"\\\\(\",\"\\\\)\"] ],\n",
        "                    displayMath: [ ['$$','$$'], [\"\\\\[\",\"\\\\]\"] ]\n",
        "                },\n",
        "                displayAlign: 'center', // Change this to 'center' to center equations.\n",
        "                \"HTML-CSS\": {\n",
        "                    styles: {'.MathJax_Display': {\"margin\": 4}}\n",
        "                }\n",
        "        });\n",
        "</script>"
       ],
       "output_type": "pyout",
       "prompt_number": 1,
       "text": [
        "<IPython.core.display.HTML at 0x2b88f3d15e10>"
       ]
      }
     ],
     "prompt_number": 1
    },
    {
     "cell_type": "code",
     "collapsed": false,
     "input": [
      "%matplotlib inline"
     ],
     "language": "python",
     "metadata": {},
     "outputs": [],
     "prompt_number": 2
    },
    {
     "cell_type": "code",
     "collapsed": false,
     "input": [
      "from pylayers.simul.simulem import *\n",
      "from pylayers.antprop.rays import *\n",
      "from pylayers.antprop.channel import *\n",
      "from pylayers.antprop.signature import *\n",
      "from pylayers.measures.mesuwb import *\n",
      "import pylayers.util.pyutil as pyu\n",
      "import pylayers.signal.bsignal as bs"
     ],
     "language": "python",
     "metadata": {},
     "outputs": [
      {
       "output_type": "stream",
       "stream": "stderr",
       "text": [
        "WARNING:traits.has_traits:DEPRECATED: traits.has_traits.wrapped_class, 'the 'implements' class advisor has been deprecated. Use the 'provides' class decorator.\n"
       ]
      },
      {
       "output_type": "display_data",
       "text": [
        "<matplotlib.figure.Figure at 0x2b891eb48bd0>"
       ]
      }
     ],
     "prompt_number": 3
    },
    {
     "cell_type": "markdown",
     "metadata": {},
     "source": [
      "# WHERE1-M1 UWB measurement campaign"
     ]
    },
    {
     "cell_type": "markdown",
     "metadata": {},
     "source": [
      "The deliverable describing the FP7 WHERE1 measurement campaign M1 can be found @ \n",
      "[WHERE1 D4.1 Measurements of location-dependent channel features](http://www.kn-s.dlr.de/where/documents/Deliverable41.pdf)"
     ]
    },
    {
     "cell_type": "markdown",
     "metadata": {},
     "source": [
      "## Simulation Creation"
     ]
    },
    {
     "cell_type": "markdown",
     "metadata": {},
     "source": [
      "A ray-tracing simulation is controlled via a configuration file which is stored in the `ini` directory of the project directory.\n",
      "By default, there is a default configuration file named `default.ini`.\n"
     ]
    },
    {
     "cell_type": "markdown",
     "metadata": {},
     "source": [
      "A first step consists in loading a layout associated with the simulation. \n",
      "Here the `WHERE1.ini` layout is chosen along with the corresponding slabs and materials. \n",
      "\n",
      "This layout corresponds to the office building where the first WHERE1 UWB measurement campaign has been conducted. \n",
      "\n",
      "\n",
      "The layout method loads those in a member layout object **L** of the simulation object **S**.\n",
      "\n",
      "If not already available, the layout associated graphs are built.\n",
      "\n"
     ]
    },
    {
     "cell_type": "code",
     "collapsed": false,
     "input": [
      "S = Simul()\n",
      "# loading a layout \n",
      "filestr = 'WHERE1'\n",
      "S.layout(filestr+'.ini','matDB.ini','slabDB.ini')\n",
      "try:\n",
      "    S.L.dumpr()\n",
      "except:\n",
      "    S.L.build()\n",
      "    S.L.dumpw()"
     ],
     "language": "python",
     "metadata": {},
     "outputs": [
      {
       "output_type": "stream",
       "stream": "stdout",
       "text": [
        "new file DLR2.str\n"
       ]
      }
     ],
     "prompt_number": 4
    },
    {
     "cell_type": "code",
     "collapsed": false,
     "input": [
      "S.L.showG('s',figsize=(20,20),nodes=False)"
     ],
     "language": "python",
     "metadata": {},
     "outputs": [
      {
       "output_type": "pyout",
       "prompt_number": 5,
       "text": [
        "(<matplotlib.figure.Figure at 0x2b8922c61e50>,\n",
        " <matplotlib.axes.AxesSubplot at 0x2b8922de8950>)"
       ]
      },
      {
       "output_type": "display_data",
       "png": "[encoded data removed]",
       "text": [
        "<matplotlib.figure.Figure at 0x2b8922c61e50>"
       ]
      }
     ],
     "prompt_number": 5
    },
    {
     "cell_type": "code",
     "collapsed": false,
     "input": [
      "S.L._showGi(en=7)\n",
      "plt.axis('off')"
     ],
     "language": "python",
     "metadata": {},
     "outputs": [
      {
       "output_type": "stream",
       "stream": "stdout",
       "text": [
        "int0 :  (292, 37)\n",
        "int1 :  (264, 37, 42)\n",
        " output  {(279, 42, 40): 0.91000514929261478, (279, 42): 0.91000514929261478, (268, 42, 41): 0.0065852204076691121, (277, 42): 0.028626497623691013, (271, 42): 0.023295590053433974, (276, 42): 0.049860074705287076, (271, 42, 41): 0.023295590053433974, (181, 42): 0.046456976566390952, (277, 42, 40): 0.028626497623691013, (268, 42): 0.0065852204076691121, (181, 42, 36): 0.046456976566390952, (274, 42, 40): 0.81243378518352072, (288, 42, 37): 1.0000000000000002, (274, 42): 0.81243378518352072}\n"
       ]
      },
      {
       "output_type": "pyout",
       "prompt_number": 6,
       "text": [
        "(-31.123950000000001, 34.74295, -6.9054478584506302, 22.327754957451795)"
       ]
      },
      {
       "output_type": "display_data",
       "png": "[encoded data removed]",
       "text": [
        "<matplotlib.figure.Figure at 0x2b88f3d154d0>"
       ]
      }
     ],
     "prompt_number": 6
    },
    {
     "cell_type": "markdown",
     "metadata": {},
     "source": [
      "The layout display is fully parameterized via the embedded **display** dictionnary member of the Layout object."
     ]
    },
    {
     "cell_type": "code",
     "collapsed": false,
     "input": [
      "fig = plt.figure(figsize=(10,5))\n",
      "S.L.display['ednodes']=False\n",
      "S.L.display['nodes']=False\n",
      "S.L.display['title']='WHERE1 Project Office Measurement Site'\n",
      "S.L.display['overlay']=False\n",
      "fig,ax=S.L.showG('s',fig=fig)    \n"
     ],
     "language": "python",
     "metadata": {},
     "outputs": [
      {
       "output_type": "display_data",
       "png": "[encoded data removed]",
       "text": [
        "<matplotlib.figure.Figure at 0x2b8923209c90>"
       ]
      }
     ],
     "prompt_number": 7
    },
    {
     "cell_type": "code",
     "collapsed": false,
     "input": [
      "S.L.Gi.edges()[0]"
     ],
     "language": "python",
     "metadata": {},
     "outputs": [
      {
       "output_type": "pyout",
       "prompt_number": 8,
       "text": [
        "((292, 37), (270, 37, 36))"
       ]
      }
     ],
     "prompt_number": 8
    },
    {
     "cell_type": "heading",
     "level": 2,
     "metadata": {},
     "source": [
      "Adding coordinates of transmiting and receiving points\n"
     ]
    },
    {
     "cell_type": "markdown",
     "metadata": {},
     "source": [
      "Transmitters and receivers coordinates for the simulation are stored in **.ini** files.\n",
      "Transmitter and Receiver are instances of the class `RadioNode` which offers different methods\n",
      "for specifying nodes positions.\n",
      "The stucture of this **.ini** file presented below.\n",
      "The node Id is associated with the 3 coordinates $x,y,z$ separated by white spaces.\n",
      "\n"
     ]
    },
    {
     "cell_type": "markdown",
     "metadata": {},
     "source": [
      "    [coordinates]\n",
      "    1 = -12.2724 7.76319999993 1.2\n",
      "    2 = -18.7747 15.1779999998 1.2\n",
      "    3 = -4.14179999998 8.86029999983 1.2\n",
      "    4 = -9.09139999998 15.1899000001 1.2\n"
     ]
    },
    {
     "cell_type": "code",
     "collapsed": false,
     "input": [
      "S.tx = RadioNode(_fileini='w2m1rx.ini',_fileant='defant.vsh3')\n",
      "S.rx = RadioNode(_fileini='w2m1tx.ini',_fileant='defant.vsh3')"
     ],
     "language": "python",
     "metadata": {},
     "outputs": [],
     "prompt_number": 9
    },
    {
     "cell_type": "markdown",
     "metadata": {},
     "source": [
      "The whole simulation setup can then be displayed using the **show** method of the Simulation object\n",
      "\n"
     ]
    },
    {
     "cell_type": "code",
     "collapsed": false,
     "input": [
      "fig,ax = S.show()"
     ],
     "language": "python",
     "metadata": {},
     "outputs": [
      {
       "output_type": "stream",
       "stream": "stdout",
       "text": [
        "Warning : no furniture file loaded\n"
       ]
      },
      {
       "output_type": "display_data",
       "png": "[encoded data removed]",
       "text": [
        "<matplotlib.figure.Figure at 0x2b89240d3cd0>"
       ]
      }
     ],
     "prompt_number": 10
    },
    {
     "cell_type": "markdown",
     "metadata": {},
     "source": [
      "Select Tx and Rx positions"
     ]
    },
    {
     "cell_type": "code",
     "collapsed": false,
     "input": [
      "map={1: 1,2: 2, 3: 3, 4: 5, 5: 6, 6: 7, 7: 8, 8: 9, 9: 10,\n",
      "10: 11, 11: 12, 12: 13, 13: 14, 14: 15, 15: 16, 16: 17, 17: 18, 18: 19, 19: 20,\n",
      "20: 21, 21: 22, 22: 23, 23: 24, 24: 25, 25: 26, 26: 27,\n",
      "27: 28, 28: 29, 29: 30, 30: 32, 31: 33, 32: 34, 33: 35, 34: 36, 35: 37, 36: 38,\n",
      "      37: 39, 38: 40, 39: 41, 40: 42, 41: 43, 42: 44, 43: 45, 44: 46, 45: 47,\n",
      "      46: 48, 47: 49, 48: 50, 49: 51, 50: 52, 51: 53, 52: 54, 53: 55, 54: 56,\n",
      "      55: 57, 56: 58, 57: 59, 58: 60, 59: 61, 60: 62, 61: 63, 62: 64, 63: 65,\n",
      "      64: 66, 65: 67, 66: 68, 67: 69, 68: 70, 69: 71, 70: 72, 71: 73, 72: 74,\n",
      "      73: 75, 74: 76, 75: 77, 76: 78, 77: 79, 78: 80, 79: 81, 80: 82, 81: 83,\n",
      "      82: 84, 83: 85, 84: 89, 85: 90, 86: 91, 87: 92, 88: 93, 89: 94, 90: 95,\n",
      "      91: 96, 92: 97, 93: 98, 94: 99, 95: 100, 96: 101, 97: 103, 98: 104, 99:\n",
      "      105, 100: 106, 101: 107, 102: 108, 103: 109, 104: 110, 105: 111, 106:\n",
      "      113, 107: 114, 108: 116, 109: 117, 110: 119, 111: 120, 112: 122, 113:\n",
      "      123, 114: 124, 115: 125, 116: 126, 117: 127, 118: 128, 119: 129, 120:\n",
      "      133, 121: 134, 122: 136, 123: 137, 124: 138, 125: 139, 126: 140, 127:\n",
      "      141, 128: 142, 129: 143, 130: 144, 131: 145, 132: 146, 133: 147, 134:\n",
      "      162, 135: 163, 136: 164, 137: 165, 138: 166, 139: 167, 140: 168, 141:\n",
      "      169, 142: 170, 143: 171, 144: 172, 145: 173, 146: 174, 147: 175, 148:\n",
      "      176, 149: 177, 150: 179, 151: 180, 152: 181, 153: 182, 154: 183, 155:\n",
      "      184, 156: 185, 157: 186, 158: 188, 159: 189, 160: 199, 161: 200, 162:\n",
      "      201, 163: 202, 164: 203, 165: 204, 166: 205, 167: 206, 168: 207, 169:\n",
      "      208, 170: 209, 171: 210, 172: 211, 173: 212, 174: 213, 175: 214, 176:\n",
      "      215, 177: 216, 178: 217, 179: 218, 180: 219, 181: 220, 182: 221, 183:\n",
      "      222, 184: 223, 185: 227, 186: 228, 187: 229, 188: 230, 189: 231, 190:\n",
      "      232, 191: 233, 192: 234, 193: 235, 194: 236, 195: 237, 196: 238, 197:\n",
      "      239, 198: 240, 199: 241, 200: 242, 201: 243, 202: 244, 203: 245, 204:\n",
      "      246, 205: 247, 206: 248, 207: 249, 208: 250, 209: 251, 210: 252, 211:\n",
      "      253, 212: 258, 213: 259, 214: 266, 215: 267, 216: 268, 217: 269, 218:\n",
      "      270, 219: 271, 220: 272, 221: 273, 222: 274, 223: 275, 224: 276, 225:\n",
      "      277, 226: 278, 227: 279, 228: 297, 229: 298, 230: 299, 231: 300, 232:\n",
      "      301, 233: 302, 234: 303, 235: 304, 236: 305, 237: 306, 238: 307, 239:\n",
      "      308, 240: 309, 241: 310, 242: 311, 243: 312, 244: 313, 245: 314, 246:\n",
      "      315, 247: 316, 248: 317, 249: 318, 250: 319, 251: 320, 252: 321, 253:\n",
      "      322, 254: 323, 255: 324, 256: 325, 257: 326, 258: 327, 259: 328, 260:\n",
      "      329, 261: 330, 262: 332, 263: 333, 264: 334, 265: 335, 266: 336, 267:\n",
      "      337, 268: 338, 269: 339, 270: 340, 271: 341, 272: 342, 273: 343, 274:\n",
      "      344, 275: 345, 276: 346, 277: 347, 278: 348, 279: 349, 280: 350, 281:\n",
      "      351, 282: 352, 283: 353, 284: 354, 285: 355, 286: 356, 287: 360, 288:\n",
      "      361, 289: 362, 290: 363, 291: 364, 292: 365, 293: 366, 294: 367, 295:\n",
      "      368, 296: 369, 297: 370, 298: 371, 299: 372, 300: 373, 301: 374, 302:\n",
      "      375} \n",
      "\n"
     ],
     "language": "python",
     "metadata": {},
     "outputs": [],
     "prompt_number": 11
    },
    {
     "cell_type": "code",
     "collapsed": false,
     "input": [
      "print 'number of Tx :',len(S.tx.points.keys())\n",
      "print 'number of rx :',len(S.rx.points.keys())"
     ],
     "language": "python",
     "metadata": {},
     "outputs": [
      {
       "output_type": "stream",
       "stream": "stdout",
       "text": [
        "number of Tx : 302\n",
        "number of rx : 4\n"
       ]
      }
     ],
     "prompt_number": 12
    },
    {
     "cell_type": "markdown",
     "metadata": {},
     "source": [
      "Choose measurement points\n"
     ]
    },
    {
     "cell_type": "code",
     "collapsed": false,
     "input": [
      "# Chose used points here \n",
      "\n",
      "itx=10\n",
      "irx=2\n",
      "\n",
      "\n",
      "# check points\n",
      "tx= S.tx.points[itx]\n",
      "rx= S.rx.points[irx]\n",
      "M = UWBMeasure(map[itx])\n",
      "txm = M.tx\n",
      "rxm = M.rx[irx]\n",
      "print tx,txm\n",
      "print rx,rxm\n",
      "\n",
      "if (tx[0] - txm[0] > 0.001) or (tx[1] - txm[1] > 0.001):\n",
      "    print 'Tx and Txm are not the same !'\n",
      "else :\n",
      "    print 'Txs OK'\n",
      "if (rx[0] - rxm[0] > 0.001) or (rx[1] - rxm[1] > 0.001):\n",
      "    print 'Rx and Rxm are not the same !'\n",
      "else :\n",
      "    print 'Rxs OK'\n",
      "\n",
      "    "
     ],
     "language": "python",
     "metadata": {},
     "outputs": [
      {
       "output_type": "stream",
       "stream": "stdout",
       "text": [
        "[-24.867   12.3097   1.2   ] [-24.867   12.3097   1.2   ]\n",
        "[-18.7747  15.178    1.2   ] [-18.7747  15.178    1.2   ]\n",
        "Txs OK\n",
        "Rxs OK\n"
       ]
      }
     ],
     "prompt_number": 13
    },
    {
     "cell_type": "code",
     "collapsed": false,
     "input": [
      "fig =plt.figure(figsize=(20,20))\n",
      "fig,ax=S.L.showG('s',fig=fig)\n",
      "ax.plot(M.tx[0],M.tx[1],'or',label='tx')\n",
      "ax.plot(M.rx[irx][0],M.rx[irx][1],'ob',label='rx')\n",
      "ax.legend()"
     ],
     "language": "python",
     "metadata": {},
     "outputs": [
      {
       "output_type": "pyout",
       "prompt_number": 14,
       "text": [
        "<matplotlib.legend.Legend at 0x2b89230cca90>"
       ]
      },
      {
       "output_type": "display_data",
       "png": "[encoded data removed]",
       "text": [
        "<matplotlib.figure.Figure at 0x2b89232e6550>"
       ]
      }
     ],
     "prompt_number": 14
    },
    {
     "cell_type": "markdown",
     "metadata": {},
     "source": [
      "## Signatures, Rays and channel"
     ]
    },
    {
     "cell_type": "markdown",
     "metadata": {},
     "source": [
      "A signature is a sequence of layout objects (points and segments) which are involved in a given optical ray joinint the transmiter and the receiver. \n",
      "The signatutre is calculated from a layout cycle to an other layout cycle. This means that is is required first to retrieve the cycle number from \n",
      "point coordinates. This is done thanks to the **pt2cy**, point to cycle function.  \n",
      "\n",
      "\n"
     ]
    },
    {
     "cell_type": "code",
     "collapsed": false,
     "input": [
      "ctx=S.L.pt2cy(tx)\n",
      "crx=S.L.pt2cy(rx)\n",
      "print 'tx point belongs to cycle ',ctx\n",
      "print 'rx point belongs to cycle ',crx\n"
     ],
     "language": "python",
     "metadata": {},
     "outputs": [
      {
       "output_type": "stream",
       "stream": "stdout",
       "text": [
        "tx point belongs to cycle  6\n",
        "rx point belongs to cycle  3\n"
       ]
      }
     ],
     "prompt_number": 15
    },
    {
     "cell_type": "markdown",
     "metadata": {},
     "source": [
      "Then the signature between cycle 5 and cycle 4 can be calculated. This is done by instantiating a Signature object with a given layout and the 2 cycle number.\n",
      "\n",
      "The representaion of a signature obje"
     ]
    },
    {
     "cell_type": "code",
     "collapsed": false,
     "input": [
      "Si = Signatures(S.L,ctx,crx)\n",
      "Si.run5(cutoff=3)"
     ],
     "language": "python",
     "metadata": {},
     "outputs": [],
     "prompt_number": 16
    },
    {
     "cell_type": "code",
     "collapsed": false,
     "input": [
      "tx[2]=1.5"
     ],
     "language": "python",
     "metadata": {},
     "outputs": [],
     "prompt_number": 17
    },
    {
     "cell_type": "code",
     "collapsed": false,
     "input": [
      "r2d = Si.rays(tx,rx)\n",
      "r3d=r2d.to3D(S.L)"
     ],
     "language": "python",
     "metadata": {},
     "outputs": [
      {
       "output_type": "stream",
       "stream": "stdout",
       "text": [
        "-273\n",
        "-273\n",
        "-273\n",
        "-273\n",
        "-273\n",
        "-273\n",
        "-273\n",
        "-273\n",
        "-273\n",
        "-273\n",
        "-273\n",
        "-273\n",
        "-273\n",
        "-273\n",
        "-273\n",
        "-273\n",
        "-273\n",
        "-273"
       ]
      },
      {
       "output_type": "stream",
       "stream": "stdout",
       "text": [
        "\n",
        "-273\n",
        "-273\n",
        "-273\n",
        "-273"
       ]
      },
      {
       "output_type": "stream",
       "stream": "stdout",
       "text": [
        "\n",
        "-273\n",
        "-273"
       ]
      },
      {
       "output_type": "stream",
       "stream": "stdout",
       "text": [
        "\n",
        "-273\n",
        "-273\n",
        "-273\n",
        "-273\n",
        "-273\n",
        "-273\n",
        "-273"
       ]
      },
      {
       "output_type": "stream",
       "stream": "stdout",
       "text": [
        "\n",
        "-273\n",
        "-273\n",
        "-273\n",
        "-273\n",
        "-273\n",
        "-273\n",
        "-273\n",
        "-273\n",
        "-273\n",
        "-273"
       ]
      },
      {
       "output_type": "stream",
       "stream": "stdout",
       "text": [
        "\n",
        "-273\n",
        "-273\n",
        "-273\n",
        "-273\n",
        "-273"
       ]
      },
      {
       "output_type": "stream",
       "stream": "stdout",
       "text": [
        "\n",
        "-273\n",
        "-273\n",
        "-273\n",
        "-273\n",
        "-273"
       ]
      },
      {
       "output_type": "stream",
       "stream": "stdout",
       "text": [
        "\n",
        "-273\n",
        "-273\n",
        "-273\n",
        "-273\n",
        "-273"
       ]
      },
      {
       "output_type": "stream",
       "stream": "stdout",
       "text": [
        "\n",
        "-273\n",
        "-273\n",
        "-273\n",
        "-273\n",
        "-273"
       ]
      },
      {
       "output_type": "stream",
       "stream": "stdout",
       "text": [
        "\n",
        "-273\n",
        "-273\n",
        "-273\n",
        "-273\n",
        "-273"
       ]
      },
      {
       "output_type": "stream",
       "stream": "stdout",
       "text": [
        "\n",
        "-273\n",
        "-273\n",
        "-273\n",
        "-273\n",
        "-273"
       ]
      },
      {
       "output_type": "stream",
       "stream": "stdout",
       "text": [
        "\n",
        "-273\n",
        "-273\n",
        "-273\n",
        "-273\n",
        "-273"
       ]
      },
      {
       "output_type": "stream",
       "stream": "stdout",
       "text": [
        "\n",
        "-273\n",
        "-273\n",
        "-273\n",
        "-273\n",
        "-273"
       ]
      },
      {
       "output_type": "stream",
       "stream": "stdout",
       "text": [
        "\n",
        "-273\n",
        "-273\n",
        "-273\n",
        "-273"
       ]
      },
      {
       "output_type": "stream",
       "stream": "stdout",
       "text": [
        "\n",
        "-273\n",
        "-273\n",
        "-273\n",
        "-273"
       ]
      },
      {
       "output_type": "stream",
       "stream": "stdout",
       "text": [
        "\n",
        "-273\n",
        "-273\n",
        "-273\n"
       ]
      }
     ],
     "prompt_number": 18
    },
    {
     "cell_type": "code",
     "collapsed": false,
     "input": [
      "r2d.show(S.L,figsize=(20,10),nodes=False)"
     ],
     "language": "python",
     "metadata": {},
     "outputs": [
      {
       "ename": "TypeError",
       "evalue": "show() takes exactly 1 argument (4 given)",
       "output_type": "pyerr",
       "traceback": [
        "\u001b[1;31m---------------------------------------------------------------------------\u001b[0m\n\u001b[1;31mTypeError\u001b[0m                                 Traceback (most recent call last)",
        "\u001b[1;32m<ipython-input-19-3f98a45e9e53>\u001b[0m in \u001b[0;36m<module>\u001b[1;34m()\u001b[0m\n\u001b[1;32m----> 1\u001b[1;33m \u001b[0mr2d\u001b[0m\u001b[1;33m.\u001b[0m\u001b[0mshow\u001b[0m\u001b[1;33m(\u001b[0m\u001b[0mS\u001b[0m\u001b[1;33m.\u001b[0m\u001b[0mL\u001b[0m\u001b[1;33m,\u001b[0m\u001b[0mfigsize\u001b[0m\u001b[1;33m=\u001b[0m\u001b[1;33m(\u001b[0m\u001b[1;36m20\u001b[0m\u001b[1;33m,\u001b[0m\u001b[1;36m10\u001b[0m\u001b[1;33m)\u001b[0m\u001b[1;33m,\u001b[0m\u001b[0mnodes\u001b[0m\u001b[1;33m=\u001b[0m\u001b[0mFalse\u001b[0m\u001b[1;33m)\u001b[0m\u001b[1;33m\u001b[0m\u001b[0m\n\u001b[0m",
        "\u001b[1;31mTypeError\u001b[0m: show() takes exactly 1 argument (4 given)"
       ]
      }
     ],
     "prompt_number": 19
    },
    {
     "cell_type": "code",
     "collapsed": false,
     "input": [
      "r2d.show(S.L,figsize=(20,10))"
     ],
     "language": "python",
     "metadata": {},
     "outputs": [
      {
       "ename": "TypeError",
       "evalue": "show() takes exactly 1 argument (3 given)",
       "output_type": "pyerr",
       "traceback": [
        "\u001b[1;31m---------------------------------------------------------------------------\u001b[0m\n\u001b[1;31mTypeError\u001b[0m                                 Traceback (most recent call last)",
        "\u001b[1;32m<ipython-input-21-541348418ae0>\u001b[0m in \u001b[0;36m<module>\u001b[1;34m()\u001b[0m\n\u001b[1;32m----> 1\u001b[1;33m \u001b[0mr2d\u001b[0m\u001b[1;33m.\u001b[0m\u001b[0mshow\u001b[0m\u001b[1;33m(\u001b[0m\u001b[0mS\u001b[0m\u001b[1;33m.\u001b[0m\u001b[0mL\u001b[0m\u001b[1;33m,\u001b[0m\u001b[0mfigsize\u001b[0m\u001b[1;33m=\u001b[0m\u001b[1;33m(\u001b[0m\u001b[1;36m20\u001b[0m\u001b[1;33m,\u001b[0m\u001b[1;36m10\u001b[0m\u001b[1;33m)\u001b[0m\u001b[1;33m)\u001b[0m\u001b[1;33m\u001b[0m\u001b[0m\n\u001b[0m",
        "\u001b[1;31mTypeError\u001b[0m: show() takes exactly 1 argument (3 given)"
       ]
      }
     ],
     "prompt_number": 21
    },
    {
     "cell_type": "code",
     "collapsed": false,
     "input": [
      "r3d.locbas(S.L)\n",
      "r3d.fillinter(S.L)\n",
      "r3d"
     ],
     "language": "python",
     "metadata": {},
     "outputs": []
    },
    {
     "cell_type": "code",
     "collapsed": false,
     "input": [
      "r3d"
     ],
     "language": "python",
     "metadata": {},
     "outputs": []
    },
    {
     "cell_type": "code",
     "collapsed": false,
     "input": [
      "S.freq()"
     ],
     "language": "python",
     "metadata": {},
     "outputs": []
    },
    {
     "cell_type": "code",
     "collapsed": false,
     "input": [
      "Ct = r3d.eval(S.freq())"
     ],
     "language": "python",
     "metadata": {},
     "outputs": []
    },
    {
     "cell_type": "markdown",
     "metadata": {},
     "source": [
      "The `energy` method calculates the energy hoeld by each ray"
     ]
    },
    {
     "cell_type": "code",
     "collapsed": false,
     "input": [
      "Ct.energy()"
     ],
     "language": "python",
     "metadata": {},
     "outputs": []
    },
    {
     "cell_type": "markdown",
     "metadata": {},
     "source": [
      "## Apply waveform"
     ]
    },
    {
     "cell_type": "code",
     "collapsed": false,
     "input": [
      "Ct.freq = S.freq\n",
      "sco= Ct.prop2tran(a='theta',b='theta')\n",
      "sca= Ct.prop2tran(a=S.tx.A,b=S.rx.A)"
     ],
     "language": "python",
     "metadata": {},
     "outputs": []
    },
    {
     "cell_type": "code",
     "collapsed": false,
     "input": [
      "wav = wvf.Waveform(typ='W1offset')\n",
      "#wav = wvf.Waveform({'type' : 'generic','band': 0.499,'fc': 4.493, 'fe': 100, 'thresh': 3, 'tw': 30})\n",
      "wav.show()"
     ],
     "language": "python",
     "metadata": {},
     "outputs": []
    },
    {
     "cell_type": "code",
     "collapsed": false,
     "input": [
      "sco.isFriis"
     ],
     "language": "python",
     "metadata": {},
     "outputs": []
    },
    {
     "cell_type": "code",
     "collapsed": false,
     "input": [
      "if sco.isFriis:\n",
      "    ciro = sco.applywavB(wav.sf)\n",
      "else:\n",
      "    ciro = sco.applywavB(wav.sfg)\n",
      "if sca.isFriis:\n",
      "    cira = sca.applywavB(wav.sf)\n",
      "else:\n",
      "     cira = sca.applywavB(wav.sfg)"
     ],
     "language": "python",
     "metadata": {},
     "outputs": []
    },
    {
     "cell_type": "code",
     "collapsed": false,
     "input": [
      "ciro.plot(typ='v')\n",
      "title(u'received waveform without antenna $\\\\theta\\\\theta$')"
     ],
     "language": "python",
     "metadata": {},
     "outputs": []
    },
    {
     "cell_type": "code",
     "collapsed": false,
     "input": [
      "cira.plot(typ='v')\n",
      "title('received waveform with antenna')"
     ],
     "language": "python",
     "metadata": {},
     "outputs": []
    },
    {
     "cell_type": "code",
     "collapsed": false,
     "input": [
      "#dchan={i:'ch'+str(i) for i in range(1,5)}\n",
      "dchan={}\n",
      "dchan[1]='ch3'\n",
      "dchan[2]='ch4'\n",
      "dchan[3]='ch1'\n",
      "dchan[4]='ch2'"
     ],
     "language": "python",
     "metadata": {},
     "outputs": []
    },
    {
     "cell_type": "code",
     "collapsed": false,
     "input": [
      "fig = plt.figure()\n",
      "ax1 = fig.add_subplot(311,title=\"Measurements\")\n",
      "cmd='M.tdd.' + str(dchan[irx]) + '.plot(ax=ax1)'\n",
      "eval(cmd)\n",
      "title('WHERE1 measurement')\n",
      "#M.tdd.ch2.plot()\n",
      "# align for plotting\n",
      "#ciro.x=ciro.x-ciro.x[0]\n",
      "ax2 = fig.add_subplot(312,title=\"Simulation-with antenna\",sharex=ax1, sharey=ax1)\n",
      "plt.xlim(20,70)\n",
      "plt.ylim(-95,-50)\n",
      "u = cira.plot(ax=ax2)\n",
      "title('Simulation-with antenna - without noise')\n",
      "plt.tight_layout()\n",
      "#ax3 = fig.add_subplot(313,title=\"Simulation-without antenna\",sharex=ax1, sharey=ax1)\n",
      "#ciro.plot()"
     ],
     "language": "python",
     "metadata": {},
     "outputs": []
    },
    {
     "cell_type": "code",
     "collapsed": false,
     "input": [
      "v = tx-rx\n",
      "d = sqrt(dot(v,v))\n",
      "\n",
      "print 'real delay between tx and rx',d/0.3\n",
      "print 'simulated first path delay',r3d.delays[0]"
     ],
     "language": "python",
     "metadata": {},
     "outputs": []
    },
    {
     "cell_type": "code",
     "collapsed": false,
     "input": [
      "r3d.delays"
     ],
     "language": "python",
     "metadata": {},
     "outputs": []
    },
    {
     "cell_type": "code",
     "collapsed": false,
     "input": [
      "r3d.info(0)"
     ],
     "language": "python",
     "metadata": {},
     "outputs": []
    },
    {
     "cell_type": "code",
     "collapsed": false,
     "input": [
      "Ct.doadod(phi=(-180,180))"
     ],
     "language": "python",
     "metadata": {},
     "outputs": []
    }
   ],
   "metadata": {}
  }
 ]
}