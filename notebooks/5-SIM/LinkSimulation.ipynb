{
 "metadata": {
  "name": "",
  "signature": "sha256:f6d9d2c4c4a5169d490a783a32037c22e03f78352e0ef2942de037b575a0f592"
 },
 "nbformat": 3,
 "nbformat_minor": 0,
 "worksheets": [
  {
   "cells": [
    {
     "cell_type": "code",
     "collapsed": false,
     "input": [
      "from IPython.core.display import HTML\n",
      "\n",
      "def css_styling():\n",
      "    styles = open(\"../styles/custom.css\", \"r\").read()\n",
      "    return HTML(styles)\n",
      "css_styling()"
     ],
     "language": "python",
     "metadata": {},
     "outputs": [
      {
       "html": [
        "<style>\n",
        "    @font-face {\n",
        "        font-family: \"Computer Modern\";\n",
        "        src: url('http://mirrors.ctan.org/fonts/cm-unicode/fonts/otf/cmunss.otf');\n",
        "    }\n",
        "    div.cell{\n",
        "        width:800px;\n",
        "        margin-left:16% !important;\n",
        "        margin-right:auto;\n",
        "    }\n",
        "    h1 {\n",
        "        font-family: Helvetica, serif;\n",
        "    }\n",
        "    h4{\n",
        "        margin-top:12px;\n",
        "        margin-bottom: 3px;\n",
        "       }\n",
        "    div.text_cell_render{\n",
        "        font-family: Computer Modern, \"Helvetica Neue\", Arial, Helvetica, Geneva, sans-serif;\n",
        "        line-height: 145%;\n",
        "        font-size: 130%;\n",
        "        width:800px;\n",
        "        margin-left:auto;\n",
        "        margin-right:auto;\n",
        "    }\n",
        "    .CodeMirror{\n",
        "            font-family: \"Source Code Pro\", source-code-pro,Consolas, monospace;\n",
        "    }\n",
        "    .prompt{\n",
        "        display: None;\n",
        "    }\n",
        "    .text_cell_render h5 {\n",
        "        font-weight: 300;\n",
        "        font-size: 22pt;\n",
        "        color: #4057A1;\n",
        "        font-style: italic;\n",
        "        margin-bottom: .5em;\n",
        "        margin-top: 0.5em;\n",
        "        display: block;\n",
        "    }\n",
        "    \n",
        "    .warning{\n",
        "        color: rgb( 240, 20, 20 )\n",
        "        }  \n",
        "</style>\n",
        "<script>\n",
        "    MathJax.Hub.Config({\n",
        "                        TeX: {\n",
        "                           extensions: [\"AMSmath.js\"]\n",
        "                           },\n",
        "                tex2jax: {\n",
        "                    inlineMath: [ ['$','$'], [\"\\\\(\",\"\\\\)\"] ],\n",
        "                    displayMath: [ ['$$','$$'], [\"\\\\[\",\"\\\\]\"] ]\n",
        "                },\n",
        "                displayAlign: 'center', // Change this to 'center' to center equations.\n",
        "                \"HTML-CSS\": {\n",
        "                    styles: {'.MathJax_Display': {\"margin\": 4}}\n",
        "                }\n",
        "        });\n",
        "</script>"
       ],
       "output_type": "pyout",
       "prompt_number": 1,
       "text": [
        "<IPython.core.display.HTML at 0x2b0d35db3e10>"
       ]
      }
     ],
     "prompt_number": 1
    },
    {
     "cell_type": "code",
     "collapsed": false,
     "input": [
      "from pylayers.simul.link import * "
     ],
     "language": "python",
     "metadata": {},
     "outputs": [
      {
       "output_type": "stream",
       "stream": "stderr",
       "text": [
        "WARNING:traits.has_traits:DEPRECATED: traits.has_traits.wrapped_class, 'the 'implements' class advisor has been deprecated. Use the 'provides' class decorator.\n"
       ]
      },
      {
       "output_type": "display_data",
       "text": [
        "<matplotlib.figure.Figure at 0x2b0d5d406fd0>"
       ]
      }
     ],
     "prompt_number": 2
    },
    {
     "cell_type": "markdown",
     "metadata": {},
     "source": [
      "This notebook illustrates the [`link`](http://pylayers.github.io/pylayers/modules/pylayers.simul.link.html)  module. A `Dlink` is a deterministic (Single Input Single Output) SISO link"
     ]
    },
    {
     "cell_type": "code",
     "collapsed": false,
     "input": [
      "L=DLink()"
     ],
     "language": "python",
     "metadata": {},
     "outputs": [],
     "prompt_number": 3
    },
    {
     "cell_type": "markdown",
     "metadata": {},
     "source": [
      "The `repr` function provides information about the default link, which is stored in the  `hdf5` file. It should correspond to the default Layout. \n",
      "A link gathers various objects and information e.g \n",
      "+ Layout file \n",
      "+ Node a (first termination of the link)\n",
      "    + position \n",
      "    + antenna file \n",
      "    + antenna rotation matrix\n",
      "+ Node b (second termination of the link) \n",
      "    + position \n",
      "    + antenna file\n",
      "    + antenna rotation matrix\n",
      "+ Frequency range\n",
      "    + fmin\n",
      "    + fmax \n",
      "    + fstep"
     ]
    },
    {
     "cell_type": "code",
     "collapsed": false,
     "input": [
      "L"
     ],
     "language": "python",
     "metadata": {},
     "outputs": [
      {
       "output_type": "pyout",
       "prompt_number": 4,
       "text": [
        "filename: Links_0_defstr.ini.h5\n",
        "Link Parameters :\n",
        "------- --------\n",
        "Layout : defstr.ini\n",
        "\n",
        "Node a   \n",
        "------  \n",
        "position : [  766.00300113  1113.94747911     1.2       ]\n",
        "Antenna : S2R2.sh3\n",
        "Rotation matrice : \n",
        " [[ 1.  0.  0.]\n",
        " [ 0.  1.  0.]\n",
        " [ 0.  0.  1.]]\n",
        "\n",
        "Node b   \n",
        "------  \n",
        "position : [  766.00300113  1113.94747911     1.2       ]\n",
        "Antenna : S2R2.sh3\n",
        "Rotation matrice : \n",
        " [[ 1.  0.  0.]\n",
        " [ 0.  1.  0.]\n",
        " [ 0.  0.  1.]]\n",
        "\n",
        "Link evaluation information : \n",
        "----------------------------- \n",
        "distance :  0.000 m \n",
        "delay :  0.000 ns\n",
        "fmin (fGHz) : 2.0\n",
        "fmax (fGHz) : 11.0\n",
        "fstep (fGHz) : 0.05\n",
        " "
       ]
      }
     ],
     "prompt_number": 4
    },
    {
     "cell_type": "markdown",
     "metadata": {},
     "source": [
      "To evaluate a link there is the `eval` method"
     ]
    },
    {
     "cell_type": "code",
     "collapsed": false,
     "input": [
      "aktk=L.eval?"
     ],
     "language": "python",
     "metadata": {},
     "outputs": [],
     "prompt_number": 5
    },
    {
     "cell_type": "code",
     "collapsed": false,
     "input": [
      "aktk=L.eval(force=False, output=['sig','ray','Ct','H'],\n",
      "            si_algo='old',ra_ceil_height_meter=3,ra_number_mirror_cf=1)"
     ],
     "language": "python",
     "metadata": {},
     "outputs": [
      {
       "output_type": "stream",
       "stream": "stdout",
       "text": [
        "Signatures'> from 1_1_3 loaded\n",
        "Rays'> from 3_0_0 loaded"
       ]
      },
      {
       "output_type": "stream",
       "stream": "stdout",
       "text": [
        "\n",
        "Ctilde'> from 0_0_0 loaded"
       ]
      },
      {
       "output_type": "stream",
       "stream": "stdout",
       "text": [
        "\n",
        "Tchannel'> from 0_0_0_0_0_0_0 loaded\n"
       ]
      }
     ],
     "prompt_number": 6
    },
    {
     "cell_type": "markdown",
     "metadata": {},
     "source": [
      "The propagation channel (without antenna) can be vizualized on a ray by ray mode."
     ]
    },
    {
     "cell_type": "code",
     "collapsed": false,
     "input": [
      "#L._show3()"
     ],
     "language": "python",
     "metadata": {},
     "outputs": [],
     "prompt_number": 7
    },
    {
     "cell_type": "code",
     "collapsed": false,
     "input": [
      "C = L.C\n",
      "f,a = C.show(cmap='jet')"
     ],
     "language": "python",
     "metadata": {},
     "outputs": [
      {
       "output_type": "display_data",
       "png": "[encoded data removed]",
       "text": [
        "<matplotlib.figure.Figure at 0x2b0d60a83710>"
       ]
      }
     ],
     "prompt_number": 8
    },
    {
     "cell_type": "markdown",
     "metadata": {},
     "source": [
      "It is possible to look at individual ray transfer function, as illustrated below."
     ]
    },
    {
     "cell_type": "code",
     "collapsed": false,
     "input": [
      "C.Ctt.y.shape"
     ],
     "language": "python",
     "metadata": {},
     "outputs": [
      {
       "output_type": "pyout",
       "prompt_number": 9,
       "text": [
        "(200, 181)"
       ]
      }
     ],
     "prompt_number": 9
    },
    {
     "cell_type": "code",
     "collapsed": false,
     "input": [
      "ir = 0 \n",
      "plot(C.Ctt.x,abs(C.Ctt.y[ir,:]))\n",
      "xlabel('Frequency (GHz)')\n",
      "ylabel('Level (linear)')\n",
      "title('Modulus of the ray '+str(ir)+' transfer function') "
     ],
     "language": "python",
     "metadata": {},
     "outputs": [
      {
       "output_type": "pyout",
       "prompt_number": 10,
       "text": [
        "<matplotlib.text.Text at 0x2b0d60e086d0>"
       ]
      },
      {
       "output_type": "display_data",
       "png": "[encoded data removed]",
       "text": [
        "<matplotlib.figure.Figure at 0x2b0d60dcfe90>"
       ]
      }
     ],
     "prompt_number": 10
    },
    {
     "cell_type": "code",
     "collapsed": false,
     "input": [
      "ir = 30\n",
      "plot(C.Ctt.x,abs(C.Ctt.y[ir,:]))\n",
      "xlabel('Frequency (GHz)')\n",
      "ylabel('Level (linear)')\n",
      "title('Modulus of the ray '+str(ir)+' transfer function') "
     ],
     "language": "python",
     "metadata": {},
     "outputs": [
      {
       "output_type": "pyout",
       "prompt_number": 11,
       "text": [
        "<matplotlib.text.Text at 0x2b0d611b1850>"
       ]
      },
      {
       "output_type": "display_data",
       "png": "[encoded data removed]",
       "text": [
        "<matplotlib.figure.Figure at 0x2b0d61188c10>"
       ]
      }
     ],
     "prompt_number": 11
    },
    {
     "cell_type": "markdown",
     "metadata": {},
     "source": [
      "In the link we also have the transmission channel accounting for the effect of antennas and Friis factor. If the ray transfer function is scaled with $\\frac{4\\pi f}{c}$"
     ]
    },
    {
     "cell_type": "code",
     "collapsed": false,
     "input": [
      "plot(L.H.x,L.H.y[0,:]*4*np.pi*L.H.x/0.3)"
     ],
     "language": "python",
     "metadata": {},
     "outputs": [
      {
       "output_type": "stream",
       "stream": "stderr",
       "text": [
        "/home/uguen/anaconda/lib/python2.7/site-packages/numpy/core/numeric.py:460: ComplexWarning: Casting complex values to real discards the imaginary part\n",
        "  return array(a, dtype, copy=False, order=order)\n"
       ]
      },
      {
       "output_type": "pyout",
       "prompt_number": 12,
       "text": [
        "[<matplotlib.lines.Line2D at 0x2b0d6129af90>]"
       ]
      },
      {
       "output_type": "display_data",
       "png": "[encoded data removed]",
       "text": [
        "<matplotlib.figure.Figure at 0x2b0d6102a990>"
       ]
      }
     ],
     "prompt_number": 12
    },
    {
     "cell_type": "markdown",
     "metadata": {},
     "source": [
      "Notice that in this case the frequency "
     ]
    },
    {
     "cell_type": "markdown",
     "metadata": {},
     "source": [
      "The infinite bandwidth channel impulse response is plotted below from the extrated set $\\{\\alpha_k,\\tau_k\\}$. "
     ]
    },
    {
     "cell_type": "code",
     "collapsed": false,
     "input": [
      "stem(aktk[1],aktk[0])\n",
      "title('Infinite bandwith Channel Impulse response')\n",
      "xlabel('delay (ns)')\n",
      "ylabel('amplitude (linear scale')"
     ],
     "language": "python",
     "metadata": {},
     "outputs": [
      {
       "output_type": "pyout",
       "prompt_number": 13,
       "text": [
        "<matplotlib.text.Text at 0x2b0d612d3f50>"
       ]
      },
      {
       "output_type": "display_data",
       "png": "[encoded data removed]",
       "text": [
        "<matplotlib.figure.Figure at 0x2b0d611bba10>"
       ]
      }
     ],
     "prompt_number": 13
    },
    {
     "cell_type": "code",
     "collapsed": false,
     "input": [
      "import pylayers.simul.simulnet as sn\n",
      "import pylayers.simul.simultraj as st"
     ],
     "language": "python",
     "metadata": {},
     "outputs": [
      {
       "output_type": "display_data",
       "text": [
        "<matplotlib.figure.Figure at 0x2b0d61c08350>"
       ]
      }
     ],
     "prompt_number": 14
    },
    {
     "cell_type": "code",
     "collapsed": false,
     "input": [
      "S=sn.Simul()"
     ],
     "language": "python",
     "metadata": {},
     "outputs": [
      {
       "output_type": "stream",
       "stream": "stdout",
       "text": [
        "Layout graphs are loaded from  /home/uguen/Bureau/P1 /struc/ini\n"
       ]
      }
     ],
     "prompt_number": 15
    },
    {
     "cell_type": "code",
     "collapsed": false,
     "input": [
      "S.L"
     ],
     "language": "python",
     "metadata": {},
     "outputs": [
      {
       "output_type": "pyout",
       "prompt_number": 16,
       "text": [
        "\n",
        "----------------\n",
        "TA-Office.ini\n",
        "Image('/home/uguen/Bureau/P1/struc/images/DLR4991.png')\n",
        "----------------\n",
        "\n",
        "Number of points  : 71\n",
        "Number of segments  : 94\n",
        "Number of sub segments  : 16\n",
        "Number of cycles  : 25\n",
        "Number of rooms  : 17\n",
        "degree 0 : []\n",
        "degree 1 : []\n",
        "degree 2 : 39\n",
        "degree 3 : 32\n",
        "\n",
        "xrange :(0.0, 40.0)\n",
        "yrange :(0.0, 15.0)\n",
        "\n",
        "Useful dictionnaries\n",
        "----------------\n",
        "dca {cycle : []} cycle with an airwall\n",
        "sl {slab name : slab dictionary}\n",
        "name :  {slab :seglist} \n",
        "\n",
        "Useful arrays\n",
        "----------------\n",
        "tsg : get segment index in Gs from tahe\n",
        "isss :  sub-segment index above Nsmax\n",
        "tgs : get segment index in tahe from Gs\n",
        "lsss : list of segments with sub-segment\n",
        "sla : list of all slab names (Nsmax+Nss+1)\n",
        "degree : degree of nodes "
       ]
      }
     ],
     "prompt_number": 16
    },
    {
     "cell_type": "code",
     "collapsed": false,
     "input": [
      "S.runsimul()"
     ],
     "language": "python",
     "metadata": {},
     "outputs": [],
     "prompt_number": 17
    },
    {
     "cell_type": "code",
     "collapsed": false,
     "input": [
      "from pylayers.mobility.trajectory import *"
     ],
     "language": "python",
     "metadata": {},
     "outputs": [],
     "prompt_number": 18
    },
    {
     "cell_type": "markdown",
     "metadata": {},
     "source": [
      "A trajectories object is a list of trajectories. The loadh5 methods by default loads the file '.h5'\n",
      "generated by [`Simulnet`](http://pylayers.github.io/pylayers/modules/pylayers.simul.simulnet.html). "
     ]
    },
    {
     "cell_type": "code",
     "collapsed": false,
     "input": [
      "T=Trajectories()\n",
      "T.loadh5()"
     ],
     "language": "python",
     "metadata": {},
     "outputs": [],
     "prompt_number": 19
    },
    {
     "cell_type": "code",
     "collapsed": false,
     "input": [
      "T"
     ],
     "language": "python",
     "metadata": {},
     "outputs": [
      {
       "output_type": "pyout",
       "prompt_number": 20,
       "text": [
        "Trajectories performed in Layout : TA-Office.ini\n",
        "\n",
        "Trajectory of agent John with ID 1\n",
        "----------------------------------\n",
        "t (s) : 0.00 : 0.20 : 119.80\n",
        "dtot (m) : 432.24\n",
        "Vmoy (m/s) : 3.61\n",
        "                                    x         y        vx        vy        ax  \\\n",
        "t                                                                               \n",
        "1970-01-01 00:00:00         18.907750  2.528547  0.038749  0.155237  0.193744   \n",
        "1970-01-01 00:00:00.200000  18.921699  2.584433  0.069748  0.279427  0.154995   \n",
        "\n",
        "                                  ay      s  \n",
        "t                                            \n",
        "1970-01-01 00:00:00         0.776185  0.160  \n",
        "1970-01-01 00:00:00.200000  0.620948  0.448  \n",
        "\n",
        "[2 rows x 7 columns]\n",
        "\n",
        "Trajectory of agent Alex with ID 2\n",
        "----------------------------------\n",
        "t (s) : 0.00 : 0.20 : 119.80\n",
        "dtot (m) : 454.89\n",
        "Vmoy (m/s) : 3.80\n",
        "                                    x         y        vx        vy        ax  \\\n",
        "t                                                                               \n",
        "1970-01-01 00:00:00         29.706510  2.528831  0.032551  0.156654  0.162753   \n",
        "1970-01-01 00:00:00.200000  29.718228  2.585226  0.058591  0.281977  0.130202   \n",
        "\n",
        "                                  ay      s  \n",
        "t                                            \n",
        "1970-01-01 00:00:00         0.783270  0.160  \n",
        "1970-01-01 00:00:00.200000  0.626616  0.448  \n",
        "\n",
        "[2 rows x 7 columns]\n",
        "\n",
        "Access point Router with ID 6\n",
        "-----------------------------\n",
        "t (s) : 0.00\n",
        "Vmoy (m/s) : 0.0\n",
        "              x  y    z  vx  vy  ax  ay  s\n",
        "t                                         \n",
        "1970-01-01  0.5  2  2.5   0   0   0   0  0\n",
        "\n",
        "[1 rows x 8 columns]\n",
        "\n",
        "Access point Router with ID 7\n",
        "-----------------------------\n",
        "t (s) : 0.00\n",
        "Vmoy (m/s) : 0.0\n",
        "              x   y    z  vx  vy  ax  ay  s\n",
        "t                                          \n",
        "1970-01-01  0.7  14  2.5   0   0   0   0  0\n",
        "\n",
        "[1 rows x 8 columns]\n",
        "\n",
        "Access point Router with ID 8\n",
        "-----------------------------\n",
        "t (s) : 0.00\n",
        "Vmoy (m/s) : 0.0\n",
        "             x   y    z  vx  vy  ax  ay  s\n",
        "t                                         \n",
        "1970-01-01  39  13  2.5   0   0   0   0  0\n",
        "\n",
        "[1 rows x 8 columns]\n",
        "\n"
       ]
      }
     ],
     "prompt_number": 20
    },
    {
     "cell_type": "markdown",
     "metadata": {},
     "source": [
      "A SimulTraj object is derived from a trajectory calculated previously in simulnet and a body agent description. \n",
      "The Simultraj object get the trajectories from the `simultaj.ini` file."
     ]
    },
    {
     "cell_type": "code",
     "collapsed": false,
     "input": [
      "St=st.Simul(verbose=False)"
     ],
     "language": "python",
     "metadata": {},
     "outputs": [],
     "prompt_number": 21
    },
    {
     "cell_type": "code",
     "collapsed": false,
     "input": [
      "#St.run(t=list(np.arange(0,1,0.1)),OB=True,B2B=True,B2I=True)"
     ],
     "language": "python",
     "metadata": {},
     "outputs": [],
     "prompt_number": 22
    },
    {
     "cell_type": "code",
     "collapsed": false,
     "input": [
      "#St.data"
     ],
     "language": "python",
     "metadata": {},
     "outputs": [],
     "prompt_number": 23
    },
    {
     "cell_type": "markdown",
     "metadata": {},
     "source": [
      "Information about the simulated network is obtained "
     ]
    },
    {
     "cell_type": "code",
     "collapsed": false,
     "input": [
      "St.N"
     ],
     "language": "python",
     "metadata": {},
     "outputs": [
      {
       "output_type": "pyout",
       "prompt_number": 24,
       "text": [
        "Network information\n",
        "*******************\n",
        "number of nodes: 7\n",
        "ID      | name            |group   | type | position (x,y,z)  | wstd       \n",
        "---------------------------------------------------------------------------\n",
        "0_Alex  | cardio          |Alex    | ag   |   nan   nan   nan | [u'bluetooth-class2'] \n",
        "1_John  | Galaxy Gear     |John    | ag   |   nan   nan   nan | [u'bluetooth-class2'] \n",
        "7       | Router          |ap      | ap   |  0.70 14.00  2.50 | [u'ieee80211b', u'ieee80211a'] \n",
        "6       | Router          |ap      | ap   |  0.50  2.00  2.50 | [u'ieee80211b', u'ieee80211a'] \n",
        "8       | Router          |ap      | ap   | 39.00 13.00  2.50 | [u'ieee80211b', u'ieee80211a'] \n",
        "1_Alex  | Galaxy Gear     |Alex    | ag   |   nan   nan   nan | [u'bluetooth-class2'] \n",
        "0_John  | cardio          |John    | ag   |   nan   nan   nan | [u'bluetooth-class2'] "
       ]
      }
     ],
     "prompt_number": 24
    },
    {
     "cell_type": "code",
     "collapsed": false,
     "input": [
      "#St._show3()"
     ],
     "language": "python",
     "metadata": {},
     "outputs": [],
     "prompt_number": 25
    },
    {
     "cell_type": "code",
     "collapsed": false,
     "input": [
      "#St.data.head()\n"
     ],
     "language": "python",
     "metadata": {},
     "outputs": [],
     "prompt_number": 26
    },
    {
     "cell_type": "code",
     "collapsed": false,
     "input": [
      "#ak,tk,ek=St._loadh5(2,'0_Alex','1_Alex','bluetooth-class2')"
     ],
     "language": "python",
     "metadata": {},
     "outputs": [],
     "prompt_number": 27
    },
    {
     "cell_type": "code",
     "collapsed": false,
     "input": [
      "#stem(tk,ak)"
     ],
     "language": "python",
     "metadata": {},
     "outputs": [],
     "prompt_number": 28
    }
   ],
   "metadata": {}
  }
 ]
}