{
 "metadata": {
  "name": "",
  "signature": "sha256:c584c38a72c5710745906c6380817ea15b819dab3e26ae65a215fdd52a545c3b"
 },
 "nbformat": 3,
 "nbformat_minor": 0,
 "worksheets": [
  {
   "cells": [
    {
     "cell_type": "code",
     "collapsed": false,
     "input": [
      "from pylayers.signal.bsignal import *\n",
      "import numpy as np"
     ],
     "language": "python",
     "metadata": {},
     "outputs": [
      {
       "output_type": "display_data",
       "text": [
        "<matplotlib.figure.Figure at 0x86c6650>"
       ]
      }
     ],
     "prompt_number": 1
    },
    {
     "cell_type": "code",
     "collapsed": false,
     "input": [
      "taumin  = 0\n",
      "taumax  = 150\n",
      "taustep = 0.1\n",
      "x = np.arange(taumin,taumax,taustep)\n",
      "y = np.zeros(len(x))"
     ],
     "language": "python",
     "metadata": {},
     "outputs": [],
     "prompt_number": 2
    },
    {
     "cell_type": "code",
     "collapsed": false,
     "input": [
      "CIRa=TUsignal(x,y)\n",
      "CIRa"
     ],
     "language": "python",
     "metadata": {},
     "outputs": [
      {
       "output_type": "pyout",
       "prompt_number": 3,
       "text": [
        "TUsignal :  (1500,)  (1500,)"
       ]
      }
     ],
     "prompt_number": 3
    },
    {
     "cell_type": "code",
     "collapsed": true,
     "input": [
      "CIRa.y"
     ],
     "language": "python",
     "metadata": {},
     "outputs": [
      {
       "output_type": "pyout",
       "prompt_number": 4,
       "text": [
        "array([ 0.,  0.,  0., ...,  0.,  0.,  0.])"
       ]
      }
     ],
     "prompt_number": 4
    },
    {
     "cell_type": "code",
     "collapsed": false,
     "input": [
      "len(np.shape(CIRa.y))"
     ],
     "language": "python",
     "metadata": {},
     "outputs": [
      {
       "output_type": "pyout",
       "prompt_number": 5,
       "text": [
        "1"
       ]
      }
     ],
     "prompt_number": 5
    },
    {
     "cell_type": "code",
     "collapsed": false,
     "input": [
      "CIRa.plot(typ='v')"
     ],
     "language": "python",
     "metadata": {},
     "outputs": [
      {
       "output_type": "pyout",
       "prompt_number": 6,
       "text": [
        "(<matplotlib.figure.Figure at 0x977f650>,\n",
        " array([[<matplotlib.axes.AxesSubplot object at 0x977fe50>]], dtype=object))"
       ]
      },
      {
       "output_type": "display_data",
       "png": "[encoded data removed]",
       "text": [
        "<matplotlib.figure.Figure at 0x977f650>"
       ]
      }
     ],
     "prompt_number": 6
    },
    {
     "cell_type": "code",
     "collapsed": false,
     "input": [
      "def aggcir(CIRa,alphak,tauk):\n",
      "    \"\"\" aggregation of CIR from (alphak,tauk)\n",
      "    \n",
      "    Parameters\n",
      "    ----------\n",
      "    \n",
      "    alphak : float\n",
      "        CIR path amplitude\n",
      "    tauk : float\n",
      "        CIR delay values\n",
      "        \n",
      "    \"\"\"\n",
      "    shy = np.shape(CIRa.y)\n",
      "    x = CIRa.x\n",
      "    eps = (x[1]-x[0])/2\n",
      "    u = map(lambda t: np.where( (x>t-eps) & (x<=t+eps))[0][0],tauk)\n",
      "    ynew  = np.zeros(len(x))\n",
      "    ynew[u] = alphak\n",
      "    if len(shy)>1:\n",
      "       CIRa.y = np.vstack((CIRa.y,ynew))\n",
      "    else:\n",
      "       CIRa.y = ynew[np.newaxis,:]\n",
      "        \n",
      "    return(CIRa)"
     ],
     "language": "python",
     "metadata": {},
     "outputs": [],
     "prompt_number": 7
    },
    {
     "cell_type": "code",
     "collapsed": false,
     "input": [
      "N = 7\n",
      "Ntrial = 100\n",
      "for i in range(Ntrial):\n",
      "    alphak = 10*np.random.rand(N)\n",
      "    tauk   = taumax *np.random.rand(N)\n",
      "    CIRa=aggcir(CIRa,alphak,tauk)"
     ],
     "language": "python",
     "metadata": {},
     "outputs": [],
     "prompt_number": 8
    },
    {
     "cell_type": "code",
     "collapsed": false,
     "input": [
      "np.shape(CIRa.y)"
     ],
     "language": "python",
     "metadata": {},
     "outputs": [
      {
       "output_type": "pyout",
       "prompt_number": 9,
       "text": [
        "(100, 1500)"
       ]
      }
     ],
     "prompt_number": 9
    },
    {
     "cell_type": "code",
     "collapsed": false,
     "input": [
      "plot(CIRa.y[0,:])"
     ],
     "language": "python",
     "metadata": {},
     "outputs": [
      {
       "output_type": "pyout",
       "prompt_number": 10,
       "text": [
        "[<matplotlib.lines.Line2D at 0x2aab8c535990>]"
       ]
      },
      {
       "output_type": "display_data",
       "png": "[encoded data removed]",
       "text": [
        "<matplotlib.figure.Figure at 0x2aab8c117850>"
       ]
      }
     ],
     "prompt_number": 10
    },
    {
     "cell_type": "code",
     "collapsed": false,
     "input": [
      "alphak = 10*np.random.rand(N)\n",
      "tauk   = taumax *np.random.rand(N)\n",
      "CIRa=aggcir(CIRa,alphak,tauk)"
     ],
     "language": "python",
     "metadata": {},
     "outputs": [],
     "prompt_number": 11
    },
    {
     "cell_type": "code",
     "collapsed": false,
     "input": [
      "np.shape(CIRa.y)"
     ],
     "language": "python",
     "metadata": {},
     "outputs": [
      {
       "output_type": "pyout",
       "prompt_number": 12,
       "text": [
        "(101, 1500)"
       ]
      }
     ],
     "prompt_number": 12
    },
    {
     "cell_type": "code",
     "collapsed": false,
     "input": [
      "plot(CIRa.y[0,:])"
     ],
     "language": "python",
     "metadata": {},
     "outputs": [
      {
       "output_type": "pyout",
       "prompt_number": 13,
       "text": [
        "[<matplotlib.lines.Line2D at 0x2aab8c56ae50>]"
       ]
      },
      {
       "output_type": "display_data",
       "png": "[encoded data removed]",
       "text": [
        "<matplotlib.figure.Figure at 0x2aab8c54be90>"
       ]
      }
     ],
     "prompt_number": 13
    },
    {
     "cell_type": "code",
     "collapsed": false,
     "input": [
      "imshow(CIRa.y)\n",
      "axis('tight')\n"
     ],
     "language": "python",
     "metadata": {},
     "outputs": [
      {
       "output_type": "pyout",
       "prompt_number": 14,
       "text": [
        "(-0.5, 1499.5, 100.5, -0.5)"
       ]
      },
      {
       "output_type": "display_data",
       "png": "[encoded data removed]",
       "text": [
        "<matplotlib.figure.Figure at 0x99d4750>"
       ]
      }
     ],
     "prompt_number": 14
    }
   ],
   "metadata": {}
  }
 ]
}