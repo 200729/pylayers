{
 "metadata": {
  "name": "",
  "signature": "sha256:142bcd0fc3e57b7160d3e8c0925ac9e5aa84e6ccdd7ee695b9554ddea3d800e4"
 },
 "nbformat": 3,
 "nbformat_minor": 0,
 "worksheets": [
  {
   "cells": [
    {
     "cell_type": "code",
     "collapsed": false,
     "input": [
      "from IPython.core.display import HTML\n",
      "\n",
      "def css_styling():\n",
      "    styles = open(\"../styles/custom.css\", \"r\").read()\n",
      "    return HTML(styles)\n",
      "css_styling()"
     ],
     "language": "python",
     "metadata": {},
     "outputs": [
      {
       "html": [
        "<style>\n",
        "    @font-face {\n",
        "        font-family: \"Computer Modern\";\n",
        "        src: url('http://mirrors.ctan.org/fonts/cm-unicode/fonts/otf/cmunss.otf');\n",
        "    }\n",
        "    div.cell{\n",
        "        width:800px;\n",
        "        margin-left:16% !important;\n",
        "        margin-right:auto;\n",
        "    }\n",
        "    h1 {\n",
        "        font-family: Helvetica, serif;\n",
        "    }\n",
        "    h4{\n",
        "        margin-top:12px;\n",
        "        margin-bottom: 3px;\n",
        "       }\n",
        "    div.text_cell_render{\n",
        "        font-family: Computer Modern, \"Helvetica Neue\", Arial, Helvetica, Geneva, sans-serif;\n",
        "        line-height: 145%;\n",
        "        font-size: 130%;\n",
        "        width:800px;\n",
        "        margin-left:auto;\n",
        "        margin-right:auto;\n",
        "    }\n",
        "    .CodeMirror{\n",
        "            font-family: \"Source Code Pro\", source-code-pro,Consolas, monospace;\n",
        "    }\n",
        "    .prompt{\n",
        "        display: None;\n",
        "    }\n",
        "    .text_cell_render h5 {\n",
        "        font-weight: 300;\n",
        "        font-size: 22pt;\n",
        "        color: #4057A1;\n",
        "        font-style: italic;\n",
        "        margin-bottom: .5em;\n",
        "        margin-top: 0.5em;\n",
        "        display: block;\n",
        "    }\n",
        "    \n",
        "    .warning{\n",
        "        color: rgb( 240, 20, 20 )\n",
        "        }  \n",
        "</style>\n",
        "<script>\n",
        "    MathJax.Hub.Config({\n",
        "                        TeX: {\n",
        "                           extensions: [\"AMSmath.js\"]\n",
        "                           },\n",
        "                tex2jax: {\n",
        "                    inlineMath: [ ['$','$'], [\"\\\\(\",\"\\\\)\"] ],\n",
        "                    displayMath: [ ['$$','$$'], [\"\\\\[\",\"\\\\]\"] ]\n",
        "                },\n",
        "                displayAlign: 'center', // Change this to 'center' to center equations.\n",
        "                \"HTML-CSS\": {\n",
        "                    styles: {'.MathJax_Display': {\"margin\": 4}}\n",
        "                }\n",
        "        });\n",
        "</script>\n"
       ],
       "metadata": {},
       "output_type": "pyout",
       "prompt_number": 6,
       "text": [
        "<IPython.core.display.HTML at 0x7ffea40bde50>"
       ]
      }
     ],
     "prompt_number": 6
    },
    {
     "cell_type": "heading",
     "level": 2,
     "metadata": {},
     "source": [
      "1-GIS"
     ]
    },
    {
     "cell_type": "markdown",
     "metadata": {},
     "source": [
      "+ [Layout](1-GIS/Layout.ipynb)\n",
      "+ [Layout Editor](1-GIS/LayoutEditor.ipynb)\n",
      "+ [Multi SubSegments](1-GIS/Multisubsegments.ipynb)"
     ]
    },
    {
     "cell_type": "heading",
     "level": 2,
     "metadata": {},
     "source": [
      "2-AP"
     ]
    },
    {
     "cell_type": "markdown",
     "metadata": {},
     "source": [
      "+ [Antenna](2-AP/Antenna.ipynb)\n",
      "+ [AntennaSSH](2-AP/AntennaSSH.ipynb)\n",
      "+ [AntennaVSH](2-AP/AntennaVSH.ipynb)\n",
      "+ [SlabsMaterials](2-AP/SlabsMaterials.ipynb)\n",
      "+ [Coverage](2-AP/Coverage.ipynb)\n",
      "+ [Signatures](2-AP/Signatures.ipynb)\n",
      "+ [MultiWall](2-AP/MultiWall.ipynb)\n",
      "+ [Channel](2-AP/Channel.ipynb)"
     ]
    },
    {
     "cell_type": "heading",
     "level": 2,
     "metadata": {},
     "source": [
      "3-PHY"
     ]
    },
    {
     "cell_type": "markdown",
     "metadata": {},
     "source": [
      "+ [Bsignal](3-PHY/Bsignal.ipynb)"
     ]
    },
    {
     "cell_type": "heading",
     "level": 2,
     "metadata": {},
     "source": [
      "4-Mob"
     ]
    },
    {
     "cell_type": "markdown",
     "metadata": {},
     "source": [
      "+ [Mobility](4-MOB/Mobility.ipynb)"
     ]
    },
    {
     "cell_type": "heading",
     "level": 2,
     "metadata": {},
     "source": [
      "5-Sim"
     ]
    },
    {
     "cell_type": "code",
     "collapsed": false,
     "input": [
      "!ls 5-SIM/*.ipynb"
     ],
     "language": "python",
     "metadata": {},
     "outputs": [
      {
       "output_type": "stream",
       "stream": "stdout",
       "text": [
        "5-SIM/AggregatedCIR.ipynb  5-SIM/DLR-WHERE2.ipynb  5-SIM/LinkSimulation.ipynb  5-SIM/PTIN.ipynb  5-SIM/SimulNetConfig.ipynb  5-SIM/Where1M1.ipynb  5-SIM/WHERE1-M1.ipynb\r\n"
       ]
      }
     ],
     "prompt_number": 12
    },
    {
     "cell_type": "markdown",
     "metadata": {},
     "source": [
      "+ [Simulnet Configuation](5-SIM/SimulNetConfig.ipynb)\n",
      "+ [Link Simulations](5-SIM/LinkSimulation.ipynb)\n",
      "+ [DLR WHERE2 Scenario](5-SIM/DLR-WHERE2.ipynb)\n",
      "+ [PTIN WHERE2 Scenario](5-SIM/PTIN.ipynb)\n",
      "+ [WHERE1 - M1 Scenario](5-SIM/WHERE1-M1.ipynb)\n",
      "+ [WHERE1 - M1 Scenario (bis)](5-SIM/Where1M1.ipynb)\n",
      "+ [Aggegated CIR](5-SIM/AggregatedCIR.ipynb)"
     ]
    },
    {
     "cell_type": "heading",
     "level": 2,
     "metadata": {},
     "source": [
      "6-Net"
     ]
    },
    {
     "cell_type": "heading",
     "level": 2,
     "metadata": {},
     "source": [
      "7-App"
     ]
    },
    {
     "cell_type": "heading",
     "level": 2,
     "metadata": {},
     "source": [
      "8-Sim"
     ]
    }
   ],
   "metadata": {}
  }
 ]
}