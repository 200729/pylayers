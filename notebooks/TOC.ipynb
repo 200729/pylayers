{
 "metadata": {
  "name": "",
  "signature": "sha256:142bcd0fc3e57b7160d3e8c0925ac9e5aa84e6ccdd7ee695b9554ddea3d800e4"
 },
 "nbformat": 3,
 "nbformat_minor": 0,
 "worksheets": [
  {
   "cells": [
    {
     "cell_type": "code",
     "collapsed": false,
     "input": [
      "from IPython.core.display import HTML\n",
      "\n",
      "def css_styling():\n",
      "    styles = open(\"../styles/custom.css\", \"r\").read()\n",
      "    return HTML(styles)\n",
      "css_styling()"
     ],
     "language": "python",
     "metadata": {},
     "outputs": [],
     "prompt_number": 6
    },
    {
     "cell_type": "heading",
     "level": 2,
     "metadata": {},
     "source": [
      "1-GIS"
     ]
    },
    {
     "cell_type": "markdown",
     "metadata": {},
     "source": [
      "+ [Layout](1-GIS/Layout.ipynb)\n",
      "+ [Layout Editor](1-GIS/LayoutEditor.ipynb)\n",
      "+ [Multi SubSegments](1-GIS/Multisubsegments.ipynb)"
     ]
    },
    {
     "cell_type": "heading",
     "level": 2,
     "metadata": {},
     "source": [
      "2-AP"
     ]
    },
    {
     "cell_type": "markdown",
     "metadata": {},
     "source": [
      "+ [Antenna](2-AP/Antenna.ipynb)\n",
      "+ [AntennaSSH](2-AP/AntennaSSH.ipynb)\n",
      "+ [AntennaVSH](2-AP/AntennaVSH.ipynb)\n",
      "+ [SlabsMaterials](2-AP/SlabsMaterials.ipynb)\n",
      "+ [Coverage](2-AP/Coverage.ipynb)\n",
      "+ [Signatures](2-AP/Signatures.ipynb)\n",
      "+ [MultiWall](2-AP/MultiWall.ipynb)\n",
      "+ [Channel](2-AP/Channel.ipynb)"
     ]
    },
    {
     "cell_type": "heading",
     "level": 2,
     "metadata": {},
     "source": [
      "3-PHY"
     ]
    },
    {
     "cell_type": "markdown",
     "metadata": {},
     "source": [
      "+ [Bsignal](3-PHY/Bsignal.ipynb)"
     ]
    },
    {
     "cell_type": "heading",
     "level": 2,
     "metadata": {},
     "source": [
      "4-Mob"
     ]
    },
    {
     "cell_type": "markdown",
     "metadata": {},
     "source": [
      "+ [Mobility](4-MOB/Mobility.ipynb)"
     ]
    },
    {
     "cell_type": "heading",
     "level": 2,
     "metadata": {},
     "source": [
      "5-Sim"
     ]
    },
    {
     "cell_type": "code",
     "collapsed": false,
     "input": [
      "!ls 5-SIM/*.ipynb"
     ],
     "language": "python",
     "metadata": {},
     "outputs": [],
     "prompt_number": 12
    },
    {
     "cell_type": "markdown",
     "metadata": {},
     "source": [
      "+ [Simulnet Configuation](5-SIM/SimulNetConfig.ipynb)\n",
      "+ [Link Simulations](5-SIM/LinkSimulation.ipynb)\n",
      "+ [DLR WHERE2 Scenario](5-SIM/DLR-WHERE2.ipynb)\n",
      "+ [PTIN WHERE2 Scenario](5-SIM/PTIN.ipynb)\n",
      "+ [WHERE1 - M1 Scenario](5-SIM/WHERE1-M1.ipynb)\n",
      "+ [WHERE1 - M1 Scenario (bis)](5-SIM/Where1M1.ipynb)\n",
      "+ [Aggegated CIR](5-SIM/AggregatedCIR.ipynb)"
     ]
    },
    {
     "cell_type": "heading",
     "level": 2,
     "metadata": {},
     "source": [
      "6-Net"
     ]
    },
    {
     "cell_type": "heading",
     "level": 2,
     "metadata": {},
     "source": [
      "7-App"
     ]
    },
    {
     "cell_type": "heading",
     "level": 2,
     "metadata": {},
     "source": [
      "8-Sim"
     ]
    }
   ],
   "metadata": {}
  }
 ]
}
