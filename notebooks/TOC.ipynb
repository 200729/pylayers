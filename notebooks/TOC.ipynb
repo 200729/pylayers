{
 "metadata": {
  "name": "",
  "signature": "sha256:7712482dfba6002728ce8fe807fbc88103e8a3b899c53a637ca2df03ab8304ff"
 },
 "nbformat": 3,
 "nbformat_minor": 0,
 "worksheets": [
  {
   "cells": [
    {
     "cell_type": "code",
     "collapsed": false,
     "input": [
      "from IPython.core.display import HTML\n",
      "\n",
      "def css_styling():\n",
      "    styles = open(\"../styles/custom.css\", \"r\").read()\n",
      "    return HTML(styles)\n",
      "css_styling()"
     ],
     "language": "python",
     "metadata": {},
     "outputs": [],
     "prompt_number": 6
    },
    {
     "cell_type": "heading",
     "level": 1,
     "metadata": {},
     "source": [
      "PyLayers Overview"
     ]
    },
    {
     "cell_type": "heading",
     "level": 2,
     "metadata": {},
     "source": [
      "Geographical Information "
     ]
    },
    {
     "cell_type": "markdown",
     "metadata": {},
     "source": [
      "+ [Description of Building Layouts](1-GIS/Layout.ipynb)\n",
      "+ [Editing a Layout](1-GIS/LayoutEditor.ipynb)\n",
      "+ [Effects of changing constitutive properties of a Layout](1-GIS/Multisubsegments.ipynb)\n",
      "+ [Handling of Geographical Data: The Earth Zone class](1-GIS/Ezone.ipynb)"
     ]
    },
    {
     "cell_type": "heading",
     "level": 2,
     "metadata": {},
     "source": [
      "Antenna and Propagation"
     ]
    },
    {
     "cell_type": "heading",
     "level": 3,
     "metadata": {},
     "source": [
      "Antennas"
     ]
    },
    {
     "cell_type": "markdown",
     "metadata": {},
     "source": [
      "+ [Description of Antennas](2-AP/Antenna.ipynb)\n",
      "+ [Scalar Spherical Harmonics Representation](2-AP/AntennaSSH.ipynb)\n",
      "+ [Vector Spherical Harmonics Representation](2-AP/AntennaVSH.ipynb)"
     ]
    },
    {
     "cell_type": "heading",
     "level": 3,
     "metadata": {},
     "source": [
      "Slabs and Materials"
     ]
    },
    {
     "cell_type": "markdown",
     "metadata": {},
     "source": [
      "\n",
      "+ [SlabsMaterials](2-AP/SlabsMaterials.ipynb)\n"
     ]
    },
    {
     "cell_type": "heading",
     "level": 3,
     "metadata": {},
     "source": [
      "MultiWall model"
     ]
    },
    {
     "cell_type": "markdown",
     "metadata": {},
     "source": [
      "+ [Coverage](2-AP/Coverage.ipynb)\n",
      "+ [MultiWall](2-AP/MultiWall.ipynb)"
     ]
    },
    {
     "cell_type": "heading",
     "level": 3,
     "metadata": {},
     "source": [
      "Signatures and Rays"
     ]
    },
    {
     "cell_type": "markdown",
     "metadata": {},
     "source": [
      "+ [The Ray Signatures](2-AP/Signatures.ipynb)\n",
      "\n",
      "+ [The transmission Channel](2-AP/Channel.ipynb)"
     ]
    },
    {
     "cell_type": "heading",
     "level": 2,
     "metadata": {},
     "source": [
      "Handling time domain signals"
     ]
    },
    {
     "cell_type": "markdown",
     "metadata": {},
     "source": [
      "+ [The Bsignal Class](3-PHY/Bsignal.ipynb)"
     ]
    },
    {
     "cell_type": "heading",
     "level": 2,
     "metadata": {},
     "source": [
      "Human Mobility"
     ]
    },
    {
     "cell_type": "markdown",
     "metadata": {},
     "source": [
      "+ [Simulnet Configuation](5-SIM/SimulNetConfig.ipynb)\n",
      "+ [Large scale mobility `simulnet`](4-MOB/Mobility.ipynb)\n",
      "\n",
      "+ [Body scale mobility ](4-MOB/Body.ipynb)"
     ]
    },
    {
     "cell_type": "heading",
     "level": 2,
     "metadata": {},
     "source": [
      "Ray Tracing Simulation Examples"
     ]
    },
    {
     "cell_type": "markdown",
     "metadata": {},
     "source": [
      "+ [CorSer Manual](5-SIM/CorSer Manual.ipynb)\n",
      "+ [Link Simulations](5-SIM/LinkSimulation.ipynb)\n",
      "+ [DLR WHERE2 Scenario](5-SIM/DLR-WHERE2.ipynb)\n",
      "+ [PTIN WHERE2 Scenario](5-SIM/PTIN.ipynb)\n",
      "+ [WHERE1 - M1 Scenario](5-SIM/WHERE1-M1.ipynb)\n",
      "+ [WHERE1 - M1 Scenario (bis)](5-SIM/Where1M1.ipynb)\n",
      "+ [Aggregated CIR](5-SIM/AggregatedCIR.ipynb)"
     ]
    },
    {
     "cell_type": "heading",
     "level": 2,
     "metadata": {},
     "source": [
      "PyLayers Classes and Tools"
     ]
    },
    {
     "cell_type": "markdown",
     "metadata": {},
     "source": [
      "+ [The Cone class](8-MISC/Cone.ipynb)\n",
      "+ [Geometrical Utility Functions](8-MISC/Geomutil.ipynb)"
     ]
    },
    {
     "cell_type": "heading",
     "level": 2,
     "metadata": {},
     "source": [
      "PyLayers Related Presentations"
     ]
    },
    {
     "cell_type": "code",
     "collapsed": false,
     "input": [
      "+ []()"
     ],
     "language": "python",
     "metadata": {},
     "outputs": []
    }
   ],
   "metadata": {}
  }
 ]
}