{
 "metadata": {
  "name": ""
 },
 "nbformat": 3,
 "nbformat_minor": 0,
 "worksheets": [
  {
   "cells": [
    {
     "cell_type": "code",
     "collapsed": true,
     "input": [
      "#import mplrc.ieee.transaction\n",
      "from pylayers.antprop.slab import *\n",
      "from pylayers.util.project import *\n",
      "import numpy as np"
     ],
     "language": "python",
     "metadata": {},
     "outputs": [],
     "prompt_number": 44
    },
    {
     "cell_type": "markdown",
     "metadata": {},
     "source": [
      "We load both a slab file and the corresponding mat file. Be careful the material which are used in the slab file should be avilable in the mat file. \n",
      "It could be intersting to check the consistency of those two files. "
     ]
    },
    {
     "cell_type": "code",
     "collapsed": true,
     "input": [
      "sl=SlabDB('matDB.ini','slabDB.ini')\n",
      "fGHz= 2.4"
     ],
     "language": "python",
     "metadata": {},
     "outputs": [],
     "prompt_number": 45
    },
    {
     "cell_type": "markdown",
     "metadata": {},
     "source": [
      "The correspondance between an integer and the name of the available slabs is available in sl.di dictionnary "
     ]
    },
    {
     "cell_type": "code",
     "collapsed": false,
     "input": [
      "sl.di"
     ],
     "language": "python",
     "metadata": {},
     "outputs": [],
     "prompt_number": 46
    },
    {
     "cell_type": "markdown",
     "metadata": {},
     "source": [
      "The material database is a member of the slab , and as precedently there is a dictionnary available in order to store the association between a mat id \n",
      "and the material name. "
     ]
    },
    {
     "cell_type": "code",
     "collapsed": true,
     "input": [
      "mat = sl.mat"
     ],
     "language": "python",
     "metadata": {},
     "outputs": [],
     "prompt_number": 47
    },
    {
     "cell_type": "code",
     "collapsed": false,
     "input": [
      "mat.di "
     ],
     "language": "python",
     "metadata": {},
     "outputs": [],
     "prompt_number": 48
    },
    {
     "cell_type": "markdown",
     "metadata": {},
     "source": [
      "It is posssible to easily define individual materials"
     ]
    },
    {
     "cell_type": "code",
     "collapsed": true,
     "input": [
      "lmat    = ['BRICK','AIR','BRICK']\n",
      "lthick = [0.01,0.1,0.01]"
     ],
     "language": "python",
     "metadata": {},
     "outputs": [],
     "prompt_number": 49
    },
    {
     "cell_type": "code",
     "collapsed": true,
     "input": [
      "theta  = arange(0,pi/2,0.01,dtype=float64)"
     ],
     "language": "python",
     "metadata": {},
     "outputs": [],
     "prompt_number": 50
    },
    {
     "cell_type": "code",
     "collapsed": true,
     "input": [
      "sl.add('placo',lmat,lthick)"
     ],
     "language": "python",
     "metadata": {},
     "outputs": [],
     "prompt_number": 51
    },
    {
     "cell_type": "code",
     "collapsed": true,
     "input": [
      "sl['placo'].ev(fGHz,theta)"
     ],
     "language": "python",
     "metadata": {},
     "outputs": [],
     "prompt_number": 52
    },
    {
     "cell_type": "code",
     "collapsed": false,
     "input": [
      "figsize(8,8)\n",
      "f,a=sl['placo'].plotwrt('a')"
     ],
     "language": "python",
     "metadata": {},
     "outputs": [],
     "prompt_number": 53
    },
    {
     "cell_type": "code",
     "collapsed": false,
     "input": [
      "fGHz   = arange(0.4,8.3,0.1)\n",
      "f,a=sl['placo'].plotwrt('f')"
     ],
     "language": "python",
     "metadata": {},
     "outputs": [],
     "prompt_number": 54
    },
    {
     "cell_type": "code",
     "collapsed": false,
     "input": [
      "sl['placo'].pcolor()"
     ],
     "language": "python",
     "metadata": {},
     "outputs": [],
     "prompt_number": 55
    },
    {
     "cell_type": "markdown",
     "metadata": {},
     "source": [
      "This example is described page 90 in the thesis \"Simulation du canal de propagation\n",
      "indoor \" by Cyril Humbert "
     ]
    },
    {
     "cell_type": "code",
     "collapsed": true,
     "input": [
      "lmat    = ['PLATRE-57GHz','AIR','PLATRE-57GHz']\n",
      "lthick = [0.018,0.03,0.018]\n",
      "sl.add('Humbert',lmat,lthick)\n",
      "fGHz = array([57.5])"
     ],
     "language": "python",
     "metadata": {},
     "outputs": [],
     "prompt_number": 35
    },
    {
     "cell_type": "markdown",
     "metadata": {},
     "source": [
      "This example can be found in the PhD Thesis document of Cyril Humbert humb03.pdf page 96 "
     ]
    },
    {
     "cell_type": "code",
     "collapsed": false,
     "input": [
      "sl['Humbert'].ev(fGHz,theta)\n",
      "sl['Humbert'].plotwrt('a')"
     ],
     "language": "python",
     "metadata": {},
     "outputs": [],
     "prompt_number": 37
    },
    {
     "cell_type": "heading",
     "level": 2,
     "metadata": {},
     "source": [
      "Time Compensation "
     ]
    },
    {
     "cell_type": "code",
     "collapsed": false,
     "input": [
      "sl = SlabDB()\n",
      "\n",
      "sl.mat.add(name='TESS-p50',cval=3+0j,sigma=0.06,typ='epsr')\n",
      "\n",
      "sl.add(name='TESS-p50-5cm',lname=['TESS-p50'],lthick=[0.05])\n",
      "sl.add(name='TESS-p50-10cm',lname=['TESS-p50'],lthick=[0.10])\n",
      "sl.add(name='TESS-p50-15cm',lname=['TESS-p50'],lthick=[0.15])\n"
     ],
     "language": "python",
     "metadata": {},
     "outputs": [],
     "prompt_number": 38
    },
    {
     "cell_type": "code",
     "collapsed": false,
     "input": [
      "# These Tessereau page 50 \n",
      "\n",
      "fGHz=4\n",
      "theta = np.arange(0,pi/2,0.01)\n",
      "\n",
      "sl['TESS-p50-5cm'].ev(fGHz,theta,compensate=True)\n",
      "sl['TESS-p50-10cm'].ev(fGHz,theta,compensate=True)\n",
      "sl['TESS-p50-15cm'].ev(fGHz,theta,compensate=True)"
     ],
     "language": "python",
     "metadata": {},
     "outputs": [],
     "prompt_number": 39
    },
    {
     "cell_type": "code",
     "collapsed": false,
     "input": [
      "# by default var='a' and kv = 0 \n",
      "fig,ax = sl['TESS-p50-5cm'].plotwrt(color='k',ncol=2,nlin=2,labels=[''])\n",
      "fig,ax = sl['TESS-p50-10cm'].plotwrt(color='k',ncol=2,nlin=2,labels=[''],linestyle='dashed',fig=fig,ax=ax)\n",
      "fig,ax = sl['TESS-p50-15cm'].plotwrt(color='k',ncol=2,nlin=2,labels=[''],linestyle='dashdot',fig=fig,ax=ax)\n"
     ],
     "language": "python",
     "metadata": {},
     "outputs": [],
     "prompt_number": 40
    },
    {
     "cell_type": "code",
     "collapsed": false,
     "input": [
      "fGHz = np.arange(2,16,0.1)\n",
      "theta = 0 \n",
      "\n",
      "sl['TESS-p50-5cm'].ev(fGHz,theta,compensate=False)\n",
      "sl['TESS-p50-10cm'].ev(fGHz,theta,compensate=False)\n",
      "sl['TESS-p50-15cm'].ev(fGHz,theta,compensate=False)\n",
      "    \n",
      "fig,ax = sl['TESS-p50-5cm'].plotwrt('f',coeff='T',types=['ru'],labels=[''],color='k')\n",
      "fig,ax = sl['TESS-p50-10cm'].plotwrt('f',coeff='T',types=['ru'],labels=[''],color='k',linestyle='dashed',fig=fig,ax=ax)\n",
      "fig,ax = sl['TESS-p50-15cm'].plotwrt('f',coeff='T',types=['ru'],labels=[''],color='k',linestyle='dashdot',fig=fig,ax=ax)\n"
     ],
     "language": "python",
     "metadata": {},
     "outputs": [],
     "prompt_number": 41
    },
    {
     "cell_type": "code",
     "collapsed": false,
     "input": [
      "sl['TESS-p50-5cm'].ev(fGHz,theta,compensate=True)\n",
      "sl['TESS-p50-10cm'].ev(fGHz,theta,compensate=True)\n",
      "sl['TESS-p50-15cm'].ev(fGHz,theta,compensate=True)\n",
      "\n",
      "fig,ax = sl['TESS-p50-5cm'].plotwrt('f',coeff='T',types=['ru'],labels=['5cm compensated',''],color='r',fig=fig,ax=ax)\n",
      "fig,ax = sl['TESS-p50-10cm'].plotwrt('f',coeff='T',types=['ru'],labels=['10cm compensated',''],color='r',linestyle='dashed',fig=fig,ax=ax)\n",
      "fig,ax = sl['TESS-p50-15cm'].plotwrt('f',coeff='T',types=['ru'],labels=['15cm not compensated',''],color='r',linestyle='dashdot',fig=fig,ax=ax) \n",
      "\n",
      "fig,ax = sl['TESS-p50-5cm'].plotwrt('f',coeff='T',labels=[''],color='k')\n",
      "fig,ax = sl['TESS-p50-10cm'].plotwrt('f',coeff='T',labels=[''],color='k',linestyle='dashed',fig=fig,ax=ax)\n",
      "fig,ax = sl['TESS-p50-15cm'].plotwrt('f',coeff='T',labels=[''],color='k',linestyle='dashdot',fig=fig,ax=ax)\n"
     ],
     "language": "python",
     "metadata": {},
     "outputs": [],
     "prompt_number": 42
    }
   ],
   "metadata": {}
  }
 ]
}
