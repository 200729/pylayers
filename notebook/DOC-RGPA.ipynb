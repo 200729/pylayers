{
 "cells": [
  {
   "cell_type": "markdown",
   "metadata": {},
   "source": [
    "## Robust Geometric Positioning Algorithm"
   ]
  },
  {
   "cell_type": "code",
   "execution_count": 1,
   "metadata": {
    "collapsed": false
   },
   "outputs": [],
   "source": [
    "from pylayers.location.geometric.constraints.cla import *\n",
    "from pylayers.location.geometric.constraints.toa import *\n",
    "from pylayers.location.geometric.constraints.tdoa import *\n",
    "from pylayers.location.geometric.constraints.rss import *\n",
    "from pylayers.network.model import *\n",
    "import matplotlib.pyplot as plt\n"
   ]
  },
  {
   "cell_type": "markdown",
   "metadata": {},
   "source": [
    "Let's define 4 anchors in the plane."
   ]
  },
  {
   "cell_type": "code",
   "execution_count": 2,
   "metadata": {
    "collapsed": false
   },
   "outputs": [],
   "source": [
    "pt1=np.array(([0,0]))\n",
    "pt2=np.array(([10,15]))\n",
    "pt3=np.array(([5,28]))\n",
    "pt4=np.array(([-10,-10]))\n",
    "# the unknown point is p\n",
    "p = np.array((0,5))"
   ]
  },
  {
   "cell_type": "markdown",
   "metadata": {},
   "source": [
    "Display the scene"
   ]
  },
  {
   "cell_type": "code",
   "execution_count": 3,
   "metadata": {
    "collapsed": false
   },
   "outputs": [
    {
     "data": {
      "text/plain": [
       "<matplotlib.legend.Legend at 0x7f9ce4736d10>"
      ]
     },
     "execution_count": 3,
     "metadata": {},
     "output_type": "execute_result"
    }
   ],
   "source": [
    "f=plt.figure()\n",
    "ax=f.add_subplot(111)\n",
    "ax.plot(pt1[0],pt1[1],'or',label='anchor 1')\n",
    "ax.plot(pt2[0],pt2[1],'or',label='anchor 2')\n",
    "ax.plot(pt3[0],pt3[1],'or',label='anchor 3')\n",
    "ax.plot(pt4[0],pt4[1],'or',label='anchor 4')\n",
    "ax.plot(p[0],p[1],'xb',label='p')\n",
    "\n",
    "\n",
    "ax.legend(loc='best')"
   ]
  },
  {
   "cell_type": "markdown",
   "metadata": {},
   "source": [
    "compute the true distance and the associated TOAs"
   ]
  },
  {
   "cell_type": "code",
   "execution_count": 4,
   "metadata": {
    "collapsed": false
   },
   "outputs": [
    {
     "name": "stdout",
     "output_type": "stream",
     "text": [
      "distance p-1= 5.0 / toa1= 16.6666666667\n",
      "distance p-2= 14.1421356237 / toa2= 47.1404520791\n",
      "distance p-3= 23.5372045919 / toa3= 78.4573486396\n",
      "distance p-4= 18.0277563773 / toa3= 60.0925212577\n"
     ]
    }
   ],
   "source": [
    "d1=np.sqrt(np.sum((pt1-p)**2))\n",
    "d2=np.sqrt(np.sum((pt2-p)**2))\n",
    "d3=np.sqrt(np.sum((pt3-p)**2))\n",
    "d4=np.sqrt(np.sum((pt4-p)**2))\n",
    "\n",
    "toa1=d1/0.3\n",
    "toa2=d2/0.3\n",
    "toa3=d3/0.3\n",
    "toa4=d4/0.3\n",
    "\n",
    "print 'distance p-1=',d1, '/ toa1=',toa1\n",
    "print 'distance p-2=',d2, '/ toa2=',toa2\n",
    "print 'distance p-3=',d3, '/ toa3=',toa3\n",
    "print 'distance p-4=',d4, '/ toa3=',toa4"
   ]
  },
  {
   "cell_type": "markdown",
   "metadata": {},
   "source": [
    "# RGPA"
   ]
  },
  {
   "cell_type": "markdown",
   "metadata": {},
   "source": [
    "## TOA"
   ]
  },
  {
   "cell_type": "markdown",
   "metadata": {},
   "source": [
    "instanciate the constraint layer array which gathers all the geometric constraints of the considered scenario."
   ]
  },
  {
   "cell_type": "code",
   "execution_count": 5,
   "metadata": {
    "collapsed": false
   },
   "outputs": [],
   "source": [
    "C=CLA()"
   ]
  },
  {
   "cell_type": "markdown",
   "metadata": {},
   "source": [
    "Instanciate TOA objects, notice that their id are differents "
   ]
  },
  {
   "cell_type": "code",
   "execution_count": 6,
   "metadata": {
    "collapsed": false
   },
   "outputs": [],
   "source": [
    "T1=TOA(id=0,value = toa1, std = 1.0, p = pt1)\n",
    "T2=TOA(id=1,value = toa2, std = 1.0, p = pt2)\n",
    "T3=TOA(id=2,value = toa3, std = 1.0, p = pt3)\n",
    "T4=TOA(id=3,value = toa4, std = 1.0, p = pt4)"
   ]
  },
  {
   "cell_type": "markdown",
   "metadata": {},
   "source": [
    "Add TOA contrstraints to the CLA"
   ]
  },
  {
   "cell_type": "code",
   "execution_count": 7,
   "metadata": {
    "collapsed": false
   },
   "outputs": [],
   "source": [
    "C.append(T1)\n",
    "C.append(T2)\n",
    "C.append(T3)\n",
    "C.append(T4)"
   ]
  },
  {
   "cell_type": "markdown",
   "metadata": {},
   "source": [
    "List all constraints of the CLA"
   ]
  },
  {
   "cell_type": "code",
   "execution_count": 8,
   "metadata": {
    "collapsed": false
   },
   "outputs": [
    {
     "data": {
      "text/plain": [
       "[node | peer   |type | rat  | p              | value    | std  | runable| usable|\n",
       "    0 |        |TOA  |      | [0 0]          | [ 16.667]| [ 1.]|       1|      1|,\n",
       " node | peer   |type | rat  | p              | value    | std  | runable| usable|\n",
       "    1 |        |TOA  |      | [10 15]        | [ 47.14] | [ 1.]|       1|      1|,\n",
       " node | peer   |type | rat  | p              | value    | std  | runable| usable|\n",
       "    2 |        |TOA  |      | [ 5 28]        | [ 78.457]| [ 1.]|       1|      1|,\n",
       " node | peer   |type | rat  | p              | value    | std  | runable| usable|\n",
       "    3 |        |TOA  |      | [-10 -10]      | [ 60.093]| [ 1.]|       1|      1|]"
      ]
     },
     "execution_count": 8,
     "metadata": {},
     "output_type": "execute_result"
    }
   ],
   "source": [
    "C.c"
   ]
  },
  {
   "cell_type": "markdown",
   "metadata": {},
   "source": [
    "Get information on the cla :\n",
    " \n",
    "  + type : TOA / RSS\n",
    "  + p : Position of the origin of the constraint\n",
    "  + value : power ( RSS ) / time in ns ( TOA)\n",
    "  + std : standard deviation $\\sigma^2$ of value\n",
    "  + runable : does the constraint has a position p ?\n",
    "  + obsolete : does the value has been obtained recently ?\n",
    "  + usuable : runbale AND NOT obsolete\n",
    "  + evlauated : obsolete\n",
    "  "
   ]
  },
  {
   "cell_type": "code",
   "execution_count": 9,
   "metadata": {
    "collapsed": false
   },
   "outputs": [
    {
     "ename": "AttributeError",
     "evalue": "'CLA' object has no attribute 'info2'",
     "output_type": "error",
     "traceback": [
      "\u001b[1;31m---------------------------------------------------------------------------\u001b[0m",
      "\u001b[1;31mAttributeError\u001b[0m                            Traceback (most recent call last)",
      "\u001b[1;32m<ipython-input-9-69d63800b661>\u001b[0m in \u001b[0;36m<module>\u001b[1;34m()\u001b[0m\n\u001b[1;32m----> 1\u001b[1;33m \u001b[0mC\u001b[0m\u001b[1;33m.\u001b[0m\u001b[0minfo2\u001b[0m\u001b[1;33m(\u001b[0m\u001b[1;33m)\u001b[0m\u001b[1;33m\u001b[0m\u001b[0m\n\u001b[0m",
      "\u001b[1;31mAttributeError\u001b[0m: 'CLA' object has no attribute 'info2'"
     ]
    }
   ],
   "source": [
    "C.info2()"
   ]
  },
  {
   "cell_type": "markdown",
   "metadata": {},
   "source": [
    "Update the CLA"
   ]
  },
  {
   "cell_type": "code",
   "execution_count": null,
   "metadata": {
    "collapsed": false
   },
   "outputs": [],
   "source": [
    "C.update()\n"
   ]
  },
  {
   "cell_type": "markdown",
   "metadata": {},
   "source": [
    "Compute the cla"
   ]
  },
  {
   "cell_type": "code",
   "execution_count": null,
   "metadata": {
    "collapsed": false
   },
   "outputs": [],
   "source": [
    "C.compute()"
   ]
  },
  {
   "cell_type": "markdown",
   "metadata": {},
   "source": [
    "show the estimated position"
   ]
  },
  {
   "cell_type": "code",
   "execution_count": null,
   "metadata": {
    "collapsed": false
   },
   "outputs": [],
   "source": [
    "C.pe"
   ]
  },
  {
   "cell_type": "markdown",
   "metadata": {},
   "source": [
    "## RSS"
   ]
  },
  {
   "cell_type": "markdown",
   "metadata": {},
   "source": [
    "The RSS is a quantity with related to distance.To model the Path Loss shadowing model is widely used. To define \n",
    "a path loss shadowing model"
   ]
  },
  {
   "cell_type": "code",
   "execution_count": null,
   "metadata": {
    "collapsed": false
   },
   "outputs": [],
   "source": [
    "M=Model(f=3.0,rssnp=2.64,d0=1.0,sigrss=3.0,method='mode')"
   ]
  },
  {
   "cell_type": "markdown",
   "metadata": {},
   "source": [
    "For simulation purpose : get RSS from distances wit the given model\n",
    "\n",
    "\n"
   ]
  },
  {
   "cell_type": "code",
   "execution_count": null,
   "metadata": {
    "collapsed": false
   },
   "outputs": [],
   "source": [
    "toa1"
   ]
  },
  {
   "cell_type": "code",
   "execution_count": null,
   "metadata": {
    "collapsed": false
   },
   "outputs": [],
   "source": [
    "M.getPL(toa1,1)"
   ]
  },
  {
   "cell_type": "markdown",
   "metadata": {},
   "source": [
    "## TDOA"
   ]
  },
  {
   "cell_type": "code",
   "execution_count": null,
   "metadata": {
    "collapsed": false
   },
   "outputs": [],
   "source": [
    "Td1=TDOA(id=0,value = toa1-toa2, std = 1.0, p = np.array([ptoa1,ptoa2]))\n",
    "Td2=TDOA(id=1,value = toa1-toa3, std = 1.0, p = np.array([ptoa1,ptoa3]))\n",
    "Td3=TDOA(id=2,value = toa1-toa4, std = 1.0, p = np.array([ptoa1,ptoa4]))\n"
   ]
  },
  {
   "cell_type": "code",
   "execution_count": null,
   "metadata": {
    "collapsed": false
   },
   "outputs": [],
   "source": [
    "C=CLA()\n",
    "C.append(Td1)\n",
    "C.append(Td2)\n",
    "C.append(Td3)"
   ]
  },
  {
   "cell_type": "code",
   "execution_count": null,
   "metadata": {
    "collapsed": false
   },
   "outputs": [],
   "source": [
    "C.compute()"
   ]
  },
  {
   "cell_type": "code",
   "execution_count": null,
   "metadata": {
    "collapsed": false
   },
   "outputs": [],
   "source": [
    "C.pe"
   ]
  }
 ],
 "metadata": {
  "celltoolbar": "Edit Metadata",
  "kernelspec": {
   "display_name": "Python 2",
   "language": "python",
   "name": "python2"
  },
  "language_info": {
   "codemirror_mode": {
    "name": "ipython",
    "version": 2
   },
   "file_extension": ".py",
   "mimetype": "text/x-python",
   "name": "python",
   "nbconvert_exporter": "python",
   "pygments_lexer": "ipython2",
   "version": "2.7.10"
  }
 },
 "nbformat": 4,
 "nbformat_minor": 0
}
