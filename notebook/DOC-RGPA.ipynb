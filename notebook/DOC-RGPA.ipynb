{
 "metadata": {
  "name": "DOC-RGPA"
 },
 "nbformat": 3,
 "nbformat_minor": 0,
 "worksheets": [
  {
   "cells": [
    {
     "cell_type": "code",
     "collapsed": false,
     "input": [
      "from pylayers.location.geometric.constraints.cla import *\n",
      "from pylayers.location.geometric.constraints.toa import *\n",
      "from pylayers.location.geometric.constraints.rss import *\n",
      "import matplotlib.pyplot as plt"
     ],
     "language": "python",
     "metadata": {},
     "outputs": [],
     "prompt_number": 131
    },
    {
     "cell_type": "code",
     "collapsed": false,
     "input": [
      "ptoa1=np.array(([0,0]))\n",
      "ptoa2=np.array(([10,15]))\n",
      "ptoa3=np.array(([5,28]))\n",
      "\n",
      "p = np.array((0,5))"
     ],
     "language": "python",
     "metadata": {},
     "outputs": [],
     "prompt_number": 132
    },
    {
     "cell_type": "markdown",
     "metadata": {},
     "source": [
      "Display the scene"
     ]
    },
    {
     "cell_type": "code",
     "collapsed": false,
     "input": [
      "f=plt.figure()\n",
      "ax=f.add_subplot(111)\n",
      "ax.plot(ptoa1[0],ptoa1[1],'or',label='toa1')\n",
      "ax.plot(ptoa2[0],ptoa2[1],'or',label='toa2')\n",
      "ax.plot(ptoa3[0],ptoa3[1],'or',label='toa3')\n",
      "ax.plot(p[0],p[1],'xb',label='p')\n",
      "\n",
      "ax.legend()"
     ],
     "language": "python",
     "metadata": {},
     "outputs": [
      {
       "output_type": "pyout",
       "prompt_number": 133,
       "text": [
        "<matplotlib.legend.Legend at 0x10bc97f10>"
       ]
      },
      {
       "output_type": "display_data",
       "png": "[encoded data removed]",
       "text": [
        "<matplotlib.figure.Figure at 0x10bc96750>"
       ]
      }
     ],
     "prompt_number": 133
    },
    {
     "cell_type": "markdown",
     "metadata": {},
     "source": [
      "compute the true distance and the associated TOAs"
     ]
    },
    {
     "cell_type": "code",
     "collapsed": false,
     "input": [
      "d1=np.sqrt(np.sum((ptoa1-p)**2))\n",
      "d2=np.sqrt(np.sum((ptoa2-p)**2))\n",
      "d3=np.sqrt(np.sum((ptoa3-p)**2))\n",
      "\n",
      "toa1=d1/0.3\n",
      "toa2=d2/0.3\n",
      "toa3=d3/0.3\n",
      "\n",
      "\n",
      "print 'distance 1=',d1, '/ toa1=',toa1\n",
      "print 'distance 2=',d2, '/ toa2=',toa2\n",
      "print 'distance 3=',d3, '/ toa3=',toa3"
     ],
     "language": "python",
     "metadata": {},
     "outputs": [
      {
       "output_type": "stream",
       "stream": "stdout",
       "text": [
        "distance 1= 5.0 / toa1= 16.6666666667\n",
        "distance 2= 14.1421356237 / toa2= 47.1404520791\n",
        "distance 3= 23.5372045919 / toa3= 78.4573486396\n"
       ]
      }
     ],
     "prompt_number": 134
    },
    {
     "cell_type": "markdown",
     "metadata": {},
     "source": [
      "# RGPA"
     ]
    },
    {
     "cell_type": "markdown",
     "metadata": {},
     "source": [
      "instanciate the constraint layer array which gathers all the geometric constraints of the considered scenario."
     ]
    },
    {
     "cell_type": "code",
     "collapsed": false,
     "input": [
      "C=CLA()"
     ],
     "language": "python",
     "metadata": {},
     "outputs": [],
     "prompt_number": 135
    },
    {
     "cell_type": "markdown",
     "metadata": {},
     "source": [
      "Instanciate TOA objects\n",
      "Watch out their id are differnts "
     ]
    },
    {
     "cell_type": "code",
     "collapsed": false,
     "input": [
      "T1=TOA(id=0,value = toa1, std = 1.0, p = ptoa1)\n",
      "T2=TOA(id=1,value = toa2, std = 1.0, p = ptoa2)\n",
      "T3=TOA(id=2,value = toa3, std = 1.0, p = ptoa3)"
     ],
     "language": "python",
     "metadata": {},
     "outputs": [],
     "prompt_number": 136
    },
    {
     "cell_type": "markdown",
     "metadata": {},
     "source": [
      "Add TOA contrstraints to the CLA"
     ]
    },
    {
     "cell_type": "code",
     "collapsed": false,
     "input": [
      "C.append(T1)\n",
      "C.append(T2)\n",
      "C.append(T3)"
     ],
     "language": "python",
     "metadata": {},
     "outputs": [],
     "prompt_number": 137
    },
    {
     "cell_type": "markdown",
     "metadata": {},
     "source": [
      "List all constraints of the CLA"
     ]
    },
    {
     "cell_type": "code",
     "collapsed": false,
     "input": [
      "C.c"
     ],
     "language": "python",
     "metadata": {},
     "outputs": [
      {
       "output_type": "pyout",
       "prompt_number": 153,
       "text": [
        "[<pylayers.location.geometric.constraints.toa.TOA at 0x10b1c7790>,\n",
        " <pylayers.location.geometric.constraints.toa.TOA at 0x10b05bd90>,\n",
        " <pylayers.location.geometric.constraints.toa.TOA at 0x10b1bc6d0>]"
       ]
      }
     ],
     "prompt_number": 153
    },
    {
     "cell_type": "markdown",
     "metadata": {},
     "source": [
      "Update the CLA"
     ]
    },
    {
     "cell_type": "code",
     "collapsed": false,
     "input": [
      "C.update()\n"
     ],
     "language": "python",
     "metadata": {},
     "outputs": [],
     "prompt_number": 154
    },
    {
     "cell_type": "markdown",
     "metadata": {},
     "source": [
      "Get information for the constriants in the CLA:\n",
      "    \n",
      "    + type : TOA,RSS,...\n",
      "    + p : origin position of the constraint\n",
      "    + value : power (RSS) or timein ns (TOA)\n",
      "    + std : std deviation\n",
      "    + runable : the origin position of the constraint in known\n",
      "    + obsolete  : the value has been obtained a long time ago\n",
      "    + usuable : self.runable AND NOT self.obsolete\n",
      "    + evaluated : obsolete"
     ]
    },
    {
     "cell_type": "code",
     "collapsed": false,
     "input": [
      "C.info2()"
     ],
     "language": "python",
     "metadata": {},
     "outputs": [
      {
       "output_type": "stream",
       "stream": "stdout",
       "text": [
        "type , p         , value     , std    , runable, usable, obsolete, evaluated\n",
        "TOA , [0 0]     , 16.6666666667,     1.0, 0, 0, 0, 0\n",
        "type , p         , value     , std    , runable, usable, obsolete, evaluated\n",
        "TOA , [10 15]   , 47.1404520791,     1.0, 1, 0, 0, 0\n",
        "type , p         , value     , std    , runable, usable, obsolete, evaluated\n",
        "TOA , [ 5 28]   , 78.4573486396,     1.0, 1, 1, 0, 0\n"
       ]
      }
     ],
     "prompt_number": 155
    },
    {
     "cell_type": "markdown",
     "metadata": {},
     "source": [
      "Those information can be obtained "
     ]
    },
    {
     "cell_type": "code",
     "collapsed": false,
     "input": [
      "print 'type',C.type\n",
      "print 'nb constraints', C.Nc\n",
      "print 'std dev', C.std\n",
      "print 'vcw', C.vcw"
     ],
     "language": "python",
     "metadata": {},
     "outputs": [
      {
       "output_type": "stream",
       "stream": "stdout",
       "text": [
        "type ['TOA', 'TOA', 'TOA']\n",
        "nb constraints 1\n",
        "std dev [1.0, 1.0, 1.0]\n",
        "vcw [3, 3, 3]\n"
       ]
      }
     ],
     "prompt_number": 156
    },
    {
     "cell_type": "markdown",
     "metadata": {},
     "source": [
      "C.compute return a boolean : \n",
      " + True if a position has been estimated\n",
      " + False otherwise  "
     ]
    },
    {
     "cell_type": "code",
     "collapsed": false,
     "input": [
      "C.compute()"
     ],
     "language": "python",
     "metadata": {},
     "outputs": [
      {
       "output_type": "stream",
       "stream": "stdout",
       "text": [
        "0.25 1.5\n",
        "0.0625 1.375\n",
        "0.015625 1.34375\n"
       ]
      },
      {
       "output_type": "pyout",
       "prompt_number": 157,
       "text": [
        "False"
       ]
      }
     ],
     "prompt_number": 157
    },
    {
     "cell_type": "markdown",
     "metadata": {},
     "source": [
      "The position estimated is available in C.pe"
     ]
    },
    {
     "cell_type": "code",
     "collapsed": false,
     "input": [
      "C.pe"
     ],
     "language": "python",
     "metadata": {},
     "outputs": [
      {
       "output_type": "pyout",
       "prompt_number": 158,
       "text": [
        "array([  5.,  28.])"
       ]
      }
     ],
     "prompt_number": 158
    }
   ],
   "metadata": {}
  }
 ]
}