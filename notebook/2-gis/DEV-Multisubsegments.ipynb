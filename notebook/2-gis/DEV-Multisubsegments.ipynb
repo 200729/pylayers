{
 "metadata": {
  "name": ""
 },
 "nbformat": 3,
 "nbformat_minor": 0,
 "worksheets": [
  {
   "cells": [
    {
     "cell_type": "code",
     "collapsed": false,
     "input": [
      "from pylayers.simul.simulem import *\n",
      "from pylayers.antprop.rays import *\n",
      "from pylayers.gis.layout import *\n",
      "from pylayers.antprop.signature import *\n",
      "import pylayers.signal.bsignal as bs\n",
      "import pylayers.signal.waveform as wvf \n",
      "from pylayers.simul.simulem import *\n",
      "import matplotlib.pyplot as plt "
     ],
     "language": "python",
     "metadata": {},
     "outputs": [],
     "prompt_number": 1
    },
    {
     "cell_type": "code",
     "collapsed": false,
     "input": [
      "S = Simul()\n",
      "filestr = 'defstr3'\n",
      "S.layout(filestr+'.ini','matDB.ini','slabDB.ini')"
     ],
     "language": "python",
     "metadata": {},
     "outputs": [],
     "prompt_number": 2
    },
    {
     "cell_type": "markdown",
     "metadata": {},
     "source": [
      "The studied configuration is composed of a simple 2 rooms building separated by a subsegment which has a multi subsegment attribute. The attribute of the subsegment can be changed  with the method `chgmss` (change multisubsegment) "
     ]
    },
    {
     "cell_type": "code",
     "collapsed": false,
     "input": [
      "S.L.chgmss(1,ss_name=['AIR','AIR','WOOD'])\n",
      "S.L.build()"
     ],
     "language": "python",
     "metadata": {},
     "outputs": [],
     "prompt_number": 3
    },
    {
     "cell_type": "markdown",
     "metadata": {},
     "source": [
      "The graph dictionnary has then the following structure"
     ]
    },
    {
     "cell_type": "code",
     "collapsed": false,
     "input": [
      "S.L.Gs.node"
     ],
     "language": "python",
     "metadata": {},
     "outputs": [
      {
       "output_type": "pyout",
       "prompt_number": 4,
       "text": [
        "{-8: {},\n",
        " -7: {},\n",
        " -6: {},\n",
        " -5: {},\n",
        " -4: {},\n",
        " -3: {},\n",
        " -2: {},\n",
        " -1: {},\n",
        " 1: {'connect': [-8, -7],\n",
        "  'name': 'PARTITION',\n",
        "  'ncycles': [0, 1],\n",
        "  'norm': array([-0.999982  , -0.00599989,  0.        ]),\n",
        "  'ss_name': ['AIR', 'AIR', 'WOOD'],\n",
        "  'ss_z': [(0.0, 2.4), (2.7, 2.8), (2.8, 3)],\n",
        "  'transition': True,\n",
        "  'z': (0.0, 3.0)},\n",
        " 2: {'connect': [-8, -2],\n",
        "  'name': 'WALL',\n",
        "  'ncycles': [0, 1],\n",
        "  'norm': array([ 0.99997778,  0.00666652,  0.        ]),\n",
        "  'transition': False,\n",
        "  'z': (0.0, 3.0)},\n",
        " 3: {'connect': [-7, -5],\n",
        "  'name': 'WALL',\n",
        "  'ncycles': [0, 1],\n",
        "  'norm': array([-0.99997775, -0.00667097,  0.        ]),\n",
        "  'transition': False,\n",
        "  'z': (0.0, 3.0)},\n",
        " 4: {'connect': [-6, -1],\n",
        "  'name': 'WALL',\n",
        "  'ncycles': [1],\n",
        "  'norm': array([ 0.99997888,  0.00649986,  0.        ]),\n",
        "  'transition': False,\n",
        "  'z': (0.0, 3.0)},\n",
        " 5: {'connect': [-6, -5],\n",
        "  'name': 'WALL',\n",
        "  'ncycles': [1],\n",
        "  'norm': array([-0.00619988,  0.99998078,  0.        ]),\n",
        "  'transition': False,\n",
        "  'z': (0.0, 3.0)},\n",
        " 6: {'connect': [-5, -4],\n",
        "  'name': 'WALL',\n",
        "  'ncycles': [0],\n",
        "  'norm': array([-0.00639987,  0.99997952,  0.        ]),\n",
        "  'transition': False,\n",
        "  'z': (0.0, 3.0)},\n",
        " 7: {'connect': [-4, -3],\n",
        "  'name': 'WALL',\n",
        "  'ncycles': [0],\n",
        "  'norm': array([ 0.99997887,  0.00650149,  0.        ]),\n",
        "  'transition': False,\n",
        "  'z': (0.0, 3.0)},\n",
        " 8: {'connect': [-3, -2],\n",
        "  'name': 'WALL',\n",
        "  'ncycles': [0],\n",
        "  'norm': array([ 0.00639987, -0.99997952,  0.        ]),\n",
        "  'transition': False,\n",
        "  'z': (0.0, 3.0)},\n",
        " 9: {'connect': [-1, -2],\n",
        "  'name': 'WALL',\n",
        "  'ncycles': [1],\n",
        "  'norm': array([-0.00639987,  0.99997952,  0.        ]),\n",
        "  'transition': False,\n",
        "  'z': (0.0, 3.0)}}"
       ]
      }
     ],
     "prompt_number": 4
    },
    {
     "cell_type": "markdown",
     "metadata": {},
     "source": []
    },
    {
     "cell_type": "code",
     "collapsed": false,
     "input": [
      "S.tx.clear()\n",
      "S.rx.clear()\n",
      "tx=array([759,1114,1.0])\n",
      "rx=array([767,1114,1.5])\n",
      "S.tx.point(tx)\n",
      "S.rx.point(rx)\n",
      "ctx = S.L.pt2cy(S.tx.position[:,0])\n",
      "crx = S.L.pt2cy(S.rx.position[:,0])\n"
     ],
     "language": "python",
     "metadata": {},
     "outputs": [],
     "prompt_number": 5
    },
    {
     "cell_type": "code",
     "collapsed": false,
     "input": [
      "fGHz=np.arange(2,11,0.5)\n",
      "wav = wvf.Waveform(fcGHz=5,bandGHz=3)\n",
      "wav.show()"
     ],
     "language": "python",
     "metadata": {},
     "outputs": [],
     "prompt_number": 6
    },
    {
     "cell_type": "markdown",
     "metadata": {},
     "source": [
      "+ determine the signatures\n",
      "+ determine the 2d rays \n",
      "+ determine the 3d rays \n",
      "+ determine local basis on 3D rays\n",
      "+ fill interactions \n"
     ]
    },
    {
     "cell_type": "code",
     "collapsed": false,
     "input": [
      "Si = Signatures(S.L,ctx,crx)\n",
      "Si.run1(cutoff=5)\n",
      "r2d = Si.rays(tx,rx)\n",
      "r3d = r2d.to3D(S.L)\n",
      "r3d.locbas(S.L)\n"
     ],
     "language": "python",
     "metadata": {},
     "outputs": [],
     "prompt_number": 7
    },
    {
     "cell_type": "heading",
     "level": 2,
     "metadata": {},
     "source": [
      "Channel variability due to constitutive materials"
     ]
    },
    {
     "cell_type": "code",
     "collapsed": false,
     "input": [
      "r3d.fillinter(S.L,append=True)"
     ],
     "language": "python",
     "metadata": {},
     "outputs": [],
     "prompt_number": 8
    },
    {
     "cell_type": "code",
     "collapsed": false,
     "input": [
      "def evcir(r3d,wav):\n",
      "    fGHz = wav.sf.x      \n",
      "    Ct = r3d.eval(fGHz)\n",
      "    H  = Ct.prop2tran(a='theta',b='theta')\n",
      "    cir = H.applywavB(wav.sfg)\n",
      "    return(cir)"
     ],
     "language": "python",
     "metadata": {},
     "outputs": [],
     "prompt_number": 9
    },
    {
     "cell_type": "code",
     "collapsed": false,
     "input": [
      "S.L.chgmss(1,ss_name=['WOOD','AIR','WOOD'])\n",
      "S.L.Gs.node[1]['ss_name']=['WOOD','AIR','METAL']\n",
      "S.L.g2npy()\n",
      "# graph to numpy \n",
      "Cwood=r3d.eval(fGHz)\n",
      "scwood=Cwood.prop2tran(a='theta',b='theta')\n",
      "cirwood = scwood.applywavB(wav.sfg)\n",
      "\n",
      "S.L.Gs.node[1]['ss_name']=['METAL','AIR','WOOD']\n",
      "# graph to numpy \n",
      "S.L.g2npy()\n",
      "r3d.fillinter(S.L,append=True)\n",
      "Cmetal=r3d.eval(fGHz)\n",
      "scmetal=Cmetal.prop2tran(a='theta',b='theta')\n",
      "cirmetal = scmetal.applywavB(wav.sfg)\n",
      "\n",
      "\n",
      "fig=plt.figure()\n",
      "ax1 = fig.add_subplot(311)\n",
      "cirair.plot()\n",
      "plt.title(\"['AIR','AIR','WOOD']\")\n",
      "ax2 = fig.add_subplot(312,sharey=ax1)\n",
      "cirwood.plot()\n",
      "plt.title(\"['WOOD','AIR','WOOD']\")\n",
      "ax3 = fig.add_subplot(313,sharey=ax1)\n",
      "cirmetal.plot()\n",
      "plt.title(\"['METAL','AIR','WOOD']\")\n",
      "plt.show()\n",
      "\n",
      "fig2=plt.figure()\n",
      "cirair.plot(dB=True,col='b')\n",
      "cirwood.plot(dB=True,col='k')\n",
      "cirmetal.plot(dB=True,col='r')\n",
      "plt.axis([0,100,-150,-30])\n",
      "plt.legend(['air','wood','metal'])\n",
      "plt.xlabel('delay (ns)')\n",
      "plt.ylabel('level (dB)')\n",
      "plt.title('A simple illustration of shadowing effect')\n",
      "\n"
     ],
     "language": "python",
     "metadata": {},
     "outputs": [
      {
       "output_type": "stream",
       "stream": "stdout",
       "text": [
        "Rays evaluation\n",
        "Rays evaluation"
       ]
      },
      {
       "ename": "NameError",
       "evalue": "name 'cirair' is not defined",
       "output_type": "pyerr",
       "traceback": [
        "\u001b[1;31m---------------------------------------------------------------------------\u001b[0m\n\u001b[1;31mNameError\u001b[0m                                 Traceback (most recent call last)",
        "\u001b[1;32m<ipython-input-10-1dbffa4e708e>\u001b[0m in \u001b[0;36m<module>\u001b[1;34m()\u001b[0m\n\u001b[0;32m     18\u001b[0m \u001b[0mfig\u001b[0m\u001b[1;33m=\u001b[0m\u001b[0mplt\u001b[0m\u001b[1;33m.\u001b[0m\u001b[0mfigure\u001b[0m\u001b[1;33m(\u001b[0m\u001b[1;33m)\u001b[0m\u001b[1;33m\u001b[0m\u001b[0m\n\u001b[0;32m     19\u001b[0m \u001b[0max1\u001b[0m \u001b[1;33m=\u001b[0m \u001b[0mfig\u001b[0m\u001b[1;33m.\u001b[0m\u001b[0madd_subplot\u001b[0m\u001b[1;33m(\u001b[0m\u001b[1;36m311\u001b[0m\u001b[1;33m)\u001b[0m\u001b[1;33m\u001b[0m\u001b[0m\n\u001b[1;32m---> 20\u001b[1;33m \u001b[0mcirair\u001b[0m\u001b[1;33m.\u001b[0m\u001b[0mplot\u001b[0m\u001b[1;33m(\u001b[0m\u001b[1;33m)\u001b[0m\u001b[1;33m\u001b[0m\u001b[0m\n\u001b[0m\u001b[0;32m     21\u001b[0m \u001b[0mplt\u001b[0m\u001b[1;33m.\u001b[0m\u001b[0mtitle\u001b[0m\u001b[1;33m(\u001b[0m\u001b[1;34m\"['AIR','AIR','WOOD']\"\u001b[0m\u001b[1;33m)\u001b[0m\u001b[1;33m\u001b[0m\u001b[0m\n\u001b[0;32m     22\u001b[0m \u001b[0max2\u001b[0m \u001b[1;33m=\u001b[0m \u001b[0mfig\u001b[0m\u001b[1;33m.\u001b[0m\u001b[0madd_subplot\u001b[0m\u001b[1;33m(\u001b[0m\u001b[1;36m312\u001b[0m\u001b[1;33m,\u001b[0m\u001b[0msharey\u001b[0m\u001b[1;33m=\u001b[0m\u001b[0max1\u001b[0m\u001b[1;33m)\u001b[0m\u001b[1;33m\u001b[0m\u001b[0m\n",
        "\u001b[1;31mNameError\u001b[0m: name 'cirair' is not defined"
       ]
      },
      {
       "output_type": "stream",
       "stream": "stdout",
       "text": [
        "\n"
       ]
      }
     ],
     "prompt_number": 10
    }
   ],
   "metadata": {}
  }
 ]
}