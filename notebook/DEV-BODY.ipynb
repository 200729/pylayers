{
 "metadata": {
  "name": ""
 },
 "nbformat": 3,
 "nbformat_minor": 0,
 "worksheets": [
  {
   "cells": [
    {
     "cell_type": "heading",
     "level": 2,
     "metadata": {},
     "source": [
      "Body mobility "
     ]
    },
    {
     "cell_type": "code",
     "collapsed": false,
     "input": [
      "from pylayers.mobility.body.body import *\n",
      "from pylayers.mobility.trajectory import Trajectory\n",
      "from IPython.display import Image"
     ],
     "language": "python",
     "metadata": {},
     "outputs": [],
     "prompt_number": 1
    },
    {
     "cell_type": "markdown",
     "metadata": {},
     "source": [
      "The body mobility is imported from motion capture files. This is the best manner to achieve a high degree of realism for the modeling of the human motion. Two kind of files exist : \n",
      "\n",
      "+ `c3d` files are a set of point which are evolving in time\n",
      "+ `bvh` files are a stuctured version of the motion capture.\n",
      "\n",
      "Both type of file will be exploited in the following. "
     ]
    },
    {
     "cell_type": "heading",
     "level": 2,
     "metadata": {},
     "source": [
      "`BodyCylinder` data structure"
     ]
    },
    {
     "cell_type": "markdown",
     "metadata": {},
     "source": [
      "To ease further electromagnetic simulation a simplification of the motion capture data structure has been defined. This is a restriction of key body segments which are transformed into $K$ cylinders of radius $r_k$. \n",
      "\n",
      "The chosen model contains 11 cylinders. 4 cylinders for the arms, 4 cylinders for the legs 2 cylinders for the trunk and 1 cylinder for the head. \n",
      "\n",
      "The body cylinder model is handle by the dedicated class `Body`"
     ]
    },
    {
     "cell_type": "code",
     "collapsed": false,
     "input": [
      "#\n",
      "# create a Body object\n",
      "#\n",
      "bc = Body()"
     ],
     "language": "python",
     "metadata": {},
     "outputs": [],
     "prompt_number": 2
    },
    {
     "cell_type": "markdown",
     "metadata": {},
     "source": [
      "At that point a graph has been defined. The topology of the body is already there, as well as default informations, related to cylinders radius and material. The length of the cylinders is not known at that point because it will depend on a specific motion capture file.  "
     ]
    },
    {
     "cell_type": "code",
     "collapsed": false,
     "input": [
      "#\n",
      "# edge of the body cylinder graph\n",
      "#\n",
      "bc.g.edge"
     ],
     "language": "python",
     "metadata": {},
     "outputs": [
      {
       "metadata": {},
       "output_type": "pyout",
       "prompt_number": 3,
       "text": [
        "{0: {1: {'radius': 0.18}},\n",
        " 1: {0: {'radius': 0.18}, 2: {'radius': 0.12}},\n",
        " 2: {1: {'radius': 0.12}},\n",
        " 3: {5: {'radius': 0.05}},\n",
        " 4: {6: {'radius': 0.05}},\n",
        " 5: {3: {'radius': 0.05}, 7: {'radius': 0.05}},\n",
        " 6: {4: {'radius': 0.05}, 8: {'radius': 0.05}},\n",
        " 7: {5: {'radius': 0.05}},\n",
        " 8: {6: {'radius': 0.05}},\n",
        " 9: {11: {'radius': 0.05}},\n",
        " 10: {12: {'radius': 0.05}},\n",
        " 11: {9: {'radius': 0.05}, 13: {'radius': 0.05}},\n",
        " 12: {10: {'radius': 0.05}, 14: {'radius': 0.05}},\n",
        " 13: {11: {'radius': 0.05}},\n",
        " 14: {12: {'radius': 0.05}}}"
       ]
      }
     ],
     "prompt_number": 3
    },
    {
     "cell_type": "code",
     "collapsed": false,
     "input": [
      "bc.g.edge[0][1]['radius']"
     ],
     "language": "python",
     "metadata": {},
     "outputs": [
      {
       "metadata": {},
       "output_type": "pyout",
       "prompt_number": 4,
       "text": [
        "0.18"
       ]
      }
     ],
     "prompt_number": 4
    },
    {
     "cell_type": "heading",
     "level": 2,
     "metadata": {},
     "source": [
      "Loading a motion capture file"
     ]
    },
    {
     "cell_type": "markdown",
     "metadata": {},
     "source": [
      "A `.c3d` motion capture file is loaded with the method `loadC3D` with as arguments the motion capture file and the number of frames to load.  \n",
      "\n",
      "A motion is associated as a data member of the `BodyCylinder` object. The motion is a sequence of framef stored in `d` variable member."
     ]
    },
    {
     "cell_type": "markdown",
     "metadata": {},
     "source": [
      "It is possible to get the information from the C3D header by using the verbose option of the `read_c3d` function"
     ]
    },
    {
     "cell_type": "code",
     "collapsed": false,
     "input": [
      "s, p, f = c3d.read_c3d('07_01.c3d',verbose=True)"
     ],
     "language": "python",
     "metadata": {},
     "outputs": [
      {
       "output_type": "stream",
       "stream": "stdout",
       "text": [
        "*********************\n",
        "**** Opening File ***\n",
        "*********************\n",
        "FileName =  /home/uguen/Bureau/P1/body/c3d/07_01.c3d\n",
        "***********************\n",
        "**** Reading Header ***\n",
        "***********************\n",
        "NanalogFramesPerVideoFrame=  5\n",
        "AnalogFrameRate=  600.0\n",
        "VideoFrameRate=  120.0\n",
        "Scale=  -0.10000000149\n",
        "Nmarkers=  41\n",
        "StartFrame=  235\n",
        "EndFrame=  550\n",
        "***********************\n",
        "**** Reading Events ...\n",
        "***********************\n",
        "EventIndicator =  12345\n",
        "***************************\n",
        "**** Reading Parameters ...\n",
        "***************************\n",
        "NparameterRecords= 14\n",
        "SUBJECTS =  ['liu:']\n",
        "POINT =  ['liu:LFIN', 'liu:LFWT', 'liu:LWRB', 'liu:RELB', 'liu:LSHO', 'liu:LELB', 'liu:RUPA', 'liu:RBHD', 'liu:LBHD', 'liu:LUPA', 'liu:RFRM', 'liu:RFHD', 'liu:C7', 'liu:RSHO', 'liu:LKNE', 'liu:LFHD', 'liu:T10', 'liu:RBAC', 'liu:RWRB', 'liu:RFWT', 'liu:RFIN', 'liu:RBWT', 'liu:LBWT', 'liu:RWRA', 'liu:STRN', 'liu:LWRA', 'liu:LFRM', 'liu:LSHN', 'liu:CLAV', 'liu:RANK', 'liu:LTHI', 'liu:LTOE', 'liu:LMT5', 'liu:LANK', 'liu:RTHI', 'liu:LHEE', 'liu:RKNE', 'liu:RSHN', 'liu:RHEE', 'liu:RTOE', 'liu:RMT5']\n",
        "Nparameters= 0\n",
        "NVideoFrames =  316\n",
        "***************************\n",
        "**** Reading DataBlock ....\n",
        "***************************\n",
        "* * * * * * * * * * * * * * * * * * * * * * * * * * * * * * * * * * * * * * * * * * * * * * * * * * * * * * * * * * * * * * * * * * * * * * * * * * * * * * * * * * * * * * * * * * * * * * * * * * * * * * * * * * * * * * * * * * * * * * * * * * * * * * * * * * * * * * * * * * * * * * * * * * * * * * * * * * * * * * * * * * * * * * * * * * * * * * * * * * * * * * * * * * * * * * * * * * * * * * * * * * * * * * * * * * * * * * * * * * * * * * * * * * * * * * * * * * * * * * * * * * * * * * * * * * * * * * * * * * * * * * * * * * * * * * * * * * * * * * * * * * * * * * * * * * * * * * * * "
       ]
      },
      {
       "output_type": "stream",
       "stream": "stdout",
       "text": [
        "* * * * * * * * * * * * * * * * * * * *\n"
       ]
      }
     ],
     "prompt_number": 5
    },
    {
     "cell_type": "code",
     "collapsed": false,
     "input": [
      "Vrate = 120\n",
      "Tframe = 1./120\n",
      "# select a number of frame \n",
      "nframes = 300\n",
      "Tstep = Tframe*nframes\n",
      "#\n",
      "# load a .c3dmotion capture file\n",
      "# this update the g.pos \n",
      "#\n",
      "bc.loadC3D(filename='07_01.c3d',nframes=nframes)"
     ],
     "language": "python",
     "metadata": {},
     "outputs": [],
     "prompt_number": 6
    },
    {
     "cell_type": "markdown",
     "metadata": {},
     "source": [
      "The duration of the capture is "
     ]
    },
    {
     "cell_type": "code",
     "collapsed": false,
     "input": [
      "print \"Duration of the motion capture sequence\", Tstep"
     ],
     "language": "python",
     "metadata": {},
     "outputs": [
      {
       "output_type": "stream",
       "stream": "stdout",
       "text": [
        "Duration of the motion capture sequence 2.5\n"
       ]
      }
     ],
     "prompt_number": 7
    },
    {
     "cell_type": "code",
     "collapsed": false,
     "input": [
      "bc"
     ],
     "language": "python",
     "metadata": {},
     "outputs": [
      {
       "metadata": {},
       "output_type": "pyout",
       "prompt_number": 8,
       "text": [
        "filename : 07_01.c3d\n",
        "nframes : 300\n",
        "topos : False"
       ]
      }
     ],
     "prompt_number": 8
    },
    {
     "cell_type": "markdown",
     "metadata": {},
     "source": [
      "`d` is a MDA of shape (3,npoint,nframe). It contains all the possible configurations of the body. In general it is supposed to be a cyclic motion as a integer number of walking steps. This allows to instantiate the body configuration anywhere else in space in a given chronology. A specific space-time configuration of the body is called a `topos`."
     ]
    },
    {
     "cell_type": "code",
     "collapsed": false,
     "input": [
      "np.shape(bc.d)"
     ],
     "language": "python",
     "metadata": {},
     "outputs": [
      {
       "metadata": {},
       "output_type": "pyout",
       "prompt_number": 9,
       "text": [
        "(3, 16, 300)"
       ]
      }
     ],
     "prompt_number": 9
    },
    {
     "cell_type": "markdown",
     "metadata": {},
     "source": [
      "+ 3  : dimension of space\n",
      "+ 16 : number of nodes\n",
      "+ 300 : number of frames "
     ]
    },
    {
     "cell_type": "markdown",
     "metadata": {},
     "source": [
      "The figure below shows the projection in a vertival plane of the body nodes. "
     ]
    },
    {
     "cell_type": "code",
     "collapsed": false,
     "input": [
      "#\n",
      "# plot the graph representation of the object\n",
      "# \n",
      "plt.figure(figsize=(8,8))\n",
      "plt.title(\"Body graph 16 Nodes - 10 Edges \")\n",
      "nx.draw(bc.g,bc.g.pos)\n",
      "a=plt.axis('scaled')"
     ],
     "language": "python",
     "metadata": {},
     "outputs": [
      {
       "metadata": {},
       "output_type": "display_data",
       "png": "[encoded data removed]",
       "text": [
        "<matplotlib.figure.Figure at 0x4c1c0d0>"
       ]
      }
     ],
     "prompt_number": 10
    },
    {
     "cell_type": "heading",
     "level": 2,
     "metadata": {},
     "source": [
      "Centering the motion"
     ]
    },
    {
     "cell_type": "markdown",
     "metadata": {},
     "source": [
      "In order to be able to translate the motion in any point in space-time, a distinction is made between the real motion or topos and the virtual motion which is the motion capture. \n",
      "\n",
      "Let $\\mathbf{p}^k$ denotes the center of gravity of the body in the (O,x,y) plane"
     ]
    },
    {
     "cell_type": "code",
     "collapsed": false,
     "input": [
      "bc.center()"
     ],
     "language": "python",
     "metadata": {},
     "outputs": [],
     "prompt_number": 11
    },
    {
     "cell_type": "code",
     "collapsed": false,
     "input": [
      "print np.shape(bc.pg)\n",
      "print np.shape(bc.vg)"
     ],
     "language": "python",
     "metadata": {},
     "outputs": [
      {
       "output_type": "stream",
       "stream": "stdout",
       "text": [
        "(3, 300)\n",
        "(3, 300)\n"
       ]
      }
     ],
     "prompt_number": 12
    },
    {
     "cell_type": "code",
     "collapsed": false,
     "input": [
      "a = np.hstack((bc.vg,bc.vg[:,-1][:,newaxis]))"
     ],
     "language": "python",
     "metadata": {},
     "outputs": [],
     "prompt_number": 13
    },
    {
     "cell_type": "code",
     "collapsed": false,
     "input": [
      "print bc.vg[:,299]\n",
      "print bc.vg[:,298]"
     ],
     "language": "python",
     "metadata": {},
     "outputs": [
      {
       "output_type": "stream",
       "stream": "stdout",
       "text": [
        "[  1.08123514e-02   7.24411022e-05   0.00000000e+00]\n",
        "[  1.08123514e-02   7.24411022e-05   0.00000000e+00]\n"
       ]
      }
     ],
     "prompt_number": 14
    },
    {
     "cell_type": "markdown",
     "metadata": {},
     "source": [
      "At that point the body structure is centered. \n",
      "\n",
      "\n",
      "\n",
      "The frame is centered in the xy plane by substracting from the configuration of points the projection of the body in the xy plane. "
     ]
    },
    {
     "cell_type": "code",
     "collapsed": false,
     "input": [
      "np.shape(bc.d)"
     ],
     "language": "python",
     "metadata": {},
     "outputs": [
      {
       "metadata": {},
       "output_type": "pyout",
       "prompt_number": 15,
       "text": [
        "(3, 16, 300)"
       ]
      }
     ],
     "prompt_number": 15
    },
    {
     "cell_type": "code",
     "collapsed": false,
     "input": [
      "bc.npoints"
     ],
     "language": "python",
     "metadata": {},
     "outputs": [
      {
       "metadata": {},
       "output_type": "pyout",
       "prompt_number": 16,
       "text": [
        "16"
       ]
      }
     ],
     "prompt_number": 16
    },
    {
     "cell_type": "markdown",
     "metadata": {},
     "source": [
      "Each frame is centered above the origin. For example for a walk motion the effect of teh centering is just like if the body was still walking but not moving forward exactly in the same manner as a walk on a conveyor belt."
     ]
    },
    {
     "cell_type": "code",
     "collapsed": false,
     "input": [
      "pgc = np.sum(bc.d[:,:,0],axis=1)/16\n",
      "pg0 = bc.pg[:,0]\n",
      "print \"True center of gravity\", pg0\n",
      "print \"Center of gravity of the centered frame\",pgc"
     ],
     "language": "python",
     "metadata": {},
     "outputs": [
      {
       "output_type": "stream",
       "stream": "stdout",
       "text": [
        "True center of gravity [-1.74251571  0.49373077  0.        ]\n",
        "Center of gravity of the centered frame [  3.74700271e-16   1.38777878e-17   8.94887363e-01]\n"
       ]
      }
     ],
     "prompt_number": 17
    },
    {
     "cell_type": "code",
     "collapsed": false,
     "input": [
      "np.shape(bc.pg)"
     ],
     "language": "python",
     "metadata": {},
     "outputs": [
      {
       "metadata": {},
       "output_type": "pyout",
       "prompt_number": 18,
       "text": [
        "(3, 300)"
       ]
      }
     ],
     "prompt_number": 18
    },
    {
     "cell_type": "markdown",
     "metadata": {},
     "source": [
      "The current file contains 300 frames"
     ]
    },
    {
     "cell_type": "code",
     "collapsed": false,
     "input": [
      "tframe = arange(bc.nframes)"
     ],
     "language": "python",
     "metadata": {},
     "outputs": [],
     "prompt_number": 19
    },
    {
     "cell_type": "code",
     "collapsed": false,
     "input": [
      "np.shape(bc.pg[0:-1,:])"
     ],
     "language": "python",
     "metadata": {},
     "outputs": [
      {
       "metadata": {},
       "output_type": "pyout",
       "prompt_number": 20,
       "text": [
        "(2, 300)"
       ]
      }
     ],
     "prompt_number": 20
    },
    {
     "cell_type": "code",
     "collapsed": false,
     "input": [
      "xg = bc.pg[0,:]\n",
      "yg = bc.pg[1,:]\n",
      "zg = bc.pg[2,:]\n",
      "figure(figsize=(8,8))\n",
      "subplot(311)\n",
      "plot(tframe,xg)\n",
      "title('x component')\n",
      "ylabel('m')\n",
      "subplot(312)\n",
      "xlabel('frame index')\n",
      "title('y component')\n",
      "ylabel('m')\n",
      "plot(tframe,yg)\n",
      "subplot(313)\n",
      "xlabel('frame index')\n",
      "title('Motion capture centroid trajectory')\n",
      "ylabel('m')\n",
      "plot(xg,yg,'.b')\n",
      "\n",
      "d = bc.pg[0:-1,1:]-bc.pg[0:-1,0:-1]\n",
      "smocap = cumsum(sqrt(sum(d*d,axis=0)))\n",
      "\n",
      "Vmocap = smocap[-1]/Tstep\n",
      "title('Length = '+str(smocap[-1])+' V = '+str(Vmocap*3.6)+' km/h')\n",
      "axis('scaled')\n",
      "axis('off')"
     ],
     "language": "python",
     "metadata": {},
     "outputs": [
      {
       "metadata": {},
       "output_type": "pyout",
       "prompt_number": 21,
       "text": [
        "(-2.0, 2.0, 0.47999999999999998, 0.54000000000000004)"
       ]
      },
      {
       "metadata": {},
       "output_type": "display_data",
       "png": "[encoded data removed]",
       "text": [
        "<matplotlib.figure.Figure at 0x4c34710>"
       ]
      }
     ],
     "prompt_number": 21
    },
    {
     "cell_type": "code",
     "collapsed": false,
     "input": [
      "plot(smocap)\n",
      "title('evolution of curvilinear abscisse from motion capture centroid trajectory') \n",
      "xlabel('frame index')\n",
      "ylabel('distance (meters)')"
     ],
     "language": "python",
     "metadata": {},
     "outputs": [
      {
       "metadata": {},
       "output_type": "pyout",
       "prompt_number": 22,
       "text": [
        "<matplotlib.text.Text at 0x4c24b10>"
       ]
      },
      {
       "metadata": {},
       "output_type": "display_data",
       "png": "[encoded data removed]",
       "text": [
        "<matplotlib.figure.Figure at 0x4c0ef90>"
       ]
      }
     ],
     "prompt_number": 22
    },
    {
     "cell_type": "heading",
     "level": 2,
     "metadata": {},
     "source": [
      "Defining a large scale trajectory "
     ]
    },
    {
     "cell_type": "markdown",
     "metadata": {},
     "source": [
      "A large scale trajectory is defined in the $(O,x,y)$ plane.\n",
      "\n",
      "`traj` is a data structure (Npt,2)"
     ]
    },
    {
     "cell_type": "code",
     "collapsed": false,
     "input": [
      "v = Vmocap\n",
      "print v"
     ],
     "language": "python",
     "metadata": {},
     "outputs": [
      {
       "output_type": "stream",
       "stream": "stdout",
       "text": [
        "1.36558346484\n"
       ]
      }
     ],
     "prompt_number": 23
    },
    {
     "cell_type": "code",
     "collapsed": false,
     "input": [
      "# time in seconds\n",
      "time = np.arange(0,10,0.01)\n",
      "x = v*time\n",
      "y = np.zeros(len(time))\n",
      "traj = Trajectory(time,np.vstack((x,y)).T)\n",
      "traj.tmax"
     ],
     "language": "python",
     "metadata": {},
     "outputs": [
      {
       "metadata": {},
       "output_type": "pyout",
       "prompt_number": 24,
       "text": [
        "9.98"
       ]
      }
     ],
     "prompt_number": 24
    },
    {
     "cell_type": "code",
     "collapsed": false,
     "input": [
      "fig ,ax = traj.plot()"
     ],
     "language": "python",
     "metadata": {},
     "outputs": [
      {
       "metadata": {},
       "output_type": "display_data",
       "png": "[encoded data removed]",
       "text": [
        "<matplotlib.figure.Figure at 0x4fd3610>"
       ]
      }
     ],
     "prompt_number": 25
    },
    {
     "cell_type": "heading",
     "level": 2,
     "metadata": {},
     "source": [
      "Trajectory"
     ]
    },
    {
     "cell_type": "heading",
     "level": 2,
     "metadata": {},
     "source": [
      "`posvel()`"
     ]
    },
    {
     "cell_type": "markdown",
     "metadata": {},
     "source": [
      "\n",
      "\n",
      "\n",
      "The `posvel()` function (position and velocity) takes as argument the following parameters \n",
      "\n",
      "+ `traj` a plane trajectory (Npt,3)\n",
      "+ $t_k$ time for evaluation of topos \n",
      "+ $T_{step}$ duration of the periodic motion sequence \n",
      "\n",
      "and returns \n",
      "\n",
      "+ the frame index $k_f = \\lfloor \\frac{t_k \\pmod{T_{step}}}{t_f} \\rfloor$\n",
      "+ the trajectory index $k_t = \\lfloor t_k \\rfloor$\n",
      "+ velocity unitary vector along motion capture frame $\\hat{\\mathbf{v}}_s = \\frac{\\mathbf{p}^g[k_f]-\\mathbf{p}^g[k_f-1]}{|\\mathbf{p}^g[k_f]-\\mathbf{p}^g[k_f-1]|}$\n",
      "+ $\\hat{\\mathbf{w}}_s = \\mathbf{\\hat{z}} \\times  \\hat{\\mathbf{v}}_s $\n",
      "+  velocity unitary vector along trajectory $\\hat{\\mathbf{v}}_t = \\frac{\\mathbf{p}^t[k_t]-\\mathbf{p}^g[k_t-1]}{|\\mathbf{p}^g[k_t]-\\mathbf{p}^t[k_t-1]|}$\n",
      "+ $\\hat{\\mathbf{w}}_t = \\mathbf{\\hat{z}} \\times  \\hat{\\mathbf{v}}_t $\n",
      "\n",
      "$t_f = \\frac{T_{step}}{Nf}$ is the interframe time or frame sampling period, it is equal to the whole duration of the motion sequence $T_{step}$ divided by the number of frames\n",
      "\n",
      "\n",
      "\n"
     ]
    },
    {
     "cell_type": "markdown",
     "metadata": {},
     "source": [
      "`settopos` is a method which takes as argument : \n",
      "\n",
      "+ `traj` a plane trajectory (Npt,2)\n",
      "+ $t_k$ time for evaluation of topos \n",
      "+ $T_{step}$ duration of the periodic motion sequence "
     ]
    },
    {
     "cell_type": "code",
     "collapsed": false,
     "input": [
      "bc.settopos(traj=traj,tk=3,Tstep=Tstep)"
     ],
     "language": "python",
     "metadata": {},
     "outputs": [],
     "prompt_number": 26
    },
    {
     "cell_type": "markdown",
     "metadata": {},
     "source": [
      "There is now a new data structure in the BodyCylinder objet. This data structure is called a `topos`"
     ]
    },
    {
     "cell_type": "code",
     "collapsed": false,
     "input": [
      "print np.shape(bc.topos)"
     ],
     "language": "python",
     "metadata": {},
     "outputs": [
      {
       "output_type": "stream",
       "stream": "stdout",
       "text": [
        "(3, 16)\n"
       ]
      }
     ],
     "prompt_number": 27
    },
    {
     "cell_type": "code",
     "collapsed": false,
     "input": [
      "bc.topos"
     ],
     "language": "python",
     "metadata": {},
     "outputs": [
      {
       "metadata": {},
       "output_type": "pyout",
       "prompt_number": 28,
       "text": [
        "array([[ 5.01534825,  4.9698158 ,  4.95016661,  4.8922915 ,  4.90224294,\n",
        "         4.93477258,  4.76465457,  5.08449526,  4.63974419,  4.94681916,\n",
        "         5.00124926,  4.71759316,  5.10470804,  4.52819971,  5.2314723 ,\n",
        "         4.97403421],\n",
        "       [ 0.00978643,  0.01039192, -0.08586912, -0.15014439,  0.17454155,\n",
        "        -0.29891008,  0.28336831, -0.31726715,  0.37578539, -0.14822518,\n",
        "         0.12069953, -0.11848735,  0.13268648, -0.04485156,  0.07025805,\n",
        "        -0.01376282],\n",
        "       [ 1.18925612,  1.35442836,  1.57836099,  1.39037819,  1.40039528,\n",
        "         1.07349379,  1.11418117,  0.83620759,  0.89701301,  0.89713179,\n",
        "         0.89777028,  0.44315412,  0.43969984,  0.09704225,  0.05562085,\n",
        "         0.89745103]])"
       ]
      }
     ],
     "prompt_number": 28
    },
    {
     "cell_type": "code",
     "collapsed": false,
     "input": [
      "bc.settopos(traj=traj,tk=1,Tstep=Tstep)\n",
      "fig,ax=bc.plot3d(topos=True)\n",
      "bc.settopos(traj=traj,tk=2,Tstep=Tstep)\n",
      "bc.plot3d(topos=True,fig=fig,ax=ax)\n",
      "bc.settopos(traj=traj,tk=6,Tstep=Tstep)\n",
      "bc.plot3d(topos=True,fig=fig,ax=ax)"
     ],
     "language": "python",
     "metadata": {},
     "outputs": [
      {
       "metadata": {},
       "output_type": "pyout",
       "prompt_number": 29,
       "text": [
        "(<matplotlib.figure.Figure at 0x4c1cc50>,\n",
        " <matplotlib.axes.Axes3DSubplot at 0x4fd3050>)"
       ]
      },
      {
       "metadata": {},
       "output_type": "display_data",
       "png": "[encoded data removed]",
       "text": [
        "<matplotlib.figure.Figure at 0x4c1cc50>"
       ]
      }
     ],
     "prompt_number": 29
    },
    {
     "cell_type": "heading",
     "level": 2,
     "metadata": {},
     "source": [
      "Coordinates systems"
     ]
    },
    {
     "cell_type": "markdown",
     "metadata": {},
     "source": [
      "Each cylinder is an edge of the `Body` graph. Each cylinder bears one specific coordinate system. One or several cylinder coordinate system can be chosen to define the Body Local Coordinates System which can be exploited for motion capture (BLCS). \n",
      "In general it will be chosen on a position which is the most time invariant as on the chest or the back. \n",
      "\n",
      "Those frames of references are all defined in th Global coordinate system of the scene."
     ]
    },
    {
     "cell_type": "markdown",
     "metadata": {},
     "source": [
      "The method `updbasis0()` is used to associate a Cylinder Coordinate System (CCS) to each cylinder of the bodyCylinder model. Notice that those cylinder coordinates systems are not known by the localization application. The localization application will define the LCS from the position of radiating devices placed on the body surface. "
     ]
    },
    {
     "cell_type": "code",
     "collapsed": false,
     "input": [
      "bc.vtopos"
     ],
     "language": "python",
     "metadata": {},
     "outputs": [
      {
       "metadata": {},
       "output_type": "pyout",
       "prompt_number": 30,
       "text": [
        "array([[ 1.],\n",
        "       [ 0.],\n",
        "       [ 0.]])"
       ]
      }
     ],
     "prompt_number": 30
    },
    {
     "cell_type": "code",
     "collapsed": false,
     "input": [
      "bc.updbasis0()"
     ],
     "language": "python",
     "metadata": {},
     "outputs": [],
     "prompt_number": 31
    },
    {
     "cell_type": "heading",
     "level": 3,
     "metadata": {},
     "source": [
      "principle of construction of CCS"
     ]
    },
    {
     "cell_type": "markdown",
     "metadata": {},
     "source": [
      "Each basis is constructed with the function from `geomutil.onbfromaxe()` : orthonormal bases from axes. This function takes 2 sets of $n$ points $\\mathbf{p}_{A,n}$ and $\\mathbf{p}_{B,n}$ as input and provides an orthonormal basis as output. One unitary vector is along the \n",
      "\n",
      "\n",
      "$$\\hat{\\mathbf{w}}_n = \\frac{\\mathbf{p}_B-\\mathbf{p}_A}{| \\mathbf{p}_B-\\mathbf{p}_A |} $$\n",
      "\n",
      "$$\\hat{\\mathbf{u}}_n = \\frac{\\mathbf{x} - (\\mathbf{x}.{\\hat{\\mathbf{w}}_n}) \\mathbf{\\hat{w}}_n}{|\\mathbf{x} - (\\mathbf{x}.{\\hat{\\mathbf{w}}_n}) \\mathbf{\\hat{w}}_n|} $$\n",
      "\n",
      "$$\\hat{\\mathbf{v}}_n = \\mathbf{\\hat{w}}_n \\times \\mathbf{\\hat{u}}_n  $$\n",
      "\n",
      "Where $\\mathbf{x}$ is a random vector chosen with the same seed in order for continuous motion not to introduce discontinuities in the generated frame. \n",
      "\n",
      "The outpout of `geomutil.onbframe` is an MDA  $(3\\times n \\times 3)$ of $n$ unitary matrix aggregated along axis 1 $$\\mathbf{T}_n=[\\hat{\\mathbf{u}}_n, \\hat{\\mathbf{v}}_n, \\hat{\\mathbf{w}}_n]$$\n",
      "\n",
      "Notice that the way the CCS are produced can introduced a subtle motion of the cylinder coordinates system from one frame to another, but this is very small effect due to the systematic randomness introduced by the seed. "
     ]
    },
    {
     "cell_type": "markdown",
     "metadata": {},
     "source": [
      "Create a Wireframe body representation from the body graph model"
     ]
    },
    {
     "cell_type": "code",
     "collapsed": false,
     "input": [
      "# create a geomview wireframe representation of the body \n",
      "dbody ={}\n",
      "edges = bc.g.edges()\n",
      "Ncyl = 11\n",
      "for ncy in range(Ncyl):\n",
      "    kta = edges[ncy][0]\n",
      "    khe = edges[ncy][1]\n",
      "    dbody[ncy]=(bc.topos[:,kta],bc.topos[:,khe])\n",
      "bodygv = geu.GeomVect('bodygv')\n",
      "bodygv.segments(dbody,i2d=False,linewidth=10)"
     ],
     "language": "python",
     "metadata": {},
     "outputs": [],
     "prompt_number": 32
    },
    {
     "cell_type": "markdown",
     "metadata": {},
     "source": [
      "Representation of frames associated with the cylinder"
     ]
    },
    {
     "cell_type": "code",
     "collapsed": false,
     "input": [
      "bodylist = geu.Geomlist('bodylist')\n",
      "bodylist.append('LIST\\n')\n",
      "#bodylist.append('{< axes.list}\\n')\n",
      "bodylist.append('{< bodygv.vect}\\n')\n",
      "for ncy in range(Ncyl):\n",
      "    kta = edges[ncy][0]\n",
      "    khe = edges[ncy][1]\n",
      "    radius = bc.g[kta][khe]['radius']\n",
      "    filename = 'bcyl'+str(ncy)\n",
      "    geov = geu.GeomVect(filename)\n",
      "    geov.geomBase(bc.basis0[ncy,:,:],pt=bc.topos[:,kta]+radius*bc.basis0[ncy,:,0],scale=0.1)\n",
      "    chaine =  '{<' + filename+'.vect' + \"}\\n\"\n",
      "    bodylist.append(chaine)\n",
      "bodylist.show3()    "
     ],
     "language": "python",
     "metadata": {},
     "outputs": [],
     "prompt_number": 34
    },
    {
     "cell_type": "markdown",
     "metadata": {},
     "source": [
      "On the figure below the wireframe model is shown associated with the 11 CCS (Cylinder coordinates systems) "
     ]
    },
    {
     "cell_type": "code",
     "collapsed": false,
     "input": [
      "Image('CCS.png')"
     ],
     "language": "python",
     "metadata": {},
     "outputs": [
      {
       "metadata": {},
       "output_type": "pyout",
       "png": "[encoded data removed]",
       "prompt_number": 56,
       "text": [
        "<IPython.core.display.Image at 0x5126550>"
       ]
      }
     ],
     "prompt_number": 56
    },
    {
     "cell_type": "heading",
     "level": 2,
     "metadata": {},
     "source": [
      "Placing an ACCS (Antenna Cylinder Coordinate System ) on the cylinder"
     ]
    },
    {
     "cell_type": "markdown",
     "metadata": {},
     "source": [
      "An ACCS is refered by 4 numbers $(Id,l,h,\\alpha)$"
     ]
    },
    {
     "cell_type": "heading",
     "level": 4,
     "metadata": {},
     "source": [
      "Cylinder Id"
     ]
    },
    {
     "cell_type": "code",
     "collapsed": false,
     "input": [
      "Id = 4 # 4 Left Arm\n",
      "l  = 0.1 # Longitudinal coordinates\n",
      "h  = 0.03 # height \n",
      "alpha = 45 # angle degrees"
     ],
     "language": "python",
     "metadata": {},
     "outputs": [],
     "prompt_number": 31
    },
    {
     "cell_type": "code",
     "collapsed": false,
     "input": [
      "ed = bc.g.edges()[Id]\n",
      "kta=ed[0]\n",
      "khe=ed[1]\n",
      "# TODO calculate cylinder length\n",
      "phe = array(bc.topos[:,khe])\n",
      "pta = array(bc.topos[:,kta])\n",
      "dl = phe-pta \n",
      "print bc.nodes_Id[kta],bc.nodes_Id[khe]\n",
      "lmax = sqrt(dot(dl,dl))\n",
      "print lmax"
     ],
     "language": "python",
     "metadata": {},
     "outputs": [
      {
       "output_type": "stream",
       "stream": "stdout",
       "text": [
        "LSHO LELB\n",
        "0.340172065924\n"
       ]
      }
     ],
     "prompt_number": 32
    },
    {
     "cell_type": "code",
     "collapsed": false,
     "input": [
      "import scipy.linalg as la\n",
      "origin = pta\n",
      "CCS = bc.basis0[Id,:,:]\n",
      "print origin\n"
     ],
     "language": "python",
     "metadata": {},
     "outputs": [
      {
       "output_type": "stream",
       "stream": "stdout",
       "text": [
        "[ 9.77969634  0.15909329  1.43225674]\n"
       ]
      }
     ],
     "prompt_number": 33
    },
    {
     "cell_type": "code",
     "collapsed": false,
     "input": [
      "print CCS\n",
      "#print la.det(CCS)"
     ],
     "language": "python",
     "metadata": {},
     "outputs": [
      {
       "output_type": "stream",
       "stream": "stdout",
       "text": [
        "[[ 0.51901548  0.75874855  0.39360331]\n",
        " [ 0.67148218 -0.6468559   0.3615095 ]\n",
        " [ 0.52889944  0.07666858 -0.84521436]]\n"
       ]
      }
     ],
     "prompt_number": 34
    },
    {
     "cell_type": "markdown",
     "metadata": {},
     "source": [
      "Rotate Matrix around z"
     ]
    },
    {
     "cell_type": "code",
     "collapsed": false,
     "input": [
      "R = np.array([[cos(alpha),-sin(alpha),0],[sin(alpha),cos(alpha),0],[0,0,1]])\n",
      "print R"
     ],
     "language": "python",
     "metadata": {},
     "outputs": [
      {
       "output_type": "stream",
       "stream": "stdout",
       "text": [
        "[[ 0.52532199 -0.85090352  0.        ]\n",
        " [ 0.85090352  0.52532199  0.        ]\n",
        " [ 0.          0.          1.        ]]\n"
       ]
      }
     ],
     "prompt_number": 35
    },
    {
     "cell_type": "code",
     "collapsed": false,
     "input": [
      "CCSr = dot(CCS,R)"
     ],
     "language": "python",
     "metadata": {},
     "outputs": [],
     "prompt_number": 36
    },
    {
     "cell_type": "code",
     "collapsed": false,
     "input": [
      "print CCSr"
     ],
     "language": "python",
     "metadata": {},
     "outputs": [
      {
       "output_type": "stream",
       "stream": "stdout",
       "text": [
        "[[ 0.91827206 -0.0430448   0.39360331]\n",
        " [-0.19766761 -0.91117418  0.3615095 ]\n",
        " [ 0.34308007 -0.40976671 -0.84521436]]\n"
       ]
      }
     ],
     "prompt_number": 37
    },
    {
     "cell_type": "code",
     "collapsed": false,
     "input": [
      "neworigin = origin + CCSr[:,2]*l + CCSr[:,0]*h\n",
      "print neworigin"
     ],
     "language": "python",
     "metadata": {},
     "outputs": [
      {
       "output_type": "stream",
       "stream": "stdout",
       "text": [
        "[ 9.84660483  0.18931421  1.3580277 ]\n"
       ]
      }
     ],
     "prompt_number": 38
    },
    {
     "cell_type": "code",
     "collapsed": false,
     "input": [
      "filename = 'cacs'+str(Id)\n",
      "geov = geu.GeomVect(filename)\n",
      "geov.geomBase(CCSr,pt= neworigin,scale=0.1)\n",
      "chaine =  '{<' + filename+'.vect' + \"}\\n\"\n",
      "bodylist.append(chaine)"
     ],
     "language": "python",
     "metadata": {},
     "outputs": [],
     "prompt_number": 39
    },
    {
     "cell_type": "code",
     "collapsed": false,
     "input": [
      "bodylist.show3()"
     ],
     "language": "python",
     "metadata": {},
     "outputs": [],
     "prompt_number": 40
    },
    {
     "cell_type": "code",
     "collapsed": false,
     "input": [
      "#bc.settopos(traj,2.3,Tstep)\n",
      "#bc.movie(traj=traj,tk=time,topos=True)\n",
      "############# verification de la base\n",
      "#B.LoadMotion()\n",
      "#c3d_frames = B.d\n",
      "#B.CylinderModel()\n",
      "#fr_id  = 125\n",
      "#B.cylinder_basis0()\n",
      "#B.cylinder_basis_k (frameId = fr_id)\n",
      "#P = np.array([1,1,1])\n",
      "#for cy_id in range(10):\n",
      "#A = np.zeros(shape = (3))\n",
      "#u0 = B.basis0[cy_id,0:3]\n",
      "#v0 = B.basis0[cy_id,3:6]\n",
      "#w0 = B.basis0[cy_id,6:]\n",
      "#fig  = plt.figure()\n",
      "#ax = fig.add_subplot(111, projection='3d')\n",
      "#SF = 1\n",
      "#plt.plot((A[0],SF*u0[0]+A[0]),(A[1],SF*u0[1]+A[1]),(A[2],SF*u0[2]+A[2]), 'y')\n",
      "#plt.plot((A[0],SF*v0[0]+A[0]),(A[1],SF*v0[1]+A[1]),(A[2],SF*v0[2]+A[2]),'r')\n",
      "#plt.plot((A[0],SF*w0[0]+A[0]),(A[1],SF*w0[1]+A[1]),(A[2],SF*w0[2]+A[2]),'g')\n",
      "#uk = B.basisk[cy_id,0:3]\n",
      "#vk = B.basisk[cy_id,3:6]\n",
      "#wk = B.basisk[cy_id,6:]\n",
      "#plt.plot((A[0],SF*uk[0]+A[0]),(A[1],SF*uk[1]+A[1]),(A[2],SF*uk[2]+A[2]), 'y--')\n",
      "#plt.plot((A[0],SF*vk[0]+A[0]),(A[1],SF*vk[1]+A[1]),(A[2],SF*vk[2]+A[2]),'r--')\n",
      "#plt.plot((A[0],SF*wk[0]+A[0]),(A[1],SF*wk[1]+A[1]),(A[2],SF*wk[2]+A[2]),'g--')\n",
      "#plt.autoscale()\n",
      "#plt.title(str(cy_id))\n",
      "#plt.show()\n",
      "############   Antenna on cylinders\n",
      "\n",
      "# Load a .c3dmotion capture file\n",
      "\n",
      "#\n",
      "# extract a numpy array (3 x np x nf )\n",
      "#\n",
      "#   3  : x y  z\n",
      "#   np : number of points\n",
      "#   nf : number of frames\n",
      "#\n",
      "\n",
      "#c3dframe = bc.d\n",
      "\n",
      "#bc.geomfile(0)\n",
      "#bc.movie()\n",
      "#pg = np.sum(bc.d,axis=1)\n",
      "\n",
      "#\n",
      "# Convert c3d file into a 10 (4+4+1+1) cylinder model\n",
      "#\n",
      "#  4 arms 4 legs 1 trunk 1 head\n",
      "#\n",
      "#  create member c array\n",
      "#  c : array(shape  =  (nc,8)), Id (1), A coordinate (3) , B coordinate (3) , radius (1)\n",
      "#\n",
      "\n",
      "#bc.antennas()\n",
      "\n",
      "#\n",
      "# create a reference basis on each cylinder\n",
      "#\n",
      "# WARNING : arbitray orientation for the first frame\n",
      "#\n",
      "\n",
      "#bc.cylinder_basis0()\n",
      "#\n",
      "##\n",
      "## Below an example of positioning antenna around cylnders\n",
      "##\n",
      "##\n",
      "#\n",
      "#fr_ind = 0\n",
      "#cyl = B.c[:, :, fr_ind]\n",
      "## scale factor\n",
      "#SF = 1\n",
      "#\n",
      "## 10 antennas on 10 cylinders\n",
      "#\n",
      "#cy_id = range(0, 10)\n",
      "#l = np.ones((10))\n",
      "#alpha = np.pi / 2 * np.ones((10))\n",
      "#\n",
      "#\n",
      "##\n",
      "## Display Frame 0 \n",
      "##\n",
      "#B.cyl_antenna(cy_id, l, alpha, 0)\n",
      "#\n",
      "#fig = plt.figure()\n",
      "#\n",
      "#ax = fig.add_subplot(111, aspect='equal', projection='3d')\n",
      "#\n",
      "#for i in range(B.c.shape[0]):\n",
      "#    pltu.cylinder(fig, cyl[i, 1:4], cyl[i, 4:7], cyl[i, 7])\n",
      "#    A3 = cyl[i, 1:4]\n",
      "#    u3 = B.basis0[i, 0:3]\n",
      "#    v3 = B.basis0[i, 3:6]\n",
      "#    w3 = B.basis0[i, 6:]\n",
      "#\n",
      "#    plt.plot((A3[0], SF * u3[0] + A3[0]), (\n",
      "#        A3[1], SF * u3[1] + A3[1]), (A3[2], SF * u3[2] + A3[2]), 'y--')\n",
      "#    plt.plot((A3[0], SF * v3[0] + A3[0]), (\n",
      "#        A3[1], SF * v3[1] + A3[1]), (A3[2], SF * v3[2] + A3[2]), 'r--')\n",
      "#    plt.plot((A3[0], SF * w3[0] + A3[0]), (\n",
      "#        A3[1], SF * w3[1] + A3[1]), (A3[2], SF * w3[2] + A3[2]), 'g--')\n",
      "#    plt.plot((A3[0], B.ant[i, 0] + A3[0]), (\n",
      "#        A3[1], B.ant[i, 1] + A3[1]), (A3[2], B.ant[i, 2] + A3[2]), 'c*--')\n",
      "#    #~ plt.axis('tight')\n",
      "#    #~ fig  = plt.figure()\n",
      "#    #~ plt.plot((A3[0],SF*u3[0]+A3[0]),(A3[1],SF*u3[1]+A3[1]), 'y--')\n",
      "#    #~ plt.plot((A3[0],SF*v3[0]+A3[0]),(A3[1],SF*v3[1]+A3[1]),'r--')\n",
      "#    #~ plt.plot((A3[0],SF*w3[0]+A3[0]),(A3[1],SF*w3[1]+A3[1]),'g--')\n",
      "#        #~\n",
      "#    #~ plt.plot((A3[0],B.ant[0]+ A3[0]) ,(A3[1],B.ant[1]+ A3[1]),'c*--')\n",
      "#    #~ plt.axis('scaled')\n",
      "#\n",
      "##\n",
      "## Display Frame 60 \n",
      "##\n",
      "#fr_ind2 = 60\n",
      "#cyl1 = B.c[:, :, fr_ind2]\n",
      "#B.cylinder_basis_k(frameId=fr_ind2)\n",
      "#B.cyl_antenna(cy_id, l, alpha, fr_ind2)\n",
      "#SF = 1\n",
      "#\n",
      "#fig = plt.figure()\n",
      "#for i in range(B.c.shape[0]):\n",
      "#    pltu.cylinder(fig, cyl1[i, 1:4], cyl1[i, 4:7], cyl1[i, 7])\n",
      "#    A3 = cyl1[i, 1:4]\n",
      "#    u3 = B.basisk[i, 0:3]\n",
      "#    v3 = B.basisk[i, 3:6]\n",
      "#    w3 = B.basisk[i, 6:]\n",
      "#\n",
      "#    plt.plot((A3[0], SF * u3[0] + A3[0]), (\n",
      "#        A3[1], SF * u3[1] + A3[1]), (A3[2], SF * u3[2] + A3[2]), 'y--')\n",
      "#    plt.plot((A3[0], SF * v3[0] + A3[0]), (\n",
      "#        A3[1], SF * v3[1] + A3[1]), (A3[2], SF * v3[2] + A3[2]), 'r--')\n",
      "#    plt.plot((A3[0], SF * w3[0] + A3[0]), (\n",
      "#        A3[1], SF * w3[1] + A3[1]), (A3[2], SF * w3[2] + A3[2]), 'g--')\n",
      "#    plt.plot((A3[0], B.ant[i, 0] + A3[0]), (\n",
      "#        A3[1], B.ant[i, 1] + A3[1]), (A3[2], B.ant[i, 2] + A3[2]), 'c*--')\n",
      "#    #~ plt.axis('tight')\n",
      "#\n",
      "#plt.show()\n",
      "#\n",
      "#####################\n",
      "#B.LoadMotion()\n",
      "#f = B.d\n",
      "#cycle_distance = dist(f[:, 0, 0], f[:, 0, -1])\n",
      "#print 'distance parcouru pendant un cycle de marche = ', cycle_distance\n",
      "##~ for fr_id in range(0,124):\n",
      "#    #~ inter_frames_dist = dist(f[:,0,fr_id],f[:,0,fr_id  +1])\n",
      "#    #~ print ' frame ID = ' , fr_id ,  'distance parcouru pendant un step = ', inter_frames_dist\n",
      "##~\n",
      "##~\n",
      "#\n",
      "######## test translation and rotation\n",
      "#fig = plt.figure()\n",
      "#\n",
      "#ax = fig.add_subplot(111, projection='3d')\n",
      "#ax.scatter(f[0, :, 0], f[1, :, 0], f[2, :, 0], c='g', marker='o')\n",
      "#ax.scatter(f[0, :, -1], f[1, :, -1], f[2, :, -1], c='g', marker='*')\n",
      "#\n",
      "## translation\n",
      "##~ p = np.array([0,0,0])\n",
      "##~ f1 = translate(f,p)\n",
      "##~ ax.scatter(f1[0,:,0],f1[1,:,0],f1[2,:,0] )\n",
      "##~ ax.scatter(f1[0,:,-1],f1[1,:,-1],f1[2,:,-1] )\n",
      "## rotantion\n",
      "##~ fig = plt.figure()\n",
      "##~\n",
      "##~ ax = fig.add_subplot(111, projection='3d')\n",
      "#f2 = rotation(f, np.pi / 2)\n",
      "#ax.scatter(f2[0, :, 0], f2[1, :, 0], f2[2, :, 0], c='r', marker='o')\n",
      "#ax.scatter(f2[0, :, -1], f2[1, :, -1], f2[2, :, -1], c='r', marker='*')\n",
      "#plt.show()\n"
     ],
     "language": "python",
     "metadata": {},
     "outputs": [],
     "prompt_number": 41
    },
    {
     "cell_type": "heading",
     "level": 2,
     "metadata": {},
     "source": [
      "Trajectory Class"
     ]
    },
    {
     "cell_type": "markdown",
     "metadata": {},
     "source": [
      "This class inheritates from `pandas.DataFrame`"
     ]
    },
    {
     "cell_type": "code",
     "collapsed": false,
     "input": [
      "t = arange(0,10,0.01)"
     ],
     "language": "python",
     "metadata": {},
     "outputs": [],
     "prompt_number": 42
    },
    {
     "cell_type": "code",
     "collapsed": false,
     "input": [
      "x = 2*t*np.cos(t)\n",
      "y = 3*t*np.sin(t) \n",
      "pt =np.vstack((x,y)).T\n",
      "traj = Trajectory(t,pt)\n",
      "traj.plot()"
     ],
     "language": "python",
     "metadata": {},
     "outputs": [
      {
       "metadata": {},
       "output_type": "pyout",
       "prompt_number": 43,
       "text": [
        "(<matplotlib.figure.Figure at 0x5233610>,\n",
        " <matplotlib.axes.AxesSubplot at 0x5233450>)"
       ]
      },
      {
       "metadata": {},
       "output_type": "display_data",
       "png": "[encoded data removed]",
       "text": [
        "<matplotlib.figure.Figure at 0x5233610>"
       ]
      }
     ],
     "prompt_number": 43
    },
    {
     "cell_type": "code",
     "collapsed": false,
     "input": [
      "traj.columns"
     ],
     "language": "python",
     "metadata": {},
     "outputs": [
      {
       "metadata": {},
       "output_type": "pyout",
       "prompt_number": 44,
       "text": [
        "Index([u't', u'x', u'y', u'vx', u'vy', u'ax', u'ay', u's'], dtype=object)"
       ]
      }
     ],
     "prompt_number": 44
    },
    {
     "cell_type": "code",
     "collapsed": false,
     "input": [
      "figsize(10,10)\n",
      "plot(traj['t'],traj['s'])"
     ],
     "language": "python",
     "metadata": {},
     "outputs": [
      {
       "metadata": {},
       "output_type": "pyout",
       "prompt_number": 45,
       "text": [
        "[<matplotlib.lines.Line2D at 0x546b490>]"
       ]
      },
      {
       "metadata": {},
       "output_type": "display_data",
       "png": "[encoded data removed]",
       "text": [
        "<matplotlib.figure.Figure at 0x523da10>"
       ]
      }
     ],
     "prompt_number": 45
    },
    {
     "cell_type": "heading",
     "level": 2,
     "metadata": {},
     "source": [
      "Testing geomutil functions"
     ]
    },
    {
     "cell_type": "code",
     "collapsed": false,
     "input": [
      "from pylayers.util.geomutil import *                     \n",
      "import numpy as np\n",
      "v1 = np.array([1,0,0])     # blue   first vector                             \n",
      "v2 = np.array([0,1,0])     # green  second vector                              \n",
      "v3 = np.array([0,0,1])     # rouge  third vector\n",
      "M  = np.vstack((v1,v2,v3))  \n",
      "gv = Geomlist('testcolor')\n",
      "gv.append('LIST\\n')\n",
      "gv1 = GeomVect('test')\n",
      "gv1.geomBase(M,pt=np.array([1,1,1]))  \n",
      "gv.append('{< axes.list}')\n",
      "gv.append('{< test.vect}')                                        \n",
      "gv.show3()  "
     ],
     "language": "python",
     "metadata": {},
     "outputs": [],
     "prompt_number": 46
    },
    {
     "cell_type": "markdown",
     "metadata": {},
     "source": [
      "+ x bleu\n",
      "+ y vert \n",
      "+ z rouge"
     ]
    },
    {
     "cell_type": "code",
     "collapsed": false,
     "input": [
      "bc.show3(topos=True,wire=True,tag='A',ccs=True,lccs=[9])"
     ],
     "language": "python",
     "metadata": {},
     "outputs": [],
     "prompt_number": 51
    },
    {
     "cell_type": "code",
     "collapsed": false,
     "input": [
      "bc.topos\n"
     ],
     "language": "python",
     "metadata": {},
     "outputs": [
      {
       "metadata": {},
       "output_type": "pyout",
       "prompt_number": 48,
       "text": [
        "array([[  9.89945510e+00,   9.84826943e+00,   9.86555585e+00,\n",
        "          9.77740675e+00,   9.77969634e+00,   9.67324626e+00,\n",
        "          9.91358919e+00,   9.61845990e+00,   1.01306583e+01,\n",
        "          9.89051451e+00,   9.84037112e+00,   9.97141708e+00,\n",
        "          9.62393031e+00,   1.01335157e+01,   9.48368650e+00,\n",
        "          9.86544282e+00],\n",
        "       [  1.35729927e-02,   2.67792236e-03,  -9.19716832e-02,\n",
        "         -1.61473869e-01,   1.59093285e-01,  -2.69363336e-01,\n",
        "          2.82068720e-01,  -3.10651249e-01,   2.86795700e-01,\n",
        "         -1.08841590e-01,   1.62691152e-01,  -1.24547392e-01,\n",
        "          1.41761439e-01,  -7.78438510e-02,   6.91069793e-02,\n",
        "          2.69247808e-02],\n",
        "       [  1.21425380e+00,   1.37895595e+00,   1.59492178e+00,\n",
        "          1.40903383e+00,   1.43225674e+00,   1.08984120e+00,\n",
        "          1.14473842e+00,   8.17793164e-01,   9.68609878e-01,\n",
        "          9.22161635e-01,   9.14974379e-01,   4.52775611e-01,\n",
        "          4.56208381e-01,   9.50155578e-02,   7.19159023e-02,\n",
        "          9.18568007e-01]])"
       ]
      }
     ],
     "prompt_number": 48
    },
    {
     "cell_type": "code",
     "collapsed": false,
     "input": [],
     "language": "python",
     "metadata": {},
     "outputs": [],
     "prompt_number": 48
    }
   ],
   "metadata": {}
  }
 ]
}