{
 "metadata": {
  "name": ""
 },
 "nbformat": 3,
 "nbformat_minor": 0,
 "worksheets": [
  {
   "cells": [
    {
     "cell_type": "heading",
     "level": 2,
     "metadata": {},
     "source": [
      "Body mobility "
     ]
    },
    {
     "cell_type": "code",
     "collapsed": false,
     "input": [
      "from pylayers.mobility.body.body import *\n",
      "from pylayers.mobility.trajectory import Trajectory\n",
      "from IPython.display import Image"
     ],
     "language": "python",
     "metadata": {},
<<<<<<< HEAD
     "outputs": []
=======
     "outputs": [],
     "prompt_number": 3
>>>>>>> 4d8cda3d9bffc47d6acfa33b3a36ac11ca8b8227
    },
    {
     "cell_type": "markdown",
     "metadata": {},
     "source": [
      "The body mobility is imported from motion capture files. This is the best manner to achieve a high degree of realism for the modeling of the human motion. Two kind of files exist : \n",
      "\n",
      "+ `c3d` files are a set of point which are evolving in time\n",
      "+ `bvh` files are a stuctured version of the motion capture.\n",
      "\n",
      "Both type of file will be exploited in the following. "
     ]
    },
    {
     "cell_type": "heading",
     "level": 2,
     "metadata": {},
     "source": [
      "`BodyCylinder` data structure"
     ]
    },
    {
     "cell_type": "markdown",
     "metadata": {},
     "source": [
      "To ease further electromagnetic simulation a simplification of the motion capture data structure has been defined. This is a restriction of key body segments which are transformed into $K$ cylinders of radius $r_k$. \n",
      "\n",
      "The chosen model contains 11 cylinders. 4 cylinders for the arms, 4 cylinders for the legs 2 cylinders for the trunk and 1 cylinder for the head. \n",
      "\n",
      "The body cylinder model is handle by the dedicated class `Body`"
     ]
    },
    {
     "cell_type": "code",
     "collapsed": false,
     "input": [
      "#\n",
      "# create a Body object\n",
      "#\n",
      "bc = Body()"
     ],
     "language": "python",
     "metadata": {},
<<<<<<< HEAD
     "outputs": []
=======
     "outputs": [],
     "prompt_number": 4
>>>>>>> 4d8cda3d9bffc47d6acfa33b3a36ac11ca8b8227
    },
    {
     "cell_type": "markdown",
     "metadata": {},
     "source": [
      "At that point a graph has been defined. The topology of the body is already there, as well as default informations, related to cylinders radius and material. The length of the cylinders is not known at that point because it will depend on a specific motion capture file.  "
     ]
    },
    {
     "cell_type": "code",
     "collapsed": false,
     "input": [
      "#\n",
      "# edge of the body cylinder graph\n",
      "#\n",
      "bc.g.edge"
     ],
     "language": "python",
     "metadata": {},
<<<<<<< HEAD
     "outputs": []
=======
     "outputs": [
      {
       "metadata": {},
       "output_type": "pyout",
       "prompt_number": 5,
       "text": [
        "{0: {1: {'radius': 0.18}, 15: {'radius': 0.05}},\n",
        " 1: {0: {'radius': 0.18}, 2: {'radius': 0.12}},\n",
        " 2: {1: {'radius': 0.12}},\n",
        " 3: {5: {'radius': 0.05}},\n",
        " 4: {6: {'radius': 0.05}},\n",
        " 5: {3: {'radius': 0.05}, 7: {'radius': 0.05}},\n",
        " 6: {4: {'radius': 0.05}, 8: {'radius': 0.05}},\n",
        " 7: {5: {'radius': 0.05}},\n",
        " 8: {6: {'radius': 0.05}},\n",
        " 9: {11: {'radius': 0.05}},\n",
        " 10: {12: {'radius': 0.05}},\n",
        " 11: {9: {'radius': 0.05}, 13: {'radius': 0.05}},\n",
        " 12: {10: {'radius': 0.05}, 14: {'radius': 0.05}},\n",
        " 13: {11: {'radius': 0.05}},\n",
        " 14: {12: {'radius': 0.05}},\n",
        " 15: {0: {'radius': 0.05}}}"
       ]
      }
     ],
     "prompt_number": 5
>>>>>>> 4d8cda3d9bffc47d6acfa33b3a36ac11ca8b8227
    },
    {
     "cell_type": "code",
     "collapsed": false,
     "input": [
      "bc.g.edge[0][1]['radius']"
     ],
     "language": "python",
     "metadata": {},
<<<<<<< HEAD
     "outputs": []
=======
     "outputs": [
      {
       "metadata": {},
       "output_type": "pyout",
       "prompt_number": 6,
       "text": [
        "0.18"
       ]
      }
     ],
     "prompt_number": 6
>>>>>>> 4d8cda3d9bffc47d6acfa33b3a36ac11ca8b8227
    },
    {
     "cell_type": "heading",
     "level": 2,
     "metadata": {},
     "source": [
      "Loading a motion capture file"
     ]
    },
    {
     "cell_type": "markdown",
     "metadata": {},
     "source": [
      "A `.c3d` motion capture file is loaded with the method `loadC3D` with as arguments the motion capture file and the number of frames to load.  \n",
      "\n",
      "A motion is associated as a data member of the `BodyCylinder` object. The motion is a sequence of framef stored in `d` variable member."
     ]
    },
    {
     "cell_type": "markdown",
     "metadata": {},
     "source": [
      "It is possible to get the information from the C3D header by using the verbose option of the `read_c3d` function"
     ]
    },
    {
     "cell_type": "code",
     "collapsed": false,
     "input": [
      "s, p, f , info= c3d.read_c3d('07_01.c3d',verbose=True)"
     ],
     "language": "python",
     "metadata": {},
<<<<<<< HEAD
     "outputs": []
=======
     "outputs": [
      {
       "output_type": "stream",
       "stream": "stdout",
       "text": [
        "*********************\n",
        "**** Opening File ***\n",
        "*********************\n",
        "FileName =  /home/uguen/Bureau/P1/body/c3d/07_01.c3d\n",
        "***********************\n",
        "**** Reading Header ***\n",
        "***********************\n",
        "NanalogFramesPerVideoFrame=  5\n",
        "AnalogFrameRate=  600.0\n",
        "VideoFrameRate=  120.0\n",
        "Scale=  -0.10000000149\n",
        "Nmarkers=  41\n",
        "StartFrame=  235\n",
        "EndFrame=  550\n",
        "***********************\n",
        "**** Reading Events ...\n",
        "***********************\n",
        "EventIndicator =  12345\n",
        "***************************\n",
        "**** Reading Parameters ...\n",
        "***************************\n",
        "NparameterRecords= 14\n",
        "SUBJECTS =  ['liu:']\n",
        "POINT =  ['liu:LFIN', 'liu:LFWT', 'liu:LWRB', 'liu:RELB', 'liu:LSHO', 'liu:LELB', 'liu:RUPA', 'liu:RBHD', 'liu:LBHD', 'liu:LUPA', 'liu:RFRM', 'liu:RFHD', 'liu:C7', 'liu:RSHO', 'liu:LKNE', 'liu:LFHD', 'liu:T10', 'liu:RBAC', 'liu:RWRB', 'liu:RFWT', 'liu:RFIN', 'liu:RBWT', 'liu:LBWT', 'liu:RWRA', 'liu:STRN', 'liu:LWRA', 'liu:LFRM', 'liu:LSHN', 'liu:CLAV', 'liu:RANK', 'liu:LTHI', 'liu:LTOE', 'liu:LMT5', 'liu:LANK', 'liu:RTHI', 'liu:LHEE', 'liu:RKNE', 'liu:RSHN', 'liu:RHEE', 'liu:RTOE', 'liu:RMT5']\n",
        "Nparameters="
       ]
      },
      {
       "output_type": "stream",
       "stream": "stdout",
       "text": [
        " 0\n",
        "NVideoFrames =  316\n",
        "***************************"
       ]
      },
      {
       "output_type": "stream",
       "stream": "stdout",
       "text": [
        "\n",
        "**** Reading DataBlock ....\n",
        "***************************\n",
        "* * * * * * * * * * * * * * * * * * * * * * * * * * * * * * * * * * * * * * * * * * * * * * * * * * * * * * * * * * * * * * * * * * * * * * * * * * * * * * * * * * * * * * * * * * * * * * * * * * * * * * * * * * * * * * * * * * * * * * * * * * * * * * * * * * * * * * * * * * * * * * * * * * * * * * * * * * * * * * * * * * * * * * * * * * * * * * * * * * * * * * * * * * * * * * "
       ]
      },
      {
       "output_type": "stream",
       "stream": "stdout",
       "text": [
        "* * * * * * * * * * * * * * * * * * * * * * * * * * * * * * * * * * * * * * * * * * * * * * * * * * * * * * * * * * * * * * * * * * * * * * * * * * * * * * * * * * * * * * * * * * * * * * * * * * * * * * * * * * * * * * * * * * * * * * * * * * * * * *\n"
       ]
      }
     ],
     "prompt_number": 7
>>>>>>> 4d8cda3d9bffc47d6acfa33b3a36ac11ca8b8227
    },
    {
     "cell_type": "code",
     "collapsed": false,
     "input": [
      "info"
     ],
     "language": "python",
     "metadata": {},
<<<<<<< HEAD
     "outputs": []
=======
     "outputs": [
      {
       "metadata": {},
       "output_type": "pyout",
       "prompt_number": 8,
       "text": [
        "{'AnalogFrameRate': 600.0,\n",
        " 'EndFrame': 550,\n",
        " 'NanalogFramesPerVideoFRame': 5,\n",
        " 'Nmarkers': 41,\n",
        " 'Scale': -0.10000000149011612,\n",
        " 'StartFrame': 235,\n",
        " 'VideoFrameRate': 120.0}"
       ]
      }
     ],
     "prompt_number": 8
>>>>>>> 4d8cda3d9bffc47d6acfa33b3a36ac11ca8b8227
    },
    {
     "cell_type": "code",
     "collapsed": false,
     "input": [
      "Vrate = 120\n",
      "Tframe = 1./120\n",
      "# select a number of frame \n",
      "nframes = 300\n",
      "Tstep = Tframe*nframes\n",
      "#\n",
      "# load a .c3dmotion capture file\n",
      "# this update the g.pos \n",
      "#\n",
      "bc.loadC3D(filename='07_01.c3d',nframes=nframes)"
     ],
     "language": "python",
     "metadata": {},
<<<<<<< HEAD
     "outputs": []
=======
     "outputs": [],
     "prompt_number": 9
>>>>>>> 4d8cda3d9bffc47d6acfa33b3a36ac11ca8b8227
    },
    {
     "cell_type": "markdown",
     "metadata": {},
     "source": [
      "The duration of the capture is "
     ]
    },
    {
     "cell_type": "code",
     "collapsed": false,
     "input": [
      "print \"Duration of the motion capture sequence\", Tstep"
     ],
     "language": "python",
     "metadata": {},
<<<<<<< HEAD
     "outputs": []
=======
     "outputs": [
      {
       "output_type": "stream",
       "stream": "stdout",
       "text": [
        "Duration of the motion capture sequence 2.5\n"
       ]
      }
     ],
     "prompt_number": 10
>>>>>>> 4d8cda3d9bffc47d6acfa33b3a36ac11ca8b8227
    },
    {
     "cell_type": "code",
     "collapsed": false,
     "input": [
      "bc"
     ],
     "language": "python",
     "metadata": {},
<<<<<<< HEAD
     "outputs": []
=======
     "outputs": [
      {
       "metadata": {},
       "output_type": "pyout",
       "prompt_number": 11,
       "text": [
        "filename : 07_01.c3d\n",
        "nframes : 300\n",
        "{'VideoFrameRate': 120.0, 'Scale': -0.10000000149011612, 'EndFrame': 550, 'AnalogFrameRate': 600.0, 'StartFrame': 235, 'Nmarkers': 41, 'NanalogFramesPerVideoFRame': 5}\n",
        "Mocap Speed : 1.34774038358\n",
        "topos : False\n"
       ]
      }
     ],
     "prompt_number": 11
>>>>>>> 4d8cda3d9bffc47d6acfa33b3a36ac11ca8b8227
    },
    {
     "cell_type": "markdown",
     "metadata": {},
     "source": [
      "`d` is a MDA of shape (3,npoint,nframe). It contains all the possible configurations of the body. In general it is supposed to be a cyclic motion as a integer number of walking steps. This allows to instantiate the body configuration anywhere else in space in a given chronology. A specific space-time configuration of the body is called a `topos`."
     ]
    },
    {
     "cell_type": "code",
     "collapsed": false,
     "input": [
      "np.shape(bc.d)"
     ],
     "language": "python",
     "metadata": {},
<<<<<<< HEAD
     "outputs": []
=======
     "outputs": [
      {
       "metadata": {},
       "output_type": "pyout",
       "prompt_number": 12,
       "text": [
        "(3, 16, 300)"
       ]
      }
     ],
     "prompt_number": 12
>>>>>>> 4d8cda3d9bffc47d6acfa33b3a36ac11ca8b8227
    },
    {
     "cell_type": "markdown",
     "metadata": {},
     "source": [
      "+ 3  : dimension of space\n",
      "+ 16 : number of nodes\n",
      "+ 300 : number of frames "
     ]
    },
    {
     "cell_type": "markdown",
     "metadata": {},
     "source": [
      "The figure below shows the projection in a vertival plane of the body nodes. "
     ]
    },
    {
     "cell_type": "code",
     "collapsed": false,
     "input": [
      "figsize=(8,8)\n",
      "bc.showg(4)\n",
      "bc.showg(45)"
     ],
     "language": "python",
     "metadata": {},
<<<<<<< HEAD
     "outputs": []
=======
     "outputs": [
      {
       "metadata": {},
       "output_type": "display_data",
       "png": "iVBORw0KGgoAAAANSUhEUgAAAIwAAAE+CAYAAABftfj0AAAABHNCSVQICAgIfAhkiAAAAAlwSFlz\nAAALEgAACxIB0t1+/AAAIABJREFUeJztnXd4FNX6xz+7ySa7s5ueQAiGrqDci1RFKdKkiAhWwI4i\nghXlChYUvDYQf8i1IFa4ol6UpoJiA0QUERQkiCAKIhdIKIGE9LDZ9/fHbLibzW6SSTbZlPN5nnmA\nmTPnvDP75bQ5531NIiIoFBXEHGwDFHULJRiFIZRgFIZQglEYQglGYQglGIUhlGAUhlCCURhCCUZh\nCCUYhSGUYBSGUIJRGEIJRmEIJRiFIZRgFIZQglEYQglGYQglGIUhlGAUhlCCURhCCUZhCCUYhSGU\nYBSGUIJRGEIJRmEIJRiFIZRgFIZQglEYQglGYQglGIUhlGAUhlCCURhCCUZhCCUYhSGUYBSGUIJR\nGEIJRmEIJRiFIZRgFIZQglEYQglGYQglGIUhlGAUhlCCURhCCUZhCCUYhSGUYBSGUIJRGEIJRmEI\nJRiFIZRgFIYIDbYBwaagoIBffvmF48ePExoaSkJCAu3bt8dkMgXbtFpJgxXMn3/+yasvvcRbr79O\nE5OJeJOJImC/00lYdDR3PPAAN950E9HR0cE2tXYhDQyn0yn3jh8vcVar3B8WJrtBxONwgXwDMkrT\nJNpmk38vWBBsk2sVDUowTqdTrho6VPprmpzwEoqvYwdIC02T52fNCrbptYYGJZiJEyZIP02TggqI\npfjYD5KsabJ0yZJgm18rMIk0jEDn+/bto8vZZ7MnPx+jvZL1wJjERHYfPIjZ3LAHlg3m6V97+WVu\ndLlKiaUQuBVoASQANwDfeaXpCUTl5PDll19Wu521nQYhmIKCAt589VXGFxaWuuYEmgHfAAeBPsAo\n9/liTMAdWVm8PHNm9Rtby2kQTdLWrVu54aKL+CUrq0LpzwReAgZ5nDsBNAsPJys/vxosrDs0iBrm\nxIkTxFew73HQfbTyOh8N5BUWcurUqQBbV7doEIIJDQ0t0cT4oxC4DrgNvZbxxAUIEBISEmDr6hYN\nQjCNGjXiv04nZbW9LuB6IAKY7eP6ASDWblejpGAbUBO0bduWiPh4vvZzXdBHSseAJYCvOmRBaCjX\nXHNNNVlYd2gQgjGZTNzxwAPMtdt9Xr8D2AWsAMJ9XD8FvGaxMOG++6rPyDpCgxglAZw8eZIWTZrw\ndW4uHTzO/wW0BKyUrFleA0a7//6qycS7HTvyzZYtNWRtLSaY08w1zXvvvivJNpv8aeDTwGcgjRwO\n2bFjR7DNrxU0KMGIiLw0Z44k2Wyyxv1l2p9QCkFeMZmkUUSEfPvtt8E2u9bQ4AQjIvLRRx/JWUlJ\n0sHhkFdAjoAUuUWyF+TRkBCJMZnkos6dVc3iRYMUjIiIy+WSr776Si4fOFCibDYxm0wSYjZL48hI\nuWvsWOnYsaMsXrw42GbWOhpMp7c8ioqKMJvNp5dmLl++nJkzZ/L9999Xy3LN3bt3s3TpUo4ePEiR\n00lM48b069+fXr161erloUowfigqKqJdu3YsWLCAHj16BCRPl8vFRx99xNyZM9meksIop5PkU6cI\nAY6ZTCy12wmNi+OOyZO58aabsPuZBggqwa3gajcvv/yyjBgxIiB55eXlyTXDhklHu13eBcn30dF2\ngawBGaZp0qF1azlw4EBAyg4kDUowRUVFkpubKy6Xq0Lpc3JyJCEhQX777bcqlXvq1Cm5pE8fucpq\nlbwKDOVdIDNCQ6VVYqKkpaVVqexAU+9nelNTU3li2jRaNmpEmMVCdEQE4RYLnc88k9defZXs7Gy/\n92qaxvjx43n++eerZMPUBx6gaNMm3svPx1qB9CZgitPJ9enpXDVkCFKbeg3BVmx1kZGRIdddfrlE\nh4fL7VarbAE55f4fnA/yBcgIh0NiNU2mTp4sTqfTZz5paWkSExMjR44cqZQdJ0+elBibTQ6UUaPs\nBgkHud7rfBFIG7tdvvvuu6q8ioBSLzu9aWlpXHzhhfQ6dIhnCgqIKiPtfuBmTSO6Vy8WffwxYWFh\npdLcdtttNG7cmFatWvHZ4sUcP3oUk8lEXOPGDBs9mquuuorwcF9foeCVuXNZPXkyS3Jy/NowEMhH\nXyb6tte12SYTW0aM4J1ly8p+6Joi2IoNNFlZWdK5bVt5LDS0zJlcz6PA3dG88ZprSvVv0tLS5ObR\no8VmMslQh0MWumunz0HmgwyIiJBGERHy4KRJkp6eXsqec1u1kq/KKPs/INeATPdRwwhIOkhUeLjP\nvINBvRPM9KlTZaTVWmGxFB/ZIGfb7bJq1arTef3666/SPCFB7rZYZG8Z9+4CuTU8XNomJ8vevXtP\n3+9yucQSEuJzRCQgmSBngRwEmeZHMALSOTJSNm/eHIzXWYp6JZjCwkJJio6WFD8v/jqQRJBokD4g\n87yuvw5yWb9+IiKyb98+SYqJkQUmU4VF9y+zWVo2bnx6ZJOXlycWs9lv+ntAnnX/3V8NIyB9oqJk\n9erVwXy1p6lXglmyZIn0iojw+wP9ApKHPmzdCBLlPudZy8RarfLnn3/K+e3by+yQEEO1lIA8arHI\n4F69RESvYULMZin0kW4rSHs4fa2sGqZrVJRs3LgxyG9Xp14JZvRll8kbFfhRnSA/gMSB/OF1bazV\nKvfdd5+0stulyOvaiyBd0Ec0N/vJOx+kkdUqO3fuFBGRNomJsslHujkgdneNlwjiALG58/dMlwMS\nY7XKoUOHgvx2derVPMzR1FSSy0lzB+BA35z2H6C11/Xk/HxWr1rFhLy8UssRmwKPAreUkX84cKvT\nybx//QuAW++6i3k2W6l044C9wDbgZ2A8MBT43Cvdf4Ae3bvTpEmTcp6shgi2YgNJ386dyxyRFB+5\nIO+h92V2eF17EsRqNsuxMu6fWkYNIyB/gUTbbFJUVCRHjhyRaKtVjpdj03SQG7zOuUA6ORzy6aef\nBvvVnqZe1TAxsbEcrUA6G/ryy77AUq9rR0NDsYWGElfG/VJO/s0AKSoiMzOThIQErhgxgklWa5n3\nTaP0HMxbJhP5cXEMGjTI1y1BoV4Jpt/w4Sw18IU3B/Cs6IuApaGhxFgsZd5XkcUH9tBQctyTdf96\n/XW2NW/OZIsFVwVt+wB4JCKCD7/4onZtbQl2FRdIMjMzJdpmk4M+qvwj6JNkWSDHQRagj5KyPdJ8\nDNKpTRtJttvLbD4eKadJEhC7xSKZmZmnbTt69Khc0KGDXGqzyff4Xx66B2SixSJnxMbK1q1bg/g2\nfVOLpFt1IiMjGT1qFC/52J1oAuYBycC5wA/ASqC4PhJgjt3OnQ8+SJ7JxN4yyimvhtkCxEZGEhER\ncfpcfHw8qzdupPe0aVzXuDFdHA5eAJajb295Cxhis/E3kwnzuHH8sH07HTt2rNBz1yjBVmyg2bdv\nnzSJjpaPKtD59Z4/Oa99e8nLy5N/3HOPPGCx+ByO54E86O6g5rvPeae71WqVp/75T782FhUVyapV\nq+TW0aPlsosukkt69JDrR4yQt956S7p16yYff/xxDb4xY9Q7wYiIbNq0SRpFRMjbFZildYL8IyxM\n2iYny+HDh0VE5I8//pB4q1VyvdJOAzF5HY97pTmO/u2nsutY5s+fL5dcckkgX0dAqZeCERH55Zdf\npE1SknSLiJD5UOrHPwIyw2yWFna79O/eXY4dO1bi/pHDhskYg9+knCCX22xy+403Vtru3NxciYuL\nK/FNqjZRbwUjojtBXLFihXRr104cZrN0jYqSi6KipGNkpERbrTJm1CjZtGmTz3uzsrKk69lny53h\n4T6bHe+jAOQGq1X6nHee5OfnV8nuiRMnykMPPVSlPKqLerkexpvx48eTmJjIJZdcQk5ODpGRkbRu\n3bpcH7wZGRlcOWQI+du3c19ODsMB7wF3AfoG/tl2O8kXXsi7y5dXefH2rl276NOnD/v37/e5Pieo\nBFuxNUGbNm1k27Ztlbq3sLBQFi1aJL07dZIkTZO7w8LkSZAnQO4IC5NGNptc3L27LFu2zO+qvcrQ\nt29fWbRoUcDyCxT1XjD79u2ThIQEKSoqqnJe27dvl2effVYeuP9+CTWZZNasWbJr164AWFma999/\nX/r06VMteVeFejUP44vVq1fTv3//gMyWtmrVivj4eH7ftg0H8OGCBUweP55X580rczF5ZRgxYgS7\ndu1i586dAc23ygRbsdXNtddeK6+//nqV8jhy5Ijcf9ddEme3y6UOh/wH5GuQdSAfgFxht0uMzSZ3\n3XabHDx4MECWizz88MNy7733Biy/QFCvBeNyuaRx48ZVGqLu3r1bWjdpIneUs0zzvyCTQkMlOS5O\nUlJSAmL/vn37JDY2VnJycgKSXyCo14LZvn27tGzZstL3Hzx4UJrFx8s8A8s03wVpEh0te/bsCcgz\nDB06VN56662A5BUI6nUfZvXq1QwYMKDS9994xRXclpHB7QZmHq4FHjp5kpGXXooEYMZiwoQJvPLK\nK1XOJ1DUe8H079+/Uvfu2LGDX1NSmOIs7bA1B93jZgLwd/SPmJ7c6XJxYv9+Nm7cWKmyPRk8eDBH\njhzhp59+qnJegaDeCsbpdLJu3Tr69etXqfvnPv88txUWlpqoA7gHfQPcd+hLLa8F/vS4bgYm5OYy\n97nnKlW2JyEhIYwbN4558+ZVOa+AEOw2sbrYsGGDdOjQoVL3Op1OibLZ5L8++ii5IBrItx7nBoI8\n5pUuHSQiPFyys7Or/CypqakSHR0tGRkZVc6rqtTbGqYq/ZcTJ05gdrk4w8e1/UAeelNUzN/R3bZ6\nEgvEhoZy+PDhStngSWJiIgMHDmThwoUA5ObmcujQIdLT0ykqKqpy/kao14KpbP8lNzcXzY+L+HT0\nuAORHudaus97Yw8JITc3t1I2eHPTTTfx9NNP07F1a2IjI+ncpg1nNm1KpM3GTVdfzaZNmwLSyS6X\nYFdx1UFOTo7Y7XbJysqq1P0ZGRkSERbmc9i8y70OJtPj3P0gI32kbappsn///io9i8vlkhlPPCGx\nmiYDTSb5EkrslzoGMstsllZ2u3Rt167anTjWS8F8/vnn0qNHj0rf73K5pFl8vPxYRh9mvce5i92L\nqzzT/QbSKCJCCgsLq2THbTfcIF3s9nJ9CxeBvOl2E7thw4ZKl1ke9bJJqur8i8lkYvy99/KKtbT7\nn+ItKlOB34EXgY3AzV7p5oWFccu4cVjK2YFQFlMnT+aXpUv5OieHFuWkNQO3iLAgK4vLBw9m9+7d\nlS63TKpNikGkS5cu8s0331Qpj8OHD/vdgJaDvrE/DuRvICt9XI9z79GuLLt375YEm02OGljxV3w8\nZzKddioQaOqdYNLT0yUiIkIKCgqqnNedt9wil9lsFVpxV3y4QK6zWuX6K66oUtn33XmnPOhjIXrx\n8QlIN5BIkNZeTWSxU4G//vqryu/Am3onmCVLlsjgwYMDkldBQYEMuOACGWWz+fXx4nmcArktPFy6\nd+hQpQ+GOTk5EldGv2UzSFOQV9F3MRyCUnux7gkLk4cfeCAg78GT0Opp6GqG/Px8li1bxs5ff+Vk\nejqO6Gg2bNxYpf6LJ2FhYXy8ejU3XHUV3b75honZ2YwCNG870JdpzrHbSejShS9WrkTTvFNVnPXr\n19M+JMRvv2UZcCP6LDOU3L1ZzPWFhYx5/32eevbZStvhk4BLsAbYu3evPHDvvRLvcMggh0MeB5mN\nvmxyoMkk0Var3Dl2rPz6668BKa+oqEhWrlwpQy+6SOKsVrnVapVHQR4FGWe1nl6muXz58oAs03z3\n3XdlVBl+bv7mHsqfi+4eZB6UCt5+ECQxMjIAT1+SOieYlStXSrzdLv+wWOR3Py90P8ijoaGSoGmy\n8O23A1r+3r175cUXX5Rp06ZJeFiYzJgxo8p+fL1ZuHChjPYjmGPo80B/A9kCsh2kE8hCr3SH0If1\ngaZOCWbFihXS2L03uSId0F9AmmmazK+m9STJycmyb9++gOf7ySefSL/ISJ/PVOAWzHMe5+aBXOKV\nbivI2WecEXDb6sw8zJ49e7hl1Cg+ysujewXvaQ98lpvLlLvu4scffwy4TZGRkWRmZgY83549e7Ll\n1CkO+bgWhv4pwvOHE0rv915ksTB4+PCA21ZnBPPS//0fYwsKON/HtT7oE2oR7uNsj2tnAw/n5TH7\nyScDblNUVBQnT54MeL6RkZGMGjmSN0J9j0luR9+8nwLsBN5A7wQXkw+8FRLC+HvuCbhtdaJJys7O\nlji7Xfb5aXr6gLxZRtN0AiTaag243/4hQ4bIypUrA5pnMdu2bZMkm01O+ngeF8gU99C6K8hcKOF4\n8TWQi7t3rxa76kQN88EHH3ChyUTzMtJIGdeigauA+W+8EVC7oqKiqqVJAujQoQOXjRzJ1ZpGodc1\nEzADPZb2ZmAC/9uRuQF4WNOYOXdutdhVJwSz4+ef6VXOvp+H0H2/3IPuaNCbnvn5/BrgZY7VKRiA\nF19/HXvv3gzRNJ/LJ7z5GBiuaSxcupROnTpVi011QjAnjx8noozrM9GXSP4EJAFD0N2PeRIJnDxx\nIqB2VbdgQkND+WDlSjqNGUMbq5XbrFa2eqXJA+YD50VEcG+jRqxYvZrBgwdXn03VlnMAsUdGUtYy\npPOK0wEPAu+hL8z2HCPkAPaIsmRnnOoWDOir/7r27Elc06Zs+O47en/xBeEiJGkaBSKkFhTQq3t3\npk2ezODBgwnxs/ArUNQJwbRs25YfbTbIy6tQehOl+zTbLBZatGsXULuioqI4cOBAQPMEEBE2b97M\ny7Nm8dHKlfSxWGjidJIsQg+Xiw1mM826dOHasWMZNGgQcXFl+fwMvHG1nqNHj0q01erTd24GejDy\nPJCjILNAkii5Ki0XJN5qld9//z2gdi1cuFCuvfbagOZZWFgoY6+/XpprmjxrNvtc3nAcZLbJJK3t\ndrn+yisD8mW+otSJPkx8fDyXXXop831sqD+F7p27EdAVfZH2R5TsnC0GunTpQps2bQJqV6CbpKKi\nIkYPH86BZcvYnpvLAy4X8T7SxQD3iZCSk0POp58yYuBATp06FTA7yqTGpFlFNm/eLImaVub+Zl/H\nYZBWmlYt3rS//vpr6dmzZ8Dye/C++6SvppX6kFjekoohmiZ3jR0bMDvKos4IRkTkheefl7M0Tf6q\n4Ms8AtJV0+SRyZOrxZ6tW7fK3//+94DklZ6eLlFWq6QZ/A9xemIyPLxGAljUiU5vMXdPnEhRUREX\nPvYYT+TmMpLSa1MACtHXjEzVNEbdeSdPzJhRKk1WVhaffPIJaWlpnDp1iujoaHr06ME555xTYXsC\n2SQteOsthpnNNPZx7QjwNLo/31jgCvR5p2KigWtMJt549VUenT49IPb4pdolWQ2sXbtWLu3TR+Ks\nVrnHbJYP3B3fJSAPh4ZKY5tN+nXrJitWrCh17/bt2+WOW26RGJtNLo2IkLvDw2VSaKiM0TRpYrNJ\nny5d5IMPPqjQav/09HSJioqq8vO4XC45s0kT2eCnBnkYZLi7xvwVpDmUCsKxFeSM2NiAuk3zRZ0U\nTDF79+6VxrGxcvH558uAbt3k8v79ZdLdd/tcOOVyueTJadOksc0m00NDfUZ5LQB5H6SnwyHntW9/\n2m+vNxkZGfLCv/4lF59/vkSBdGnTRgaef77Mef55OXHihOHnOHHihDgsFr8uXrugOy4q/vftIP/w\nka6xzRZQh0a+qNOCyczMFLvdXqHaYPLEidJJ0+RQBfoELpDHLBY5s2nTEuGHDxw4IONuvFGirVYZ\nabfLR+iBujahxykYpWkSbbXK2OuuK3cDm8vlktTUVNm5c6esW7dOmmqaX3seAxmGvihqG0hLkLU+\n0rWNiFAb2cpizZo1cuGFF5abbv6bb0pbTZN0g53JhywW6dGxo7hcLklJSZHkuDiZEhoqqWXckwry\nUEiINPUTXOL48ePy/P/9n5yVlCRxVqucFREhLex2CQcZir4bwHuXQiHIIBAz+uKpp/2U3dxur3aH\n0HVaMDNnzizXB1xRUZG0atzYb/+grKMI5G8OhyxcuFCaREfLewbufR8kMSpK/vjjDxHRa5THH3lE\noq1WuU7T5DtKRjTJAXnL3fy0AvnO49pAkInoE5O7QHqjT1B6lpcB4ggLq/T24IpSpwVz5ZVXyrvv\nvltmmlWrVknniAif/YM/QSahryvpSOmOpKCvNUlyOGROGdFh/R0vmc3S7eyzxel0yphRo+R8u91n\naB7vYwVIAvoGuRyQEPR1ysXX54Nc6HXPiyaTXF0DMQrqtGCaNWsmu3fvLjPNZf36+Q0cOgR9IdIJ\nkHfQg396d4bXun88J/6DhP7pbiocHseT7hqqld0uN44eLRdqmuQYENsPIPHo/aNBbmGnowc17eNV\nw7hAznY4ZO3atdX+zuusYFJTUyUmJqZUJHtvmsbE+Fypdxh9U73nirZO6FtVPNONcf/4ArIM5EOQ\nCX4E46sWe9ZslqhyYkj6O/4N0gskBeQWkGYgHUAmU9J7xAKTSdq3aFHuuwgEdVYwH3/8sQwcOLDc\ndI7wcMnw8WOkoYf99bz2d0rGji5w1xaHve71DhJaLBhfW2qPucuZ7ad2EvQY2l1AYtA7vkfc5wvR\nP6T6C9wuIJ+CJDgc8ssvv9TAW68jHx99sXnzZrp161ZuOpvFgq9FEY2BHsATwFFgAbADyPJIk46+\nxqaR173ip6zmQDdgDpDhPheH/rHQge8QxtnAYOAS9HDE4cAo9zULcBvgy4dmBvCM2cyYyEg++uIL\n2rdv78eqwFJnBbNp0ybOO++8ctMlJyaWcidWzDzAif6VeznQD30HQjG56LsRvPHe0pEA/Ij+pfwV\nYBXwlMd1DeiNvqDLe+XKEiAe+Cd6NNqXgLX8z8niaOBDdDH/6r42zmqlpdVKytChfPvTT1xwwQV+\nnrAaqJF6LMC4XC6JjY2t0Me2Oc8/L6PLmBTz7Dg2ghK7KY+iBxL1TltekNCf3HkVN1EJcHruxvve\nB0Eu97o/DmSV+++ZIOEmk7Rr2lTaJSXJhe3byxPTp0tqamoNvOnS1KmPj8Xs3bsXTdMqFC3+pptv\nZvpDD3EYSn3Y2w6cCRwE/g9IBDxXzMSiV8FbgM4e58sLEioeRwr65rMEP/ceh1Kb7lvxP595AljC\nwthZDSv7KkOdEMyRI0dYvHgxhw4coCA3l/2pqTRr1gyXy1VulJLo6GhGjhzJI4sW8XpBQYkfbCH6\nJjAL0Av4wuveDcApi4W5ISG8kZ9PEfqCLSf6IvMCIARdUFHo4ksBHkH3SBWK3p+53Z0OSvd/4tA3\no3myl/81XalAfGQktYag1GsV5LvvvpNrR4yQqPBwucFmk3+CPIs+d3JOWJi0TkyU5559Vo4fP15m\nPidPnpSOZ54pU0NDKxzDcQv6x7xFixZJVHi4HMd/kND/oH/fsYNcgD5Hko4+ArOBfFPGCGsBukOg\n4n8fdOdbvFBsamio3D1uXA298fKplYJxuVwydcoUSdY0mW0y+XQb5gL5HuRam02aN2pU7ke31NRU\n6dy2rVwbHi67yxBKDvrm9gRNk6VLloiIyJ233iqXapqcqqDYxN1/Ga5pcl779jIxLMxvCOMs9OH0\ndJB97v5Mf/43rE+02QLmtiQQ1ErB3H/nndJN00rNf/g73jaZpHFkpOzcubPMfLOysmTKffdJgsMh\nAx0OWYQ+k/ozyGqQiWFhEmu1yrC+fWXz5s2n7yssLJSBPXvK1Tab5FXAnnyQkVarDLjgAtm9e7fE\nWa3yDz+1k+c8TDT6PEzxwu83QPp27Vrdr9sQtU4w/16wQNppms9apazjLZNJWiUmSl5eXrll5OXl\nycKFC+WSnj2ldXy8NHU4pFeHDvLgpEl+HRnm5eXJqOHD5Wy7XV4Bn3ues9y10zl2u1w9dOhpW6Y9\n/LB00zSf9/g71oPEa5ps2bIlkK+3ytQqwbhcLjk7ObnUWg87Jb/ThIDc7eMlD3I45G2DDoRmz55d\n4ahnLpdLvvrqK7li0CCJsVrlOrtdJoWGyj9CQ+V6TZOY8HAZMWCAfPnllyWm6V0ul0wYM0Y6alq5\n/nZd6Iul4jVNPv/8c0PPUhPUqlHSunXrMJ04wUVe5z13VeegD3+v8XH/ndnZPD1zJjfccEOFy3Q6\nnYT6cavhjclkon///vTv358DBw7w2Wefcfz4cQDaxsby9KBBJCcn+7zv5Tff5Lk2bej85JP0MZu5\nIyeHfvxv5vQk+qhtrsOBKyaGVcuW0bVr1wo/R40RbMV6MvLSS+XFcqKfLaDkqMK7o9lM03wuXPLH\nM888I1OmTKnGpyrJyZMnZd4rr8jfW7YUu8UiTcLDJSYkRGwWi1w1ZIisWbOmRj4iVpZa9WlgR0oK\nvcV7pqIk/6ak8xxPQoAeISHs2LGjwmU6nc5q34/sSUREBLePH8+2PXs4ePQoj7/4It369+dEVhaL\nP/2Uvn37YjKVNzUYPGqVYDKzsylriuov4BvgpjLSRDqdhrxCFRUVVbhJCiQmk4moqChatGiBy+Ui\nPDy8xm2oDLVKMA6bjZwyri9En5FtXkaanJAQ7HZ7hcus6RrGG03TyMkp66lrF7VKMC1atiSljOtv\nU3btIkCKyUSLFi0qXGawaphiNE0LWEylmqBWCeaWe+9lnh8fLhuAQ8DVZdy/EchzOOjZs2eFyzQy\nSqoOlGCqwPDhw/kjJITtPq69DVyJvqDJHy9rGhMmTSr3g6QntaFJUoKpJBaLhTsmTuR+mw1v5xXz\n0EdI/vgG+Nxs5qYxYwyVqZokY9QqwQBMeeQRwrt35yartZT3SH9sAq622fjP8uXExsYaKk/VMMao\ndYIpdgSY26sXAzSNteB3De1x4DmTiaGaxhvvv1+pKCbBrmGsViuFhYU1Hh22stQ6wYD+v27pqlWM\nnjWLu5s3p73DwWyTiRXAl+gepW6x2WhttZJyxRWs/eEHhg0bVqmygl3DmEwmbDYbeRX03xdsatW3\nJE9CQkKYcMcdjJ8wgfXr17PwtddYvW8f+fn5RMfEcH6/fuweO5aEhITyMyuDYI+SAOx2O7m5uTgc\njqDaUREy+W2zAAANm0lEQVRqrWCKMZlM9O7dm969e1dL/sFukqBu9WNqZZNUkwS7SQIlmDqFqmGM\n0eAFo2oYYzR4wagaxhgNXjC1YZSkBFOHUE2SMRq8YFSTZIwGLxhVwxijwQumttQwdWXVXYMXjKph\njKEEo0ZJhmjwgqktTZISTB1BNUnGaPCCUTWMMRq8YFQNY4wGLxhVwxijwQumNoySilfc1QWUYFST\nZIgGLxjVJBmjwQtG1TDGqPWLwKuDY8eO8e4777Bn506cmZk89tBDdD7/fEaPHk2En73d1UldEoxJ\npBwPPvWIn376iRdmzODjlSu5zGSiU14edvSAFBvsdta4XIwePZq7H3iAdu3a1YhNIkJaWhpNmzbl\n999/JyEhgcja5MjZmyB7wKoxXn7hBUnUNJlVRuyiAyDTQ0MlQdNkyeLF1WpPZmamvPzSS9K+eXOJ\nDg+XxugxG+0Wiwzp2VNWrFhR7SGFK0ODEMyLc+ZIG02TPRV0eboFpInNdtqxcyBxuVwy65lnJMZm\nk6vsdllDycBcueiBtc6PiJDmCQk1EmXNCPVeMOvXr5ckTTvtir2ix09u16e//fZbwGxxuVxy9223\nSYcKuF8VkM9BEqpJuJWl3gtmxIAB8ir+4zUWglwJ0gLdO/fXHtceCbCf/6emT5dOmlYi/F5FarsE\nTZP169cHzI6qUK8Fs3//fom1WiUL//EaC0H+BfItSBOQdR7X/gKJ0bSAhPY9dOiQRFutFQq07n18\nANL5rLNqhTvWej0P89Zrr3GtCA7gcnxHRLMA96CH8/OejWkG9Dab+eCDD6psyxvz5jESaIIeda0r\nYAU83R9tBC5223gOMBU9btIVwImDB9m8eXOV7agq9Vowu7Zu5YKCghLnjM4hdM/O5jcDfn994XQ6\nefXFF7kjPx+ApviO/5gBjEd3L/sleti+WehCnpCXx9znnquSHYGgXk/cZWVm4u1Aw6jL5Ajgr/T0\nctOVRUpKCtFOJx3c/77c/eePgGectcEef3cA/0D36zcDGO1y0WnVqirZEQjqdQ3jiIws5ffXaA2T\nDUQYdIPmTXp6Ook+HDWWZ8v36FHeQA8/eCI3FwnyPGu9Fkybv/2NnyyWEueM1jA/aRqt27atsi2+\nfuaybNkGPIkei7I2Ua8FM2bcOP4dEkIeeozGfErGayz2Klfgvub991TgSxFGjRpFVYiLiyPN5Sp1\n3l9d8Tt6HOu5QHGg5TQgRtOCHoegXgumdevWdOvWjQ/QA5prwEzgHfR41MWxpdu6rx0CBqH7At4P\nvBESwjVXX01UVFSV7OjQoQNZYWH87HXe10//FzAQeAy41uP8e2Yzwy69tEp2BIRgj+urmy+++EKa\na5rh+Y+dII00TVJSUgJix5OPPy7jrNbTYXp8xX88ANIKPciod1ifFnZ7ibCCwaLeC0ZE5InHHpMO\ndnuFRbMLpLmmyYL58wNmQ2pqqkRbrXIA39Fpp6PHgDRRMvpcBMgikG7t2gXMlqrQIATjcrnkqenT\npZmmyesg2X6EcgJkjskkjTVN3njttYDbMePJJ6WDpskJAzXdj+5PAxs2bAi4PZWhQQimmK+++kqG\n9e0rsVar3BsWJvNBFoO8CXKr1SrRVquMHj5cNm3aVC3lu1wuuW/CBGmvafJHOUJxgax0i+XD5cur\nxZ7K0KAEU8yff/4p06ZOlRsuv1wu69NHIsxmeeappyQtLa3ay3a5XDLnueckVtPkMrtdPgMp8hBK\nNsjrIJ0cDmndpIl888031W6TERqkYLyJiYmRI0eO1GiZ2dnZ8tqrr0qsxSL20FBpZrdLkqaJLTRU\nhvXtK5999pkUFRXVqE0VoUEt0fTHueeey/z58+ncuXONlnvo0CHat2/PH3/8wcmTJ7FYLMTGxqJp\nWo3aYYR6/S2poiQnJ/Pf//63xgXz9ddf07dvX+Li4oiL8/6OXjup1xN3FaVYMDXNmjVr6Nu3b42X\nWxWUYAiuYPr161fj5VYFJRiCI5h9+/aRk5PDOeecU6PlVhUlGIIjmLVr19b6oOa+UIIBmjVrVuOC\nqYvNETSwnY/+KCgoIDIyktzc3BrZZy0inHHGGaxbt442bdpUe3mBRNUwQHh4ODExMaSlpdVIeb//\n/jtms5nWrVvXSHmBRAnGTU32Y4qbo7rWfwElmNMEQzB1ESUYNzUlGJfLdXqGty6iBOOmpgSzY8cO\nIiMjadasWbWXVR0owbipKcHU5eYIlGBOU1OCWbt2rRJMfaAmJu+KiopYt24dffr0qdZyqhMlGDdN\nmjTh2LFjFBYWVlsZW7duJSkpicTExGoro7pR62HchISEkJiYyKFDh2jRokVA8tyzZw9btmwhMzMT\nm83G+vXr6+zoqBglGA+Sk5PZv39/lQTjdDr55JNPmDtzJlu3bqVnWBjRRUXkmc1syc0l2+GgeXIy\nY269lfj4+MAZX1MEdYFoLWPkyJHyzjvvVPr+gwcPSqezzpLuDocsdG9W894NsAnkZptNYjVNltei\n3QAVRfVhPKjKSOngwYP06NSJq/fuZUN2NtejOwzyphswPy+Pz3NzufO663j3nXeqYnKNowTjQWUF\nU1BQwNA+fRh//DgPOZ0V8hDRFfgiN5f7b7+dDRs2GC4zWCjBeFBZwSxdupTYtDQmO52G7msPzMjN\n5YkpUwyXGSyUYDyo7FzM3JkzuTs7m5fx7bvOk3+iv/Q17n+PAn788Uf27NlTCYtrHiUYDypTw6Sk\npPDXH38wDP++64rZAywBkjzO2YCbi4qY98ILlbC45lHDajciwm+//UZmZiZPP/000dHRtGrVigED\nBpQZHmfjxo0MRH+R/nzXFXMXun+aO7zODz11ikfXrg3AU1Q/DV4wJ0+eZOHbbzN31izk+HFGFRVx\nbNo09lssLAwNZVxYGLffcw9jb7+dxo0bl7o/IyODGK/ZYV9rXhejN1VDfFyLBTIyMwPwNNVPgxbM\n1q1buezii+men8/LOTlchNsrlNOpH8DPwCvPPEP7Z5/l3++/z9ChQ0vkER4eTkFIyOn0UNqzVBbw\nCPCVHzvyAWt4eCAeqdppsH2YH3/8kUG9ezMnPZ3FOTn0wbcLsY7Aq/n5rMzJYezVV7N82bIS15OS\nktgTFlbinHcNMx24Ad1RtK80fwBNkjx7NrWYYM8cBoPDhw9LUkyMLDfoxuxH9IAVP//88+m8srOz\nJVbT5C+PdFMp6Z6+I0g8SKL7CAGJBXnWfb1vRIQsWrQoiG+k4jTIGua1uXO5JC+PEQbv6wI8mJfH\nc//85+lzdrudG268kddCQ3166nQCq9G9em9Db+KSgNfQO787gZ1mM5dffjl1gmArtqY5deqUnBEb\nK1vxH+Fkh/t8DEhTkJEg29zX0kGirdYS/mR27dolCTabTPThu+5xHzVVC5DVbkdCV1qtMnXKlCC+\nEWM0OMF8+OGHckFEhAj+I5xkgOx1uw3LQndieJ7H9TE2m8x46qkS+c6eNUvO0TRJrWDz5gK5z2KR\nCzp0kNzc3CC9DeM0uCZpy08/cXFWFuA/wkkU0BK9E+xCDw7h6eJnYF4eW779tsQ9EydNYuT993OB\nzcaX+B5aF7MPuNZq5ft27VixZg02m60KT1SzNDjBZBw5QozXOX8/bjQQgz6H8pHH+Sgg4/jxEmlN\nJhOPPfEEzy5YwKQWLWhntzPHZGIHcBB9JLQCGOZw0NVup+nYsaz54Yc640iomAYnGFtEBHle5/x9\nXc5A/6G7oddExeQBNj9uxa6+5hq27d3Lm599xqbLLuPKpCS6RkUxMCGBWeeey4g5c9h/5AjPvfhi\nnapZimlwE3dnNG/OZpsN8v4nm7Kaj5bo0/lN0af7zwB+M5s5o1Urv/eYTCZ69uxJz549A2N0LaLB\n1TDXXHMNH4twwuNceetX8oFw9KbIBbxus3HT7bdXl4m1mgYnmEaNGjF0yBAWmEx+502+Qp8vKQJ+\nBR5ED6MXAXwOxJ1xBt26dQuG+cEn2MO0YPD999/LGZomk/zMmywGaYfu6/88kBkgaSA5IF3tdlmw\nYEGwHyFoNFiHQk889hjLZ8/m85wcEiqQPg8YabMRdcklvL14cZ101REIGlyTVMzUxx9nyIQJXKhp\nfIreN/GFoIfS669p2AcO5M333muwYgHlsozFixcz45FHOHHoEOPz8ujpchGFHuvxZ2Cew0F2RAT3\nTJnCnXffjdlH7MaGRIMXDOir7TZv3sy8559n588/k5mVhcNup2WbNtx6770MGDCgwQulGCUYhSHU\nfxuFIZRgFIZQglEYQglGYQglGIUhlGAUhlCCURhCCUZhCCUYhSGUYBSGUIJRGEIJRmEIJRiFIZRg\nFIZQglEYQglGYQglGIUhlGAUhlCCURhCCUZhCCUYhSGUYBSGUIJRGEIJRmEIJRiFIZRgFIZQglEY\nQglGYQglGIUhlGAUhlCCURhCCUZhCCUYhSGUYBSGUIJRGEIJRmEIJRiFIZRgFIZQglEYQglGYQgl\nGIUhlGAUhlCCURhCCUZhCCUYhSGUYBSGUIJRGEIJRmEIJRiFIZRgFIZQglEYQglGYQglGIUhlGAU\nhlCCURhCCUZhCCUYhSGUYBSGUIJRGEIJRmEIJRiFIZRgFIZQglEYQglGYQglGIUhlGAUhlCCURhC\nCUZhCCUYhSGUYBSGUIJRGOL/AdAHELbpzocVAAAAAElFTkSuQmCC\n",
       "text": [
        "<matplotlib.figure.Figure at 0x7f25f009f950>"
       ]
      },
      {
       "metadata": {},
       "output_type": "display_data",
       "png": "iVBORw0KGgoAAAANSUhEUgAAAIwAAAE+CAYAAABftfj0AAAABHNCSVQICAgIfAhkiAAAAAlwSFlz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\n",
       "text": [
        "<matplotlib.figure.Figure at 0x7f25f0092fd0>"
       ]
      }
     ],
     "prompt_number": 13
>>>>>>> 4d8cda3d9bffc47d6acfa33b3a36ac11ca8b8227
    },
    {
     "cell_type": "code",
     "collapsed": false,
     "input": [
      "#\n",
      "# plot the graph representation of the object\n",
      "# \n",
      "\n",
      "plt.title(\"Body graph 16 Nodes - 10 Edges \")\n",
      "nx.draw(bc.g,bc.g.pos)\n",
      "a=plt.axis('scaled')"
     ],
     "language": "python",
     "metadata": {},
<<<<<<< HEAD
     "outputs": []
=======
     "outputs": [
      {
       "metadata": {},
       "output_type": "display_data",
       "png": "iVBORw0KGgoAAAANSUhEUgAAANMAAAEICAYAAADFicGBAAAABHNCSVQICAgIfAhkiAAAAAlwSFlz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\n",
       "text": [
        "<matplotlib.figure.Figure at 0x7f25f0036310>"
       ]
      }
     ],
     "prompt_number": 14
>>>>>>> 4d8cda3d9bffc47d6acfa33b3a36ac11ca8b8227
    },
    {
     "cell_type": "heading",
     "level": 2,
     "metadata": {},
     "source": [
      "Centering the motion"
     ]
    },
    {
     "cell_type": "markdown",
     "metadata": {},
     "source": [
      "In order to be able to translate the motion in any point in space-time, a distinction is made between the real motion or topos and the virtual motion which is the motion capture. \n",
      "\n",
      "Let $\\mathbf{p}^k$ denotes the center of gravity of the body in the (O,x,y) plane"
     ]
    },
    {
     "cell_type": "code",
     "collapsed": false,
     "input": [
      "bc.center()"
     ],
     "language": "python",
     "metadata": {},
<<<<<<< HEAD
     "outputs": []
=======
     "outputs": [],
     "prompt_number": 15
>>>>>>> 4d8cda3d9bffc47d6acfa33b3a36ac11ca8b8227
    },
    {
     "cell_type": "code",
     "collapsed": false,
     "input": [
      "print np.shape(bc.pg)\n",
      "print np.shape(bc.vg)"
     ],
     "language": "python",
     "metadata": {},
<<<<<<< HEAD
     "outputs": []
=======
     "outputs": [
      {
       "output_type": "stream",
       "stream": "stdout",
       "text": [
        "(3, 300)\n",
        "(3, 300)\n"
       ]
      }
     ],
     "prompt_number": 16
>>>>>>> 4d8cda3d9bffc47d6acfa33b3a36ac11ca8b8227
    },
    {
     "cell_type": "code",
     "collapsed": false,
     "input": [
      "a = np.hstack((bc.vg,bc.vg[:,-1][:,newaxis]))"
     ],
     "language": "python",
     "metadata": {},
<<<<<<< HEAD
     "outputs": []
=======
     "outputs": [],
     "prompt_number": 17
>>>>>>> 4d8cda3d9bffc47d6acfa33b3a36ac11ca8b8227
    },
    {
     "cell_type": "code",
     "collapsed": false,
     "input": [
      "print bc.vg[:,299]\n",
      "print bc.vg[:,298]"
     ],
     "language": "python",
     "metadata": {},
<<<<<<< HEAD
     "outputs": []
=======
     "outputs": [
      {
       "output_type": "stream",
       "stream": "stdout",
       "text": [
        "[  1.08123514e-02   7.24411022e-05   0.00000000e+00]\n",
        "[  1.08123514e-02   7.24411022e-05   0.00000000e+00]\n"
       ]
      }
     ],
     "prompt_number": 18
>>>>>>> 4d8cda3d9bffc47d6acfa33b3a36ac11ca8b8227
    },
    {
     "cell_type": "markdown",
     "metadata": {},
     "source": [
      "At that point the body structure is centered. \n",
      "\n",
      "\n",
      "\n",
      "The frame is centered in the xy plane by substracting from the configuration of points the projection of the body in the xy plane. "
     ]
    },
    {
     "cell_type": "code",
     "collapsed": false,
     "input": [
      "np.shape(bc.d)"
     ],
     "language": "python",
     "metadata": {},
<<<<<<< HEAD
     "outputs": []
=======
     "outputs": [
      {
       "metadata": {},
       "output_type": "pyout",
       "prompt_number": 19,
       "text": [
        "(3, 16, 300)"
       ]
      }
     ],
     "prompt_number": 19
>>>>>>> 4d8cda3d9bffc47d6acfa33b3a36ac11ca8b8227
    },
    {
     "cell_type": "code",
     "collapsed": false,
     "input": [
      "bc.npoints"
     ],
     "language": "python",
     "metadata": {},
<<<<<<< HEAD
     "outputs": []
=======
     "outputs": [
      {
       "metadata": {},
       "output_type": "pyout",
       "prompt_number": 20,
       "text": [
        "16"
       ]
      }
     ],
     "prompt_number": 20
>>>>>>> 4d8cda3d9bffc47d6acfa33b3a36ac11ca8b8227
    },
    {
     "cell_type": "markdown",
     "metadata": {},
     "source": [
      "Each frame is centered above the origin. For example for a walk motion the effect of teh centering is just like if the body was still walking but not moving forward exactly in the same manner as a walk on a conveyor belt."
     ]
    },
    {
     "cell_type": "code",
     "collapsed": false,
     "input": [
      "pgc = np.sum(bc.d[:,:,0],axis=1)/16\n",
      "pg0 = bc.pg[:,0]\n",
      "print \"True center of gravity\", pg0\n",
      "print \"Center of gravity of the centered frame\",pgc"
     ],
     "language": "python",
     "metadata": {},
<<<<<<< HEAD
     "outputs": []
=======
     "outputs": [
      {
       "output_type": "stream",
       "stream": "stdout",
       "text": [
        "True center of gravity [-1.74251571  0.49373077  0.        ]\n",
        "Center of gravity of the centered frame [  3.74700271e-16   1.38777878e-17   8.94887363e-01]\n"
       ]
      }
     ],
     "prompt_number": 21
>>>>>>> 4d8cda3d9bffc47d6acfa33b3a36ac11ca8b8227
    },
    {
     "cell_type": "code",
     "collapsed": false,
     "input": [
      "np.shape(bc.pg)"
     ],
     "language": "python",
     "metadata": {},
<<<<<<< HEAD
     "outputs": []
=======
     "outputs": [
      {
       "metadata": {},
       "output_type": "pyout",
       "prompt_number": 22,
       "text": [
        "(3, 300)"
       ]
      }
     ],
     "prompt_number": 22
>>>>>>> 4d8cda3d9bffc47d6acfa33b3a36ac11ca8b8227
    },
    {
     "cell_type": "markdown",
     "metadata": {},
     "source": [
      "The current file contains 300 frames"
     ]
    },
    {
     "cell_type": "code",
     "collapsed": false,
     "input": [
      "tframe = arange(bc.nframes)"
     ],
     "language": "python",
     "metadata": {},
<<<<<<< HEAD
     "outputs": []
=======
     "outputs": [],
     "prompt_number": 23
>>>>>>> 4d8cda3d9bffc47d6acfa33b3a36ac11ca8b8227
    },
    {
     "cell_type": "code",
     "collapsed": false,
     "input": [
      "np.shape(bc.pg[0:-1,:])"
     ],
     "language": "python",
     "metadata": {},
<<<<<<< HEAD
     "outputs": []
=======
     "outputs": [
      {
       "metadata": {},
       "output_type": "pyout",
       "prompt_number": 24,
       "text": [
        "(2, 300)"
       ]
      }
     ],
     "prompt_number": 24
>>>>>>> 4d8cda3d9bffc47d6acfa33b3a36ac11ca8b8227
    },
    {
     "cell_type": "code",
     "collapsed": false,
     "input": [
      "smocap"
     ],
     "language": "python",
     "metadata": {},
<<<<<<< HEAD
     "outputs": []
=======
     "outputs": [
      {
       "ename": "NameError",
       "evalue": "name 'smocap' is not defined",
       "output_type": "pyerr",
       "traceback": [
        "\u001b[1;31m---------------------------------------------------------------------------\u001b[0m\n\u001b[1;31mNameError\u001b[0m                                 Traceback (most recent call last)",
        "\u001b[1;32m<ipython-input-25-217dfc0b0bcd>\u001b[0m in \u001b[0;36m<module>\u001b[1;34m()\u001b[0m\n\u001b[1;32m----> 1\u001b[1;33m \u001b[0msmocap\u001b[0m\u001b[1;33m\u001b[0m\u001b[0m\n\u001b[0m",
        "\u001b[1;31mNameError\u001b[0m: name 'smocap' is not defined"
       ]
      }
     ],
     "prompt_number": 25
>>>>>>> 4d8cda3d9bffc47d6acfa33b3a36ac11ca8b8227
    },
    {
     "cell_type": "code",
     "collapsed": false,
     "input": [
      "xg = bc.pg[0,:]\n",
      "yg = bc.pg[1,:]\n",
      "zg = bc.pg[2,:]\n",
      "figure(figsize=(8,8))\n",
      "subplot(311)\n",
      "plot(tframe,xg)\n",
      "title('x component')\n",
      "ylabel('m')\n",
      "subplot(312)\n",
      "xlabel('frame index')\n",
      "title('y component')\n",
      "ylabel('m')\n",
      "plot(tframe,yg)\n",
      "subplot(313)\n",
      "xlabel('frame index')\n",
      "title('Motion capture centroid trajectory')\n",
      "ylabel('m')\n",
      "plot(xg,yg,'.b')\n",
      "\n",
      "d = bc.pg[0:-1,1:]-bc.pg[0:-1,0:-1]\n",
      "smocap = cumsum(sqrt(sum(d*d,axis=0)))\n",
      "\n",
      "Vmocap = smocap[-1]/Tstep\n",
      "title('Length = '+str(smocap[-1])+' V = '+str(Vmocap*3.6)+' km/h')\n",
      "axis('scaled')\n",
      "axis('off')"
     ],
     "language": "python",
     "metadata": {},
<<<<<<< HEAD
     "outputs": []
=======
     "outputs": [
      {
       "metadata": {},
       "output_type": "pyout",
       "prompt_number": 26,
       "text": [
        "(-2.0, 2.0, 0.47999999999999998, 0.54000000000000004)"
       ]
      },
      {
       "metadata": {},
       "output_type": "display_data",
       "png": "iVBORw0KGgoAAAANSUhEUgAAAfsAAAG1CAYAAAD+2V3OAAAABHNCSVQICAgIfAhkiAAAAAlwSFlz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\n",
       "text": [
        "<matplotlib.figure.Figure at 0x5b58910>"
       ]
      }
     ],
     "prompt_number": 26
>>>>>>> 4d8cda3d9bffc47d6acfa33b3a36ac11ca8b8227
    },
    {
     "cell_type": "code",
     "collapsed": false,
     "input": [
      "plot(smocap)\n",
      "title('evolution of curvilinear abscisse from motion capture centroid trajectory') \n",
      "xlabel('frame index')\n",
      "ylabel('distance (meters)')"
     ],
     "language": "python",
     "metadata": {},
<<<<<<< HEAD
     "outputs": []
=======
     "outputs": [
      {
       "metadata": {},
       "output_type": "pyout",
       "prompt_number": 27,
       "text": [
        "<matplotlib.text.Text at 0x7f25f04de8d0>"
       ]
      },
      {
       "metadata": {},
       "output_type": "display_data",
       "png": "iVBORw0KGgoAAAANSUhEUgAAAcMAAAEVCAYAAACc4Y7sAAAABHNCSVQICAgIfAhkiAAAAAlwSFlz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\nkiOs4jz1la0AAAAASUVORK5CYII=\n",
       "text": [
        "<matplotlib.figure.Figure at 0x7f25f00a4f10>"
       ]
      }
     ],
     "prompt_number": 27
>>>>>>> 4d8cda3d9bffc47d6acfa33b3a36ac11ca8b8227
    },
    {
     "cell_type": "heading",
     "level": 2,
     "metadata": {},
     "source": [
      "Defining a large scale trajectory "
     ]
    },
    {
     "cell_type": "markdown",
     "metadata": {},
     "source": [
      "A large scale trajectory is defined in the $(O,x,y)$ plane.\n",
      "\n",
      "`traj` is a data structure (Npt,2)"
     ]
    },
    {
     "cell_type": "code",
     "collapsed": false,
     "input": [
      "v = Vmocap\n",
      "print v"
     ],
     "language": "python",
     "metadata": {},
<<<<<<< HEAD
     "outputs": []
=======
     "outputs": [
      {
       "output_type": "stream",
       "stream": "stdout",
       "text": [
        "1.36558346484\n"
       ]
      }
     ],
     "prompt_number": 28
>>>>>>> 4d8cda3d9bffc47d6acfa33b3a36ac11ca8b8227
    },
    {
     "cell_type": "code",
     "collapsed": false,
     "input": [
      "# time in seconds\n",
      "time = np.arange(0,10,0.01)\n",
      "x = v*time\n",
      "y = np.zeros(len(time))\n",
      "traj = Trajectory(time,np.vstack((x,y)).T)\n",
      "traj.tmax"
     ],
     "language": "python",
     "metadata": {},
<<<<<<< HEAD
     "outputs": []
=======
     "outputs": [
      {
       "metadata": {},
       "output_type": "pyout",
       "prompt_number": 29,
       "text": [
        "9.9800000000000004"
       ]
      }
     ],
     "prompt_number": 29
>>>>>>> 4d8cda3d9bffc47d6acfa33b3a36ac11ca8b8227
    },
    {
     "cell_type": "code",
     "collapsed": false,
     "input": [
      "fig ,ax = traj.plot()"
     ],
     "language": "python",
     "metadata": {},
<<<<<<< HEAD
     "outputs": []
=======
     "outputs": [
      {
       "metadata": {},
       "output_type": "display_data",
       "png": "iVBORw0KGgoAAAANSUhEUgAAAZIAAAEMCAYAAADu7jDJAAAABHNCSVQICAgIfAhkiAAAAAlwSFlz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\nkjBIiIhIEgYJERFJwiAhIiJJ/h8EzrNrorZKwQAAAABJRU5ErkJggg==\n",
       "text": [
        "<matplotlib.figure.Figure at 0x4304ed0>"
       ]
      }
     ],
     "prompt_number": 30
>>>>>>> 4d8cda3d9bffc47d6acfa33b3a36ac11ca8b8227
    },
    {
     "cell_type": "heading",
     "level": 2,
     "metadata": {},
     "source": [
      "Trajectory"
     ]
    },
    {
     "cell_type": "heading",
     "level": 2,
     "metadata": {},
     "source": [
      "`posvel()`"
     ]
    },
    {
     "cell_type": "markdown",
     "metadata": {},
     "source": [
      "\n",
      "\n",
      "\n",
      "The `posvel()` function (position and velocity) takes as argument the following parameters \n",
      "\n",
      "+ `traj` a plane trajectory (Npt,3)\n",
      "+ $t_k$ time for evaluation of topos \n",
      "+ $T_{step}$ duration of the periodic motion sequence \n",
      "\n",
      "and returns \n",
      "\n",
      "+ the frame index $k_f = \\lfloor \\frac{t_k \\pmod{T_{step}}}{t_f} \\rfloor$\n",
      "+ the trajectory index $k_t = \\lfloor t_k \\rfloor$\n",
      "+ velocity unitary vector along motion capture frame $\\hat{\\mathbf{v}}_s = \\frac{\\mathbf{p}^g[k_f]-\\mathbf{p}^g[k_f-1]}{|\\mathbf{p}^g[k_f]-\\mathbf{p}^g[k_f-1]|}$\n",
      "+ $\\hat{\\mathbf{w}}_s = \\mathbf{\\hat{z}} \\times  \\hat{\\mathbf{v}}_s $\n",
      "+  velocity unitary vector along trajectory $\\hat{\\mathbf{v}}_t = \\frac{\\mathbf{p}^t[k_t]-\\mathbf{p}^g[k_t-1]}{|\\mathbf{p}^g[k_t]-\\mathbf{p}^t[k_t-1]|}$\n",
      "+ $\\hat{\\mathbf{w}}_t = \\mathbf{\\hat{z}} \\times  \\hat{\\mathbf{v}}_t $\n",
      "\n",
      "$t_f = \\frac{T_{step}}{Nf}$ is the interframe time or frame sampling period, it is equal to the whole duration of the motion sequence $T_{step}$ divided by the number of frames\n",
      "\n",
      "\n",
      "\n"
     ]
    },
    {
     "cell_type": "markdown",
     "metadata": {},
     "source": [
      "`settopos` is a method which takes as argument : \n",
      "\n",
      "+ `traj` a plane trajectory (Npt,2)\n",
      "+ $t_k$ time for evaluation of topos \n",
      "+ $T_{step}$ duration of the periodic motion sequence "
     ]
    },
    {
     "cell_type": "code",
     "collapsed": false,
     "input": [
      "bc.settopos(traj=traj,tk=3)"
     ],
     "language": "python",
     "metadata": {},
<<<<<<< HEAD
     "outputs": []
=======
     "outputs": [],
     "prompt_number": 34
>>>>>>> 4d8cda3d9bffc47d6acfa33b3a36ac11ca8b8227
    },
    {
     "cell_type": "markdown",
     "metadata": {},
     "source": [
      "There is now a new data structure in the BodyCylinder objet. This data structure is called a `topos`."
     ]
    },
    {
     "cell_type": "code",
     "collapsed": false,
     "input": [
      "print np.shape(bc.topos)"
     ],
     "language": "python",
     "metadata": {},
<<<<<<< HEAD
     "outputs": []
=======
     "outputs": [
      {
       "output_type": "stream",
       "stream": "stdout",
       "text": [
        "(3, 16)\n"
       ]
      }
     ],
     "prompt_number": 35
>>>>>>> 4d8cda3d9bffc47d6acfa33b3a36ac11ca8b8227
    },
    {
     "cell_type": "code",
     "collapsed": false,
     "input": [
      "bc.topos"
     ],
     "language": "python",
     "metadata": {},
<<<<<<< HEAD
     "outputs": []
=======
     "outputs": [
      {
       "metadata": {},
       "output_type": "pyout",
       "prompt_number": 36,
       "text": [
        "array([[ 4.19599817,  4.15046572,  4.13081653,  4.07294142,  4.08289287,\n",
        "         4.11542251,  3.94530449,  4.26514518,  3.82039411,  4.12746908,\n",
        "         4.18189918,  3.89824308,  4.28535797,  3.70884964,  4.41212222,\n",
        "         4.15468413],\n",
        "       [ 0.00978643,  0.01039192, -0.08586912, -0.15014439,  0.17454155,\n",
        "        -0.29891008,  0.28336831, -0.31726715,  0.37578539, -0.14822518,\n",
        "         0.12069953, -0.11848735,  0.13268648, -0.04485156,  0.07025805,\n",
        "        -0.01376282],\n",
        "       [ 1.18925612,  1.35442836,  1.57836099,  1.39037819,  1.40039528,\n",
        "         1.07349379,  1.11418117,  0.83620759,  0.89701301,  0.89713179,\n",
        "         0.89777028,  0.44315412,  0.43969984,  0.09704225,  0.05562085,\n",
        "         0.89745103]])"
       ]
      }
     ],
     "prompt_number": 36
>>>>>>> 4d8cda3d9bffc47d6acfa33b3a36ac11ca8b8227
    },
    {
     "cell_type": "code",
     "collapsed": false,
     "input": [
      "bc.show3()"
     ],
     "language": "python",
     "metadata": {},
<<<<<<< HEAD
     "outputs": []
=======
     "outputs": [],
     "prompt_number": 37
>>>>>>> 4d8cda3d9bffc47d6acfa33b3a36ac11ca8b8227
    },
    {
     "cell_type": "code",
     "collapsed": false,
     "input": [
      "bc.settopos(traj=traj,tk=1)\n",
      "fig,ax=bc.plot3d(topos=True)\n",
      "bc.settopos(traj=traj,tk=2)\n",
      "bc.plot3d(topos=True,fig=fig,ax=ax)\n",
      "bc.settopos(traj=traj,tk=6)\n",
      "bc.plot3d(topos=True,fig=fig,ax=ax)"
     ],
     "language": "python",
     "metadata": {},
     "outputs": []
    },
    {
     "cell_type": "heading",
     "level": 2,
     "metadata": {},
     "source": [
      "Coordinates systems"
     ]
    },
    {
     "cell_type": "markdown",
     "metadata": {},
     "source": [
      "Each cylinder is an edge of the `Body` graph. Each cylinder bears one specific coordinate system. One or several cylinder coordinate systems can be chosen to define the Body Local Coordinates System which is required for motion capture (BLCS) application. \n",
      "In general, it will be chosen on a position which is the most time invariant as on the chest or the back. \n",
      "\n",
      "Those frames of references are all defined in the Global coordinate system of the scene."
     ]
    },
    {
     "cell_type": "markdown",
     "metadata": {},
     "source": [
      "The method `updbasis0()` is used to associate a Cylinder Coordinate System (CCS) to each cylinder of the bodyCylinder model. Notice that those cylinder coordinates systems are not known by the localization application. The localization application will define the LCS from the position of radiating devices placed on the body surface. "
     ]
    },
    {
     "cell_type": "code",
     "collapsed": false,
     "input": [
      "bc.vtopos"
     ],
     "language": "python",
     "metadata": {},
<<<<<<< HEAD
     "outputs": []
=======
     "outputs": [
      {
       "metadata": {},
       "output_type": "pyout",
       "prompt_number": 41,
       "text": [
        "array([[ 1.],\n",
        "       [ 0.],\n",
        "       [ 0.]])"
       ]
      }
     ],
     "prompt_number": 41
>>>>>>> 4d8cda3d9bffc47d6acfa33b3a36ac11ca8b8227
    },
    {
     "cell_type": "code",
     "collapsed": false,
     "input": [
      "bc.updbasis0()"
     ],
     "language": "python",
     "metadata": {},
<<<<<<< HEAD
     "outputs": []
=======
     "outputs": [
      {
       "ename": "AttributeError",
       "evalue": "'Body' object has no attribute 'updbasis0'",
       "output_type": "pyerr",
       "traceback": [
        "\u001b[1;31m---------------------------------------------------------------------------\u001b[0m\n\u001b[1;31mAttributeError\u001b[0m                            Traceback (most recent call last)",
        "\u001b[1;32m<ipython-input-42-83731afca3d6>\u001b[0m in \u001b[0;36m<module>\u001b[1;34m()\u001b[0m\n\u001b[1;32m----> 1\u001b[1;33m \u001b[0mbc\u001b[0m\u001b[1;33m.\u001b[0m\u001b[0mupdbasis0\u001b[0m\u001b[1;33m(\u001b[0m\u001b[1;33m)\u001b[0m\u001b[1;33m\u001b[0m\u001b[0m\n\u001b[0m",
        "\u001b[1;31mAttributeError\u001b[0m: 'Body' object has no attribute 'updbasis0'"
       ]
      }
     ],
     "prompt_number": 42
>>>>>>> 4d8cda3d9bffc47d6acfa33b3a36ac11ca8b8227
    },
    {
     "cell_type": "heading",
     "level": 3,
     "metadata": {},
     "source": [
      "principle of construction of CCS"
     ]
    },
    {
     "cell_type": "markdown",
     "metadata": {},
     "source": [
      "Each basis is constructed with the function from `geomutil.onbfromaxe()` : orthonormal bases from axes. This function takes 2 sets of $n$ points $\\mathbf{p}_{A,n}$ and $\\mathbf{p}_{B,n}$ as input and provides an orthonormal basis as output. One unitary vector is along the \n",
      "\n",
      "\n",
      "$$\\hat{\\mathbf{w}}_n = \\frac{\\mathbf{p}_B-\\mathbf{p}_A}{| \\mathbf{p}_B-\\mathbf{p}_A |} $$\n",
      "\n",
      "$$\\hat{\\mathbf{u}}_n = \\frac{\\mathbf{x} - (\\mathbf{x}.{\\hat{\\mathbf{w}}_n}) \\mathbf{\\hat{w}}_n}{|\\mathbf{x} - (\\mathbf{x}.{\\hat{\\mathbf{w}}_n}) \\mathbf{\\hat{w}}_n|} $$\n",
      "\n",
      "$$\\hat{\\mathbf{v}}_n = \\mathbf{\\hat{w}}_n \\times \\mathbf{\\hat{u}}_n  $$\n",
      "\n",
      "Where $\\mathbf{x}$ is a random vector chosen with the same seed in order for continuous motion not to introduce discontinuities in the generated frame. \n",
      "\n",
      "The outpout of `geomutil.onbframe` is an MDA  $(3\\times n \\times 3)$ of $n$ unitary matrix aggregated along axis 1 $$\\mathbf{T}_n=[\\hat{\\mathbf{u}}_n, \\hat{\\mathbf{v}}_n, \\hat{\\mathbf{w}}_n]$$\n",
      "\n",
      "Notice that the way the CCS are produced can introduced a subtle motion of the cylinder coordinates system from one frame to another, but this is very small effect due to the systematic randomness introduced by the seed. "
     ]
    },
    {
     "cell_type": "markdown",
     "metadata": {},
     "source": [
      "Create a Wireframe body representation from the body graph model"
     ]
    },
    {
     "cell_type": "code",
     "collapsed": false,
     "input": [
      "# create a geomview wireframe representation of the body \n",
      "dbody ={}\n",
      "edges = bc.g.edges()\n",
      "Ncyl = 11\n",
      "for ncy in range(Ncyl):\n",
      "    kta = edges[ncy][0]\n",
      "    khe = edges[ncy][1]\n",
      "    dbody[ncy]=(bc.topos[:,kta],bc.topos[:,khe])\n",
      "bodygv = geu.GeomVect('bodygv')\n",
      "bodygv.segments(dbody,i2d=False,linewidth=10)"
     ],
     "language": "python",
     "metadata": {},
<<<<<<< HEAD
     "outputs": []
=======
     "outputs": [],
     "prompt_number": 38
>>>>>>> 4d8cda3d9bffc47d6acfa33b3a36ac11ca8b8227
    },
    {
     "cell_type": "markdown",
     "metadata": {},
     "source": [
      "Representation of frames associated with the cylinder"
     ]
    },
    {
     "cell_type": "code",
     "collapsed": false,
     "input": [
      "bodylist = geu.Geomlist('bodylist')\n",
      "bodylist.append('LIST\\n')\n",
      "#bodylist.append('{< axes.list}\\n')\n",
      "bodylist.append('{< bodygv.vect}\\n')\n",
      "for ncy in range(Ncyl):\n",
      "    kta = edges[ncy][0]\n",
      "    khe = edges[ncy][1]\n",
      "    radius = bc.g[kta][khe]['radius']\n",
      "    filename = 'bcyl'+str(ncy)\n",
      "    geov = geu.GeomVect(filename)\n",
      "    geov.geomBase(bc.basis0[ncy,:,:],pt=bc.topos[:,kta]+radius*bc.basis0[ncy,:,0],scale=0.1)\n",
      "    chaine =  '{<' + filename+'.vect' + \"}\\n\"\n",
      "    bodylist.append(chaine)\n",
      "bodylist.show3()    "
     ],
     "language": "python",
     "metadata": {},
<<<<<<< HEAD
     "outputs": []
=======
     "outputs": [
      {
       "ename": "AttributeError",
       "evalue": "'Body' object has no attribute 'basis0'",
       "output_type": "pyerr",
       "traceback": [
        "\u001b[1;31m---------------------------------------------------------------------------\u001b[0m\n\u001b[1;31mAttributeError\u001b[0m                            Traceback (most recent call last)",
        "\u001b[1;32m<ipython-input-39-5a0d5445ef5d>\u001b[0m in \u001b[0;36m<module>\u001b[1;34m()\u001b[0m\n\u001b[0;32m      9\u001b[0m     \u001b[0mfilename\u001b[0m \u001b[1;33m=\u001b[0m \u001b[1;34m'bcyl'\u001b[0m\u001b[1;33m+\u001b[0m\u001b[0mstr\u001b[0m\u001b[1;33m(\u001b[0m\u001b[0mncy\u001b[0m\u001b[1;33m)\u001b[0m\u001b[1;33m\u001b[0m\u001b[0m\n\u001b[0;32m     10\u001b[0m     \u001b[0mgeov\u001b[0m \u001b[1;33m=\u001b[0m \u001b[0mgeu\u001b[0m\u001b[1;33m.\u001b[0m\u001b[0mGeomVect\u001b[0m\u001b[1;33m(\u001b[0m\u001b[0mfilename\u001b[0m\u001b[1;33m)\u001b[0m\u001b[1;33m\u001b[0m\u001b[0m\n\u001b[1;32m---> 11\u001b[1;33m     \u001b[0mgeov\u001b[0m\u001b[1;33m.\u001b[0m\u001b[0mgeomBase\u001b[0m\u001b[1;33m(\u001b[0m\u001b[0mbc\u001b[0m\u001b[1;33m.\u001b[0m\u001b[0mbasis0\u001b[0m\u001b[1;33m[\u001b[0m\u001b[0mncy\u001b[0m\u001b[1;33m,\u001b[0m\u001b[1;33m:\u001b[0m\u001b[1;33m,\u001b[0m\u001b[1;33m:\u001b[0m\u001b[1;33m]\u001b[0m\u001b[1;33m,\u001b[0m\u001b[0mpt\u001b[0m\u001b[1;33m=\u001b[0m\u001b[0mbc\u001b[0m\u001b[1;33m.\u001b[0m\u001b[0mtopos\u001b[0m\u001b[1;33m[\u001b[0m\u001b[1;33m:\u001b[0m\u001b[1;33m,\u001b[0m\u001b[0mkta\u001b[0m\u001b[1;33m]\u001b[0m\u001b[1;33m+\u001b[0m\u001b[0mradius\u001b[0m\u001b[1;33m*\u001b[0m\u001b[0mbc\u001b[0m\u001b[1;33m.\u001b[0m\u001b[0mbasis0\u001b[0m\u001b[1;33m[\u001b[0m\u001b[0mncy\u001b[0m\u001b[1;33m,\u001b[0m\u001b[1;33m:\u001b[0m\u001b[1;33m,\u001b[0m\u001b[1;36m0\u001b[0m\u001b[1;33m]\u001b[0m\u001b[1;33m,\u001b[0m\u001b[0mscale\u001b[0m\u001b[1;33m=\u001b[0m\u001b[1;36m0.1\u001b[0m\u001b[1;33m)\u001b[0m\u001b[1;33m\u001b[0m\u001b[0m\n\u001b[0m\u001b[0;32m     12\u001b[0m     \u001b[0mchaine\u001b[0m \u001b[1;33m=\u001b[0m  \u001b[1;34m'{<'\u001b[0m \u001b[1;33m+\u001b[0m \u001b[0mfilename\u001b[0m\u001b[1;33m+\u001b[0m\u001b[1;34m'.vect'\u001b[0m \u001b[1;33m+\u001b[0m \u001b[1;34m\"}\\n\"\u001b[0m\u001b[1;33m\u001b[0m\u001b[0m\n\u001b[0;32m     13\u001b[0m     \u001b[0mbodylist\u001b[0m\u001b[1;33m.\u001b[0m\u001b[0mappend\u001b[0m\u001b[1;33m(\u001b[0m\u001b[0mchaine\u001b[0m\u001b[1;33m)\u001b[0m\u001b[1;33m\u001b[0m\u001b[0m\n",
        "\u001b[1;31mAttributeError\u001b[0m: 'Body' object has no attribute 'basis0'"
       ]
      }
     ],
     "prompt_number": 39
>>>>>>> 4d8cda3d9bffc47d6acfa33b3a36ac11ca8b8227
    },
    {
     "cell_type": "markdown",
     "metadata": {},
     "source": [
      "On the figure below the wireframe model is shown associated with the 11 CCS (Cylinder coordinates systems) "
     ]
    },
    {
     "cell_type": "code",
     "collapsed": false,
     "input": [
      "Image('CCS.png')"
     ],
     "language": "python",
     "metadata": {},
     "outputs": []
    },
    {
     "cell_type": "heading",
     "level": 2,
     "metadata": {},
     "source": [
      "Placing an ACCS (Antenna Cylinder Coordinate System ) on the cylinder"
     ]
    },
    {
     "cell_type": "markdown",
     "metadata": {},
     "source": [
      "An ACCS is refered by 4 numbers $(Id,l,h,\\alpha)$"
     ]
    },
    {
     "cell_type": "heading",
     "level": 4,
     "metadata": {},
     "source": [
      "Cylinder Id"
     ]
    },
    {
     "cell_type": "code",
     "collapsed": false,
     "input": [
      "Id = 4 # 4 Left Arm\n",
      "l  = 0.1 # Longitudinal coordinates\n",
      "h  = 0.03 # height \n",
      "alpha = 45 # angle degrees"
     ],
     "language": "python",
     "metadata": {},
     "outputs": []
    },
    {
     "cell_type": "code",
     "collapsed": false,
     "input": [
      "ed = bc.g.edges()[Id]\n",
      "kta=ed[0]\n",
      "khe=ed[1]\n",
      "# TODO calculate cylinder length\n",
      "phe = array(bc.topos[:,khe])\n",
      "pta = array(bc.topos[:,kta])\n",
      "dl = phe-pta \n",
      "print bc.nodes_Id[kta],bc.nodes_Id[khe]\n",
      "lmax = sqrt(dot(dl,dl))\n",
      "print lmax"
     ],
     "language": "python",
     "metadata": {},
     "outputs": []
    },
    {
     "cell_type": "code",
     "collapsed": false,
     "input": [
      "import scipy.linalg as la\n",
      "origin = pta\n",
      "CCS = bc.basis0[Id,:,:]\n",
      "print origin\n"
     ],
     "language": "python",
     "metadata": {},
     "outputs": []
    },
    {
     "cell_type": "code",
     "collapsed": false,
     "input": [
      "print CCS\n",
      "#print la.det(CCS)"
     ],
     "language": "python",
     "metadata": {},
     "outputs": []
    },
    {
     "cell_type": "markdown",
     "metadata": {},
     "source": [
      "Rotate Matrix around z"
     ]
    },
    {
     "cell_type": "code",
     "collapsed": false,
     "input": [
      "R = np.array([[cos(alpha),-sin(alpha),0],[sin(alpha),cos(alpha),0],[0,0,1]])\n",
      "print R"
     ],
     "language": "python",
     "metadata": {},
     "outputs": []
    },
    {
     "cell_type": "code",
     "collapsed": false,
     "input": [
      "CCSr = dot(CCS,R)"
     ],
     "language": "python",
     "metadata": {},
     "outputs": []
    },
    {
     "cell_type": "code",
     "collapsed": false,
     "input": [
      "print CCSr"
     ],
     "language": "python",
     "metadata": {},
     "outputs": []
    },
    {
     "cell_type": "code",
     "collapsed": false,
     "input": [
      "neworigin = origin + CCSr[:,2]*l + CCSr[:,0]*h\n",
      "print neworigin"
     ],
     "language": "python",
     "metadata": {},
     "outputs": []
    },
    {
     "cell_type": "code",
     "collapsed": false,
     "input": [
      "filename = 'cacs'+str(Id)\n",
      "geov = geu.GeomVect(filename)\n",
      "geov.geomBase(CCSr,pt= neworigin,scale=0.1)\n",
      "chaine =  '{<' + filename+'.vect' + \"}\\n\"\n",
      "bodylist.append(chaine)"
     ],
     "language": "python",
     "metadata": {},
     "outputs": []
    },
    {
     "cell_type": "code",
     "collapsed": false,
     "input": [
      "bodylist.show3()"
     ],
     "language": "python",
     "metadata": {},
     "outputs": []
    },
    {
     "cell_type": "code",
     "collapsed": false,
     "input": [
      "#bc.settopos(traj,2.3,Tstep)\n",
      "#bc.movie(traj=traj,tk=time,topos=True)\n",
      "############# verification de la base\n",
      "#B.LoadMotion()\n",
      "#c3d_frames = B.d\n",
      "#B.CylinderModel()\n",
      "#fr_id  = 125\n",
      "#B.cylinder_basis0()\n",
      "#B.cylinder_basis_k (frameId = fr_id)\n",
      "#P = np.array([1,1,1])\n",
      "#for cy_id in range(10):\n",
      "#A = np.zeros(shape = (3))\n",
      "#u0 = B.basis0[cy_id,0:3]\n",
      "#v0 = B.basis0[cy_id,3:6]\n",
      "#w0 = B.basis0[cy_id,6:]\n",
      "#fig  = plt.figure()\n",
      "#ax = fig.add_subplot(111, projection='3d')\n",
      "#SF = 1\n",
      "#plt.plot((A[0],SF*u0[0]+A[0]),(A[1],SF*u0[1]+A[1]),(A[2],SF*u0[2]+A[2]), 'y')\n",
      "#plt.plot((A[0],SF*v0[0]+A[0]),(A[1],SF*v0[1]+A[1]),(A[2],SF*v0[2]+A[2]),'r')\n",
      "#plt.plot((A[0],SF*w0[0]+A[0]),(A[1],SF*w0[1]+A[1]),(A[2],SF*w0[2]+A[2]),'g')\n",
      "#uk = B.basisk[cy_id,0:3]\n",
      "#vk = B.basisk[cy_id,3:6]\n",
      "#wk = B.basisk[cy_id,6:]\n",
      "#plt.plot((A[0],SF*uk[0]+A[0]),(A[1],SF*uk[1]+A[1]),(A[2],SF*uk[2]+A[2]), 'y--')\n",
      "#plt.plot((A[0],SF*vk[0]+A[0]),(A[1],SF*vk[1]+A[1]),(A[2],SF*vk[2]+A[2]),'r--')\n",
      "#plt.plot((A[0],SF*wk[0]+A[0]),(A[1],SF*wk[1]+A[1]),(A[2],SF*wk[2]+A[2]),'g--')\n",
      "#plt.autoscale()\n",
      "#plt.title(str(cy_id))\n",
      "#plt.show()\n",
      "############   Antenna on cylinders\n",
      "\n",
      "# Load a .c3dmotion capture file\n",
      "\n",
      "#\n",
      "# extract a numpy array (3 x np x nf )\n",
      "#\n",
      "#   3  : x y  z\n",
      "#   np : number of points\n",
      "#   nf : number of frames\n",
      "#\n",
      "\n",
      "#c3dframe = bc.d\n",
      "\n",
      "#bc.geomfile(0)\n",
      "#bc.movie()\n",
      "#pg = np.sum(bc.d,axis=1)\n",
      "\n",
      "#\n",
      "# Convert c3d file into a 10 (4+4+1+1) cylinder model\n",
      "#\n",
      "#  4 arms 4 legs 1 trunk 1 head\n",
      "#\n",
      "#  create member c array\n",
      "#  c : array(shape  =  (nc,8)), Id (1), A coordinate (3) , B coordinate (3) , radius (1)\n",
      "#\n",
      "\n",
      "#bc.antennas()\n",
      "\n",
      "#\n",
      "# create a reference basis on each cylinder\n",
      "#\n",
      "# WARNING : arbitray orientation for the first frame\n",
      "#\n",
      "\n",
      "#bc.cylinder_basis0()\n",
      "#\n",
      "##\n",
      "## Below an example of positioning antenna around cylnders\n",
      "##\n",
      "##\n",
      "#\n",
      "#fr_ind = 0\n",
      "#cyl = B.c[:, :, fr_ind]\n",
      "## scale factor\n",
      "#SF = 1\n",
      "#\n",
      "## 10 antennas on 10 cylinders\n",
      "#\n",
      "#cy_id = range(0, 10)\n",
      "#l = np.ones((10))\n",
      "#alpha = np.pi / 2 * np.ones((10))\n",
      "#\n",
      "#\n",
      "##\n",
      "## Display Frame 0 \n",
      "##\n",
      "#B.cyl_antenna(cy_id, l, alpha, 0)\n",
      "#\n",
      "#fig = plt.figure()\n",
      "#\n",
      "#ax = fig.add_subplot(111, aspect='equal', projection='3d')\n",
      "#\n",
      "#for i in range(B.c.shape[0]):\n",
      "#    pltu.cylinder(fig, cyl[i, 1:4], cyl[i, 4:7], cyl[i, 7])\n",
      "#    A3 = cyl[i, 1:4]\n",
      "#    u3 = B.basis0[i, 0:3]\n",
      "#    v3 = B.basis0[i, 3:6]\n",
      "#    w3 = B.basis0[i, 6:]\n",
      "#\n",
      "#    plt.plot((A3[0], SF * u3[0] + A3[0]), (\n",
      "#        A3[1], SF * u3[1] + A3[1]), (A3[2], SF * u3[2] + A3[2]), 'y--')\n",
      "#    plt.plot((A3[0], SF * v3[0] + A3[0]), (\n",
      "#        A3[1], SF * v3[1] + A3[1]), (A3[2], SF * v3[2] + A3[2]), 'r--')\n",
      "#    plt.plot((A3[0], SF * w3[0] + A3[0]), (\n",
      "#        A3[1], SF * w3[1] + A3[1]), (A3[2], SF * w3[2] + A3[2]), 'g--')\n",
      "#    plt.plot((A3[0], B.ant[i, 0] + A3[0]), (\n",
      "#        A3[1], B.ant[i, 1] + A3[1]), (A3[2], B.ant[i, 2] + A3[2]), 'c*--')\n",
      "#    #~ plt.axis('tight')\n",
      "#    #~ fig  = plt.figure()\n",
      "#    #~ plt.plot((A3[0],SF*u3[0]+A3[0]),(A3[1],SF*u3[1]+A3[1]), 'y--')\n",
      "#    #~ plt.plot((A3[0],SF*v3[0]+A3[0]),(A3[1],SF*v3[1]+A3[1]),'r--')\n",
      "#    #~ plt.plot((A3[0],SF*w3[0]+A3[0]),(A3[1],SF*w3[1]+A3[1]),'g--')\n",
      "#        #~\n",
      "#    #~ plt.plot((A3[0],B.ant[0]+ A3[0]) ,(A3[1],B.ant[1]+ A3[1]),'c*--')\n",
      "#    #~ plt.axis('scaled')\n",
      "#\n",
      "##\n",
      "## Display Frame 60 \n",
      "##\n",
      "#fr_ind2 = 60\n",
      "#cyl1 = B.c[:, :, fr_ind2]\n",
      "#B.cylinder_basis_k(frameId=fr_ind2)\n",
      "#B.cyl_antenna(cy_id, l, alpha, fr_ind2)\n",
      "#SF = 1\n",
      "#\n",
      "#fig = plt.figure()\n",
      "#for i in range(B.c.shape[0]):\n",
      "#    pltu.cylinder(fig, cyl1[i, 1:4], cyl1[i, 4:7], cyl1[i, 7])\n",
      "#    A3 = cyl1[i, 1:4]\n",
      "#    u3 = B.basisk[i, 0:3]\n",
      "#    v3 = B.basisk[i, 3:6]\n",
      "#    w3 = B.basisk[i, 6:]\n",
      "#\n",
      "#    plt.plot((A3[0], SF * u3[0] + A3[0]), (\n",
      "#        A3[1], SF * u3[1] + A3[1]), (A3[2], SF * u3[2] + A3[2]), 'y--')\n",
      "#    plt.plot((A3[0], SF * v3[0] + A3[0]), (\n",
      "#        A3[1], SF * v3[1] + A3[1]), (A3[2], SF * v3[2] + A3[2]), 'r--')\n",
      "#    plt.plot((A3[0], SF * w3[0] + A3[0]), (\n",
      "#        A3[1], SF * w3[1] + A3[1]), (A3[2], SF * w3[2] + A3[2]), 'g--')\n",
      "#    plt.plot((A3[0], B.ant[i, 0] + A3[0]), (\n",
      "#        A3[1], B.ant[i, 1] + A3[1]), (A3[2], B.ant[i, 2] + A3[2]), 'c*--')\n",
      "#    #~ plt.axis('tight')\n",
      "#\n",
      "#plt.show()\n",
      "#\n",
      "#####################\n",
      "#B.LoadMotion()\n",
      "#f = B.d\n",
      "#cycle_distance = dist(f[:, 0, 0], f[:, 0, -1])\n",
      "#print 'distance parcouru pendant un cycle de marche = ', cycle_distance\n",
      "##~ for fr_id in range(0,124):\n",
      "#    #~ inter_frames_dist = dist(f[:,0,fr_id],f[:,0,fr_id  +1])\n",
      "#    #~ print ' frame ID = ' , fr_id ,  'distance parcouru pendant un step = ', inter_frames_dist\n",
      "##~\n",
      "##~\n",
      "#\n",
      "######## test translation and rotation\n",
      "#fig = plt.figure()\n",
      "#\n",
      "#ax = fig.add_subplot(111, projection='3d')\n",
      "#ax.scatter(f[0, :, 0], f[1, :, 0], f[2, :, 0], c='g', marker='o')\n",
      "#ax.scatter(f[0, :, -1], f[1, :, -1], f[2, :, -1], c='g', marker='*')\n",
      "#\n",
      "## translation\n",
      "##~ p = np.array([0,0,0])\n",
      "##~ f1 = translate(f,p)\n",
      "##~ ax.scatter(f1[0,:,0],f1[1,:,0],f1[2,:,0] )\n",
      "##~ ax.scatter(f1[0,:,-1],f1[1,:,-1],f1[2,:,-1] )\n",
      "## rotantion\n",
      "##~ fig = plt.figure()\n",
      "##~\n",
      "##~ ax = fig.add_subplot(111, projection='3d')\n",
      "#f2 = rotation(f, np.pi / 2)\n",
      "#ax.scatter(f2[0, :, 0], f2[1, :, 0], f2[2, :, 0], c='r', marker='o')\n",
      "#ax.scatter(f2[0, :, -1], f2[1, :, -1], f2[2, :, -1], c='r', marker='*')\n",
      "#plt.show()\n"
     ],
     "language": "python",
     "metadata": {},
     "outputs": []
    },
    {
     "cell_type": "heading",
     "level": 2,
     "metadata": {},
     "source": [
      "Trajectory Class"
     ]
    },
    {
     "cell_type": "markdown",
     "metadata": {},
     "source": [
      "This class inheritates from `pandas.DataFrame`"
     ]
    },
    {
     "cell_type": "code",
     "collapsed": false,
     "input": [
      "t = arange(0,10,0.01)"
     ],
     "language": "python",
     "metadata": {},
     "outputs": []
    },
    {
     "cell_type": "code",
     "collapsed": false,
     "input": [
      "x = 2*t*np.cos(t)\n",
      "y = 3*t*np.sin(t) \n",
      "pt =np.vstack((x,y)).T\n",
      "traj = Trajectory(t,pt)\n",
      "traj.plot()"
     ],
     "language": "python",
     "metadata": {},
     "outputs": []
    },
    {
     "cell_type": "code",
     "collapsed": false,
     "input": [
      "traj.columns"
     ],
     "language": "python",
     "metadata": {},
     "outputs": []
    },
    {
     "cell_type": "code",
     "collapsed": false,
     "input": [
      "figsize(10,10)\n",
      "plot(traj['t'],traj['s'])"
     ],
     "language": "python",
     "metadata": {},
     "outputs": []
    },
    {
     "cell_type": "heading",
     "level": 2,
     "metadata": {},
     "source": [
      "Testing geomutil functions"
     ]
    },
    {
     "cell_type": "code",
     "collapsed": false,
     "input": [
      "from pylayers.util.geomutil import *                     \n",
      "import numpy as np\n",
      "v1 = np.array([1,0,0])     # blue   first vector                             \n",
      "v2 = np.array([0,1,0])     # green  second vector                              \n",
      "v3 = np.array([0,0,1])     # rouge  third vector\n",
      "M  = np.vstack((v1,v2,v3))  \n",
      "gv = Geomlist('testcolor')\n",
      "gv.append('LIST\\n')\n",
      "gv1 = GeomVect('test')\n",
      "gv1.geomBase(M,pt=np.array([1,1,1]))  \n",
      "gv.append('{< axes.list}')\n",
      "gv.append('{< test.vect}')                                        \n",
      "gv.show3()  "
     ],
     "language": "python",
     "metadata": {},
     "outputs": []
    },
    {
     "cell_type": "markdown",
     "metadata": {},
     "source": [
      "+ x bleu\n",
      "+ y vert \n",
      "+ z rouge"
     ]
    },
    {
     "cell_type": "code",
     "collapsed": false,
     "input": [
      "bc.show3(topos=True,wire=True,tag='A',ccs=True,lccs=[9])"
     ],
     "language": "python",
     "metadata": {},
     "outputs": []
    },
    {
     "cell_type": "code",
     "collapsed": false,
     "input": [
      "bc.topos\n"
     ],
     "language": "python",
     "metadata": {},
     "outputs": []
    },
    {
     "cell_type": "code",
     "collapsed": false,
     "input": [],
     "language": "python",
     "metadata": {},
     "outputs": []
    }
   ],
   "metadata": {}
  }
 ]
}