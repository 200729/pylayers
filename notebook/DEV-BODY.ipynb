{
 "metadata": {
  "name": ""
 },
 "nbformat": 3,
 "nbformat_minor": 0,
 "worksheets": [
  {
   "cells": [
    {
     "cell_type": "heading",
     "level": 2,
     "metadata": {},
     "source": [
      "Body mobility "
     ]
    },
    {
     "cell_type": "code",
     "collapsed": false,
     "input": [
      "from pylayers.mobility.body.body import *"
     ],
     "language": "python",
     "metadata": {},
     "outputs": [],
     "prompt_number": 1
    },
    {
     "cell_type": "markdown",
     "metadata": {},
     "source": [
      "The body mobility is imported from motion capture files. This is the best manner to achieve a high degree of realism for the modeling of the human motion. Two kind of files exist : \n",
      "\n",
      "+ `c3d` files are a set of point which are evolving in time\n",
      "+ `bvh` files are a stuctured version of the motion capture.\n",
      "\n",
      "Both type of file will be exploited in the following. "
     ]
    },
    {
     "cell_type": "heading",
     "level": 2,
     "metadata": {},
     "source": [
      "`BodyCylinder` data structure"
     ]
    },
    {
     "cell_type": "markdown",
     "metadata": {},
     "source": [
      "To ease further electromagnetic simulation a simplification of the motion capture data structure has been defined. This is a restriction of key body segments which are transformed into $K$ cylinders of radius $r_k$. \n",
      "\n",
      "The chosen model contains 11 cylinders. 4 cylinders for the arms, 4 cylinders for the legs 2 cylinders for the trunk and 1 cylinder for the head. \n",
      "\n",
      "The body cylinder model is handle by the dedicated class `BodyCylinder`"
     ]
    },
    {
     "cell_type": "code",
     "collapsed": false,
     "input": [
      "#\n",
      "# create a bodyCylinder object\n",
      "#\n",
      "bc = BodyCylinder()"
     ],
     "language": "python",
     "metadata": {},
     "outputs": [],
     "prompt_number": 2
    },
    {
     "cell_type": "markdown",
     "metadata": {},
     "source": [
      "At that point a graph has been defined. The topology of the body is already there, as well as default informations, related to cylinders radius and material. The length of the cylinders is not known at that point because it will depend on a specific motion capture file.  "
     ]
    },
    {
     "cell_type": "code",
     "collapsed": false,
     "input": [
      "#\n",
      "# edge of the body cylinder graph\n",
      "#\n",
      "bc.g.edge"
     ],
     "language": "python",
     "metadata": {},
     "outputs": [
      {
       "metadata": {},
       "output_type": "pyout",
       "prompt_number": 3,
       "text": [
        "{0: {1: {'radius': 0.18}},\n",
        " 1: {0: {'radius': 0.18}, 2: {'radius': 0.12}},\n",
        " 2: {1: {'radius': 0.12}},\n",
        " 3: {5: {'radius': 0.05}},\n",
        " 4: {6: {'radius': 0.05}},\n",
        " 5: {3: {'radius': 0.05}, 7: {'radius': 0.05}},\n",
        " 6: {4: {'radius': 0.05}, 8: {'radius': 0.05}},\n",
        " 7: {5: {'radius': 0.05}},\n",
        " 8: {6: {'radius': 0.05}},\n",
        " 9: {11: {'radius': 0.05}},\n",
        " 10: {12: {'radius': 0.05}},\n",
        " 11: {9: {'radius': 0.05}, 13: {'radius': 0.05}},\n",
        " 12: {10: {'radius': 0.05}, 14: {'radius': 0.05}},\n",
        " 13: {11: {'radius': 0.05}},\n",
        " 14: {12: {'radius': 0.05}}}"
       ]
      }
     ],
     "prompt_number": 3
    },
    {
     "cell_type": "heading",
     "level": 2,
     "metadata": {},
     "source": [
      "Loading a motion capture file"
     ]
    },
    {
     "cell_type": "markdown",
     "metadata": {},
     "source": [
      "A `.c3d` motion capture file is loaded with the method `loadC3D` with as arguments the motion capture file and the number of frames to load.  \n",
      "\n",
      "A motion is associated as a data member of the `BodyCylinder` object. The motion is a sequence of framef stored in `d` variable member."
     ]
    },
    {
     "cell_type": "markdown",
     "metadata": {},
     "source": [
      "It is possible to get the information from the C3D header by using the verbose option of the `read_c3d` function"
     ]
    },
    {
     "cell_type": "code",
     "collapsed": false,
     "input": [
      "s, p, f = c3d.read_c3d('07_01.c3d',verbose=True)"
     ],
     "language": "python",
     "metadata": {},
     "outputs": [
      {
       "output_type": "stream",
       "stream": "stdout",
       "text": [
        "*********************\n",
        "**** Opening File ***\n",
        "*********************\n",
        "FileName =  /home/uguen/Bureau/P1/body/c3d/07_01.c3d\n",
        "***********************"
       ]
      },
      {
       "output_type": "stream",
       "stream": "stdout",
       "text": [
        "\n",
        "**** Reading Header ***\n",
        "***********************\n",
        "NanalogFramesPerVideoFrame=  5\n",
        "AnalogFrameRate=  600.0\n",
        "VideoFrameRate=  120.0\n",
        "Scale=  -0.10000000149\n",
        "Nmarkers=  41\n",
        "StartFrame=  235\n",
        "EndFrame=  550\n",
        "***********************\n",
        "**** Reading Events ...\n",
        "***********************\n",
        "EventIndicator =  12345\n",
        "***************************\n",
        "**** Reading Parameters ...\n",
        "***************************\n",
        "NparameterRecords= 14\n",
        "SUBJECTS =  ['liu:']\n",
        "POINT =  ['liu:LFIN', 'liu:LFWT', 'liu:LWRB', 'liu:RELB', 'liu:LSHO', 'liu:LELB', 'liu:RUPA', 'liu:RBHD', 'liu:LBHD', 'liu:LUPA', 'liu:RFRM', 'liu:RFHD', 'liu:C7', 'liu:RSHO', 'liu:LKNE', 'liu:LFHD', 'liu:T10', 'liu:RBAC', 'liu:RWRB', 'liu:RFWT', 'liu:RFIN', 'liu:RBWT', 'liu:LBWT', 'liu:RWRA', 'liu:STRN', 'liu:LWRA', 'liu:LFRM', 'liu:LSHN', 'liu:CLAV', 'liu:RANK', 'liu:LTHI', 'liu:LTOE', 'liu:LMT5', 'liu:LANK', 'liu:RTHI', 'liu:LHEE', 'liu:RKNE', 'liu:RSHN', 'liu:RHEE', 'liu:RTOE', 'liu:RMT5']\n",
        "Nparameters= 0\n",
        "NVideoFrames =  316\n",
        "***************************\n",
        "**** Reading DataBlock ....\n",
        "***************************\n",
        "* * * * * * * * * * * * * * * * * * * * * * * * * * * * * * * * * * * * * * * * * * * * * * * * * * * * * * * * * * * * * * * * * * * * * * * * * * * * * * * * * * * * * * * * * * * * * * * * * * * * * * * * * * * * * * * * * * * * * * * * * * * * * * * * * * * * * * * * * * * * * * * * * * * * * * * * * * * * * * * * * * * * * * * * * * * * * * * * * * * * * * * * * * * * * * * * * * * * * * * * "
       ]
      },
      {
       "output_type": "stream",
       "stream": "stdout",
       "text": [
        "* * * * * * * * * * * * * * * * * * * * * * * * * * * * * * * * * * * * * * * * * * * * * * * * * * * * * * * * * * * * * * * * * * * * * * * * * * * * * * * * * * * * * * * * * * * * * * * * * * * * * * * * * * * * * * * * * * * *\n"
       ]
      }
     ],
     "prompt_number": 4
    },
    {
     "cell_type": "code",
     "collapsed": false,
     "input": [
      "Vrate = 120\n",
      "Tframe = 1./120\n",
      "# select a number of frame \n",
      "nframes = 300\n",
      "Tstep = Tframe*nframes\n",
      "#\n",
      "# load a .c3dmotion capture file\n",
      "# this update the g.pos \n",
      "#\n",
      "bc.loadC3D(filename='07_01.c3d',nframes=nframes)"
     ],
     "language": "python",
     "metadata": {},
     "outputs": [],
     "prompt_number": 5
    },
    {
     "cell_type": "markdown",
     "metadata": {},
     "source": [
      "The duration of the capture is "
     ]
    },
    {
     "cell_type": "code",
     "collapsed": false,
     "input": [
      "print \"Duration of the motion capture sequence\", Tstep"
     ],
     "language": "python",
     "metadata": {},
     "outputs": [
      {
       "output_type": "stream",
       "stream": "stdout",
       "text": [
        "Duration of the motion capture sequence 2.5\n"
       ]
      }
     ],
     "prompt_number": 6
    },
    {
     "cell_type": "code",
     "collapsed": false,
     "input": [
      "bc"
     ],
     "language": "python",
     "metadata": {},
     "outputs": [
      {
       "metadata": {},
       "output_type": "pyout",
       "prompt_number": 7,
       "text": [
        "filename : 07_01.c3d\n",
        "nframes : 300\n",
        "topos : False"
       ]
      }
     ],
     "prompt_number": 7
    },
    {
     "cell_type": "markdown",
     "metadata": {},
     "source": [
      "`d` is a MDA of shape (3,npoint,nframe). It contains all the possible configurations of the body. In general it is supposed to be a cyclic motion as a integer number of walking steps. This allows to instantiate the body configuration anywhere else in space in a given chronology. A specific space-time configuration of the body is called a `topos`."
     ]
    },
    {
     "cell_type": "code",
     "collapsed": false,
     "input": [
      "np.shape(bc.d)"
     ],
     "language": "python",
     "metadata": {},
     "outputs": [
      {
       "metadata": {},
       "output_type": "pyout",
       "prompt_number": 8,
       "text": [
        "(3, 16, 300)"
       ]
      }
     ],
     "prompt_number": 8
    },
    {
     "cell_type": "markdown",
     "metadata": {},
     "source": [
      "+ 3  : dimension of space\n",
      "+ 16 : number of nodes\n",
      "+ 300 : number of frames "
     ]
    },
    {
     "cell_type": "markdown",
     "metadata": {},
     "source": [
      "The figure below shows the projection in a vertival plane of the body nodes. "
     ]
    },
    {
     "cell_type": "code",
     "collapsed": false,
     "input": [
      "#\n",
      "# plot the graph representation of the object\n",
      "# \n",
      "plt.figure(figsize=(8,8))\n",
      "plt.title(\"Body graph 16 Nodes - 10 Edges \")\n",
      "nx.draw(bc.g,bc.g.pos)\n",
      "a=plt.axis('scaled')"
     ],
     "language": "python",
     "metadata": {},
     "outputs": [
      {
       "metadata": {},
       "output_type": "display_data",
       "png": "[encoded data removed]",
       "text": [
        "<matplotlib.figure.Figure at 0x4780110>"
       ]
      }
     ],
     "prompt_number": 9
    },
    {
     "cell_type": "heading",
     "level": 2,
     "metadata": {},
     "source": [
      "Centering the motion"
     ]
    },
    {
     "cell_type": "markdown",
     "metadata": {},
     "source": [
      "In order to be able to translate the motion in any point in space-time, a distinction is made between the real motion or topos and the virtual motion which is the motion capture. \n",
      "\n",
      "Let $\\mathbf{p}^k$ denotes the center of gravity of the body in the (O,x,y) plane"
     ]
    },
    {
     "cell_type": "code",
     "collapsed": false,
     "input": [
      "bc.center()"
     ],
     "language": "python",
     "metadata": {},
     "outputs": [],
     "prompt_number": 10
    },
    {
     "cell_type": "markdown",
     "metadata": {},
     "source": [
      "At that point the body structure is centered. \n",
      "\n",
      "\n",
      "\n",
      "The frame is centered in the xy plane by substracting from the configuration of points the projection of the body in the xy plane. "
     ]
    },
    {
     "cell_type": "code",
     "collapsed": false,
     "input": [
      "np.shape(bc.d)"
     ],
     "language": "python",
     "metadata": {},
     "outputs": [
      {
       "metadata": {},
       "output_type": "pyout",
       "prompt_number": 11,
       "text": [
        "(3, 16, 300)"
       ]
      }
     ],
     "prompt_number": 11
    },
    {
     "cell_type": "code",
     "collapsed": false,
     "input": [
      "bc.npoints"
     ],
     "language": "python",
     "metadata": {},
     "outputs": [
      {
       "metadata": {},
       "output_type": "pyout",
       "prompt_number": 12,
       "text": [
        "16"
       ]
      }
     ],
     "prompt_number": 12
    },
    {
     "cell_type": "markdown",
     "metadata": {},
     "source": [
      "Each frame is centered above the origin. For example for a walk motion the effect of teh centering is just like if the body was still walking but not moving forward exactly in the same manner as a walk on a conveyor belt."
     ]
    },
    {
     "cell_type": "code",
     "collapsed": false,
     "input": [
      "pgc = np.sum(bc.d[:,:,0],axis=1)/16\n",
      "pg0 = bc.pg[:,0]\n",
      "print \"True center of gravity\", pg0\n",
      "print \"Center of gravity of the centered frame\",pgc"
     ],
     "language": "python",
     "metadata": {},
     "outputs": [
      {
       "output_type": "stream",
       "stream": "stdout",
       "text": [
        "True center of gravity [-1.74251571  0.49373077  0.        ]\n",
        "Center of gravity of the centered frame [  3.74700271e-16   1.38777878e-17   8.94887363e-01]\n"
       ]
      }
     ],
     "prompt_number": 13
    },
    {
     "cell_type": "code",
     "collapsed": false,
     "input": [
      "np.shape(bc.pg)"
     ],
     "language": "python",
     "metadata": {},
     "outputs": [
      {
       "metadata": {},
       "output_type": "pyout",
       "prompt_number": 14,
       "text": [
        "(3, 300)"
       ]
      }
     ],
     "prompt_number": 14
    },
    {
     "cell_type": "markdown",
     "metadata": {},
     "source": [
      "The current file contains 300 frames"
     ]
    },
    {
     "cell_type": "code",
     "collapsed": false,
     "input": [
      "t = arange(bc.nframes)\n",
      "print t"
     ],
     "language": "python",
     "metadata": {},
     "outputs": [
      {
       "output_type": "stream",
       "stream": "stdout",
       "text": [
        "[  0   1   2   3   4   5   6   7   8   9  10  11  12  13  14  15  16  17\n",
        "  18  19  20  21  22  23  24  25  26  27  28  29  30  31  32  33  34  35\n",
        "  36  37  38  39  40  41  42  43  44  45  46  47  48  49  50  51  52  53\n",
        "  54  55  56  57  58  59  60  61  62  63  64  65  66  67  68  69  70  71\n",
        "  72  73  74  75  76  77  78  79  80  81  82  83  84  85  86  87  88  89\n",
        "  90  91  92  93  94  95  96  97  98  99 100 101 102 103 104 105 106 107\n",
        " 108 109 110 111 112 113 114 115 116 117 118 119 120 121 122 123 124 125\n",
        " 126 127 128 129 130 131 132 133 134 135 136 137 138 139 140 141 142 143\n",
        " 144 145 146 147 148 149 150 151 152 153 154 155 156 157 158 159 160 161\n",
        " 162 163 164 165 166 167 168 169 170 171 172 173 174 175 176 177 178 179\n",
        " 180 181 182 183 184 185 186 187 188 189 190 191 192 193 194 195 196 197\n",
        " 198 199 200 201 202 203 204 205 206 207 208 209 210 211 212 213 214 215\n",
        " 216 217 218 219 220 221 222 223 224 225 226 227 228 229 230 231 232 233\n",
        " 234 235 236 237 238 239 240 241 242 243 244 245 246 247 248 249 250 251\n",
        " 252 253 254 255 256 257 258 259 260 261 262 263 264 265 266 267 268 269\n",
        " 270 271 272 273 274 275 276 277 278 279 280 281 282 283 284 285 286 287\n",
        " 288 289 290 291 292 293 294 295 296 297 298 299]\n"
       ]
      }
     ],
     "prompt_number": 15
    },
    {
     "cell_type": "code",
     "collapsed": false,
     "input": [
      "np.shape(bc.pg[0:-1,:])"
     ],
     "language": "python",
     "metadata": {},
     "outputs": [
      {
       "metadata": {},
       "output_type": "pyout",
       "prompt_number": 16,
       "text": [
        "(2, 300)"
       ]
      }
     ],
     "prompt_number": 16
    },
    {
     "cell_type": "code",
     "collapsed": false,
     "input": [
      "xg = bc.pg[0,:]\n",
      "yg = bc.pg[1,:]\n",
      "zg = bc.pg[2,:]\n",
      "figure(figsize=(8,8))\n",
      "subplot(311)\n",
      "plot(t,xg)\n",
      "title('x component')\n",
      "ylabel('m')\n",
      "subplot(312)\n",
      "xlabel('frame index')\n",
      "title('y component')\n",
      "ylabel('m')\n",
      "plot(t,yg)\n",
      "subplot(313)\n",
      "xlabel('frame index')\n",
      "title('Motion capture centroid trajectory')\n",
      "ylabel('m')\n",
      "plot(xg,yg,'.b')\n",
      "\n",
      "d = bc.pg[0:-1,1:]-bc.pg[0:-1,0:-1]\n",
      "smocap = cumsum(sqrt(sum(d*d,axis=0)))\n",
      "\n",
      "Vmocap = smocap[-1]/Tstep\n",
      "title('Length = '+str(smocap[-1])+' V = '+str(Vmocap*3.6)+' km/h')\n",
      "axis('scaled')\n",
      "axis('off')"
     ],
     "language": "python",
     "metadata": {},
     "outputs": [
      {
       "metadata": {},
       "output_type": "pyout",
       "prompt_number": 17,
       "text": [
        "(-2.0, 2.0, 0.47999999999999998, 0.54000000000000004)"
       ]
      },
      {
       "metadata": {},
       "output_type": "display_data",
       "png": "[encoded data removed]",
       "text": [
        "<matplotlib.figure.Figure at 0x4b35d10>"
       ]
      }
     ],
     "prompt_number": 17
    },
    {
     "cell_type": "code",
     "collapsed": false,
     "input": [
      "plot(smocap)\n",
      "title('evolution of curvilinear abscisse from motion capture centroid trajectory') \n",
      "xlabel('frame index')\n",
      "ylabel('distance (meters)')"
     ],
     "language": "python",
     "metadata": {},
     "outputs": [
      {
       "metadata": {},
       "output_type": "pyout",
       "prompt_number": 18,
       "text": [
        "<matplotlib.text.Text at 0x4b005d0>"
       ]
      },
      {
       "metadata": {},
       "output_type": "display_data",
       "png": "[encoded data removed]",
       "text": [
        "<matplotlib.figure.Figure at 0x4942410>"
       ]
      }
     ],
     "prompt_number": 18
    },
    {
     "cell_type": "heading",
     "level": 2,
     "metadata": {},
     "source": [
      "Defining a large scale trajectory "
     ]
    },
    {
     "cell_type": "markdown",
     "metadata": {},
     "source": [
      "A large scale trajectory is defined in the $(O,x,y)$ plane.\n",
      "\n",
      "`traj` is a data structure (Npt,2)"
     ]
    },
    {
     "cell_type": "code",
     "collapsed": false,
     "input": [
      "v = Vmocap\n",
      "print v"
     ],
     "language": "python",
     "metadata": {},
     "outputs": [
      {
       "output_type": "stream",
       "stream": "stdout",
       "text": [
        "1.36558346484\n"
       ]
      }
     ],
     "prompt_number": 19
    },
    {
     "cell_type": "code",
     "collapsed": false,
     "input": [
      "# time in seconds\n",
      "time = np.arange(0,10,0.01)\n",
      "x = v*time\n",
      "y = np.zeros(len(time))\n",
      "traj = np.vstack((time.T,x.T,y.T)).T\n",
      "print shape(traj)"
     ],
     "language": "python",
     "metadata": {},
     "outputs": [
      {
       "output_type": "stream",
       "stream": "stdout",
       "text": [
        "(1000, 3)\n"
       ]
      }
     ],
     "prompt_number": 21
    },
    {
     "cell_type": "code",
     "collapsed": false,
     "input": [
      "straj = cumsum(sqrt(sum((traj[1:,1:]-traj[0:-1,1:])*(traj[1:,1:]-traj[0:-1,1:]),axis=1)))\n",
      "plot(straj)"
     ],
     "language": "python",
     "metadata": {},
     "outputs": [
      {
       "metadata": {},
       "output_type": "pyout",
       "prompt_number": 22,
       "text": [
        "[<matplotlib.lines.Line2D at 0x4b42a10>]"
       ]
      },
      {
       "metadata": {},
       "output_type": "display_data",
       "png": "[encoded data removed]",
       "text": [
        "<matplotlib.figure.Figure at 0x7f37d8b8d810>"
       ]
      }
     ],
     "prompt_number": 22
    },
    {
     "cell_type": "code",
     "collapsed": false,
     "input": [
      "plot(traj[:,0],traj[:,1],'.b')"
     ],
     "language": "python",
     "metadata": {},
     "outputs": [
      {
       "metadata": {},
       "output_type": "pyout",
       "prompt_number": 23,
       "text": [
        "[<matplotlib.lines.Line2D at 0x4b32bd0>]"
       ]
      },
      {
       "metadata": {},
       "output_type": "display_data",
       "png": "[encoded data removed]",
       "text": [
        "<matplotlib.figure.Figure at 0x45a7090>"
       ]
      }
     ],
     "prompt_number": 23
    },
    {
     "cell_type": "markdown",
     "metadata": {},
     "source": [
      "Trajectory"
     ]
    },
    {
     "cell_type": "heading",
     "level": 2,
     "metadata": {},
     "source": [
      "`posvel()`"
     ]
    },
    {
     "cell_type": "markdown",
     "metadata": {},
     "source": [
      "\n",
      "\n",
      "\n",
      "The `posvel()` function (position and velocity) takes as argument the following parameters \n",
      "\n",
      "+ `traj` a plane trajectory (Npt,3)\n",
      "+ $t_k$ time for evaluation of topos \n",
      "+ $T_{step}$ duration of the periodic motion sequence \n",
      "\n",
      "and returns \n",
      "\n",
      "+ the frame index $k_f = \\lfloor \\frac{t_k \\pmod{T_{step}}}{t_f} \\rfloor$\n",
      "+ the trajectory index $k_t = \\lfloor t_k \\rfloor$\n",
      "+ velocity unitary vector along motion capture frame $\\hat{\\mathbf{v}}_s = \\frac{\\mathbf{p}^g[k_f]-\\mathbf{p}^g[k_f-1]}{|\\mathbf{p}^g[k_f]-\\mathbf{p}^g[k_f-1]|}$\n",
      "+ $\\hat{\\mathbf{w}}_s = \\mathbf{\\hat{z}} \\times  \\hat{\\mathbf{v}}_s $\n",
      "+  velocity unitary vector along trajectory $\\hat{\\mathbf{v}}_t = \\frac{\\mathbf{p}^t[k_t]-\\mathbf{p}^g[k_t-1]}{|\\mathbf{p}^g[k_t]-\\mathbf{p}^t[k_t-1]|}$\n",
      "+ $\\hat{\\mathbf{w}}_t = \\mathbf{\\hat{z}} \\times  \\hat{\\mathbf{v}}_t $\n",
      "\n",
      "$t_f = \\frac{T_{step}}{Nf}$ is the interframe time or frame sampling period, it is equal to the whole duration of the motion sequence $T_{step}$ divided by the number of frames\n",
      "\n",
      "\n",
      "\n"
     ]
    },
    {
     "cell_type": "markdown",
     "metadata": {},
     "source": [
      "`settopos` is a method which takes as argument : \n",
      "\n",
      "+ `traj` a plane trajectory (Npt,2)\n",
      "+ $t_k$ time for evaluation of topos \n",
      "+ $T_{step}$ duration of the periodic motion sequence "
     ]
    },
    {
     "cell_type": "code",
     "collapsed": false,
     "input": [
      "bc.settopos(traj=traj,tk=3,Tstep=Tstep)"
     ],
     "language": "python",
     "metadata": {},
     "outputs": []
    },
    {
     "cell_type": "markdown",
     "metadata": {},
     "source": [
      "There is now a new data structure in the BodyCylinder objet. This data structure is called a `topos`"
     ]
    },
    {
     "cell_type": "code",
     "collapsed": false,
     "input": [
      "print np.shape(bc.topos)"
     ],
     "language": "python",
     "metadata": {},
     "outputs": []
    },
    {
     "cell_type": "code",
     "collapsed": false,
     "input": [
      "bc.topos"
     ],
     "language": "python",
     "metadata": {},
     "outputs": []
    },
    {
     "cell_type": "code",
     "collapsed": false,
     "input": [
      "bc.plot3d()"
     ],
     "language": "python",
     "metadata": {},
     "outputs": []
    },
    {
     "cell_type": "markdown",
     "metadata": {},
     "source": [
      "Each cylinder is an edge of the `BodyCylnder` graph. "
     ]
    },
    {
     "cell_type": "code",
     "collapsed": false,
     "input": [
      "bc.updbasis0()"
     ],
     "language": "python",
     "metadata": {},
     "outputs": []
    },
    {
     "cell_type": "code",
     "collapsed": false,
     "input": [
      "#bc.settopos(traj,2.3,Tstep)\n",
      "bc.movie(traj=traj,tk=time,topos=True)\n",
      "############# verification de la base\n",
      "#B.LoadMotion()\n",
      "#c3d_frames = B.d\n",
      "#B.CylinderModel()\n",
      "#fr_id  = 125\n",
      "#B.cylinder_basis0()\n",
      "#B.cylinder_basis_k (frameId = fr_id)\n",
      "#P = np.array([1,1,1])\n",
      "#for cy_id in range(10):\n",
      "#A = np.zeros(shape = (3))\n",
      "#u0 = B.basis0[cy_id,0:3]\n",
      "#v0 = B.basis0[cy_id,3:6]\n",
      "#w0 = B.basis0[cy_id,6:]\n",
      "#fig  = plt.figure()\n",
      "#ax = fig.add_subplot(111, projection='3d')\n",
      "#SF = 1\n",
      "#plt.plot((A[0],SF*u0[0]+A[0]),(A[1],SF*u0[1]+A[1]),(A[2],SF*u0[2]+A[2]), 'y')\n",
      "#plt.plot((A[0],SF*v0[0]+A[0]),(A[1],SF*v0[1]+A[1]),(A[2],SF*v0[2]+A[2]),'r')\n",
      "#plt.plot((A[0],SF*w0[0]+A[0]),(A[1],SF*w0[1]+A[1]),(A[2],SF*w0[2]+A[2]),'g')\n",
      "#uk = B.basisk[cy_id,0:3]\n",
      "#vk = B.basisk[cy_id,3:6]\n",
      "#wk = B.basisk[cy_id,6:]\n",
      "#plt.plot((A[0],SF*uk[0]+A[0]),(A[1],SF*uk[1]+A[1]),(A[2],SF*uk[2]+A[2]), 'y--')\n",
      "#plt.plot((A[0],SF*vk[0]+A[0]),(A[1],SF*vk[1]+A[1]),(A[2],SF*vk[2]+A[2]),'r--')\n",
      "#plt.plot((A[0],SF*wk[0]+A[0]),(A[1],SF*wk[1]+A[1]),(A[2],SF*wk[2]+A[2]),'g--')\n",
      "#plt.autoscale()\n",
      "#plt.title(str(cy_id))\n",
      "#plt.show()\n",
      "############   Antenna on cylinders\n",
      "\n",
      "# Load a .c3dmotion capture file\n",
      "\n",
      "#\n",
      "# extract a numpy array (3 x np x nf )\n",
      "#\n",
      "#   3  : x y  z\n",
      "#   np : number of points\n",
      "#   nf : number of frames\n",
      "#\n",
      "\n",
      "#c3dframe = bc.d\n",
      "\n",
      "#bc.geomfile(0)\n",
      "#bc.movie()\n",
      "#pg = np.sum(bc.d,axis=1)\n",
      "\n",
      "#\n",
      "# Convert c3d file into a 10 (4+4+1+1) cylinder model\n",
      "#\n",
      "#  4 arms 4 legs 1 trunk 1 head\n",
      "#\n",
      "#  create member c array\n",
      "#  c : array(shape  =  (nc,8)), Id (1), A coordinate (3) , B coordinate (3) , radius (1)\n",
      "#\n",
      "\n",
      "#bc.antennas()\n",
      "\n",
      "#\n",
      "# create a reference basis on each cylinder\n",
      "#\n",
      "# WARNING : arbitray orientation for the first frame\n",
      "#\n",
      "\n",
      "#bc.cylinder_basis0()\n",
      "#\n",
      "##\n",
      "## Below an example of positioning antenna around cylnders\n",
      "##\n",
      "##\n",
      "#\n",
      "#fr_ind = 0\n",
      "#cyl = B.c[:, :, fr_ind]\n",
      "## scale factor\n",
      "#SF = 1\n",
      "#\n",
      "## 10 antennas on 10 cylinders\n",
      "#\n",
      "#cy_id = range(0, 10)\n",
      "#l = np.ones((10))\n",
      "#alpha = np.pi / 2 * np.ones((10))\n",
      "#\n",
      "#\n",
      "##\n",
      "## Display Frame 0 \n",
      "##\n",
      "#B.cyl_antenna(cy_id, l, alpha, 0)\n",
      "#\n",
      "#fig = plt.figure()\n",
      "#\n",
      "#ax = fig.add_subplot(111, aspect='equal', projection='3d')\n",
      "#\n",
      "#for i in range(B.c.shape[0]):\n",
      "#    pltu.cylinder(fig, cyl[i, 1:4], cyl[i, 4:7], cyl[i, 7])\n",
      "#    A3 = cyl[i, 1:4]\n",
      "#    u3 = B.basis0[i, 0:3]\n",
      "#    v3 = B.basis0[i, 3:6]\n",
      "#    w3 = B.basis0[i, 6:]\n",
      "#\n",
      "#    plt.plot((A3[0], SF * u3[0] + A3[0]), (\n",
      "#        A3[1], SF * u3[1] + A3[1]), (A3[2], SF * u3[2] + A3[2]), 'y--')\n",
      "#    plt.plot((A3[0], SF * v3[0] + A3[0]), (\n",
      "#        A3[1], SF * v3[1] + A3[1]), (A3[2], SF * v3[2] + A3[2]), 'r--')\n",
      "#    plt.plot((A3[0], SF * w3[0] + A3[0]), (\n",
      "#        A3[1], SF * w3[1] + A3[1]), (A3[2], SF * w3[2] + A3[2]), 'g--')\n",
      "#    plt.plot((A3[0], B.ant[i, 0] + A3[0]), (\n",
      "#        A3[1], B.ant[i, 1] + A3[1]), (A3[2], B.ant[i, 2] + A3[2]), 'c*--')\n",
      "#    #~ plt.axis('tight')\n",
      "#    #~ fig  = plt.figure()\n",
      "#    #~ plt.plot((A3[0],SF*u3[0]+A3[0]),(A3[1],SF*u3[1]+A3[1]), 'y--')\n",
      "#    #~ plt.plot((A3[0],SF*v3[0]+A3[0]),(A3[1],SF*v3[1]+A3[1]),'r--')\n",
      "#    #~ plt.plot((A3[0],SF*w3[0]+A3[0]),(A3[1],SF*w3[1]+A3[1]),'g--')\n",
      "#        #~\n",
      "#    #~ plt.plot((A3[0],B.ant[0]+ A3[0]) ,(A3[1],B.ant[1]+ A3[1]),'c*--')\n",
      "#    #~ plt.axis('scaled')\n",
      "#\n",
      "##\n",
      "## Display Frame 60 \n",
      "##\n",
      "#fr_ind2 = 60\n",
      "#cyl1 = B.c[:, :, fr_ind2]\n",
      "#B.cylinder_basis_k(frameId=fr_ind2)\n",
      "#B.cyl_antenna(cy_id, l, alpha, fr_ind2)\n",
      "#SF = 1\n",
      "#\n",
      "#fig = plt.figure()\n",
      "#for i in range(B.c.shape[0]):\n",
      "#    pltu.cylinder(fig, cyl1[i, 1:4], cyl1[i, 4:7], cyl1[i, 7])\n",
      "#    A3 = cyl1[i, 1:4]\n",
      "#    u3 = B.basisk[i, 0:3]\n",
      "#    v3 = B.basisk[i, 3:6]\n",
      "#    w3 = B.basisk[i, 6:]\n",
      "#\n",
      "#    plt.plot((A3[0], SF * u3[0] + A3[0]), (\n",
      "#        A3[1], SF * u3[1] + A3[1]), (A3[2], SF * u3[2] + A3[2]), 'y--')\n",
      "#    plt.plot((A3[0], SF * v3[0] + A3[0]), (\n",
      "#        A3[1], SF * v3[1] + A3[1]), (A3[2], SF * v3[2] + A3[2]), 'r--')\n",
      "#    plt.plot((A3[0], SF * w3[0] + A3[0]), (\n",
      "#        A3[1], SF * w3[1] + A3[1]), (A3[2], SF * w3[2] + A3[2]), 'g--')\n",
      "#    plt.plot((A3[0], B.ant[i, 0] + A3[0]), (\n",
      "#        A3[1], B.ant[i, 1] + A3[1]), (A3[2], B.ant[i, 2] + A3[2]), 'c*--')\n",
      "#    #~ plt.axis('tight')\n",
      "#\n",
      "#plt.show()\n",
      "#\n",
      "#####################\n",
      "#B.LoadMotion()\n",
      "#f = B.d\n",
      "#cycle_distance = dist(f[:, 0, 0], f[:, 0, -1])\n",
      "#print 'distance parcouru pendant un cycle de marche = ', cycle_distance\n",
      "##~ for fr_id in range(0,124):\n",
      "#    #~ inter_frames_dist = dist(f[:,0,fr_id],f[:,0,fr_id  +1])\n",
      "#    #~ print ' frame ID = ' , fr_id ,  'distance parcouru pendant un step = ', inter_frames_dist\n",
      "##~\n",
      "##~\n",
      "#\n",
      "######## test translation and rotation\n",
      "#fig = plt.figure()\n",
      "#\n",
      "#ax = fig.add_subplot(111, projection='3d')\n",
      "#ax.scatter(f[0, :, 0], f[1, :, 0], f[2, :, 0], c='g', marker='o')\n",
      "#ax.scatter(f[0, :, -1], f[1, :, -1], f[2, :, -1], c='g', marker='*')\n",
      "#\n",
      "## translation\n",
      "##~ p = np.array([0,0,0])\n",
      "##~ f1 = translate(f,p)\n",
      "##~ ax.scatter(f1[0,:,0],f1[1,:,0],f1[2,:,0] )\n",
      "##~ ax.scatter(f1[0,:,-1],f1[1,:,-1],f1[2,:,-1] )\n",
      "## rotantion\n",
      "##~ fig = plt.figure()\n",
      "##~\n",
      "##~ ax = fig.add_subplot(111, projection='3d')\n",
      "#f2 = rotation(f, np.pi / 2)\n",
      "#ax.scatter(f2[0, :, 0], f2[1, :, 0], f2[2, :, 0], c='r', marker='o')\n",
      "#ax.scatter(f2[0, :, -1], f2[1, :, -1], f2[2, :, -1], c='r', marker='*')\n",
      "#plt.show()\n"
     ],
     "language": "python",
     "metadata": {},
     "outputs": []
    },
    {
     "cell_type": "code",
     "collapsed": false,
     "input": [],
     "language": "python",
     "metadata": {},
     "outputs": []
    }
   ],
   "metadata": {}
  }
 ]
}