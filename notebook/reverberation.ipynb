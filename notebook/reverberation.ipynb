{
 "cells": [
  {
   "cell_type": "markdown",
   "metadata": {},
   "source": [
    "This is an attempt to derive a model for accounting for DMC (Dense multipath components)"
   ]
  },
  {
   "cell_type": "markdown",
   "metadata": {},
   "source": [
    "@ARTICLE{6174464, \n",
    "author={Bamba, A. and Joseph, W. and Andersen, J.B. and Tanghe, E. and Vermeeren, G. and Plets, D. and Nielsen, J.O. and Martens, L.}, \n",
    "journal={Electromagnetic Compatibility, IEEE Transactions on}, \n",
    "title={Experimental Assessment of Specific Absorption Rate Using Room Electromagnetics}, \n",
    "year={2012}, \n",
    "month={Aug}, \n",
    "volume={54}, \n",
    "number={4}, \n",
    "pages={747-757}, \n",
    "keywords={MIMO communication;UHF radio propagation;antenna theory;biological effects of microwaves;electromagnetic wave absorption;electromagnetic wave scattering;indoor radio;measurement systems;reverberation;virtual instrumentation;wireless channels;SAR;absorption cross-section;antenna characteristics;closed room environment;diffuse energy properties;diffuse scattering;frequency 2.3 GHz;human exposure;lossy cavity;measurement system;measurement-based method;reverberation time assessment;room electromagnetics;specific absorption rate;virtual multiple-input multiple-output channel system;Absorption;Antenna measurements;Arrays;Electromagnetics;Frequency measurement;Reverberation;Time measurement;Absorption cross section (ACS);diffuse scattering;power density;reverberation time;room electromagnetics;specific absorption rate (SAR)}, \n",
    "doi={10.1109/TEMC.2012.2189572}, \n",
    "ISSN={0018-9375},}"
   ]
  },
  {
   "cell_type": "markdown",
   "metadata": {},
   "source": [
    "$$S(t) = V \\frac{dW}{dt}+ \\frac{c \\eta A}{4} W$$"
   ]
  },
  {
   "cell_type": "markdown",
   "metadata": {},
   "source": [
    "@ARTICLE{6275475, \n",
    "author={Pedersen, T. and Steinbock, G. and Fleury, B.H.}, \n",
    "journal={Antennas and Propagation, IEEE Transactions on}, \n",
    "title={Modeling of Reverberant Radio Channels Using Propagation Graphs}, \n",
    "year={2012}, \n",
    "month={Dec}, \n",
    "volume={60}, \n",
    "number={12}, \n",
    "pages={5978-5988}, \n",
    "keywords={avalanche diodes;delays;wireless channels;avalanche effect;closed-form expression;delay;exponential power decay;propagation graphs;reverberant radio channels;signal components;Computational modeling;Delay;Receivers;Scattering;Transfer functions;Transmitters;Vectors;Channel impulse response;indoor radio channels;multiple scattering;radio channels;reverberation;signal flow graphs}, \n",
    "doi={10.1109/TAP.2012.2214192}, \n",
    "ISSN={0018-926X},}"
   ]
  },
  {
   "cell_type": "markdown",
   "metadata": {},
   "source": [
    "$W$ is the Energy density ($J/m^3$)"
   ]
  },
  {
   "cell_type": "markdown",
   "metadata": {},
   "source": [
    "@ARTICLE{6509986, \n",
    "author={Steinbock, G. and Pedersen, T. and Fleury, B.H. and Wei Wang and Raulefs, R.}, \n",
    "journal={Antennas and Propagation, IEEE Transactions on}, \n",
    "title={Distance Dependent Model for the Delay Power Spectrum of In-room Radio Channels}, \n",
    "year={2013}, \n",
    "month={Aug}, \n",
    "volume={61}, \n",
    "number={8}, \n",
    "pages={4327-4340}, \n",
    "keywords={mean square error methods;radio receivers;radio transmitters;reverberation chambers;wireless channels;Dirac delta function;closed rooms;delay power spectrum;distance dependent model;distance dependent trends;exponentially decaying function;in-room radio channels;inverse distance power law;kurtosis;mean delay;path loss;propagation time;range based radio localization;receiver;reverberant component;root mean squared delay spread;transmitter;Delay power spectrum;delay spread;distance- dependent channel model;indoor environments;mean delay;multipath propagation;radio localization;reverberation}, \n",
    "doi={10.1109/TAP.2013.2260513}, \n",
    "ISSN={0018-926X},}"
   ]
  },
  {
   "cell_type": "code",
   "execution_count": 1,
   "metadata": {
    "collapsed": false
   },
   "outputs": [
    {
     "name": "stdout",
     "output_type": "stream",
     "text": [
      "Warning : OSM Parser seems to be not installed\n",
      "Layout:Mayavi is not installed\n"
     ]
    }
   ],
   "source": [
    "from pylayers.gis.layout import *\n",
    "from pylayers.antprop.slab import *\n",
    "%matplotlib  inline"
   ]
  },
  {
   "cell_type": "code",
   "execution_count": 2,
   "metadata": {
    "collapsed": true
   },
   "outputs": [],
   "source": [
    "L=Layout('WHERE1.ini')"
   ]
  },
  {
   "cell_type": "code",
   "execution_count": 3,
   "metadata": {
    "collapsed": false
   },
   "outputs": [
    {
     "name": "stdout",
     "output_type": "stream",
     "text": [
      "merge\n",
      "merge\n",
      "merge\n",
      "merge\n",
      "merge\n",
      "merge\n",
      "merge\n",
      "merge\n",
      "merge\n",
      "merge\n",
      "merge\n",
      "merge\n"
     ]
    }
   ],
   "source": [
    "L.build(convexify=False)"
   ]
  },
  {
   "cell_type": "markdown",
   "metadata": {},
   "source": [
    "# Sabine's Model "
   ]
  },
  {
   "cell_type": "markdown",
   "metadata": {},
   "source": [
    "$$\\tau_r = \\frac{4V}{cA\\eta}$$"
   ]
  },
  {
   "cell_type": "markdown",
   "metadata": {},
   "source": [
    "If the absorption coefficient is 0 (PEC), the reverberation time is infinite. However if the absorption is total ($\\eta=1$), the reverberation time is not 0, unless we take this other formulation:"
   ]
  },
  {
   "cell_type": "markdown",
   "metadata": {},
   "source": [
    "# Eyring's model "
   ]
  },
  {
   "cell_type": "markdown",
   "metadata": {},
   "source": [
    "$$\\tau_{g} = -\\frac{4V}{cA\\lnη(1-\\eta)}$$"
   ]
  },
  {
   "cell_type": "markdown",
   "metadata": {},
   "source": [
    "$$\\eta =\\frac{\\sum_k T_k S_k}{\\sum_k S_k}$$"
   ]
  },
  {
   "cell_type": "code",
   "execution_count": 4,
   "metadata": {
    "collapsed": false
   },
   "outputs": [
    {
     "data": {
      "text/plain": [
       "(<matplotlib.figure.Figure at 0x7f20fd8389d0>,\n",
       " <matplotlib.axes._subplots.AxesSubplot at 0x7f20fd838a90>)"
      ]
     },
     "execution_count": 4,
     "metadata": {},
     "output_type": "execute_result"
    },
    {
     "data": {
      "image/png": "[encoded data removed]",
      "text/plain": [
       "<matplotlib.figure.Figure at 0x7f20fd8389d0>"
      ]
     },
     "metadata": {},
     "output_type": "display_data"
    }
   ],
   "source": [
    "L.showG('s')"
   ]
  },
  {
   "cell_type": "code",
   "execution_count": 5,
   "metadata": {
    "collapsed": false
   },
   "outputs": [],
   "source": [
    "C1 = filter(lambda x: x>0, L.Gr.node[4]['cycle'].cycle)"
   ]
  },
  {
   "cell_type": "code",
   "execution_count": 6,
   "metadata": {
    "collapsed": false
   },
   "outputs": [
    {
     "data": {
      "text/plain": [
       "[29, 30, 12, 11, 16, 342, 333, 22, 328, 24, 23, 335, 334]"
      ]
     },
     "execution_count": 6,
     "metadata": {},
     "output_type": "execute_result"
    }
   ],
   "source": [
    "C1"
   ]
  },
  {
   "cell_type": "code",
   "execution_count": 7,
   "metadata": {
    "collapsed": false
   },
   "outputs": [],
   "source": [
    "C = L.Gr.node[4]['cycle']"
   ]
  },
  {
   "cell_type": "code",
   "execution_count": 8,
   "metadata": {
    "collapsed": false
   },
   "outputs": [],
   "source": [
    "V,A,eta,tau_sab,tau_eyr=C.reverberation(3,L)"
   ]
  },
  {
   "cell_type": "code",
   "execution_count": 9,
   "metadata": {
    "collapsed": false
   },
   "outputs": [
    {
     "data": {
      "text/plain": [
       "60.770283954121197"
      ]
     },
     "execution_count": 9,
     "metadata": {},
     "output_type": "execute_result"
    }
   ],
   "source": [
    "tau_sab"
   ]
  },
  {
   "cell_type": "code",
   "execution_count": 10,
   "metadata": {
    "collapsed": false
   },
   "outputs": [
    {
     "data": {
      "text/plain": [
       "55.757762518528892"
      ]
     },
     "execution_count": 10,
     "metadata": {},
     "output_type": "execute_result"
    }
   ],
   "source": [
    "tau_eyr"
   ]
  },
  {
   "cell_type": "code",
   "execution_count": 11,
   "metadata": {
    "collapsed": false
   },
   "outputs": [
    {
     "data": {
      "text/plain": [
       "0.16030083804912365"
      ]
     },
     "execution_count": 11,
     "metadata": {},
     "output_type": "execute_result"
    }
   ],
   "source": [
    "eta"
   ]
  },
  {
   "cell_type": "code",
   "execution_count": 12,
   "metadata": {
    "collapsed": false
   },
   "outputs": [
    {
     "data": {
      "text/plain": [
       "0.73061455847466295"
      ]
     },
     "execution_count": 12,
     "metadata": {},
     "output_type": "execute_result"
    }
   ],
   "source": [
    "V/A"
   ]
  },
  {
   "cell_type": "code",
   "execution_count": 13,
   "metadata": {
    "collapsed": true
   },
   "outputs": [],
   "source": [
    "S=C.area"
   ]
  },
  {
   "cell_type": "code",
   "execution_count": 14,
   "metadata": {
    "collapsed": false
   },
   "outputs": [
    {
     "data": {
      "text/plain": [
       "0.73061455847466295"
      ]
     },
     "execution_count": 14,
     "metadata": {},
     "output_type": "execute_result"
    }
   ],
   "source": [
    "V/A"
   ]
  },
  {
   "cell_type": "code",
   "execution_count": 15,
   "metadata": {
    "collapsed": false
   },
   "outputs": [
    {
     "ename": "NameError",
     "evalue": "name 'P' is not defined",
     "output_type": "error",
     "traceback": [
      "\u001b[1;31m---------------------------------------------------------------------------\u001b[0m",
      "\u001b[1;31mNameError\u001b[0m                                 Traceback (most recent call last)",
      "\u001b[1;32m<ipython-input-15-edb35dbb4ff1>\u001b[0m in \u001b[0;36m<module>\u001b[1;34m()\u001b[0m\n\u001b[1;32m----> 1\u001b[1;33m \u001b[0mA\u001b[0m \u001b[1;33m=\u001b[0m \u001b[0mP\u001b[0m\u001b[1;33m*\u001b[0m\u001b[1;36m3\u001b[0m\u001b[1;33m+\u001b[0m\u001b[1;36m2\u001b[0m\u001b[1;33m*\u001b[0m\u001b[0mS\u001b[0m\u001b[1;33m\u001b[0m\u001b[0m\n\u001b[0m\u001b[0;32m      2\u001b[0m \u001b[0mV\u001b[0m \u001b[1;33m=\u001b[0m \u001b[0mS\u001b[0m\u001b[1;33m*\u001b[0m\u001b[1;36m3\u001b[0m\u001b[1;33m\u001b[0m\u001b[0m\n",
      "\u001b[1;31mNameError\u001b[0m: name 'P' is not defined"
     ]
    }
   ],
   "source": [
    "A = P*3+2*S\n",
    "V = S*3"
   ]
  },
  {
   "cell_type": "code",
   "execution_count": null,
   "metadata": {
    "collapsed": true
   },
   "outputs": [],
   "source": [
    "print V,A,V/A"
   ]
  },
  {
   "cell_type": "code",
   "execution_count": null,
   "metadata": {
    "collapsed": true
   },
   "outputs": [],
   "source": [
    "sum(S1)+sum(S2)"
   ]
  },
  {
   "cell_type": "code",
   "execution_count": 18,
   "metadata": {
    "collapsed": true
   },
   "outputs": [],
   "source": [
    "sum(S2)"
   ]
  },
  {
   "cell_type": "code",
   "execution_count": 19,
   "metadata": {
    "collapsed": true
   },
   "outputs": [],
   "source": [
    "P=L.Gr.node[1]['polyg']"
   ]
  },
  {
   "cell_type": "code",
   "execution_count": 20,
   "metadata": {
    "collapsed": true
   },
   "outputs": [],
   "source": [
    "P.length"
   ]
  },
  {
   "cell_type": "code",
   "execution_count": 21,
   "metadata": {
    "collapsed": true
   },
   "outputs": [],
   "source": [
    "1+1.5+5+4+5+1.5"
   ]
  },
  {
   "cell_type": "code",
   "execution_count": 22,
   "metadata": {
    "collapsed": true
   },
   "outputs": [],
   "source": [
    "L.Gs.node[2]['connect']"
   ]
  },
  {
   "cell_type": "code",
   "execution_count": 23,
   "metadata": {
    "collapsed": true
   },
   "outputs": [],
   "source": [
    "L.Gs.pos[-8]"
   ]
  },
  {
   "cell_type": "code",
   "execution_count": 24,
   "metadata": {
    "collapsed": true
   },
   "outputs": [],
   "source": [
    "L.Gs.node[2]"
   ]
  },
  {
   "cell_type": "code",
   "execution_count": 25,
   "metadata": {
    "collapsed": true
   },
   "outputs": [],
   "source": [
    "L.show3()"
   ]
  },
  {
   "cell_type": "code",
   "execution_count": 30,
   "metadata": {
    "collapsed": true
   },
   "outputs": [],
   "source": [
    "L.Gs.node[1]['name']"
   ]
  },
  {
   "cell_type": "code",
   "execution_count": 31,
   "metadata": {
    "collapsed": true
   },
   "outputs": [],
   "source": [
    "slp=L.sl['PARTITION']"
   ]
  },
  {
   "cell_type": "code",
   "execution_count": 32,
   "metadata": {
    "collapsed": true
   },
   "outputs": [],
   "source": [
    "Lo,Lp=slp.loss0(np.arange(0.7,28,0.01))"
   ]
  },
  {
   "cell_type": "code",
   "execution_count": 33,
   "metadata": {
    "collapsed": false
   },
   "outputs": [
    {
     "data": {
      "text/plain": [
       "Populating the interactive namespace from numpy and matplotlib\n",
       "WARNING: pylab import has clobbered these variables: ['plt', 'mlab', 'random', 'copy']\n",
       "`%matplotlib` prevents importing * from pylab and numpy"
      ]
     },
     "execution_count": 33,
     "metadata": {},
     "output_type": "execute_result"
    }
   ],
   "source": [
    "%pylab inline"
   ]
  },
  {
   "cell_type": "code",
   "execution_count": 34,
   "metadata": {
    "collapsed": false
   },
   "outputs": [
    {
     "data": {
      "text/plain": [
       "[<matplotlib.lines.Line2D at 0x7f0e425c1d90>]"
      ]
     },
     "execution_count": 34,
     "metadata": {},
     "output_type": "execute_result"
    }
   ],
   "source": [
    "plot(Lo)"
   ]
  },
  {
   "cell_type": "code",
   "execution_count": 35,
   "metadata": {
    "collapsed": false
   },
   "outputs": [
    {
     "data": {
      "text/plain": [
       "0.31622776601683794"
      ]
     },
     "execution_count": 35,
     "metadata": {},
     "output_type": "execute_result"
    }
   ],
   "source": [
    "10**(-5/10.)"
   ]
  },
  {
   "cell_type": "code",
   "execution_count": 36,
   "metadata": {
    "collapsed": false
   },
   "outputs": [
    {
     "data": {
      "text/plain": [
       "Slab file name     : slabDB.ini\n",
       "Material file name : matDB.ini\n",
       "-----------------------------\n",
       "\n",
       "WINDOW_GLASS : GLASS | [0.003]\n",
       "\n",
       "PLASTERBOARD_7CM : PLASTER | [0.07]\n",
       "\n",
       "WALL : BRICK | [0.07]\n",
       "f(GHz) : [3]\n",
       "theta (rad) : [ 0.]\n",
       "\n",
       "AIR : AIR | [0.02]\n",
       "f(GHz) : [3]\n",
       "theta (rad) : [ 0.]\n",
       "\n",
       "WINDOW : GLASS | AIR | GLASS | [0.005, 0.005, 0.005]\n",
       "\n",
       "METALIC : METAL | [0.1]\n",
       "\n",
       "PLASTERBOARD_14CM : PLASTER | [0.14]\n",
       "\n",
       "DOOR : WOOD | [0.03]\n",
       "\n",
       "FLOOR : REINFORCED_CONCRETE | [0.1]\n",
       "\n",
       "METAL : METAL | [0.1]\n",
       "f(GHz) : [3]\n",
       "theta (rad) : [ 0.]\n",
       "\n",
       "PARTITION : PLASTER | [0.1]\n",
       "f(GHz) : [3]\n",
       "theta (rad) : [ 0.]\n",
       "\n",
       "CONCRETE_20CM3D : CONCRETE | [0.2]\n",
       "\n",
       "PLASTERBOARD_10CM : PLASTER | [0.1]\n",
       "\n",
       "CEIL : REINFORCED_CONCRETE | [0.1]\n",
       "\n",
       "CONCRETE_6CM3D : CONCRETE | [0.06]\n",
       "\n",
       "CONCRETE_15CM3D : CONCRETE | [0.15]\n",
       "\n",
       "3D_WINDOW_GLASS : GLASS | AIR | GLASS | [0.005, 0.005, 0.005]\n",
       "\n",
       "WALLS : BRICK | [0.15]\n",
       "\n",
       "WOOD : WOOD | [0.04]\n",
       "f(GHz) : [3]\n",
       "theta (rad) : [ 0.]\n",
       "\n",
       "CONCRETE_7CM3D : CONCRETE | [0.07]\n",
       "\n",
       "PILLAR : REINFORCED_CONCRETE | [0.3]\n",
       "\n",
       "ABSORBENT : ABSORBENT | [0.1]"
      ]
     },
     "execution_count": 36,
     "metadata": {},
     "output_type": "execute_result"
    }
   ],
   "source": [
    "L.sl"
   ]
  },
  {
   "cell_type": "code",
   "execution_count": 43,
   "metadata": {
    "collapsed": true
   },
   "outputs": [],
   "source": [
    "import networkx as nx\n",
    "import numpy as np"
   ]
  },
  {
   "cell_type": "code",
   "execution_count": 44,
   "metadata": {
    "collapsed": true
   },
   "outputs": [],
   "source": [
    "sA=nx.adjacency_matrix(L.Gi)"
   ]
  },
  {
   "cell_type": "code",
   "execution_count": 45,
   "metadata": {
    "collapsed": true
   },
   "outputs": [],
   "source": [
    "B=sA.todense()"
   ]
  },
  {
   "cell_type": "code",
   "execution_count": 46,
   "metadata": {
    "collapsed": false
   },
   "outputs": [
    {
     "data": {
      "text/plain": [
       "(36, 36)"
      ]
     },
     "execution_count": 46,
     "metadata": {},
     "output_type": "execute_result"
    }
   ],
   "source": [
    "B.shape"
   ]
  },
  {
   "cell_type": "code",
   "execution_count": 47,
   "metadata": {
    "collapsed": true
   },
   "outputs": [],
   "source": [
    "plt.imshow(B)\n",
    "plt.colorbar()"
   ]
  },
  {
   "cell_type": "code",
   "execution_count": 48,
   "metadata": {
    "collapsed": true
   },
   "outputs": [],
   "source": [
    "I=np.eye(36)"
   ]
  },
  {
   "cell_type": "code",
   "execution_count": 49,
   "metadata": {
    "collapsed": true
   },
   "outputs": [],
   "source": [
    "U=(I-B)"
   ]
  },
  {
   "cell_type": "code",
   "execution_count": 50,
   "metadata": {
    "collapsed": true
   },
   "outputs": [],
   "source": [
    "import numpy.linalg as la"
   ]
  },
  {
   "cell_type": "code",
   "execution_count": 51,
   "metadata": {
    "collapsed": true
   },
   "outputs": [],
   "source": [
    "G=la.inv(U)"
   ]
  },
  {
   "cell_type": "code",
   "execution_count": 52,
   "metadata": {
    "collapsed": true
   },
   "outputs": [],
   "source": [
    "u,v=la.eig(G)"
   ]
  },
  {
   "cell_type": "code",
   "execution_count": 53,
   "metadata": {
    "collapsed": false
   },
   "outputs": [
    {
     "data": {
      "text/plain": [
       "/home/uguen/anaconda/lib/python2.7/site-packages/numpy/core/numeric.py:462: ComplexWarning: Casting complex values to real discards the imaginary part\n",
       "  return array(a, dtype, copy=False, order=order)\n",
       "[<matplotlib.lines.Line2D at 0x7f8f006b7d50>]"
      ]
     },
     "execution_count": 53,
     "metadata": {},
     "output_type": "execute_result"
    }
   ],
   "source": [
    "plot(u)"
   ]
  },
  {
   "cell_type": "code",
   "execution_count": 54,
   "metadata": {
    "collapsed": false
   },
   "outputs": [
    {
     "data": {
      "text/plain": [
       "{'output': {(3, 2): 0.00050222388593930151,\n",
       "  (3, 2, 1): 0.00050222388593930151,\n",
       "  (4, 2): 0.8660370411557603,\n",
       "  (5, 2): 0.86553481726975567}}"
      ]
     },
     "execution_count": 54,
     "metadata": {},
     "output_type": "execute_result"
    }
   ],
   "source": [
    "L.Gi.edge[(9,2)][(1,2)]"
   ]
  },
  {
   "cell_type": "code",
   "execution_count": 55,
   "metadata": {
    "collapsed": false
   },
   "outputs": [
    {
     "data": {
      "text/plain": [
       "132"
      ]
     },
     "execution_count": 55,
     "metadata": {},
     "output_type": "execute_result"
    }
   ],
   "source": [
    "len(L.Gi.edges())"
   ]
  },
  {
   "cell_type": "code",
   "execution_count": 56,
   "metadata": {
    "collapsed": true
   },
   "outputs": [],
   "source": [
    "for e in L.Gi.edges():\n",
    "    ns1 = e[0][0]\n",
    "    cy1 = e[0][1]\n",
    "    ns2 = e[1][0]\n",
    "    cy2 = e[1][1]\n",
    "    if cy1==cy2:\n",
    "    # Reflection\n",
    "    else:\n",
    "    # Transmission\n",
    "\n",
    "    L.Gi[e[0]][e[1]]['weight']=9\n",
    "    #print ns1,ns2,cy1,cy2"
   ]
  },
  {
   "cell_type": "markdown",
   "metadata": {},
   "source": [
    "$$\\alpha_i(f) = \\int_0^{\\frac{\\pi}{2}}(1-\\frac{1}{2}(|\\Gamma_{h,i}(\\theta,f)|^2+|\\Gamma_{v,i}(\\theta,f)|^2) \\cos(\\theta)\\sin(\\theta) d\\theta $$"
   ]
  },
  {
   "cell_type": "markdown",
   "metadata": {},
   "source": [
    "$$\\epsilon_r = 6 $$"
   ]
  },
  {
   "cell_type": "code",
   "execution_count": 16,
   "metadata": {
    "collapsed": true
   },
   "outputs": [],
   "source": [
    "sl=L.sl"
   ]
  },
  {
   "cell_type": "code",
   "execution_count": 51,
   "metadata": {
    "collapsed": true
   },
   "outputs": [],
   "source": [
    "sl.mat.add(name='CONCRETE-AAU',cval=6,sigma=0.08)\n",
    "sl.mat.add(name='WOOD-AAU',cval=2.1,sigma=0.05)\n",
    "sl.mat.add(name='GLASS-AAU',cval=5.5,sigma=0)"
   ]
  },
  {
   "cell_type": "code",
   "execution_count": 52,
   "metadata": {
    "collapsed": false
   },
   "outputs": [
    {
     "data": {
      "text/plain": [
       "Available Material\n",
       "-------------------\n",
       "STONE (8)    |epsr|=8.70 sigma (S/m)=3.00\n",
       "WOOD-AAU (17)    |epsr|=2.10 sigma (S/m)=0.05\n",
       "CONCRETE (5)    |epsr|=5.50 sigma (S/m)=0.05\n",
       "PLASTER (3)    |epsr|=8.00 sigma (S/m)=0.04\n",
       "METAL (-1)    |epsr|=1.41 sigma (S/m)=1000.00\n",
       "PLATRE-57GHz (10)    |epsr|=3.10 sigma (S/m)=0.00\n",
       "AIR (1)    |epsr|=1.00 sigma (S/m)=0.00\n",
       "CONCRETE-METIS-TC1 (11)    |epsr|=6.15 sigma (S/m)=0.00\n",
       "GLASS (4)    |epsr|=3.80 sigma (S/m)=0.00\n",
       "WOOD (7)    |epsr|=2.84 sigma (S/m)=0.00\n",
       "WOOD-METIS-TC1 (12)    |epsr|=1.64 sigma (S/m)=0.00\n",
       "CONCRETE-AAU (16)    |epsr|=6.00 sigma (S/m)=0.08\n",
       "GLASS-AAU (18)    |epsr|=5.50 sigma (S/m)=0.00\n",
       "BRICK (2)    |epsr|=4.10 sigma (S/m)=0.30\n",
       "SEA_WATER (9)    |epsr|=81.00 sigma (S/m)=4.00\n",
       "REINFORCED_CONCRETE (6)    |epsr|=8.70 sigma (S/m)=3.00\n",
       "ABSORBENT (0)    |epsr|=1.00 sigma (S/m)=0.00\n"
      ]
     },
     "execution_count": 52,
     "metadata": {},
     "output_type": "execute_result"
    }
   ],
   "source": [
    "sl.mat"
   ]
  },
  {
   "cell_type": "code",
   "execution_count": 47,
   "metadata": {
    "collapsed": false
   },
   "outputs": [],
   "source": [
    "wood=sl.mat['WOOD-AAU']\n",
    "glass= sl.mat['GLASS-AAU']\n",
    "concrete=sl.mat['CONCRETE-AAU']\n",
    "metal=sl.mat['METAL']"
   ]
  },
  {
   "cell_type": "code",
   "execution_count": 48,
   "metadata": {
    "collapsed": true
   },
   "outputs": [],
   "source": [
    "theta=np.arange(0,np.pi/2,0.01)[None,:]"
   ]
  },
  {
   "cell_type": "markdown",
   "metadata": {},
   "source": [
    "Hybrid Model For REverberant Indoor Radio Channels Using Rays and Graphs"
   ]
  },
  {
   "cell_type": "markdown",
   "metadata": {},
   "source": [
    "# Concrete"
   ]
  },
  {
   "cell_type": "code",
   "execution_count": 57,
   "metadata": {
    "collapsed": false
   },
   "outputs": [
    {
     "data": {
      "text/plain": [
       "6.85"
      ]
     },
     "execution_count": 57,
     "metadata": {},
     "output_type": "execute_result"
    }
   ],
   "source": [
    "(3.1+10.6)/2"
   ]
  },
  {
   "cell_type": "code",
   "execution_count": 61,
   "metadata": {
    "collapsed": false
   },
   "outputs": [
    {
     "name": "stdout",
     "output_type": "stream",
     "text": [
      "0.391912328917\n"
     ]
    }
   ],
   "source": [
    "Rv,Rh=concrete.R(fGHz=np.r_[6.85],theta=theta)\n",
    "I = (1-0.5*(abs(Rv)*abs(Rv)+abs(Rh)*abs(Rh)))*np.sin(theta)*np.cos(theta)\n",
    "a_concrete = np.sum(I[0,:])*(theta[0,1]-theta[0,0])\n",
    "print a_concrete"
   ]
  },
  {
   "cell_type": "markdown",
   "metadata": {},
   "source": [
    "# Glass"
   ]
  },
  {
   "cell_type": "code",
   "execution_count": 62,
   "metadata": {
    "collapsed": false
   },
   "outputs": [
    {
     "name": "stdout",
     "output_type": "stream",
     "text": [
      "0.398163238517\n"
     ]
    }
   ],
   "source": [
    "Rv,Rh=glass.R(fGHz=np.r_[6.85],theta=theta)\n",
    "I = (1-0.5*(abs(Rv)*abs(Rv)+abs(Rh)*abs(Rh)))*np.sin(theta)*np.cos(theta)\n",
    "a_glass = np.sum(I[0,:])*(theta[0,1]-theta[0,0])\n",
    "print a_glass"
   ]
  },
  {
   "cell_type": "markdown",
   "metadata": {},
   "source": [
    "# Wood"
   ]
  },
  {
   "cell_type": "code",
   "execution_count": 63,
   "metadata": {
    "collapsed": false
   },
   "outputs": [
    {
     "name": "stdout",
     "output_type": "stream",
     "text": [
      "0.457571961967\n"
     ]
    }
   ],
   "source": [
    "Rv,Rh=wood.R(fGHz=np.r_[6.85],theta=theta)\n",
    "I = (1-0.5*(abs(Rv)*abs(Rv)+abs(Rh)*abs(Rh)))*np.sin(theta)*np.cos(theta)\n",
    "a_wood = np.sum(I[0,:])*(theta[0,1]-theta[0,0])\n",
    "print a_wood"
   ]
  },
  {
   "cell_type": "markdown",
   "metadata": {},
   "source": [
    "# Metal "
   ]
  },
  {
   "cell_type": "code",
   "execution_count": 64,
   "metadata": {
    "collapsed": false
   },
   "outputs": [
    {
     "name": "stdout",
     "output_type": "stream",
     "text": [
      "0.0220308927637\n"
     ]
    }
   ],
   "source": [
    "Rv,Rh=metal.R(fGHz=np.r_[6.85],theta=theta)\n",
    "I = (1-0.5*(abs(Rv)*abs(Rv)+abs(Rh)*abs(Rh)))*np.sin(theta)*np.cos(theta)\n",
    "a_wood = np.sum(I[0,:])*(theta[0,1]-theta[0,0])\n",
    "print a_wood"
   ]
  },
  {
   "cell_type": "code",
   "execution_count": 40,
   "metadata": {
    "collapsed": false
   },
   "outputs": [
    {
     "data": {
      "text/plain": [
       "[<matplotlib.lines.Line2D at 0x7f20f8e34f90>]"
      ]
     },
     "execution_count": 40,
     "metadata": {},
     "output_type": "execute_result"
    },
    {
     "data": {
      "image/png": "[encoded data removed]",
      "text/plain": [
       "<matplotlib.figure.Figure at 0x7f20f8ce4ad0>"
      ]
     },
     "metadata": {},
     "output_type": "display_data"
    }
   ],
   "source": [
    "plt.plot(theta[0,:]*180/np.pi,abs(Rv[0,:]))\n",
    "plt.plot(theta[0,:]*180/np.pi,abs(Rh[0,:]))"
   ]
  },
  {
   "cell_type": "code",
   "execution_count": 65,
   "metadata": {
    "collapsed": true
   },
   "outputs": [],
   "source": [
    "ts = np.r_[144.36,18.16,15.79,27.43]\n",
    "al = np.r_[0.39,0.46,0.4,0]"
   ]
  },
  {
   "cell_type": "code",
   "execution_count": 66,
   "metadata": {
    "collapsed": true
   },
   "outputs": [],
   "source": [
    "S = np.sum(ts)\n",
    "\n",
    "abar = np.sum(ts*al)/S"
   ]
  },
  {
   "cell_type": "code",
   "execution_count": 67,
   "metadata": {
    "collapsed": false
   },
   "outputs": [
    {
     "name": "stdout",
     "output_type": "stream",
     "text": [
      "0.344949936813\n"
     ]
    }
   ],
   "source": [
    "print abar"
   ]
  },
  {
   "cell_type": "code",
   "execution_count": 68,
   "metadata": {
    "collapsed": false
   },
   "outputs": [
    {
     "name": "stdout",
     "output_type": "stream",
     "text": [
      "205.74\n"
     ]
    }
   ],
   "source": [
    "print S"
   ]
  },
  {
   "cell_type": "code",
   "execution_count": 104,
   "metadata": {
    "collapsed": true
   },
   "outputs": [],
   "source": [
    "V1=6.2*9.5*3.5\n",
    "V2=5.8*8.4*3.1"
   ]
  },
  {
   "cell_type": "code",
   "execution_count": 105,
   "metadata": {
    "collapsed": false
   },
   "outputs": [
    {
     "name": "stdout",
     "output_type": "stream",
     "text": [
      "151.032\n"
     ]
    }
   ],
   "source": [
    "print V2"
   ]
  },
  {
   "cell_type": "code",
   "execution_count": 106,
   "metadata": {
    "collapsed": false
   },
   "outputs": [
    {
     "name": "stdout",
     "output_type": "stream",
     "text": [
      "0.734091571887\n"
     ]
    }
   ],
   "source": [
    "print V2/S"
   ]
  },
  {
   "cell_type": "code",
   "execution_count": 107,
   "metadata": {
    "collapsed": true
   },
   "outputs": [],
   "source": [
    "T = -4*V2/(0.3*S*np.log(1-abar))"
   ]
  },
  {
   "cell_type": "code",
   "execution_count": 108,
   "metadata": {
    "collapsed": false
   },
   "outputs": [
    {
     "name": "stdout",
     "output_type": "stream",
     "text": [
      "23.1368286934\n"
     ]
    }
   ],
   "source": [
    "print(T)"
   ]
  },
  {
   "cell_type": "code",
   "execution_count": 109,
   "metadata": {
    "collapsed": true
   },
   "outputs": [],
   "source": [
    "V = 22.9*(0.3*S*np.log(1-abar))/(-4)"
   ]
  },
  {
   "cell_type": "code",
   "execution_count": 110,
   "metadata": {
    "collapsed": false
   },
   "outputs": [
    {
     "name": "stdout",
     "output_type": "stream",
     "text": [
      "149.486035698\n"
     ]
    }
   ],
   "source": [
    "print V"
   ]
  },
  {
   "cell_type": "markdown",
   "metadata": {},
   "source": [
    "-20 : 60 \n",
    "-32 : 120"
   ]
  },
  {
   "cell_type": "code",
   "execution_count": 47,
   "metadata": {
    "collapsed": false
   },
   "outputs": [
    {
     "data": {
      "text/plain": [
       "12"
      ]
     },
     "execution_count": 47,
     "metadata": {},
     "output_type": "execute_result"
    }
   ],
   "source": [
    "32-20"
   ]
  },
  {
   "cell_type": "code",
   "execution_count": 48,
   "metadata": {
    "collapsed": false
   },
   "outputs": [
    {
     "data": {
      "text/plain": [
       "60"
      ]
     },
     "execution_count": 48,
     "metadata": {},
     "output_type": "execute_result"
    }
   ],
   "source": [
    "60"
   ]
  },
  {
   "cell_type": "markdown",
   "metadata": {},
   "source": [
    "$$e^{-\\frac{\\tau}{T}}$$"
   ]
  },
  {
   "cell_type": "markdown",
   "metadata": {},
   "source": [
    "$$\\frac{-10\\tau \\log_{10}(e)}{T}$$"
   ]
  },
  {
   "cell_type": "code",
   "execution_count": 34,
   "metadata": {
    "collapsed": true
   },
   "outputs": [],
   "source": [
    "c = 10*np.log10(np.e)"
   ]
  },
  {
   "cell_type": "code",
   "execution_count": 35,
   "metadata": {
    "collapsed": false
   },
   "outputs": [
    {
     "name": "stdout",
     "output_type": "stream",
     "text": [
      "4.34294481903\n"
     ]
    }
   ],
   "source": [
    "print c"
   ]
  },
  {
   "cell_type": "code",
   "execution_count": 36,
   "metadata": {
    "collapsed": true
   },
   "outputs": [],
   "source": [
    "alpha=-12/60."
   ]
  },
  {
   "cell_type": "markdown",
   "metadata": {},
   "source": [
    "$$\\alpha=\\frac{-4.34}{T}$$"
   ]
  },
  {
   "cell_type": "code",
   "execution_count": 37,
   "metadata": {
    "collapsed": true
   },
   "outputs": [],
   "source": [
    "T = -c/alpha"
   ]
  },
  {
   "cell_type": "code",
   "execution_count": 38,
   "metadata": {
    "collapsed": false
   },
   "outputs": [
    {
     "name": "stdout",
     "output_type": "stream",
     "text": [
      "21.7147240952\n"
     ]
    }
   ],
   "source": [
    "print T"
   ]
  },
  {
   "cell_type": "code",
   "execution_count": null,
   "metadata": {
    "collapsed": true
   },
   "outputs": [],
   "source": []
  }
 ],
 "metadata": {
  "kernelspec": {
   "display_name": "Python 2",
   "language": "python",
   "name": "python2"
  },
  "language_info": {
   "codemirror_mode": {
    "name": "ipython",
    "version": 2
   },
   "file_extension": ".py",
   "mimetype": "text/x-python",
   "name": "python",
   "nbconvert_exporter": "python",
   "pygments_lexer": "ipython2",
   "version": "2.7.11"
  },
  "latex_envs": {
   "bibliofile": "biblio.bib",
   "cite_by": "apalike",
   "current_citInitial": 1,
   "eqLabelWithNumbers": true,
   "eqNumInitial": 0
  }
 },
 "nbformat": 4,
 "nbformat_minor": 0
}
