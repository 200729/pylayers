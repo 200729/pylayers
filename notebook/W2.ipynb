{
 "metadata": {
  "name": ""
 },
 "nbformat": 3,
 "nbformat_minor": 0,
 "worksheets": [
  {
   "cells": [
    {
     "cell_type": "markdown",
     "metadata": {},
     "source": [
      "# Interactive session illustrating UWB Ray Tracing Simulation\n",
      " \n",
      "A set of UWB simulations has been performed in the environement of SIRADEL. \n",
      "This section describes some available features of the developped tool.  "
     ]
    },
    {
     "cell_type": "code",
     "collapsed": true,
     "input": [
      "import os \n",
      "import sys\n",
      "from pylayers.simul.simulem import *\n",
      "# Transmitter index\n",
      "itx = 1\n",
      "# Receiver index\n",
      "irx = 150"
     ],
     "language": "python",
     "metadata": {},
     "outputs": [
      {
       "metadata": {},
       "output_type": "display_data",
       "text": [
        "<matplotlib.figure.Figure at 0x5a3c690>"
       ]
      }
     ],
     "prompt_number": 1
    },
    {
     "cell_type": "markdown",
     "metadata": {},
     "source": [
      "## 1 Starting the simulation \n",
      "\n",
      "The simulation is loaded by reading a configuration file which contains all the required informations about the simulation \n",
      "parameters as well as the name of the data file which has already been simulated.  \n",
      "\n",
      "The simulation is as follow :   \n",
      "\n",
      "    [files]\n",
      "    at = simul9.mat\n",
      "    tx = w2tx.ini\n",
      "    slab = simul9.slab\n",
      "    txant = defant.vsh3\n",
      "    rx = w2rx.ini\n",
      "    patra = simul9.patra\n",
      "    conf = $HOME/Pyproject/project.conf\n",
      "    palch = simul9.palch\n",
      "    struc = Lstruc.str\n",
      "    rxant = defant.vsh3\n",
      "\n",
      "    [tracing]\n",
      "    maxdeep = 10\n",
      "    distdiff = 5.0\n",
      "    var2d3d = 1\n",
      "\n",
      "    [waveform]\n",
      "    tw = 30\n",
      "    band = 0.499\n",
      "    fc = 4.493\n",
      "    thresh = 3\n",
      "    fe = 50\n",
      "    type = generic\n",
      "\n",
      "    [frequency]\n",
      "    fmax = 11\n",
      "    nf = 181\n",
      "    fmin = 2"
     ]
    },
    {
     "cell_type": "code",
     "collapsed": true,
     "input": [
      "S =  Simul()\n",
      "S.load('where2.ini')\n",
      "\n"
     ],
     "language": "python",
     "metadata": {},
     "outputs": [],
     "prompt_number": 3
    },
    {
     "cell_type": "markdown",
     "metadata": {},
     "source": [
      "### List of Tx points\n",
      "\n",
      "51 Tx points have been defined. The coordinates list is as follows "
     ]
    },
    {
     "cell_type": "code",
     "collapsed": false,
     "input": [
      "for ipt in S.tx.points.keys():\n",
      "    print 'Tx'+str(ipt)+ ' :',S.tx.points[ipt] "
     ],
     "language": "python",
     "metadata": {},
     "outputs": [
      {
       "output_type": "stream",
       "stream": "stdout",
       "text": [
        "Tx1 : [-12.2724   7.7632   1.2   ]\n",
        "Tx2 : [-18.7747  15.178    1.2   ]\n",
        "Tx3 : [-4.1418  8.8603  1.2   ]\n",
        "Tx4 : [ -9.0914  15.1899   1.2   ]\n"
       ]
      }
     ],
     "prompt_number": 4
    },
    {
     "cell_type": "markdown",
     "metadata": {},
     "source": [
      "## List of Rx points  \n",
      "\n",
      "343 Rx points have been defined. The coordinates list is has follows : "
     ]
    },
    {
     "cell_type": "code",
     "collapsed": true,
     "input": [
      "#for ipt in S.rx.points.keys():\n",
      "#    pass\n",
      "#print 'Rx'+str(ipt)+ ' :',S.rx.points[ipt] "
     ],
     "language": "python",
     "metadata": {},
     "outputs": [],
     "prompt_number": 5
    },
    {
     "cell_type": "markdown",
     "metadata": {},
     "source": [
      "The distibution of those points can be shown using the show method of the Simulation object"
     ]
    },
    {
     "cell_type": "code",
     "collapsed": false,
     "input": [
      "figsize(10,10)\n",
      "S.show()"
     ],
     "language": "python",
     "metadata": {},
     "outputs": [
      {
       "output_type": "stream",
       "stream": "stdout",
       "text": [
        "Warning : no furniture file loaded\n"
       ]
      },
      {
       "metadata": {},
       "output_type": "pyout",
       "prompt_number": 7,
       "text": [
        "(<matplotlib.figure.Figure at 0x5d3f8d0>,\n",
        " <matplotlib.axes.AxesSubplot at 0x5791e50>)"
       ]
      },
      {
       "metadata": {},
       "output_type": "display_data",
       "png": "[encoded data removed]",
       "text": [
        "<matplotlib.figure.Figure at 0x5d3f8d0>"
       ]
      }
     ],
     "prompt_number": 7
    },
    {
     "cell_type": "markdown",
     "metadata": {},
     "source": [
      "## Vectorial Propagation Channel "
     ]
    },
    {
     "cell_type": "code",
     "collapsed": false,
     "input": [
      "vc = S.VC(itx,irx)\n",
      "vc.doadod()"
     ],
     "language": "python",
     "metadata": {},
     "outputs": [
      {
       "ename": "KeyError",
       "evalue": "150",
       "output_type": "pyerr",
       "traceback": [
        "\u001b[1;31m---------------------------------------------------------------------------\u001b[0m\n\u001b[1;31mKeyError\u001b[0m                                  Traceback (most recent call last)",
        "\u001b[1;32m<ipython-input-8-576476fcffb5>\u001b[0m in \u001b[0;36m<module>\u001b[1;34m()\u001b[0m\n\u001b[1;32m----> 1\u001b[1;33m \u001b[0mvc\u001b[0m \u001b[1;33m=\u001b[0m \u001b[0mS\u001b[0m\u001b[1;33m.\u001b[0m\u001b[0mVC\u001b[0m\u001b[1;33m(\u001b[0m\u001b[0mitx\u001b[0m\u001b[1;33m,\u001b[0m\u001b[0mirx\u001b[0m\u001b[1;33m)\u001b[0m\u001b[1;33m\u001b[0m\u001b[0m\n\u001b[0m\u001b[0;32m      2\u001b[0m \u001b[0mvc\u001b[0m\u001b[1;33m.\u001b[0m\u001b[0mdoadod\u001b[0m\u001b[1;33m(\u001b[0m\u001b[1;33m)\u001b[0m\u001b[1;33m\u001b[0m\u001b[0m\n",
        "\u001b[1;32m/private/staff/i/bi/mmhedhbi/pylayers/pylayers/simul/simulem.py\u001b[0m in \u001b[0;36mVC\u001b[1;34m(self, itx, irx)\u001b[0m\n\u001b[0;32m   2452\u001b[0m         \"\"\"\n\u001b[0;32m   2453\u001b[0m \u001b[1;33m\u001b[0m\u001b[0m\n\u001b[1;32m-> 2454\u001b[1;33m         \u001b[0mVCl\u001b[0m \u001b[1;33m=\u001b[0m \u001b[0mchannelc\u001b[0m\u001b[1;33m.\u001b[0m\u001b[0mVectChannel\u001b[0m\u001b[1;33m(\u001b[0m\u001b[0mself\u001b[0m\u001b[1;33m,\u001b[0m \u001b[0mitx\u001b[0m\u001b[1;33m,\u001b[0m \u001b[0mirx\u001b[0m\u001b[1;33m,\u001b[0m \u001b[0mFalse\u001b[0m\u001b[1;33m)\u001b[0m\u001b[1;33m\u001b[0m\u001b[0m\n\u001b[0m\u001b[0;32m   2455\u001b[0m         \u001b[1;32mreturn\u001b[0m\u001b[1;33m(\u001b[0m\u001b[0mVCl\u001b[0m\u001b[1;33m)\u001b[0m\u001b[1;33m\u001b[0m\u001b[0m\n\u001b[0;32m   2456\u001b[0m \u001b[1;33m\u001b[0m\u001b[0m\n",
        "\u001b[1;32m/private/staff/i/bi/mmhedhbi/pylayers/pylayers/antprop/channelc.pyc\u001b[0m in \u001b[0;36m__init__\u001b[1;34m(self, S, itx, irx, transpose)\u001b[0m\n\u001b[0;32m     69\u001b[0m         \u001b[1;31m#   a verifier -ravel-\u001b[0m\u001b[1;33m\u001b[0m\u001b[1;33m\u001b[0m\u001b[0m\n\u001b[0;32m     70\u001b[0m         \u001b[0mself\u001b[0m\u001b[1;33m.\u001b[0m\u001b[0mfail\u001b[0m \u001b[1;33m=\u001b[0m \u001b[0mFalse\u001b[0m\u001b[1;33m\u001b[0m\u001b[0m\n\u001b[1;32m---> 71\u001b[1;33m         \u001b[0m_filefield\u001b[0m \u001b[1;33m=\u001b[0m \u001b[0mS\u001b[0m\u001b[1;33m.\u001b[0m\u001b[0mdfield\u001b[0m\u001b[1;33m[\u001b[0m\u001b[0mitx\u001b[0m\u001b[1;33m]\u001b[0m\u001b[1;33m[\u001b[0m\u001b[0mirx\u001b[0m\u001b[1;33m]\u001b[0m\u001b[1;33m\u001b[0m\u001b[0m\n\u001b[0m\u001b[0;32m     72\u001b[0m         \u001b[0mfilefield\u001b[0m \u001b[1;33m=\u001b[0m \u001b[0mpyu\u001b[0m\u001b[1;33m.\u001b[0m\u001b[0mgetlong\u001b[0m\u001b[1;33m(\u001b[0m\u001b[0m_filefield\u001b[0m\u001b[1;33m,\u001b[0m\u001b[0mpstruc\u001b[0m\u001b[1;33m[\u001b[0m\u001b[1;34m'DIRTUD'\u001b[0m\u001b[1;33m]\u001b[0m\u001b[1;33m)\u001b[0m\u001b[1;33m\u001b[0m\u001b[0m\n\u001b[0;32m     73\u001b[0m         \u001b[0m_filetauk\u001b[0m \u001b[1;33m=\u001b[0m \u001b[0mS\u001b[0m\u001b[1;33m.\u001b[0m\u001b[0mdtauk\u001b[0m\u001b[1;33m[\u001b[0m\u001b[0mitx\u001b[0m\u001b[1;33m]\u001b[0m\u001b[1;33m[\u001b[0m\u001b[0mirx\u001b[0m\u001b[1;33m]\u001b[0m\u001b[1;33m\u001b[0m\u001b[0m\n",
        "\u001b[1;31mKeyError\u001b[0m: 150"
       ]
      }
     ],
     "prompt_number": 8
    },
    {
     "cell_type": "markdown",
     "metadata": {},
     "source": [
      "## Scalar Propagation Channel "
     ]
    },
    {
     "cell_type": "markdown",
     "metadata": {},
     "source": [
      "### Applying an UWB Waveform \n",
      "\n",
      "The UWB simulation implies the convolution of the radio channel with an applied waveform "
     ]
    },
    {
     "cell_type": "code",
     "collapsed": false,
     "input": [
      "S.wav.show2(Tp=520)"
     ],
     "language": "python",
     "metadata": {},
     "outputs": []
    },
    {
     "cell_type": "code",
     "collapsed": false,
     "input": [
      "itx = 1\n",
      "irx = 18\n",
      "S.pltcir(itx,irx)\n",
      "\n",
      "S.showray(1,18,arange(1,70))\n",
      "\n",
      "\n"
     ],
     "language": "python",
     "metadata": {},
     "outputs": []
    },
    {
     "cell_type": "code",
     "collapsed": false,
     "input": [
      "itx = 1\n",
      "irx = 134\n",
      "S.pltcir(itx,irx)"
     ],
     "language": "python",
     "metadata": {},
     "outputs": []
    },
    {
     "cell_type": "code",
     "collapsed": false,
     "input": [
      "itx = 1\n",
      "irx = 250\n",
      "S.showray(itx,irx,arange(1,300))\n"
     ],
     "language": "python",
     "metadata": {},
     "outputs": [
      {
       "ename": "KeyError",
       "evalue": "250",
       "output_type": "pyerr",
       "traceback": [
        "\u001b[1;31m---------------------------------------------------------------------------\u001b[0m\n\u001b[1;31mKeyError\u001b[0m                                  Traceback (most recent call last)",
        "\u001b[1;32m<ipython-input-3-b6f0c31fd8d2>\u001b[0m in \u001b[0;36m<module>\u001b[1;34m()\u001b[0m\n\u001b[0;32m      1\u001b[0m \u001b[0mitx\u001b[0m \u001b[1;33m=\u001b[0m \u001b[1;36m1\u001b[0m\u001b[1;33m\u001b[0m\u001b[0m\n\u001b[0;32m      2\u001b[0m \u001b[0mirx\u001b[0m \u001b[1;33m=\u001b[0m \u001b[1;36m250\u001b[0m\u001b[1;33m\u001b[0m\u001b[0m\n\u001b[1;32m----> 3\u001b[1;33m \u001b[0mS\u001b[0m\u001b[1;33m.\u001b[0m\u001b[0mshowray\u001b[0m\u001b[1;33m(\u001b[0m\u001b[0mitx\u001b[0m\u001b[1;33m,\u001b[0m\u001b[0mirx\u001b[0m\u001b[1;33m,\u001b[0m\u001b[0marange\u001b[0m\u001b[1;33m(\u001b[0m\u001b[1;36m1\u001b[0m\u001b[1;33m,\u001b[0m\u001b[1;36m300\u001b[0m\u001b[1;33m)\u001b[0m\u001b[1;33m)\u001b[0m\u001b[1;33m\u001b[0m\u001b[0m\n\u001b[0m",
        "\u001b[1;32m/home/uguen/Documents/rch/devel/pylayersbug/pylayers/simul/simulem.pyc\u001b[0m in \u001b[0;36mshowray\u001b[1;34m(self, itx, irx, iray, fig, ax)\u001b[0m\n\u001b[0;32m   1764\u001b[0m \u001b[1;33m\u001b[0m\u001b[0m\n\u001b[0;32m   1765\u001b[0m         \u001b[0mgr\u001b[0m \u001b[1;33m=\u001b[0m \u001b[0mGrRay3D\u001b[0m\u001b[1;33m(\u001b[0m\u001b[1;33m)\u001b[0m\u001b[1;33m\u001b[0m\u001b[0m\n\u001b[1;32m-> 1766\u001b[1;33m         \u001b[0mgr\u001b[0m\u001b[1;33m.\u001b[0m\u001b[0mload\u001b[0m\u001b[1;33m(\u001b[0m\u001b[0mself\u001b[0m\u001b[1;33m.\u001b[0m\u001b[0mdtra\u001b[0m\u001b[1;33m[\u001b[0m\u001b[0mitx\u001b[0m\u001b[1;33m]\u001b[0m\u001b[1;33m[\u001b[0m\u001b[0mirx\u001b[0m\u001b[1;33m]\u001b[0m\u001b[1;33m,\u001b[0m \u001b[0mself\u001b[0m\u001b[1;33m.\u001b[0m\u001b[0mL\u001b[0m\u001b[1;33m)\u001b[0m\u001b[1;33m\u001b[0m\u001b[0m\n\u001b[0m\u001b[0;32m   1767\u001b[0m         \u001b[1;32mif\u001b[0m \u001b[0mlen\u001b[0m\u001b[1;33m(\u001b[0m\u001b[0miray\u001b[0m \u001b[1;33m==\u001b[0m \u001b[1;36m1\u001b[0m\u001b[1;33m)\u001b[0m\u001b[1;33m:\u001b[0m\u001b[1;33m\u001b[0m\u001b[0m\n\u001b[0;32m   1768\u001b[0m             \u001b[0mray\u001b[0m \u001b[1;33m=\u001b[0m \u001b[0mgr\u001b[0m\u001b[1;33m.\u001b[0m\u001b[0mray3d\u001b[0m\u001b[1;33m[\u001b[0m\u001b[0miray\u001b[0m\u001b[1;33m[\u001b[0m\u001b[1;36m0\u001b[0m\u001b[1;33m]\u001b[0m\u001b[1;33m]\u001b[0m\u001b[1;33m\u001b[0m\u001b[0m\n",
        "\u001b[1;31mKeyError\u001b[0m: 250"
       ]
      }
     ],
     "prompt_number": 3
    },
    {
     "cell_type": "code",
     "collapsed": false,
     "input": [
      "print itx\n",
      "title('PATH LOSS vs distance Tx'+str(itx))\n",
      "xlabel('distance')\n",
      "ylabel('dB')\n",
      "PL=S.PL(itx)   "
     ],
     "language": "python",
     "metadata": {},
     "outputs": []
    },
    {
     "cell_type": "code",
     "collapsed": true,
     "input": [
      "cira,ciro = S.loadcir(1,1)"
     ],
     "language": "python",
     "metadata": {},
     "outputs": []
    },
    {
     "cell_type": "code",
     "collapsed": false,
     "input": [
      "cira.plot()\n"
     ],
     "language": "python",
     "metadata": {},
     "outputs": []
    },
    {
     "cell_type": "code",
     "collapsed": true,
     "input": [
      "CIRA=cira.esd()"
     ],
     "language": "python",
     "metadata": {},
     "outputs": []
    },
    {
     "cell_type": "code",
     "collapsed": false,
     "input": [
      "CIRA.plot()"
     ],
     "language": "python",
     "metadata": {},
     "outputs": []
    }
   ],
   "metadata": {}
  }
 ]
}