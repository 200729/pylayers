{
 "cells": [
  {
   "cell_type": "markdown",
   "metadata": {},
   "source": [
    "# Initialization"
   ]
  },
  {
   "cell_type": "markdown",
   "metadata": {},
   "source": [
    "Import the `coverage` module"
   ]
  },
  {
   "cell_type": "code",
   "execution_count": 1,
   "metadata": {
    "collapsed": false
   },
   "outputs": [
    {
     "name": "stderr",
     "output_type": "stream",
     "text": [
      "WARNING:traits.has_traits:DEPRECATED: traits.has_traits.wrapped_class, 'the 'implements' class advisor has been deprecated. Use the 'provides' class decorator.\n"
     ]
    }
   ],
   "source": [
    "from pylayers.antprop.coverage import *\n",
    "import time"
   ]
  },
  {
   "cell_type": "markdown",
   "metadata": {},
   "source": [
    "Instantiate a coverage object.\n",
    "By defaut, `TA-Office.str` layout strucure is loaded.\n",
    "\n",
    "This information can be modified in the **coverage.ini** file in the project directory.\n",
    "\n",
    "Below is an example of how the content of the file looks like"
   ]
  },
  {
   "cell_type": "markdown",
   "metadata": {},
   "source": [
    "    [pl_model]\n",
    "    sigrss = 3.0\n",
    "    f = 3.0\n",
    "    rssnp = 2.64\n",
    "    d0 = 1.0\n",
    "\n",
    "\n",
    "    [grid]\n",
    "    xstep= 40\n",
    "    ystep= 20\n",
    "\n",
    "    [layout]\n",
    "    ;filename = TA-Office.ini\n",
    "    ;filename = Lstruc.ini\n",
    "    filenbame = DLR.ini\n",
    "\n",
    "    [tx]\n",
    "    x = -10\n",
    "    y = 10 \n",
    "    ;transmitted power (dBm)\n",
    "    ptdbm = 0\n",
    "    ; frame length in bytes\n",
    "    framelengthbytes = 50000 \n",
    "\n",
    "    [rx]\n",
    "    sensitivity  = -80\n",
    "    bandwidthmhz = 3\n",
    "    temperaturek = 300\n",
    "    noisefactordb = 13\n",
    "\n",
    "    [show]\n",
    "    show = True\n"
   ]
  },
  {
   "cell_type": "code",
   "execution_count": 2,
   "metadata": {
    "collapsed": false
   },
   "outputs": [],
   "source": [
    "L=Layout('DLR.ini')"
   ]
  },
  {
   "cell_type": "code",
   "execution_count": 3,
   "metadata": {
    "collapsed": false
   },
   "outputs": [
    {
     "name": "stderr",
     "output_type": "stream",
     "text": [
      "/home/uguen/anaconda/lib/python2.7/site-packages/matplotlib/collections.py:650: FutureWarning: elementwise comparison failed; returning scalar instead, but in the future will perform elementwise comparison\n",
      "  if self._edgecolors_original != str('face'):\n"
     ]
    },
    {
     "data": {
      "text/plain": [
       "(<matplotlib.figure.Figure at 0x7f3fb8d17110>,\n",
       " <matplotlib.axes._subplots.AxesSubplot at 0x7f3fb8d176d0>)"
      ]
     },
     "execution_count": 3,
     "metadata": {},
     "output_type": "execute_result"
    }
   ],
   "source": [
    "L.showG('s')"
   ]
  },
  {
   "cell_type": "code",
   "execution_count": 4,
   "metadata": {
    "collapsed": false
   },
   "outputs": [],
   "source": [
    "# Create a Coverage object from coverag.ini file\n",
    "C = Coverage()"
   ]
  },
  {
   "cell_type": "code",
   "execution_count": 5,
   "metadata": {
    "collapsed": false
   },
   "outputs": [],
   "source": [
    "# evaluate coverage \n",
    "C.cover()"
   ]
  },
  {
   "cell_type": "markdown",
   "metadata": {},
   "source": [
    "# Calculating Received Power Coverage"
   ]
  },
  {
   "cell_type": "markdown",
   "metadata": {},
   "source": [
    "Coverage required the Layout graphs have been produced.\n",
    "\n",
    "- If the graphs for the given layout have already been built, they are loaded from the project directory. \n",
    "- Otherwise, they are built  **(it may take few minutes depending on the layout complexity)** and stored into the project directory for the next execution.\n"
   ]
  },
  {
   "cell_type": "code",
   "execution_count": 6,
   "metadata": {
    "collapsed": false
   },
   "outputs": [],
   "source": [
    "try :\n",
    "    C.L.dumpr()\n",
    "except:\n",
    "    C.L.build()"
   ]
  },
  {
   "cell_type": "markdown",
   "metadata": {},
   "source": [
    "Then, the coverage calculation can be launched in calling the `cover` method"
   ]
  },
  {
   "cell_type": "code",
   "execution_count": 7,
   "metadata": {
    "collapsed": false
   },
   "outputs": [
    {
     "data": {
      "text/plain": [
       "(<matplotlib.figure.Figure at 0x7f3fb3533310>,\n",
       " <matplotlib.axes._subplots.AxesSubplot at 0x7f3fb35335d0>)"
      ]
     },
     "execution_count": 7,
     "metadata": {},
     "output_type": "execute_result"
    }
   ],
   "source": [
    "C.L.display['nodes']=False\n",
    "C.L.display['ednodes']=False\n",
    "C.L.showGs()"
   ]
  },
  {
   "cell_type": "markdown",
   "metadata": {},
   "source": [
    "The shadowing map coverage results can be displayed by invoquing various functions.\n",
    "\n",
    "+ showLoss : display the path loss\n",
    "+ showPower : display the received power"
   ]
  },
  {
   "cell_type": "code",
   "execution_count": 8,
   "metadata": {
    "collapsed": false
   },
   "outputs": [
    {
     "ename": "AttributeError",
     "evalue": "'Coverage' object has no attribute 'showPower'",
     "output_type": "error",
     "traceback": [
      "\u001b[1;31m---------------------------------------------------------------------------\u001b[0m",
      "\u001b[1;31mAttributeError\u001b[0m                            Traceback (most recent call last)",
      "\u001b[1;32m<ipython-input-8-1cf5dd4da4aa>\u001b[0m in \u001b[0;36m<module>\u001b[1;34m()\u001b[0m\n\u001b[0;32m      1\u001b[0m \u001b[0mC\u001b[0m\u001b[1;33m.\u001b[0m\u001b[0mfGHz\u001b[0m\u001b[1;33m=\u001b[0m\u001b[1;36m0.915\u001b[0m\u001b[1;33m\u001b[0m\u001b[0m\n\u001b[0;32m      2\u001b[0m \u001b[0mC\u001b[0m\u001b[1;33m.\u001b[0m\u001b[0mcover\u001b[0m\u001b[1;33m(\u001b[0m\u001b[1;33m)\u001b[0m\u001b[1;33m\u001b[0m\u001b[0m\n\u001b[1;32m----> 3\u001b[1;33m \u001b[0mC\u001b[0m\u001b[1;33m.\u001b[0m\u001b[0mshowPower\u001b[0m\u001b[1;33m(\u001b[0m\u001b[1;33m)\u001b[0m\u001b[1;33m\u001b[0m\u001b[0m\n\u001b[0m",
      "\u001b[1;31mAttributeError\u001b[0m: 'Coverage' object has no attribute 'showPower'"
     ]
    }
   ],
   "source": [
    "C.fGHz=0.915\n",
    "C.cover()\n",
    "C.showPower()"
   ]
  },
  {
   "cell_type": "code",
   "execution_count": null,
   "metadata": {
    "collapsed": false
   },
   "outputs": [],
   "source": [
    "C.fGHz=2.4\n",
    "C.cover()\n",
    "C.showPower()"
   ]
  },
  {
   "cell_type": "code",
   "execution_count": null,
   "metadata": {
    "collapsed": false
   },
   "outputs": [],
   "source": [
    "C.fGHz=0.1\n",
    "C.cover()\n",
    "C.showPower()"
   ]
  },
  {
   "cell_type": "markdown",
   "metadata": {},
   "source": [
    "The transmitter coordinates are : "
   ]
  },
  {
   "cell_type": "code",
   "execution_count": null,
   "metadata": {
    "collapsed": false
   },
   "outputs": [],
   "source": [
    "C.tx"
   ]
  },
  {
   "cell_type": "markdown",
   "metadata": {},
   "source": [
    "This can be modified on the flight, and the coverage is updated"
   ]
  },
  {
   "cell_type": "code",
   "execution_count": null,
   "metadata": {
    "collapsed": false
   },
   "outputs": [],
   "source": [
    "C.tx = np.array((21,2))\n",
    "\n",
    "%timeit\n",
    "C.cover()\n",
    "\n",
    "C.showLoss(polarization='o')\n",
    "C.showPower(polarization='o')\n",
    "C.showLoss(polarization='p')\n",
    "C.showPower(polarization='p')"
   ]
  },
  {
   "cell_type": "markdown",
   "metadata": {},
   "source": [
    "The excess delay due to crossing the wall can also be evaluted."
   ]
  }
 ],
 "metadata": {
  "kernelspec": {
   "display_name": "Python 2",
   "language": "python",
   "name": "python2"
  },
  "language_info": {
   "codemirror_mode": {
    "name": "ipython",
    "version": 2
   },
   "file_extension": ".py",
   "mimetype": "text/x-python",
   "name": "python",
   "nbconvert_exporter": "python",
   "pygments_lexer": "ipython2",
   "version": "2.7.10"
  }
 },
 "nbformat": 4,
 "nbformat_minor": 0
}
