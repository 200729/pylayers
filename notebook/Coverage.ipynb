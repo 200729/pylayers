{
 "metadata": {
  "name": "Coverage"
 },
 "nbformat": 3,
 "nbformat_minor": 0,
 "worksheets": [
  {
   "cells": [
    {
     "cell_type": "markdown",
     "metadata": {},
     "source": [
      "# Initialization"
     ]
    },
    {
     "cell_type": "markdown",
     "metadata": {},
     "source": [
      "Import the `coverage` module"
     ]
    },
    {
     "cell_type": "code",
     "collapsed": false,
     "input": [
      "from pylayers.antprop.coverage import *\n",
      "import time"
     ],
     "language": "python",
     "metadata": {},
     "outputs": [],
     "prompt_number": 1
    },
    {
     "cell_type": "markdown",
     "metadata": {},
     "source": [
      "Instantiate a coverage object.\n",
      "By defaut, `TA-Office.str` layout strucure is loaded.\n",
      "\n",
      "This information can be modified in the **coverage.ini** file in the project directory."
     ]
    },
    {
     "cell_type": "code",
     "collapsed": false,
     "input": [
      "%load /private/staff/n/en/buguen/Bureau/P1/ini/coverage.ini\n"
     ],
     "language": "python",
     "metadata": {},
     "outputs": [],
     "prompt_number": 2
    },
    {
     "cell_type": "code",
     "collapsed": false,
     "input": [
      "[pl_model]\n",
      "sigrss = 3.0\n",
      "f = 3.0\n",
      "rssnp = 2.64\n",
      "d0 = 1.0\n",
      "\n",
      "\n",
      "[grid]\n",
      "xstep= 40\n",
      "ystep= 20\n",
      "\n",
      "[layout]\n",
      "filename = TA-Office.str\n",
      ";filename = Lstruc.str\n",
      "\n",
      "[tx]\n",
      "x = -10\n",
      "y = 10 \n",
      ";transmitted power (dBm)\n",
      "ptdbm = 0\n",
      "; frame length in bytes\n",
      "framelengthbytes = 50000 \n",
      "\n",
      "[rx]\n",
      "sensitivity  = -80\n",
      "bandwidthmhz = 3\n",
      "temperaturek = 300\n",
      "noisefactordb = 13\n",
      "\n",
      "[show]\n",
      "show = True\n"
     ],
     "language": "python",
     "metadata": {},
     "outputs": []
    },
    {
     "cell_type": "code",
     "collapsed": false,
     "input": [
      "[pl_model]\n",
      "sigrss = 3.0\n",
      "f = 3.0\n",
      "rssnp = 2.64\n",
      "d0 = 1.0\n",
      "\n",
      "\n",
      "[grid]\n",
      "xstep= 40\n",
      "ystep= 20\n",
      "\n",
      "[layout]\n",
      "filename = TA-Office.str\n",
      ";filename = Lstruc.str\n",
      "\n",
      "[tx]\n",
      "x = -10\n",
      "y = 10 \n",
      ";transmitted power (dBm)\n",
      "ptdbm = 0\n",
      "; frame length in bytes\n",
      "framelengthbytes = 50000 \n",
      "\n",
      "[rx]\n",
      "sensitivity  = -80\n",
      "bandwidthmhz = 3\n",
      "temperaturek = 300\n",
      "noisefactordb = 13\n",
      "\n",
      "[show]\n",
      "show = True\n"
     ],
     "language": "python",
     "metadata": {},
     "outputs": [
      {
       "ename": "NameError",
       "evalue": "name 'pl_model' is not defined",
       "output_type": "pyerr",
       "traceback": [
        "\u001b[1;31m---------------------------------------------------------------------------\u001b[0m\n\u001b[1;31mNameError\u001b[0m                                 Traceback (most recent call last)",
        "\u001b[1;32m<ipython-input-3-5e8e3cf008d6>\u001b[0m in \u001b[0;36m<module>\u001b[1;34m()\u001b[0m\n\u001b[1;32m----> 1\u001b[1;33m \u001b[1;33m[\u001b[0m\u001b[0mpl_model\u001b[0m\u001b[1;33m]\u001b[0m\u001b[1;33m\u001b[0m\u001b[0m\n\u001b[0m\u001b[0;32m      2\u001b[0m \u001b[0msigrss\u001b[0m \u001b[1;33m=\u001b[0m \u001b[1;36m3.0\u001b[0m\u001b[1;33m\u001b[0m\u001b[0m\n\u001b[0;32m      3\u001b[0m \u001b[0mf\u001b[0m \u001b[1;33m=\u001b[0m \u001b[1;36m3.0\u001b[0m\u001b[1;33m\u001b[0m\u001b[0m\n\u001b[0;32m      4\u001b[0m \u001b[0mrssnp\u001b[0m \u001b[1;33m=\u001b[0m \u001b[1;36m2.64\u001b[0m\u001b[1;33m\u001b[0m\u001b[0m\n\u001b[0;32m      5\u001b[0m \u001b[0md0\u001b[0m \u001b[1;33m=\u001b[0m \u001b[1;36m1.0\u001b[0m\u001b[1;33m\u001b[0m\u001b[0m\n",
        "\u001b[1;31mNameError\u001b[0m: name 'pl_model' is not defined"
       ]
      }
     ],
     "prompt_number": 3
    },
    {
     "cell_type": "code",
     "collapsed": false,
     "input": [
      "C = Coverage()\n",
      "C.L.filename"
     ],
     "language": "python",
     "metadata": {},
     "outputs": [
      {
       "output_type": "pyout",
       "prompt_number": 4,
       "text": [
        "'TA-Office.str'"
       ]
      }
     ],
     "prompt_number": 4
    },
    {
     "cell_type": "markdown",
     "metadata": {},
     "source": [
      "# Calulating Received Power Coverage"
     ]
    },
    {
     "cell_type": "markdown",
     "metadata": {},
     "source": [
      "Coverage required the Layout graphs have been produced.\n",
      "\n",
      "- If the graphs for the given layout have already been built, they are loaded from the project directory. \n",
      "- Otherwise, they are built  **(it may take few minutes depending on the layout complexity)** and stored into the project directory for the next execution.\n"
     ]
    },
    {
     "cell_type": "code",
     "collapsed": false,
     "input": [
      "try :\n",
      "    C.L.dumpr()\n",
      "except:\n",
      "    C.L.build()"
     ],
     "language": "python",
     "metadata": {},
     "outputs": []
    },
    {
     "cell_type": "markdown",
     "metadata": {},
     "source": [
      "Then, the coverage calculation can be launched in calling the `cover` method"
     ]
    },
    {
     "cell_type": "code",
     "collapsed": false,
     "input": [
      "C.cover()"
     ],
     "language": "python",
     "metadata": {},
     "outputs": []
    },
    {
     "cell_type": "markdown",
     "metadata": {},
     "source": [
      "The coverage results can be displayed by invoquing various functions.\n",
      "\n",
      "+ showLoss : display the path loss\n",
      "+ showPower : display the received power"
     ]
    },
    {
     "cell_type": "code",
     "collapsed": false,
     "input": [
      "C.showPower()"
     ],
     "language": "python",
     "metadata": {},
     "outputs": []
    },
    {
     "cell_type": "markdown",
     "metadata": {},
     "source": [
      "The transmitter coordinates are : "
     ]
    },
    {
     "cell_type": "code",
     "collapsed": false,
     "input": [
      "C.tx"
     ],
     "language": "python",
     "metadata": {},
     "outputs": []
    },
    {
     "cell_type": "markdown",
     "metadata": {},
     "source": [
      "This can be modified on the flight, and the coverage is updated"
     ]
    },
    {
     "cell_type": "code",
     "collapsed": false,
     "input": [
      "C.tx = np.array((30,12))\n",
      "\n",
      "%timeit\n",
      "C.cover()\n",
      "\n",
      "C.showLoss()\n",
      "C.showPower()\n"
     ],
     "language": "python",
     "metadata": {},
     "outputs": []
    },
    {
     "cell_type": "markdown",
     "metadata": {},
     "source": [
      "Speed is for all Tx positions on the grid"
     ]
    },
    {
     "cell_type": "code",
     "collapsed": false,
     "input": [
      "C.tx = np.array((39,1))\n",
      "start = time.time()\n",
      "C.cover()\n",
      "finish = time.time()\n",
      "C.showPower()\n",
      "print 'in %1.2f seconds' % (finish-start)"
     ],
     "language": "python",
     "metadata": {},
     "outputs": []
    },
    {
     "cell_type": "code",
     "collapsed": false,
     "input": [
      "C.tx = np.array((20,4))\n",
      "C.cover()\n",
      "C.showEd()"
     ],
     "language": "python",
     "metadata": {},
     "outputs": []
    }
   ],
   "metadata": {}
  }
 ]
}