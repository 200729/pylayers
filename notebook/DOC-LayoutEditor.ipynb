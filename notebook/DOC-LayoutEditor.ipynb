{
 "metadata": {
  "name": "DOC-LayoutEditor"
 },
 "nbformat": 3,
 "nbformat_minor": 0,
 "worksheets": [
  {
   "cells": [
    {
     "cell_type": "markdown",
     "metadata": {},
     "source": [
      "To edit a new layout, it is first necessary lo load the layout module"
     ]
    },
    {
     "cell_type": "code",
     "collapsed": false,
     "input": [
      "from pylayers.gis.layout import *"
     ],
     "language": "python",
     "metadata": {},
     "outputs": [
      {
       "output_type": "display_data",
       "text": [
        "<matplotlib.figure.Figure at 0xafdb46c>"
       ]
      }
     ],
     "prompt_number": 1
    },
    {
     "cell_type": "markdown",
     "metadata": {},
     "source": [
      "To create a new layout just create a new layout object with the name of the .ini file"
     ]
    },
    {
     "cell_type": "code",
     "collapsed": false,
     "input": [
      "L=Layout('layout.ini')"
     ],
     "language": "python",
     "metadata": {},
     "outputs": [],
     "prompt_number": 2
    },
    {
     "cell_type": "markdown",
     "metadata": {},
     "source": [
      "At that stage the layout file is void"
     ]
    },
    {
     "cell_type": "code",
     "collapsed": false,
     "input": [
      "L.info()"
     ],
     "language": "python",
     "metadata": {},
     "outputs": [
      {
       "output_type": "stream",
       "stream": "stdout",
       "text": [
        "filestr :  layout.ini\n",
        "filematini :  matDB.ini\n",
        "fileslabini :  slabDB.ini\n",
        "filegeom :  geomfile (.off) has no been generated\n",
        "limites  (-20.0, 20.0, -10.0, 10.0)\n",
        "number of Nodes : 0\n",
        "number of Segments : 0\n",
        "number of Sub-Segments : 0\n",
        "Gs Nodes :  0\n",
        "Gs Edges :  0\n",
        "Gc Nodes :  0\n",
        "Gc Edges :  0\n",
        "Gt Nodes :  0\n",
        "Gt Edges :  0\n",
        "vnodes = L.Gt.node[Nc]['vnodes'] \n",
        "poly = L.Gt.node[Nc]['polyg'] \n",
        "Gr Nodes    : no Gr graph\n"
       ]
      }
     ],
     "prompt_number": 3
    },
    {
     "cell_type": "heading",
     "level": 2,
     "metadata": {},
     "source": [
      "The display option dictionnary "
     ]
    },
    {
     "cell_type": "markdown",
     "metadata": {},
     "source": [
      "The layout can be displayed using matplotlib ploting primitive\n",
      "\n"
     ]
    },
    {
     "cell_type": "code",
     "collapsed": false,
     "input": [
      "L.display"
     ],
     "language": "python",
     "metadata": {},
     "outputs": [
      {
       "output_type": "pyout",
       "prompt_number": 4,
       "text": [
        "{'activelayer': 'WINDOW_GLASS',\n",
        " 'alpha': 0.5,\n",
        " 'box': (-20, 20, -10, 10),\n",
        " 'clear': False,\n",
        " 'edges': True,\n",
        " 'edlabel': False,\n",
        " 'edlblsize': 20,\n",
        " 'ednodes': False,\n",
        " 'fileoverlay': 'TA-Office.png',\n",
        " 'fontsize': 20,\n",
        " 'layer': [],\n",
        " 'layers': [],\n",
        " 'layerset': ['WINDOW_GLASS',\n",
        "  'PLASTERBOARD_7CM',\n",
        "  'WALL',\n",
        "  'AIR',\n",
        "  'WINDOW',\n",
        "  'METALIC',\n",
        "  'PLASTERBOARD_14CM',\n",
        "  'DOOR',\n",
        "  'FLOOR',\n",
        "  'METAL',\n",
        "  'PARTITION',\n",
        "  'CONCRETE_20CM3D',\n",
        "  'PLASTERBOARD_10CM',\n",
        "  'CEIL',\n",
        "  'CONCRETE_6CM3D',\n",
        "  'CONCRETE_15CM3D',\n",
        "  '3D_WINDOW_GLASS',\n",
        "  'WALLS',\n",
        "  'WOOD',\n",
        "  'CONCRETE_7CM3D',\n",
        "  'PILLAR',\n",
        "  'ABSORBENT'],\n",
        " 'ndlabel': False,\n",
        " 'ndlblsize': 20,\n",
        " 'ndsize': 10,\n",
        " 'nodes': False,\n",
        " 'overlay': False,\n",
        " 'scaled': True,\n",
        " 'subseg': True,\n",
        " 'thin': False,\n",
        " 'ticksoff': True,\n",
        " 'title': '',\n",
        " 'visu': False}"
       ]
      }
     ],
     "prompt_number": 4
    },
    {
     "cell_type": "markdown",
     "metadata": {},
     "source": [
      "\n",
      "Layers\n",
      "-------\n",
      "\n",
      " + 'layer' : list , []\n",
      " + 'layerset',list, list of available layers \n",
      " + 'layers', list , []\n",
      " + 'activelayer', str , 'WINDOW_GLASS'\n",
      "\n",
      "        \n",
      " + 'alpha', float , 0.5 , overlay transparency \n",
      " + 'box', tuple , (-20,20,-10,10), (xmin xmax,ymin,ymax)\n",
      "\n",
      "String\n",
      "------\n",
      "\n",
      " + 'title' : str , 'Init'\n",
      " + 'fileoverlay' : str , 'TA-Office.png'  \n",
      "                \n",
      "size\n",
      "-----\n",
      "                \n",
      " + 'fontsize', float , 10\n",
      " + 'ndsize', float , 10 \n",
      " + 'ndlblsize' : float  20 \n",
      " + 'edlblsize' : float , 20\n",
      "                        \n",
      "Boolean \n",
      "-------                       \n",
      "                        \n",
      " + 'edlabel', boolean, False\n",
      " + 'ticksoff',boolean, True\n",
      " + 'scaled' :  boolean , True\n",
      " + 'subseg' : boolean , True\n",
      " + 'nodes', boolean , True\n",
      " + 'visu', boolean , False\n",
      " + 'edges', boolean , True\n",
      " + 'clear', boolean, False\n",
      " + 'overlay', boolean , False\n",
      " + 'thin', boolean , False , If True trace all segments with thickness 1 \n",
      " + 'ndlabel',boolean, If True display node labels\n",
      " + 'ednodes', boolean, True"
     ]
    },
    {
     "cell_type": "heading",
     "level": 2,
     "metadata": {},
     "source": [
      "Interactive editor"
     ]
    },
    {
     "cell_type": "markdown",
     "metadata": {},
     "source": [
      "The command L.editor() launches an interactive editor"
     ]
    },
    {
     "cell_type": "heading",
     "level": 2,
     "metadata": {},
     "source": [
      "Edition mode"
     ]
    },
    {
     "cell_type": "markdown",
     "metadata": {},
     "source": [
      "There is two different mode of edition \n",
      "\n",
      "+ A create points mode CP \n",
      "\n",
      "    + left clic   : free point \n",
      "    + right clic  : same x point \n",
      "    + center clic : same y point     \n",
      "\n",
      "+ A create segments mode\n",
      "    + left clic   : select point 1\n",
      "    + left clic   : select point 2\n",
      "    + left clic   : create a segment between point 1 and point 2    \n",
      "\n",
      "**m**  : to switch from one mode to an other\n",
      "\n",
      "**i** : to return to init state    \n",
      "\n"
     ]
    },
    {
     "cell_type": "heading",
     "level": 2,
     "metadata": {},
     "source": [
      "Image overlay"
     ]
    },
    {
     "cell_type": "markdown",
     "metadata": {},
     "source": [
      "It is useful while editing a layout to have an overlay of an image in order to help placing points. The image overlay can either be an url \n",
      "or a filename. In that case the file is stored in "
     ]
    },
    {
     "cell_type": "code",
     "collapsed": false,
     "input": [
      "L.display['fileoverlay']='http://images.wikia.com/theoffice/images/9/9e/Layout.jpg'"
     ],
     "language": "python",
     "metadata": {},
     "outputs": [],
     "prompt_number": 5
    },
    {
     "cell_type": "code",
     "collapsed": false,
     "input": [
      "L.display['overlay']=True\n",
      "L.display['alpha']=1\n",
      "L.display['scaled']=False\n",
      "L.display['ticksoff']=False"
     ],
     "language": "python",
     "metadata": {},
     "outputs": [],
     "prompt_number": 10
    },
    {
     "cell_type": "code",
     "collapsed": false,
     "input": [
      "figsize(15,15)\n",
      "fig,ax=L.showGs()"
     ],
     "language": "python",
     "metadata": {},
     "outputs": [
      {
       "ename": "NameError",
       "evalue": "name 'L' is not defined",
       "output_type": "pyerr",
       "traceback": [
        "\u001b[1;31m---------------------------------------------------------------------------\u001b[0m\n\u001b[1;31mNameError\u001b[0m                                 Traceback (most recent call last)",
        "\u001b[1;32m<ipython-input-1-babbfab2aa87>\u001b[0m in \u001b[0;36m<module>\u001b[1;34m()\u001b[0m\n\u001b[0;32m      1\u001b[0m \u001b[0mfigsize\u001b[0m\u001b[1;33m(\u001b[0m\u001b[1;36m15\u001b[0m\u001b[1;33m,\u001b[0m\u001b[1;36m15\u001b[0m\u001b[1;33m)\u001b[0m\u001b[1;33m\u001b[0m\u001b[0m\n\u001b[1;32m----> 2\u001b[1;33m \u001b[0mfig\u001b[0m\u001b[1;33m,\u001b[0m\u001b[0max\u001b[0m\u001b[1;33m=\u001b[0m\u001b[0mL\u001b[0m\u001b[1;33m.\u001b[0m\u001b[0mshowGs\u001b[0m\u001b[1;33m(\u001b[0m\u001b[1;33m)\u001b[0m\u001b[1;33m\u001b[0m\u001b[0m\n\u001b[0m",
        "\u001b[1;31mNameError\u001b[0m: name 'L' is not defined"
       ]
      }
     ],
     "prompt_number": 1
    },
    {
     "cell_type": "heading",
     "level": 2,
     "metadata": {},
     "source": [
      "Scaling the figure overlay"
     ]
    },
    {
     "cell_type": "markdown",
     "metadata": {},
     "source": [
      "Before going further it is necessary : \n",
      "    \n",
      "+ to place the global framework origin \n",
      "+ to precise the vertical and horizontal scale of the image \n",
      "    \n",
      "This is done by the following commands : \n",
      "\n",
      "+ 'i' : back to init state\n",
      "+ 'm' : goes to CP state \n",
      "+ 'o' : define the origin \n",
      "+  'left click' on the point of the figure chasen as the origin\n",
      "+  'left click' on a point at a known distance from the origin along x axis. Fill the dialog box with the actual distance (expressed in meters) between the two points. \n",
      "+  'left click' on a point at a known distance from the origin along y axis. Fill the dialog box with the actual distance (expressed in meters) between the two points. \n",
      "\n",
      "During this initial sequence of operation you can use 'r' for rescaling the figure."
     ]
    },
    {
     "cell_type": "markdown",
     "metadata": {},
     "source": [
      "At that stage, it is possible to start creating points"
     ]
    },
    {
     "cell_type": "markdown",
     "metadata": {},
     "source": [
      "        'b'  : selct a segment \n",
      "        'l'  : select activelayer\n",
      "        'i'  : back to init state\n",
      "        'e'  : edit segment\n",
      "        't'  : translate  structure\n",
      "        'h'  : add subsegment\n",
      "        'd'  : delete subsegment\n",
      "        'r'  : refresh\n",
      "        'o'  : toggle overlay\n",
      "        'm'  : toggle mode (point or segment)\n",
      "        'z'  : change display parameters\n",
      "        'q'  : quit interactive mode\n",
      "        'x'  : save .str2 file\n",
      "        'w'  : display all layers\n"
     ]
    }
   ],
   "metadata": {}
  }
 ]
}