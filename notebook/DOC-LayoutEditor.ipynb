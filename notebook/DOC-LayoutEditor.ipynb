{
 "metadata": {
  "name": "DOC-LayoutEditor"
 },
 "nbformat": 3,
 "nbformat_minor": 0,
 "worksheets": [
  {
   "cells": [
    {
     "cell_type": "markdown",
     "metadata": {},
     "source": [
      "To edit a new layout, it is first necessary lo load the layout module"
     ]
    },
    {
     "cell_type": "code",
     "collapsed": false,
     "input": [
      "from pylayers.gis.layout import *"
     ],
     "language": "python",
     "metadata": {},
     "outputs": []
    },
    {
     "cell_type": "markdown",
     "metadata": {},
     "source": [
      "To create a new layout just create a new layout object with the name of the .ini file"
     ]
    },
    {
     "cell_type": "code",
     "collapsed": false,
     "input": [
      "L=Layout('layout.ini')"
     ],
     "language": "python",
     "metadata": {},
     "outputs": []
    },
    {
     "cell_type": "markdown",
     "metadata": {},
     "source": [
      "At that stage the layout file is void"
     ]
    },
    {
     "cell_type": "code",
     "collapsed": false,
     "input": [
      "L.info()"
     ],
     "language": "python",
     "metadata": {},
     "outputs": []
    },
    {
     "cell_type": "heading",
     "level": 2,
     "metadata": {},
     "source": [
      "The display option dictionnary "
     ]
    },
    {
     "cell_type": "markdown",
     "metadata": {},
     "source": [
      "The layout can be displayed using matplotlib ploting primitive\n",
      "\n"
     ]
    },
    {
     "cell_type": "code",
     "collapsed": false,
     "input": [
      "L.display"
     ],
     "language": "python",
     "metadata": {},
     "outputs": []
    },
    {
     "cell_type": "markdown",
     "metadata": {},
     "source": [
      "\n",
      "Layers\n",
      "-------\n",
      "\n",
      " + 'layer' : list , []\n",
      " + 'layerset',list, list of available layers \n",
      " + 'layers', list , []\n",
      " + 'activelayer', str , 'WINDOW_GLASS'\n",
      "\n",
      "        \n",
      " + 'alpha', float , 0.5 , overlay transparency \n",
      " + 'box', tuple , (-20,20,-10,10), (xmin xmax,ymin,ymax)\n",
      "\n",
      "String\n",
      "------\n",
      "\n",
      " + 'title' : str , 'Init'\n",
      " + 'fileoverlay' : str , 'TA-Office.png'  \n",
      "                \n",
      "size\n",
      "-----\n",
      "                \n",
      " + 'fontsize', float , 10\n",
      " + 'ndsize', float , 10 \n",
      " + 'ndlblsize' : float  20 \n",
      " + 'edlblsize' : float , 20\n",
      "                        \n",
      "Boolean \n",
      "-------                       \n",
      "                        \n",
      " + 'edlabel', boolean, False\n",
      " + 'ticksoff',boolean, True\n",
      " + 'scaled' :  boolean , True\n",
      " + 'subseg' : boolean , True\n",
      " + 'nodes', boolean , True\n",
      " + 'visu', boolean , False\n",
      " + 'edges', boolean , True\n",
      " + 'clear', boolean, False\n",
      " + 'overlay', boolean , False\n",
      " + 'thin', boolean , False , If True trace all segments with thickness 1 \n",
      " + 'ndlabel',boolean, If True display node labels\n",
      " + 'ednodes', boolean, True"
     ]
    },
    {
     "cell_type": "heading",
     "level": 2,
     "metadata": {},
     "source": [
      "Interactive editor"
     ]
    },
    {
     "cell_type": "markdown",
     "metadata": {},
     "source": [
      "The command L.editor() launches an interactive editor"
     ]
    },
    {
     "cell_type": "heading",
     "level": 2,
     "metadata": {},
     "source": [
      "Edition mode"
     ]
    },
    {
     "cell_type": "markdown",
     "metadata": {},
     "source": [
      "There is two different mode of edition \n",
      "\n",
      "+ A create points mode CP \n",
      "\n",
      "    + left clic   : free point \n",
      "    + right clic  : same x point \n",
      "    + center clic : same y point     \n",
      "\n",
      "+ A create segments mode\n",
      "    + left clic   : select point 1\n",
      "    + left clic   : select point 2\n",
      "    + left clic   : create a segment between point 1 and point 2    \n",
      "\n",
      "**m**  : to switch from one mode to an other\n",
      "\n",
      "**i** : to return to init state    \n",
      "\n"
     ]
    },
    {
     "cell_type": "heading",
     "level": 2,
     "metadata": {},
     "source": [
      "Image overlay"
     ]
    },
    {
     "cell_type": "markdown",
     "metadata": {},
     "source": [
      "It is useful while editing a layout to have an overlay of an image in order to help placing points. The image overlay can either be an url \n",
      "or a filename. In that case the file is stored in "
     ]
    },
    {
     "cell_type": "code",
     "collapsed": false,
     "input": [
      "L.display['fileoverlay']='http://images.wikia.com/theoffice/images/9/9e/Layout.jpg'"
     ],
     "language": "python",
     "metadata": {},
     "outputs": []
    },
    {
     "cell_type": "code",
     "collapsed": false,
     "input": [
      "L.display['overlay']=True\n",
      "L.display['alpha']=1\n",
      "L.display['scaled']=False\n",
      "L.display['ticksoff']=False"
     ],
     "language": "python",
     "metadata": {},
     "outputs": []
    },
    {
     "cell_type": "code",
     "collapsed": false,
     "input": [
      "figsize(15,15)\n",
      "L.showGs()"
     ],
     "language": "python",
     "metadata": {},
     "outputs": []
    },
    {
     "cell_type": "heading",
     "level": 2,
     "metadata": {},
     "source": [
      "Scaling the figure overlay"
     ]
    },
    {
     "cell_type": "markdown",
     "metadata": {},
     "source": [
      "Before going further it is necessary : \n",
      "    \n",
      "+ to place the global framework origin \n",
      "+ to precise the vertical and horizontal scale of the image \n",
      "    \n",
      "This is done by the following commands : \n",
      "\n",
      "+ 'i' : back to init state\n",
      "+ 'm' : goes to CP state \n",
      "+ 'o' : define the origin \n",
      "+  'left click' on the point of the figure chasen as the origin\n",
      "+  'left click' on a point at a known distancefrom the origin along x axis. Fill the dialog box with the actual distance (expressed in meters) between the two points. \n",
      "+  'right click' on a point at a known distance from the origin along y axis. Fill the dialog box with the actual distance (expressed in meters) between the two points. "
     ]
    },
    {
     "cell_type": "markdown",
     "metadata": {},
     "source": [
      "At that stage, it is possible to start creating points"
     ]
    },
    {
     "cell_type": "markdown",
     "metadata": {},
     "source": [
      "        'b'  : selct a segment \n",
      "        'l'  : select activelayer\n",
      "        'i'  : back to init state\n",
      "        'e'  : edit segment\n",
      "        't'  : translate  structure\n",
      "        'h'  : add subsegment\n",
      "        'd'  : delete subsegment\n",
      "        'r'  : refresh\n",
      "        'o'  : toggle overlay\n",
      "        'm'  : toggle mode (point or segment)\n",
      "        'z'  : change display parameters\n",
      "        'q'  : quit interactive mode\n",
      "        'x'  : save .str2 file\n",
      "        'w'  : display all layers\n"
     ]
    }
   ],
   "metadata": {}
  }
 ]
}