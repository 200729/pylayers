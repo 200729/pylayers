{
 "metadata": {
  "name": ""
 },
 "nbformat": 3,
 "nbformat_minor": 0,
 "worksheets": [
  {
   "cells": [
    {
     "cell_type": "heading",
     "level": 2,
     "metadata": {},
     "source": [
      "An additive model "
     ]
    },
    {
     "cell_type": "markdown",
     "metadata": {},
     "source": [
      "The purpose of the model is to take into account the presence of a dielectric cylinder in the immediate proximity of a an electromagnetic source. Let's consider in a first approach that the source is a line source and that the cylinder is infinite along the z axis. The model is additive meaning that it uses the unperturbed antenna, which can be a measured or simulated, and two fundamental parameters, $a$ the radius of the dielectric cylinder and $b$ the distance between the line source and the center of the cylinder which is also the origin of this canonical problem. \n",
      "\n",
      "The distance between the cylinder and the source is $d=b-a$ \n",
      "\n",
      "\n",
      "\n",
      "The geometry of the problem is described in Figure "
     ]
    },
    {
     "cell_type": "markdown",
     "metadata": {},
     "source": [
      "The unitary vector along the far field direction of observation is given by"
     ]
    },
    {
     "cell_type": "markdown",
     "metadata": {},
     "source": [
      "$$\\hat{s}=\\cos\\phi \\sin\\theta\\mathrm{\\hat{x}}+ \\sin\\phi \\sin\\theta\\mathrm{\\hat{x}}+cos\\theta\\mathrm{\\hat{z}}$$\n"
     ]
    },
    {
     "cell_type": "markdown",
     "metadata": {},
     "source": [
      "The unit vector in the direction from the source point $S (b,0,0)$ to the reflection point $Q_r (a\\cos\\gamma_r,a\\sin\\gamma_r,z_r)$ is given by "
     ]
    },
    {
     "cell_type": "markdown",
     "metadata": {},
     "source": [
      "$$\\hat{\\mathbf{s^i}}=\\frac{(a\\cos\\gamma_r-b) \\mathbf{\\hat{x}} + a\\sin\\gamma_r \\mathbf{\\hat{y}}+ z_r \\mathbf{\\hat{z}} }\n",
      "                          {(a\\cos\\gamma_r-b)^2+ (a\\sin\\gamma_r)^2+z_r^2}$$"
     ]
    },
    {
     "cell_type": "markdown",
     "metadata": {},
     "source": [
      "The cylinder normal in $Q_r$ is given by "
     ]
    },
    {
     "cell_type": "markdown",
     "metadata": {},
     "source": [
      "$$\\mathbf{\\hat{n}}(Q_r) = cos\\gamma_r \\mathbf{\\hat{x}} + \\sin\\gamma_r \\mathbf{\\hat{y}}$$"
     ]
    },
    {
     "cell_type": "markdown",
     "metadata": {},
     "source": [
      "so the dot product \n",
      "\n",
      "$$\\mathbf{\\hat{n}}.\\mathbf{\\hat{s^i}}=\\frac{a-b\\cos\\gamma_r}{\\sqrt{a^2+b^2-2ab\\cos(\\gamma_r)+z_r^2}}$$"
     ]
    },
    {
     "cell_type": "markdown",
     "metadata": {},
     "source": [
      "$$\\mathbf{\\hat{n}}.\\mathbf{\\hat{s^r}} = \\cos(\\phi-\\gamma_r)\\sin\\theta$$"
     ]
    },
    {
     "cell_type": "markdown",
     "metadata": {},
     "source": [
      "Enforcement of the reflection law $$\\mathbf{\\hat{n}}.\\mathbf{\\hat{s^r}} = - \\mathbf{\\hat{n}}.\\mathbf{\\hat{s^i}}$$\n",
      "then yields the following transcendental equation for the determination of the stationnary point parameterized by $\\gamma_r$ and $z_r$. "
     ]
    },
    {
     "cell_type": "markdown",
     "metadata": {},
     "source": [
      "$$\\frac{a-b\\cos\\gamma_r}{\\sqrt{a^2+b^2-2ab\\cos(\\gamma_r)}}= - \\cos(\\phi-\\gamma_r)\\sin\\theta$$"
     ]
    },
    {
     "cell_type": "heading",
     "level": 2,
     "metadata": {},
     "source": [
      "Determination of the Reflection caustic distance"
     ]
    },
    {
     "cell_type": "markdown",
     "metadata": {},
     "source": [
      "The radius of curavture of the incident wavrefront at $Q_r$"
     ]
    },
    {
     "cell_type": "markdown",
     "metadata": {},
     "source": [
      "$$s^i = \\sqrt{a^2 + b^2 -2 ab\\cos \\gamma_r+ z_r^2}$$"
     ]
    },
    {
     "cell_type": "heading",
     "level": 2,
     "metadata": {},
     "source": [
      "Direct field at observation point in the far field"
     ]
    },
    {
     "cell_type": "markdown",
     "metadata": {},
     "source": [
      "$$s^r=s-a\\cos(\\phi-\\gamma_r)\\sin\\theta$$\n",
      "$$s^0=s-b\\cos\\phi\\sin\\theta$$"
     ]
    },
    {
     "cell_type": "markdown",
     "metadata": {},
     "source": [
      "The  antenna not perturbated by the cylinder has the following vector radiation pattern"
     ]
    },
    {
     "cell_type": "markdown",
     "metadata": {},
     "source": [
      "$$\\mathbf{U}^i = \\left( F_{\\theta}(\\theta,\\phi) \\hat{\\mathbf{\\theta}} +  F_{\\phi}(\\theta,\\phi) \\hat{\\mathbf{\\phi}}\\right) \\frac{e^{-jks^0}}{\\sqrt{s^0}}$$"
     ]
    },
    {
     "cell_type": "heading",
     "level": 2,
     "metadata": {},
     "source": [
      "Incident field at the Reflection point"
     ]
    },
    {
     "cell_type": "markdown",
     "metadata": {},
     "source": [
      "Let $Q_r$ be the reflection point on a infinite cylinder. The incident field in $Q_r$ is given by : "
     ]
    },
    {
     "cell_type": "markdown",
     "metadata": {},
     "source": [
      "$$\\mathbf{U}^i(s^i,\\theta_r,\\phi_r) = \\left( F_{\\theta}(\\theta_r,\\phi_r) \\hat{\\mathbf{\\theta_r}} +  F_{\\phi}(\\theta_r,\\phi_r) \\hat{\\mathbf{\\phi_r}}\\right) \\frac{e^{-jks^i}}{\\sqrt{s^i}}$$"
     ]
    },
    {
     "cell_type": "markdown",
     "metadata": {},
     "source": [
      "$$\\frac{1}{\\rho_r}=\\frac{1}{\\sqrt{a^2+b^2-2ab\\cos\\gamma_r+z_r^2}}+\\frac{2}{a\\cos(\\phi-\\gamma_r)}$$"
     ]
    },
    {
     "cell_type": "code",
     "collapsed": false,
     "input": [
      "from IPython.core.display import HTML\n",
      "\n",
      "def css_styling():\n",
      "    styles = open(\"../styles/custom.css\", \"r\").read()\n",
      "    return HTML(styles)\n",
      "css_styling()"
     ],
     "language": "python",
     "metadata": {},
     "outputs": [
      {
       "html": [
        "<style>\n",
        "    @font-face {\n",
        "        font-family: \"Computer Modern\";\n",
        "        src: url('http://mirrors.ctan.org/fonts/cm-unicode/fonts/otf/cmunss.otf');\n",
        "    }\n",
        "    div.cell{\n",
        "        width:800px;\n",
        "        margin-left:16% !important;\n",
        "        margin-right:auto;\n",
        "    }\n",
        "    h1 {\n",
        "        font-family: Helvetica, serif;\n",
        "    }\n",
        "    h4{\n",
        "        margin-top:12px;\n",
        "        margin-bottom: 3px;\n",
        "       }\n",
        "    div.text_cell_render{\n",
        "        font-family: Computer Modern, \"Helvetica Neue\", Arial, Helvetica, Geneva, sans-serif;\n",
        "        line-height: 145%;\n",
        "        font-size: 130%;\n",
        "        width:800px;\n",
        "        margin-left:auto;\n",
        "        margin-right:auto;\n",
        "    }\n",
        "    .CodeMirror{\n",
        "            font-family: \"Source Code Pro\", source-code-pro,Consolas, monospace;\n",
        "    }\n",
        "    .prompt{\n",
        "        display: None;\n",
        "    }\n",
        "    .text_cell_render h5 {\n",
        "        font-weight: 300;\n",
        "        font-size: 22pt;\n",
        "        color: #4057A1;\n",
        "        font-style: italic;\n",
        "        margin-bottom: .5em;\n",
        "        margin-top: 0.5em;\n",
        "        display: block;\n",
        "    }\n",
        "    \n",
        "    .warning{\n",
        "        color: rgb( 240, 20, 20 )\n",
        "        }  \n",
        "</style>\n",
        "<script>\n",
        "    MathJax.Hub.Config({\n",
        "                        TeX: {\n",
        "                           extensions: [\"AMSmath.js\"]\n",
        "                           },\n",
        "                tex2jax: {\n",
        "                    inlineMath: [ ['$','$'], [\"\\\\(\",\"\\\\)\"] ],\n",
        "                    displayMath: [ ['$$','$$'], [\"\\\\[\",\"\\\\]\"] ]\n",
        "                },\n",
        "                displayAlign: 'center', // Change this to 'center' to center equations.\n",
        "                \"HTML-CSS\": {\n",
        "                    styles: {'.MathJax_Display': {\"margin\": 4}}\n",
        "                }\n",
        "        });\n",
        "</script>"
       ],
       "metadata": {},
       "output_type": "pyout",
       "prompt_number": 1,
       "text": [
        "<IPython.core.display.HTML at 0x3816390>"
       ]
      }
     ],
     "prompt_number": 1
    }
   ],
   "metadata": {}
  }
 ]
}