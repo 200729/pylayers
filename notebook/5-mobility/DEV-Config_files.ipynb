{
 "metadata": {
  "name": ""
 },
 "nbformat": 3,
 "nbformat_minor": 0,
 "worksheets": [
  {
   "cells": [
    {
     "cell_type": "code",
     "collapsed": false,
     "input": [
      "import ConfigParser\n",
      "import pylayers.util.pyutil as pyu"
     ],
     "language": "python",
     "metadata": {},
     "outputs": [],
     "prompt_number": 1
    },
    {
     "cell_type": "markdown",
     "metadata": {},
     "source": [
      "PyLayers is designed to provide indoor radio channel simulation for mobile agents. \n",
      "\n",
      "The goal is to adress different mobility issues coming up when dealing with heterogeneous network in indoor environement, with human being carriers of a mobile User Equipement (UE) which possibly embeds several Radio Acess Technology (RAT). \n",
      "\n",
      "Several human can be created and their motion in the environement should be as realistic as possible, because for many applications it turns our that many parameter of interest\n",
      "are stongly dependent of the dynamic topology of the mobile network. \n",
      "\n",
      "In the following the configuration file for proceeding with those high level `PyLayers` simulation is described. \n",
      "\n",
      "The configuration file is `simulnet.ini` "
     ]
    },
    {
     "cell_type": "heading",
     "level": 2,
     "metadata": {},
     "source": [
      "Simulnet.ini"
     ]
    },
    {
     "cell_type": "markdown",
     "metadata": {},
     "source": [
      "This file is located in `$BASENAME/ini`"
     ]
    },
    {
     "cell_type": "code",
     "collapsed": false,
     "input": [
      "Cp = ConfigParser.ConfigParser()\n",
      "Cp.read(pyu.getlong('simulnet.ini','ini'))"
     ],
     "language": "python",
     "metadata": {},
     "outputs": [
      {
       "output_type": "pyout",
       "prompt_number": 2,
       "text": [
        "['/home/uguen/Bureau/P1/ini/simulnet.ini']"
       ]
      }
     ],
     "prompt_number": 2
    },
    {
     "cell_type": "markdown",
     "metadata": {},
     "source": [
      "Simulnet.ini contains the following sections"
     ]
    },
    {
     "cell_type": "code",
     "collapsed": false,
     "input": [
      "Cp.sections()"
     ],
     "language": "python",
     "metadata": {},
     "outputs": [
      {
       "output_type": "pyout",
       "prompt_number": 3,
       "text": [
        "['Mysql',\n",
        " 'Save',\n",
        " 'Layout',\n",
        " 'Mechanics',\n",
        " 'Network',\n",
        " 'Localization',\n",
        " 'Simulation']"
       ]
      }
     ],
     "prompt_number": 3
    },
    {
     "cell_type": "heading",
     "level": 3,
     "metadata": {},
     "source": [
      "Save section"
     ]
    },
    {
     "cell_type": "markdown",
     "metadata": {},
     "source": [
      "This section define the save options. "
     ]
    },
    {
     "cell_type": "code",
     "collapsed": false,
     "input": [
      "dict(Cp.items('Save'))"
     ],
     "language": "python",
     "metadata": {},
     "outputs": [
      {
       "output_type": "pyout",
       "prompt_number": 4,
       "text": [
        "{'save': '[]', 'savep': 'True'}"
       ]
      }
     ],
     "prompt_number": 4
    },
    {
     "cell_type": "markdown",
     "metadata": {},
     "source": [
      "The `savep` boolean enable/disable saving of the simulation."
     ]
    },
    {
     "cell_type": "code",
     "collapsed": false,
     "input": [
      "dict(Cp.items('Save'))['savep']"
     ],
     "language": "python",
     "metadata": {},
     "outputs": [
      {
       "output_type": "pyout",
       "prompt_number": 5,
       "text": [
        "'True'"
       ]
      }
     ],
     "prompt_number": 5
    },
    {
     "cell_type": "markdown",
     "metadata": {},
     "source": [
      "The log file which contains all traces from the dynamic are in `$BASENAME/netsave`"
     ]
    },
    {
     "cell_type": "code",
     "collapsed": false,
     "input": [
      "ls /home/Bureau/P1/netsave/"
     ],
     "language": "python",
     "metadata": {},
     "outputs": [
      {
       "output_type": "stream",
       "stream": "stdout",
       "text": [
        "ls: impossible d'acc\u00e9der \u00e0 /home/Bureau/P1/netsave/: Aucun fichier ou dossier de ce type\r\n"
       ]
      }
     ],
     "prompt_number": 6
    },
    {
     "cell_type": "markdown",
     "metadata": {},
     "source": [
      "## Layout\n",
      "\n",
      "This section allow setup the layout for the simulation "
     ]
    },
    {
     "cell_type": "code",
     "collapsed": false,
     "input": [
      "dict(Cp.items('Layout'))"
     ],
     "language": "python",
     "metadata": {},
     "outputs": [
      {
       "output_type": "pyout",
       "prompt_number": 7,
       "text": [
        "{'filename': 'TA-Office.ini',\n",
        " 'the_world_height': '20',\n",
        " 'the_world_scale': '20',\n",
        " 'the_world_width': '65',\n",
        " 'x_offset': '30',\n",
        " 'y_offset': '2'}"
       ]
      }
     ],
     "prompt_number": 7
    },
    {
     "cell_type": "markdown",
     "metadata": {},
     "source": [
      "Choose the used Layout for simulation"
     ]
    },
    {
     "cell_type": "code",
     "collapsed": false,
     "input": [
      "dict(Cp.items('Layout'))['filename']"
     ],
     "language": "python",
     "metadata": {},
     "outputs": [
      {
       "output_type": "pyout",
       "prompt_number": 8,
       "text": [
        "'TA-Office.ini'"
       ]
      }
     ],
     "prompt_number": 8
    },
    {
     "cell_type": "markdown",
     "metadata": {},
     "source": [
      "Setup an offset on the origin of axis"
     ]
    },
    {
     "cell_type": "code",
     "collapsed": false,
     "input": [
      "print dict(Cp.items('Layout'))['x_offset']\n",
      "print dict(Cp.items('Layout'))['y_offset']"
     ],
     "language": "python",
     "metadata": {},
     "outputs": [
      {
       "output_type": "stream",
       "stream": "stdout",
       "text": [
        "30\n",
        "2\n"
       ]
      }
     ],
     "prompt_number": 9
    },
    {
     "cell_type": "markdown",
     "metadata": {},
     "source": [
      "## Network"
     ]
    },
    {
     "cell_type": "code",
     "collapsed": false,
     "input": [
      "dict(Cp.items('Network'))"
     ],
     "language": "python",
     "metadata": {},
     "outputs": [
      {
       "output_type": "pyout",
       "prompt_number": 10,
       "text": [
        "{'communication_mode': \"'autonomous'\",\n",
        " 'dispinfo': 'False',\n",
        " 'ipython_nb_show': 'False',\n",
        " 'network_update_time': '0.1',\n",
        " 'show': 'False',\n",
        " 'show_sg': 'False',\n",
        " 'show_table': 'False'}"
       ]
      }
     ],
     "prompt_number": 10
    },
    {
     "cell_type": "markdown",
     "metadata": {},
     "source": [
      "Setup communication mode between node:\n",
      "\n",
      "+ autonomous : the data exchange between nodes is driven by the localization layer. If more information is required to estimate the position a communication request is send to the communication stae\n",
      "+ synchro : the data exchange between nodes is periodic. LDPs are periodically refreshed at the network_update_time"
     ]
    },
    {
     "cell_type": "code",
     "collapsed": false,
     "input": [
      "dict(Cp.items('Network'))['communication_mode']"
     ],
     "language": "python",
     "metadata": {},
     "outputs": [
      {
       "output_type": "pyout",
       "prompt_number": 11,
       "text": [
        "\"'autonomous'\""
       ]
      }
     ],
     "prompt_number": 11
    },
    {
     "cell_type": "markdown",
     "metadata": {},
     "source": [
      "Time step for the refresh network information\n"
     ]
    },
    {
     "cell_type": "code",
     "collapsed": false,
     "input": [
      "dict(Cp.items('Network'))['network_update_time']"
     ],
     "language": "python",
     "metadata": {},
     "outputs": [
      {
       "output_type": "pyout",
       "prompt_number": 12,
       "text": [
        "'0.1'"
       ]
      }
     ],
     "prompt_number": 12
    },
    {
     "cell_type": "markdown",
     "metadata": {},
     "source": [
      "Vizualization of the simulation using matplotlib"
     ]
    },
    {
     "cell_type": "code",
     "collapsed": false,
     "input": [
      "dict(Cp.items('Network'))['show']"
     ],
     "language": "python",
     "metadata": {},
     "outputs": [
      {
       "output_type": "pyout",
       "prompt_number": 13,
       "text": [
        "'False'"
       ]
      }
     ],
     "prompt_number": 13
    },
    {
     "cell_type": "markdown",
     "metadata": {},
     "source": [
      "Vizualization of a table summing up the data exchange of the nodes"
     ]
    },
    {
     "cell_type": "code",
     "collapsed": false,
     "input": [
      "dict(Cp.items('Network'))['show_table']"
     ],
     "language": "python",
     "metadata": {},
     "outputs": [
      {
       "output_type": "pyout",
       "prompt_number": 14,
       "text": [
        "'False'"
       ]
      }
     ],
     "prompt_number": 14
    },
    {
     "cell_type": "markdown",
     "metadata": {},
     "source": [
      "Vizualization of the simulation inside ipython notebook "
     ]
    },
    {
     "cell_type": "code",
     "collapsed": false,
     "input": [
      "dict(Cp.items('Network'))['ipython_nb_show']"
     ],
     "language": "python",
     "metadata": {},
     "outputs": [
      {
       "output_type": "pyout",
       "prompt_number": 15,
       "text": [
        "'False'"
       ]
      }
     ],
     "prompt_number": 15
    },
    {
     "cell_type": "markdown",
     "metadata": {},
     "source": [
      "## Mechanics\n",
      "\n",
      "This section allow to setup the agent movement during simulation"
     ]
    },
    {
     "cell_type": "code",
     "collapsed": false,
     "input": [
      "dict(Cp.items('Mechanics'))"
     ],
     "language": "python",
     "metadata": {},
     "outputs": [
      {
       "output_type": "pyout",
       "prompt_number": 16,
       "text": [
        "{'choose_destination': \"'random'\", 'mecanic_update_time': '0.1'}"
       ]
      }
     ],
     "prompt_number": 16
    },
    {
     "cell_type": "markdown",
     "metadata": {},
     "source": [
      "Setup how agent choose their target:\n",
      "\n",
      "+ random : the agnet move into the layout randomly\n",
      "+ file : the agent follow the sequence specified in <project_dir>/nodes_destination.ini"
     ]
    },
    {
     "cell_type": "code",
     "collapsed": false,
     "input": [
      "dict(Cp.items('Mechanics'))['choose_destination']"
     ],
     "language": "python",
     "metadata": {},
     "outputs": [
      {
       "output_type": "pyout",
       "prompt_number": 17,
       "text": [
        "\"'random'\""
       ]
      }
     ],
     "prompt_number": 17
    },
    {
     "cell_type": "markdown",
     "metadata": {},
     "source": [
      "Time step for refreshing the mechanical layer (ground truth position) \n"
     ]
    },
    {
     "cell_type": "code",
     "collapsed": false,
     "input": [
      "dict(Cp.items('Mechanics'))['mecanic_update_time']"
     ],
     "language": "python",
     "metadata": {},
     "outputs": [
      {
       "output_type": "pyout",
       "prompt_number": 18,
       "text": [
        "'0.1'"
       ]
      }
     ],
     "prompt_number": 18
    },
    {
     "cell_type": "markdown",
     "metadata": {},
     "source": [
      "## Localization\n",
      "Setup Localization algorithms"
     ]
    },
    {
     "cell_type": "code",
     "collapsed": false,
     "input": [
      "dict(Cp.items('Localization'))"
     ],
     "language": "python",
     "metadata": {},
     "outputs": [
      {
       "output_type": "pyout",
       "prompt_number": 19,
       "text": [
        "{'localization': 'True',\n",
        " 'localization_update_time': '1.0',\n",
        " 'method': \"['alg']\"}"
       ]
      }
     ],
     "prompt_number": 19
    },
    {
     "cell_type": "markdown",
     "metadata": {},
     "source": [
      "enable/disable localizaiton of the agents"
     ]
    },
    {
     "cell_type": "code",
     "collapsed": false,
     "input": [
      "dict(Cp.items('Localization'))['localization']"
     ],
     "language": "python",
     "metadata": {},
     "outputs": [
      {
       "output_type": "pyout",
       "prompt_number": 20,
       "text": [
        "'True'"
       ]
      }
     ],
     "prompt_number": 20
    },
    {
     "cell_type": "markdown",
     "metadata": {},
     "source": [
      "Select localization methods :\n",
      "\n",
      "+ Algebraic : h\u00e9t\u00e9rogeneous localization algorithm\n",
      "+ Geometric : RGPA "
     ]
    },
    {
     "cell_type": "code",
     "collapsed": false,
     "input": [
      "dict(Cp.items('Localization'))['method']"
     ],
     "language": "python",
     "metadata": {},
     "outputs": [
      {
       "output_type": "pyout",
       "prompt_number": 21,
       "text": [
        "\"['alg']\""
       ]
      }
     ],
     "prompt_number": 21
    },
    {
     "cell_type": "markdown",
     "metadata": {},
     "source": [
      "Time step for localization update"
     ]
    },
    {
     "cell_type": "code",
     "collapsed": false,
     "input": [
      "dict(Cp.items('Localization'))['localization_update_time']"
     ],
     "language": "python",
     "metadata": {},
     "outputs": [
      {
       "output_type": "pyout",
       "prompt_number": 22,
       "text": [
        "'1.0'"
       ]
      }
     ],
     "prompt_number": 22
    },
    {
     "cell_type": "markdown",
     "metadata": {},
     "source": [
      "## Simulation"
     ]
    },
    {
     "cell_type": "code",
     "collapsed": false,
     "input": [
      "dict(Cp.items('Simulation'))\n"
     ],
     "language": "python",
     "metadata": {},
     "outputs": [
      {
       "output_type": "pyout",
       "prompt_number": 23,
       "text": [
        "{'duration': '10.0',\n",
        " 'seed': '1',\n",
        " 'show_interval': '0.5',\n",
        " 'showtk': 'False',\n",
        " 'speedratio': '1.',\n",
        " 'verbose': 'True'}"
       ]
      }
     ],
     "prompt_number": 23
    },
    {
     "cell_type": "markdown",
     "metadata": {},
     "source": [
      "Setup simulation duration in second"
     ]
    },
    {
     "cell_type": "code",
     "collapsed": false,
     "input": [
      "dict(Cp.items('Simulation'))['duration']\n"
     ],
     "language": "python",
     "metadata": {},
     "outputs": [
      {
       "output_type": "pyout",
       "prompt_number": 24,
       "text": [
        "'10.0'"
       ]
      }
     ],
     "prompt_number": 24
    },
    {
     "cell_type": "markdown",
     "metadata": {},
     "source": [
      "Setup random seed for simulation"
     ]
    },
    {
     "cell_type": "code",
     "collapsed": false,
     "input": [
      "dict(Cp.items('Simulation'))['seed']\n"
     ],
     "language": "python",
     "metadata": {},
     "outputs": [
      {
       "output_type": "pyout",
       "prompt_number": 25,
       "text": [
        "'1'"
       ]
      }
     ],
     "prompt_number": 25
    },
    {
     "cell_type": "markdown",
     "metadata": {},
     "source": [
      "Display messages during simulation"
     ]
    },
    {
     "cell_type": "code",
     "collapsed": false,
     "input": [
      "dict(Cp.items('Simulation'))['verbose']\n"
     ],
     "language": "python",
     "metadata": {},
     "outputs": [
      {
       "output_type": "pyout",
       "prompt_number": 26,
       "text": [
        "'True'"
       ]
      }
     ],
     "prompt_number": 26
    },
    {
     "cell_type": "code",
     "collapsed": false,
     "input": [
      "from IPython.display import FileLink\n",
      "FileLink('DOC-simulnet.ipynb')"
     ],
     "language": "python",
     "metadata": {},
     "outputs": [
      {
       "html": [
        "Path (<tt>DOC-simulnet.ipynb</tt>) doesn't exist. It may still be in the process of being generated, or you may have the incorrect path."
       ],
       "output_type": "pyout",
       "prompt_number": 27,
       "text": [
        "/home/uguen/Documents/rch/devel/pylayers/notebook/DOC-simulnet.ipynb"
       ]
      }
     ],
     "prompt_number": 27
    },
    {
     "cell_type": "code",
     "collapsed": false,
     "input": [
      "from IPython.core.display import HTML\n",
      "\n",
      "def css_styling():\n",
      "    styles = open(\"../styles/custom.css\", \"r\").read()\n",
      "    return HTML(styles)\n",
      "css_styling()"
     ],
     "language": "python",
     "metadata": {},
     "outputs": [
      {
       "ename": "IOError",
       "evalue": "[Errno 2] Aucun fichier ou dossier de ce type: '../styles/custom.css'",
       "output_type": "pyerr",
       "traceback": [
        "\u001b[1;31m---------------------------------------------------------------------------\u001b[0m\n\u001b[1;31mIOError\u001b[0m                                   Traceback (most recent call last)",
        "\u001b[1;32m<ipython-input-28-c7949896ef01>\u001b[0m in \u001b[0;36m<module>\u001b[1;34m()\u001b[0m\n\u001b[0;32m      4\u001b[0m     \u001b[0mstyles\u001b[0m \u001b[1;33m=\u001b[0m \u001b[0mopen\u001b[0m\u001b[1;33m(\u001b[0m\u001b[1;34m\"../styles/custom.css\"\u001b[0m\u001b[1;33m,\u001b[0m \u001b[1;34m\"r\"\u001b[0m\u001b[1;33m)\u001b[0m\u001b[1;33m.\u001b[0m\u001b[0mread\u001b[0m\u001b[1;33m(\u001b[0m\u001b[1;33m)\u001b[0m\u001b[1;33m\u001b[0m\u001b[0m\n\u001b[0;32m      5\u001b[0m     \u001b[1;32mreturn\u001b[0m \u001b[0mHTML\u001b[0m\u001b[1;33m(\u001b[0m\u001b[0mstyles\u001b[0m\u001b[1;33m)\u001b[0m\u001b[1;33m\u001b[0m\u001b[0m\n\u001b[1;32m----> 6\u001b[1;33m \u001b[0mcss_styling\u001b[0m\u001b[1;33m(\u001b[0m\u001b[1;33m)\u001b[0m\u001b[1;33m\u001b[0m\u001b[0m\n\u001b[0m",
        "\u001b[1;32m<ipython-input-28-c7949896ef01>\u001b[0m in \u001b[0;36mcss_styling\u001b[1;34m()\u001b[0m\n\u001b[0;32m      2\u001b[0m \u001b[1;33m\u001b[0m\u001b[0m\n\u001b[0;32m      3\u001b[0m \u001b[1;32mdef\u001b[0m \u001b[0mcss_styling\u001b[0m\u001b[1;33m(\u001b[0m\u001b[1;33m)\u001b[0m\u001b[1;33m:\u001b[0m\u001b[1;33m\u001b[0m\u001b[0m\n\u001b[1;32m----> 4\u001b[1;33m     \u001b[0mstyles\u001b[0m \u001b[1;33m=\u001b[0m \u001b[0mopen\u001b[0m\u001b[1;33m(\u001b[0m\u001b[1;34m\"../styles/custom.css\"\u001b[0m\u001b[1;33m,\u001b[0m \u001b[1;34m\"r\"\u001b[0m\u001b[1;33m)\u001b[0m\u001b[1;33m.\u001b[0m\u001b[0mread\u001b[0m\u001b[1;33m(\u001b[0m\u001b[1;33m)\u001b[0m\u001b[1;33m\u001b[0m\u001b[0m\n\u001b[0m\u001b[0;32m      5\u001b[0m     \u001b[1;32mreturn\u001b[0m \u001b[0mHTML\u001b[0m\u001b[1;33m(\u001b[0m\u001b[0mstyles\u001b[0m\u001b[1;33m)\u001b[0m\u001b[1;33m\u001b[0m\u001b[0m\n\u001b[0;32m      6\u001b[0m \u001b[0mcss_styling\u001b[0m\u001b[1;33m(\u001b[0m\u001b[1;33m)\u001b[0m\u001b[1;33m\u001b[0m\u001b[0m\n",
        "\u001b[1;31mIOError\u001b[0m: [Errno 2] Aucun fichier ou dossier de ce type: '../styles/custom.css'"
       ]
      }
     ],
     "prompt_number": 28
    }
   ],
   "metadata": {}
  }
 ]
}