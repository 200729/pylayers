{
 "metadata": {
  "name": "BOWI"
 },
 "nbformat": 3,
 "nbformat_minor": 0,
 "worksheets": [
  {
   "cells": [
    {
     "cell_type": "heading",
     "level": 1,
     "metadata": {},
     "source": [
      "BOWI project"
     ]
    },
    {
     "cell_type": "markdown",
     "metadata": {},
     "source": [
      "1. Network Node\n",
      "2. tecnical projections : VLSI and Architectures\n",
      "3. BoWi NOde \n"
     ]
    },
    {
     "cell_type": "markdown",
     "metadata": {},
     "source": [
      "+ Gesture and Posture recognition \n",
      "+ In or outdoor without additional equipment\n",
      "\n",
      "+ Inertial Memes\n",
      "+ Computing \n",
      "+ Control\n",
      "+ RF FrontEnd\n"
     ]
    },
    {
     "cell_type": "code",
     "collapsed": false,
     "input": [
      "P = 200e-6"
     ],
     "language": "python",
     "metadata": {},
     "outputs": [],
     "prompt_number": 1
    },
    {
     "cell_type": "markdown",
     "metadata": {},
     "source": [
      "Xsense Moven (2010)\n",
      "\n",
      "\n",
      "17Mtx @350mW\n",
      "3h autonomy with 2 (Xbus) \n",
      "\n",
      "3 orders of magnitude over energy "
     ]
    },
    {
     "cell_type": "heading",
     "level": 1,
     "metadata": {},
     "source": [
      "Techno projections"
     ]
    },
    {
     "cell_type": "heading",
     "level": 2,
     "metadata": {},
     "source": [
      "Dedicated architecture + Power Management"
     ]
    },
    {
     "cell_type": "markdown",
     "metadata": {},
     "source": [
      "ARM M3 solution (32b RISC 130nm)\n",
      "\n",
      "\n",
      "1nJ/MAC32 + few micro watt Sleep modes\n",
      "\n",
      "\n",
      "45nm\n",
      "MAC32 : 10pJ\n",
      "28nm\n",
      "MAC32 : 7.5pJ\n",
      "\n",
      "Leakage power 1.47 uW\n",
      "\n",
      "28nm FDSOI\n",
      "    50% Power leakage reduction\n",
      "    \n"
     ]
    },
    {
     "cell_type": "markdown",
     "metadata": {},
     "source": [
      "1- No Instruction decoding\n",
      "2- Optimal Data Locality\n",
      "3- go fast and switch off"
     ]
    },
    {
     "cell_type": "markdown",
     "metadata": {},
     "source": [
      "100nJ/bit"
     ]
    },
    {
     "cell_type": "markdown",
     "metadata": {},
     "source": [
      "1nJ/bit"
     ]
    },
    {
     "cell_type": "markdown",
     "metadata": {},
     "source": [
      "1pJ/bit"
     ]
    },
    {
     "cell_type": "markdown",
     "metadata": {},
     "source": [
      "Adapt the number of computing nodes"
     ]
    },
    {
     "cell_type": "heading",
     "level": 2,
     "metadata": {},
     "source": [
      "Energy Harvesting "
     ]
    },
    {
     "cell_type": "markdown",
     "metadata": {},
     "source": [
      "9x9 20uW from the WiFi"
     ]
    },
    {
     "cell_type": "markdown",
     "metadata": {},
     "source": [
      "Smart Sensing Project"
     ]
    },
    {
     "cell_type": "heading",
     "level": 1,
     "metadata": {},
     "source": [
      "Adaptation "
     ]
    },
    {
     "cell_type": "markdown",
     "metadata": {},
     "source": [
      "$$Position = f_1(M_i,(D_{ij},P_{j \\ne i},P_i^{t-1})$$\n",
      "$$G = f_2(M_i,(D_{ij},P_{j \\ne i},G_i^{t-1})$$\n"
     ]
    },
    {
     "cell_type": "code",
     "collapsed": false,
     "input": [],
     "language": "python",
     "metadata": {},
     "outputs": [],
     "prompt_number": 2
    },
    {
     "cell_type": "heading",
     "level": 2,
     "metadata": {},
     "source": [
      "Why Hardware Self-Adaptation"
     ]
    },
    {
     "cell_type": "markdown",
     "metadata": {},
     "source": [
      "Dedicated reconfigurable architecture"
     ]
    },
    {
     "cell_type": "markdown",
     "metadata": {},
     "source": [
      "    event driven execution\n",
      "    run to completion semenatic\n",
      "    communicating through data-flow and events\n",
      "    reconfigurable hardware micro tasks\n",
      "    EKF UKF Gradient \n",
      "    Quaternion\n",
      "    "
     ]
    },
    {
     "cell_type": "markdown",
     "metadata": {},
     "source": [
      "Capoeira example"
     ]
    },
    {
     "cell_type": "markdown",
     "metadata": {},
     "source": [
      "succession of movement are very correlated\n",
      "Reducing the updating rate of the Kalman filter\n"
     ]
    },
    {
     "cell_type": "markdown",
     "metadata": {},
     "source": [
      "48 bits per messages"
     ]
    },
    {
     "cell_type": "code",
     "collapsed": false,
     "input": [],
     "language": "python",
     "metadata": {},
     "outputs": [],
     "prompt_number": 2
    }
   ],
   "metadata": {}
  }
 ]
}
