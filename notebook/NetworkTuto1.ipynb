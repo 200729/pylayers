{
 "metadata": {
  "name": "NetworkTuto1"
 },
 "nbformat": 3,
 "nbformat_minor": 0,
 "worksheets": [
  {
   "cells": [
    {
     "cell_type": "markdown",
     "metadata": {},
     "source": [
      "# Initialization"
     ]
    },
    {
     "cell_type": "code",
     "collapsed": false,
     "input": [
      "from pylayers.gis.layout import *\n",
      "from pylayers.mobility.agent import *\n",
      "from pylayers.network.network import *\n",
      "from pylayers.network.emsolver import *"
     ],
     "language": "python",
     "metadata": {},
     "outputs": [],
     "prompt_number": 1
    },
    {
     "cell_type": "markdown",
     "metadata": {},
     "source": [
      "## Layout Creation\n",
      "\n",
      "First load a layout structure. \n",
      "\n",
      "This is a place where nodes from a network can move around and communicate together. "
     ]
    },
    {
     "cell_type": "code",
     "collapsed": false,
     "input": [
      "L=Layout('TA-Office.str')\n",
      "L.build('str') # build 's'tructure, 't'opological and 'r'oom graphs\n",
      "fig,ax=L.showG('',show=True)\n",
      "\n"
     ],
     "language": "python",
     "metadata": {},
     "outputs": [
      {
       "output_type": "display_data",
       "png": "[encoded data removed]"
      }
     ],
     "prompt_number": 2
    },
    {
     "cell_type": "markdown",
     "metadata": {},
     "source": [
      "## Network Creation\n",
      "\n",
      "Then instanciate a void `Network`. \n",
      "\n",
      "A `Network` gathers all Radio Acces Technology (RAT) from all agents. \n",
      "\n",
      "The Network class inherits from `networkx` class"
     ]
    },
    {
     "cell_type": "code",
     "collapsed": false,
     "input": [
      "N=Network()"
     ],
     "language": "python",
     "metadata": {},
     "outputs": [],
     "prompt_number": 3
    },
    {
     "cell_type": "markdown",
     "metadata": {},
     "source": [
      "## Agents Creation\n",
      "\n",
      "Then we need to instanciate agents ( nodes ) into that layout.\n",
      "An agent is either a moving person or a static acces point which have one or more (RAT).\n",
      "\n",
      "- For that tutorial we create 3 agents in room **0, 3 and 5** respectively.\n",
      "- We suppose agents communicate on the same and unique RAT : **'rat1'**\n",
      "- Obviously agent will evolve into the previously created network **N**.\n",
      "    "
     ]
    },
    {
     "cell_type": "code",
     "collapsed": false,
     "input": [
      "Ag=[]\n",
      "nb_agent = 3\n",
      "room_init=[0,3,5]\n",
      "for na in range(nb_agent):\n",
      "    Ag.append(\n",
      "              Agent(ID = na,\n",
      "                    Layout = L,\n",
      "                    net = N,\n",
      "                    roomId = room_init[na],\n",
      "                    RAT=['rat1'] )\n",
      "              )"
     ],
     "language": "python",
     "metadata": {},
     "outputs": [],
     "prompt_number": 4
    },
    {
     "cell_type": "markdown",
     "metadata": {},
     "source": [
      "## Connection Creation\n",
      "\n",
      "Now we can create the Network. It means, we connect agents all together, according to their common RAT.\n"
     ]
    },
    {
     "cell_type": "code",
     "collapsed": false,
     "input": [
      "N.create()\n",
      "\n",
      "\n",
      "# show the Layout\n",
      "fig,ax=L.showG('')\n",
      "# show the network layer\n",
      "N.show(fig = fig, legend = True)\n"
     ],
     "language": "python",
     "metadata": {},
     "outputs": [
      {
       "output_type": "stream",
       "stream": "stderr",
       "text": [
        "/usr/local/lib/python2.6/dist-packages/matplotlib-1.1.1-py2.6-linux-i686.egg/matplotlib/legend.py:610: UserWarning: Legend does not support None\n",
        "Use proxy artist instead.\n",
        "\n",
        "http://matplotlib.sourceforge.net/users/legend_guide.html#using-proxy-artist\n",
        "\n",
        "  warnings.warn(\"Legend does not support %s\\nUse proxy artist instead.\\n\\nhttp://matplotlib.sourceforge.net/users/legend_guide.html#using-proxy-artist\\n\" % (str(orig_handle),))\n"
       ]
      },
      {
       "output_type": "display_data",
       "png": "[encoded data removed]"
      }
     ],
     "prompt_number": 5
    },
    {
     "cell_type": "markdown",
     "metadata": {},
     "source": [
      "## Nodes and edges"
     ]
    },
    {
     "cell_type": "markdown",
     "metadata": {},
     "source": [
      "Because Network inherits of networkx, you can have information about nodes and edges as such"
     ]
    },
    {
     "cell_type": "markdown",
     "metadata": {},
     "source": [
      "The node is a dictionnary which contains the following keys :\n",
      "\n",
      "* 'PN'  : Personnal Network ( described in the following)\n",
      "* 'RAT' : A list of RAT of which it belongs\n",
      "* 'p'   : true position\n",
      "* 'pe'  : estimated position if it has been computed by the node itself ( cf. location tutorial )\n",
      "* 't'   : A time stamp\n",
      "* 'type': Its type ( 'ag' : for agent or 'ap' for access point )\n",
      "\n",
      "example with node '0'"
     ]
    },
    {
     "cell_type": "code",
     "collapsed": false,
     "input": [
      "N.node[0]"
     ],
     "language": "python",
     "metadata": {},
     "outputs": [
      {
       "output_type": "pyout",
       "prompt_number": 17,
       "text": [
        "{'PN': <pylayers.network.network.Network at 0xb98e08c>,\n",
        " 'RAT': ['rat1'],\n",
        " 'p': array([ 38.73340397,   2.49958334]),\n",
        " 'pe': array([], dtype=float64),\n",
        " 't': 1350918201.516983,\n",
        " 'type': 'ag'}"
       ]
      }
     ],
     "prompt_number": 17
    },
    {
     "cell_type": "markdown",
     "metadata": {},
     "source": [
      "The edge is a dictionnary of dictionnary. \n",
      "Each RAT is a key of the first dictionnary.\n",
      "Location dependent parameter (LDP) is the key of the second.\n",
      "\n",
      "example with edge 0-1\n"
     ]
    },
    {
     "cell_type": "code",
     "collapsed": false,
     "input": [
      "N.edge[0][1]"
     ],
     "language": "python",
     "metadata": {},
     "outputs": [
      {
       "output_type": "pyout",
       "prompt_number": 18,
       "text": [
        "{'rat1': {'Pr': [], 'TOA': []}}"
       ]
      }
     ],
     "prompt_number": 18
    },
    {
     "cell_type": "markdown",
     "metadata": {},
     "source": [
      "Obviously, LDPs values are void, because no location dependent parameter have been computed yet."
     ]
    },
    {
     "cell_type": "markdown",
     "metadata": {},
     "source": [
      "# Compute Location dependent parameters (LDPs)\n",
      "\n",
      "LDPs are radio measurements bewteen agents. It could be either:\n",
      "\n",
      "1. Time of Arrival (**TOA**) \n",
      "2. Received Power (**Pr**)\n"
     ]
    },
    {
     "cell_type": "markdown",
     "metadata": {},
     "source": [
      "## EMS initialization\n",
      "\n",
      "Initialize first the electromagnetic solver (EMS) for the given Network N. \n",
      "Give it a Layout strucuture, in order to be able to compute accurate LDP.\n",
      "\n",
      ".. note:: it could have be made during the Network instantiation"
     ]
    },
    {
     "cell_type": "code",
     "collapsed": false,
     "input": [
      "N.EMS=EMSolver(L)"
     ],
     "language": "python",
     "metadata": {},
     "outputs": [
      {
       "ename": "NameError",
       "evalue": "name 'EMSolver' is not defined",
       "output_type": "pyerr",
       "traceback": [
        "\u001b[1;31m---------------------------------------------------------------------------\u001b[0m\n\u001b[1;31mNameError\u001b[0m                                 Traceback (most recent call last)",
        "\u001b[1;32m<ipython-input-1-b8da3166de1f>\u001b[0m in \u001b[0;36m<module>\u001b[1;34m()\u001b[0m\n\u001b[1;32m----> 1\u001b[1;33m \u001b[0mN\u001b[0m\u001b[1;33m.\u001b[0m\u001b[0mEMS\u001b[0m\u001b[1;33m=\u001b[0m\u001b[0mEMSolver\u001b[0m\u001b[1;33m(\u001b[0m\u001b[0mL\u001b[0m\u001b[1;33m)\u001b[0m\u001b[1;33m\u001b[0m\u001b[0m\n\u001b[0m",
        "\u001b[1;31mNameError\u001b[0m: name 'EMSolver' is not defined"
       ]
      }
     ],
     "prompt_number": 1
    },
    {
     "cell_type": "markdown",
     "metadata": {},
     "source": [
      "## Computation\n",
      "\n",
      "The we compute *TOA* and *received power*  dependent parameters, and display for link 0-1"
     ]
    },
    {
     "cell_type": "code",
     "collapsed": false,
     "input": [
      "for ldp in ['Pr','TOA']:\n",
      "    N.compute_LDPs(N.nodes(),RAT='rat1',LDP=ldp)\n",
      "N.edge[0][1]"
     ],
     "language": "python",
     "metadata": {},
     "outputs": [
      {
       "output_type": "pyout",
       "prompt_number": 20,
       "text": [
        "{'rat1': {'Pr': [-55.588970234804705, 3.0],\n",
        "  'TOA': [6.5687780348651295, 0.3],\n",
        "  'd': 22.211421125568684}}"
       ]
      }
     ],
     "prompt_number": 20
    },
    {
     "cell_type": "markdown",
     "metadata": {},
     "source": [
      "# tests on PN"
     ]
    },
    {
     "cell_type": "code",
     "collapsed": false,
     "input": [
      "N.update_PN()\n",
      "\n",
      "N.node[0]['PN'].node[0]['pe']=np.array((4,4))\n",
      "N.node[0]['PN'].node[1]['pe']=np.array((8,8))\n",
      "N.node[0]['PN'].node[2]['pe']=np.array((30,8))\n",
      "fig,ax=L.showG('')\n",
      "# show the network layer\n",
      "N.node[0]['PN'].show(fig = fig, legend = True)\n"
     ],
     "language": "python",
     "metadata": {},
     "outputs": [
      {
       "ename": "TypeError",
       "evalue": "compute_LDPs() takes exactly 3 non-keyword arguments (4 given)",
       "output_type": "pyerr",
       "traceback": [
        "\u001b[1;31m---------------------------------------------------------------------------\u001b[0m\n\u001b[1;31mTypeError\u001b[0m                                 Traceback (most recent call last)",
        "\u001b[1;32m<ipython-input-6-253b91c8b61d>\u001b[0m in \u001b[0;36m<module>\u001b[1;34m()\u001b[0m\n\u001b[1;32m----> 1\u001b[1;33m \u001b[0mN\u001b[0m\u001b[1;33m.\u001b[0m\u001b[0mupdate_PN\u001b[0m\u001b[1;33m(\u001b[0m\u001b[1;33m)\u001b[0m\u001b[1;33m\u001b[0m\u001b[0m\n\u001b[0m\u001b[0;32m      2\u001b[0m \u001b[1;33m\u001b[0m\u001b[0m\n\u001b[0;32m      3\u001b[0m \u001b[0mN\u001b[0m\u001b[1;33m.\u001b[0m\u001b[0mnode\u001b[0m\u001b[1;33m[\u001b[0m\u001b[1;36m0\u001b[0m\u001b[1;33m]\u001b[0m\u001b[1;33m[\u001b[0m\u001b[1;34m'PN'\u001b[0m\u001b[1;33m]\u001b[0m\u001b[1;33m.\u001b[0m\u001b[0mnode\u001b[0m\u001b[1;33m[\u001b[0m\u001b[1;36m0\u001b[0m\u001b[1;33m]\u001b[0m\u001b[1;33m[\u001b[0m\u001b[1;34m'pe'\u001b[0m\u001b[1;33m]\u001b[0m\u001b[1;33m=\u001b[0m\u001b[0mnp\u001b[0m\u001b[1;33m.\u001b[0m\u001b[0marray\u001b[0m\u001b[1;33m(\u001b[0m\u001b[1;33m(\u001b[0m\u001b[1;36m4\u001b[0m\u001b[1;33m,\u001b[0m\u001b[1;36m4\u001b[0m\u001b[1;33m)\u001b[0m\u001b[1;33m)\u001b[0m\u001b[1;33m\u001b[0m\u001b[0m\n\u001b[0;32m      4\u001b[0m \u001b[0mN\u001b[0m\u001b[1;33m.\u001b[0m\u001b[0mnode\u001b[0m\u001b[1;33m[\u001b[0m\u001b[1;36m0\u001b[0m\u001b[1;33m]\u001b[0m\u001b[1;33m[\u001b[0m\u001b[1;34m'PN'\u001b[0m\u001b[1;33m]\u001b[0m\u001b[1;33m.\u001b[0m\u001b[0mnode\u001b[0m\u001b[1;33m[\u001b[0m\u001b[1;36m1\u001b[0m\u001b[1;33m]\u001b[0m\u001b[1;33m[\u001b[0m\u001b[1;34m'pe'\u001b[0m\u001b[1;33m]\u001b[0m\u001b[1;33m=\u001b[0m\u001b[0mnp\u001b[0m\u001b[1;33m.\u001b[0m\u001b[0marray\u001b[0m\u001b[1;33m(\u001b[0m\u001b[1;33m(\u001b[0m\u001b[1;36m8\u001b[0m\u001b[1;33m,\u001b[0m\u001b[1;36m8\u001b[0m\u001b[1;33m)\u001b[0m\u001b[1;33m)\u001b[0m\u001b[1;33m\u001b[0m\u001b[0m\n\u001b[0;32m      5\u001b[0m \u001b[0mN\u001b[0m\u001b[1;33m.\u001b[0m\u001b[0mnode\u001b[0m\u001b[1;33m[\u001b[0m\u001b[1;36m0\u001b[0m\u001b[1;33m]\u001b[0m\u001b[1;33m[\u001b[0m\u001b[1;34m'PN'\u001b[0m\u001b[1;33m]\u001b[0m\u001b[1;33m.\u001b[0m\u001b[0mnode\u001b[0m\u001b[1;33m[\u001b[0m\u001b[1;36m2\u001b[0m\u001b[1;33m]\u001b[0m\u001b[1;33m[\u001b[0m\u001b[1;34m'pe'\u001b[0m\u001b[1;33m]\u001b[0m\u001b[1;33m=\u001b[0m\u001b[0mnp\u001b[0m\u001b[1;33m.\u001b[0m\u001b[0marray\u001b[0m\u001b[1;33m(\u001b[0m\u001b[1;33m(\u001b[0m\u001b[1;36m30\u001b[0m\u001b[1;33m,\u001b[0m\u001b[1;36m8\u001b[0m\u001b[1;33m)\u001b[0m\u001b[1;33m)\u001b[0m\u001b[1;33m\u001b[0m\u001b[0m\n",
        "\u001b[1;32m/private/staff/n/en/buguen/Documents/rch/devel/pylayers/pylayers/network/network.pyc\u001b[0m in \u001b[0;36mupdate_PN\u001b[1;34m(self)\u001b[0m\n\u001b[0;32m    459\u001b[0m         \u001b[1;32mfor\u001b[0m \u001b[0mrat\u001b[0m \u001b[1;32min\u001b[0m \u001b[0mself\u001b[0m\u001b[1;33m.\u001b[0m\u001b[0mRAT\u001b[0m\u001b[1;33m.\u001b[0m\u001b[0miterkeys\u001b[0m\u001b[1;33m(\u001b[0m\u001b[1;33m)\u001b[0m\u001b[1;33m:\u001b[0m\u001b[1;33m\u001b[0m\u001b[0m\n\u001b[0;32m    460\u001b[0m             \u001b[1;32mfor\u001b[0m \u001b[0mldp\u001b[0m \u001b[1;32min\u001b[0m \u001b[0mself\u001b[0m\u001b[1;33m.\u001b[0m\u001b[0mLDP\u001b[0m\u001b[1;33m:\u001b[0m\u001b[1;33m\u001b[0m\u001b[0m\n\u001b[1;32m--> 461\u001b[1;33m                 \u001b[0mself\u001b[0m\u001b[1;33m.\u001b[0m\u001b[0mcompute_LDPs\u001b[0m\u001b[1;33m(\u001b[0m\u001b[0mself\u001b[0m\u001b[1;33m.\u001b[0m\u001b[0mnodes\u001b[0m\u001b[1;33m(\u001b[0m\u001b[1;33m)\u001b[0m\u001b[1;33m,\u001b[0m\u001b[0mrat\u001b[0m\u001b[1;33m,\u001b[0m\u001b[0mldp\u001b[0m\u001b[1;33m,\u001b[0m\u001b[0mmethod\u001b[0m\u001b[1;33m=\u001b[0m\u001b[1;34m'direct'\u001b[0m\u001b[1;33m)\u001b[0m\u001b[1;33m\u001b[0m\u001b[0m\n\u001b[0m\u001b[0;32m    462\u001b[0m         \u001b[1;32mfor\u001b[0m \u001b[0mn\u001b[0m \u001b[1;32min\u001b[0m \u001b[0mself\u001b[0m\u001b[1;33m.\u001b[0m\u001b[0mnodes\u001b[0m\u001b[1;33m(\u001b[0m\u001b[1;33m)\u001b[0m\u001b[1;33m:\u001b[0m\u001b[1;33m\u001b[0m\u001b[0m\n\u001b[0;32m    463\u001b[0m             \u001b[0mself\u001b[0m\u001b[1;33m.\u001b[0m\u001b[0mnode\u001b[0m\u001b[1;33m[\u001b[0m\u001b[0mn\u001b[0m\u001b[1;33m]\u001b[0m\u001b[1;33m[\u001b[0m\u001b[1;34m'PN'\u001b[0m\u001b[1;33m]\u001b[0m\u001b[1;33m.\u001b[0m\u001b[0mget_RAT\u001b[0m\u001b[1;33m(\u001b[0m\u001b[1;33m)\u001b[0m\u001b[1;33m\u001b[0m\u001b[0m\n",
        "\u001b[1;31mTypeError\u001b[0m: compute_LDPs() takes exactly 3 non-keyword arguments (4 given)"
       ]
      }
     ],
     "prompt_number": 6
    },
    {
     "cell_type": "code",
     "collapsed": false,
     "input": [],
     "language": "python",
     "metadata": {},
     "outputs": []
    }
   ],
   "metadata": {}
  }
 ]
}