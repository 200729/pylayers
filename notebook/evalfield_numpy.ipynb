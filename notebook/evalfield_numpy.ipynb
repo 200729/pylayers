{
 "metadata": {
  "name": "evalfield_numpy"
 },
 "nbformat": 3,
 "nbformat_minor": 0,
 "worksheets": [
  {
   "cells": [
    {
     "cell_type": "markdown",
     "metadata": {},
     "source": [
      "# Simulation Creation"
     ]
    },
    {
     "cell_type": "code",
     "collapsed": false,
     "input": [
      "from pylayers.simul.simulem import *\n",
      "from pylayers.antprop.rays import *\n",
      "from pylayers.antprop.channel import *\n",
      "import pylayers.util.pyutil as pyu\n",
      "import pylayers.signal.bsignal as bs\n"
     ],
     "language": "python",
     "metadata": {},
     "outputs": [],
     "prompt_number": 3
    },
    {
     "cell_type": "markdown",
     "metadata": {},
     "source": [
      "Create The simulation "
     ]
    },
    {
     "cell_type": "code",
     "collapsed": false,
     "input": [
      "S = Simul()\n",
      "# loading a layout \n",
      "filestr = 'defstr'\n",
      "S.layout(filestr+'.str','matDB.ini','slabDB.ini')\n",
      "try:\n",
      "    S.L.dumpr()\n",
      "except:\n",
      "    S.L.build()\n",
      "    S.L.dumpw()"
     ],
     "language": "python",
     "metadata": {},
     "outputs": [],
     "prompt_number": 4
    },
    {
     "cell_type": "markdown",
     "metadata": {},
     "source": [
      "Select Tx and Rx position"
     ]
    },
    {
     "cell_type": "code",
     "collapsed": false,
     "input": [
      "itx=1\n",
      "irx=1\n",
      "S.tx = RadioNode(typ='tx')\n",
      "S.tx.point([1.2,1,1.4])\n",
      "S.rx = RadioNode(typ='rx')\n",
      "S.rx.point([8,-1.2,1.5])\n",
      "S.save()\n"
     ],
     "language": "python",
     "metadata": {},
     "outputs": [],
     "prompt_number": 5
    },
    {
     "cell_type": "markdown",
     "metadata": {},
     "source": [
      "Run raytracing\n"
     ]
    },
    {
     "cell_type": "code",
     "collapsed": false,
     "input": [
      "S.run(itx,irx)"
     ],
     "language": "python",
     "metadata": {},
     "outputs": [
      {
       "output_type": "stream",
       "stream": "stdout",
       "text": [
        "run debug  1 1\n",
        "nray :  10\n",
        "nfreq :  181\n",
        "nb rayons dans .tauk :  10\n",
        "nb rayons 2:  10\n"
       ]
      },
      {
       "output_type": "stream",
       "stream": "stderr",
       "text": [
        "/usr/local/lib/python2.7/site-packages/scipy/io/matlab/mio.py:266: FutureWarning: Using oned_as default value ('column') This will change to 'row' in future versions\n",
        "  oned_as=oned_as)\n"
       ]
      },
      {
       "output_type": "pyout",
       "prompt_number": 6,
       "text": [
        "True"
       ]
      }
     ],
     "prompt_number": 6
    },
    {
     "cell_type": "markdown",
     "metadata": {},
     "source": [
      "Load Tud from C"
     ]
    },
    {
     "cell_type": "code",
     "collapsed": false,
     "input": [
      "Gt=GrRayTud()\n",
      "Gt.load(S.dtud[itx][irx],S.dtang[itx][irx],S.drang[itx][irx],S.slab)"
     ],
     "language": "python",
     "metadata": {},
     "outputs": [],
     "prompt_number": 7
    },
    {
     "cell_type": "markdown",
     "metadata": {},
     "source": [
      "# New GrRayTud Tutorial start here !"
     ]
    },
    {
     "cell_type": "markdown",
     "metadata": {},
     "source": [
      "## Gt methods"
     ]
    },
    {
     "cell_type": "markdown",
     "metadata": {},
     "source": [
      "### Gt.eval\n",
      "In order to evaulate the field just type :"
     ]
    },
    {
     "cell_type": "code",
     "collapsed": false,
     "input": [
      "Gt.eval()"
     ],
     "language": "python",
     "metadata": {},
     "outputs": [
      {
       "output_type": "stream",
       "stream": "stdout",
       "text": [
        "GrRayTUD evaluation\n"
       ]
      }
     ],
     "prompt_number": 30
    },
    {
     "cell_type": "markdown",
     "metadata": {},
     "source": [
      "### Gt.info(r)\n",
      "\n",
      "returns useful information on the given ray r"
     ]
    },
    {
     "cell_type": "code",
     "collapsed": false,
     "input": [
      "Gt.info(0)"
     ],
     "language": "python",
     "metadata": {},
     "outputs": [
      {
       "output_type": "stream",
       "stream": "stdout",
       "text": [
        "-------------------------\n",
        "Informations of ray # 0\n",
        "-------------------------\n",
        "\n",
        "Index , type, material  , th(rad), alpha     , gamma2    \n",
        "    0 , B   , -         , -      , -         , -         \n",
        "    1 , T   , WALL      ,    0.31,  (0.49+0j),  (0.95+0j)\n",
        "    2 , B   , -         , -      , -         , -         \n",
        "\n",
        "----------------------------------------\n",
        " Matrix of ray # 0 at f= 2.0\n",
        "----------------------------------------\n",
        "interaction # 0 type: B\n",
        "[[ 0.04320287+0.j  0.99906632+0.j]\n",
        " [-0.99906632+0.j  0.04320287+0.j]]\n",
        "interaction # 1 type: T\n",
        "[[ 0.12750308+0.03079586j  0.00000000+0.j        ]\n",
        " [ 0.00000000+0.j          0.13184856+0.02982089j]]\n",
        "interaction # 2 type: B\n",
        "[[ 0.04320287+0.j -0.99906632+0.j]\n",
        " [-0.99906632+0.j -0.04320287+0.j]]\n"
       ]
      }
     ],
     "prompt_number": 33
    },
    {
     "cell_type": "markdown",
     "metadata": {},
     "source": [
      "### Gt.ray(r)\n",
      "\n",
      "return the index of the interractions of ray r into the Gt.I.I matrix "
     ]
    },
    {
     "cell_type": "code",
     "collapsed": false,
     "input": [
      "Gt.ray(0)"
     ],
     "language": "python",
     "metadata": {},
     "outputs": [
      {
       "output_type": "pyout",
       "prompt_number": 35,
       "text": [
        "array([0, 1, 2])"
       ]
      }
     ],
     "prompt_number": 35
    },
    {
     "cell_type": "markdown",
     "metadata": {},
     "source": [
      "### Gt.typ(r)\n",
      "\n",
      "return the type of the interractions of ray r "
     ]
    },
    {
     "cell_type": "code",
     "collapsed": false,
     "input": [
      "Gt.typ(0)"
     ],
     "language": "python",
     "metadata": {},
     "outputs": [
      {
       "output_type": "pyout",
       "prompt_number": 36,
       "text": [
        "array(['B', 'T', 'B'], \n",
        "      dtype='|S1')"
       ]
      }
     ],
     "prompt_number": 36
    },
    {
     "cell_type": "markdown",
     "metadata": {},
     "source": [
      "## Gt Attributes"
     ]
    },
    {
     "cell_type": "markdown",
     "metadata": {},
     "source": [
      "### Gt.I"
     ]
    },
    {
     "cell_type": "markdown",
     "metadata": {},
     "source": [
      "Gt has an attribute I, which is a class Interractions.\n",
      "\n",
      "This class Interractions gather all basis interractions : B / T / R / L "
     ]
    },
    {
     "cell_type": "code",
     "collapsed": false,
     "input": [
      "print Gt.I.B\n",
      "print Gt.I.R\n",
      "print Gt.I.T\n",
      "print Gt.I.L"
     ],
     "language": "python",
     "metadata": {},
     "outputs": [
      {
       "output_type": "stream",
       "stream": "stdout",
       "text": [
        "<pylayers.antprop.rays.IntB object at 0xaf314cc>\n",
        "<pylayers.antprop.rays.IntR object at 0xaf3a50c>\n",
        "<pylayers.antprop.rays.IntT object at 0xa04608c>\n",
        "<pylayers.antprop.rays.IntL object at 0xae42b0c>\n"
       ]
      }
     ],
     "prompt_number": 24
    },
    {
     "cell_type": "markdown",
     "metadata": {},
     "source": [
      "All basis interractions B / T / R / L have the same attributes:\n",
      "\n",
      "* idx : the index of the interraction \n",
      "* data : which is a np.shape(self.data) = len(self.idx) , 3 \n",
      "* data[:,0] = theta\n",
      "* data[:,1] = si\n",
      "* data[:,2] = sr or st ( named sout in the following)"
     ]
    },
    {
     "cell_type": "code",
     "collapsed": false,
     "input": [
      "print Gt.I.R.idx,'\\n'\n",
      "print Gt.I.R.data"
     ],
     "language": "python",
     "metadata": {},
     "outputs": [
      {
       "output_type": "stream",
       "stream": "stdout",
       "text": [
        "[4, 9, 16, 19, 24, 28, 31, 35, 38, 40, 45, 47, 52, 56] \n",
        "\n",
        "[[ 1.18533165  3.72350569  0.58668682]\n",
        " [ 1.16154048  4.02084061  0.3326063 ]\n",
        " [ 1.0612501   1.79687987  1.64010512]\n",
        " [ 1.01755034  1.90316162  2.56367065]\n",
        " [ 1.2144083   4.01270871  0.63225452]\n",
        " [ 1.09598777  1.91717319  1.74990304]\n",
        " [ 1.19205021  4.32718099  0.35794696]\n",
        " [ 1.10038949  1.93375087  1.76503435]\n",
        " [ 1.05413395  2.02436967  2.08021435]\n",
        " [ 1.22272858  2.08021435  0.64673068]\n",
        " [ 1.05878541  2.04110259  2.38348109]\n",
        " [ 1.20079578  2.38348109  0.36600416]\n",
        " [ 0.86465062  1.54110966  3.4538987 ]\n",
        " [ 0.86465062  2.71053992  1.23288772]]\n"
       ]
      }
     ],
     "prompt_number": 25
    },
    {
     "cell_type": "markdown",
     "metadata": {},
     "source": [
      "T and R basis interractions have also an extra attribute:\n",
      "\n",
      "* dusl : a dictonnary of used slab ( the number is the **position** into the self.idx, not direcly the index)\n"
     ]
    },
    {
     "cell_type": "code",
     "collapsed": false,
     "input": [
      "print Gt.I.R.dusl"
     ],
     "language": "python",
     "metadata": {},
     "outputs": [
      {
       "output_type": "stream",
       "stream": "stdout",
       "text": [
        "{'WALL': [2, 3, 5, 7, 8, 10, 12, 13], 'FLOOR': [1, 6, 11], 'CEIL': [0, 4, 9]}\n"
       ]
      }
     ],
     "prompt_number": 29
    },
    {
     "cell_type": "markdown",
     "metadata": {},
     "source": [
      "### Gt.dli"
     ]
    },
    {
     "cell_type": "code",
     "collapsed": false,
     "input": [
      "Gt.dli"
     ],
     "language": "python",
     "metadata": {},
     "outputs": [
      {
       "output_type": "pyout",
       "prompt_number": 37,
       "text": [
        "{3: {'dis': array([ 7.14772691]),\n",
        "  'nbrays': 1,\n",
        "  'rayidx': array([0]),\n",
        "  'rays': array([[0, 1, 2]])},\n",
        " 5: {'dis': array([ 7.71297608,  7.79037868,  7.7904993 ,  7.99327879]),\n",
        "  'nbrays': 4,\n",
        "  'rayidx': array([1, 2, 3, 4]),\n",
        "  'rays': array([[ 3,  4,  5,  6,  7],\n",
        "       [ 8,  9, 10, 11, 12],\n",
        "       [13, 14, 15, 16, 17],\n",
        "       [18, 19, 20, 21, 22]])},\n",
        " 7: {'dis': array([ 8.31203946,  8.38391317,  8.50235262,  8.57263087,  8.938436  ]),\n",
        "  'nbrays': 5,\n",
        "  'rayidx': array([5, 6, 7, 8, 9]),\n",
        "  'rays': array([[23, 24, 25, 26, 27, 28, 29],\n",
        "       [30, 31, 32, 33, 34, 35, 36],\n",
        "       [37, 38, 39, 40, 41, 42, 43],\n",
        "       [44, 45, 46, 47, 48, 49, 50],\n",
        "       [51, 52, 53, 54, 55, 56, 57]])}}"
       ]
      }
     ],
     "prompt_number": 37
    },
    {
     "cell_type": "markdown",
     "metadata": {},
     "source": [
      "the Gt object has an attribute : **dli => dictionnary of length of interraction**\n",
      "\n",
      "The key of this dictionnary is the number of interraction"
     ]
    },
    {
     "cell_type": "code",
     "collapsed": false,
     "input": [
      "Gt.dli.keys()"
     ],
     "language": "python",
     "metadata": {},
     "outputs": [
      {
       "output_type": "pyout",
       "prompt_number": 9,
       "text": [
        "[3, 5, 7]"
       ]
      }
     ],
     "prompt_number": 9
    },
    {
     "cell_type": "markdown",
     "metadata": {},
     "source": [
      "Thus, Lets see what contains Gt.dli for 3 interractions"
     ]
    },
    {
     "cell_type": "code",
     "collapsed": false,
     "input": [
      "Gt.dli[3]"
     ],
     "language": "python",
     "metadata": {},
     "outputs": [
      {
       "output_type": "pyout",
       "prompt_number": 10,
       "text": [
        "{'nbrays': 1, 'rayidx': array([0]), 'rays': array([[0, 1, 2]])}"
       ]
      }
     ],
     "prompt_number": 10
    },
    {
     "cell_type": "markdown",
     "metadata": {},
     "source": [
      "This is a new dictionnary which gives:\n",
      "\n",
      "* 'nbrays' : The number of ray which have 3 interractions ( here only 1)\n",
      "\n",
      "* 'rayidx' : The index of the ray ( here only the ray number 0)\n",
      "\n",
      "* 'rays' : a np array which contains the index of the interraction maxtrix"
     ]
    }
   ],
   "metadata": {}
  }
 ]
}