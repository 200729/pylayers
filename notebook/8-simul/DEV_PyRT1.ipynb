{
 "metadata": {
  "name": ""
 },
 "nbformat": 3,
 "nbformat_minor": 0,
 "worksheets": [
  {
   "cells": [
    {
     "cell_type": "markdown",
     "metadata": {},
     "source": [
      "# Simulation Creation"
     ]
    },
    {
     "cell_type": "code",
     "collapsed": false,
     "input": [
      "from pylayers.simul.simulem import *\n",
      "from pylayers.antprop.rays import *\n",
      "from pylayers.antprop.channel import *\n",
      "from pylayers.antprop.signature import *\n",
      "import pylayers.util.pyutil as pyu\n",
      "from pylayers.gis.layout import *\n",
      "import pylayers.signal.bsignal as bs\n",
      "from datetime import datetime\n",
      "import time"
     ],
     "language": "python",
     "metadata": {},
     "outputs": []
    },
    {
     "cell_type": "markdown",
     "metadata": {},
     "source": [
      "Create the simulation object with `defstr` layout  "
     ]
    },
    {
     "cell_type": "code",
     "collapsed": false,
     "input": [
      "S = Simul()\n",
      "# loading a layout \n",
      "filestr = 'DLR'\n",
      "S.layout(filestr+'.ini','matDB.ini','slabDB.ini')\n",
      "try:\n",
      "    S.L.dumpr()\n",
      "except:\n",
      "    S.L.build()\n",
      "    S.L.dumpw()    \n",
      "S.L.display['ednodes']=False\n",
      "S.L.display['nodes']=False\n",
      "S.L.display['title']='DLR WP4 WHERE2 measurement site'\n",
      "S.L.display['overlay']=False\n",
      "S.L.showGs()    "
     ],
     "language": "python",
     "metadata": {},
     "outputs": []
    },
    {
     "cell_type": "code",
     "collapsed": false,
     "input": [
      "S.L.showG('i',figsize=(10,10))"
     ],
     "language": "python",
     "metadata": {},
     "outputs": []
    },
    {
     "cell_type": "markdown",
     "metadata": {},
     "source": [
      "Select Tx and Rx positions"
     ]
    },
    {
     "cell_type": "heading",
     "level": 2,
     "metadata": {},
     "source": [
      "\n",
      "Measures from WHERE2 WP4 measurement campaign @ DLR"
     ]
    },
    {
     "cell_type": "code",
     "collapsed": false,
     "input": [
      "MT_DLR_RDTMaster={ 2:[2.12,0,1.275], 3:[3.12,0,1.275], 4:[4.12,0,1.275], 5:[5.12,0,1.275], 6:[6.12,0,1.275], 7:[7.12,0,1.275], 8:[8.12,0,1.275], 9:[9.12,0,1.275], 10:[10.12,0,1.275], 11:[11.12,0,1.275], 12:[12.12,0,1.275], 13:[13.12,0,1.275], 14:[14.12,0,1.275], 15:[15.12,0,1.275], 16:[16.12,0,1.275], 17:[17.12,0,1.275], 18:[18.12,0,1.275], 19:[19.12,0,1.275], 20:[20.12,0,1.275], 21:[21.12,0,1.275], 22:[22.12,0,1.275], 23:[23.12,0,1.275], 24:[24.12,0,1.275], 25:[25.12,0,1.275], 26:[26.12,0,1.275], 27:[27.12,0,1.275], 28:[28.12,0,1.275], 29:[29.12,0,1.275], 30:[30.12,0,1.275], 31:[31.12,0,1.275], 33:[30.12,0,1.275], 62:[24.12,0,1.275], 63:[24.62,0,1.275], 64:[25.12,0,1.275], 65:[25.62,0,1.275], 66:[26.12,0,1.275], 67:[26.62,0,1.275], 68:[27.12,0,1.275], 69:[27.62,0,1.275], 70:[28.12,0,1.275], 71:[28.62,0,1.275], 72:[29.12,0,1.275], 73:[29.62,0,1.275], 34:[30.12,0,1.275], 35:[30,1.38,1.275], 36:[30,1.88,1.275], 37:[30,2.38,1.275], 38:[30,2.88,1.275], 39:[30,3.88,1.275], 40:[30,4.88,1.275], 41:[30,5.88,1.275]}\n"
     ],
     "language": "python",
     "metadata": {},
     "outputs": []
    },
    {
     "cell_type": "code",
     "collapsed": false,
     "input": [
      "TrolleyMT_ACO_04={ 2:60, 3:59, 4:58, 5:58, 6:58, 7:58, 8:58, 9:58, 10:58, 11:58, 12:58,\n",
      "13:57, 14:52, 15:12, 16:51, 17:11, 18:50, 19:10, 20:53, 21:54, 22:55, 23:56, 24:56, 25:56,\n",
      "26:56, 27:56, 28:56, 29:56, 30:56, 31:56, 33:56, 62:56, 63:56, 64:56, 65:56, 66:56, 67:56,\n",
      "68:56, 69:56, 70:56, 71:56, 72:56, 73:56, 34:56, 35:56, 36:56, 37:56, 38:56, 39:56, 40:56, 41:56} "
     ],
     "language": "python",
     "metadata": {},
     "outputs": []
    },
    {
     "cell_type": "code",
     "collapsed": false,
     "input": [
      "MT_ACO_04 = { \n",
      "    60: [12.5, 2, 1.28],\n",
      "    59 :[12.5, 1.5, 1.28],\n",
      "    58 :[12.5, 1, 1.28 ],\n",
      "    57 :[12.5, 0.5, 1.28],\n",
      "    52 :[12.5, 0, 1.28],\n",
      "    12 :[12,  0,  1.28],\n",
      "    51 :[ 11.5, 0, 1.28],\n",
      "    11 :[ 11, 0, 1.28],\n",
      "    50 : [10.5, 0, 1.28],\n",
      "    10 :[10, 0, 1.28],\n",
      "    53 : [10, -0.5, 1.28],\n",
      "    54 : [10, -1, 1.28],\n",
      "    55 : [10, -1.5, 1.28],\n",
      "    56 : [10, -2, 1.28],\n",
      "}"
     ],
     "language": "python",
     "metadata": {},
     "outputs": []
    },
    {
     "cell_type": "code",
     "collapsed": false,
     "input": [
      "Dongle = 389\n",
      "AnchorNodes = {390:{'name':'MT_ACO_05','coord':[6,0.81,1.64]},\n",
      "               386:{'name':'MT_ACO_08','coord':[30.574,2.8,1.291]},\n",
      "               391:{'name':'MT_ACO_07','coord':[11.78,-5.553,1.5]},\n",
      "               385:{'name': 'MT_ACO_01','coord':[19.52,-0.69,1.446]},\n",
      "               387:{'name':'MT_ACO_03','coord':[28.606,-0.74,1.467]},\n",
      "               400:{'name':'MT_ACO_02','coord':[30.574,2.8,1.291]},\n",
      "               1:{'name':'MT_DLR_RTDSlave','coord':[0.85,0,1.18]}\n",
      "              }"
     ],
     "language": "python",
     "metadata": {},
     "outputs": []
    },
    {
     "cell_type": "code",
     "collapsed": false,
     "input": [
      "#\n",
      "#  Define the link to selected\n",
      "#\n",
      "A = 390\n",
      "B = 386\n"
     ],
     "language": "python",
     "metadata": {},
     "outputs": []
    },
    {
     "cell_type": "heading",
     "level": 2,
     "metadata": {},
     "source": [
      "Loading the Layout"
     ]
    },
    {
     "cell_type": "code",
     "collapsed": false,
     "input": [
      "L = Layout('DLR.ini')\n",
      "try:\n",
      "    L.dumpr()\n",
      "except:\n",
      "    L.build()\n",
      "    L.dumpw()"
     ],
     "language": "python",
     "metadata": {},
     "outputs": []
    },
    {
     "cell_type": "code",
     "collapsed": false,
     "input": [
      "path = '/home/uguen/Bureau/WHERE2/WHERE2-DLR-Simulations/'\n",
      "filename = path+'Coord_Zigbee_Nodes.csv'"
     ],
     "language": "python",
     "metadata": {},
     "outputs": []
    },
    {
     "cell_type": "code",
     "collapsed": false,
     "input": [
      "ZigbeeNode = np.loadtxt(filename,delimiter=',')"
     ],
     "language": "python",
     "metadata": {},
     "outputs": []
    },
    {
     "cell_type": "code",
     "collapsed": false,
     "input": [
      "filename = path+'Coord_dongle.csv'\n",
      "Dongle = np.loadtxt(filename,delimiter=',')"
     ],
     "language": "python",
     "metadata": {},
     "outputs": []
    },
    {
     "cell_type": "code",
     "collapsed": false,
     "input": [
      "fig=figure(figsize=(15,15))\n",
      "ax = fig.gca()\n",
      "fig,ax=L.showG(fig=fig,ax=ax,graph='s',nodes=False)\n",
      "plt.axis('off')\n",
      "S.tx.clear()\n",
      "S.rx.clear()\n",
      "da ={}\n",
      "dm ={}\n",
      "for c,k in enumerate(AnchorNodes):\n",
      "    pta = array([AnchorNodes[k]['coord'][0],AnchorNodes[k]['coord'][1],AnchorNodes[k]['coord'][2]]).reshape(3,1)\n",
      "    S.tx.point(pta,mode=\"add\")\n",
      "    da[c]=k\n",
      "    plt.plot(pta[0,:],pta[1,:],'or')\n",
      "for c,k in enumerate(MT_DLR_RDTMaster):\n",
      "    ptm = array([MT_DLR_RDTMaster[k][0],MT_DLR_RDTMaster[k][1],MT_DLR_RDTMaster[k][2]]).reshape(3,1)\n",
      "    dm[c]=k\n",
      "    S.rx.point(ptm,mode=\"add\")\n",
      "    plt.plot(ptm[0,:],ptm[1,:],'ob')\n",
      "#plt.scatter(Dongle[:,1],Dongle[:,2])\n",
      "#plt.scatter(ZigbeeNode[:,1],ZigbeeNode[:,2],color='r')\n"
     ],
     "language": "python",
     "metadata": {},
     "outputs": []
    },
    {
     "cell_type": "code",
     "collapsed": false,
     "input": [
      "S.L"
     ],
     "language": "python",
     "metadata": {},
     "outputs": []
    },
    {
     "cell_type": "code",
     "collapsed": false,
     "input": [
      "S.tx.position"
     ],
     "language": "python",
     "metadata": {},
     "outputs": []
    },
    {
     "cell_type": "code",
     "collapsed": false,
     "input": [
      "figsize(20,20)\n",
      "S.show(s=20)"
     ],
     "language": "python",
     "metadata": {},
     "outputs": []
    },
    {
     "cell_type": "code",
     "collapsed": false,
     "input": [
      "tx = S.tx.position[:,4]\n",
      "Rtx = S.L.pt2ro(tx)\n",
      "print \"transmitter :\",tx,\" is in room \",Rtx"
     ],
     "language": "python",
     "metadata": {},
     "outputs": []
    },
    {
     "cell_type": "code",
     "collapsed": false,
     "input": [
      "rx = S.rx.position[:,28]\n",
      "Rrx = S.L.pt2ro(rx)\n",
      "print \"mobile node :\",rx,\" is in room \",Rrx"
     ],
     "language": "python",
     "metadata": {},
     "outputs": []
    },
    {
     "cell_type": "code",
     "collapsed": false,
     "input": [
      "ctx = S.L.pt2cy(tx)\n",
      "crx = S.L.pt2cy(rx)"
     ],
     "language": "python",
     "metadata": {},
     "outputs": []
    },
    {
     "cell_type": "code",
     "collapsed": false,
     "input": [
      "S.L.showG('t')"
     ],
     "language": "python",
     "metadata": {},
     "outputs": []
    },
    {
     "cell_type": "code",
     "collapsed": false,
     "input": [
      "print ctx\n",
      "print crx\n",
      "Si = Signatures(S.L,tx,rx)\n",
      "s1 = Si.run1(cutoff=3)\n",
      "r2d=Si.rays(s1)"
     ],
     "language": "python",
     "metadata": {},
     "outputs": []
    },
    {
     "cell_type": "code",
     "collapsed": false,
     "input": [
      "def showr2d(L,r2d,tx,rx):\n",
      "    \"\"\"\n",
      "    r2d['pt'] : nd,ni,nr\n",
      "    \"\"\"\n",
      "    L.display['thin']=True\n",
      "    col = ['r','b','g','c','m','k','y']\n",
      "    fig,ax = L.showGs()\n",
      "    for k in r2d:\n",
      "        r = r2d[k]\n",
      "        pts = r['pt']\n",
      "        sh = np.shape(pts)\n",
      "        for r in range(sh[2]):\n",
      "            x = np.hstack((tx[0],pts[0,:,r],rx[0]))\n",
      "            y = np.hstack((tx[1],pts[1,:,r],rx[1]))\n",
      "            plt.plot(x,y,col[eval(k)])"
     ],
     "language": "python",
     "metadata": {},
     "outputs": []
    },
    {
     "cell_type": "code",
     "collapsed": false,
     "input": [
      "showr2d(L,r2d,tx,rx)"
     ],
     "language": "python",
     "metadata": {},
     "outputs": []
    },
    {
     "cell_type": "markdown",
     "metadata": {},
     "source": [
      "Next actions : \n",
      "\n",
      "    + Integrate showr2d in Layout class or Signature ( TBDefined) \n",
      "    + Construct Rays3D from ht and hr \n",
      "    + Integrate reflexion on ceil and Floor \n",
      "    + Calculate geometrical informatio out of rays\n",
      "        + Convert in .tud format (Pyray compatible files ) \n",
      "    + Use multiwall on all those paths\n",
      "    "
     ]
    },
    {
     "cell_type": "code",
     "collapsed": false,
     "input": [
      "S.L.buildGi()\n",
      "S.L.Gi.edge"
     ],
     "language": "python",
     "metadata": {},
     "outputs": []
    },
    {
     "cell_type": "code",
     "collapsed": false,
     "input": [
      "# ACOLinkMeasurementID;NodeID;ACO_PeerID;ACO_RSSI;Timestamp\n",
      "fd = open(path+'mes/ACO_link_meas.txt')\n",
      "lis = fd.readlines()\n",
      "#Nodes = np.loadtxt('mes/Nodes.txt',delimiter=';')\n",
      "tl  = {}\n",
      "for li in lis:\n",
      "    li = li.replace('\\r\\n','')\n",
      "    s = li.split(';')\n",
      "    try:\n",
      "        date = datetime.strptime(s[4],'%Y-%m-%d %H:%M:%S')\n",
      "        timestamp = time.mktime(date.timetuple())\n",
      "    except:\n",
      "        timestamp = 0\n",
      "    cle= s[1]+'-'+s[2]\n",
      "    c = np.array([timestamp,eval(s[3])])\n",
      "    #c = np.array([timestamp,eval(s[0]),eval(s[1]),eval(s[2]),eval(s[3])])\n",
      "    try:\n",
      "        tl[cle] = np.vstack((tl[cle],c))\n",
      "    except:\n",
      "        tl[cle] = c"
     ],
     "language": "python",
     "metadata": {},
     "outputs": []
    },
    {
     "cell_type": "code",
     "collapsed": false,
     "input": [
      "figsize(20,20)\n",
      "for k in range(36):\n",
      "    cle = tl.keys()[k]\n",
      "    L1 = cle.split('-')[0]\n",
      "    L2 = cle.split('-')[1]\n",
      "    plt.subplot(6,6,k+1)\n",
      "    plt.plot((tl[cle][:,0]-tl[cle][0,0])/100,tl[cle][:,1],'.')\n",
      "    plt.axis([0,200,-84,-38])\n",
      "    plt.title(cle)\n",
      "#plt.savefig('data.png')"
     ],
     "language": "python",
     "metadata": {},
     "outputs": []
    },
    {
     "cell_type": "code",
     "collapsed": false,
     "input": [
      "#plt.figure()\n",
      "#plt.plot(tc[:,0],tc[:,1],'.')\n",
      "#plt.xlabel('Integer timestamp = time.mktime(date.timetuple())')\n",
      "#plt.ylabel('Received Power (dBm)')\n",
      "#plt.show()\n",
      "#plt.figure()\n",
      "#plt.hist(tc[:,1],150)\n",
      "#plt.title('Empirical distribution of Received Power - All data')\n",
      "#plt.show()\n",
      "plt.figure(figsize=(10,10))\n",
      "v1 = tl['391-390']\n",
      "v2 = tl['391-386']\n",
      "plt.subplot(211)\n",
      "plt.plot((v1[:,0]-v1[0,0])/100,v1[:,1],'.')\n",
      "plt.plot((v2[:,0]-v2[0,0])/100,v2[:,1]+0.5,'.r')\n",
      "plt.xlabel('Normalized timestamp')\n",
      "plt.ylabel('Received Power (dBm)')\n",
      "plt.title('comparison of recorded activity on 2 correlated multi stable links')\n",
      "plt.legend(('Link 391-390', 'Linkl 391-386 + 0.5dBm(offset) ' ),\n",
      "                      'upper right', shadow=True, fancybox=True)\n",
      "plt.subplot(212)\n",
      "plt.hist(v1[:,1],50,alpha=0.5)\n",
      "plt.hist(v2[:,1],50,alpha=0.5,color='r')\n",
      "plt.xlabel('Power (dBm)')\n",
      "plt.savefig('391-390vs391-386.png')\n"
     ],
     "language": "python",
     "metadata": {},
     "outputs": []
    },
    {
     "cell_type": "code",
     "collapsed": false,
     "input": [
      "itx=1\n",
      "irx=1\n",
      "S.tx = RadioNode(typ='tx')\n",
      "S.tx.point([1.2,1,1.4])\n",
      "S.rx = RadioNode(typ='rx')\n",
      "S.rx.point([8,-1.2,1.5])\n",
      "S.save()"
     ],
     "language": "python",
     "metadata": {},
     "outputs": []
    },
    {
     "cell_type": "markdown",
     "metadata": {},
     "source": [
      "Run raytracing determination between itx and irx  \n"
     ]
    },
    {
     "cell_type": "code",
     "collapsed": false,
     "input": [
      "S.run(itx,irx)"
     ],
     "language": "python",
     "metadata": {},
     "outputs": []
    },
    {
     "cell_type": "markdown",
     "metadata": {},
     "source": [
      "Load Tud object from generated file. A Tud object is gathering all the necessary information for avaluating the field along the rays of the link (itx,irx)"
     ]
    },
    {
     "cell_type": "code",
     "collapsed": false,
     "input": [
      "Gt=GrRayTud()\n",
      "Gt.load(S.dtud[itx][irx],S.dtang[itx][irx],S.drang[itx][irx],S.slab)"
     ],
     "language": "python",
     "metadata": {},
     "outputs": []
    },
    {
     "cell_type": "markdown",
     "metadata": {},
     "source": [
      "# How to use the GrRayTud object? "
     ]
    },
    {
     "cell_type": "markdown",
     "metadata": {},
     "source": [
      "## Gt is an object from class GrRayTud (Group of rays in TUD format) "
     ]
    },
    {
     "cell_type": "markdown",
     "metadata": {},
     "source": [
      "### Gt.eval\n",
      "Thhis method evaluates the field along the rays. "
     ]
    },
    {
     "cell_type": "code",
     "collapsed": false,
     "input": [
      "Gt.eval()"
     ],
     "language": "python",
     "metadata": {},
     "outputs": []
    },
    {
     "cell_type": "markdown",
     "metadata": {},
     "source": [
      "### Gt.info(r)\n",
      "\n",
      "returns the information associated to a given ray number r"
     ]
    },
    {
     "cell_type": "code",
     "collapsed": false,
     "input": [
      "Gt.info(7)"
     ],
     "language": "python",
     "metadata": {},
     "outputs": []
    },
    {
     "cell_type": "markdown",
     "metadata": {},
     "source": [
      "### Gt.ray(r)\n",
      "\n",
      "return the index of the interactions of ray r into the Gt.I.I matrix "
     ]
    },
    {
     "cell_type": "code",
     "collapsed": false,
     "input": [
      "Gt.ray(0)"
     ],
     "language": "python",
     "metadata": {},
     "outputs": []
    },
    {
     "cell_type": "markdown",
     "metadata": {},
     "source": [
      "### Gt.typ(r)\n",
      "\n",
      "return the type of the interactions of ray r "
     ]
    },
    {
     "cell_type": "code",
     "collapsed": false,
     "input": [
      "Gt.typ(0)"
     ],
     "language": "python",
     "metadata": {},
     "outputs": []
    },
    {
     "cell_type": "markdown",
     "metadata": {},
     "source": [
      "## Gt Attributes"
     ]
    },
    {
     "cell_type": "markdown",
     "metadata": {},
     "source": [
      "### Gt.I"
     ]
    },
    {
     "cell_type": "markdown",
     "metadata": {},
     "source": [
      "Gt has an attribute I, which is a class Interactions.\n",
      "\n",
      "This class Interactions gather all basis interactions : B / T / R / L "
     ]
    },
    {
     "cell_type": "code",
     "collapsed": false,
     "input": [
      "print Gt.I.B\n",
      "print Gt.I.R\n",
      "print Gt.I.T\n",
      "print Gt.I.L"
     ],
     "language": "python",
     "metadata": {},
     "outputs": []
    },
    {
     "cell_type": "markdown",
     "metadata": {},
     "source": [
      "All basis interactions B / T / R / L have the same attributes:\n",
      "\n",
      "* idx : the index of the interaction \n",
      "* data : which is a np.shape(self.data) = len(self.idx) , 3 \n",
      "* data[:,0] = theta\n",
      "* data[:,1] = si\n",
      "* data[:,2] = sr or st ( named sout in the following)"
     ]
    },
    {
     "cell_type": "code",
     "collapsed": false,
     "input": [
      "print Gt.I.R.idx,'\\n'\n",
      "print Gt.I.R.data"
     ],
     "language": "python",
     "metadata": {},
     "outputs": []
    },
    {
     "cell_type": "markdown",
     "metadata": {},
     "source": [
      "T and R basis interractions have also an extra attribute:\n",
      "\n",
      "* dusl : a dictonnary of used slab ( the number is the **position** into the self.idx, not direcly the index)\n"
     ]
    },
    {
     "cell_type": "code",
     "collapsed": false,
     "input": [
      "print Gt.I.R.dusl"
     ],
     "language": "python",
     "metadata": {},
     "outputs": []
    },
    {
     "cell_type": "markdown",
     "metadata": {},
     "source": [
      "### Gt.dli"
     ]
    },
    {
     "cell_type": "code",
     "collapsed": false,
     "input": [
      "Gt.dli"
     ],
     "language": "python",
     "metadata": {},
     "outputs": []
    },
    {
     "cell_type": "markdown",
     "metadata": {},
     "source": [
      "the Gt object has an attribute : **dli => dictionnary of length of interaction**\n",
      "\n",
      "The key of this dictionnary is the number of interaction"
     ]
    },
    {
     "cell_type": "code",
     "collapsed": false,
     "input": [
      "Gt.dli.keys()"
     ],
     "language": "python",
     "metadata": {},
     "outputs": []
    },
    {
     "cell_type": "markdown",
     "metadata": {},
     "source": [
      "Thus, Lets see what contains Gt.dli for 3 interractions"
     ]
    },
    {
     "cell_type": "code",
     "collapsed": false,
     "input": [
      "Gt.dli[3]"
     ],
     "language": "python",
     "metadata": {},
     "outputs": []
    },
    {
     "cell_type": "markdown",
     "metadata": {},
     "source": [
      "This is a new dictionnary which gives:\n",
      "\n",
      "* 'nbrays' : The number of ray which have 3 interractions ( here only 1)\n",
      "\n",
      "* 'rayidx' : The index of the ray ( here only the ray number 0)\n",
      "\n",
      "* 'rays' : a np array which contains the index of the interraction maxtrix"
     ]
    }
   ],
   "metadata": {}
  }
 ]
}
