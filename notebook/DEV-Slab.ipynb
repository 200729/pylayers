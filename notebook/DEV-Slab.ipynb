{
 "metadata": {
  "name": ""
 },
 "nbformat": 3,
 "nbformat_minor": 0,
 "worksheets": [
  {
   "cells": [
    {
     "cell_type": "code",
     "collapsed": false,
     "input": [
      "from pylayers.antprop.slab import *"
     ],
     "language": "python",
     "metadata": {},
     "outputs": []
    },
    {
     "cell_type": "code",
     "collapsed": false,
     "input": [
      "from pylayers.antprop.slab import *\n",
      "from numpy import *\n",
      "\n",
      "sl = SlabDB()"
     ],
     "language": "python",
     "metadata": {},
     "outputs": []
    },
    {
     "cell_type": "code",
     "collapsed": false,
     "input": [
      "sl.mat.add(name='TESS-p50',cval=3+0j,sigma=0.06,typ='epsr')\n",
      "sl.add(name='TESS-p50-5cm',lname=['TESS-p50'],lthick=[0.05])\n",
      "sl.add(name='TESS-p50-10cm',lname=['TESS-p50'],lthick=[0.10])\n",
      "sl.add(name='TESS-p50-15cm',lname=['TESS-p50'],lthick=[0.15])"
     ],
     "language": "python",
     "metadata": {},
     "outputs": []
    },
    {
     "cell_type": "code",
     "collapsed": false,
     "input": [
      "fGHz=4\n",
      "theta = np.arange(0,pi/2,0.01)"
     ],
     "language": "python",
     "metadata": {},
     "outputs": []
    },
    {
     "cell_type": "code",
     "collapsed": false,
     "input": [
      "figsize(8,8)\n",
      "# These Tessereau page 50 \n",
      "\n",
      "sl['TESS-p50-5cm'].ev(fGHz,theta,compensate=True)\n",
      "sl['TESS-p50-10cm'].ev(fGHz,theta,compensate=True)\n",
      "sl['TESS-p50-15cm'].ev(fGHz,theta,compensate=True)\n",
      "\n",
      "# by default var='a' and kv = 0 \n",
      "\n",
      "fig,ax = sl['TESS-p50-5cm'].plotwrt(color='k',labels=[''])\n",
      "fig,ax = sl['TESS-p50-10cm'].plotwrt(color='k',labels=[''],linestyle='dashed',fig=fig,ax=ax)\n",
      "fig,ax = sl['TESS-p50-15cm'].plotwrt(color='k',labels=[''],linestyle='dashdot',fig=fig,ax=ax)"
     ],
     "language": "python",
     "metadata": {},
     "outputs": []
    },
    {
     "cell_type": "code",
     "collapsed": false,
     "input": [
      "figsize(12,4)\n",
      "fGHz = np.arange(2,16,0.1)\n",
      "theta = 0 \n",
      "\n",
      "sl['TESS-p50-5cm'].ev(fGHz,theta,compensate=False)\n",
      "sl['TESS-p50-10cm'].ev(fGHz,theta,compensate=False)\n",
      "sl['TESS-p50-15cm'].ev(fGHz,theta,compensate=False)\n",
      "    \n",
      "fig,ax = sl['TESS-p50-5cm'].plotwrt('f',coeff='T',types=['ru'],labels=[''],color='k')\n",
      "fig,ax = sl['TESS-p50-10cm'].plotwrt('f',coeff='T',types=['ru'],labels=[''],color='k',linestyle='dashed',fig=fig,ax=ax)\n",
      "fig,ax = sl['TESS-p50-15cm'].plotwrt('f',coeff='T',types=['ru'],labels=[''],color='k',linestyle='dashdot',fig=fig,ax=ax)\n",
      "\n",
      "sl['TESS-p50-5cm'].ev(fGHz,theta,compensate=True)\n",
      "sl['TESS-p50-10cm'].ev(fGHz,theta,compensate=True)\n",
      "sl['TESS-p50-15cm'].ev(fGHz,theta,compensate=True)\n",
      "\n",
      "fig,ax = sl['TESS-p50-5cm'].plotwrt('f',coeff='T',types=['ru'],labels=['5cm compensated',''],color='r',fig=fig,ax=ax)\n",
      "fig,ax = sl['TESS-p50-10cm'].plotwrt('f',coeff='T',types=['ru'],labels=['10cm compensated',''],color='r',linestyle='dashed',fig=fig,ax=ax)\n",
      "fig,ax = sl['TESS-p50-15cm'].plotwrt('f',coeff='T',types=['ru'],labels=['15cm not compensated',''],color='r',linestyle='dashdot',fig=fig,ax=ax) \n"
     ],
     "language": "python",
     "metadata": {},
     "outputs": []
    },
    {
     "cell_type": "code",
     "collapsed": false,
     "input": [
      "fig,ax = sl['TESS-p50-5cm'].plotwrt('f',coeff='T',labels=[''],color='k')\n",
      "fig,ax = sl['TESS-p50-10cm'].plotwrt('f',coeff='T',labels=[''],color='k',linestyle='dashed',fig=fig,ax=ax)\n",
      "fig,ax = sl['TESS-p50-15cm'].plotwrt('f',coeff='T',labels=[''],color='k',linestyle='dashdot',fig=fig,ax=ax)"
     ],
     "language": "python",
     "metadata": {},
     "outputs": []
    }
   ],
   "metadata": {}
  }
 ]
}