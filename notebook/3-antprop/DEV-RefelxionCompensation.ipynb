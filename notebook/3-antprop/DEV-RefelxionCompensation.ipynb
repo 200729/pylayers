{
 "metadata": {
  "name": ""
 },
 "nbformat": 3,
 "nbformat_minor": 0,
 "worksheets": [
  {
   "cells": [
    {
     "cell_type": "heading",
     "level": 2,
     "metadata": {},
     "source": [
      "Slabs and Materials"
     ]
    },
    {
     "cell_type": "markdown",
     "metadata": {},
     "source": [
      "This section explains some features of the class **Slab**. \n",
      "\n",
      "**Slabs** are handled by the module **pylayers.antprop.slab**"
     ]
    },
    {
     "cell_type": "code",
     "collapsed": false,
     "input": [
      "from pylayers.antprop.slab import *\n",
      "import  matplotlib.pyplot as plt"
     ],
     "language": "python",
     "metadata": {},
     "outputs": [],
     "prompt_number": 1
    },
    {
     "cell_type": "markdown",
     "metadata": {},
     "source": [
      "The Class `SlabDB` contains a dictionnary of all available Slab. This information is read in a file `slabDB.ini`"
     ]
    },
    {
     "cell_type": "markdown",
     "metadata": {},
     "source": [
      "The __repr__ method provides a visual indication of the involved thichness and materials of a `Slab` "
     ]
    },
    {
     "cell_type": "code",
     "collapsed": false,
     "input": [
      "S=SlabDB()"
     ],
     "language": "python",
     "metadata": {},
     "outputs": [],
     "prompt_number": 2
    },
    {
     "cell_type": "markdown",
     "metadata": {},
     "source": [
      "### Slab dictionnary\n",
      "The layout L has a **sl** (slab dictionnary) member. This dictionnary contains all the available slabs of  the layout. For this layout the keys of the **sl** dictionnary are :\n"
     ]
    },
    {
     "cell_type": "code",
     "collapsed": false,
     "input": [
      "S.keys()"
     ],
     "language": "python",
     "metadata": {},
     "outputs": [
      {
       "output_type": "pyout",
       "prompt_number": 3,
       "text": [
        "['WINDOW_GLASS',\n",
        " 'PLASTERBOARD_7CM',\n",
        " 'WALL',\n",
        " 'AIR',\n",
        " 'WINDOW',\n",
        " 'METALIC',\n",
        " 'PLASTERBOARD_14CM',\n",
        " 'DOOR',\n",
        " 'FLOOR',\n",
        " 'METAL',\n",
        " 'PARTITION',\n",
        " 'CONCRETE_20CM3D',\n",
        " 'PLASTERBOARD_10CM',\n",
        " 'CEIL',\n",
        " 'CONCRETE_6CM3D',\n",
        " 'CONCRETE_15CM3D',\n",
        " '3D_WINDOW_GLASS',\n",
        " 'WALLS',\n",
        " 'WOOD',\n",
        " 'CONCRETE_7CM3D',\n",
        " 'PILLAR',\n",
        " 'ABSORBENT']"
       ]
      }
     ],
     "prompt_number": 3
    },
    {
     "cell_type": "heading",
     "level": 2,
     "metadata": {},
     "source": [
      "Defining a new Slab and a new Material"
     ]
    },
    {
     "cell_type": "code",
     "collapsed": false,
     "input": [
      "S.mat.add(name='wall2',typ='reim',cval=2.6-0.026*1j,fGHz=4)"
     ],
     "language": "python",
     "metadata": {},
     "outputs": [],
     "prompt_number": 4
    },
    {
     "cell_type": "code",
     "collapsed": false,
     "input": [
      "S.add('slab2',['wall2'],[0.15])"
     ],
     "language": "python",
     "metadata": {},
     "outputs": [],
     "prompt_number": 5
    },
    {
     "cell_type": "code",
     "collapsed": false,
     "input": [
      "S.mat['wall2']"
     ],
     "language": "python",
     "metadata": {},
     "outputs": [
      {
       "output_type": "pyout",
       "prompt_number": 6,
       "text": [
        "{'epr': array(2.6),\n",
        " 'epr2': array(-0.026),\n",
        " 'epsr': (2.6-0.026j),\n",
        " 'fGHz': 4,\n",
        " 'index': 11,\n",
        " 'mur': 1,\n",
        " 'n': (1.6124717046742498-0.0080621569744854828j),\n",
        " 'name': 'wall2',\n",
        " 'roughness': 0,\n",
        " 'sigma': 0.0057777777777777775}"
       ]
      }
     ],
     "prompt_number": 6
    },
    {
     "cell_type": "code",
     "collapsed": false,
     "input": [
      "S['slab2'].info()"
     ],
     "language": "python",
     "metadata": {},
     "outputs": [
      {
       "output_type": "stream",
       "stream": "stdout",
       "text": [
        "------------\n",
        "name :  | wall2 | \n",
        "|---------------|\n",
        "\n",
        "nbmat :  1\n",
        "---------------------------------\n",
        "index 11\n",
        "epr2 -0.026\n",
        "name wall2\n",
        "mur 1\n",
        "epsr (2.6-0.026j)\n",
        "epr 2.6\n",
        "roughness 0\n",
        "n (1.61247170467-0.00806215697449j)\n",
        "fGHz 4\n",
        "sigma 0.00577777777778\n",
        "[ wall2   ]\n",
        "index :  21\n",
        "imat   :  (11, 0, 0, 0, 0, 0, 0, 0)\n",
        "thickness (cm) :  (15.0, 0.0, 0.0, 0.0, 0.0, 0.0, 0.0, 0.0)\n",
        "color :  black\n",
        "linewidth : 1\n"
       ]
      }
     ],
     "prompt_number": 7
    },
    {
     "cell_type": "code",
     "collapsed": false,
     "input": [
      "S['slab2']['lname']"
     ],
     "language": "python",
     "metadata": {},
     "outputs": [
      {
       "output_type": "pyout",
       "prompt_number": 8,
       "text": [
        "['wall2']"
       ]
      }
     ],
     "prompt_number": 8
    },
    {
     "cell_type": "code",
     "collapsed": false,
     "input": [
      "h = 3 \n",
      "x = arange(1,4,0.1)\n",
      "theta= arctan(x/h)"
     ],
     "language": "python",
     "metadata": {},
     "outputs": [
      {
       "ename": "NameError",
       "evalue": "name 'arange' is not defined",
       "output_type": "pyerr",
       "traceback": [
        "\u001b[1;31m---------------------------------------------------------------------------\u001b[0m\n\u001b[1;31mNameError\u001b[0m                                 Traceback (most recent call last)",
        "\u001b[1;32m<ipython-input-9-333844da8013>\u001b[0m in \u001b[0;36m<module>\u001b[1;34m()\u001b[0m\n\u001b[0;32m      1\u001b[0m \u001b[0mh\u001b[0m \u001b[1;33m=\u001b[0m \u001b[1;36m3\u001b[0m\u001b[1;33m\u001b[0m\u001b[0m\n\u001b[1;32m----> 2\u001b[1;33m \u001b[0mx\u001b[0m \u001b[1;33m=\u001b[0m \u001b[0marange\u001b[0m\u001b[1;33m(\u001b[0m\u001b[1;36m1\u001b[0m\u001b[1;33m,\u001b[0m\u001b[1;36m4\u001b[0m\u001b[1;33m,\u001b[0m\u001b[1;36m0.1\u001b[0m\u001b[1;33m)\u001b[0m\u001b[1;33m\u001b[0m\u001b[0m\n\u001b[0m\u001b[0;32m      3\u001b[0m \u001b[0mtheta\u001b[0m\u001b[1;33m=\u001b[0m \u001b[0marctan\u001b[0m\u001b[1;33m(\u001b[0m\u001b[0mx\u001b[0m\u001b[1;33m/\u001b[0m\u001b[0mh\u001b[0m\u001b[1;33m)\u001b[0m\u001b[1;33m\u001b[0m\u001b[0m\n",
        "\u001b[1;31mNameError\u001b[0m: name 'arange' is not defined"
       ]
      }
     ],
     "prompt_number": 9
    },
    {
     "cell_type": "code",
     "collapsed": false,
     "input": [
      "plot(x,theta*180/pi)"
     ],
     "language": "python",
     "metadata": {},
     "outputs": [],
     "prompt_number": 10
    },
    {
     "cell_type": "code",
     "collapsed": false,
     "input": [
      "fGHz=arange(3,5,0.01)\n",
      "S['slab2'].ev(fGHz,theta)"
     ],
     "language": "python",
     "metadata": {},
     "outputs": [],
     "prompt_number": 11
    },
    {
     "cell_type": "code",
     "collapsed": false,
     "input": [
      "S['slab2'].ev"
     ],
     "language": "python",
     "metadata": {},
     "outputs": [],
     "prompt_number": 12
    },
    {
     "cell_type": "code",
     "collapsed": false,
     "input": [
      "figsize(10,10)\n",
      "S['slab2'].pcolor()"
     ],
     "language": "python",
     "metadata": {},
     "outputs": [],
     "prompt_number": 13
    },
    {
     "cell_type": "markdown",
     "metadata": {},
     "source": [
      "Once a slab has been evaluated. "
     ]
    },
    {
     "cell_type": "code",
     "collapsed": false,
     "input": [
      "A=S['slab2']"
     ],
     "language": "python",
     "metadata": {},
     "outputs": [],
     "prompt_number": 14
    },
    {
     "cell_type": "code",
     "collapsed": false,
     "input": [
      "R=A.R"
     ],
     "language": "python",
     "metadata": {},
     "outputs": [],
     "prompt_number": 15
    },
    {
     "cell_type": "markdown",
     "metadata": {},
     "source": [
      "### Slab Information\n",
      "\n",
      "Each slab contains informations about its constitutive materials electromagnetic properties.\n",
      "\n",
      "Below an example for a simple slab, constituted with a single material. The slab 'WOOD' is made of material 'WOOD'\n",
      "\n"
     ]
    },
    {
     "cell_type": "code",
     "collapsed": false,
     "input": [
      "S['WOOD']['lname']"
     ],
     "language": "python",
     "metadata": {},
     "outputs": [],
     "prompt_number": 20
    },
    {
     "cell_type": "code",
     "collapsed": false,
     "input": [
      "S['WOOD']['lthick']"
     ],
     "language": "python",
     "metadata": {},
     "outputs": [],
     "prompt_number": 21
    },
    {
     "cell_type": "code",
     "collapsed": false,
     "input": [
      "S['WOOD']['color']"
     ],
     "language": "python",
     "metadata": {},
     "outputs": [],
     "prompt_number": 22
    },
    {
     "cell_type": "code",
     "collapsed": false,
     "input": [
      "S['WOOD']['linewidth']"
     ],
     "language": "python",
     "metadata": {},
     "outputs": [],
     "prompt_number": 23
    },
    {
     "cell_type": "markdown",
     "metadata": {},
     "source": [
      "Multi layers Slab, using different stacks of materials can be easily defined using the two lists **lmatname** and **lthick**."
     ]
    },
    {
     "cell_type": "code",
     "collapsed": false,
     "input": [
      "S['3D_WINDOW_GLASS']['lname']"
     ],
     "language": "python",
     "metadata": {},
     "outputs": [],
     "prompt_number": 25
    },
    {
     "cell_type": "code",
     "collapsed": false,
     "input": [
      "S['3D_WINDOW_GLASS']['lthick']"
     ],
     "language": "python",
     "metadata": {},
     "outputs": [],
     "prompt_number": 26
    },
    {
     "cell_type": "markdown",
     "metadata": {},
     "source": [
      "For each constitutive material of a slab, their electromagnetic properties can be obtained as:"
     ]
    },
    {
     "cell_type": "code",
     "collapsed": false,
     "input": [
      "S['3D_WINDOW_GLASS']['lmat']"
     ],
     "language": "python",
     "metadata": {},
     "outputs": [],
     "prompt_number": 27
    },
    {
     "cell_type": "heading",
     "level": 3,
     "metadata": {},
     "source": [
      "Slab evaluation"
     ]
    },
    {
     "cell_type": "markdown",
     "metadata": {},
     "source": [
      "Each Slab can be evaluated to obtain the Transmission and Reflexion coefficients for \n",
      "\n",
      "+ a given frequency range\n",
      "+ a given incidence angle range  ($0\\le\\theta<\\frac{\\pi}{2}$)"
     ]
    },
    {
     "cell_type": "code",
     "collapsed": false,
     "input": [
      "fGHz = np.arange(3,5,0.01)\n",
      "theta = np.arange(0,pi/2,0.01)\n",
      "\n",
      "S['WOOD'].ev(fGHz,theta,compensate=True)\n",
      "sR = np.shape(S['WOOD'].R) \n",
      "print '\\nHere, slab is evaluted for',sR[0],'frequency(ies)', 'and',sR[1], 'angle(s)\\n'"
     ],
     "language": "python",
     "metadata": {},
     "outputs": [],
     "prompt_number": 28
    },
    {
     "cell_type": "heading",
     "level": 3,
     "metadata": {},
     "source": [
      "Transmission and Reflexion coefficient"
     ]
    },
    {
     "cell_type": "markdown",
     "metadata": {},
     "source": [
      "\n",
      "From the evaluation reflexion and tramsmission coefficient are computed for the given frequency range and theta range"
     ]
    },
    {
     "cell_type": "code",
     "collapsed": false,
     "input": [
      "ifreq=1\n",
      "ithet=10\n",
      "\n",
      "print '\\nReflection coefficient @',fGHz[ifreq],'GHz and theta=',theta[ithet],':\\n\\n R=',S['WOOD'].R[0,0]\n",
      "print '\\nTransmission coefficient @',fGHz[ifreq],'GHz and theta=',theta[ithet],':\\n\\n T=',S['WOOD'].T[0,0],'\\n'\n"
     ],
     "language": "python",
     "metadata": {},
     "outputs": [],
     "prompt_number": 29
    },
    {
     "cell_type": "markdown",
     "metadata": {},
     "source": [
      "### Ploting Coefficients\n"
     ]
    },
    {
     "cell_type": "markdown",
     "metadata": {},
     "source": [
      "         plotwrt\n",
      "         \n",
      "         Parameters\n",
      "         ----------\n",
      "\n",
      "         kv  : int\n",
      "            variable index\n",
      "         polar: string \n",
      "                'po', # po | p | o   (parallel+ortho | parallel | ortogonal)\n",
      "         coeff: string \n",
      "                'RT', # RT | R | T   (Reflexion & Transmission ) | Reflexion | Transmission \n",
      "         var:  string \n",
      "                'a',    # a | f       angle | frequency \n",
      "         types : string \n",
      "                'm' | 'r' | 'd' | 'l20'\n",
      "                mod   rad    deg   dB\n"
     ]
    },
    {
     "cell_type": "code",
     "collapsed": false,
     "input": [
      "fig,ax = S['WOOD'].plotwrt(var='f',coeff='R',polar='p')"
     ],
     "language": "python",
     "metadata": {},
     "outputs": [],
     "prompt_number": 30
    },
    {
     "cell_type": "markdown",
     "metadata": {},
     "source": [
      "with respect to angle"
     ]
    },
    {
     "cell_type": "code",
     "collapsed": false,
     "input": [
      "figsize=(10,10)\n",
      "fGHz= np.array([2.4])\n",
      "S['WOOD'].ev(fGHz,theta)\n",
      "fig,ax = S['WOOD'].plotwrt(var='a',coeff='R')"
     ],
     "language": "python",
     "metadata": {},
     "outputs": [],
     "prompt_number": 31
    },
    {
     "cell_type": "markdown",
     "metadata": {},
     "source": [
      "wrt to angle and frequency "
     ]
    },
    {
     "cell_type": "code",
     "collapsed": false,
     "input": [
      "fGHz= np.arange(0.7,5.2,0.1)\n",
      "S['WOOD'].ev(fGHz,theta)\n",
      "S['WOOD'].pcolor()"
     ],
     "language": "python",
     "metadata": {},
     "outputs": [],
     "prompt_number": 32
    },
    {
     "cell_type": "code",
     "collapsed": false,
     "input": [],
     "language": "python",
     "metadata": {},
     "outputs": [],
     "prompt_number": 32
    }
   ],
   "metadata": {}
  }
 ]
}