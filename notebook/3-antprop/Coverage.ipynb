{
 "metadata": {
  "name": ""
 },
 "nbformat": 3,
 "nbformat_minor": 0,
 "worksheets": [
  {
   "cells": [
    {
     "cell_type": "markdown",
     "metadata": {},
     "source": [
      "# Initialization"
     ]
    },
    {
     "cell_type": "markdown",
     "metadata": {},
     "source": [
      "Import the `coverage` module"
     ]
    },
    {
     "cell_type": "code",
     "collapsed": false,
     "input": [
      "from pylayers.antprop.coverage import *\n",
      "import time"
     ],
     "language": "python",
     "metadata": {},
     "outputs": [],
     "prompt_number": 1
    },
    {
     "cell_type": "markdown",
     "metadata": {},
     "source": [
      "Instantiate a coverage object.\n",
      "By defaut, `TA-Office.str` layout strucure is loaded.\n",
      "\n",
      "This information can be modified in the **coverage.ini** file in the project directory.\n",
      "\n",
      "Below is an example of how the content of the file looks like"
     ]
    },
    {
     "cell_type": "markdown",
     "metadata": {},
     "source": [
      "    [pl_model]\n",
      "    sigrss = 3.0\n",
      "    f = 3.0\n",
      "    rssnp = 2.64\n",
      "    d0 = 1.0\n",
      "\n",
      "\n",
      "    [grid]\n",
      "    xstep= 40\n",
      "    ystep= 20\n",
      "\n",
      "    [layout]\n",
      "    ;filename = TA-Office.ini\n",
      "    ;filename = Lstruc.ini\n",
      "    filenbame = DLR.ini\n",
      "\n",
      "    [tx]\n",
      "    x = -10\n",
      "    y = 10 \n",
      "    ;transmitted power (dBm)\n",
      "    ptdbm = 0\n",
      "    ; frame length in bytes\n",
      "    framelengthbytes = 50000 \n",
      "\n",
      "    [rx]\n",
      "    sensitivity  = -80\n",
      "    bandwidthmhz = 3\n",
      "    temperaturek = 300\n",
      "    noisefactordb = 13\n",
      "\n",
      "    [show]\n",
      "    show = True\n"
     ]
    },
    {
     "cell_type": "code",
     "collapsed": false,
     "input": [
      "# Create a Coverage object from coverag.ini file\n",
      "C = Coverage()\n",
      "print C"
     ],
     "language": "python",
     "metadata": {},
     "outputs": [
      {
       "output_type": "stream",
       "stream": "stderr",
       "text": [
        "WARNING:root:first decompose run failed\n"
       ]
      },
      {
       "ename": "AttributeError",
       "evalue": "'Layout' object has no attribute 'di'",
       "output_type": "pyerr",
       "traceback": [
        "\u001b[1;31m---------------------------------------------------------------------------\u001b[0m\n\u001b[1;31mAttributeError\u001b[0m                            Traceback (most recent call last)",
        "\u001b[1;32m<ipython-input-2-c20edfd01871>\u001b[0m in \u001b[0;36m<module>\u001b[1;34m()\u001b[0m\n\u001b[0;32m      1\u001b[0m \u001b[1;31m# Create a Coverage object from coverag.ini file\u001b[0m\u001b[1;33m\u001b[0m\u001b[1;33m\u001b[0m\u001b[0m\n\u001b[1;32m----> 2\u001b[1;33m \u001b[0mC\u001b[0m \u001b[1;33m=\u001b[0m \u001b[0mCoverage\u001b[0m\u001b[1;33m(\u001b[0m\u001b[1;33m)\u001b[0m\u001b[1;33m\u001b[0m\u001b[0m\n\u001b[0m\u001b[0;32m      3\u001b[0m \u001b[1;32mprint\u001b[0m \u001b[0mC\u001b[0m\u001b[1;33m\u001b[0m\u001b[0m\n",
        "\u001b[1;32m/home/uguen/Documents/rch/devel/pylayers/pylayers/antprop/coverage.pyc\u001b[0m in \u001b[0;36m__init__\u001b[1;34m(self, _fileini)\u001b[0m\n\u001b[0;32m     99\u001b[0m         \u001b[1;32mexcept\u001b[0m\u001b[1;33m:\u001b[0m\u001b[1;33m\u001b[0m\u001b[0m\n\u001b[0;32m    100\u001b[0m             \u001b[0mself\u001b[0m\u001b[1;33m.\u001b[0m\u001b[0mL\u001b[0m\u001b[1;33m.\u001b[0m\u001b[0mbuildGt\u001b[0m\u001b[1;33m(\u001b[0m\u001b[1;33m)\u001b[0m\u001b[1;33m\u001b[0m\u001b[0m\n\u001b[1;32m--> 101\u001b[1;33m             \u001b[0mself\u001b[0m\u001b[1;33m.\u001b[0m\u001b[0mL\u001b[0m\u001b[1;33m.\u001b[0m\u001b[0mdumpw\u001b[0m\u001b[1;33m(\u001b[0m\u001b[1;34m't'\u001b[0m\u001b[1;33m)\u001b[0m\u001b[1;33m\u001b[0m\u001b[0m\n\u001b[0m\u001b[0;32m    102\u001b[0m \u001b[1;33m\u001b[0m\u001b[0m\n\u001b[0;32m    103\u001b[0m         \u001b[0mself\u001b[0m\u001b[1;33m.\u001b[0m\u001b[0mcreategrid\u001b[0m\u001b[1;33m(\u001b[0m\u001b[0mfull\u001b[0m\u001b[1;33m=\u001b[0m\u001b[0mself\u001b[0m\u001b[1;33m.\u001b[0m\u001b[0mmode\u001b[0m\u001b[1;33m,\u001b[0m\u001b[0mboundary\u001b[0m\u001b[1;33m=\u001b[0m\u001b[0mself\u001b[0m\u001b[1;33m.\u001b[0m\u001b[0mboundary\u001b[0m\u001b[1;33m)\u001b[0m\u001b[1;33m\u001b[0m\u001b[0m\n",
        "\u001b[1;32m/home/uguen/Documents/rch/devel/pylayers/pylayers/gis/layout.pyc\u001b[0m in \u001b[0;36mdumpw\u001b[1;34m(self, graph)\u001b[0m\n\u001b[0;32m   4003\u001b[0m                     \u001b[1;32mraise\u001b[0m \u001b[0mNameError\u001b[0m\u001b[1;33m(\u001b[0m\u001b[1;34m'G'\u001b[0m\u001b[1;33m+\u001b[0m\u001b[0mg\u001b[0m\u001b[1;33m+\u001b[0m\u001b[1;34m' graph cannot be saved, probably because it has not been built'\u001b[0m\u001b[1;33m)\u001b[0m\u001b[1;33m\u001b[0m\u001b[0m\n\u001b[0;32m   4004\u001b[0m         \u001b[1;31m# save dictionnary which maps string interaction to [interactionnode, interaction type]\u001b[0m\u001b[1;33m\u001b[0m\u001b[1;33m\u001b[0m\u001b[0m\n\u001b[1;32m-> 4005\u001b[1;33m         \u001b[0mwrite_gpickle\u001b[0m\u001b[1;33m(\u001b[0m\u001b[0mgetattr\u001b[0m\u001b[1;33m(\u001b[0m\u001b[0mself\u001b[0m\u001b[1;33m,\u001b[0m\u001b[1;34m'di'\u001b[0m\u001b[1;33m)\u001b[0m\u001b[1;33m,\u001b[0m\u001b[0mbasename\u001b[0m\u001b[1;33m+\u001b[0m\u001b[1;34m'/struc/gpickle/di_'\u001b[0m\u001b[1;33m+\u001b[0m\u001b[0mself\u001b[0m\u001b[1;33m.\u001b[0m\u001b[0mfilename\u001b[0m\u001b[1;33m+\u001b[0m\u001b[1;34m'.gpickle'\u001b[0m\u001b[1;33m)\u001b[0m\u001b[1;33m\u001b[0m\u001b[0m\n\u001b[0m\u001b[0;32m   4006\u001b[0m         \u001b[0mwrite_gpickle\u001b[0m\u001b[1;33m(\u001b[0m\u001b[0mgetattr\u001b[0m\u001b[1;33m(\u001b[0m\u001b[0mself\u001b[0m\u001b[1;33m,\u001b[0m\u001b[1;34m'dca'\u001b[0m\u001b[1;33m)\u001b[0m\u001b[1;33m,\u001b[0m\u001b[0mbasename\u001b[0m\u001b[1;33m+\u001b[0m\u001b[1;34m'/struc/gpickle/dca_'\u001b[0m\u001b[1;33m+\u001b[0m\u001b[0mself\u001b[0m\u001b[1;33m.\u001b[0m\u001b[0mfilename\u001b[0m\u001b[1;33m+\u001b[0m\u001b[1;34m'.gpickle'\u001b[0m\u001b[1;33m)\u001b[0m\u001b[1;33m\u001b[0m\u001b[0m\n\u001b[0;32m   4007\u001b[0m \u001b[1;33m\u001b[0m\u001b[0m\n",
        "\u001b[1;31mAttributeError\u001b[0m: 'Layout' object has no attribute 'di'"
       ]
      }
     ],
     "prompt_number": 2
    },
    {
     "cell_type": "code",
     "collapsed": false,
     "input": [
      "# evaluate coverage \n",
      "C.cover()"
     ],
     "language": "python",
     "metadata": {},
     "outputs": [],
     "prompt_number": 4
    },
    {
     "cell_type": "markdown",
     "metadata": {},
     "source": [
      "# Calculating Received Power Coverage"
     ]
    },
    {
     "cell_type": "markdown",
     "metadata": {},
     "source": [
      "Coverage required the Layout graphs have been produced.\n",
      "\n",
      "- If the graphs for the given layout have already been built, they are loaded from the project directory. \n",
      "- Otherwise, they are built  **(it may take few minutes depending on the layout complexity)** and stored into the project directory for the next execution.\n"
     ]
    },
    {
     "cell_type": "code",
     "collapsed": false,
     "input": [
      "try :\n",
      "    C.L.dumpr()\n",
      "except:\n",
      "    C.L.build()"
     ],
     "language": "python",
     "metadata": {},
     "outputs": [],
     "prompt_number": 5
    },
    {
     "cell_type": "markdown",
     "metadata": {},
     "source": [
      "Then, the coverage calculation can be launched in calling the `cover` method"
     ]
    },
    {
     "cell_type": "code",
     "collapsed": false,
     "input": [
      "C.L.display['nodes']=False\n",
      "C.L.display['ednodes']=False\n",
      "C.L.showGs()"
     ],
     "language": "python",
     "metadata": {},
     "outputs": [],
     "prompt_number": 6
    },
    {
     "cell_type": "markdown",
     "metadata": {},
     "source": [
      "The shadowing map coverage results can be displayed by invoquing various functions.\n",
      "\n",
      "+ showLoss : display the path loss\n",
      "+ showPower : display the received power"
     ]
    },
    {
     "cell_type": "code",
     "collapsed": false,
     "input": [
      "C.fGHz=0.915\n",
      "C.cover()\n",
      "C.showPower()"
     ],
     "language": "python",
     "metadata": {},
     "outputs": [],
     "prompt_number": 7
    },
    {
     "cell_type": "code",
     "collapsed": false,
     "input": [
      "C.fGHz=2.4\n",
      "C.cover()\n",
      "C.showPower()"
     ],
     "language": "python",
     "metadata": {},
     "outputs": [],
     "prompt_number": 8
    },
    {
     "cell_type": "code",
     "collapsed": false,
     "input": [
      "C.fGHz=0.1\n",
      "C.cover()\n",
      "C.showPower()"
     ],
     "language": "python",
     "metadata": {},
     "outputs": [],
     "prompt_number": 11
    },
    {
     "cell_type": "markdown",
     "metadata": {},
     "source": [
      "The transmitter coordinates are : "
     ]
    },
    {
     "cell_type": "code",
     "collapsed": false,
     "input": [
      "C.tx"
     ],
     "language": "python",
     "metadata": {},
     "outputs": [],
     "prompt_number": 12
    },
    {
     "cell_type": "markdown",
     "metadata": {},
     "source": [
      "This can be modified on the flight, and the coverage is updated"
     ]
    },
    {
     "cell_type": "code",
     "collapsed": false,
     "input": [
      "C.tx = np.array((21,2))\n",
      "\n",
      "%timeit\n",
      "C.cover()\n",
      "\n",
      "C.showLoss(polarization='o')\n",
      "C.showPower(polarization='o')\n",
      "C.showLoss(polarization='p')\n",
      "C.showPower(polarization='p')"
     ],
     "language": "python",
     "metadata": {},
     "outputs": [],
     "prompt_number": 14
    },
    {
     "cell_type": "markdown",
     "metadata": {},
     "source": [
      "The excess delay due to crossing the wall can also be evaluted."
     ]
    }
   ],
   "metadata": {}
  }
 ]
}