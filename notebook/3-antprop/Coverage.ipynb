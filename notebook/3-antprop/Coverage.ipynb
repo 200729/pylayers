{
 "metadata": {
  "name": ""
 },
 "nbformat": 3,
 "nbformat_minor": 0,
 "worksheets": [
  {
   "cells": [
    {
     "cell_type": "markdown",
     "metadata": {},
     "source": [
      "# Coverage with a Multi Wall model "
     ]
    },
    {
     "cell_type": "markdown",
     "metadata": {},
     "source": [
      "> Sometimes it might be useful to get a rough information about losses in a given indoor environment. \n",
      "> Ray tracing is generallay quite time consuming and depending on the purpose of the study it could be sometimes also relevant \n",
      "> to proceed with a simpler approach while stil site-specific. This is why `PyLayers` provides such a tool which heavily relies on the core module `slab.py`"
     ]
    },
    {
     "cell_type": "markdown",
     "metadata": {},
     "source": [
      "First let's import the `coverage` module"
     ]
    },
    {
     "cell_type": "code",
     "collapsed": false,
     "input": [
      "from pylayers.antprop.coverage import *\n",
      "import time"
     ],
     "language": "python",
     "metadata": {},
     "outputs": [],
     "prompt_number": 1
    },
    {
     "cell_type": "markdown",
     "metadata": {},
     "source": [
      "Instantiate a coverage object.\n",
      "By defaut, `TA-Office.str` layout strucure is loaded.\n",
      "\n",
      "This information can be modified in the **coverage.ini** file in the project directory.\n",
      "\n",
      "Below is an example of how the content of the file looks like"
     ]
    },
    {
     "cell_type": "code",
     "collapsed": false,
     "input": [
      "!cat $BASENAME/ini/coverage.ini"
     ],
     "language": "python",
     "metadata": {},
     "outputs": [
      {
       "output_type": "stream",
       "stream": "stdout",
       "text": [
        "[pl_model]\r\n",
        "sigrss = 3.0\r\n",
        "fGHz = 3.0\r\n",
        "rssnp = 2.64\r\n",
        "d0 = 1.0\r\n",
        "\r\n",
        "\r\n",
        "[grid]\r\n",
        "nx = 80\r\n",
        "ny = 40\r\n",
        "boundary = [20,0,30,20]\r\n",
        "full = True\r\n",
        "\r\n",
        "[layout]\r\n",
        ";filename = TA-Office.ini\r\n",
        "filename = W2PTIN.ini\r\n",
        ";filename = Lstruc.str\r\n",
        "\r\n",
        "[tx]\r\n",
        "fGHz = 3.0\r\n",
        "x = 25\r\n",
        "y = 5 \r\n",
        ";transmitted power (dBm)\r\n",
        "ptdbm = 0\r\n",
        "; frame length in bytes\r\n",
        "framelengthbytes = 50000 \r\n",
        "\r\n",
        "[rx]\r\n",
        "sensitivity  = -80\r\n",
        "bandwidthmhz = 3\r\n",
        "temperaturek = 300\r\n",
        "noisefactordb = 13\r\n",
        "\r\n",
        "[show]\r\n",
        "show = True\r\n"
       ]
      }
     ],
     "prompt_number": 2
    },
    {
     "cell_type": "code",
     "collapsed": false,
     "input": [
      "# Create a Coverage object from coverag.ini file\n",
      "C = Coverage()"
     ],
     "language": "python",
     "metadata": {},
     "outputs": [
      {
       "output_type": "stream",
       "stream": "stderr",
       "text": [
        "WARNING:root:first decompose run failed\n"
       ]
      }
     ],
     "prompt_number": 3
    },
    {
     "cell_type": "markdown",
     "metadata": {},
     "source": [
      "The coverage object has a `__repr__` which summarizes the different parameters of the current coverage object"
     ]
    },
    {
     "cell_type": "code",
     "collapsed": false,
     "input": [
      "C"
     ],
     "language": "python",
     "metadata": {},
     "outputs": [
      {
       "output_type": "pyout",
       "prompt_number": 4,
       "text": [
        "Layout file : W2PTIN.ini\n",
        "\n",
        "-----Tx------\n",
        "tx (coord) : [25  5]\n",
        "fghz : 3.0\n",
        "Pt (dBm) : 0\n",
        "\n",
        "-----Rx------\n",
        "rxsens (dBm) : -80\n",
        "bandwith (Mhz) : 3\n",
        "temperature (K) : 300\n",
        "noisefactor (dB) : 13\n",
        "\n",
        "--- Grid ----\n",
        "nx : 80\n",
        "ny : 40\n",
        "full grid : True\n",
        "boundary (xmin,ymin,xmax,ymax) : [20, 0, 30, 20]\n",
        "\n",
        "---- PL Model------\n",
        "plm : {'fghz': '3.0', 'rssnp': '2.64', 'd0': '1.0', 'sigrss': '3.0'}\n"
       ]
      }
     ],
     "prompt_number": 4
    },
    {
     "cell_type": "code",
     "collapsed": false,
     "input": [
      "# evaluate coverage \n",
      "C.cover()"
     ],
     "language": "python",
     "metadata": {},
     "outputs": [],
     "prompt_number": 5
    },
    {
     "cell_type": "markdown",
     "metadata": {},
     "source": [
      "# Calculating Received Power Coverage"
     ]
    },
    {
     "cell_type": "markdown",
     "metadata": {},
     "source": [
      "Then, the coverage calculation can be launched in calling the `cover` method"
     ]
    },
    {
     "cell_type": "code",
     "collapsed": false,
     "input": [
      "C.L.display['nodes']=False\n",
      "C.L.display['ednodes']=False\n",
      "C.L.showGs()"
     ],
     "language": "python",
     "metadata": {},
     "outputs": [
      {
       "output_type": "pyout",
       "prompt_number": 6,
       "text": [
        "(<matplotlib.figure.Figure at 0x57dbe90>,\n",
        " <matplotlib.axes.AxesSubplot at 0x7faa981000d0>)"
       ]
      }
     ],
     "prompt_number": 6
    },
    {
     "cell_type": "markdown",
     "metadata": {},
     "source": [
      "The shadowing map coverage results can be displayed by invoquing various functions.\n",
      "\n",
      "+ showLoss : display the path loss\n",
      "+ showPower : display the received power"
     ]
    },
    {
     "cell_type": "code",
     "collapsed": false,
     "input": [
      "C.fGHz=0.915\n",
      "C.cover()\n",
      "C.showPower()"
     ],
     "language": "python",
     "metadata": {},
     "outputs": [
      {
       "output_type": "pyout",
       "prompt_number": 7,
       "text": [
        "(<matplotlib.figure.Figure at 0x7faa980e7290>,\n",
        " <matplotlib.axes.AxesSubplot at 0x7faa980e7210>)"
       ]
      }
     ],
     "prompt_number": 7
    },
    {
     "cell_type": "code",
     "collapsed": false,
     "input": [
      "C.fGHz=2.4\n",
      "C.cover()\n",
      "C.showPower()"
     ],
     "language": "python",
     "metadata": {},
     "outputs": [
      {
       "output_type": "pyout",
       "prompt_number": 8,
       "text": [
        "(<matplotlib.figure.Figure at 0x7faa989560d0>,\n",
        " <matplotlib.axes.AxesSubplot at 0x7faa989562d0>)"
       ]
      }
     ],
     "prompt_number": 8
    },
    {
     "cell_type": "code",
     "collapsed": false,
     "input": [
      "C.fGHz=0.1\n",
      "C.cover()\n",
      "C.showPower()"
     ],
     "language": "python",
     "metadata": {},
     "outputs": [
      {
       "output_type": "pyout",
       "prompt_number": 9,
       "text": [
        "(<matplotlib.figure.Figure at 0x6a3fb50>,\n",
        " <matplotlib.axes.AxesSubplot at 0x6a3ffd0>)"
       ]
      }
     ],
     "prompt_number": 9
    },
    {
     "cell_type": "markdown",
     "metadata": {},
     "source": [
      "The transmitter coordinates are : "
     ]
    },
    {
     "cell_type": "code",
     "collapsed": false,
     "input": [
      "C.tx"
     ],
     "language": "python",
     "metadata": {},
     "outputs": [
      {
       "output_type": "pyout",
       "prompt_number": 10,
       "text": [
        "array([25,  5])"
       ]
      }
     ],
     "prompt_number": 10
    },
    {
     "cell_type": "markdown",
     "metadata": {},
     "source": [
      "This can be modified on the flight, and the coverage is updated accordingly"
     ]
    },
    {
     "cell_type": "code",
     "collapsed": false,
     "input": [
      "C.tx = np.array((21,2))\n",
      "\n",
      "%timeit\n",
      "C.cover()\n",
      "\n",
      "C.showLoss(polar='o')\n",
      "C.showPower(polar='o')\n",
      "C.showLoss(polar='p')\n",
      "C.showPower(polar='p')"
     ],
     "language": "python",
     "metadata": {},
     "outputs": [
      {
       "output_type": "pyout",
       "prompt_number": 11,
       "text": [
        "(<matplotlib.figure.Figure at 0x6f55b90>,\n",
        " <matplotlib.axes.AxesSubplot at 0x7faa9aed27d0>)"
       ]
      }
     ],
     "prompt_number": 11
    },
    {
     "cell_type": "code",
     "collapsed": false,
     "input": [
      "from IPython.core.display import HTML\n",
      "\n",
      "def css_styling():\n",
      "    styles = open(\"../styles/custom.css\", \"r\").read()\n",
      "    return HTML(styles)\n",
      "css_styling()"
     ],
     "language": "python",
     "metadata": {},
     "outputs": [
      {
       "ename": "IOError",
       "evalue": "[Errno 2] Aucun fichier ou dossier de ce type: '../styles/custom.css'",
       "output_type": "pyerr",
       "traceback": [
        "\u001b[1;31m---------------------------------------------------------------------------\u001b[0m\n\u001b[1;31mIOError\u001b[0m                                   Traceback (most recent call last)",
        "\u001b[1;32m<ipython-input-12-c7949896ef01>\u001b[0m in \u001b[0;36m<module>\u001b[1;34m()\u001b[0m\n\u001b[0;32m      4\u001b[0m     \u001b[0mstyles\u001b[0m \u001b[1;33m=\u001b[0m \u001b[0mopen\u001b[0m\u001b[1;33m(\u001b[0m\u001b[1;34m\"../styles/custom.css\"\u001b[0m\u001b[1;33m,\u001b[0m \u001b[1;34m\"r\"\u001b[0m\u001b[1;33m)\u001b[0m\u001b[1;33m.\u001b[0m\u001b[0mread\u001b[0m\u001b[1;33m(\u001b[0m\u001b[1;33m)\u001b[0m\u001b[1;33m\u001b[0m\u001b[0m\n\u001b[0;32m      5\u001b[0m     \u001b[1;32mreturn\u001b[0m \u001b[0mHTML\u001b[0m\u001b[1;33m(\u001b[0m\u001b[0mstyles\u001b[0m\u001b[1;33m)\u001b[0m\u001b[1;33m\u001b[0m\u001b[0m\n\u001b[1;32m----> 6\u001b[1;33m \u001b[0mcss_styling\u001b[0m\u001b[1;33m(\u001b[0m\u001b[1;33m)\u001b[0m\u001b[1;33m\u001b[0m\u001b[0m\n\u001b[0m",
        "\u001b[1;32m<ipython-input-12-c7949896ef01>\u001b[0m in \u001b[0;36mcss_styling\u001b[1;34m()\u001b[0m\n\u001b[0;32m      2\u001b[0m \u001b[1;33m\u001b[0m\u001b[0m\n\u001b[0;32m      3\u001b[0m \u001b[1;32mdef\u001b[0m \u001b[0mcss_styling\u001b[0m\u001b[1;33m(\u001b[0m\u001b[1;33m)\u001b[0m\u001b[1;33m:\u001b[0m\u001b[1;33m\u001b[0m\u001b[0m\n\u001b[1;32m----> 4\u001b[1;33m     \u001b[0mstyles\u001b[0m \u001b[1;33m=\u001b[0m \u001b[0mopen\u001b[0m\u001b[1;33m(\u001b[0m\u001b[1;34m\"../styles/custom.css\"\u001b[0m\u001b[1;33m,\u001b[0m \u001b[1;34m\"r\"\u001b[0m\u001b[1;33m)\u001b[0m\u001b[1;33m.\u001b[0m\u001b[0mread\u001b[0m\u001b[1;33m(\u001b[0m\u001b[1;33m)\u001b[0m\u001b[1;33m\u001b[0m\u001b[0m\n\u001b[0m\u001b[0;32m      5\u001b[0m     \u001b[1;32mreturn\u001b[0m \u001b[0mHTML\u001b[0m\u001b[1;33m(\u001b[0m\u001b[0mstyles\u001b[0m\u001b[1;33m)\u001b[0m\u001b[1;33m\u001b[0m\u001b[0m\n\u001b[0;32m      6\u001b[0m \u001b[0mcss_styling\u001b[0m\u001b[1;33m(\u001b[0m\u001b[1;33m)\u001b[0m\u001b[1;33m\u001b[0m\u001b[0m\n",
        "\u001b[1;31mIOError\u001b[0m: [Errno 2] Aucun fichier ou dossier de ce type: '../styles/custom.css'"
       ]
      }
     ],
     "prompt_number": 12
    },
    {
     "cell_type": "markdown",
     "metadata": {},
     "source": [
      "The excess delay due to crossing the wall can also be evaluted."
     ]
    }
   ],
   "metadata": {}
  }
 ]
}