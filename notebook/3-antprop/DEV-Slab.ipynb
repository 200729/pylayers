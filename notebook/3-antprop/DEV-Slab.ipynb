{
 "metadata": {
  "name": ""
 },
 "nbformat": 3,
 "nbformat_minor": 0,
 "worksheets": [
  {
   "cells": [
    {
     "cell_type": "markdown",
     "metadata": {},
     "source": [
      "\n",
      "\n",
      "# Transmision and Reflection on a Slab"
     ]
    },
    {
     "cell_type": "markdown",
     "metadata": {},
     "source": [
      "A slab is an object which represents an arbitrary multi layer of dielectric materials. It is handle in the `pylayers.antprop.slab` module. "
     ]
    },
    {
     "cell_type": "code",
     "collapsed": false,
     "input": [
      "from pylayers.antprop.slab import *"
     ],
     "language": "python",
     "metadata": {},
     "outputs": [],
     "prompt_number": 1
    },
    {
     "cell_type": "markdown",
     "metadata": {},
     "source": [
      "In practice when describing a specific building, it is necessary to specify a set of different slabs with different characteristics. The structure which gathers this set is `SlabDB`. \n",
      "If no argument is provided, this structure is initialized with the default file: [slabDB.ini](https://github.com/pylayers/pylayers/blob/master/data/ini/slabDB.ini)\n",
      "\n",
      "One can just now create such a collection `sl`. "
     ]
    },
    {
     "cell_type": "code",
     "collapsed": false,
     "input": [
      "sl = SlabDB()"
     ],
     "language": "python",
     "metadata": {},
     "outputs": [],
     "prompt_number": 2
    },
    {
     "cell_type": "markdown",
     "metadata": {},
     "source": [
      "To add a new material "
     ]
    },
    {
     "cell_type": "code",
     "collapsed": false,
     "input": [
      "sl.mat.add(name='TESS-p50',cval=3+0j,sigma=0.06,typ='epsr')"
     ],
     "language": "python",
     "metadata": {},
     "outputs": [],
     "prompt_number": 3
    },
    {
     "cell_type": "code",
     "collapsed": false,
     "input": [
      "\n",
      "sl.add(name='TESS-p50-5cm',lname=['TESS-p50'],lthick=[0.05])\n",
      "sl.add(name='TESS-p50-10cm',lname=['TESS-p50'],lthick=[0.10])\n",
      "sl.add(name='TESS-p50-15cm',lname=['TESS-p50'],lthick=[0.15])"
     ],
     "language": "python",
     "metadata": {},
     "outputs": [],
     "prompt_number": 4
    },
    {
     "cell_type": "code",
     "collapsed": false,
     "input": [
      "fGHz=4\n",
      "theta = np.arange(0,np.pi/2,0.01)"
     ],
     "language": "python",
     "metadata": {},
     "outputs": [],
     "prompt_number": 5
    },
    {
     "cell_type": "code",
     "collapsed": false,
     "input": [
      "#figure(figsize=(8,8))\n",
      "# These Tessereau page 50 \n",
      "\n",
      "sl['TESS-p50-5cm'].ev(fGHz,theta,compensate=True)\n",
      "sl['TESS-p50-10cm'].ev(fGHz,theta,compensate=True)\n",
      "sl['TESS-p50-15cm'].ev(fGHz,theta,compensate=True)\n",
      "\n",
      "# by default var='a' and kv = 0 \n",
      "\n",
      "fig,ax = sl['TESS-p50-5cm'].plotwrt(color='k',labels=[''])\n",
      "fig,ax = sl['TESS-p50-10cm'].plotwrt(color='k',labels=[''],linestyle='dashed',fig=fig,ax=ax)\n",
      "fig,ax = sl['TESS-p50-15cm'].plotwrt(color='k',labels=[''],linestyle='dashdot',fig=fig,ax=ax)"
     ],
     "language": "python",
     "metadata": {},
     "outputs": [],
     "prompt_number": 6
    },
    {
     "cell_type": "code",
     "collapsed": false,
     "input": [
      "figsize(12,8)\n",
      "fGHz = np.arange(2,16,0.1)\n",
      "theta = 0 \n",
      "\n",
      "sl['TESS-p50-5cm'].ev(fGHz,theta,compensate=False)\n",
      "sl['TESS-p50-10cm'].ev(fGHz,theta,compensate=False)\n",
      "sl['TESS-p50-15cm'].ev(fGHz,theta,compensate=False)\n",
      "    \n",
      "fig,ax = sl['TESS-p50-5cm'].plotwrt('f',coeff='T',types=['ru'],labels=[''],color='k')\n",
      "fig,ax = sl['TESS-p50-10cm'].plotwrt('f',coeff='T',types=['ru'],labels=[''],color='k',linestyle='dashed',fig=fig,ax=ax)\n",
      "fig,ax = sl['TESS-p50-15cm'].plotwrt('f',coeff='T',types=['ru'],labels=[''],color='k',linestyle='dashdot',fig=fig,ax=ax)\n",
      "\n",
      "sl['TESS-p50-5cm'].ev(fGHz,theta,compensate=True)\n",
      "sl['TESS-p50-10cm'].ev(fGHz,theta,compensate=True)\n",
      "sl['TESS-p50-15cm'].ev(fGHz,theta,compensate=True)\n",
      "\n",
      "fig,ax = sl['TESS-p50-5cm'].plotwrt('f',coeff='T',types=['ru'],labels=['5cm compensated',''],color='r',fig=fig,ax=ax)\n",
      "fig,ax = sl['TESS-p50-10cm'].plotwrt('f',coeff='T',types=['ru'],labels=['10cm compensated',''],color='r',linestyle='dashed',fig=fig,ax=ax)\n",
      "fig,ax = sl['TESS-p50-15cm'].plotwrt('f',coeff='T',types=['ru'],labels=['15cm not compensated',''],color='r',linestyle='dashdot',fig=fig,ax=ax) \n"
     ],
     "language": "python",
     "metadata": {},
     "outputs": [],
     "prompt_number": 7
    },
    {
     "cell_type": "code",
     "collapsed": false,
     "input": [
      "fig,ax = sl['TESS-p50-5cm'].plotwrt('f',coeff='T',labels=[''],color='k')\n",
      "fig,ax = sl['TESS-p50-10cm'].plotwrt('f',coeff='T',labels=[''],color='k',linestyle='dashed',fig=fig,ax=ax)\n",
      "fig,ax = sl['TESS-p50-15cm'].plotwrt('f',coeff='T',labels=[''],color='k',linestyle='dashdot',fig=fig,ax=ax)"
     ],
     "language": "python",
     "metadata": {},
     "outputs": [],
     "prompt_number": 19
    },
    {
     "cell_type": "code",
     "collapsed": false,
     "input": [
      "from IPython.core.display import HTML\n",
      "\n",
      "def css_styling():\n",
      "    styles = open(\"../styles/custom.css\", \"r\").read()\n",
      "    return HTML(styles)\n",
      "css_styling()"
     ],
     "language": "python",
     "metadata": {},
     "outputs": [],
     "prompt_number": 20
    }
   ],
   "metadata": {}
  }
 ]
}
