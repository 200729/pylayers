{
 "metadata": {
  "name": ""
 },
 "nbformat": 3,
 "nbformat_minor": 0,
 "worksheets": [
  {
   "cells": [
    {
     "cell_type": "markdown",
     "metadata": {},
     "source": []
    },
    {
     "cell_type": "heading",
     "level": 2,
     "metadata": {},
     "source": [
      "Double Glass example from litterature [1] in sub TeraHertz D-band @ 120GHz"
     ]
    },
    {
     "cell_type": "code",
     "collapsed": false,
     "input": [
      "from pylayers.antprop.slab import * \n",
      "import numpy as np\n",
      "import matplotlib.pylab as plt\n",
      "sl = SlabDB('matDB.ini','slabDB.ini')\n",
      "        \n",
      "sl.mat.add('ConcreteJc',cval=3.5,alpha_cmm1=1.9,fGHz=120,typ='THz')\n",
      "sl.mat.add('GlassJc',cval=2.55,alpha_cmm1=2.4,fGHz=120,typ='THz')\n",
      "sl.add('ConcreteJc',['ConcreteJc'],[0.049])\n",
      "\n",
      "theta = np.linspace(20,60,100)*np.pi/180\n",
      "sl['ConcreteJc'].ev(120,theta)\n",
      "sl['ConcreteJc'].plotwrta(dB=True)\n"
     ],
     "language": "python",
     "metadata": {},
     "outputs": [
      {
       "ename": "AttributeError",
       "evalue": "'Slab' object has no attribute 'plotwrta'",
       "output_type": "pyerr",
       "traceback": [
        "\u001b[1;31m---------------------------------------------------------------------------\u001b[0m\n\u001b[1;31mAttributeError\u001b[0m                            Traceback (most recent call last)",
        "\u001b[1;32m<ipython-input-1-5f19909afe54>\u001b[0m in \u001b[0;36m<module>\u001b[1;34m()\u001b[0m\n\u001b[0;32m     10\u001b[0m \u001b[0mtheta\u001b[0m \u001b[1;33m=\u001b[0m \u001b[0mnp\u001b[0m\u001b[1;33m.\u001b[0m\u001b[0mlinspace\u001b[0m\u001b[1;33m(\u001b[0m\u001b[1;36m20\u001b[0m\u001b[1;33m,\u001b[0m\u001b[1;36m60\u001b[0m\u001b[1;33m,\u001b[0m\u001b[1;36m100\u001b[0m\u001b[1;33m)\u001b[0m\u001b[1;33m*\u001b[0m\u001b[0mnp\u001b[0m\u001b[1;33m.\u001b[0m\u001b[0mpi\u001b[0m\u001b[1;33m/\u001b[0m\u001b[1;36m180\u001b[0m\u001b[1;33m\u001b[0m\u001b[0m\n\u001b[0;32m     11\u001b[0m \u001b[0msl\u001b[0m\u001b[1;33m[\u001b[0m\u001b[1;34m'ConcreteJc'\u001b[0m\u001b[1;33m]\u001b[0m\u001b[1;33m.\u001b[0m\u001b[0mev\u001b[0m\u001b[1;33m(\u001b[0m\u001b[1;36m120\u001b[0m\u001b[1;33m,\u001b[0m\u001b[0mtheta\u001b[0m\u001b[1;33m)\u001b[0m\u001b[1;33m\u001b[0m\u001b[0m\n\u001b[1;32m---> 12\u001b[1;33m \u001b[0msl\u001b[0m\u001b[1;33m[\u001b[0m\u001b[1;34m'ConcreteJc'\u001b[0m\u001b[1;33m]\u001b[0m\u001b[1;33m.\u001b[0m\u001b[0mplotwrta\u001b[0m\u001b[1;33m(\u001b[0m\u001b[0mdB\u001b[0m\u001b[1;33m=\u001b[0m\u001b[0mTrue\u001b[0m\u001b[1;33m)\u001b[0m\u001b[1;33m\u001b[0m\u001b[0m\n\u001b[0m",
        "\u001b[1;31mAttributeError\u001b[0m: 'Slab' object has no attribute 'plotwrta'"
       ]
      }
     ],
     "prompt_number": 1
    },
    {
     "cell_type": "markdown",
     "metadata": {},
     "source": [
      "[1]. [Jacob, M. ; Kurner, T. ; Geise, R. ; Piesiewicz, R.  \"Reflection ant Transmission Properties of Building Materials in D-Band for Modeling Future mm-Wave Communication Systems\" Antennas and Propagation (EuCAP), 2010 Proceedings of the Fourth European Conference on](http://ieeexplore.ieee.org/xpl/articleDetails.jsp?tp=&arnumber=5505315&queryText%3DReflection+ant+Transmission+Properties+of+Building+Materials+in+D-Band+for+Modeling+Future+mm-Wave+Communication+Systems.QT.+Antennas+and+Propagation)\n",
      "\n",
      "\n",
      "        @INPROCEEDINGS{5505315, \n",
      "        author={Jacob, M. and Kurner, T. and Geise, R. and Piesiewicz, R.}, \n",
      "        booktitle={Antennas and Propagation (EuCAP), 2010 Proceedings of the Fourth European Conference on}, \n",
      "        title={Reflection and transmission properties of building materials in D-band for modeling future mm-wave communication systems}, \n",
      "        year={2010}, \n",
      "        pages={1-5}, \n",
      "        keywords={Building materials;Concrete;Density measurement;Frequency;Loss measurement;Optical fiber communication;Particle measurements;Propagation losses;Reflection;Wideband},}\n",
      "\n",
      "\n",
      "[2]. [R.Piesiewicz 'Terahertz characterization of building materials'  Electronics .Letters Jan 2005 Vol 41 N\u00b018](https://www.google.fr/url?sa=t&rct=j&q=&esrc=s&source=web&cd=1&cad=rja&ved=0CCwQFjAA&url=http%3A%2F%2Fwww-ece.rice.edu%2F~daniel%2Fpapers%2FnormanElecLett.pdf&ei=Tr_eUe6EG-OM0AWA0IAw&usg=AFQjCNHzt9H3RkLAtws51E9EpEgyqh-6LA&sig2=QLZlhoTJtiuHAW5Zzg_xOw&bvm=bv.48705608,d.d2k)\n",
      "\n",
      "    @ARTICLE{1507061, \n",
      "    author={Piesiewicz, R. and Kleine-Ostmann, T. and Krumbholz, N. and Mittleman, D. and Koch, M. and Kurner, T.}, \n",
      "    journal={Electronics Letters}, \n",
      "    title={Terahertz characterisation of building materials}, \n",
      "    year={2005}, \n",
      "    volume={41}, \n",
      "    number={18}, \n",
      "    pages={1002-1004}, \n",
      "            keywords={absorption coefficients;building materials;indoor radio;millimetre wave measurement;millimetre wave propagation;picocellular radio;submillimetre wave spectroscopy;telecommunication channels;Fresnel equations;THz characterisation;angular dependent reflection coefficients;building materials;picocellular indoor communication systems;propagation channels;reflective property;time domain spectroscopy;transmission geometry}, \n",
      "    doi={10.1049/el:20052444}, \n",
      "    ISSN={0013-5194},}"
     ]
    },
    {
     "cell_type": "markdown",
     "metadata": {},
     "source": [
      "The following figures should be compared with figure 3a and 3b of [1]"
     ]
    },
    {
     "cell_type": "code",
     "collapsed": false,
     "input": [
      "sl['DoubleGlass'].ev(120,theta)\n",
      "sl['DoubleGlass'].plotwrta(dB=True)"
     ],
     "language": "python",
     "metadata": {},
     "outputs": [],
     "prompt_number": 4
    },
    {
     "cell_type": "code",
     "collapsed": false,
     "input": [
      "freq = np.linspace(110,135,50)\n",
      "sl['DoubleGlass'].ev(freq,theta)\n",
      "sl['DoubleGlass'].plotwrtf(k=0)  # @20\u00b0"
     ],
     "language": "python",
     "metadata": {},
     "outputs": [],
     "prompt_number": 5
    },
    {
     "cell_type": "markdown",
     "metadata": {},
     "source": [
      "Frequency angle representation of reflexion and transmission coefficient, to be compare with figure 3.c and 3d of [1]"
     ]
    },
    {
     "cell_type": "code",
     "collapsed": false,
     "input": [
      "figsize(8,8)\n",
      "freq = np.linspace(110,135,50)\n",
      "\n",
      "sl.add('DoubleGlass',['GlassJc','AIR','GlassJc'],[0.0029,0.0102,0.0029])\n",
      "sl['DoubleGlass'].ev(freq,theta)\n",
      "sl['DoubleGlass'].pcolor(dB=True)"
     ],
     "language": "python",
     "metadata": {},
     "outputs": [],
     "prompt_number": 8
    }
   ],
   "metadata": {}
  }
 ]
}