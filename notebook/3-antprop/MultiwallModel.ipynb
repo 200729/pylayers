{
 "metadata": {
  "name": ""
 },
 "nbformat": 3,
 "nbformat_minor": 0,
 "worksheets": [
  {
   "cells": [
    {
     "cell_type": "markdown",
     "metadata": {},
     "source": [
      "# Multi-wall model "
     ]
    },
    {
     "cell_type": "code",
     "collapsed": false,
     "input": [
      "import time\n",
      "from pylayers.util.project import *\n",
      "import pylayers.util.pyutil as pyu\n",
      "from pylayers.util.utilnet import str2bool\n",
      "from pylayers.gis.layout import Layout\n",
      "from pylayers.antprop.multiwall import *\n",
      "from pylayers.antprop.coverage import *\n",
      "from pylayers.network.model import *"
     ],
     "language": "python",
     "metadata": {},
     "outputs": [],
     "prompt_number": 1
    },
    {
     "cell_type": "markdown",
     "metadata": {},
     "source": [
      "The layout is loaded from an ini file. If the graphs are not available, they are built."
     ]
    },
    {
     "cell_type": "code",
     "collapsed": false,
     "input": [
      "L=Layout('TA-Office.ini')"
     ],
     "language": "python",
     "metadata": {},
     "outputs": [],
     "prompt_number": 2
    },
    {
     "cell_type": "markdown",
     "metadata": {},
     "source": [
      "## Defining a radio link"
     ]
    },
    {
     "cell_type": "markdown",
     "metadata": {},
     "source": [
      "The 2 extremities of the radio link are coordinates in `numpy.array` of transmitter and receiver. \n",
      "\n",
      "+ A a radio node\n",
      "\n",
      "+ B a radio node\n",
      "\n"
     ]
    },
    {
     "cell_type": "code",
     "collapsed": false,
     "input": [
      "A=np.array((4,1)) # defining transmitter position \n",
      "B=np.array((30,12)) # defining receiver position"
     ],
     "language": "python",
     "metadata": {},
     "outputs": [],
     "prompt_number": 3
    },
    {
     "cell_type": "heading",
     "level": 2,
     "metadata": {},
     "source": [
      "Ploting the scene"
     ]
    },
    {
     "cell_type": "markdown",
     "metadata": {},
     "source": [
      "The scene is plotted with the `showG` method of the Layout"
     ]
    },
    {
     "cell_type": "code",
     "collapsed": false,
     "input": [
      "# figure instanciation\n",
      "f = plt.figure(figsize=(25,25))\n",
      "ax = f.add_subplot(111)\n",
      "r = np.array((A,B))\n",
      "# plotting the Layout\n",
      "f,ax = L.showG(fig=f,ax=ax,graph='s',nodes=False)\n",
      "# plotting the Tx and Rx\n",
      "ax.plot(A[0],A[1],'ob')\n",
      "ax.plot(B[0],B[1],'or')\n",
      "# plotting the LOS\n",
      "ax.plot(r[:,0],r[:,1])\n",
      "a = plt.axis('off')"
     ],
     "language": "python",
     "metadata": {},
     "outputs": [],
     "prompt_number": 4
    },
    {
     "cell_type": "markdown",
     "metadata": {},
     "source": [
      "### Finding the intersection between the \"direct\" path and the walls\n",
      "\n",
      "\n",
      "The function `angleonlink` returns the list of intersected segments and the corresponding incidence angles (in radians) with respect to the segment normal."
     ]
    },
    {
     "cell_type": "code",
     "collapsed": false,
     "input": [
      "%pdef L.angleonlink"
     ],
     "language": "python",
     "metadata": {},
     "outputs": [
      {
       "output_type": "stream",
       "stream": "stdout",
       "text": [
        " \u001b[0mL\u001b[0m\u001b[1;33m.\u001b[0m\u001b[0mangleonlink\u001b[0m\u001b[1;33m(\u001b[0m\u001b[0mself\u001b[0m\u001b[1;33m,\u001b[0m \u001b[0mp1\u001b[0m\u001b[1;33m=\u001b[0m\u001b[0marray\u001b[0m\u001b[1;33m(\u001b[0m\u001b[1;33m[\u001b[0m\u001b[1;36m0\u001b[0m\u001b[1;33m,\u001b[0m \u001b[1;36m0\u001b[0m\u001b[1;33m]\u001b[0m\u001b[1;33m)\u001b[0m\u001b[1;33m,\u001b[0m \u001b[0mp2\u001b[0m\u001b[1;33m=\u001b[0m\u001b[0marray\u001b[0m\u001b[1;33m(\u001b[0m\u001b[1;33m[\u001b[0m\u001b[1;36m10\u001b[0m\u001b[1;33m,\u001b[0m  \u001b[1;36m3\u001b[0m\u001b[1;33m]\u001b[0m\u001b[1;33m)\u001b[0m\u001b[1;33m)\u001b[0m\u001b[1;33m\u001b[0m\u001b[0m\n",
        " "
       ]
      }
     ],
     "prompt_number": 5
    },
    {
     "cell_type": "code",
     "collapsed": false,
     "input": [
      "data=L.angleonlink(A,B)"
     ],
     "language": "python",
     "metadata": {},
     "outputs": [],
     "prompt_number": 6
    },
    {
     "cell_type": "markdown",
     "metadata": {},
     "source": [
      "### Computing the Multi-wall model\n",
      "\n",
      "The multi-wall model computation returns losses and LOS excess delay for orthogonal and parallel polarization"
     ]
    },
    {
     "cell_type": "code",
     "collapsed": false,
     "input": [
      "fGHz = 2.4\n",
      "# observation grid\n",
      "\n",
      "r = np.array((B,B))\n",
      "\n",
      "Lwo,Lwp,Edo,Edp = Losst(L,fGHz,r.T,A)\n",
      "\n",
      "print 'Losses orthogonal polarization \\t %g dB' %(Lwo[0][0])\n",
      "print 'Losses parallel polarization \\t %g  dB' % (Lwp[0][0])\n",
      "print 'Excess delay orthogonal polarization  \\t %g ns' %(Edo[0][0])\n",
      "print 'Excess delay parallel polarization   \\t %g ns' %(Edp[0][0])"
     ],
     "language": "python",
     "metadata": {},
     "outputs": [
      {
       "output_type": "stream",
       "stream": "stdout",
       "text": [
        "Losses orthogonal polarization \t 27.7333 dB\n",
        "Losses parallel polarization \t 16.0573  dB\n",
        "Excess delay orthogonal polarization  \t 2.23113 ns\n",
        "Excess delay parallel polarization   \t 2.12364 ns\n"
       ]
      }
     ],
     "prompt_number": 7
    },
    {
     "cell_type": "markdown",
     "metadata": {},
     "source": [
      "# Coverage class"
     ]
    },
    {
     "cell_type": "markdown",
     "metadata": {},
     "source": [
      "By extension, the multi-wall model can also be used to perform a full coverage of a Layout given a transmitter position."
     ]
    },
    {
     "cell_type": "code",
     "collapsed": false,
     "input": [
      "C = Coverage()\n",
      "C.L  = L # set layout\n",
      "C.tx = A # set the transmitter"
     ],
     "language": "python",
     "metadata": {},
     "outputs": [
      {
       "output_type": "stream",
       "stream": "stderr",
       "text": [
        "WARNING:root:first decompose run failed\n"
       ]
      }
     ],
     "prompt_number": 8
    },
    {
     "cell_type": "code",
     "collapsed": false,
     "input": [
      "C.L"
     ],
     "language": "python",
     "metadata": {},
     "outputs": [
      {
       "output_type": "pyout",
       "prompt_number": 9,
       "text": [
        "\n",
        "----------------\n",
        "TA-Office.ini\n",
        "Image('/home/uguen/Bureau/P1/struc/images/DLR4991.png')\n",
        "----------------\n",
        "\n",
        "Number of points  : 71\n",
        "Number of segments  : 87\n",
        "Number of sub segments  : 16\n",
        "Number of cycles  : 0\n",
        "Number of rooms  : 0\n",
        "degree 0 : []\n",
        "degree 1 : []\n",
        "degree 2 : 39\n",
        "degree 3 : 32\n",
        "\n",
        "xrange :(0.0, 40.0)\n",
        "yrange :(0.0, 15.0)\n",
        "\n",
        "Useful dictionnaries\n",
        "----------------\n",
        "sl {slab name : slab dictionary}\n",
        "name :  {slab :seglist} \n",
        "\n",
        "Useful arrays\n",
        "----------------\n",
        "tsg : get segment index in Gs from tahe\n",
        "tgs : get segment index in tahe from Gs\n",
        "lsss : list of segments with sub-segment\n",
        "sla : associated slab name\n",
        "stridess : stride for adressing sub segment \n",
        "degree : degree of nodes \n"
       ]
      }
     ],
     "prompt_number": 9
    },
    {
     "cell_type": "code",
     "collapsed": false,
     "input": [
      "C.creategrid()"
     ],
     "language": "python",
     "metadata": {},
     "outputs": [],
     "prompt_number": 10
    },
    {
     "cell_type": "markdown",
     "metadata": {},
     "source": [
      "The coverage is performed on grid. The boundaries can be specified in the coverage.ini file "
     ]
    },
    {
     "cell_type": "code",
     "collapsed": false,
     "input": [
      "C.grid"
     ],
     "language": "python",
     "metadata": {},
     "outputs": [
      {
       "output_type": "pyout",
       "prompt_number": 11,
       "text": [
        "array([[  1.00000000e-02,   1.00000000e-02],\n",
        "       [  1.00000000e-02,   3.94102564e-01],\n",
        "       [  1.00000000e-02,   7.78205128e-01],\n",
        "       ..., \n",
        "       [  3.99900000e+01,   1.42217949e+01],\n",
        "       [  3.99900000e+01,   1.46058974e+01],\n",
        "       [  3.99900000e+01,   1.49900000e+01]])"
       ]
      }
     ],
     "prompt_number": 11
    },
    {
     "cell_type": "markdown",
     "metadata": {},
     "source": [
      "### Compute the coverage"
     ]
    },
    {
     "cell_type": "code",
     "collapsed": false,
     "input": [
      "t1=time.time()\n",
      "C.cover()\n",
      "t2=time.time()\n",
      "print 'Coverage performed in ', t2-t1, 's'"
     ],
     "language": "python",
     "metadata": {},
     "outputs": [
      {
       "output_type": "stream",
       "stream": "stdout",
       "text": [
        "Coverage performed in  1.57616114616 s\n"
       ]
      }
     ],
     "prompt_number": 12
    },
    {
     "cell_type": "markdown",
     "metadata": {},
     "source": [
      "### Coverage Map"
     ]
    },
    {
     "cell_type": "markdown",
     "metadata": {},
     "source": [
      "For Orthogonal polarization"
     ]
    },
    {
     "cell_type": "code",
     "collapsed": false,
     "input": [
      "fig1=plt.figure(figsize=(10,10))\n",
      "C.showPower(polar='o',fig=fig1)\n",
      "\n",
      "fig2=plt.figure(figsize=(10,10))\n",
      "C.showEd(polar='o',fig=fig2)\n"
     ],
     "language": "python",
     "metadata": {},
     "outputs": [
      {
       "output_type": "pyout",
       "prompt_number": 13,
       "text": [
        "(<matplotlib.figure.Figure at 0x5a1ebd0>,\n",
        " <matplotlib.axes.AxesSubplot at 0x5a1eb10>)"
       ]
      }
     ],
     "prompt_number": 13
    },
    {
     "cell_type": "markdown",
     "metadata": {},
     "source": [
      "For parallel polarization"
     ]
    },
    {
     "cell_type": "code",
     "collapsed": false,
     "input": [
      "fig1=plt.figure(figsize=(10,10))\n",
      "C.showPower(polar='p',fig=fig1)\n",
      "\n",
      "fig2=plt.figure(figsize=(10,10))\n",
      "C.showEd(polar='p',fig=fig2)"
     ],
     "language": "python",
     "metadata": {},
     "outputs": [
      {
       "output_type": "pyout",
       "prompt_number": 14,
       "text": [
        "(<matplotlib.figure.Figure at 0x627a850>,\n",
        " <matplotlib.axes.AxesSubplot at 0x627a990>)"
       ]
      }
     ],
     "prompt_number": 14
    },
    {
     "cell_type": "code",
     "collapsed": false,
     "input": [
      "from IPython.core.display import HTML\n",
      "\n",
      "def css_styling():\n",
      "    styles = open(\"../styles/custom.css\", \"r\").read()\n",
      "    return HTML(styles)\n",
      "css_styling()"
     ],
     "language": "python",
     "metadata": {},
     "outputs": [
      {
       "ename": "IOError",
       "evalue": "[Errno 2] Aucun fichier ou dossier de ce type: '../styles/custom.css'",
       "output_type": "pyerr",
       "traceback": [
        "\u001b[1;31m---------------------------------------------------------------------------\u001b[0m\n\u001b[1;31mIOError\u001b[0m                                   Traceback (most recent call last)",
        "\u001b[1;32m<ipython-input-15-c7949896ef01>\u001b[0m in \u001b[0;36m<module>\u001b[1;34m()\u001b[0m\n\u001b[0;32m      4\u001b[0m     \u001b[0mstyles\u001b[0m \u001b[1;33m=\u001b[0m \u001b[0mopen\u001b[0m\u001b[1;33m(\u001b[0m\u001b[1;34m\"../styles/custom.css\"\u001b[0m\u001b[1;33m,\u001b[0m \u001b[1;34m\"r\"\u001b[0m\u001b[1;33m)\u001b[0m\u001b[1;33m.\u001b[0m\u001b[0mread\u001b[0m\u001b[1;33m(\u001b[0m\u001b[1;33m)\u001b[0m\u001b[1;33m\u001b[0m\u001b[0m\n\u001b[0;32m      5\u001b[0m     \u001b[1;32mreturn\u001b[0m \u001b[0mHTML\u001b[0m\u001b[1;33m(\u001b[0m\u001b[0mstyles\u001b[0m\u001b[1;33m)\u001b[0m\u001b[1;33m\u001b[0m\u001b[0m\n\u001b[1;32m----> 6\u001b[1;33m \u001b[0mcss_styling\u001b[0m\u001b[1;33m(\u001b[0m\u001b[1;33m)\u001b[0m\u001b[1;33m\u001b[0m\u001b[0m\n\u001b[0m",
        "\u001b[1;32m<ipython-input-15-c7949896ef01>\u001b[0m in \u001b[0;36mcss_styling\u001b[1;34m()\u001b[0m\n\u001b[0;32m      2\u001b[0m \u001b[1;33m\u001b[0m\u001b[0m\n\u001b[0;32m      3\u001b[0m \u001b[1;32mdef\u001b[0m \u001b[0mcss_styling\u001b[0m\u001b[1;33m(\u001b[0m\u001b[1;33m)\u001b[0m\u001b[1;33m:\u001b[0m\u001b[1;33m\u001b[0m\u001b[0m\n\u001b[1;32m----> 4\u001b[1;33m     \u001b[0mstyles\u001b[0m \u001b[1;33m=\u001b[0m \u001b[0mopen\u001b[0m\u001b[1;33m(\u001b[0m\u001b[1;34m\"../styles/custom.css\"\u001b[0m\u001b[1;33m,\u001b[0m \u001b[1;34m\"r\"\u001b[0m\u001b[1;33m)\u001b[0m\u001b[1;33m.\u001b[0m\u001b[0mread\u001b[0m\u001b[1;33m(\u001b[0m\u001b[1;33m)\u001b[0m\u001b[1;33m\u001b[0m\u001b[0m\n\u001b[0m\u001b[0;32m      5\u001b[0m     \u001b[1;32mreturn\u001b[0m \u001b[0mHTML\u001b[0m\u001b[1;33m(\u001b[0m\u001b[0mstyles\u001b[0m\u001b[1;33m)\u001b[0m\u001b[1;33m\u001b[0m\u001b[0m\n\u001b[0;32m      6\u001b[0m \u001b[0mcss_styling\u001b[0m\u001b[1;33m(\u001b[0m\u001b[1;33m)\u001b[0m\u001b[1;33m\u001b[0m\u001b[0m\n",
        "\u001b[1;31mIOError\u001b[0m: [Errno 2] Aucun fichier ou dossier de ce type: '../styles/custom.css'"
       ]
      }
     ],
     "prompt_number": 15
    },
    {
     "cell_type": "code",
     "collapsed": false,
     "input": [],
     "language": "python",
     "metadata": {},
     "outputs": []
    }
   ],
   "metadata": {}
  }
 ]
}