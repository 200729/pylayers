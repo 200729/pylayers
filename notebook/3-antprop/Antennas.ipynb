{
 "metadata": {
  "name": ""
 },
 "nbformat": 3,
 "nbformat_minor": 0,
 "worksheets": [
  {
   "cells": [
    {
     "cell_type": "heading",
     "level": 2,
     "metadata": {},
     "source": [
      "Handling Antennas"
     ]
    },
    {
     "cell_type": "markdown",
     "metadata": {},
     "source": [
      "> Antennas are handled in the  `pylayers.antenna` module. `PyLayers` provides a compact representation of complex antennas using both vector and scalar spherical harmonics representation of the complex antenna radiation pattern. "
     ]
    },
    {
     "cell_type": "code",
     "collapsed": true,
     "input": [
      "from pylayers.antprop.antenna import *\n",
      "from pylayers.antprop.antvsh import *"
     ],
     "language": "python",
     "metadata": {},
     "outputs": [],
     "prompt_number": 13
    },
    {
     "cell_type": "markdown",
     "metadata": {},
     "source": [
      "The first step consists in reading the raw data from an antenna  `.mat` file. In the example below the antenna has been measured in a [SATIMO](http://satimo.com/) near field chamber. Antenna are by default read in a directory specified relativeley to the curent project pointed by the `$BASENAME` environment variable.  "
     ]
    },
    {
     "cell_type": "code",
     "collapsed": false,
     "input": [
      "A = Antenna('S1R1.mat','ant/UWBAN/Matfile')"
     ],
     "language": "python",
     "metadata": {},
     "outputs": [],
     "prompt_number": 14
    },
    {
     "cell_type": "markdown",
     "metadata": {},
     "source": [
      "The antenna has a __repr__ method which provides information about the curent object. "
     ]
    },
    {
     "cell_type": "code",
     "collapsed": false,
     "input": [
      "A"
     ],
     "language": "python",
     "metadata": {},
     "outputs": [],
     "prompt_number": 15
    },
    {
     "cell_type": "code",
     "collapsed": false,
     "input": [
      "%pfile A.show3"
     ],
     "language": "python",
     "metadata": {},
     "outputs": [],
     "prompt_number": 16
    },
    {
     "cell_type": "markdown",
     "metadata": {},
     "source": [
      "If [geomview](http://www.geomview.org/) is installed a vizalization of the antenna pattern is obtained in using a `show3` method"
     ]
    },
    {
     "cell_type": "code",
     "collapsed": false,
     "input": [
      "#A.show3(k=0,typ='Gain')"
     ],
     "language": "python",
     "metadata": {},
     "outputs": [],
     "prompt_number": 17
    },
    {
     "cell_type": "code",
     "collapsed": false,
     "input": [
      "#A.show3(k=60,typ='Gain')"
     ],
     "language": "python",
     "metadata": {},
     "outputs": [],
     "prompt_number": 18
    },
    {
     "cell_type": "heading",
     "level": 2,
     "metadata": {},
     "source": [
      "Unwraping the phase "
     ]
    },
    {
     "cell_type": "code",
     "collapsed": false,
     "input": [
      "freq = A.fa.reshape(104,1,1)\n",
      "ed = A.getdelay(freq)\n",
      "I = A.Ftheta[:,:,:]*exp(2*1j*pi*freq*ed)"
     ],
     "language": "python",
     "metadata": {},
     "outputs": [],
     "prompt_number": 19
    },
    {
     "cell_type": "code",
     "collapsed": false,
     "input": [
      "shape(A.Fphi)\n",
      "im=imshow(angle(I[:,45,:]))\n",
      "cb = colorbar()\n",
      "cb.set_label('phase rad')\n",
      "xlabel('theta')\n"
     ],
     "language": "python",
     "metadata": {},
     "outputs": [],
     "prompt_number": 20
    },
    {
     "cell_type": "code",
     "collapsed": false,
     "input": [
      "plot(freq[:,0,0]*1e9,unwrap(angle(I[:,45,85])))\n",
      "xlabel('frequency (GHz)')"
     ],
     "language": "python",
     "metadata": {},
     "outputs": [],
     "prompt_number": 21
    },
    {
     "cell_type": "markdown",
     "metadata": {},
     "source": [
      "The following figure represents all the radiation patterns in the azimuth plane for each of the 104 measured frequencies"
     ]
    },
    {
     "cell_type": "code",
     "collapsed": false,
     "input": [
      "print 'Ntheta',A.Nt\n",
      "print 'Nphi',A.Np\n",
      "print 'Nf',A.Nf"
     ],
     "language": "python",
     "metadata": {},
     "outputs": [],
     "prompt_number": 22
    },
    {
     "cell_type": "code",
     "collapsed": false,
     "input": [
      "A.info()"
     ],
     "language": "python",
     "metadata": {},
     "outputs": [],
     "prompt_number": 23
    },
    {
     "cell_type": "markdown",
     "metadata": {},
     "source": [
      "# Evaluation of Vector Spherical Harmonics Coefficients \n",
      "\n",
      "At that stage the Vector Spherical Harmonics coefficients are computed. \n",
      "\n",
      "The `vsh` function is implemented in the module `antvsh.py` and is relying on the 'spherepack <http://www2.cisl.ucar.edu/resources/legacy/spherepack>'_ package. "
     ]
    },
    {
     "cell_type": "code",
     "collapsed": true,
     "input": [
      "A = vsh(A)"
     ],
     "language": "python",
     "metadata": {},
     "outputs": [],
     "prompt_number": 24
    },
    {
     "cell_type": "markdown",
     "metadata": {},
     "source": [
      "The information about the antenna indicates now the presence of spherical coefficients, in \n",
      "format vsh1. \n",
      "\n",
      "N1 = 90 and M1 = 89. \n",
      "\n",
      "There is the same number of coefficients for $B_r$,$B_i$, $C_r$, $C_i$\n",
      "independently to their relative importance. "
     ]
    },
    {
     "cell_type": "code",
     "collapsed": false,
     "input": [
      "A.C.info()"
     ],
     "language": "python",
     "metadata": {},
     "outputs": [],
     "prompt_number": 25
    },
    {
     "cell_type": "code",
     "collapsed": false,
     "input": [
      "A.C.s1tos2(30)"
     ],
     "language": "python",
     "metadata": {},
     "outputs": [],
     "prompt_number": 26
    },
    {
     "cell_type": "code",
     "collapsed": true,
     "input": [
      "A.C.info()"
     ],
     "language": "python",
     "metadata": {},
     "outputs": [],
     "prompt_number": 27
    },
    {
     "cell_type": "code",
     "collapsed": true,
     "input": [
      "figsize(10,10)\n",
      "A.C.show(typ='s2',k=300)"
     ],
     "language": "python",
     "metadata": {},
     "outputs": [],
     "prompt_number": 28
    },
    {
     "cell_type": "markdown",
     "metadata": {},
     "source": [
      "Transformation in shape 3 - energy thresholding"
     ]
    },
    {
     "cell_type": "code",
     "collapsed": false,
     "input": [
      "A.C.s2tos3(1e-5)"
     ],
     "language": "python",
     "metadata": {},
     "outputs": [],
     "prompt_number": 29
    },
    {
     "cell_type": "code",
     "collapsed": false,
     "input": [
      "A.C.show('s3')"
     ],
     "language": "python",
     "metadata": {},
     "outputs": [],
     "prompt_number": 30
    },
    {
     "cell_type": "code",
     "collapsed": false,
     "input": [
      "print len(A.theta)\n",
      "print len(A.phi)"
     ],
     "language": "python",
     "metadata": {},
     "outputs": [],
     "prompt_number": 31
    },
    {
     "cell_type": "code",
     "collapsed": true,
     "input": [
      "Fth2,Fph2 = A.Fsynth3(A.theta,A.phi,pattern=True) "
     ],
     "language": "python",
     "metadata": {},
     "outputs": [],
     "prompt_number": 32
    },
    {
     "cell_type": "code",
     "collapsed": true,
     "input": [
      "compdiag(0,A,A.theta,A.phi,Fth2,Fph2,'modulus')"
     ],
     "language": "python",
     "metadata": {},
     "outputs": [],
     "prompt_number": 33
    },
    {
     "cell_type": "code",
     "collapsed": false,
     "input": [
      "A"
     ],
     "language": "python",
     "metadata": {},
     "outputs": [],
     "prompt_number": 34
    },
    {
     "cell_type": "code",
     "collapsed": false,
     "input": [
      "from IPython.core.display import HTML\n",
      "\n",
      "def css_styling():\n",
      "    styles = open(\"../styles/custom.css\", \"r\").read()\n",
      "    return HTML(styles)\n",
      "css_styling()"
     ],
     "language": "python",
     "metadata": {},
     "outputs": [],
     "prompt_number": 35
    }
   ],
   "metadata": {}
  }
 ]
}
