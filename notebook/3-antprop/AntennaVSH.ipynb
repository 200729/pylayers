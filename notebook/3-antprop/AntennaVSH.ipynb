{
 "metadata": {
  "name": ""
 },
 "nbformat": 3,
 "nbformat_minor": 0,
 "worksheets": [
  {
   "cells": [
    {
     "cell_type": "heading",
     "level": 2,
     "metadata": {},
     "source": [
      "Vector Spherical sparse representation of full polar complex antenna patterns "
     ]
    },
    {
     "cell_type": "code",
     "collapsed": true,
     "input": [
      "from pylayers.antprop.antenna import *\n",
      "from pylayers.antprop.antvsh import *"
     ],
     "language": "python",
     "metadata": {},
     "outputs": [],
     "prompt_number": 1
    },
    {
     "cell_type": "markdown",
     "metadata": {},
     "source": [
      "The first step consists in reading the raw data from a .mat file obtained. In the example below the antenna has been measured in a SATIMO near field chamber. Antenna are by default read in a directory which path is specified relativeley to the curent project pointed by the `$BASENAME` environment variable.  "
     ]
    },
    {
     "cell_type": "code",
     "collapsed": false,
     "input": [
      "A = Antenna('S1R1.mat','ant/UWBAN/Matfile')"
     ],
     "language": "python",
     "metadata": {},
     "outputs": [],
     "prompt_number": 2
    },
    {
     "cell_type": "markdown",
     "metadata": {},
     "source": [
      "The antenna has a __repr__ method which provides information about the curent object"
     ]
    },
    {
     "cell_type": "code",
     "collapsed": false,
     "input": [
      "A"
     ],
     "language": "python",
     "metadata": {},
     "outputs": [],
     "prompt_number": 25
    },
    {
     "cell_type": "code",
     "collapsed": false,
     "input": [
      "A.show3(k=0,typ='Gain',col=True)"
     ],
     "language": "python",
     "metadata": {},
     "outputs": [],
     "prompt_number": 4
    },
    {
     "cell_type": "code",
     "collapsed": false,
     "input": [
      "A.show3(k=60,typ='Gain',col=False)"
     ],
     "language": "python",
     "metadata": {},
     "outputs": [],
     "prompt_number": 5
    },
    {
     "cell_type": "heading",
     "level": 2,
     "metadata": {},
     "source": [
      "Unwraping the phase "
     ]
    },
    {
     "cell_type": "code",
     "collapsed": false,
     "input": [
      "freq = A.fa.reshape(104,1,1)\n",
      "ed = A.getdelay(freq)\n",
      "I = A.Ftheta[:,:,:]*exp(2*1j*pi*freq*ed)"
     ],
     "language": "python",
     "metadata": {},
     "outputs": [],
     "prompt_number": 6
    },
    {
     "cell_type": "code",
     "collapsed": false,
     "input": [
      "shape(A.Fphi)\n",
      "im=imshow(angle(I[:,45,:]))\n",
      "cb = colorbar()\n",
      "cb.set_label('phase rad')\n",
      "xlabel('theta')\n"
     ],
     "language": "python",
     "metadata": {},
     "outputs": [],
     "prompt_number": 7
    },
    {
     "cell_type": "code",
     "collapsed": false,
     "input": [
      "plot(freq[:,0,0]*1e9,unwrap(angle(I[:,45,85])))\n",
      "xlabel('frequency (GHz)')"
     ],
     "language": "python",
     "metadata": {},
     "outputs": [],
     "prompt_number": 8
    },
    {
     "cell_type": "markdown",
     "metadata": {},
     "source": [
      "The following figure represents all the radiation patten in the azimuth plane for each of the 104 frequencies "
     ]
    },
    {
     "cell_type": "code",
     "collapsed": false,
     "input": [
      "print 'Ntheta',A.Nt\n",
      "print 'Nphi',A.Np\n",
      "print 'Nf',A.Nf"
     ],
     "language": "python",
     "metadata": {},
     "outputs": [],
     "prompt_number": 9
    },
    {
     "cell_type": "code",
     "collapsed": false,
     "input": [
      "A.info()"
     ],
     "language": "python",
     "metadata": {},
     "outputs": [],
     "prompt_number": 10
    },
    {
     "cell_type": "markdown",
     "metadata": {},
     "source": [
      "# Evaluation of Vector Spherical Harmonics Coefficients \n",
      "\n",
      "At that stage the Vector Spherical Harmonics coefficients are computed. \n",
      "\n",
      "The `vsh` function is implemented in the module `antvsh.py` and is relying on the 'spherepack <http://www2.cisl.ucar.edu/resources/legacy/spherepack>'_ package. "
     ]
    },
    {
     "cell_type": "code",
     "collapsed": true,
     "input": [
      "A = vsh(A)"
     ],
     "language": "python",
     "metadata": {},
     "outputs": [],
     "prompt_number": 11
    },
    {
     "cell_type": "markdown",
     "metadata": {},
     "source": [
      "The information about the antenna indicates now the presence of spherical coefficients, in \n",
      "format vsh1. N1 = 90 and M1 = 89. There is the same number of coefficient for $B_r$,$B_i$, $C_r$, $C_i$\n",
      "independantly to their importance. "
     ]
    },
    {
     "cell_type": "code",
     "collapsed": false,
     "input": [
      "A.C.info()"
     ],
     "language": "python",
     "metadata": {},
     "outputs": [],
     "prompt_number": 12
    },
    {
     "cell_type": "code",
     "collapsed": false,
     "input": [
      "A.C.s1tos2(30)"
     ],
     "language": "python",
     "metadata": {},
     "outputs": [],
     "prompt_number": 13
    },
    {
     "cell_type": "code",
     "collapsed": true,
     "input": [
      "A.C.info()"
     ],
     "language": "python",
     "metadata": {},
     "outputs": [],
     "prompt_number": 14
    },
    {
     "cell_type": "code",
     "collapsed": true,
     "input": [
      "figsize(10,10)\n",
      "A.C.show(typ='s2',k=300)"
     ],
     "language": "python",
     "metadata": {},
     "outputs": [],
     "prompt_number": 15
    },
    {
     "cell_type": "markdown",
     "metadata": {},
     "source": [
      "Transformation in shape 3 - energy thresholding"
     ]
    },
    {
     "cell_type": "code",
     "collapsed": false,
     "input": [
      "A.C.s2tos3(1e-5)"
     ],
     "language": "python",
     "metadata": {},
     "outputs": [],
     "prompt_number": 16
    },
    {
     "cell_type": "code",
     "collapsed": false,
     "input": [
      "A.C.show('s3')"
     ],
     "language": "python",
     "metadata": {},
     "outputs": [],
     "prompt_number": 17
    },
    {
     "cell_type": "code",
     "collapsed": false,
     "input": [
      "print len(A.theta)\n",
      "print len(A.phi)"
     ],
     "language": "python",
     "metadata": {},
     "outputs": [],
     "prompt_number": 18
    },
    {
     "cell_type": "code",
     "collapsed": true,
     "input": [
      "Fth2,Fph2 = A.Fsynth3(A.theta,A.phi,pattern=True) "
     ],
     "language": "python",
     "metadata": {},
     "outputs": [],
     "prompt_number": 22
    },
    {
     "cell_type": "code",
     "collapsed": true,
     "input": [
      "compdiag(0,A,A.theta,A.phi,Fth2,Fph2,'modulus')"
     ],
     "language": "python",
     "metadata": {},
     "outputs": [],
     "prompt_number": 21
    },
    {
     "cell_type": "code",
     "collapsed": false,
     "input": [
      "A"
     ],
     "language": "python",
     "metadata": {},
     "outputs": [],
     "prompt_number": 23
    },
    {
     "cell_type": "code",
     "collapsed": false,
     "input": [],
     "language": "python",
     "metadata": {},
     "outputs": []
    }
   ],
   "metadata": {}
  }
 ]
}
