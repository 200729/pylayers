{
 "metadata": {
  "name": ""
 },
 "nbformat": 3,
 "nbformat_minor": 0,
 "worksheets": [
  {
   "cells": [
    {
     "cell_type": "markdown",
     "metadata": {},
     "source": [
      "This section explains some features of the class **Slab**. \n",
      "\n",
      "**Slabs** are handled by the module **pylayers.antprop.slab**"
     ]
    },
    {
     "cell_type": "code",
     "collapsed": false,
     "input": [
      "from pylayers.gis.layout import *\n",
      "import  matplotlib.pyplot as plt"
     ],
     "language": "python",
     "metadata": {},
     "outputs": []
    },
    {
     "cell_type": "code",
     "collapsed": false,
     "input": [
      "L = Layout('TA-Office.ini')\n",
      "L.build()"
     ],
     "language": "python",
     "metadata": {},
     "outputs": []
    },
    {
     "cell_type": "code",
     "collapsed": false,
     "input": [
      "L.dumpw()"
     ],
     "language": "python",
     "metadata": {},
     "outputs": []
    },
    {
     "cell_type": "code",
     "collapsed": false,
     "input": [
      "L.showG('i',figsize=(8,8))\n",
      "plt.axis('off')"
     ],
     "language": "python",
     "metadata": {},
     "outputs": []
    },
    {
     "cell_type": "markdown",
     "metadata": {},
     "source": [
      "### Slab names\n",
      "\n",
      "Each segment **name**, is the entry key for its constitutive Slab."
     ]
    },
    {
     "cell_type": "code",
     "collapsed": false,
     "input": [
      "L.Gs.node[19]['name']"
     ],
     "language": "python",
     "metadata": {},
     "outputs": []
    },
    {
     "cell_type": "markdown",
     "metadata": {},
     "source": [
      "In the example above the node **20** of $\\mathcal{G}_s$ is a segment of name 'PARTITION', which is a key entry of the Slab dictionnary."
     ]
    },
    {
     "cell_type": "markdown",
     "metadata": {},
     "source": [
      "### Slab dictionnary\n",
      "The layout L has a **sl** (slab dictionnary) member. This dictionnary contains all the available slabs of  the layout. For this layout the keys of the **sl** dictionnary are :\n"
     ]
    },
    {
     "cell_type": "code",
     "collapsed": false,
     "input": [
      "L.sl.keys()"
     ],
     "language": "python",
     "metadata": {},
     "outputs": []
    },
    {
     "cell_type": "markdown",
     "metadata": {},
     "source": [
      "### Slab Information\n",
      "\n",
      "Each slab contains informations about their constitutive materials and their electromagnetic propreties.\n",
      "\n",
      "Below an example for a simple slab, constituted with a single material. The slab 'WOOD' is made of material 'WOOD'\n",
      "\n"
     ]
    },
    {
     "cell_type": "code",
     "collapsed": false,
     "input": [
      "L.sl['WOOD']\n"
     ],
     "language": "python",
     "metadata": {},
     "outputs": []
    },
    {
     "cell_type": "code",
     "collapsed": false,
     "input": [
      "L.sl['WOOD']['lmatname']"
     ],
     "language": "python",
     "metadata": {},
     "outputs": []
    },
    {
     "cell_type": "code",
     "collapsed": false,
     "input": [
      "L"
     ],
     "language": "python",
     "metadata": {},
     "outputs": []
    },
    {
     "cell_type": "code",
     "collapsed": false,
     "input": [
      "L.sl['WOOD']['thickness']\n"
     ],
     "language": "python",
     "metadata": {},
     "outputs": []
    },
    {
     "cell_type": "markdown",
     "metadata": {},
     "source": [
      "Until now the thickness attribute is a tuple with 8 values. This is for backward compatibility with **Pulsray**.\n",
      "\n",
      "In the  pure python version their will remains no reason to maintain this limitation.   \n",
      "\n",
      "Notice that in thickness the unit is centimeter, lthick is in SI unit i.e meters. \n",
      "\n",
      "Ignore the existence of this attribute, use 'lthick' attribute instead.\n"
     ]
    },
    {
     "cell_type": "code",
     "collapsed": false,
     "input": [
      "L.sl['WOOD']['lthick']"
     ],
     "language": "python",
     "metadata": {},
     "outputs": []
    },
    {
     "cell_type": "code",
     "collapsed": false,
     "input": [
      "L.sl['WOOD']['color']"
     ],
     "language": "python",
     "metadata": {},
     "outputs": []
    },
    {
     "cell_type": "code",
     "collapsed": false,
     "input": [
      "L.sl['WOOD']['linewidth']"
     ],
     "language": "python",
     "metadata": {},
     "outputs": []
    },
    {
     "cell_type": "markdown",
     "metadata": {},
     "source": [
      "Multi layers Slab, using different stacks of materials can be easily defined using the two lists **lmatname** and **lthick**."
     ]
    },
    {
     "cell_type": "code",
     "collapsed": false,
     "input": [
      "L.sl['3D_WINDOW_GLASS']['lmatname']"
     ],
     "language": "python",
     "metadata": {},
     "outputs": []
    },
    {
     "cell_type": "code",
     "collapsed": false,
     "input": [
      "L.sl['3D_WINDOW_GLASS']['lthick']"
     ],
     "language": "python",
     "metadata": {},
     "outputs": []
    },
    {
     "cell_type": "markdown",
     "metadata": {},
     "source": [
      "For each constitutive material of a slab, their electromagnetic properties can be obtained as:"
     ]
    },
    {
     "cell_type": "code",
     "collapsed": false,
     "input": [
      "L.sl['3D_WINDOW_GLASS']['lmat']"
     ],
     "language": "python",
     "metadata": {},
     "outputs": []
    },
    {
     "cell_type": "markdown",
     "metadata": {},
     "source": [
      "### Slab evaluation"
     ]
    },
    {
     "cell_type": "markdown",
     "metadata": {},
     "source": [
      "Each Slab can be evaluated to obtain the Transmission and Reflexion coefficients for \n",
      "\n",
      "+ a given frequency range\n",
      "+ a given incidence angle range  ($0\\le\\theta<\\frac{\\pi}{2}$)"
     ]
    },
    {
     "cell_type": "code",
     "collapsed": false,
     "input": [
      "fGHz = np.arange(1,5,0.05)\n",
      "theta = np.arange(0,pi/2,0.01)\n",
      "\n",
      "L.sl['WOOD'].ev(fGHz,theta,compensate=True)\n",
      "sR = np.shape(L.sl['WOOD'].R) \n",
      "print '\\nHere, slab is evaluted for',sR[0],'frequency(ies)', 'and',sR[1], 'angle(s)\\n'"
     ],
     "language": "python",
     "metadata": {},
     "outputs": []
    },
    {
     "cell_type": "markdown",
     "metadata": {},
     "source": [
      "### Transmission and Reflexion coefficient\n",
      "From the evaluation reflexion and tramsmission coeffcient are computed for the given frequency range and theta range"
     ]
    },
    {
     "cell_type": "code",
     "collapsed": false,
     "input": [
      "ifreq=1\n",
      "ithet=10\n",
      "\n",
      "print '\\nReflection coefficient @',fGHz[ifreq],'GHz and theta=',theta[ithet],':\\n\\n R=',L.sl['WOOD'].R[0,0]\n",
      "print '\\nTransmission coefficient @',fGHz[ifreq],'GHz and theta=',theta[ithet],':\\n\\n T=',L.sl['WOOD'].T[0,0],'\\n'\n"
     ],
     "language": "python",
     "metadata": {},
     "outputs": []
    },
    {
     "cell_type": "markdown",
     "metadata": {},
     "source": [
      "### Ploting Coefficients\n"
     ]
    },
    {
     "cell_type": "markdown",
     "metadata": {},
     "source": [
      " with respect to  frequency"
     ]
    },
    {
     "cell_type": "code",
     "collapsed": false,
     "input": [
      "L.sl['WOOD'].plotwrtf(typ='mod')\n",
      "plt.figure()\n",
      "L.sl['WOOD'].plotwrtf(typ='phase')"
     ],
     "language": "python",
     "metadata": {},
     "outputs": []
    },
    {
     "cell_type": "markdown",
     "metadata": {},
     "source": [
      "with respect to angle"
     ]
    },
    {
     "cell_type": "code",
     "collapsed": false,
     "input": [
      "fGHz= np.array([2.4])\n",
      "L.sl['WOOD'].ev(fGHz,theta)\n",
      "L.sl['WOOD'].plotwrta()"
     ],
     "language": "python",
     "metadata": {},
     "outputs": []
    },
    {
     "cell_type": "markdown",
     "metadata": {},
     "source": [
      "wrt to angle and frequency "
     ]
    },
    {
     "cell_type": "code",
     "collapsed": false,
     "input": [
      "figsize(8,8)\n",
      "fGHz= np.arange(0.7,5.2,0.1)\n",
      "L.sl['WOOD'].ev(fGHz,theta)\n",
      "L.sl['WOOD'].pcolor()"
     ],
     "language": "python",
     "metadata": {},
     "outputs": []
    }
   ],
   "metadata": {}
  }
 ]
}
