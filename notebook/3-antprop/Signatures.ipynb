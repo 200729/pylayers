{
 "metadata": {
  "name": ""
 },
 "nbformat": 3,
 "nbformat_minor": 0,
 "worksheets": [
  {
   "cells": [
    {
     "cell_type": "heading",
     "level": 1,
     "metadata": {},
     "source": [
      "Signatures"
     ]
    },
    {
     "cell_type": "code",
     "collapsed": false,
     "input": [
      "import time\n",
      "from pylayers.gis.layout import *\n",
      "from pylayers.antprop.signature import *\n",
      "from pylayers.antprop.rays import *"
     ],
     "language": "python",
     "metadata": {},
     "outputs": [],
     "prompt_number": 1
    },
    {
     "cell_type": "code",
     "collapsed": false,
     "input": [
      "L = Layout()"
     ],
     "language": "python",
     "metadata": {},
     "outputs": [],
     "prompt_number": 2
    },
    {
     "cell_type": "code",
     "collapsed": false,
     "input": [
      "L.build()"
     ],
     "language": "python",
     "metadata": {},
     "outputs": [],
     "prompt_number": 3
    },
    {
     "cell_type": "markdown",
     "metadata": {},
     "source": [
      "Showing the graph of rooms with 2 rooms separated by a DOOR segment "
     ]
    },
    {
     "cell_type": "code",
     "collapsed": false,
     "input": [
      "L.showG('v')\n",
      "a=plt.axis('off')"
     ],
     "language": "python",
     "metadata": {},
     "outputs": [],
     "prompt_number": 4
    },
    {
     "cell_type": "markdown",
     "metadata": {},
     "source": [
      "The graph of interactions is shown below. "
     ]
    },
    {
     "cell_type": "code",
     "collapsed": false,
     "input": [
      "L.showG('i',figsize=(20,20))\n",
      "a=plt.axis('off')"
     ],
     "language": "python",
     "metadata": {},
     "outputs": [],
     "prompt_number": 5
    },
    {
     "cell_type": "markdown",
     "metadata": {},
     "source": [
      "All the interactions of a given cycle are stored as meta information in nodes of `Gt` "
     ]
    },
    {
     "cell_type": "code",
     "collapsed": false,
     "input": [
      "L.Gt.node[0]['inter']"
     ],
     "language": "python",
     "metadata": {},
     "outputs": [
      {
       "output_type": "pyout",
       "prompt_number": 6,
       "text": [
        "['(6, 0)',\n",
        " '(12, 0)',\n",
        " '(12, 0, 2)',\n",
        " '(12, 2, 0)',\n",
        " '(10, 0)',\n",
        " '(10, 0, 1)',\n",
        " '(10, 1, 0)',\n",
        " '(5, 0)']"
       ]
      }
     ],
     "prompt_number": 6
    },
    {
     "cell_type": "markdown",
     "metadata": {},
     "source": [
      "The signature is calculated with as parameters the  Layout object and two cycles number. \n",
      "In example below it is 0 and 1. "
     ]
    },
    {
     "cell_type": "code",
     "collapsed": false,
     "input": [
      "Si = Signatures(L,0,1)"
     ],
     "language": "python",
     "metadata": {},
     "outputs": [],
     "prompt_number": 7
    },
    {
     "cell_type": "code",
     "collapsed": false,
     "input": [
      "Si.run1(cutoff=2)"
     ],
     "language": "python",
     "metadata": {},
     "outputs": [],
     "prompt_number": 8
    },
    {
     "cell_type": "markdown",
     "metadata": {},
     "source": [
      "An exhaustive search of signatures when no prior information is given is a combinatory hard problem. \n",
      "The number of signatures grows rapidly with the cutoff parameter. "
     ]
    },
    {
     "cell_type": "markdown",
     "metadata": {},
     "source": [
      "The representaion method of a signature gives informations about the different signatures. Signatures are grouped by number of interactions. "
     ]
    },
    {
     "cell_type": "code",
     "collapsed": false,
     "input": [
      "Si"
     ],
     "language": "python",
     "metadata": {},
     "outputs": [
      {
       "output_type": "pyout",
       "prompt_number": 9,
       "text": [
        "Signatures\n",
        "----------\n",
        "from cycle : 0 to cycle 1\n",
        "1 : 1\n",
        "   [10]\n",
        "   [2]\n",
        "2 : 9\n",
        "   [12 12 12 10 10 10  6 12  5]\n",
        "   [2 2 2 2 2 2 1 1 1]\n",
        "   [ 7  9  8  3  4  2 10 10 10]\n",
        "   [2 2 2 1 1 1 2 2 2]\n",
        "3 : 34\n",
        "   [12 12 12 12 12 12 12 12 12 12 12 12 10 10 10 10 10 10 10  6  6  6  6  6 12\n",
        " 12 12 12  5  5  5  5  5  5]\n",
        "   [2 2 2 2 2 2 2 2 2 2 2 2 2 2 2 2 2 2 2 1 1 1 1 1 1 1 1 1 1 1 1 1 1 1]\n",
        "   [ 1  1 11  1  8  9  7  9  7  8  9  7  4  2  2  3  3  3  4 12  5 10 10 10  5\n",
        " 10 10 10 12  6 12 10 10 10]\n",
        "   [1 1 1 1 2 2 2 2 2 2 2 2 1 1 1 1 1 1 1 1 1 2 2 2 1 2 2 2 1 1 2 2 2 2]\n",
        "   [ 7  9  8  8  3  3  3  4  4  2  2  2  3  3  4  9  8  2  2 10 10  3  4  2 10\n",
        "  3  4  2 10 10  8  3  4  2]\n",
        "   [2 2 2 2 1 1 1 1 1 1 1 1 1 1 1 1 1 1 1 2 2 1 1 1 2 1 1 1 2 2 2 1 1 1]\n"
       ]
      }
     ],
     "prompt_number": 9
    },
    {
     "cell_type": "code",
     "collapsed": false,
     "input": [
      "L.Gt.pos"
     ],
     "language": "python",
     "metadata": {},
     "outputs": [
      {
       "output_type": "pyout",
       "prompt_number": 10,
       "text": [
        "{0: (2.5087498250035005, 1.4047281254374917),\n",
        " 1: (7.5, 0.0),\n",
        " 2: (2.4962923414605211, -0.59524073085365137)}"
       ]
      }
     ],
     "prompt_number": 10
    },
    {
     "cell_type": "code",
     "collapsed": false,
     "input": [
      "ptx = np.array(L.Gt.pos[0])+np.random.rand(2)\n",
      "prx = np.array(L.Gt.pos[1])+np.random.rand(2)\n",
      "print ptx\n",
      "print prx"
     ],
     "language": "python",
     "metadata": {},
     "outputs": [
      {
       "output_type": "stream",
       "stream": "stdout",
       "text": [
        "[ 3.32018817  1.62946607]\n",
        "[ 7.98077566  0.53090305]\n"
       ]
      }
     ],
     "prompt_number": 11
    },
    {
     "cell_type": "markdown",
     "metadata": {},
     "source": [
      "Evaluate performances of signature and ray evaluation"
     ]
    },
    {
     "cell_type": "code",
     "collapsed": false,
     "input": [
      "tt1 = {}\n",
      "tt2 = {}\n",
      "tint={}\n",
      "tsig={} # number of sig\n",
      "tray={} # number of rays\n",
      "maxcutoff=11\n",
      "for cutoff in range(maxcutoff):\n",
      "     del Si\n",
      "        \n",
      "     Si = Signatures(L,0,1)\n",
      "     tic1=time.time()\n",
      "     Si.run1(cutoff=cutoff)\n",
      "     tic2=time.time()\n",
      "     r2d = Si.rays(ptx,prx)   \n",
      "     tic3=time.time()\n",
      "     Si.num()   \n",
      "     Nr = len(r2d)   \n",
      "     tt1[cutoff]=tic2-tic1\n",
      "     tt2[cutoff]=tic3-tic2   \n",
      "     tint[cutoff]=Si.nint   \n",
      "     tsig[cutoff]=Si.nsig\n",
      "     tray[cutoff]=Nr\n",
      "     print cutoff,tt2[cutoff]\n",
      "#    L.display['ednodes']=False\n",
      "#    r2d.show(L)"
     ],
     "language": "python",
     "metadata": {},
     "outputs": [
      {
       "output_type": "stream",
       "stream": "stdout",
       "text": [
        "0 0.00140380859375\n",
        "1 0.00581789016724\n",
        "2"
       ]
      },
      {
       "output_type": "stream",
       "stream": "stdout",
       "text": [
        " 0.0288701057434\n",
        "3"
       ]
      },
      {
       "output_type": "stream",
       "stream": "stdout",
       "text": [
        " 0.112056970596\n",
        "4"
       ]
      },
      {
       "output_type": "stream",
       "stream": "stdout",
       "text": [
        " 0.333253860474\n",
        "5"
       ]
      },
      {
       "output_type": "stream",
       "stream": "stdout",
       "text": [
        " 0.921447992325\n",
        "6"
       ]
      },
      {
       "output_type": "stream",
       "stream": "stdout",
       "text": [
        " 2.29217195511\n",
        "7"
       ]
      },
      {
       "output_type": "stream",
       "stream": "stdout",
       "text": [
        " 5.57758378983\n",
        "8"
       ]
      },
      {
       "output_type": "stream",
       "stream": "stdout",
       "text": [
        " 12.60187006\n",
        "9"
       ]
      },
      {
       "output_type": "stream",
       "stream": "stdout",
       "text": [
        " 25.0297198296\n",
        "10"
       ]
      },
      {
       "output_type": "stream",
       "stream": "stdout",
       "text": [
        " 45.0255618095\n"
       ]
      }
     ],
     "prompt_number": 12
    },
    {
     "cell_type": "code",
     "collapsed": false,
     "input": [
      "p1=semilogy(tt1.keys(),tray.values(),'ob')\n",
      "p2=semilogy(tt1.keys(),tsig.values(),'or')\n",
      "legend((p1[0],p2[0]),('rays','signature'),loc='best')\n",
      "xlabel('cutoff')\n",
      "ylabel('#')"
     ],
     "language": "python",
     "metadata": {},
     "outputs": [
      {
       "ename": "NameError",
       "evalue": "name 'semilogy' is not defined",
       "output_type": "pyerr",
       "traceback": [
        "\u001b[1;31m---------------------------------------------------------------------------\u001b[0m\n\u001b[1;31mNameError\u001b[0m                                 Traceback (most recent call last)",
        "\u001b[1;32m<ipython-input-13-09699c645975>\u001b[0m in \u001b[0;36m<module>\u001b[1;34m()\u001b[0m\n\u001b[1;32m----> 1\u001b[1;33m \u001b[0mp1\u001b[0m\u001b[1;33m=\u001b[0m\u001b[0msemilogy\u001b[0m\u001b[1;33m(\u001b[0m\u001b[0mtt1\u001b[0m\u001b[1;33m.\u001b[0m\u001b[0mkeys\u001b[0m\u001b[1;33m(\u001b[0m\u001b[1;33m)\u001b[0m\u001b[1;33m,\u001b[0m\u001b[0mtray\u001b[0m\u001b[1;33m.\u001b[0m\u001b[0mvalues\u001b[0m\u001b[1;33m(\u001b[0m\u001b[1;33m)\u001b[0m\u001b[1;33m,\u001b[0m\u001b[1;34m'ob'\u001b[0m\u001b[1;33m)\u001b[0m\u001b[1;33m\u001b[0m\u001b[0m\n\u001b[0m\u001b[0;32m      2\u001b[0m \u001b[0mp2\u001b[0m\u001b[1;33m=\u001b[0m\u001b[0msemilogy\u001b[0m\u001b[1;33m(\u001b[0m\u001b[0mtt1\u001b[0m\u001b[1;33m.\u001b[0m\u001b[0mkeys\u001b[0m\u001b[1;33m(\u001b[0m\u001b[1;33m)\u001b[0m\u001b[1;33m,\u001b[0m\u001b[0mtsig\u001b[0m\u001b[1;33m.\u001b[0m\u001b[0mvalues\u001b[0m\u001b[1;33m(\u001b[0m\u001b[1;33m)\u001b[0m\u001b[1;33m,\u001b[0m\u001b[1;34m'or'\u001b[0m\u001b[1;33m)\u001b[0m\u001b[1;33m\u001b[0m\u001b[0m\n\u001b[0;32m      3\u001b[0m \u001b[0mlegend\u001b[0m\u001b[1;33m(\u001b[0m\u001b[1;33m(\u001b[0m\u001b[0mp1\u001b[0m\u001b[1;33m[\u001b[0m\u001b[1;36m0\u001b[0m\u001b[1;33m]\u001b[0m\u001b[1;33m,\u001b[0m\u001b[0mp2\u001b[0m\u001b[1;33m[\u001b[0m\u001b[1;36m0\u001b[0m\u001b[1;33m]\u001b[0m\u001b[1;33m)\u001b[0m\u001b[1;33m,\u001b[0m\u001b[1;33m(\u001b[0m\u001b[1;34m'rays'\u001b[0m\u001b[1;33m,\u001b[0m\u001b[1;34m'signature'\u001b[0m\u001b[1;33m)\u001b[0m\u001b[1;33m,\u001b[0m\u001b[0mloc\u001b[0m\u001b[1;33m=\u001b[0m\u001b[1;34m'best'\u001b[0m\u001b[1;33m)\u001b[0m\u001b[1;33m\u001b[0m\u001b[0m\n\u001b[0;32m      4\u001b[0m \u001b[0mxlabel\u001b[0m\u001b[1;33m(\u001b[0m\u001b[1;34m'cutoff'\u001b[0m\u001b[1;33m)\u001b[0m\u001b[1;33m\u001b[0m\u001b[0m\n\u001b[0;32m      5\u001b[0m \u001b[0mylabel\u001b[0m\u001b[1;33m(\u001b[0m\u001b[1;34m'#'\u001b[0m\u001b[1;33m)\u001b[0m\u001b[1;33m\u001b[0m\u001b[0m\n",
        "\u001b[1;31mNameError\u001b[0m: name 'semilogy' is not defined"
       ]
      }
     ],
     "prompt_number": 13
    },
    {
     "cell_type": "code",
     "collapsed": false,
     "input": [
      "#b1=bar(tt2.keys(),tt2.values(),color='red')\n",
      "#b2=bar(tt1.keys(),tt1.values(),color='blue')\n",
      "#b1=semilogx(tt2.keys(),log10(tt2.values()),color='red')\n",
      "#b2=semilogx(tt1.keys(),log10(tt1.values()),color='blue')\n",
      "#b3=semilogx(tt1.keys(),log10(0.1*(arange(10))**3),color='green')\n",
      "b1=loglog(tt2.keys(),tt2.values(),'k.')\n",
      "b2=loglog(tt1.keys(),tt1.values(),'r.')\n",
      "b3=loglog(tt1.keys(),0.1*arange(maxcutoff)**3,color='green')\n",
      "b4=loglog(tt1.keys(),0.001*arange(maxcutoff)**2,color='green')\n",
      "b5=loglog(tt1.keys(),0.1*arange(maxcutoff)**4.4,color='cyan')\n",
      "legend((b1[0],b2[0],b3[0],b4[0],b5[0]),('rays','signature',r'$O(N^3)$',r'$O(N^2)$',r'$O(N^{4.4})$'),loc='best')\n",
      "xlabel('cutoff')\n",
      "ylabel('time (s)')"
     ],
     "language": "python",
     "metadata": {},
     "outputs": [],
     "prompt_number": 22
    },
    {
     "cell_type": "code",
     "collapsed": false,
     "input": [
      "b1=loglog(tt2.keys(),tint.values(),color='red')\n",
      "b2=loglog(tt1.keys(),tsig.values(),color='blue')\n",
      "#b3=loglog(tt1.keys(),arange(maxcutoff)**3,color='green')\n",
      "#b4=loglog(tt1.keys(),arange(maxcutoff)**2,color='green')\n",
      "#legend((b1[0],b2[0],b3[0],b4[0]),('interactions','signatures',r'$O(N^3)$',r'$O(N^2)$'),loc='best')\n",
      "legend((b1[0],b2[0]),('interactions','signatures'),loc='best')\n",
      "xlabel('cutoff')\n",
      "ylabel('#')"
     ],
     "language": "python",
     "metadata": {},
     "outputs": [],
     "prompt_number": 23
    },
    {
     "cell_type": "code",
     "collapsed": false,
     "input": [
      "#b1=loglog(tsig.values(),tt1.values(),color='red')\n",
      "b2=loglog(tint.values(),tt2.values(),color='red')\n",
      "b3=loglog(tint.values(),0.0004*array(tint.values())**0.88,color='blue')\n",
      "xlabel('# Interactions')"
     ],
     "language": "python",
     "metadata": {},
     "outputs": [],
     "prompt_number": 25
    },
    {
     "cell_type": "code",
     "collapsed": false,
     "input": [
      "plot(tint.values(),tt2.values(),color='red')\n",
      "plot(tint.values(),0.0004*array(tint.values())**0.88,color='blue')"
     ],
     "language": "python",
     "metadata": {},
     "outputs": [],
     "prompt_number": 26
    },
    {
     "cell_type": "markdown",
     "metadata": {},
     "source": [
      "The computation time in rays grows exponentially with the number of interactions.\n",
      "\n",
      "$$T_{rays}=\\alpha N_i^{0.88} [s]$$"
     ]
    },
    {
     "cell_type": "code",
     "collapsed": false,
     "input": [
      "b1=loglog(tt2.keys(),tint.values(),color='red')\n",
      "b2=loglog(tt2.keys(),array(tt2.keys())**5,color='blue')"
     ],
     "language": "python",
     "metadata": {},
     "outputs": [],
     "prompt_number": 27
    },
    {
     "cell_type": "code",
     "collapsed": false,
     "input": [
      "for k in range(9):\n",
      "    r2d.show(L,i=k+1,colray='red',widthray=0.5)\n",
      "    title(str(k+1))"
     ],
     "language": "python",
     "metadata": {},
     "outputs": [],
     "prompt_number": 28
    },
    {
     "cell_type": "code",
     "collapsed": false,
     "input": [
      "fig,ax=r2d.show(L,i=1,figsize=(20,10),colray='red',widthray=3)\n",
      "fig,ax=r2d.show(L,i=1,colray='green',widthray=2,fig=fig,ax=ax)\n",
      "fig,ax=r2d.show(L,i=2,colray='blue',widthray=1,fig=fig,ax=ax)\n",
      "fig,ax=r2d.show(L,i=3,colray='black',widthray=1,fig=fig,ax=ax)\n",
      "fig,ax=r2d.show(L,i=4,colray='green',widthray=0.5,fig=fig,ax=ax)\n",
      "fig,ax=r2d.show(L,i=5,colray='green',widthray=0.5,fig=fig,ax=ax)\n",
      "fig,ax=r2d.show(L,i=6,colray='green',widthray=0.5,fig=fig,ax=ax)\n",
      "fig,ax=r2d.show(L,i=7,colray='green',widthray=0.5,fig=fig,ax=ax)\n",
      "fig,ax=r2d.show(L,i=8,colray='green',widthray=0.5,fig=fig,ax=ax)\n",
      "fig,ax=r2d.show(L,i=9,colray='green',widthray=0.5,fig=fig,ax=ax)\n",
      "fig.savefig('toto.pdf')"
     ],
     "language": "python",
     "metadata": {},
     "outputs": [],
     "prompt_number": 29
    },
    {
     "cell_type": "code",
     "collapsed": false,
     "input": [
      "from IPython.core.display import HTML\n",
      "\n",
      "def css_styling():\n",
      "    styles = open(\"../styles/custom.css\", \"r\").read()\n",
      "    return HTML(styles)\n",
      "css_styling()"
     ],
     "language": "python",
     "metadata": {},
     "outputs": [],
     "prompt_number": 1
    }
   ],
   "metadata": {}
  }
 ]
}