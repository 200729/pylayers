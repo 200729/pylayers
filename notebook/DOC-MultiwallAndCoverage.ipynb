{
 "metadata": {
  "name": ""
 },
 "nbformat": 3,
 "nbformat_minor": 0,
 "worksheets": [
  {
   "cells": [
    {
     "cell_type": "markdown",
     "metadata": {},
     "source": [
      "# Multi-wall model "
     ]
    },
    {
     "cell_type": "code",
     "collapsed": false,
     "input": [
      "import time\n",
      "from pylayers.util.project import *\n",
      "import pylayers.util.pyutil as pyu\n",
      "from pylayers.util.utilnet import str2bool\n",
      "from pylayers.gis.layout import Layout\n",
      "from pylayers.antprop.multiwall import *\n",
      "from pylayers.antprop.coverage import *\n",
      "from pylayers.network.model import *"
     ],
     "language": "python",
     "metadata": {},
     "outputs": [
      {
       "metadata": {},
       "output_type": "display_data",
       "text": [
        "<matplotlib.figure.Figure at 0x3307ad0>"
       ]
      }
     ],
     "prompt_number": 2
    },
    {
     "cell_type": "heading",
     "level": 2,
     "metadata": {},
     "source": [
      "Loading the layout "
     ]
    },
    {
     "cell_type": "markdown",
     "metadata": {},
     "source": [
      "The layout is loaded from an ini file. If the graphs are not available, they are built."
     ]
    },
    {
     "cell_type": "code",
     "collapsed": false,
     "input": [
      "L=Layout('TA-Office.ini')\n",
      "try:\n",
      "    L.dumpr() # load graphs\n",
      "except:\n",
      "    L.build()\n",
      "    L.dumpw()"
     ],
     "language": "python",
     "metadata": {},
     "outputs": [],
     "prompt_number": 3
    },
    {
     "cell_type": "heading",
     "level": 2,
     "metadata": {},
     "source": [
      "Defining a radio link"
     ]
    },
    {
     "cell_type": "markdown",
     "metadata": {},
     "source": [
      "The 2 extremities of the radio link are coordinates in `numpy.array` of transmitter and receiver. \n",
      "\n",
      "+ A a transmitter\n",
      "\n",
      "+ B a receiver\n",
      "\n"
     ]
    },
    {
     "cell_type": "code",
     "collapsed": false,
     "input": [
      "A=np.array((4,1)) # defining transmitter position \n",
      "B=np.array((30,12)) # defining receiver position"
     ],
     "language": "python",
     "metadata": {},
     "outputs": [],
     "prompt_number": 4
    },
    {
     "cell_type": "heading",
     "level": 2,
     "metadata": {},
     "source": [
      "Ploting the scene"
     ]
    },
    {
     "cell_type": "markdown",
     "metadata": {},
     "source": [
      "The scene is plotted with the `showG` method of the Layout"
     ]
    },
    {
     "cell_type": "code",
     "collapsed": false,
     "input": [
      "# figure instanciation\n",
      "f = plt.figure(figsize=(25,25))\n",
      "ax = f.add_subplot(111)\n",
      "r = np.array((A,B))\n",
      "# plotting the Layout\n",
      "f,ax = L.showG(fig=f,ax=ax,graph='s',nodes=False)\n",
      "# plotting the Tx and Rx\n",
      "ax.plot(A[0],A[1],'ob')\n",
      "ax.plot(B[0],B[1],'or')\n",
      "# plotting the LOS\n",
      "ax.plot(r[:,0],r[:,1])\n",
      "a = plt.axis('off')"
     ],
     "language": "python",
     "metadata": {},
     "outputs": [
      {
       "metadata": {},
       "output_type": "display_data",
       "png": "[encoded data removed]",
       "text": [
        "<matplotlib.figure.Figure at 0x7f9afcc75610>"
       ]
      }
     ],
     "prompt_number": 5
    },
    {
     "cell_type": "markdown",
     "metadata": {},
     "source": [
      "### Find the intersection between the \"direct\" path and the walls\n",
      "\n",
      "\n",
      "The function `angleonlink` returns the list of intersected segments and the corresponding incidence angles (in radians) with respect to the segment normal."
     ]
    },
    {
     "cell_type": "code",
     "collapsed": false,
     "input": [
      "nstr,thrad=L.angleonlink(A,B)\n",
      "print nstr,thrad"
     ],
     "language": "python",
     "metadata": {},
     "outputs": [
      {
       "output_type": "stream",
       "stream": "stdout",
       "text": [
        "[34, 36, 41, 67, 72] [ 0.40024066  0.40024066  0.40024066  1.17055567  1.17055567]\n"
       ]
      }
     ],
     "prompt_number": 6
    },
    {
     "cell_type": "markdown",
     "metadata": {},
     "source": [
      "The new implementation of angleonlink is faster"
     ]
    },
    {
     "cell_type": "code",
     "collapsed": false,
     "input": [
      "data = L.angleonlink2(A,B)\n",
      "print data"
     ],
     "language": "python",
     "metadata": {},
     "outputs": [
      {
       "output_type": "stream",
       "stream": "stdout",
       "text": [
        "[(0, 34, 0.4002406597137451) (0, 36, 0.4002406597137451)\n",
        " (0, 41, 0.4002406597137451) (0, 93, 1.1705557107925415)\n",
        " (0, 96, 1.1705557107925415)]\n"
       ]
      }
     ],
     "prompt_number": 7
    },
    {
     "cell_type": "markdown",
     "metadata": {},
     "source": [
      "### Computing the Multi-wall model\n",
      "\n",
      "The multi-wall model computation returns losses and LOS excess delay for orthogonal and parallel polarization"
     ]
    },
    {
     "cell_type": "code",
     "collapsed": false,
     "input": [
      "fGHz = 2.4\n",
      "\n",
      "# observation grid\n",
      "\n",
      "r = np.array((B,B))\n",
      "\n",
      "Lwo,Lwp,Edo,Edp = Losst(L,fGHz,r.T,A)\n",
      "\n",
      "print 'Losses orthogonal polarization \\t %g dB' %(Lwo[0][0])\n",
      "print 'Losses parallel polarization \\t %g  dB' % (Lwp[0][0])\n",
      "print 'Excess delay orthogonal polarization  \\t %g ns' %(Edo[0][0])\n",
      "print 'Excess delay parallel polarization   \\t %g ns' %(Edp[0][0])"
     ],
     "language": "python",
     "metadata": {},
     "outputs": [
      {
       "output_type": "stream",
       "stream": "stdout",
       "text": [
        "Losses orthogonal polarization \t 27.7333 dB\n",
        "Losses parallel polarization \t 16.0573  dB\n",
        "Excess delay orthogonal polarization  \t -2.23113 ns\n",
        "Excess delay parallel polarization   \t -2.12364 ns\n"
       ]
      }
     ],
     "prompt_number": 23
    },
    {
     "cell_type": "code",
     "collapsed": false,
     "input": [
      "Lwp"
     ],
     "language": "python",
     "metadata": {},
     "outputs": [
      {
       "metadata": {},
       "output_type": "pyout",
       "prompt_number": 24,
       "text": [
        "array([[ 16.05731085,  16.05731085]])"
       ]
      }
     ],
     "prompt_number": 24
    },
    {
     "cell_type": "code",
     "collapsed": false,
     "input": [
      "Lwo\n",
      "Lwp\n",
      "Edo\n",
      "Edp"
     ],
     "language": "python",
     "metadata": {},
     "outputs": [
      {
       "metadata": {},
       "output_type": "pyout",
       "prompt_number": 25,
       "text": [
        "array([[-2.1236409, -2.1236409]])"
       ]
      }
     ],
     "prompt_number": 25
    },
    {
     "cell_type": "code",
     "collapsed": false,
     "input": [
      "Lwo,Lwp,Edo,Edp=Losst(L,fGHz,r.T,A.T)\n",
      "print Lwo\n",
      "print Lwp\n",
      "print Edo\n",
      "print Edp"
     ],
     "language": "python",
     "metadata": {},
     "outputs": [
      {
       "output_type": "stream",
       "stream": "stdout",
       "text": [
        "[[ 27.73328738  27.73328738]]\n",
        "[[ 16.05731085  16.05731085]]\n",
        "[[-2.23112702 -2.23112702]]\n",
        "[[-2.1236409 -2.1236409]]\n"
       ]
      }
     ],
     "prompt_number": 26
    },
    {
     "cell_type": "markdown",
     "metadata": {},
     "source": [
      "# Coverage class"
     ]
    },
    {
     "cell_type": "markdown",
     "metadata": {},
     "source": [
      "By extension, the multi-wall model can also be used to perform a full coverage of a Layout given a transmitter position."
     ]
    },
    {
     "cell_type": "code",
     "collapsed": false,
     "input": [
      "C = Coverage()\n",
      "C.L  = L # set layout\n",
      "C.tx = A # set the transmitter"
     ],
     "language": "python",
     "metadata": {},
     "outputs": [],
     "prompt_number": 27
    },
    {
     "cell_type": "code",
     "collapsed": false,
     "input": [
      "np.shape(C.grid)"
     ],
     "language": "python",
     "metadata": {},
     "outputs": [
      {
       "metadata": {},
       "output_type": "pyout",
       "prompt_number": 28,
       "text": [
        "(3200, 2)"
       ]
      }
     ],
     "prompt_number": 28
    },
    {
     "cell_type": "markdown",
     "metadata": {},
     "source": [
      "### Compute the coverage"
     ]
    },
    {
     "cell_type": "code",
     "collapsed": false,
     "input": [
      "t1=time.time()\n",
      "C.cover()\n",
      "t2=time.time()\n",
      "print 'Coverage performed in ', t2-t1, 's'"
     ],
     "language": "python",
     "metadata": {},
     "outputs": [
      {
       "output_type": "stream",
       "stream": "stdout",
       "text": [
        "Coverage performed in  1.10760498047 s\n"
       ]
      }
     ],
     "prompt_number": 29
    },
    {
     "cell_type": "code",
     "collapsed": false,
     "input": [
      "C.grid"
     ],
     "language": "python",
     "metadata": {},
     "outputs": [
      {
       "metadata": {},
       "output_type": "pyout",
       "prompt_number": 30,
       "text": [
        "array([[ -0.495     ,  -8.267     ],\n",
        "       [ -0.495     ,  -7.82764103],\n",
        "       [ -0.495     ,  -7.38828205],\n",
        "       ..., \n",
        "       [ 32.576     ,   7.98928205],\n",
        "       [ 32.576     ,   8.42864103],\n",
        "       [ 32.576     ,   8.868     ]])"
       ]
      }
     ],
     "prompt_number": 30
    },
    {
     "cell_type": "code",
     "collapsed": false,
     "input": [
      "C.L"
     ],
     "language": "python",
     "metadata": {},
     "outputs": [
      {
       "metadata": {},
       "output_type": "pyout",
       "prompt_number": 31,
       "text": [
        "\n",
        "----------------\n",
        "TA-Office.ini\n",
        "Image('/home/uguen/Bureau/P1/struc/TA-Office.png')\n",
        "----------------\n",
        "\n",
        "Number of points  : 71\n",
        "Number of segments  : 87\n",
        "Number of sub segments  : 16\n",
        "Number of cycles  : 17\n",
        "Number of rooms  : 17\n",
        "degree 0 : []\n",
        "degree 1 : []\n",
        "degree 2 : 39\n",
        "degree 3 : 32\n",
        "\n",
        "xrange :(0.0, 40.0)\n",
        "yrange :(0.0, 15.0)\n",
        "\n",
        "Useful dictionnaries\n",
        "----------------\n",
        "di {interaction : [nstr,typi]}\n",
        "sl {slab name : slab dictionary}\n",
        "name :  {slab :seglist} \n",
        "\n",
        "Useful arrays\n",
        "----------------\n",
        "tsg : get segment index in Gs from tahe\n",
        "tgs : get segment index in tahe from Gs\n",
        "lsss : list of segments with sub-segment\n",
        "sla : associated slab name\n",
        "stridess : stride for adressing sub segment \n",
        "degree : degree of nodes "
       ]
      }
     ],
     "prompt_number": 31
    },
    {
     "cell_type": "code",
     "collapsed": false,
     "input": [
      "t1=time.time()\n",
      "C.cover()\n",
      "t2=time.time()\n",
      "print 'Coverage performed in ', t2-t1, 's'   "
     ],
     "language": "python",
     "metadata": {},
     "outputs": [
      {
       "output_type": "stream",
       "stream": "stdout",
       "text": [
        "Coverage performed in  1.03249716759 s\n"
       ]
      }
     ],
     "prompt_number": 32
    },
    {
     "cell_type": "markdown",
     "metadata": {},
     "source": [
      "### Coverage Map"
     ]
    },
    {
     "cell_type": "markdown",
     "metadata": {},
     "source": [
      "For Orthogonal polarization"
     ]
    },
    {
     "cell_type": "code",
     "collapsed": false,
     "input": [
      "C.showPower(polarization='o')\n",
      "C.showEd(polar='o')\n"
     ],
     "language": "python",
     "metadata": {},
     "outputs": [
      {
       "metadata": {},
       "output_type": "display_data",
       "png": "[encoded data removed]",
       "text": [
        "<matplotlib.figure.Figure at 0x41e7050>"
       ]
      },
      {
       "metadata": {},
       "output_type": "display_data",
       "png": "[encoded data removed]",
       "text": [
        "<matplotlib.figure.Figure at 0x41e7210>"
       ]
      },
      {
       "metadata": {},
       "output_type": "pyout",
       "prompt_number": 34,
       "text": [
        "(<matplotlib.figure.Figure at 0x41e7210>,\n",
        " <matplotlib.axes.AxesSubplot at 0x43c3710>)"
       ]
      }
     ],
     "prompt_number": 34
    },
    {
     "cell_type": "markdown",
     "metadata": {},
     "source": [
      "For parallel polarization"
     ]
    },
    {
     "cell_type": "code",
     "collapsed": false,
     "input": [
      "C.showPower(polar='p')\n",
      "C.showEd(polar='p')"
     ],
     "language": "python",
     "metadata": {},
     "outputs": [
      {
       "ename": "TypeError",
       "evalue": "showPower() got an unexpected keyword argument 'polar'",
       "output_type": "pyerr",
       "traceback": [
        "\u001b[1;31m---------------------------------------------------------------------------\u001b[0m\n\u001b[1;31mTypeError\u001b[0m                                 Traceback (most recent call last)",
        "\u001b[1;32m<ipython-input-35-22631c8efba0>\u001b[0m in \u001b[0;36m<module>\u001b[1;34m()\u001b[0m\n\u001b[1;32m----> 1\u001b[1;33m \u001b[0mC\u001b[0m\u001b[1;33m.\u001b[0m\u001b[0mshowPower\u001b[0m\u001b[1;33m(\u001b[0m\u001b[0mpolar\u001b[0m\u001b[1;33m=\u001b[0m\u001b[1;34m'p'\u001b[0m\u001b[1;33m)\u001b[0m\u001b[1;33m\u001b[0m\u001b[0m\n\u001b[0m\u001b[0;32m      2\u001b[0m \u001b[0mC\u001b[0m\u001b[1;33m.\u001b[0m\u001b[0mshowEd\u001b[0m\u001b[1;33m(\u001b[0m\u001b[0mpolar\u001b[0m\u001b[1;33m=\u001b[0m\u001b[1;34m'p'\u001b[0m\u001b[1;33m)\u001b[0m\u001b[1;33m\u001b[0m\u001b[0m\n",
        "\u001b[1;31mTypeError\u001b[0m: showPower() got an unexpected keyword argument 'polar'"
       ]
      }
     ],
     "prompt_number": 35
    },
    {
     "cell_type": "code",
     "collapsed": false,
     "input": [],
     "language": "python",
     "metadata": {},
     "outputs": []
    }
   ],
   "metadata": {}
  }
 ]
}