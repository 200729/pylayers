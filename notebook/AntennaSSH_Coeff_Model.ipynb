{
 "metadata": {
  "name": ""
 },
 "nbformat": 3,
 "nbformat_minor": 0,
 "worksheets": [
  {
   "cells": [
    {
     "cell_type": "code",
     "collapsed": false,
     "input": [
      "from pylayers.antprop.antenna import *\n",
      "from pylayers.antprop.antssh import *\n",
      "from pylayers.antprop.coeffModel import *"
     ],
     "language": "python",
     "metadata": {},
     "outputs": []
    },
    {
     "cell_type": "code",
     "collapsed": false,
     "input": [
      "A = Antenna('S1R1.mat','ant/UWBAN/Matfile')## thomson antenna \n",
      "#A = Antenna('S12R1.mat','ant/UWBAN/Matfile')### fratacl antenna "
     ],
     "language": "python",
     "metadata": {},
     "outputs": []
    },
    {
     "cell_type": "code",
     "collapsed": false,
     "input": [
      "A"
     ],
     "language": "python",
     "metadata": {},
     "outputs": []
    },
    {
     "cell_type": "markdown",
     "metadata": {},
     "source": [
      "compute SH functions \n"
     ]
    },
    {
     "cell_type": "code",
     "collapsed": false,
     "input": [
      "L = 20\n",
      "Y = SSHFunc(L, A.theta,A.phi)[0]"
     ],
     "language": "python",
     "metadata": {},
     "outputs": []
    },
    {
     "cell_type": "code",
     "collapsed": false,
     "input": [
      "A.Ftheta.shape"
     ],
     "language": "python",
     "metadata": {},
     "outputs": []
    },
    {
     "cell_type": "markdown",
     "metadata": {},
     "source": [
      "load sh2 file "
     ]
    },
    {
     "cell_type": "code",
     "collapsed": false,
     "input": [
      "# if the sh2 file does not already exist\n",
      "#L = 20\n",
      "#A = ssh(A,L=L)\n",
      "#A.savesh2()"
     ],
     "language": "python",
     "metadata": {},
     "outputs": []
    },
    {
     "cell_type": "code",
     "collapsed": false,
     "input": [
      "A.loadsh2()"
     ],
     "language": "python",
     "metadata": {},
     "outputs": []
    },
    {
     "cell_type": "code",
     "collapsed": false,
     "input": [
      "ec = SphereToCart(A.theta, A.phi, A.Ftheta, A.Fphi, True )"
     ],
     "language": "python",
     "metadata": {},
     "outputs": []
    },
    {
     "cell_type": "code",
     "collapsed": false,
     "input": [
      "ec .shape"
     ],
     "language": "python",
     "metadata": {},
     "outputs": []
    },
    {
     "cell_type": "markdown",
     "metadata": {},
     "source": [
      "SH coeff in free space "
     ]
    },
    {
     "cell_type": "code",
     "collapsed": false,
     "input": [
      "c = array ([A.S.Cx.s2,A.S.Cy.s2,A.S.Cz.s2])"
     ],
     "language": "python",
     "metadata": {},
     "outputs": []
    },
    {
     "cell_type": "code",
     "collapsed": false,
     "input": [
      "d = 130\n",
      "d0 = 30\n",
      "r = (d-d0)/5 +2\n",
      "B = Antenna('S2R'+str(r)+'.mat','ant/UWBAN/Matfile')\n",
      "#r = d/10\n",
      "#B = Antenna('S11R'+str(r)+'.mat','ant/UWBAN/Matfile')\n",
      "ecd = SphereToCart(B.theta, B.phi, B.Ftheta, B.Fphi, True )"
     ],
     "language": "python",
     "metadata": {},
     "outputs": []
    },
    {
     "cell_type": "markdown",
     "metadata": {},
     "source": [
      "Compute Coefficient from the model \n"
     ]
    },
    {
     "cell_type": "code",
     "collapsed": false,
     "input": [
      "cm = sshModel(c=c,d=d)"
     ],
     "language": "python",
     "metadata": {},
     "outputs": []
    },
    {
     "cell_type": "code",
     "collapsed": false,
     "input": [
      "cm.shape\n"
     ],
     "language": "python",
     "metadata": {},
     "outputs": []
    },
    {
     "cell_type": "code",
     "collapsed": false,
     "input": [
      "plot(abs(c[2,46]))\n",
      "plot(abs(cm[2,46]))"
     ],
     "language": "python",
     "metadata": {},
     "outputs": []
    },
    {
     "cell_type": "markdown",
     "metadata": {},
     "source": [
      "compute the field in cartesian coordiantes system  from modeled coeff "
     ]
    },
    {
     "cell_type": "code",
     "collapsed": false,
     "input": [
      "ecm = dot(cm,Y)\n",
      "esm = CartToSphere(A.theta,A.phi,ecm[0],ecm[1],ecm[2])"
     ],
     "language": "python",
     "metadata": {},
     "outputs": []
    },
    {
     "cell_type": "code",
     "collapsed": false,
     "input": [
      "ecm[0].shape"
     ],
     "language": "python",
     "metadata": {},
     "outputs": []
    },
    {
     "cell_type": "markdown",
     "metadata": {},
     "source": [
      "Comparison \n"
     ]
    },
    {
     "cell_type": "code",
     "collapsed": false,
     "input": [
      "th = A.theta[45]\n",
      "vm = RepAzimuth1 (Ec= ecm, theta = A.theta, phi=  A.phi, th= th,typ = 'Gain')\n",
      "vd = RepAzimuth1 (Ec= ecd.reshape((3,104,len(A.theta)*len(A.phi))), theta = A.theta, phi=  A.phi, th= th,typ = 'Gain')\n",
      "v = RepAzimuth1 (Ec= ec.reshape((3,104,len(A.theta)*len(A.phi))), theta = A.theta, phi=  A.phi, th= th,typ = 'Gain')"
     ],
     "language": "python",
     "metadata": {},
     "outputs": []
    },
    {
     "cell_type": "code",
     "collapsed": false,
     "input": [
      "ifreq = 46\n",
      "figure(figsize = (7,7))\n",
      "polar(A.phi, v[ifreq],label='free space')\n",
      "polar(A.phi, vd[ifreq], label ='measure at d= '+str(d))\n",
      "polar(A.phi, vm[ifreq], label = 'model at d= '+str(d))\n",
      "legend()"
     ],
     "language": "python",
     "metadata": {},
     "outputs": []
    },
    {
     "cell_type": "markdown",
     "metadata": {},
     "source": [
      "relative error at distance d wrt the frequency "
     ]
    },
    {
     "cell_type": "code",
     "collapsed": false,
     "input": [
      "th_err = []\n",
      "ph_err = []\n",
      "err = []\n",
      "for k in range(46,104):    \n",
      "    errelTh, errelPh, errel= relative_error(Eth_original=abs(B.Ftheta), Eph_original=abs(B.Fphi),Eth_model=abs(esm[0]), Eph_model=abs(esm[1]),theta=A.theta, phi= A.phi, kf =int(k))\n",
      "    th_err.append(errelTh)\n",
      "    ph_err.append(errelPh)\n",
      "    err.append(errel)\n",
      "    \n",
      "\n",
      "        \n"
     ],
     "language": "python",
     "metadata": {},
     "outputs": []
    },
    {
     "cell_type": "code",
     "collapsed": false,
     "input": [
      "errelTh, errelPh, errel= relative_error(Eth_original=abs(B.Ftheta), Eph_original=abs(B.Fphi),Eth_model=abs(esm[0]), Eph_model=abs(esm[1]),theta=A.theta, phi= A.phi)"
     ],
     "language": "python",
     "metadata": {},
     "outputs": []
    },
    {
     "cell_type": "code",
     "collapsed": false,
     "input": [
      "figure (figsize=(10,5))\n",
      "plot(A.fa[46:],th_err, label='Etheta relative error')\n",
      "plot(A.fa[46:],ph_err, label='Ephi relative error')\n",
      "plot(A.fa[46:],err, label='relative error')\n",
      "xlabel('frequency(GHz)')\n",
      "ylabel('relative error')\n",
      "title('distance ='+str(d)+'mm')\n",
      "grid()\n",
      "legend(loc=0)"
     ],
     "language": "python",
     "metadata": {},
     "outputs": []
    },
    {
     "cell_type": "markdown",
     "metadata": {},
     "source": [
      "Relative error wrt the distance between phantom and antenna "
     ]
    },
    {
     "cell_type": "code",
     "collapsed": false,
     "input": [
      "th_err_d = []\n",
      "ph_err_d = []\n",
      "err_d = []\n",
      "dist = range(30,140,10)\n",
      "for d in dist:\n",
      "    print 'd = ',d\n",
      "    r = (d-d0)/5 +2\n",
      "    B = Antenna('S2R'+str(r)+'.mat','ant/UWBAN/Matfile')\n",
      "    #r = d/10\n",
      "    #B = Antenna('S11R'+str(r)+'.mat','ant/UWBAN/Matfile')\n",
      "    ecd = SphereToCart(B.theta, B.phi, B.Ftheta, B.Fphi, True )\n",
      "    cm = sshModel(c=c,d=d)\n",
      "    ecm = dot(cm,Y)\n",
      "    esm = CartToSphere(A.theta,A.phi,ecm[0],ecm[1],ecm[2])\n",
      "    errelTh, errelPh, errel= relative_error(Eth_original=abs(B.Ftheta), Eph_original=abs(B.Fphi),Eth_model=abs(esm[0]), Eph_model=abs(esm[1]),theta=A.theta, phi= A.phi)\n",
      "    th_err_d.append(errelTh)\n",
      "    ph_err_d.append(errelPh)\n",
      "    err_d.append(errel)\n",
      "\n",
      "plot(dist,th_err_d,label = 'Etheta relative error')\n",
      "plot(dist,ph_err_d,label = 'Ephi relative error')\n",
      "plot(dist,err_d,label = 'relative error')\n",
      "grid()\n",
      "xlabel('distance (mm)')\n",
      "ylabel('relative error')\n",
      "legend(loc = 0)\n"
     ],
     "language": "python",
     "metadata": {},
     "outputs": []
    },
    {
     "cell_type": "code",
     "collapsed": false,
     "input": [],
     "language": "python",
     "metadata": {},
     "outputs": []
    }
   ],
   "metadata": {}
  }
 ]
}