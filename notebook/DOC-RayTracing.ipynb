{
 "metadata": {
  "name": ""
 },
 "nbformat": 3,
 "nbformat_minor": 0,
 "worksheets": [
  {
   "cells": [
    {
     "cell_type": "code",
     "collapsed": false,
     "input": [
      "from pylayers.simul.simulem import *"
     ],
     "language": "python",
     "metadata": {},
     "outputs": [
      {
       "metadata": {},
       "output_type": "display_data",
       "text": [
        "<matplotlib.figure.Figure at 0x45cfa90>"
       ]
      }
     ],
     "prompt_number": 1
    },
    {
     "cell_type": "heading",
     "level": 2,
     "metadata": {},
     "source": [
      "Ray-tracing"
     ]
    },
    {
     "cell_type": "code",
     "collapsed": false,
     "input": [
      "S = Simul()\n",
      "# loading a layout \n",
      "filestr = 'TA-Office'\n",
      "# load the material and slab dictionnaries\n",
      "S.layout(filestr+'.str','matDB.ini','slabDB.ini')"
     ],
     "language": "python",
     "metadata": {},
     "outputs": [],
     "prompt_number": 2
    },
    {
     "cell_type": "heading",
     "level": 3,
     "metadata": {},
     "source": [
      "Setting the transmitter"
     ]
    },
    {
     "cell_type": "code",
     "collapsed": false,
     "input": [
      "S.tx = RadioNode(typ='tx')\n",
      "S.tx.point([1.2,1,1.4])"
     ],
     "language": "python",
     "metadata": {},
     "outputs": [],
     "prompt_number": 12
    },
    {
     "cell_type": "heading",
     "level": 3,
     "metadata": {},
     "source": [
      "Setting the receiver"
     ]
    },
    {
     "cell_type": "code",
     "collapsed": false,
     "input": [
      "S.rx = RadioNode(typ='rx')\n",
      "S.rx.point([8,1.2,1.5],mode='append')\n",
      "S.rx.point([8,1.31,1.5],mode='append')\n",
      "S.rx.point([8,1.42,1.5],mode='append')\n",
      "S.rx.point([8,1.53,1.5],mode='append')\n",
      "S.rx.point([8,1.64,1.5],mode='append')\n",
      "\n",
      "S.save()"
     ],
     "language": "python",
     "metadata": {},
     "outputs": [],
     "prompt_number": 16
    },
    {
     "cell_type": "heading",
     "level": 3,
     "metadata": {},
     "source": [
      "Adjust simulation parameters (optional)"
     ]
    },
    {
     "cell_type": "code",
     "collapsed": false,
     "input": [
      "\n",
      "# print launching parameters\n",
      "S.palch.info()\n",
      "\n",
      "# ang Tx : angular step from Tx\n",
      "S.palch.angTx  = 1\n",
      "\n",
      "# ISB ang Incident Shadow Boundary angle (degree) \n",
      "S.palch.ISBang = 90  \n",
      "\n",
      "# ray elimination Threshold \n",
      "S.palch.ethreshold = 0.001\n",
      "\n",
      "# maximum depth\n",
      "S.palch.maxdeep  = 10\n",
      "\n",
      "# typealgo = 0 (include diffraction) 1 (no diffraction)\n",
      "S.palch.typalgo = 1\n",
      "title = str(S.palch.angTx) + '-' +\\\n",
      "        str(S.palch.ISBang) + '-' +\\\n",
      "        str(S.palch.ethreshold) + '-' + \\\n",
      "        str(S.palch.maxdeep) + '-' + \\\n",
      "        str(S.palch.typalgo)\n",
      "\n",
      "S.palch.save()\n",
      "S.pafreq.fghzmin=2\n",
      "S.pafreq.fghzmax=11\n",
      "S.pafreq.nf=181\n",
      "S.pafreq.save()"
     ],
     "language": "python",
     "metadata": {},
     "outputs": [
      {
       "output_type": "stream",
       "stream": "stdout",
       "text": [
        "----------------------------------------------\n",
        "            Launching Parameter               \n",
        "----------------------------------------------\n",
        "angTx      : Tx angular step ( degrees)     :  1\n",
        "ISBang     : ISB angular sector ( degrees ) :  90\n",
        "ethreshold : Exploration Threshold (linear) :  0.001\n",
        "maxdeep    : Tree deep max (integer value)  :  10\n",
        "typalgo    : Type of algo (default 0)       :  1\n"
       ]
      }
     ],
     "prompt_number": 17
    },
    {
     "cell_type": "heading",
     "level": 3,
     "metadata": {},
     "source": [
      "Run the ray tracing"
     ]
    },
    {
     "cell_type": "code",
     "collapsed": false,
     "input": [
      "S.show()"
     ],
     "language": "python",
     "metadata": {},
     "outputs": [
      {
       "output_type": "stream",
       "stream": "stdout",
       "text": [
        "Warning : no furniture file loaded\n"
       ]
      },
      {
       "metadata": {},
       "output_type": "pyout",
       "prompt_number": 18,
       "text": [
        "(<matplotlib.figure.Figure at 0x4142a90>,\n",
        " <matplotlib.axes.AxesSubplot at 0x2a993d0>)"
       ]
      },
      {
       "metadata": {},
       "output_type": "display_data",
       "png": "[encoded data removed]",
       "text": [
        "<matplotlib.figure.Figure at 0x4142a90>"
       ]
      }
     ],
     "prompt_number": 18
    },
    {
     "cell_type": "code",
     "collapsed": false,
     "input": [
      "S.launching(1)"
     ],
     "language": "python",
     "metadata": {},
     "outputs": [],
     "prompt_number": 22
    },
    {
     "cell_type": "code",
     "collapsed": false,
     "input": [
      "S.tracing(1,1,verbose=True)"
     ],
     "language": "python",
     "metadata": {},
     "outputs": [
      {
       "output_type": "stream",
       "stream": "stdout",
       "text": [
        "tracing -lch TA-Office_slabDB_def_radiotx_1.lch -patra def.patra  -spa radiorx.spa -conf /home/uguen/Bureau/P1/project.conf\n"
       ]
      }
     ],
     "prompt_number": 24
    },
    {
     "cell_type": "markdown",
     "metadata": {},
     "source": [
      "### Plot CIR"
     ]
    },
    {
     "cell_type": "code",
     "collapsed": false,
     "input": [
      "S.pltcir(1,1)"
     ],
     "language": "python",
     "metadata": {},
     "outputs": [
      {
       "ename": "KeyError",
       "evalue": "1",
       "output_type": "pyerr",
       "traceback": [
        "\u001b[1;31m---------------------------------------------------------------------------\u001b[0m\n\u001b[1;31mKeyError\u001b[0m                                  Traceback (most recent call last)",
        "\u001b[1;32m<ipython-input-9-6b9450368cc5>\u001b[0m in \u001b[0;36m<module>\u001b[1;34m()\u001b[0m\n\u001b[1;32m----> 1\u001b[1;33m \u001b[0mS\u001b[0m\u001b[1;33m.\u001b[0m\u001b[0mpltcir\u001b[0m\u001b[1;33m(\u001b[0m\u001b[1;36m1\u001b[0m\u001b[1;33m,\u001b[0m\u001b[1;36m1\u001b[0m\u001b[1;33m)\u001b[0m\u001b[1;33m\u001b[0m\u001b[0m\n\u001b[0m",
        "\u001b[1;32m/home/uguen/Documents/rch/devel/pylayersbug/pylayers/simul/simulem.py\u001b[0m in \u001b[0;36mpltcir\u001b[1;34m(self, itx, irx, mode, noise, color, format, fig, ax)\u001b[0m\n\u001b[0;32m   1547\u001b[0m         \u001b[1;31m#    ax = fig.gca()\u001b[0m\u001b[1;33m\u001b[0m\u001b[1;33m\u001b[0m\u001b[0m\n\u001b[0;32m   1548\u001b[0m \u001b[1;33m\u001b[0m\u001b[0m\n\u001b[1;32m-> 1549\u001b[1;33m         \u001b[0m_filecir\u001b[0m \u001b[1;33m=\u001b[0m \u001b[0mself\u001b[0m\u001b[1;33m.\u001b[0m\u001b[0mdcir\u001b[0m\u001b[1;33m[\u001b[0m\u001b[0mitx\u001b[0m\u001b[1;33m]\u001b[0m\u001b[1;33m[\u001b[0m\u001b[0mirx\u001b[0m\u001b[1;33m]\u001b[0m \u001b[1;33m+\u001b[0m \u001b[1;34m'.mat'\u001b[0m\u001b[1;33m\u001b[0m\u001b[0m\n\u001b[0m\u001b[0;32m   1550\u001b[0m         \u001b[0mfilecir\u001b[0m \u001b[1;33m=\u001b[0m \u001b[0mpyu\u001b[0m\u001b[1;33m.\u001b[0m\u001b[0mgetlong\u001b[0m\u001b[1;33m(\u001b[0m\u001b[0m_filecir\u001b[0m\u001b[1;33m,\u001b[0m \u001b[0mpstruc\u001b[0m\u001b[1;33m[\u001b[0m\u001b[1;34m'DIRCIR'\u001b[0m\u001b[1;33m]\u001b[0m\u001b[1;33m+\u001b[0m\u001b[1;34m'/Tx'\u001b[0m \u001b[1;33m+\u001b[0m \u001b[0mstr\u001b[0m\u001b[1;33m(\u001b[0m\u001b[1;34m'%0.3d'\u001b[0m \u001b[1;33m%\u001b[0m \u001b[0mitx\u001b[0m\u001b[1;33m)\u001b[0m\u001b[1;33m)\u001b[0m\u001b[1;33m\u001b[0m\u001b[0m\n\u001b[0;32m   1551\u001b[0m         \u001b[0mD\u001b[0m \u001b[1;33m=\u001b[0m \u001b[0mspio\u001b[0m\u001b[1;33m.\u001b[0m\u001b[0mloadmat\u001b[0m\u001b[1;33m(\u001b[0m\u001b[0mfilecir\u001b[0m\u001b[1;33m)\u001b[0m\u001b[1;33m\u001b[0m\u001b[0m\n",
        "\u001b[1;31mKeyError\u001b[0m: 1"
       ]
      },
      {
       "metadata": {},
       "output_type": "display_data",
       "text": [
        "<matplotlib.figure.Figure at 0x45d90d0>"
       ]
      }
     ],
     "prompt_number": 9
    },
    {
     "cell_type": "code",
     "collapsed": false,
     "input": [],
     "language": "python",
     "metadata": {},
     "outputs": []
    }
   ],
   "metadata": {}
  }
 ]
}