{
 "metadata": {
  "name": ""
 },
 "nbformat": 3,
 "nbformat_minor": 0,
 "worksheets": [
  {
   "cells": [
    {
     "cell_type": "code",
     "collapsed": false,
     "input": [
      "from pylayers.simul.simulem import *"
     ],
     "language": "python",
     "metadata": {},
     "outputs": [],
     "prompt_number": 1
    },
    {
     "cell_type": "heading",
     "level": 2,
     "metadata": {},
     "source": [
      "Ray-tracing"
     ]
    },
    {
     "cell_type": "code",
     "collapsed": false,
     "input": [
      "S = Simul()\n",
      "# loading a layout \n",
      "filestr = 'TA-Office'\n",
      "# load the material and slab dictionnaries\n",
      "S.layout(filestr+'.str','matDB.ini','slabDB.ini')"
     ],
     "language": "python",
     "metadata": {},
     "outputs": [],
     "prompt_number": 2
    },
    {
     "cell_type": "heading",
     "level": 3,
     "metadata": {},
     "source": [
      "Setting the transmitter"
     ]
    },
    {
     "cell_type": "code",
     "collapsed": false,
     "input": [
      "S.tx = RadioNode(typ='tx')\n",
      "S.tx.point([1.2,1,1.4])"
     ],
     "language": "python",
     "metadata": {},
     "outputs": [],
     "prompt_number": 12
    },
    {
     "cell_type": "heading",
     "level": 3,
     "metadata": {},
     "source": [
      "Setting the receiver"
     ]
    },
    {
     "cell_type": "code",
     "collapsed": false,
     "input": [
      "S.rx = RadioNode(typ='rx')\n",
      "S.rx.point([8,1.2,1.5],mode='append')\n",
      "S.rx.point([8,1.31,1.5],mode='append')\n",
      "S.rx.point([8,1.42,1.5],mode='append')\n",
      "S.rx.point([8,1.53,1.5],mode='append')\n",
      "S.rx.point([8,1.64,1.5],mode='append')\n",
      "\n",
      "S.save()"
     ],
     "language": "python",
     "metadata": {},
     "outputs": [],
     "prompt_number": 16
    },
    {
     "cell_type": "heading",
     "level": 3,
     "metadata": {},
     "source": [
      "Adjust simulation parameters (optional)"
     ]
    },
    {
     "cell_type": "code",
     "collapsed": false,
     "input": [
      "\n",
      "# print launching parameters\n",
      "S.palch.info()\n",
      "\n",
      "# ang Tx : angular step from Tx\n",
      "S.palch.angTx  = 1\n",
      "\n",
      "# ISB ang Incident Shadow Boundary angle (degree) \n",
      "S.palch.ISBang = 90  \n",
      "\n",
      "# ray elimination Threshold \n",
      "S.palch.ethreshold = 0.001\n",
      "\n",
      "# maximum depth\n",
      "S.palch.maxdeep  = 10\n",
      "\n",
      "# typealgo = 0 (include diffraction) 1 (no diffraction)\n",
      "S.palch.typalgo = 1\n",
      "title = str(S.palch.angTx) + '-' +\\\n",
      "        str(S.palch.ISBang) + '-' +\\\n",
      "        str(S.palch.ethreshold) + '-' + \\\n",
      "        str(S.palch.maxdeep) + '-' + \\\n",
      "        str(S.palch.typalgo)\n",
      "\n",
      "S.palch.save()\n",
      "S.pafreq.fghzmin=2\n",
      "S.pafreq.fghzmax=11\n",
      "S.pafreq.nf=181\n",
      "S.pafreq.save()"
     ],
     "language": "python",
     "metadata": {},
     "outputs": [],
     "prompt_number": 17
    },
    {
     "cell_type": "heading",
     "level": 3,
     "metadata": {},
     "source": [
      "Run the ray tracing"
     ]
    },
    {
     "cell_type": "code",
     "collapsed": false,
     "input": [
      "S.show()"
     ],
     "language": "python",
     "metadata": {},
     "outputs": [],
     "prompt_number": 18
    },
    {
     "cell_type": "code",
     "collapsed": false,
     "input": [
      "S.launching(1)"
     ],
     "language": "python",
     "metadata": {},
     "outputs": [],
     "prompt_number": 22
    },
    {
     "cell_type": "code",
     "collapsed": false,
     "input": [
      "S.tracing(1,1,verbose=True)"
     ],
     "language": "python",
     "metadata": {},
     "outputs": [],
     "prompt_number": 24
    },
    {
     "cell_type": "markdown",
     "metadata": {},
     "source": [
      "### Plot CIR"
     ]
    },
    {
     "cell_type": "code",
     "collapsed": false,
     "input": [
      "S.pltcir(1,1)"
     ],
     "language": "python",
     "metadata": {},
     "outputs": [],
     "prompt_number": 9
    },
    {
     "cell_type": "code",
     "collapsed": false,
     "input": [],
     "language": "python",
     "metadata": {},
     "outputs": []
    }
   ],
   "metadata": {}
  }
 ]
}
