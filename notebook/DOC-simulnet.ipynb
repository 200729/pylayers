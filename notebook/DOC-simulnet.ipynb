{
 "metadata": {
  "name": "DOC-simulnet"
 },
 "nbformat": 3,
 "nbformat_minor": 0,
 "worksheets": [
  {
   "cells": [
    {
     "cell_type": "markdown",
     "metadata": {},
     "source": [
      "# A 2 minutes tutorial"
     ]
    },
    {
     "cell_type": "markdown",
     "metadata": {},
     "source": [
      "This notebbok explains how to run a simation from the simulnet module. \n"
     ]
    },
    {
     "cell_type": "markdown",
     "metadata": {},
     "source": [
      "## 1. Run the simulation"
     ]
    },
    {
     "cell_type": "code",
     "collapsed": false,
     "input": [
      "from pylayers.simul.simulnet import *\n",
      "S=Simul()\n",
      "# config\n",
      "S.sim_opt['duration']='3.'\n",
      "S.verbose=False\n",
      "# run\n",
      "S.runsimul()\n",
      "# just for closing an extra figure from notebook,\n",
      "plt.close()\n",
      "\n",
      "\n"
     ],
     "language": "python",
     "metadata": {},
     "outputs": [
      {
       "output_type": "stream",
       "stream": "stdout",
       "text": [
        "Layout graphs are loaded from  /private/staff/t/ot/niamiot/Bureau/P1 /struc\n",
        "0.25"
       ]
      },
      {
       "output_type": "stream",
       "stream": "stdout",
       "text": [
        " 1.5\n",
        "0.0625 1.375\n",
        "0.015625 1.34375\n",
        "wait"
       ]
      },
      {
       "output_type": "stream",
       "stream": "stdout",
       "text": [
        " 0.1\n",
        "Processing save results, please wait"
       ]
      },
      {
       "output_type": "stream",
       "stream": "stdout",
       "text": [
        "\n"
       ]
      },
      {
       "metadata": {},
       "output_type": "display_data",
       "text": [
        "<matplotlib.figure.Figure at 0x9db944c>"
       ]
      },
      {
       "metadata": {},
       "output_type": "display_data",
       "text": [
        "<matplotlib.figure.Figure at 0xa26f3ac>"
       ]
      }
     ],
     "prompt_number": 1
    },
    {
     "cell_type": "markdown",
     "metadata": {},
     "source": [
      "S.EMS Invoque an electromagnetic solver"
     ]
    },
    {
     "cell_type": "markdown",
     "metadata": {},
     "source": [
      "## 2 show the save results\n",
      "\n"
     ]
    },
    {
     "cell_type": "markdown",
     "metadata": {},
     "source": [
      "Data are store into a dictionnary:\n",
      "\n"
     ]
    },
    {
     "cell_type": "code",
     "collapsed": false,
     "input": [
      "node_id = '1'\n",
      "node_id2 = '6'\n",
      "print 'Node # ',node_id\n",
      "print '\\nemitted power', S.save.save['saveopt']['epwr'][node_id]\n",
      "print 'sensitivity node', S.save.save['saveopt']['sens'][node_id]\n",
      "print 'type', S.save.save['saveopt']['type'][node_id]\n",
      "print '\\nAt time stamp 0:'\n",
      "print 'true position', S.save.save[node_id]['p'][0]\n",
      "print 'estimated position', S.save.save[node_id]['pe'][0]\n",
      "print '\\nOn rat1'\n",
      "print 'Received powers ',S.save.save[node_id][node_id2]['rat1']['Pr'][0]\n",
      "print 'TOA ',S.save.save[node_id][node_id2]['rat1']['TOA'][0]\n"
     ],
     "language": "python",
     "metadata": {},
     "outputs": [
      {
       "output_type": "stream",
       "stream": "stdout",
       "text": [
        "Node #  1\n",
        "\n",
        "emitted power {'rat2': 0, 'rat1': 0}\n",
        "sensitivity node {'rat2': -1000, 'rat1': -1000}\n",
        "type ag\n",
        "\n",
        "At time stamp 0:\n",
        "true position [ 7.99155976  7.96623904]\n",
        "estimated position [ nan  nan]\n",
        "\n",
        "On rat1\n",
        "Received powers  [-95.15846509   3.        ]\n",
        "TOA  [ 49.09007484   0.3       ]\n"
       ]
      }
     ],
     "prompt_number": 25
    },
    {
     "cell_type": "markdown",
     "metadata": {},
     "source": [
      "saved data can also been import into Matlab directly.\n",
      "\n",
      "A '.mat' file is generated into yout <pyproject>/netsave directory"
     ]
    },
    {
     "cell_type": "markdown",
     "metadata": {},
     "source": [
      "# Simulation\n",
      "\n"
     ]
    },
    {
     "cell_type": "markdown",
     "metadata": {},
     "source": [
      "## Configuration files\n"
     ]
    },
    {
     "cell_type": "markdown",
     "metadata": {},
     "source": [
      "All the simulation can be configured with specific config files. A specific note book describe them."
     ]
    },
    {
     "cell_type": "code",
     "collapsed": false,
     "input": [
      "from IPython.display import FileLink\n",
      "FileLink('DOC-Config_files.ipynb')"
     ],
     "language": "python",
     "metadata": {},
     "outputs": [
      {
       "html": [
        "<a href='files/DOC-Config_files.ipynb' target='_blank'>DOC-Config_files.ipynb</a><br>"
       ],
       "metadata": {},
       "output_type": "pyout",
       "prompt_number": 49,
       "text": [
        "/private/staff/t/ot/niamiot/Documents/Code/pylayers/notebook/DOC-Config_files.ipynb"
       ]
      }
     ],
     "prompt_number": 49
    },
    {
     "cell_type": "markdown",
     "metadata": {},
     "source": [
      "All agents and anchors are gathers into a list of agent"
     ]
    },
    {
     "cell_type": "code",
     "collapsed": false,
     "input": [
      "S.lAg"
     ],
     "language": "python",
     "metadata": {},
     "outputs": [
      {
       "metadata": {},
       "output_type": "pyout",
       "prompt_number": 26,
       "text": [
        "[<pylayers.mobility.agent.Agent at 0xa40586c>,\n",
        " <pylayers.mobility.agent.Agent at 0xa4092cc>,\n",
        " <pylayers.mobility.agent.Agent at 0xa350a6c>,\n",
        " <pylayers.mobility.agent.Agent at 0xa402d8c>,\n",
        " <pylayers.mobility.agent.Agent at 0xa42f7cc>]"
       ]
      }
     ],
     "prompt_number": 26
    },
    {
     "cell_type": "markdown",
     "metadata": {},
     "source": [
      "# Mechanical Attributes\n",
      "\n",
      "Only concern moving agents\n",
      "\n",
      "\n",
      "\n",
      "    "
     ]
    },
    {
     "cell_type": "code",
     "collapsed": false,
     "input": [
      "\n",
      "print 'Agent ID:',S.lAg[0].meca.ID\n",
      "print 'Agent name:',S.lAg[0].meca.name\n",
      "print 'Agent mass:',S.lAg[0].meca.mass\n",
      "\n",
      "\n",
      "print '\\nposition vector:',S.lAg[0].meca.position\n",
      "print 'velocity vector:',S.lAg[0].meca.velocity\n",
      "print 'acceleration vector:',S.lAg[0].meca.acceleration\n",
      "\n",
      "print '\\nwaiting time in room:',S.lAg[0].meca.wait\n",
      "print 'coordinates of its target:',S.lAg[0].meca.destination\n",
      "print 'a list coordinates of its intermediate target:',S.lAg[0].meca.wp\n"
     ],
     "language": "python",
     "metadata": {},
     "outputs": [
      {
       "output_type": "stream",
       "stream": "stdout",
       "text": [
        "Agent ID: 1\n",
        "Agent name: Person_ID1\n",
        "Agent mass: 80\n",
        "\n",
        "position vector: (4.5786, 5.0739, 0.0000)\n",
        "velocity vector: (-0.8272, 0.4118, 0.0000)\n",
        "acceleration vector: (-0.2979, 0.0871, 0.0000)\n",
        "\n",
        "waiting time in room: 1.0\n",
        "coordinates of its target: (2.5000, 6.0000, 0.0000)\n",
        "a list coordinates of its intermediate target: [(8.0, 8.0), (7.5, 6.0), (5.0, 5.0)]\n"
       ]
      }
     ],
     "prompt_number": 27
    },
    {
     "cell_type": "markdown",
     "metadata": {},
     "source": [
      "# Network Attributes"
     ]
    },
    {
     "cell_type": "markdown",
     "metadata": {},
     "source": [
      "The network is a graph:\n",
      "\n",
      "* Nodes of the graph represent  Agents or access points\n",
      "* Edges of the graph represent radio link between nodes "
     ]
    },
    {
     "cell_type": "markdown",
     "metadata": {},
     "source": [
      "The node is a dictionnary which contains the following keys :\n",
      "\n",
      "* 'PN'  : Personnal Network ( described in the following)\n",
      "* 'RAT' : A list of RAT of which it belongs\n",
      "* 'p'   : true position\n",
      "* 'pe'  : estimated position if it has been computed by the node itself ( cf. location tutorial )\n",
      "* 't'   : A time stamp\n",
      "* 'type': Its type ( 'ag' : for agent or 'ap' for access point )\n",
      "\n",
      "example with node '1'"
     ]
    },
    {
     "cell_type": "code",
     "collapsed": false,
     "input": [
      "S.net.node['1']"
     ],
     "language": "python",
     "metadata": {},
     "outputs": [
      {
       "metadata": {},
       "output_type": "pyout",
       "prompt_number": 28,
       "text": [
        "{'PN': <pylayers.network.network.Network at 0xa41586c>,\n",
        " 'RAT': ['rat1', 'rat2'],\n",
        " 'epwr': {'rat1': 0, 'rat2': 0},\n",
        " 'p': array([ 4.57863257,  5.07388847]),\n",
        " 'pe': array([ 7.35745013,  5.46007477]),\n",
        " 'pe_geo': array([ 7.35745013,  5.46007477]),\n",
        " 'sens': {'rat1': -1000, 'rat2': -1000},\n",
        " 't': 2.9000000000000012,\n",
        " 'type': 'ag'}"
       ]
      }
     ],
     "prompt_number": 28
    },
    {
     "cell_type": "markdown",
     "metadata": {},
     "source": [
      "Each node are link by the edge of the graph\n",
      "\n",
      "\n",
      "The edge is a dictionnary which contains the following keys :\n",
      "\n",
      "\n",
      "example with node '1'"
     ]
    },
    {
     "cell_type": "code",
     "collapsed": false,
     "input": [
      "S.net.edge['1']"
     ],
     "language": "python",
     "metadata": {},
     "outputs": [
      {
       "metadata": {},
       "output_type": "pyout",
       "prompt_number": 29,
       "text": [
        "{'6': {'rat1': {'Pr': array([-83.20016511,   3.        ]),\n",
        "   'TOA': array([ 33.56610997,   0.3       ]),\n",
        "   'd': 9.6601399863902433,\n",
        "   'vis': True},\n",
        "  'rat2': {'Pr': array([-83.20016511,   3.        ]),\n",
        "   'TOA': array([ 33.56610997,   0.3       ]),\n",
        "   'd': 9.6601399863902433,\n",
        "   'vis': True}},\n",
        " '7': {'rat1': {'Pr': array([-83.06606664,   3.        ]),\n",
        "   'TOA': array([ 33.20722,   0.3    ]),\n",
        "   'd': 9.5524566178453316,\n",
        "   'vis': True}},\n",
        " '8': {'rat1': {'Pr': array([-91.62467017,   3.        ]),\n",
        "   'TOA': array([ 36.22668818,   0.3       ]),\n",
        "   'd': 10.252638323767037,\n",
        "   'vis': True}},\n",
        " '9': {'rat1': {'Pr': array([-91.58256798,   3.        ]),\n",
        "   'TOA': array([ 35.88979422,   0.3       ]),\n",
        "   'd': 10.151242065734515,\n",
        "   'vis': True}}}"
       ]
      }
     ],
     "prompt_number": 29
    },
    {
     "cell_type": "code",
     "collapsed": false,
     "input": [],
     "language": "python",
     "metadata": {},
     "outputs": [],
     "prompt_number": 29
    },
    {
     "cell_type": "code",
     "collapsed": false,
     "input": [],
     "language": "python",
     "metadata": {},
     "outputs": []
    }
   ],
   "metadata": {}
  }
 ]
}