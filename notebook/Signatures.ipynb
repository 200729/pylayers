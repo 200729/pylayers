{
 "metadata": {
  "name": ""
 },
 "nbformat": 3,
 "nbformat_minor": 0,
 "worksheets": [
  {
   "cells": [
    {
     "cell_type": "code",
     "collapsed": false,
     "input": [
      "from pylayers.gis.layout import *\n",
      "from pylayers.antprop.signature import *\n",
      "from pylayers.antprop.rays import *\n",
      "L = Layout()"
     ],
     "language": "python",
     "metadata": {},
     "outputs": [
      {
       "metadata": {},
       "output_type": "display_data",
       "text": [
        "<matplotlib.figure.Figure at 0x3da7d50>"
       ]
      }
     ],
     "prompt_number": 3
    },
    {
     "cell_type": "code",
     "collapsed": false,
     "input": [
      "L.info()\n",
      "L.build()"
     ],
     "language": "python",
     "metadata": {},
     "outputs": [
      {
       "output_type": "stream",
       "stream": "stdout",
       "text": [
        "filestr :  defstr.ini\n",
        "filematini :  matDB.ini\n",
        "fileslabini :  slabDB.ini\n",
        "filegeom :  defstr.off\n",
        "boundaries  (0.0, 10.0, -2.0, 2.0)\n",
        "number of Points : 8\n",
        "number of Segments : 9\n",
        "number of Sub-Segments : 1\n",
        "Gs Nodes :  17\n",
        "Gs Edges :  18\n",
        "Gt Nodes :  0\n",
        "Gt Edges :  0\n",
        "vnodes = Gt.node[Nc]['cycles'].cycle \n",
        "poly = Gt.node[Nc]['cycle'].polyg \n",
        "Gr Nodes    : 0\n",
        "Gr Edges    : 0\n",
        "Nc  = Gr.node[nroom]['cycles']  \n"
       ]
      }
     ],
     "prompt_number": 4
    },
    {
     "cell_type": "code",
     "collapsed": false,
     "input": [
      "L.showG('r')\n",
      "a=plt.axis('off')"
     ],
     "language": "python",
     "metadata": {},
     "outputs": [
      {
       "metadata": {},
       "output_type": "display_data",
       "png": "[encoded data removed]",
       "text": [
        "<matplotlib.figure.Figure at 0x49b95d0>"
       ]
      }
     ],
     "prompt_number": 5
    },
    {
     "cell_type": "code",
     "collapsed": false,
     "input": [
      "L.showG('v')\n",
      "a=plt.axis('off')"
     ],
     "language": "python",
     "metadata": {},
     "outputs": [
      {
       "metadata": {},
       "output_type": "display_data",
       "png": "[encoded data removed]",
       "text": [
        "<matplotlib.figure.Figure at 0x49e1150>"
       ]
      }
     ],
     "prompt_number": 6
    },
    {
     "cell_type": "code",
     "collapsed": false,
     "input": [
      "L.display"
     ],
     "language": "python",
     "metadata": {},
     "outputs": [
      {
       "metadata": {},
       "output_type": "pyout",
       "prompt_number": 7,
       "text": [
        "{'activelayer': 'WINDOW_GLASS',\n",
        " 'alpha': 1,\n",
        " 'box': [-0.37049742710119965,\n",
        "  13.029159519725557,\n",
        "  -3.7719298245614032,\n",
        "  5.01349527665317],\n",
        " 'clear': False,\n",
        " 'edges': True,\n",
        " 'edlabel': False,\n",
        " 'edlblsize': 20,\n",
        " 'ednodes': True,\n",
        " 'fileoverlay': '',\n",
        " 'fontsize': 10,\n",
        " 'inverse': False,\n",
        " 'layer': [],\n",
        " 'layers': ['WALL'],\n",
        " 'layerset': ['WINDOW_GLASS',\n",
        "  'PLASTERBOARD_7CM',\n",
        "  'WALL',\n",
        "  'AIR',\n",
        "  'WINDOW',\n",
        "  'METALIC',\n",
        "  'PLASTERBOARD_14CM',\n",
        "  'DOOR',\n",
        "  'FLOOR',\n",
        "  'METAL',\n",
        "  'PARTITION',\n",
        "  'CONCRETE_20CM3D',\n",
        "  'PLASTERBOARD_10CM',\n",
        "  'CEIL',\n",
        "  'CONCRETE_6CM3D',\n",
        "  'CONCRETE_15CM3D',\n",
        "  '3D_WINDOW_GLASS',\n",
        "  'WALLS',\n",
        "  'WOOD',\n",
        "  'CONCRETE_7CM3D',\n",
        "  'PILLAR',\n",
        "  'ABSORBENT'],\n",
        " 'ndlabel': False,\n",
        " 'ndlblsize': 20,\n",
        " 'ndsize': 10,\n",
        " 'nodes': True,\n",
        " 'overlay': False,\n",
        " 'scaled': False,\n",
        " 'subseg': True,\n",
        " 'thin': False,\n",
        " 'ticksoff': False,\n",
        " 'title': 'CP lclic : free point, rclic same x, cclic same y',\n",
        " 'visu': False}"
       ]
      }
     ],
     "prompt_number": 7
    },
    {
     "cell_type": "code",
     "collapsed": false,
     "input": [
      "\n",
      "L.showG('i',figsize=(10,10))\n",
      "a=plt.axis('off')"
     ],
     "language": "python",
     "metadata": {},
     "outputs": [
      {
       "metadata": {},
       "output_type": "display_data",
       "png": "[encoded data removed]",
       "text": [
        "<matplotlib.figure.Figure at 0x4bc4f90>"
       ]
      }
     ],
     "prompt_number": 8
    },
    {
     "cell_type": "code",
     "collapsed": false,
     "input": [
      "L.Gt.node[0]['inter']"
     ],
     "language": "python",
     "metadata": {},
     "outputs": [
      {
       "metadata": {},
       "output_type": "pyout",
       "prompt_number": 9,
       "text": [
        "['(8, 0)',\n",
        " '(8, 0, 1)',\n",
        " '(8, 1, 0)',\n",
        " '(9, 0)',\n",
        " '(9, 0, 1)',\n",
        " '(9, 1, 0)',\n",
        " '(7, 0)',\n",
        " '(7, 0, 1)',\n",
        " '(7, 1, 0)',\n",
        " '(5, 0)',\n",
        " '(6, 0)',\n",
        " '(1, 0)']"
       ]
      }
     ],
     "prompt_number": 9
    },
    {
     "cell_type": "code",
     "collapsed": false,
     "input": [
      "Si = Signatures(L,0,1)"
     ],
     "language": "python",
     "metadata": {},
     "outputs": [],
     "prompt_number": 10
    },
    {
     "cell_type": "code",
     "collapsed": false,
     "input": [
      "Si"
     ],
     "language": "python",
     "metadata": {},
     "outputs": [
      {
       "metadata": {},
       "output_type": "pyout",
       "prompt_number": 11,
       "text": [
        "Signatures : \n",
        "------------------\n",
        "248\n",
        "from : 0 to 1\n"
       ]
      }
     ],
     "prompt_number": 11
    },
    {
     "cell_type": "code",
     "collapsed": false,
     "input": [
      "Si.info()"
     ],
     "language": "python",
     "metadata": {},
     "outputs": [
      {
       "output_type": "stream",
       "stream": "stdout",
       "text": [
        "Signatures for scenario defined by :\n",
        "Layout\n",
        "======\n",
        "filestr :  defstr.ini\n",
        "filematini :  matDB.ini\n",
        "fileslabini :  slabDB.ini\n",
        "filegeom :  defstr.off\n",
        "boundaries  (0.0, 10.0, -2.0, 2.0)\n",
        "number of Points : 8\n",
        "number of Segments : 9\n",
        "number of Sub-Segments : 1\n",
        "Gs Nodes :  17\n",
        "Gs Edges :  18\n",
        "Gt Nodes :  2\n",
        "Gt Edges :  1\n",
        "vnodes = Gt.node[Nc]['cycles'].cycle \n",
        "poly = Gt.node[Nc]['cycle'].polyg \n",
        "Gr Nodes    : 2\n",
        "Gr Edges    : 1\n",
        "Nc  = Gr.node[nroom]['cycles']  \n",
        "================================\n",
        "source :  0\n",
        "target :  1\n"
       ]
      }
     ],
     "prompt_number": 12
    },
    {
     "cell_type": "code",
     "collapsed": false,
     "input": [
      "Si.run1()"
     ],
     "language": "python",
     "metadata": {},
     "outputs": [],
     "prompt_number": 13
    },
    {
     "cell_type": "code",
     "collapsed": false,
     "input": [
      "Si\n"
     ],
     "language": "python",
     "metadata": {},
     "outputs": [
      {
       "metadata": {},
       "output_type": "pyout",
       "prompt_number": 14,
       "text": [
        "Signatures : \n",
        "------------------\n",
        "248\n",
        "from : 0 to 1\n",
        "1 : 6\n",
        "2 : 36\n"
       ]
      }
     ],
     "prompt_number": 14
    },
    {
     "cell_type": "code",
     "collapsed": false,
     "input": [
      "Si[1].reshape(3,2,1)"
     ],
     "language": "python",
     "metadata": {},
     "outputs": [
      {
       "metadata": {},
       "output_type": "pyout",
       "prompt_number": 31,
       "text": [
        "array([[[8],\n",
        "        [2]],\n",
        "\n",
        "       [[9],\n",
        "        [2]],\n",
        "\n",
        "       [[7],\n",
        "        [2]]])"
       ]
      }
     ],
     "prompt_number": 31
    },
    {
     "cell_type": "code",
     "collapsed": false,
     "input": [
      "Si[2].reshape(18,2,2)"
     ],
     "language": "python",
     "metadata": {},
     "outputs": [
      {
       "metadata": {},
       "output_type": "pyout",
       "prompt_number": 32,
       "text": [
        "array([[[8, 3],\n",
        "        [2, 1]],\n",
        "\n",
        "       [[8, 4],\n",
        "        [2, 1]],\n",
        "\n",
        "       [[8, 2],\n",
        "        [2, 1]],\n",
        "\n",
        "       [[9, 3],\n",
        "        [2, 1]],\n",
        "\n",
        "       [[9, 4],\n",
        "        [2, 1]],\n",
        "\n",
        "       [[9, 2],\n",
        "        [2, 1]],\n",
        "\n",
        "       [[7, 3],\n",
        "        [2, 1]],\n",
        "\n",
        "       [[7, 4],\n",
        "        [2, 1]],\n",
        "\n",
        "       [[7, 2],\n",
        "        [2, 1]],\n",
        "\n",
        "       [[5, 7],\n",
        "        [1, 2]],\n",
        "\n",
        "       [[5, 9],\n",
        "        [1, 2]],\n",
        "\n",
        "       [[5, 8],\n",
        "        [1, 2]],\n",
        "\n",
        "       [[6, 7],\n",
        "        [1, 2]],\n",
        "\n",
        "       [[6, 9],\n",
        "        [1, 2]],\n",
        "\n",
        "       [[6, 8],\n",
        "        [1, 2]],\n",
        "\n",
        "       [[1, 7],\n",
        "        [1, 2]],\n",
        "\n",
        "       [[1, 9],\n",
        "        [1, 2]],\n",
        "\n",
        "       [[1, 8],\n",
        "        [1, 2]]])"
       ]
      }
     ],
     "prompt_number": 32
    },
    {
     "cell_type": "markdown",
     "metadata": {},
     "source": [
      "In this example for lisibility reason the diffraction has not been included into the calculation"
     ]
    },
    {
     "cell_type": "code",
     "collapsed": false,
     "input": [
      "Si[2]"
     ],
     "language": "python",
     "metadata": {},
     "outputs": [
      {
       "metadata": {},
       "output_type": "pyout",
       "prompt_number": 28,
       "text": [
        "array([[8, 3],\n",
        "       [2, 1],\n",
        "       [8, 4],\n",
        "       [2, 1],\n",
        "       [8, 2],\n",
        "       [2, 1],\n",
        "       [9, 3],\n",
        "       [2, 1],\n",
        "       [9, 4],\n",
        "       [2, 1],\n",
        "       [9, 2],\n",
        "       [2, 1],\n",
        "       [7, 3],\n",
        "       [2, 1],\n",
        "       [7, 4],\n",
        "       [2, 1],\n",
        "       [7, 2],\n",
        "       [2, 1],\n",
        "       [5, 7],\n",
        "       [1, 2],\n",
        "       [5, 9],\n",
        "       [1, 2],\n",
        "       [5, 8],\n",
        "       [1, 2],\n",
        "       [6, 7],\n",
        "       [1, 2],\n",
        "       [6, 9],\n",
        "       [1, 2],\n",
        "       [6, 8],\n",
        "       [1, 2],\n",
        "       [1, 7],\n",
        "       [1, 2],\n",
        "       [1, 9],\n",
        "       [1, 2],\n",
        "       [1, 8],\n",
        "       [1, 2]])"
       ]
      }
     ],
     "prompt_number": 28
    },
    {
     "cell_type": "code",
     "collapsed": false,
     "input": [],
     "language": "python",
     "metadata": {},
     "outputs": []
    }
   ],
   "metadata": {}
  }
 ]
}