{
 "metadata": {
  "celltoolbar": "Slideshow",
  "name": "",
  "signature": "sha256:aaf5fb4ff78a58e4458dd05f501cdd10b5acc6e989dd4e0b54361647d82c8f8b"
 },
 "nbformat": 3,
 "nbformat_minor": 0,
 "worksheets": [
  {
   "cells": [
    {
     "cell_type": "code",
     "collapsed": false,
     "input": [
      "%matplotlib inline\n",
      "from matplotlib.pyplot import *\n",
      "from IPython.display import Image\n",
      "from pylayers.gis.layout import *\n",
      "from pylayers.mobility.ban.body import *"
     ],
     "language": "python",
     "metadata": {
      "slideshow": {
       "slide_type": "skip"
      }
     },
     "outputs": [],
     "prompt_number": 9
    },
    {
     "cell_type": "markdown",
     "metadata": {
      "slideshow": {
       "slide_type": "slide"
      }
     },
     "source": [
      "<center>\n",
      "<h1 class=\"title\"><font color=\"#2201FF\">Indoor On-body Channel Ray Tracing and Motion Capture Based Simulation</font></h1>\n",
      "<h2 class=\"title\"> IC1004 COST Meeting Aalborg 2014</h2>\n",
      "<h2> Meriem Mhedhbi,  Nicolas Amiot, St\u00e9phane Avrillon, <u>Bernard Uguen</u></h2>\n",
      "<h1><font color=\"#2201FF\">http://tinyurl.com/pr65ujz</font></h1>\n",
      "</center>"
     ]
    },
    {
     "cell_type": "markdown",
     "metadata": {
      "slideshow": {
       "slide_type": "skip"
      }
     },
     "source": [
      "<div>\n",
      "\n",
      "<img class=\"logo\" src=\"./files/images/logo.png\" height=10>\n",
      "\n",
      "</div>\n",
      "\n"
     ]
    },
    {
     "cell_type": "markdown",
     "metadata": {},
     "source": [
      "<img class=\"logo\" src=\"https://raw.githubusercontent.com/pylayers/pylayers/master/doc/notebook/9-PRES/files/images/logo.png\">"
     ]
    },
    {
     "cell_type": "markdown",
     "metadata": {
      "slideshow": {
       "slide_type": "slide"
      }
     },
     "source": [
      "<h1 class=\"title\">Outline </h1>"
     ]
    },
    {
     "cell_type": "markdown",
     "metadata": {},
     "source": [
      "* Introduction\n",
      "* CORMORAN project\n",
      "* Description of Measurements Campaign [Nicta Lab Data](http://tinyurl.com/jwp55gs) from [[Smith11]](http://www.nicta.com.au/pub?doc=3430)  \n",
      "* [PyLayers](http://pylayers.github.io/pylayers) Simulation Setup\n",
      "* Measurements vs Simulation\n",
      "* Conclusions and Perspectives"
     ]
    },
    {
     "cell_type": "markdown",
     "metadata": {
      "slideshow": {
       "slide_type": "slide"
      }
     },
     "source": [
      "<h1 class=\"title\"> CORMORAN Project Context</h1>"
     ]
    },
    {
     "cell_type": "markdown",
     "metadata": {},
     "source": [
      "\n",
      "+ To produce test vectors for WBAN localization algorithms \n",
      "    + LSIMC (Large Scale **Individual** Motion Capture)\n",
      "    + CGN (Coordinated Group Navigation)\n",
      "    "
     ]
    },
    {
     "cell_type": "markdown",
     "metadata": {
      "slideshow": {
       "slide_type": "slide"
      }
     },
     "source": [
      "<h1 class=\"title\"> CORMORAN Project Context (Scenario LSIMC)</h1>"
     ]
    },
    {
     "cell_type": "markdown",
     "metadata": {},
     "source": [
      "<center>\n",
      "<div>\n",
      "<img class=\"logo\" src=\"./files/LSIMC.png\" height=250 width=250/>\n",
      "<h2> Large Scale Individual Motion Capture [CORMORAN-D11]</h2>\n",
      "</div>\n",
      "</center>"
     ]
    },
    {
     "cell_type": "markdown",
     "metadata": {
      "slideshow": {
       "slide_type": "slide"
      }
     },
     "source": [
      "<h1 class=\"title\"> CORMORAN Project Context (Scenario CGN)</h1>"
     ]
    },
    {
     "cell_type": "markdown",
     "metadata": {},
     "source": [
      "<center>\n",
      "<div>\n",
      "<img class=\"logo\" src=\"./files/CGN.png\" height=550 width=550/>\n",
      "<h2> Large Scale Individual Motion Capture [CORMORAN-D11]</h2>\n",
      "</div>\n",
      "</center>"
     ]
    },
    {
     "cell_type": "markdown",
     "metadata": {
      "slideshow": {
       "slide_type": "slide"
      }
     },
     "source": [
      "<h1 class=\"title\"> Measurement Setup (1) </h1>"
     ]
    },
    {
     "cell_type": "markdown",
     "metadata": {},
     "source": [
      "* **Configuration**: On Body Walking\n",
      "* **Frequency**  : 2.36 GHz\n",
      "* **Environment** : Indoor Office \n",
      "* VSA vector signal analysis **sampled for approximately 10 s**"
     ]
    },
    {
     "cell_type": "markdown",
     "metadata": {
      "slideshow": {
       "slide_type": "skip"
      }
     },
     "source": [
      "Channel measurements were performed by transmitting test signals emanating from a VSA centered in regions around the\n",
      "400-, 900-, and 2,400-MHz ISM bands, specifically 427,\n",
      "820, and 2,360 MHz. The test signals were separately\n",
      "transmitted from one antenna while the 181.5-cm/78-kg\n",
      "male test subject performed three different actions: \n",
      "+ (1) standing still\n",
      "+ (2) walking on the spot,\n",
      "+ (3) running on the spot."
     ]
    },
    {
     "cell_type": "markdown",
     "metadata": {
      "slideshow": {
       "slide_type": "fragment"
      }
     },
     "source": [
      "<center>\n",
      "<div>\n",
      "<img class=\"logo\" src=\"./figures/environment.png\" height=400 width=400/>\n",
      "<h2> Layout of the environement setup from [Smith11]</h2>\n",
      "</div>\n",
      "</center>"
     ]
    },
    {
     "cell_type": "markdown",
     "metadata": {
      "slideshow": {
       "slide_type": "slide"
      }
     },
     "source": [
      "<h1 class=\"title\"> Measurement Setup (2) </h1>"
     ]
    },
    {
     "cell_type": "markdown",
     "metadata": {},
     "source": [
      "* Subject moving on a treadmill\n",
      "* Walking scenario: speed  = 3km/h during 10s\n",
      "* Devices On-body configuration\n",
      "* Antenna : [Octane BW-2400-2500](http://www.pharad.com/pdf/WLAN-Wearable-Antenna-Datasheet.pdf)\n"
     ]
    },
    {
     "cell_type": "markdown",
     "metadata": {},
     "source": [
      "<center>\n",
      "<div>\n",
      "<table>\n",
      "<tr><tcl><img src=\"./figures/devLoc.png\" height=\"50\" width=\"200\" /></tcl>\n",
      "</table>\n",
      "</div>\n",
      "<h3>Positions of the radio devices from [Smith2011]</h3>\n",
      "</center>\n"
     ]
    },
    {
     "cell_type": "markdown",
     "metadata": {
      "slideshow": {
       "slide_type": "skip"
      }
     },
     "source": [
      "<h1 class=\"title\">Simulation Setup (1)</h1>"
     ]
    },
    {
     "cell_type": "markdown",
     "metadata": {
      "slideshow": {
       "slide_type": "-"
      }
     },
     "source": [
      "+ Layout and Propagation Environment\n",
      "    + Furnitures are not modeled (treadmill)\n",
      "+ Large Scale and Body Scale Mobility\n",
      "    + Pylayers handles large scale mobility: agent = gravity center\n",
      "    + Body Scale Mobility is plugged using a motion capture files\n",
      "    + Centered trajectory to simulate walking on treadmill (speed = 3km/h)"
     ]
    },
    {
     "cell_type": "markdown",
     "metadata": {
      "slideshow": {
       "slide_type": "-"
      }
     },
     "source": [
      "<center>\n",
      "<div>\n",
      "<img  src=\"./files/snapshot5.png\" height=\"300\" width=\"300\"/>\n",
      "<img src=\"./files/snapJohn1.png\" height=\"200\" width=\"200\" />\n",
      "</div>\n",
      "<h3>Positions of the radio devices along a synthetic trajectory</h3>\n",
      "</center>\n"
     ]
    },
    {
     "cell_type": "markdown",
     "metadata": {
      "slideshow": {
       "slide_type": "skip"
      }
     },
     "source": [
      "<h1 class=\"title\">Simulation Setup (1)</h1>"
     ]
    },
    {
     "cell_type": "code",
     "collapsed": false,
     "input": [
      "John=Body('John.ini')\n",
      "John"
     ],
     "language": "python",
     "metadata": {},
     "outputs": [
      {
       "metadata": {},
       "output_type": "pyout",
       "prompt_number": 12,
       "text": [
        "My name is : John\n",
        "\n",
        "I have a d1 device on the upper part of trunk\n",
        "I have a cardio device on the upper part of trunk\n",
        "I have a d3 device on the upper part of trunk\n",
        "I have a d2 device on the upper part of trunk\n",
        "I have a watch device on the left forearm\n",
        "I have a watch device on the right forearm\n",
        "I have a d5 device on the left calf\n",
        "I have a d4 device on the right calf\n",
        "I am nowhere yet\n",
        "\n",
        "filename : 07_01.c3d\n",
        "nframes : 300\n",
        "Centered : True\n",
        "Mocap Speed : 1.366 m/s \n"
       ]
      }
     ],
     "prompt_number": 12
    },
    {
     "cell_type": "markdown",
     "metadata": {
      "slideshow": {
       "slide_type": "skip"
      }
     },
     "source": [
      "<h1 class=\"title\">Simulation Setup (Body Configuration fine `John.ini`)</h1>"
     ]
    },
    {
     "cell_type": "code",
     "collapsed": false,
     "input": [
      "%load ~/Bureau/P1/ini/John.ini"
     ],
     "language": "python",
     "metadata": {},
     "outputs": [],
     "prompt_number": 17
    },
    {
     "cell_type": "code",
     "collapsed": false,
     "input": [
      "[nodes]\n",
      "0 = STRN\n",
      "1 = CLAV\n",
      "2 = RFHD \n",
      "3 =RSHO \n",
      "4 =LSHO\n",
      "5 =RELB \n",
      "6 =LELB \n",
      "7 =RWRB \n",
      "8 =LWRB\n",
      "9 =RFWT\n",
      "10 =LFWT \n",
      "11 =RKNE\n",
      "12 =LKNE \n",
      "13 =RANK \n",
      "14 =LANK \n",
      "15 =BOTT \n",
      "[cylinder]\n",
      "; sternum (STRN) - clavicule (CLAV)\n",
      "trunku = {'t':15,'h':1,'r':0.18,'i':0}\n",
      "; bottom  (BOTT) sternum (STRN)  \n",
      ";trunkb = {'t':15,'h':0,'r':0.17,'i':10}\n",
      "; clavicule (CLAV)  - tete (RFHD)\n",
      "headu = {'t':1,'h':2,'r':0.12,'i':1}\n",
      "; coude droit (RELB)  epaule droite (RSHO)\n",
      "armr = {'t':5,'h':3,'r':0.05,'i':2}\n",
      "; coude gauche (LELB)  epaule gauche (LSHO)\n",
      "arml  = {'t':6,'h':4,'r':0.05,'i':3}\n",
      "; poignet droit (RWRB) coude droit (RELB)  \n",
      "forearmr = {'t':7,'h':5,'r':0.05,'i':4}\n",
      "; left wrist (LWRB)  left elbow (LELB)  \n",
      "forearml = {'t':8,'h':6,'r':0.05,'i':5}\n",
      "; knee droit (RKNE) hanche droit (RFWT)  \n",
      "thighr = {'t':11,'h':9,'r':0.05,'i':6}\n",
      "; knee left (LKNE)  hanche left (LFWT)  \n",
      "thighl = {'t':12,'h':10,'r':0.05,'i':7}\n",
      "; cheville droit (RANK) genou  droit (RKNE)  \n",
      "calfr = {'t':13,'h':11,'r':0.05,'i':8}\n",
      "; cheville droit (LANK) genou  droit (LKNE)  \n",
      "calfl = {'t':14,'h':12,'r':0.05,'i':9}\n",
      "[device]\n",
      "; front chest device \n",
      "0 = {'typ':'static','name':'cardio','cyl':'trunku','l':0.8,'h':0.01,'a':0,'file':'S17R2m.sh3','T':np.array([[1,0,0],[0,1,0],[0,0,1]])}\n",
      "; back chest device\n",
      "1 = {'typ':'static','name':'d1','cyl':'trunku','l':0.5,'h':0.01,'a':180,'file':'S17R2m.sh3','T':np.array([[1,0,0],[0,1,0],[0,0,1]])}\n",
      "; right hip device \n",
      "2 = {'typ':'static','name':'d2','cyl':'trunku','l':0.1,'h':0.01,'a':340,'file':'S17R2m.sh3','T':np.array([[1,0,0],[0,1,0],[0,0,1]])}\n",
      "; left hip device \n",
      "3 = {'typ':'static','name':'d3','cyl':'trunku','l':0.1,'h':0.01,'a':20,'file':'S17R2m.sh3','T':np.array([[1,0,0],[0,1,0],[0,0,1]])}\n",
      "; right wrist device \n",
      "4 = {'typ':'dynamic','name':'watch','cyl':'forearmr','l':0.2,'h':0.01,'a':260,'file':'S17R2m.sh3','T':np.array([[1,0,0],[0,1,0],[0,0,1]])}\n",
      "; left wrist device \n",
      "5 = {'typ':'dynamic','name':'watch','cyl':'forearml','l':0.2,'h':0.01,'a':100,'file':'S17R2m.sh3','T':np.array([[1,0,0],[0,1,0],[0,0,1]])}\n",
      ";right ankle device\n",
      "6 = {'typ':'dynamic','name':'d4','cyl':'calfr','l':0.2,'h':0.01,'a':0,'file':'S17R2m.sh3','T':np.array([[1,0,0],[0,1,0],[0,0,1]])}\n",
      ";right ankle device\n",
      "7 = {'typ':'dynamic','name':'d5','cyl':'calfl','l':0.2,'h':0.01,'a':0,'file':'S17R2m.sh3','T':np.array([[1,0,0],[0,1,0],[0,0,1]])}\n",
      "[mocap]\n",
      "walk = '07_01_c3d' \n"
     ],
     "language": "python",
     "metadata": {},
     "outputs": []
    },
    {
     "cell_type": "markdown",
     "metadata": {
      "slideshow": {
       "slide_type": "slide"
      }
     },
     "source": [
      "<h1 class=\"title\">Simulation Setup : Body Perturbed Antenna Model in Spherical Harmonics space</h1>"
     ]
    },
    {
     "cell_type": "markdown",
     "metadata": {},
     "source": [
      "<center>\n",
      "<div>\n",
      "<img class=\"logo\" src=\"./figures/octaneFS.png\" height=1500 width=1500 />\n",
      "<h4> Free space antenna pattern f= 2.6GHz</h4> \n",
      "<img class=\"logo\" src=\"./figures/octaneP.png\" height=1500 width=1500/>\n",
      "<h4> Perturbed antenna pattern f= 2.6GHz</h4> \n",
      "</div>\n",
      "</center>"
     ]
    },
    {
     "cell_type": "markdown",
     "metadata": {
      "slideshow": {
       "slide_type": "skip"
      }
     },
     "source": [
      "<h1 class=\"title\">Simulation Setup (1)</h1>"
     ]
    },
    {
     "cell_type": "markdown",
     "metadata": {
      "slideshow": {
       "slide_type": "skip"
      }
     },
     "source": [
      "<center>\n",
      "<div>\n",
      "<img src=\"https://raw.githubusercontent.com/pylayers/pylayers/master/doc/notebook/9-PRES/files/snapJohn1.png\" height=\"400\" width=\"400\" />\n",
      "</div>\n",
      "<h3>Positions of the radio devices along a synthetic trajectory</h3>\n",
      "</center>"
     ]
    },
    {
     "cell_type": "markdown",
     "metadata": {
      "slideshow": {
       "slide_type": "skip"
      }
     },
     "source": [
      "<h1 class=\"title\">Simulation Setup (1)</h1>"
     ]
    },
    {
     "cell_type": "markdown",
     "metadata": {},
     "source": [
      "<center>\n",
      "<div>\n",
      "<img  src=\"https://raw.githubusercontent.com/pylayers/pylayers/master/doc/notebook/9-PRES/files/snapshot5.png\" height=\"500\" width=\"500\"/>\n",
      "</div>\n",
      "<h3>Positions of the radio devices along a synthetic trajectory</h3>\n",
      "</center>"
     ]
    },
    {
     "cell_type": "markdown",
     "metadata": {
      "slideshow": {
       "slide_type": "slide"
      }
     },
     "source": [
      "<h1 class=\"title\">SimulationSetup (2) </h1>"
     ]
    },
    {
     "cell_type": "markdown",
     "metadata": {},
     "source": [
      "Motion capture file **07_01.c3d** from [Cmu graphics lab motion capture database]( http://mocap.cs.cmu.edu/search.php?subjectnumber=%&motion=%)"
     ]
    },
    {
     "cell_type": "markdown",
     "metadata": {},
     "source": [
      "<center>\n",
      "<div>\n",
      "<img class=\"logo\" src=\"./figures/07_01c3d.png\" height=100 />\n",
      "<h2> Walking Motion Capture Sequence 07_01.c3d</h2>\n",
      "</div>\n",
      "</center>"
     ]
    },
    {
     "cell_type": "markdown",
     "metadata": {
      "slideshow": {
       "slide_type": "slide"
      }
     },
     "source": [
      "<h1 class=\"title\">Measurements vs Simulation</h1>"
     ]
    },
    {
     "cell_type": "code",
     "collapsed": false,
     "input": [
      "%matplotlib inline\n",
      "import h5py\n",
      "from numpy import *\n",
      "from matplotlib.pyplot import *\n",
      "from pylayers.util.CDF import *"
     ],
     "language": "python",
     "metadata": {
      "slideshow": {
       "slide_type": "skip"
      }
     },
     "outputs": []
    },
    {
     "cell_type": "markdown",
     "metadata": {
      "slideshow": {
       "slide_type": "skip"
      }
     },
     "source": [
      "Reading the data file"
     ]
    },
    {
     "cell_type": "code",
     "collapsed": false,
     "input": [
      "onbody = h5py.File('onbody.h5','r')"
     ],
     "language": "python",
     "metadata": {
      "slideshow": {
       "slide_type": "skip"
      }
     },
     "outputs": []
    },
    {
     "cell_type": "markdown",
     "metadata": {},
     "source": [
      "Selecting the link : walking , bandwidth=10MHz, f = 2.36GHz"
     ]
    },
    {
     "cell_type": "markdown",
     "metadata": {
      "slideshow": {
       "slide_type": "skip"
      }
     },
     "source": [
      "**HDF5** file structure "
     ]
    },
    {
     "cell_type": "markdown",
     "metadata": {
      "slideshow": {
       "slide_type": "skip"
      }
     },
     "source": [
      "+ 100K\n",
      "    - 2d36G\n",
      "        + Running \n",
      "        + Standing \n",
      "        + Walking \n",
      "    - 427M\n",
      "        + Running \n",
      "        + Standing \n",
      "        + Walking \n",
      "+ 10M\n",
      "    - 2d36G\n",
      "        + running\n",
      "        + standing \n",
      "        + **walking**\n",
      "    - 427M\n",
      "        + running\n",
      "        + standing \n",
      "        + walking\n",
      "    - 820M\n",
      "        + running\n",
      "        + standing \n",
      "        + walking"
     ]
    },
    {
     "cell_type": "markdown",
     "metadata": {},
     "source": [
      "Selecting the Link"
     ]
    },
    {
     "cell_type": "code",
     "collapsed": false,
     "input": [
      "bw   = '10M'\n",
      "freq = '2d36G'\n",
      "mov  = 'walking'\n",
      "links  = onbody[bw][freq][mov]"
     ],
     "language": "python",
     "metadata": {},
     "outputs": []
    },
    {
     "cell_type": "code",
     "collapsed": false,
     "input": [
      "fig = plt.figure(figsize=(10,10))\n",
      "t = linspace(0,10,4000)\n",
      "for i,k in enumerate(links):\n",
      "    pl = links[k]['pl'].value\n",
      "    tt = str(k).replace('pl_','')\n",
      "    tt = tt.replace('_','/')\n",
      "    col='b'\n",
      "    if tt=='leftwrist/righthip':\n",
      "        col='g'\n",
      "    if tt=='rightwrist/righthip':\n",
      "        col='g'\n",
      "    if tt=='back/chest':\n",
      "        col='r'\n",
      "    ax = fig.add_subplot(3,3,i,title=tt)\n",
      "    ax.title.set_fontsize(18)\n",
      "    xlabel('Time (s)')\n",
      "    ylabel('Path Loss (dB)')\n",
      "    axis((0,5,-80,-30))\n",
      "    ax.plot(t,pl,linewidth=2,color=col)\n",
      "plt.tight_layout()    \n",
      "savefig('./files/OnBodyWalking2d6G.png')"
     ],
     "language": "python",
     "metadata": {
      "slideshow": {
       "slide_type": "skip"
      }
     },
     "outputs": []
    },
    {
     "cell_type": "markdown",
     "metadata": {
      "slideshow": {
       "slide_type": "skip"
      }
     },
     "source": [
      "<div>\n",
      "<center>\n",
      "<img  src=\"./files/OnBodyWalking2d6G.png\" height=800 width=800>\n",
      "<h2>Walking OnBody 10MHz 2.36GHz, Evolution of Path Loss over 5 s (from NICTA data)</h2>\n",
      "</center>\n",
      "</div>"
     ]
    },
    {
     "cell_type": "markdown",
     "metadata": {
      "slideshow": {
       "slide_type": "slide"
      }
     },
     "source": [
      "<h1 class=\"title\">Measurements vs Simulation</h1>"
     ]
    },
    {
     "cell_type": "markdown",
     "metadata": {
      "slideshow": {
       "slide_type": "-"
      }
     },
     "source": [
      "<div>\n",
      "<center>\n",
      "<img class=\"logo\" src=\"https://raw.githubusercontent.com/pylayers/pylayers/master/doc/notebook/9-PRES/files/OnBodyWalking2d6G.png\" height=500 width=500>\n",
      "<h4>Walking OnBody 10MHz 2.36GHz, Evolution of Path Loss over 5 s (from NICTA data)</h4>\n",
      "</center>\n",
      "</div>"
     ]
    },
    {
     "cell_type": "code",
     "collapsed": false,
     "input": [
      "llinks  =  links.keys()\n",
      "cm = plt.get_cmap('gist_rainbow')\n",
      "markers = [ '.', ',','o','v','^','<','>','1','2','3','4','8','s','p','*','h','H','+','x','D','d','|','_']\n",
      "ld  = []\n",
      "figure(figsize = (15,10))\n",
      "ll =  llinks\n",
      "pathloss= []\n",
      "time = np.linspace(0,10,4000)\n",
      "for i in range(0,len(ll)):\n",
      "    dic = {}\n",
      "    lk  = llinks[i] \n",
      "    pl = links[lk]['pl'].value    \n",
      "    pathloss.append(pl-mean(pl))\n",
      "    plot(time,pl, label = str(llinks[i]).replace('_','-'), color =cm(1.*i/len(ll)) )\n",
      "    dic['values']= pl\n",
      "    dic ['bound']= np.arange(-80,-40,1)\n",
      "    dic['xlabel'] = 'Path Loss in dB'\n",
      "    dic['ylabel'] = 'CDF'\n",
      "    dic['legend'] = str(llinks[i]).replace('_','-')\n",
      "    dic['markersize'] = 4\n",
      "    dic['markercolor'] = cm(1.*i/len(ll))\n",
      "    dic['linestyle'] = '-'\n",
      "    dic['color'] = cm(1.*i/len(ll))\n",
      "    dic['markerfrequency'] = 1\n",
      "    dic['title'] = 'link '\n",
      "    dic['marker'] = markers[i]\n",
      "    dic['linewidth'] = 1\n",
      "    ld.append(dic)\n",
      "xticks(fontsize=20)\n",
      "yticks(fontsize=20)\n",
      "legend()\n",
      "grid()\n",
      "xlabel('Time (s)', fontsize =18)\n",
      "ylabel('Path Loss (dB)', fontsize =18)\n",
      "\n",
      "savefig('pathlossNICTA.png')\n",
      "figure(figsize = (15,10))        \n"
     ],
     "language": "python",
     "metadata": {
      "slideshow": {
       "slide_type": "skip"
      }
     },
     "outputs": [
      {
       "ename": "NameError",
       "evalue": "name 'links' is not defined",
       "output_type": "pyerr",
       "traceback": [
        "\u001b[1;31m---------------------------------------------------------------------------\u001b[0m\n\u001b[1;31mNameError\u001b[0m                                 Traceback (most recent call last)",
        "\u001b[1;32m<ipython-input-18-5ea5ed186b39>\u001b[0m in \u001b[0;36m<module>\u001b[1;34m()\u001b[0m\n\u001b[1;32m----> 1\u001b[1;33m \u001b[0mllinks\u001b[0m  \u001b[1;33m=\u001b[0m  \u001b[0mlinks\u001b[0m\u001b[1;33m.\u001b[0m\u001b[0mkeys\u001b[0m\u001b[1;33m(\u001b[0m\u001b[1;33m)\u001b[0m\u001b[1;33m\u001b[0m\u001b[0m\n\u001b[0m\u001b[0;32m      2\u001b[0m \u001b[0mcm\u001b[0m \u001b[1;33m=\u001b[0m \u001b[0mplt\u001b[0m\u001b[1;33m.\u001b[0m\u001b[0mget_cmap\u001b[0m\u001b[1;33m(\u001b[0m\u001b[1;34m'gist_rainbow'\u001b[0m\u001b[1;33m)\u001b[0m\u001b[1;33m\u001b[0m\u001b[0m\n\u001b[0;32m      3\u001b[0m \u001b[0mmarkers\u001b[0m \u001b[1;33m=\u001b[0m \u001b[1;33m[\u001b[0m \u001b[1;34m'.'\u001b[0m\u001b[1;33m,\u001b[0m \u001b[1;34m','\u001b[0m\u001b[1;33m,\u001b[0m\u001b[1;34m'o'\u001b[0m\u001b[1;33m,\u001b[0m\u001b[1;34m'v'\u001b[0m\u001b[1;33m,\u001b[0m\u001b[1;34m'^'\u001b[0m\u001b[1;33m,\u001b[0m\u001b[1;34m'<'\u001b[0m\u001b[1;33m,\u001b[0m\u001b[1;34m'>'\u001b[0m\u001b[1;33m,\u001b[0m\u001b[1;34m'1'\u001b[0m\u001b[1;33m,\u001b[0m\u001b[1;34m'2'\u001b[0m\u001b[1;33m,\u001b[0m\u001b[1;34m'3'\u001b[0m\u001b[1;33m,\u001b[0m\u001b[1;34m'4'\u001b[0m\u001b[1;33m,\u001b[0m\u001b[1;34m'8'\u001b[0m\u001b[1;33m,\u001b[0m\u001b[1;34m's'\u001b[0m\u001b[1;33m,\u001b[0m\u001b[1;34m'p'\u001b[0m\u001b[1;33m,\u001b[0m\u001b[1;34m'*'\u001b[0m\u001b[1;33m,\u001b[0m\u001b[1;34m'h'\u001b[0m\u001b[1;33m,\u001b[0m\u001b[1;34m'H'\u001b[0m\u001b[1;33m,\u001b[0m\u001b[1;34m'+'\u001b[0m\u001b[1;33m,\u001b[0m\u001b[1;34m'x'\u001b[0m\u001b[1;33m,\u001b[0m\u001b[1;34m'D'\u001b[0m\u001b[1;33m,\u001b[0m\u001b[1;34m'd'\u001b[0m\u001b[1;33m,\u001b[0m\u001b[1;34m'|'\u001b[0m\u001b[1;33m,\u001b[0m\u001b[1;34m'_'\u001b[0m\u001b[1;33m]\u001b[0m\u001b[1;33m\u001b[0m\u001b[0m\n\u001b[0;32m      4\u001b[0m \u001b[0mld\u001b[0m  \u001b[1;33m=\u001b[0m \u001b[1;33m[\u001b[0m\u001b[1;33m]\u001b[0m\u001b[1;33m\u001b[0m\u001b[0m\n\u001b[0;32m      5\u001b[0m \u001b[0mfigure\u001b[0m\u001b[1;33m(\u001b[0m\u001b[0mfigsize\u001b[0m \u001b[1;33m=\u001b[0m \u001b[1;33m(\u001b[0m\u001b[1;36m15\u001b[0m\u001b[1;33m,\u001b[0m\u001b[1;36m10\u001b[0m\u001b[1;33m)\u001b[0m\u001b[1;33m)\u001b[0m\u001b[1;33m\u001b[0m\u001b[0m\n",
        "\u001b[1;31mNameError\u001b[0m: name 'links' is not defined"
       ]
      }
     ],
     "prompt_number": 18
    },
    {
     "cell_type": "code",
     "collapsed": false,
     "input": [
      "c = CDF(ld,'cdf')\n",
      "c.show()\n",
      "savefig('cdfNICTA.png')"
     ],
     "language": "python",
     "metadata": {},
     "outputs": []
    },
    {
     "cell_type": "markdown",
     "metadata": {
      "slideshow": {
       "slide_type": "slide"
      }
     },
     "source": [
      "<h1 class=\"title\">Conclusion and Perspectives </h1>"
     ]
    },
    {
     "cell_type": "markdown",
     "metadata": {},
     "source": [
      "+ Comparison between PyLayers simulation and NICTA dataset\n",
      "+ Spherical Harmonics \n",
      "+ Adressing more scenario\n",
      "+ Calibration of antennas"
     ]
    },
    {
     "cell_type": "markdown",
     "metadata": {
      "slideshow": {
       "slide_type": "slide"
      }
     },
     "source": [
      "<h1 class=\"title\">References</h1>\n",
      "\n",
      "**[Smith11]** David B. Smith, Leif Hanlen, Jian (Andrew) Zhang, Dino Miniutti, David Rodda, and Ben\n",
      "Gilbert. [*First- and second-order statistical characterizations of the dynamic body area propagation channel of various bandwidths*](http://www.nicta.com.au/pub?doc=3430). Annales des T \u0301l \u0301communications, 66(3-4):187\u2013203,\n",
      "ee\n",
      "2011.\n",
      "\n",
      "**[NictaData]** Nicta body area network radio channel data. http://tinyurl.com/jwp55gs.\n",
      "\n",
      "**[Mhed14]** Meriem Mhedhbi, St\u00e9phane Avrillon, Troels Pedersen, and Bernard Uguen.\n",
      "[*Modelling of UWB antenna perturbed by human phantom in spherical harmonics space*](http://vbn.aau.dk/files/195257751/1569855541.pdf). In The 8th European\n",
      "Conference on Antennas and Propagation (EuCAP 2014) (EuCAP 2014), The Hague, The\n",
      "Netherlands, April 2014\n",
      "\n",
      "**[MotionCapture]** [Cmu graphics lab motion capture database : Subject 7: walk (0701.c3d).]( http://mocap.cs.\n",
      "cmu.edu/search.php?subjectnumber=%&motion=%)\n",
      "\n",
      "\n"
     ]
    },
    {
     "cell_type": "code",
     "collapsed": false,
     "input": [
      "from IPython.display import display, HTML\n",
      "s = \"\"\"\n",
      "\n",
      "<style>\n",
      "\n",
      ".rendered_html {\n",
      "    font-family: \"proxima-nova\", helvetica;\n",
      "    font-size: 150%;\n",
      "    line-height: 1.3;\n",
      "}\n",
      "\n",
      ".rendered_html h1 {\n",
      "    margin: 0.25em 0em 0.5em;\n",
      "    color: #015C9C;\n",
      "    text-align: center;\n",
      "    line-height: 1.2; \n",
      "    page-break-before: always;\n",
      "}\n",
      "\n",
      ".rendered_html h2 {\n",
      "    margin: 1.1em 0em 0.5em;\n",
      "    color: #26465D;\n",
      "    line-height: 1.2;\n",
      "}\n",
      "\n",
      ".rendered_html h3 {\n",
      "    margin: 1.1em 0em 0.5em;\n",
      "    color: #002845;\n",
      "    line-height: 1.2;\n",
      "}\n",
      "\n",
      ".rendered_html li {\n",
      "    line-height: 1.5; \n",
      "}\n",
      "\n",
      ".prompt {\n",
      "    font-size: 120%; \n",
      "}\n",
      "\n",
      ".CodeMirror-lines {\n",
      "    font-size: 120%; \n",
      "}\n",
      "\n",
      ".output_area {\n",
      "    font-size: 120%; \n",
      "}\n",
      "\n",
      "notebook {\n",
      "    background-image: url('files/images/background.png');\n",
      "}\n",
      "\n",
      "h1.bigtitle {\n",
      "    margin: 4cm 1cm 4cm 1cm;\n",
      "    font-size: 300%;\n",
      "}\n",
      "\n",
      "h3.point {\n",
      "    font-size: 200%;\n",
      "    text-align: center;\n",
      "    margin: 2em 0em 2em 0em;\n",
      "    #26465D\n",
      "}\n",
      "\n",
      ".logo {\n",
      "    margin: 20px 0 20px 0;\n",
      "}\n",
      "\n",
      "a.anchor-link {\n",
      "    display: none;\n",
      "}\n",
      "\n",
      "h1.title { \n",
      "    font-size: 250%;\n",
      "}\n",
      "\n",
      "</style> Morbihan \u00e9nergies\n",
      "\"\"\"\n",
      "display(HTML(s))"
     ],
     "language": "python",
     "metadata": {
      "slideshow": {
       "slide_type": "skip"
      }
     },
     "outputs": []
    }
   ],
   "metadata": {}
  }
 ]
}