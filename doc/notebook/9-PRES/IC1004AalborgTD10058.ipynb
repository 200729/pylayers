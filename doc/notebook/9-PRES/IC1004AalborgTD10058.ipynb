{
 "metadata": {
  "celltoolbar": "Slideshow",
  "name": "",
  "signature": "sha256:d43597a76f857da83de4107910c79e6e6246c5bd6dee2b6e7e3f5b08dbf98abd"
 },
 "nbformat": 3,
 "nbformat_minor": 0,
 "worksheets": [
  {
   "cells": [
    {
     "cell_type": "code",
     "collapsed": false,
     "input": [
      "%matplotlib inline\n",
      "from matplotlib.pyplot import *\n",
      "from IPython.display import Image\n",
      "from pylayers.gis.layout import *"
     ],
     "language": "python",
     "metadata": {
      "slideshow": {
       "slide_type": "skip"
      }
     },
     "outputs": [
      {
       "metadata": {},
       "output_type": "display_data",
       "text": [
        "<matplotlib.figure.Figure at 0x85608d0>"
       ]
      }
     ],
     "prompt_number": 5
    },
    {
     "cell_type": "markdown",
     "metadata": {
      "slideshow": {
       "slide_type": "slide"
      }
     },
     "source": [
      "<center>\n",
      "<h1 class=\"title\"><font color=\"#2201FF\">Indoor On-body Channel Ray Tracing and Motion Capture Based Simulation</font></h1>\n",
      "<h2 class=\"title\"> IC1004 COST Meeting Aalborg 2014</h2>\n",
      "<h2> Meriem Mhedhbi,  Nicolas Amiot, St\u00e9phane Avrillon, <u>Bernard Uguen</u></h2>\n",
      "<h1><font color=\"#3201FF\">http://tinyurl.com/pr65ujz</font></h1>\n",
      "</center>"
     ]
    },
    {
     "cell_type": "markdown",
     "metadata": {
      "slideshow": {
       "slide_type": "skip"
      }
     },
     "source": [
      "<div>\n",
      "\n",
      "<img class=\"logo\" src=\"./files/images/logo.png\" height=10>\n",
      "\n",
      "</div>\n",
      "\n"
     ]
    },
    {
     "cell_type": "markdown",
     "metadata": {},
     "source": [
      "<img class=\"logo\" src=\"https://raw.githubusercontent.com/pylayers/pylayers/master/doc/notebook/9-PRES/files/images/logo.png\">"
     ]
    },
    {
     "cell_type": "markdown",
     "metadata": {
      "slideshow": {
       "slide_type": "slide"
      }
     },
     "source": [
      "<h1 class=\"title\">Outline </h1>"
     ]
    },
    {
     "cell_type": "markdown",
     "metadata": {},
     "source": [
      "* Introduction\n",
      "* CORMORAN project\n",
      "* Description of Measurements Campaign [Nicta Lab Data](http://tinyurl.com/jwp55gs) from [[Smith11]](http://www.nicta.com.au/pub?doc=3430)  \n",
      "* [PyLayers](http://pylayers.github.io/pylayers) Simulation Setup\n",
      "* Measurements vs Simulation\n",
      "* Conclusions and Perspectives"
     ]
    },
    {
     "cell_type": "markdown",
     "metadata": {},
     "source": [
      "<h1 class=\"title\"> CORMORAN Project Context</h1>"
     ]
    },
    {
     "cell_type": "code",
     "collapsed": false,
     "input": [
      "\n",
      "+ To produce test vector for WBAN localization \n",
      "    + LSIMC \n",
      "    "
     ],
     "language": "python",
     "metadata": {},
     "outputs": []
    },
    {
     "cell_type": "markdown",
     "metadata": {
      "slideshow": {
       "slide_type": "slide"
      }
     },
     "source": [
      "<h1 class=\"title\"> Measurement Setup (1) </h1>"
     ]
    },
    {
     "cell_type": "markdown",
     "metadata": {},
     "source": [
      "* Study different **BAN** channels : On-body, Off-body \n",
      "* **Configuration**: Standing, Walking, Running \n",
      "* **Frequencies**  : 400 MHz, 900 MHz, 2400 MHz\n",
      "* **Environment** : Indoor Office \n",
      "\n",
      "[\"Channel measurements were performed by transmitting test signals emanating from a VSA centered in regions around the\n",
      "400-, 900-, and 2,400-MHz ISM bands, specifically 427,\n",
      "820, and 2,360 MHz. The test signals were separately\n",
      "transmitted from one antenna while the 181.5-cm/78-kg\n",
      "male test subject performed three different actions: \n",
      "+ (1) standing still\n",
      "+ (2) walking on the spot,\n",
      "+ (3) running on the spot.\n",
      "\n",
      "The signal received at the other antenna\n",
      "was down-converted, **sampled for approximately 10 s**,\n",
      "and saved to disk. Analysis of the measurements was\n",
      "later done offline](http://www.nicta.com.au/pub?doc=3430))\n"
     ]
    },
    {
     "cell_type": "markdown",
     "metadata": {},
     "source": [
      "<center>\n",
      "<div>\n",
      "<img class=\"logo\" src=\"./figures/environment.png\" height=100 />\n",
      "<h2> Layout of the environement setup from [Smith11]</h2>\n",
      "</div>\n",
      "</center>"
     ]
    },
    {
     "cell_type": "markdown",
     "metadata": {
      "slideshow": {
       "slide_type": "slide"
      }
     },
     "source": [
      "<h1 class=\"title\"> Measurement Setup (2) </h1>"
     ]
    },
    {
     "cell_type": "markdown",
     "metadata": {},
     "source": [
      "* Subject moving on a treadmill\n",
      "* Walking scenario: speed  = 3km/h during 10s\n",
      "* Devices On-body configuration\n",
      "* Antenna : [Octane BW-2400-2500](http://www.pharad.com/pdf/WLAN-Wearable-Antenna-Datasheet.pdf)\n"
     ]
    },
    {
     "cell_type": "markdown",
     "metadata": {},
     "source": [
      "<center>\n",
      "<div>\n",
      "<img class=\"logo\" src=\"./figures/devLoc.png\" height=100 />\n",
      "<img class=\"logo\" src=\"./files/snapJohn1.png\" height=100 />\n",
      "</div>\n",
      "<h3>Positions of the radio devices : figure from [Smith2011]</h3>\n",
      "</center>\n"
     ]
    },
    {
     "cell_type": "markdown",
     "metadata": {
      "slideshow": {
       "slide_type": "slide"
      }
     },
     "source": [
      "<h1 class=\"title\">Simulation Setup (1)</h1>"
     ]
    },
    {
     "cell_type": "markdown",
     "metadata": {
      "slideshow": {
       "slide_type": "fragment"
      }
     },
     "source": [
      "+ Layout and Propagation Environment\n",
      "    + Editing the measurement environment\n",
      "    + Furniture is not modeled (treadmill)\n",
      "+ Large Scale and Body Scale Mobility\n",
      "    + Pylayers handles large scale mobility: agent = gravity center\n",
      "    + Body Scale Mobility is plugged using motion captue files\n",
      "    + Centered trajectory to simulate walking on treadmill (speed = 3km/h)"
     ]
    },
    {
     "cell_type": "markdown",
     "metadata": {},
     "source": [
      "<center>\n",
      "<div>\n",
      "<img class=\"logo\" src=\"./files/snapshot5.png\" height=100 />\n",
      "</div>\n",
      "<h3>Positions of the radio devices : figure from [Smith2011]</h3>\n",
      "</center>\n"
     ]
    },
    {
     "cell_type": "markdown",
     "metadata": {
      "slideshow": {
       "slide_type": "slide"
      }
     },
     "source": [
      "<h1 class=\"title\">SimulationSetup (1) </h1>"
     ]
    },
    {
     "cell_type": "markdown",
     "metadata": {
      "slideshow": {
       "slide_type": "slide"
      }
     },
     "source": [
      "<h1 class=\"title\">Measurements vs Simulation</h1>"
     ]
    },
    {
     "cell_type": "markdown",
     "metadata": {
      "slideshow": {
       "slide_type": "slide"
      }
     },
     "source": [
      "<h1 class=\"title\">Conclusion and Perspectives </h1>"
     ]
    },
    {
     "cell_type": "markdown",
     "metadata": {},
     "source": [
      "+ Comparison between PyLayers simaulation and NICTA dataset\n",
      "+ Spherical Harmonics \n",
      "+ Adressing more scenario\n",
      "+ Calibration of antennas"
     ]
    },
    {
     "cell_type": "markdown",
     "metadata": {
      "slideshow": {
       "slide_type": "slide"
      }
     },
     "source": [
      "<h1 class=\"title\">References</h1>\n",
      "\n",
      "**[Smith11]** David B. Smith, Leif Hanlen, Jian (Andrew) Zhang, Dino Miniutti, David Rodda, and Ben\n",
      "Gilbert. [*First- and second-order statistical characterizations of the dynamic body area propagation channel of various bandwidths*](http://www.nicta.com.au/pub?doc=3430). Annales des T \u0301l \u0301communications, 66(3-4):187\u2013203,\n",
      "ee\n",
      "2011.\n",
      "\n",
      "**[NictaData]** Nicta body area network radio channel data. http://tinyurl.com/jwp55gs.\n",
      "\n",
      "**[Mhed14]** Meriem Mhedhbi, St\u00e9phane Avrillon, Troels Pedersen, and Bernard Uguen.\n",
      "[*Modelling of UWB antenna perturbed by human phantom in spherical harmonics space*](http://vbn.aau.dk/files/195257751/1569855541.pdf). In The 8th European\n",
      "Conference on Antennas and Propagation (EuCAP 2014) (EuCAP 2014), The Hague, The\n",
      "Netherlands, April 2014(\n",
      "\n"
     ]
    },
    {
     "cell_type": "code",
     "collapsed": false,
     "input": [
      "from IPython.display import display, HTML\n",
      "s = \"\"\"\n",
      "\n",
      "<style>\n",
      "\n",
      ".rendered_html {\n",
      "    font-family: \"proxima-nova\", helvetica;\n",
      "    font-size: 150%;\n",
      "    line-height: 1.3;\n",
      "}\n",
      "\n",
      ".rendered_html h1 {\n",
      "    margin: 0.25em 0em 0.5em;\n",
      "    color: #015C9C;\n",
      "    text-align: center;\n",
      "    line-height: 1.2; \n",
      "    page-break-before: always;\n",
      "}\n",
      "\n",
      ".rendered_html h2 {\n",
      "    margin: 1.1em 0em 0.5em;\n",
      "    color: #26465D;\n",
      "    line-height: 1.2;\n",
      "}\n",
      "\n",
      ".rendered_html h3 {\n",
      "    margin: 1.1em 0em 0.5em;\n",
      "    color: #002845;\n",
      "    line-height: 1.2;\n",
      "}\n",
      "\n",
      ".rendered_html li {\n",
      "    line-height: 1.5; \n",
      "}\n",
      "\n",
      ".prompt {\n",
      "    font-size: 120%; \n",
      "}\n",
      "\n",
      ".CodeMirror-lines {\n",
      "    font-size: 120%; \n",
      "}\n",
      "\n",
      ".output_area {\n",
      "    font-size: 120%; \n",
      "}\n",
      "\n",
      "notebook {\n",
      "    background-image: url('files/images/background.png');\n",
      "}\n",
      "\n",
      "h1.bigtitle {\n",
      "    margin: 4cm 1cm 4cm 1cm;\n",
      "    font-size: 300%;\n",
      "}\n",
      "\n",
      "h3.point {\n",
      "    font-size: 200%;\n",
      "    text-align: center;\n",
      "    margin: 2em 0em 2em 0em;\n",
      "    #26465D\n",
      "}\n",
      "\n",
      ".logo {\n",
      "    margin: 20px 0 20px 0;\n",
      "}\n",
      "\n",
      "a.anchor-link {\n",
      "    display: none;\n",
      "}\n",
      "\n",
      "h1.title { \n",
      "    font-size: 250%;\n",
      "}\n",
      "\n",
      "</style> Morbihan \u00e9nergies\n",
      "\"\"\"\n",
      "display(HTML(s))"
     ],
     "language": "python",
     "metadata": {
      "slideshow": {
       "slide_type": "slide"
      }
     },
     "outputs": [
      {
       "html": [
        "\n",
        "\n",
        "<style>\n",
        "\n",
        ".rendered_html {\n",
        "    font-family: \"proxima-nova\", helvetica;\n",
        "    font-size: 150%;\n",
        "    line-height: 1.3;\n",
        "}\n",
        "\n",
        ".rendered_html h1 {\n",
        "    margin: 0.25em 0em 0.5em;\n",
        "    color: #015C9C;\n",
        "    text-align: center;\n",
        "    line-height: 1.2; \n",
        "    page-break-before: always;\n",
        "}\n",
        "\n",
        ".rendered_html h2 {\n",
        "    margin: 1.1em 0em 0.5em;\n",
        "    color: #26465D;\n",
        "    line-height: 1.2;\n",
        "}\n",
        "\n",
        ".rendered_html h3 {\n",
        "    margin: 1.1em 0em 0.5em;\n",
        "    color: #002845;\n",
        "    line-height: 1.2;\n",
        "}\n",
        "\n",
        ".rendered_html li {\n",
        "    line-height: 1.5; \n",
        "}\n",
        "\n",
        ".prompt {\n",
        "    font-size: 120%; \n",
        "}\n",
        "\n",
        ".CodeMirror-lines {\n",
        "    font-size: 120%; \n",
        "}\n",
        "\n",
        ".output_area {\n",
        "    font-size: 120%; \n",
        "}\n",
        "\n",
        "notebook {\n",
        "    background-image: url('files/images/background.png');\n",
        "}\n",
        "\n",
        "h1.bigtitle {\n",
        "    margin: 4cm 1cm 4cm 1cm;\n",
        "    font-size: 300%;\n",
        "}\n",
        "\n",
        "h3.point {\n",
        "    font-size: 200%;\n",
        "    text-align: center;\n",
        "    margin: 2em 0em 2em 0em;\n",
        "    #26465D\n",
        "}\n",
        "\n",
        ".logo {\n",
        "    margin: 20px 0 20px 0;\n",
        "}\n",
        "\n",
        "a.anchor-link {\n",
        "    display: none;\n",
        "}\n",
        "\n",
        "h1.title { \n",
        "    font-size: 250%;\n",
        "}\n",
        "\n",
        "</style>\n"
       ],
       "metadata": {},
       "output_type": "display_data",
       "text": [
        "<IPython.core.display.HTML object>"
       ]
      }
     ],
     "prompt_number": 4
    }
   ],
   "metadata": {}
  }
 ]
}