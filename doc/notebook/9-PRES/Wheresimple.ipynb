{
 "metadata": {
  "name": "",
  "signature": "sha256:518d1e8517127590e55a46c7db1be2d649bc6edcf2660625b8cfb4e53cf612eb"
 },
 "nbformat": 3,
 "nbformat_minor": 0,
 "worksheets": [
  {
   "cells": [
    {
     "cell_type": "code",
     "collapsed": false,
     "input": [
      "%matplotlib inline\n",
      "from pylayers.measures.mesuwb import *"
     ],
     "language": "python",
     "metadata": {},
     "outputs": [],
     "prompt_number": 1
    },
    {
     "cell_type": "code",
     "collapsed": false,
     "input": [
      "from pylayers.measures.mesuwb import *\n",
      "from pylayers.gis.layout import *\n",
      "\n",
      "from pylayers.simul.link import *\n",
      "from pylayers.signal.waveform import *"
     ],
     "language": "python",
     "metadata": {},
     "outputs": [],
     "prompt_number": 3
    },
    {
     "cell_type": "code",
     "collapsed": false,
     "input": [
      "L=Layout('WHERE2.ini')\n",
      "L.dumpr()"
     ],
     "language": "python",
     "metadata": {},
     "outputs": [],
     "prompt_number": 4
    },
    {
     "cell_type": "code",
     "collapsed": false,
     "input": [
      "#\u00a0measure id\n",
      "tx_id = 93 #\u00a0in M.valid_index\n",
      "rx_id = 2 #\u00a01,2,3,4\n",
      "M=UWBMeasure(tx_id)\n",
      "\n",
      "TX = M.tx\n",
      "RX = M.rx[rx_id]"
     ],
     "language": "python",
     "metadata": {},
     "outputs": [],
     "prompt_number": 5
    },
    {
     "cell_type": "code",
     "collapsed": false,
     "input": [
      "M.help(typ='mb')"
     ],
     "language": "python",
     "metadata": {},
     "outputs": [
      {
       "output_type": "stream",
       "stream": "stdout",
       "text": [
        "['CAL_DATA' 'Date_Time' 'LQI' 'Operators' 'RAW_DATA' 'Tx_height'\n",
        " 'Tx_position' 'ag' 'de' 'fdd' 'lqi' 'ntx' 'rx' 'tdd' 'tx' 'type' 'valid'\n",
        " 'validindex']\n"
       ]
      }
     ],
     "prompt_number": 6
    },
    {
     "cell_type": "code",
     "collapsed": false,
     "input": [
      "L.showG('s',figsize=(20,20))\n",
      "plt.plot(TX[0],TX[1],'ob')\n",
      "plt.plot(RX[0],RX[1],'or')\n",
      "plt.title('TOF = '+ str(np.sqrt(np.sum((TX-RX)**2))/0.3))"
     ],
     "language": "python",
     "metadata": {},
     "outputs": [
      {
       "metadata": {},
       "output_type": "pyout",
       "prompt_number": 7,
       "text": [
        "<matplotlib.text.Text at 0x7f4ca8ab2e50>"
       ]
      },
      {
       "metadata": {},
       "output_type": "display_data",
       "png": "[encoded data removed]",
       "text": [
        "<matplotlib.figure.Figure at 0x7f4cdd517850>"
       ]
      }
     ],
     "prompt_number": 7
    },
    {
     "cell_type": "code",
     "collapsed": false,
     "input": [
      "Lk = DLink(L=L,a=TX,b=RX,cutoff=3,verbose=False)\n",
      "Lk.Aa=Antenna('defant.vsh3')\n",
      "Lk.Ab=Antenna('defant.vsh3')\n",
      "Lk.eval()\n",
      "f,a = Lk.show(rays=True,labels=False)"
     ],
     "language": "python",
     "metadata": {},
     "outputs": []
    },
    {
     "cell_type": "code",
     "collapsed": false,
     "input": [
      "wav = Waveform(typ='W1offset')\n",
      "ir = Lk.H.applywavB(wav.sfg)\n",
      "ir = ir*30"
     ],
     "language": "python",
     "metadata": {},
     "outputs": []
    },
    {
     "cell_type": "code",
     "collapsed": false,
     "input": [
      "fig = plt.figure(figsize=(20,20))\n",
      "ax1=fig.add_subplot(211)\n",
      "cmd='M.tdd.ch' + str(rx_id) + '.plot(typ=\\'v\\',fig=fig,ax=ax1)'\n",
      "eval(cmd)\n",
      "ax2 = fig.add_subplot(212,sharex=ax1)\n",
      "ir.plot(typ='v',fig=fig,ax=ax2)\n",
      "plt.xlim([0,30])"
     ],
     "language": "python",
     "metadata": {},
     "outputs": []
    }
   ],
   "metadata": {}
  }
 ]
}