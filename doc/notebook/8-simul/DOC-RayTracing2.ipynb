{
 "metadata": {
  "name": ""
 },
 "nbformat": 3,
 "nbformat_minor": 0,
 "worksheets": [
  {
   "cells": [
    {
     "cell_type": "markdown",
     "metadata": {},
     "source": [
      "# Example of an UWB channel Ray Tracing simulation"
     ]
    },
    {
     "cell_type": "markdown",
     "metadata": {},
     "source": [
      "In the following, all steps required for going from the descrpition of the radio scene until the calculation of the UWB \n",
      "channel impulse response is described on a simple example. \n",
      "\n",
      "\n"
     ]
    },
    {
     "cell_type": "markdown",
     "metadata": {},
     "source": [
      "A ray-tracing simulation is controlled via a configuration file which is stored in the *ini* directory of the project directory.\n",
      "By default, a default configuration file named **default.ini** is loaded.\n"
     ]
    },
    {
     "cell_type": "code",
     "collapsed": false,
     "input": [
      "from pylayers.simul.simulem import *\n",
      "from pylayers.antprop.rays import *\n",
      "from pylayers.antprop.channel import *\n",
      "from pylayers.antprop.signature import *\n",
      "from pylayers.measures.mesuwb import *\n",
      "import pylayers.util.pyutil as pyu\n",
      "import pylayers.signal.bsignal as bs"
     ],
     "language": "python",
     "metadata": {},
     "outputs": [],
     "prompt_number": 1
    },
    {
     "cell_type": "markdown",
     "metadata": {},
     "source": [
      "\n",
      "A first step consists in loading a layout associated with the simulation. \n",
      "Here the `WHERE1.ini` layout is chosen along with the corresponding slabs and materials files `matDB.ini` and `slabDB.ini`. \n",
      "\n",
      "This layout corresponds to the office building where the first WHERE1 UWB measurement campaign has been conducted. \n",
      "\n",
      "The layout method loads those in a member layout object **L** of the simulation object **S**.\n",
      "\n",
      "If not already available, the layout associated graphs are built.\n",
      "\n"
     ]
    },
    {
     "cell_type": "code",
     "collapsed": false,
     "input": [
      "S = Simul()\n",
      "# loading a layout \n",
      "filestr = 'WHERE1'\n",
      "S.layout(filestr+'.ini','matDB.ini','slabDB.ini')\n",
      "try:\n",
      "    S.L.dumpr()\n",
      "except:\n",
      "    S.L.build()\n",
      "    S.L.dumpw()"
     ],
     "language": "python",
     "metadata": {},
     "outputs": [],
     "prompt_number": 2
    },
    {
     "cell_type": "markdown",
     "metadata": {},
     "source": [
      "The layout display is fully parameterized via the embedded **display** dictionnary member of the Layout object.which allows to \n",
      "configure the `showGs()` method behavior. "
     ]
    },
    {
     "cell_type": "code",
     "collapsed": false,
     "input": [
      "S.L.display['ednodes']=False\n",
      "S.L.display['nodes']=False\n",
      "S.L.display['title']='WHERE1 Project Office Measurement Site'\n",
      "S.L.display['overlay']=False\n",
      "fig,ax=S.L.showGs()    \n"
     ],
     "language": "python",
     "metadata": {},
     "outputs": [],
     "prompt_number": 3
    },
    {
     "cell_type": "heading",
     "level": 2,
     "metadata": {},
     "source": [
      "Adding coordinates of transmiting and receiving points\n"
     ]
    },
    {
     "cell_type": "markdown",
     "metadata": {},
     "source": [
      "Coordinates of transmitters and receivers for the simulation are stored in **.ini** files.\n",
      "Transmitter and Receiver are instances of the class RadioNode which offers different methods\n",
      "for specifying nodes positions.\n",
      "The stucture of this **.ini** file presented below.\n",
      "The node Id is associated with the 3 coordinates $x,y,z$ separated by white spaces.\n",
      "\n"
     ]
    },
    {
     "cell_type": "markdown",
     "metadata": {},
     "source": [
      "    [coordinates]\n",
      "    1 = -12.2724 7.76319999993 1.2\n",
      "    2 = -18.7747 15.1779999998 1.2\n",
      "    3 = -4.14179999998 8.86029999983 1.2\n",
      "    4 = -9.09139999998 15.1899000001 1.2\n"
     ]
    },
    {
     "cell_type": "code",
     "collapsed": false,
     "input": [
      "S.tx = RadioNode(_fileini='w2m1rx.ini',_fileant='defant.vsh3')\n",
      "S.rx = RadioNode(_fileini='w2m1tx.ini',_fileant='defant.vsh3')"
     ],
     "language": "python",
     "metadata": {},
     "outputs": [],
     "prompt_number": 4
    },
    {
     "cell_type": "markdown",
     "metadata": {},
     "source": [
      "The whole simulation setup can then be displayed using the **show** method of the Simulation object\n",
      "\n"
     ]
    },
    {
     "cell_type": "code",
     "collapsed": false,
     "input": [
      "fig,ax = S.show()"
     ],
     "language": "python",
     "metadata": {},
     "outputs": [
      {
       "output_type": "stream",
       "stream": "stdout",
       "text": [
        "Warning : no furniture file loaded\n"
       ]
      }
     ],
     "prompt_number": 5
    },
    {
     "cell_type": "markdown",
     "metadata": {},
     "source": [
      "The different object of the simulation cans be accessed to obtain different information. Below the number of transmitter and receiver. "
     ]
    },
    {
     "cell_type": "code",
     "collapsed": false,
     "input": [
      "print 'number of Tx :',len(S.tx.points.keys())\n",
      "print 'number of rx :',len(S.rx.points.keys())"
     ],
     "language": "python",
     "metadata": {},
     "outputs": [
      {
       "output_type": "stream",
       "stream": "stdout",
       "text": [
        "number of Tx : 302\n",
        "number of rx : 4\n"
       ]
      }
     ],
     "prompt_number": 6
    },
    {
     "cell_type": "markdown",
     "metadata": {},
     "source": [
      "The decomposition of the layout in a set of disjoint cycles is represented below. Not all cycles are rooms.\n"
     ]
    },
    {
     "cell_type": "code",
     "collapsed": false,
     "input": [
      "fig =plt.figure(figsize=(15,15))\n",
      "fig,ax=S.L.showG('t',fig=fig)\n",
      "plt.axis('off')"
     ],
     "language": "python",
     "metadata": {},
     "outputs": [
      {
       "output_type": "pyout",
       "prompt_number": 7,
       "text": [
        "(-40.0, 40.0, 2.0, 18.0)"
       ]
      }
     ],
     "prompt_number": 7
    },
    {
     "cell_type": "code",
     "collapsed": false,
     "input": [
      "fig =plt.figure(figsize=(10,10))\n",
      "fig,ax=S.L.showG('t',fig=fig)\n",
      "plt.axis('off')"
     ],
     "language": "python",
     "metadata": {},
     "outputs": [
      {
       "output_type": "pyout",
       "prompt_number": 8,
       "text": [
        "(-40.0, 40.0, 2.0, 18.0)"
       ]
      }
     ],
     "prompt_number": 8
    },
    {
     "cell_type": "markdown",
     "metadata": {},
     "source": [
      "## Signatures, rays and propagation and transmission channel"
     ]
    },
    {
     "cell_type": "code",
     "collapsed": false,
     "input": [
      "# Choose Tx and Rx coordinates\n",
      "itx=10\n",
      "irx=2\n",
      "tx= S.tx.points[itx]\n",
      "rx= S.rx.points[irx]"
     ],
     "language": "python",
     "metadata": {},
     "outputs": [],
     "prompt_number": 9
    },
    {
     "cell_type": "code",
     "collapsed": false,
     "input": [
      "tx"
     ],
     "language": "python",
     "metadata": {},
     "outputs": [
      {
       "output_type": "pyout",
       "prompt_number": 10,
       "text": [
        "array([-24.867 ,  12.3097,   1.2   ])"
       ]
      }
     ],
     "prompt_number": 10
    },
    {
     "cell_type": "markdown",
     "metadata": {},
     "source": [
      "A signature is a sequence of layout objects (points and segments) which are involved in a given optical ray, relating the transmiter and the receiver. \n",
      "The signatutre is calculated from a layout cycle to an other layout cycle. This means that is is required first to retrieve the cycle number from \n",
      "point coordinates. This is done thanks to the **pt2cy**, point to cycle function.  \n",
      "\n",
      "\n"
     ]
    },
    {
     "cell_type": "code",
     "collapsed": false,
     "input": [
      "ctx=S.L.pt2cy(tx)\n",
      "crx=S.L.pt2cy(rx)\n",
      "print 'tx point belongs to cycle ',ctx\n",
      "print 'rx point belongs to cycle ',crx"
     ],
     "language": "python",
     "metadata": {},
     "outputs": [
      {
       "output_type": "stream",
       "stream": "stdout",
       "text": [
        "tx point belongs to cycle  5\n",
        "rx point belongs to cycle  4\n"
       ]
      }
     ],
     "prompt_number": 11
    },
    {
     "cell_type": "markdown",
     "metadata": {},
     "source": [
      "Then the signature between cycle 5 and cycle 4 can be calculated. This is done by instantiating a Signature object with a given layout and the 2 cycle number.\n",
      "\n",
      "The representaion of a signature object provides information about the number of signatures for each number of interactions.\n"
     ]
    },
    {
     "cell_type": "code",
     "collapsed": false,
     "input": [
      "%timeit\n",
      "Si = Signatures(S.L,ctx,crx)\n",
      "Si.run1(cutoff=3)"
     ],
     "language": "python",
     "metadata": {},
     "outputs": [],
     "prompt_number": 12
    },
    {
     "cell_type": "markdown",
     "metadata": {},
     "source": [
      "Once the signature has been obtained, 2D rays are calculated with the `rays()` method of the signature **Si**. The coordinates of a transmitter and a receiver should be parameters of the function. **r2d** object has a `show` and `show3` method\n",
      "\n"
     ]
    },
    {
     "cell_type": "code",
     "collapsed": false,
     "input": [
      "r2d = Si.rays(tx,rx)\n",
      "S.L.display['ednodes']=False\n",
      "r2d.show(S.L)"
     ],
     "language": "python",
     "metadata": {},
     "outputs": [
      {
       "output_type": "pyout",
       "prompt_number": 13,
       "text": [
        "(<matplotlib.figure.Figure at 0x2bd1350>,\n",
        " <matplotlib.axes.AxesSubplot at 0x80703d0>)"
       ]
      }
     ],
     "prompt_number": 13
    },
    {
     "cell_type": "code",
     "collapsed": false,
     "input": [
      "r2d.show3(strucname='WHERE1')"
     ],
     "language": "python",
     "metadata": {},
     "outputs": [],
     "prompt_number": 14
    },
    {
     "cell_type": "markdown",
     "metadata": {},
     "source": [
      "Then, the **r2d** object is transformed in 3D ray, taking into account the reflection on ceil and floor."
     ]
    },
    {
     "cell_type": "code",
     "collapsed": false,
     "input": [
      "r3d=r2d.to3D(S.L)\n",
      "r3d.show3(strucname='WHERE1')"
     ],
     "language": "python",
     "metadata": {},
     "outputs": [],
     "prompt_number": 15
    },
    {
     "cell_type": "markdown",
     "metadata": {},
     "source": [
      "Once the 3D rays are obtained the local basis are determined"
     ]
    },
    {
     "cell_type": "code",
     "collapsed": false,
     "input": [
      "r3d.locbas(S.L)"
     ],
     "language": "python",
     "metadata": {},
     "outputs": [],
     "prompt_number": 16
    },
    {
     "cell_type": "markdown",
     "metadata": {},
     "source": [
      "and the the interaction matrices are filled."
     ]
    },
    {
     "cell_type": "code",
     "collapsed": false,
     "input": [
      "r3d.fillinter(S.L)"
     ],
     "language": "python",
     "metadata": {},
     "outputs": [],
     "prompt_number": 17
    },
    {
     "cell_type": "markdown",
     "metadata": {},
     "source": [
      "Below `ni` is the number of interactions"
     ]
    },
    {
     "cell_type": "code",
     "collapsed": false,
     "input": [
      "r3d"
     ],
     "language": "python",
     "metadata": {},
     "outputs": [
      {
       "output_type": "pyout",
       "prompt_number": 18,
       "text": [
        "1 / 1 : [0]\n",
        "2 / 5 : [1 2 3 4 5]\n",
        "3 / 13 : [ 6  7  8  9 10 11 12 13 14 15 16 17 18]\n",
        "4 / 20 : [19 20 21 22 23 24 25 26 27 28 29 30 31 32 33 34 35 36 37 38]\n",
        "5 / 18 : [39 40 41 42 43 44 45 46 47 48 49 50 51 52 53 54 55 56]\n",
        "6 / 8 : [57 58 59 60 61 62 63 64]\n",
        "-----\n",
        "ni : 268\n",
        "nl : 601\n"
       ]
      }
     ],
     "prompt_number": 18
    },
    {
     "cell_type": "code",
     "collapsed": false,
     "input": [
      "6*8+5*18+20*4+13*3+5*2+1"
     ],
     "language": "python",
     "metadata": {},
     "outputs": [
      {
       "output_type": "pyout",
       "prompt_number": 19,
       "text": [
        "268"
       ]
      }
     ],
     "prompt_number": 19
    },
    {
     "cell_type": "heading",
     "level": 2,
     "metadata": {},
     "source": [
      "Calulating the Propagation Channel "
     ]
    },
    {
     "cell_type": "markdown",
     "metadata": {},
     "source": [
      "The propagation channel is a `Ctilde` object. This object can be evaluated for different frequency \n",
      "point thanks to the `eval()` method with a frequency array as argument."
     ]
    },
    {
     "cell_type": "code",
     "collapsed": false,
     "input": [
      "S.fGHz"
     ],
     "language": "python",
     "metadata": {},
     "outputs": [
      {
       "output_type": "pyout",
       "prompt_number": 20,
       "text": [
        "array([  2.  ,   2.05,   2.1 ,   2.15,   2.2 ,   2.25,   2.3 ,   2.35,\n",
        "         2.4 ,   2.45,   2.5 ,   2.55,   2.6 ,   2.65,   2.7 ,   2.75,\n",
        "         2.8 ,   2.85,   2.9 ,   2.95,   3.  ,   3.05,   3.1 ,   3.15,\n",
        "         3.2 ,   3.25,   3.3 ,   3.35,   3.4 ,   3.45,   3.5 ,   3.55,\n",
        "         3.6 ,   3.65,   3.7 ,   3.75,   3.8 ,   3.85,   3.9 ,   3.95,\n",
        "         4.  ,   4.05,   4.1 ,   4.15,   4.2 ,   4.25,   4.3 ,   4.35,\n",
        "         4.4 ,   4.45,   4.5 ,   4.55,   4.6 ,   4.65,   4.7 ,   4.75,\n",
        "         4.8 ,   4.85,   4.9 ,   4.95,   5.  ,   5.05,   5.1 ,   5.15,\n",
        "         5.2 ,   5.25,   5.3 ,   5.35,   5.4 ,   5.45,   5.5 ,   5.55,\n",
        "         5.6 ,   5.65,   5.7 ,   5.75,   5.8 ,   5.85,   5.9 ,   5.95,\n",
        "         6.  ,   6.05,   6.1 ,   6.15,   6.2 ,   6.25,   6.3 ,   6.35,\n",
        "         6.4 ,   6.45,   6.5 ,   6.55,   6.6 ,   6.65,   6.7 ,   6.75,\n",
        "         6.8 ,   6.85,   6.9 ,   6.95,   7.  ,   7.05,   7.1 ,   7.15,\n",
        "         7.2 ,   7.25,   7.3 ,   7.35,   7.4 ,   7.45,   7.5 ,   7.55,\n",
        "         7.6 ,   7.65,   7.7 ,   7.75,   7.8 ,   7.85,   7.9 ,   7.95,\n",
        "         8.  ,   8.05,   8.1 ,   8.15,   8.2 ,   8.25,   8.3 ,   8.35,\n",
        "         8.4 ,   8.45,   8.5 ,   8.55,   8.6 ,   8.65,   8.7 ,   8.75,\n",
        "         8.8 ,   8.85,   8.9 ,   8.95,   9.  ,   9.05,   9.1 ,   9.15,\n",
        "         9.2 ,   9.25,   9.3 ,   9.35,   9.4 ,   9.45,   9.5 ,   9.55,\n",
        "         9.6 ,   9.65,   9.7 ,   9.75,   9.8 ,   9.85,   9.9 ,   9.95,\n",
        "        10.  ,  10.05,  10.1 ,  10.15,  10.2 ,  10.25,  10.3 ,  10.35,\n",
        "        10.4 ,  10.45,  10.5 ,  10.55,  10.6 ,  10.65,  10.7 ,  10.75,\n",
        "        10.8 ,  10.85,  10.9 ,  10.95,  11.  ])"
       ]
      }
     ],
     "prompt_number": 20
    },
    {
     "cell_type": "code",
     "collapsed": false,
     "input": [
      "Ct = r3d.eval(fGHz=S.fGHz)"
     ],
     "language": "python",
     "metadata": {},
     "outputs": [
      {
       "output_type": "stream",
       "stream": "stdout",
       "text": [
        "Rays evaluation\n"
       ]
      }
     ],
     "prompt_number": 21
    },
    {
     "cell_type": "code",
     "collapsed": false,
     "input": [
      "print \"fmin : \",S.fGHz.min()\n",
      "print \"fmax : \",S.fGHz.max()\n",
      "print \"Nf : \", len(S.fGHz)"
     ],
     "language": "python",
     "metadata": {},
     "outputs": [
      {
       "output_type": "stream",
       "stream": "stdout",
       "text": [
        "fmin :  2.0\n",
        "fmax :  11.0\n",
        "Nf :  181\n"
       ]
      }
     ],
     "prompt_number": 22
    },
    {
     "cell_type": "code",
     "collapsed": false,
     "input": [
      "r3d"
     ],
     "language": "python",
     "metadata": {},
     "outputs": [
      {
       "output_type": "pyout",
       "prompt_number": 23,
       "text": [
        "1 / 1 : [0]\n",
        "2 / 5 : [1 2 3 4 5]\n",
        "3 / 13 : [ 6  7  8  9 10 11 12 13 14 15 16 17 18]\n",
        "4 / 20 : [19 20 21 22 23 24 25 26 27 28 29 30 31 32 33 34 35 36 37 38]\n",
        "5 / 18 : [39 40 41 42 43 44 45 46 47 48 49 50 51 52 53 54 55 56]\n",
        "6 / 8 : [57 58 59 60 61 62 63 64]\n",
        "-----\n",
        "ni : 268\n",
        "nl : 601\n"
       ]
      }
     ],
     "prompt_number": 23
    },
    {
     "cell_type": "code",
     "collapsed": false,
     "input": [
      "r3d"
     ],
     "language": "python",
     "metadata": {},
     "outputs": [
      {
       "output_type": "pyout",
       "prompt_number": 24,
       "text": [
        "1 / 1 : [0]\n",
        "2 / 5 : [1 2 3 4 5]\n",
        "3 / 13 : [ 6  7  8  9 10 11 12 13 14 15 16 17 18]\n",
        "4 / 20 : [19 20 21 22 23 24 25 26 27 28 29 30 31 32 33 34 35 36 37 38]\n",
        "5 / 18 : [39 40 41 42 43 44 45 46 47 48 49 50 51 52 53 54 55 56]\n",
        "6 / 8 : [57 58 59 60 61 62 63 64]\n",
        "-----\n",
        "ni : 268\n",
        "nl : 601\n"
       ]
      }
     ],
     "prompt_number": 24
    },
    {
     "cell_type": "code",
     "collapsed": false,
     "input": [
      "Ectt,Ecpp,Ectp,Ecpt = Ct.energy()"
     ],
     "language": "python",
     "metadata": {},
     "outputs": [],
     "prompt_number": 25
    },
    {
     "cell_type": "code",
     "collapsed": false,
     "input": [
      "Eco = Ectt+Ecpp\n",
      "Ecross = Ectp+Ecpt"
     ],
     "language": "python",
     "metadata": {},
     "outputs": [],
     "prompt_number": 26
    },
    {
     "cell_type": "code",
     "collapsed": false,
     "input": [
      "plt.plot(Ct.tauk,10*np.log10(Eco),'ob')\n",
      "plt.plot(Ct.tauk,10*np.log10(Ecross),'or')\n",
      "plt.xlabel('delay(ns)')\n",
      "plt.ylabel('path energy (dB)')\n",
      "plt.legend(('Co-pol','X-pol'))\n",
      "plt.axis((0,80,-60,20))"
     ],
     "language": "python",
     "metadata": {},
     "outputs": [
      {
       "output_type": "pyout",
       "prompt_number": 27,
       "text": [
        "(0, 80, -60, 20)"
       ]
      }
     ],
     "prompt_number": 27
    },
    {
     "cell_type": "markdown",
     "metadata": {},
     "source": [
      "The multipath doa/dod diagram can be obtained via the method `doadod`. The colorbar corresponds to the total energy of the path. "
     ]
    },
    {
     "cell_type": "code",
     "collapsed": false,
     "input": [
      "Ct.doadod(phi=(-180,180))"
     ],
     "language": "python",
     "metadata": {},
     "outputs": [],
     "prompt_number": 28
    },
    {
     "cell_type": "code",
     "collapsed": false,
     "input": [
      "Ct.info()"
     ],
     "language": "python",
     "metadata": {},
     "outputs": [
      {
       "output_type": "stream",
       "stream": "stdout",
       "text": [
        "Nfreq  : 181\n",
        "Nray : 65\n",
        "shape Ctt : (65, 181)\n",
        "shape Ctp : (65, 181)\n",
        "shape Cpt : (65, 181)\n",
        "shape Cpp : (65, 181)\n"
       ]
      }
     ],
     "prompt_number": 29
    },
    {
     "cell_type": "markdown",
     "metadata": {},
     "source": [
      "## Apply waveform"
     ]
    },
    {
     "cell_type": "markdown",
     "metadata": {},
     "source": [
      "Once the propagation channel is obtained the transmission channel is calculated with the method `prop2tran`\n"
     ]
    },
    {
     "cell_type": "code",
     "collapsed": false,
     "input": [
      "Ct.freq = S.fGHz\n",
      "sco = Ct.prop2tran(a='theta',b='theta')\n",
      "sca = Ct.prop2tran(a=S.tx.A,b=S.rx.A)"
     ],
     "language": "python",
     "metadata": {},
     "outputs": [],
     "prompt_number": 30
    },
    {
     "cell_type": "markdown",
     "metadata": {},
     "source": [
      "The applied waveform which is here loaded from a measurement file, and compensated for a small time shift.\n",
      "It is important for the latter treatment for the applied waveform to be centered on the middle of the array \n",
      "as it is illustrated below. \n",
      "\n"
     ]
    },
    {
     "cell_type": "code",
     "collapsed": false,
     "input": [
      "print mesdir"
     ],
     "language": "python",
     "metadata": {},
     "outputs": [
      {
       "output_type": "stream",
       "stream": "stdout",
       "text": [
        "/home/uguen/data/WHERE1/measures\n"
       ]
      }
     ],
     "prompt_number": 31
    },
    {
     "cell_type": "code",
     "collapsed": false,
     "input": [
      "wav = wvf.Waveform(typ='generic',fcGHz=6,bandGHz=4)\n",
      "wav.show()"
     ],
     "language": "python",
     "metadata": {},
     "outputs": [],
     "prompt_number": 32
    },
    {
     "cell_type": "markdown",
     "metadata": {},
     "source": [
      "Finally, the received UWB waveform can be synthesize in applyng the waveform to the transmission channel."
     ]
    },
    {
     "cell_type": "code",
     "collapsed": false,
     "input": [
      "ciro = sco.applywavB(wav.sfg)\n",
      "cira = sca.applywavB(wav.sfg)"
     ],
     "language": "python",
     "metadata": {},
     "outputs": [],
     "prompt_number": 33
    },
    {
     "cell_type": "code",
     "collapsed": false,
     "input": [
      "plt.subplot(121)\n",
      "ciro.plot()\n",
      "plt.xlabel('delay(ns)')\n",
      "plt.ylabel('voltage (V)')\n",
      "plt.title('without antenna')\n",
      "plt.axis((0,90,-0.0002,0.0002))\n",
      "plt.subplot(122)\n",
      "cira.plot()\n",
      "plt.xlabel('delay(ns)')\n",
      "plt.ylabel('voltage (V)')\n",
      "plt.title('with antenna')\n",
      "a=plt.axis((0,90,-0.002,0.002))"
     ],
     "language": "python",
     "metadata": {},
     "outputs": [
      {
       "output_type": "stream",
       "stream": "stderr",
       "text": [
        "/usr/local/lib/python2.7/dist-packages/matplotlib-1.2.1-py2.7-linux-x86_64.egg/matplotlib/axes.py:4601: UserWarning: No labeled objects found. Use label='...' kwarg on individual plots.\n",
        "  warnings.warn(\"No labeled objects found. \"\n"
       ]
      }
     ],
     "prompt_number": 34
    },
    {
     "cell_type": "code",
     "collapsed": false,
     "input": [
      "tx=np.array([0,1])\n"
     ],
     "language": "python",
     "metadata": {},
     "outputs": [],
     "prompt_number": 35
    },
    {
     "cell_type": "code",
     "collapsed": false,
     "input": [
      "tx[0:2]"
     ],
     "language": "python",
     "metadata": {},
     "outputs": [
      {
       "output_type": "pyout",
       "prompt_number": 36,
       "text": [
        "array([0, 1])"
       ]
      }
     ],
     "prompt_number": 36
    },
    {
     "cell_type": "code",
     "collapsed": false,
     "input": [
      "L.Gv"
     ],
     "language": "python",
     "metadata": {},
     "outputs": [
      {
       "ename": "NameError",
       "evalue": "name 'L' is not defined",
       "output_type": "pyerr",
       "traceback": [
        "\u001b[1;31m---------------------------------------------------------------------------\u001b[0m\n\u001b[1;31mNameError\u001b[0m                                 Traceback (most recent call last)",
        "\u001b[1;32m<ipython-input-37-7668cf9c98fa>\u001b[0m in \u001b[0;36m<module>\u001b[1;34m()\u001b[0m\n\u001b[1;32m----> 1\u001b[1;33m \u001b[0mL\u001b[0m\u001b[1;33m.\u001b[0m\u001b[0mGv\u001b[0m\u001b[1;33m\u001b[0m\u001b[0m\n\u001b[0m",
        "\u001b[1;31mNameError\u001b[0m: name 'L' is not defined"
       ]
      }
     ],
     "prompt_number": 37
    },
    {
     "cell_type": "code",
     "collapsed": false,
     "input": [
      "ciro.x"
     ],
     "language": "python",
     "metadata": {},
     "outputs": []
    },
    {
     "cell_type": "code",
     "collapsed": false,
     "input": [
      "ciro.y"
     ],
     "language": "python",
     "metadata": {},
     "outputs": []
    },
    {
     "cell_type": "code",
     "collapsed": false,
     "input": [
      "figure(figsize=(10,8))\n",
      "plt.plot(ciro.x,ciro.y+0.02)\n",
      "Ct.sort()\n",
      "sco = Ct.prop2tran(a='theta',b='theta')\n",
      "stem(Ct.tauk,sum(abs(sco.y)/1000,axis=1),'r',alpha=0.2)"
     ],
     "language": "python",
     "metadata": {},
     "outputs": []
    },
    {
     "cell_type": "code",
     "collapsed": false,
     "input": [
      "import urllib2\n",
      "import json\n",
      "data = urllib2.urlopen(\"http://127.0.0.1:8889/notebooks\")\n",
      "json_data=data.read()\n",
      "list_o_dicts=json.loads(json_data)\n",
      "for d in list_o_dicts:\n",
      "    if d['name'] == 'test':\n",
      "        print d['notebook_id']"
     ],
     "language": "python",
     "metadata": {},
     "outputs": [],
     "prompt_number": 4
    },
    {
     "cell_type": "code",
     "collapsed": false,
     "input": [
      "d"
     ],
     "language": "python",
     "metadata": {},
     "outputs": [],
     "prompt_number": 5
    },
    {
     "cell_type": "markdown",
     "metadata": {},
     "source": [
      "Link to [Simulnet](DOC-simulnet.ipynb)"
     ]
    },
    {
     "cell_type": "code",
     "collapsed": false,
     "input": [],
     "language": "python",
     "metadata": {},
     "outputs": []
    }
   ],
   "metadata": {}
  }
 ]
}