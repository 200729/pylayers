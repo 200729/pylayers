{
 "metadata": {
  "name": ""
 },
 "nbformat": 3,
 "nbformat_minor": 0,
 "worksheets": [
  {
   "cells": [
    {
     "cell_type": "markdown",
     "metadata": {},
     "source": [
      "# Example of an UWB channel Ray Tracing simulation"
     ]
    },
    {
     "cell_type": "markdown",
     "metadata": {},
     "source": [
      "In the following, all steps required for going from the descrpition of the radio scene until the calculation of the UWB \n",
      "channel impulse response is described on a simple example. \n",
      "\n",
      "\n"
     ]
    },
    {
     "cell_type": "markdown",
     "metadata": {},
     "source": [
      "A ray-tracing simulation is controlled via a configuration file which is stored in the *ini* directory of the project directory.\n",
      "By default, a default configuration file named **default.ini** is loaded.\n"
     ]
    },
    {
     "cell_type": "code",
     "collapsed": false,
     "input": [
      "from pylayers.simul.simulem import *\n",
      "from pylayers.antprop.rays import *\n",
      "from pylayers.antprop.channel import *\n",
      "from pylayers.antprop.signature import *\n",
      "from pylayers.measures.mesuwb import *\n",
      "import pylayers.util.pyutil as pyu\n",
      "import pylayers.signal.bsignal as bs"
     ],
     "language": "python",
     "metadata": {},
     "outputs": [],
     "prompt_number": 1
    },
    {
     "cell_type": "markdown",
     "metadata": {},
     "source": [
      "\n",
      "A first step consists in loading a layout associated with the simulation. \n",
      "Here the `WHERE1.ini` layout is chosen along with the corresponding slabs and materials files `matDB.ini` and `slabDB.ini`. \n",
      "\n",
      "This layout corresponds to the office building where the first WHERE1 UWB measurement campaign has been conducted. \n",
      "\n",
      "The layout method loads those in a member layout object **L** of the simulation object **S**.\n",
      "\n",
      "If not already available, the layout associated graphs are built.\n",
      "\n"
     ]
    },
    {
     "cell_type": "code",
     "collapsed": false,
     "input": [
      "S = Simul()\n",
      "# loading a layout \n",
      "filestr = 'WHERE1'\n",
      "S.layout(filestr+'.ini','matDB.ini','slabDB.ini')\n",
      "try:\n",
      "    S.L.dumpr()\n",
      "except:\n",
      "    S.L.build()\n",
      "    S.L.dumpw()"
     ],
     "language": "python",
     "metadata": {},
     "outputs": [],
     "prompt_number": 7
    },
    {
     "cell_type": "markdown",
     "metadata": {},
     "source": [
      "The layout display is fully parameterized via the embedded **display** dictionnary member of the Layout object.which allows to \n",
      "configure the `showGs()` method behavior. "
     ]
    },
    {
     "cell_type": "code",
     "collapsed": false,
     "input": [
      "S.L.display['ednodes']=False\n",
      "S.L.display['nodes']=False\n",
      "S.L.display['title']='WHERE1 Project Office Measurement Site'\n",
      "S.L.display['overlay']=False\n",
      "fig,ax=S.L.showGs()    \n"
     ],
     "language": "python",
     "metadata": {},
     "outputs": [],
     "prompt_number": 8
    },
    {
     "cell_type": "heading",
     "level": 2,
     "metadata": {},
     "source": [
      "Adding coordinates of transmiting and receiving points\n"
     ]
    },
    {
     "cell_type": "markdown",
     "metadata": {},
     "source": [
      "Coordinates of transmitters and receivers for the simulation are stored in **.ini** files.\n",
      "Transmitter and Receiver are instances of the class RadioNode which offers different methods\n",
      "for specifying nodes positions.\n",
      "The stucture of this **.ini** file presented below.\n",
      "The node Id is associated with the 3 coordinates $x,y,z$ separated by white spaces.\n",
      "\n"
     ]
    },
    {
     "cell_type": "markdown",
     "metadata": {},
     "source": [
      "    [coordinates]\n",
      "    1 = -12.2724 7.76319999993 1.2\n",
      "    2 = -18.7747 15.1779999998 1.2\n",
      "    3 = -4.14179999998 8.86029999983 1.2\n",
      "    4 = -9.09139999998 15.1899000001 1.2\n"
     ]
    },
    {
     "cell_type": "code",
     "collapsed": false,
     "input": [
      "S.tx = RadioNode(_fileini='w2m1rx.ini',_fileant='defant.vsh3')\n",
      "S.rx = RadioNode(_fileini='w2m1tx.ini',_fileant='defant.vsh3')"
     ],
     "language": "python",
     "metadata": {},
     "outputs": [],
     "prompt_number": 9
    },
    {
     "cell_type": "markdown",
     "metadata": {},
     "source": [
      "The whole simulation setup can then be displayed using the **show** method of the Simulation object\n",
      "\n"
     ]
    },
    {
     "cell_type": "code",
     "collapsed": false,
     "input": [
      "fig,ax = S.show()"
     ],
     "language": "python",
     "metadata": {},
     "outputs": [],
     "prompt_number": 10
    },
    {
     "cell_type": "markdown",
     "metadata": {},
     "source": [
      "The different object of the simulation cans be accessed to obtain different information. Below the number of transmitter and receiver. "
     ]
    },
    {
     "cell_type": "code",
     "collapsed": false,
     "input": [
      "print 'number of Tx :',len(S.tx.points.keys())\n",
      "print 'number of rx :',len(S.rx.points.keys())"
     ],
     "language": "python",
     "metadata": {},
     "outputs": [],
     "prompt_number": 11
    },
    {
     "cell_type": "markdown",
     "metadata": {},
     "source": [
      "The decomposition of the layout in a set of disjoint cycles is represented below. Not all cycles are rooms.\n"
     ]
    },
    {
     "cell_type": "code",
     "collapsed": false,
     "input": [
      "fig =plt.figure(figsize=(15,15))\n",
      "fig,ax=S.L.showG('t',fig=fig)\n",
      "plt.axis('off')"
     ],
     "language": "python",
     "metadata": {},
     "outputs": [],
     "prompt_number": 12
    },
    {
     "cell_type": "code",
     "collapsed": false,
     "input": [
      "fig,ax=S.L.showG('t',labels=True,figsize=(15,15))\n",
      "plt.axis('off')"
     ],
     "language": "python",
     "metadata": {},
     "outputs": [],
     "prompt_number": 13
    },
    {
     "cell_type": "code",
     "collapsed": false,
     "input": [
      "istup = filter(lambda x: type(eval(x))==tuple,S.L.Gi.node.keys())\n",
      "cy5 = filter(lambda x: eval(x)[1]==5,istup)\n",
      "print cy5"
     ],
     "language": "python",
     "metadata": {},
     "outputs": [],
     "prompt_number": 14
    },
    {
     "cell_type": "code",
     "collapsed": false,
     "input": [
      "nx.neighbors(S.L.Gi,'(140, 5, 78)')"
     ],
     "language": "python",
     "metadata": {},
     "outputs": [],
     "prompt_number": 15
    },
    {
     "cell_type": "code",
     "collapsed": false,
     "input": [
      "S.L.Gi.edge['(140, 5, 78)']['(38, 78)']"
     ],
     "language": "python",
     "metadata": {},
     "outputs": [],
     "prompt_number": 16
    },
    {
     "cell_type": "markdown",
     "metadata": {},
     "source": [
      "## Signatures, rays and propagation and transmission channel"
     ]
    },
    {
     "cell_type": "code",
     "collapsed": false,
     "input": [
      "# Choose Tx and Rx coordinates\n",
      "itx=10\n",
      "irx=2\n",
      "tx= S.tx.points[itx]\n",
      "rx= S.rx.points[irx]"
     ],
     "language": "python",
     "metadata": {},
     "outputs": [],
     "prompt_number": 17
    },
    {
     "cell_type": "code",
     "collapsed": false,
     "input": [
      "tx"
     ],
     "language": "python",
     "metadata": {},
     "outputs": [],
     "prompt_number": 18
    },
    {
     "cell_type": "markdown",
     "metadata": {},
     "source": [
      "A signature is a sequence of layout objects (points and segments) which are involved in a given optical ray, relating the transmiter and the receiver. \n",
      "The signatutre is calculated from a layout cycle to an other layout cycle. This means that is is required first to retrieve the cycle number from \n",
      "point coordinates. This is done thanks to the **pt2cy**, point to cycle function.  \n",
      "\n",
      "\n"
     ]
    },
    {
     "cell_type": "code",
     "collapsed": false,
     "input": [
      "ctx=S.L.pt2cy(tx)\n",
      "crx=S.L.pt2cy(rx)\n",
      "print 'tx point belongs to cycle ',ctx\n",
      "print 'rx point belongs to cycle ',crx"
     ],
     "language": "python",
     "metadata": {},
     "outputs": [],
     "prompt_number": 19
    },
    {
     "cell_type": "markdown",
     "metadata": {},
     "source": [
      "Then the signature between cycle 5 and cycle 4 can be calculated. This is done by instantiating a Signature object with a given layout and the 2 cycle number.\n",
      "\n",
      "The representaion of a signature object provides information about the number of signatures for each number of interactions.\n"
     ]
    },
    {
     "cell_type": "code",
     "collapsed": false,
     "input": [
      "Si = Signatures(S.L,ctx,crx)"
     ],
     "language": "python",
     "metadata": {},
     "outputs": [],
     "prompt_number": 33
    },
    {
     "cell_type": "code",
     "collapsed": false,
     "input": [
      "Si.run4(cutoff=4,algo='old')"
     ],
     "language": "python",
     "metadata": {},
     "outputs": [],
     "prompt_number": 34
    },
    {
     "cell_type": "code",
     "collapsed": false,
     "input": [
      "Si"
     ],
     "language": "python",
     "metadata": {},
     "outputs": [],
     "prompt_number": 35
    },
    {
     "cell_type": "code",
     "collapsed": false,
     "input": [
      "#Si.run4(cutoff=5)"
     ],
     "language": "python",
     "metadata": {},
     "outputs": [],
     "prompt_number": 36
    },
    {
     "cell_type": "markdown",
     "metadata": {},
     "source": [
      "Once the signature has been obtained, 2D rays are calculated with the `rays()` method of the signature **Si**. The coordinates of a transmitter and a receiver should be parameters of the function. **r2d** object has a `show` and `show3` method\n",
      "\n"
     ]
    },
    {
     "cell_type": "code",
     "collapsed": false,
     "input": [
      "tx"
     ],
     "language": "python",
     "metadata": {},
     "outputs": [],
     "prompt_number": 37
    },
    {
     "cell_type": "code",
     "collapsed": false,
     "input": [
      "figsize(20,20)\n",
      "r2d = Si.rays(tx,rx)\n",
      "S.L.display['ednodes']=False\n",
      "r2d.show(S.L,figsize=(20,20),nodes=False)"
     ],
     "language": "python",
     "metadata": {},
     "outputs": [],
     "prompt_number": 38
    },
    {
     "cell_type": "code",
     "collapsed": false,
     "input": [
      "r2d"
     ],
     "language": "python",
     "metadata": {},
     "outputs": [],
     "prompt_number": 39
    },
    {
     "cell_type": "code",
     "collapsed": false,
     "input": [
      "# r2d.show3(strucname='WHERE1')"
     ],
     "language": "python",
     "metadata": {},
     "outputs": [],
     "prompt_number": 40
    },
    {
     "cell_type": "markdown",
     "metadata": {},
     "source": [
      "Then, the **r2d** object is transformed in 3D ray, taking into account the reflection on ceil and floor."
     ]
    },
    {
     "cell_type": "code",
     "collapsed": false,
     "input": [
      "r3d=r2d.to3D(S.L)\n",
      "# r3d.show3(strucname='WHERE1')"
     ],
     "language": "python",
     "metadata": {},
     "outputs": [],
     "prompt_number": 41
    },
    {
     "cell_type": "markdown",
     "metadata": {},
     "source": [
      "Once the 3D rays are obtained the local basis are determined"
     ]
    },
    {
     "cell_type": "code",
     "collapsed": false,
     "input": [
      "r3d.locbas(S.L)"
     ],
     "language": "python",
     "metadata": {},
     "outputs": [],
     "prompt_number": 42
    },
    {
     "cell_type": "markdown",
     "metadata": {},
     "source": [
      "and the the interaction matrices are filled."
     ]
    },
    {
     "cell_type": "code",
     "collapsed": false,
     "input": [
      "r3d.fillinter(S.L)"
     ],
     "language": "python",
     "metadata": {},
     "outputs": [],
     "prompt_number": 43
    },
    {
     "cell_type": "markdown",
     "metadata": {},
     "source": [
      "Below `ni` is the number of interactions"
     ]
    },
    {
     "cell_type": "code",
     "collapsed": false,
     "input": [
      "r3d"
     ],
     "language": "python",
     "metadata": {},
     "outputs": [],
     "prompt_number": 44
    },
    {
     "cell_type": "code",
     "collapsed": false,
     "input": [
      "6*8+5*18+20*4+13*3+5*2+1"
     ],
     "language": "python",
     "metadata": {},
     "outputs": [],
     "prompt_number": 45
    },
    {
     "cell_type": "heading",
     "level": 2,
     "metadata": {},
     "source": [
      "Calulating the Propagation Channel "
     ]
    },
    {
     "cell_type": "markdown",
     "metadata": {},
     "source": [
      "The propagation channel is a `Ctilde` object. This object can be evaluated for different frequency \n",
      "point thanks to the `eval()` method with a frequency array as argument."
     ]
    },
    {
     "cell_type": "code",
     "collapsed": false,
     "input": [
      "S.fGHz"
     ],
     "language": "python",
     "metadata": {},
     "outputs": [],
     "prompt_number": 46
    },
    {
     "cell_type": "code",
     "collapsed": false,
     "input": [
      "Ct = r3d.eval(fGHz=S.fGHz)"
     ],
     "language": "python",
     "metadata": {},
     "outputs": [],
     "prompt_number": 47
    },
    {
     "cell_type": "code",
     "collapsed": false,
     "input": [
      "print \"fmin : \",S.fGHz.min()\n",
      "print \"fmax : \",S.fGHz.max()\n",
      "print \"Nf : \", len(S.fGHz)"
     ],
     "language": "python",
     "metadata": {},
     "outputs": [],
     "prompt_number": 48
    },
    {
     "cell_type": "code",
     "collapsed": false,
     "input": [
      "r3d"
     ],
     "language": "python",
     "metadata": {},
     "outputs": [],
     "prompt_number": 49
    },
    {
     "cell_type": "code",
     "collapsed": false,
     "input": [
      "r3d"
     ],
     "language": "python",
     "metadata": {},
     "outputs": [],
     "prompt_number": 50
    },
    {
     "cell_type": "code",
     "collapsed": false,
     "input": [
      "Ectt,Ecpp,Ectp,Ecpt = Ct.energy()"
     ],
     "language": "python",
     "metadata": {},
     "outputs": [],
     "prompt_number": 51
    },
    {
     "cell_type": "code",
     "collapsed": false,
     "input": [
      "Eco = Ectt+Ecpp\n",
      "Ecross = Ectp+Ecpt"
     ],
     "language": "python",
     "metadata": {},
     "outputs": [],
     "prompt_number": 52
    },
    {
     "cell_type": "code",
     "collapsed": false,
     "input": [
      "plt.plot(Ct.tauk,10*np.log10(Eco),'ob')\n",
      "plt.plot(Ct.tauk,10*np.log10(Ecross),'or')\n",
      "plt.xlabel('delay(ns)')\n",
      "plt.ylabel('path energy (dB)')\n",
      "plt.legend(('Co-pol','X-pol'))\n",
      "plt.axis((0,180,-60,20))"
     ],
     "language": "python",
     "metadata": {},
     "outputs": [],
     "prompt_number": 53
    },
    {
     "cell_type": "markdown",
     "metadata": {},
     "source": [
      "The multipath doa/dod diagram can be obtained via the method `doadod`. The colorbar corresponds to the total energy of the path. "
     ]
    },
    {
     "cell_type": "code",
     "collapsed": false,
     "input": [
      "Ct.doadod(phi=(-180,180))"
     ],
     "language": "python",
     "metadata": {},
     "outputs": [],
     "prompt_number": 54
    },
    {
     "cell_type": "code",
     "collapsed": false,
     "input": [
      "Ct.info()"
     ],
     "language": "python",
     "metadata": {},
     "outputs": [],
     "prompt_number": 55
    },
    {
     "cell_type": "markdown",
     "metadata": {},
     "source": [
      "## Apply waveform"
     ]
    },
    {
     "cell_type": "markdown",
     "metadata": {},
     "source": [
      "Once the propagation channel is obtained the transmission channel is calculated with the method `prop2tran`\n"
     ]
    },
    {
     "cell_type": "code",
     "collapsed": false,
     "input": [
      "Ct.freq = S.fGHz\n",
      "sco = Ct.prop2tran(a='theta',b='theta')\n",
      "sca = Ct.prop2tran(a=S.tx.A,b=S.rx.A)"
     ],
     "language": "python",
     "metadata": {},
     "outputs": [],
     "prompt_number": 56
    },
    {
     "cell_type": "markdown",
     "metadata": {},
     "source": [
      "The applied waveform which is here loaded from a measurement file, and compensated for a small time shift.\n",
      "It is important for the latter treatment for the applied waveform to be centered on the middle of the array \n",
      "as it is illustrated below. \n",
      "\n"
     ]
    },
    {
     "cell_type": "code",
     "collapsed": false,
     "input": [
      "print mesdir"
     ],
     "language": "python",
     "metadata": {},
     "outputs": [],
     "prompt_number": 57
    },
    {
     "cell_type": "code",
     "collapsed": false,
     "input": [
      "wav = wvf.Waveform(typ='generic',fcGHz=6,bandGHz=4)\n",
      "wav.show()"
     ],
     "language": "python",
     "metadata": {},
     "outputs": [],
     "prompt_number": 58
    },
    {
     "cell_type": "markdown",
     "metadata": {},
     "source": [
      "Finally, the received UWB waveform can be synthesize in applyng the waveform to the transmission channel."
     ]
    },
    {
     "cell_type": "code",
     "collapsed": false,
     "input": [
      "ro = sco.applywavB(wav.sfg)\n",
      "ra = sca.applywavB(wav.sfg)"
     ],
     "language": "python",
     "metadata": {},
     "outputs": [],
     "prompt_number": 59
    },
    {
     "cell_type": "code",
     "collapsed": false,
     "input": [
      "ro.plot(types=['v'])\n",
      "plt.xlabel('delay(ns)')\n",
      "plt.ylabel('voltage (V)')\n",
      "plt.title('without antenna')\n",
      "#plt.axis((0,180,-0.006,0.006))\n",
      "\n",
      "ra.plot(types=['v'])\n",
      "plt.xlabel('delay(ns)')\n",
      "plt.ylabel('voltage (V)')\n",
      "plt.title('with antenna')\n",
      "#plt.axis((0,180,-0.1,0.1))"
     ],
     "language": "python",
     "metadata": {},
     "outputs": [],
     "prompt_number": 60
    },
    {
     "cell_type": "code",
     "collapsed": false,
     "input": [],
     "language": "python",
     "metadata": {},
     "outputs": [],
     "prompt_number": 60
    },
    {
     "cell_type": "code",
     "collapsed": false,
     "input": [],
     "language": "python",
     "metadata": {},
     "outputs": [],
     "prompt_number": 60
    },
    {
     "cell_type": "code",
     "collapsed": false,
     "input": [],
     "language": "python",
     "metadata": {},
     "outputs": [],
     "prompt_number": 60
    },
    {
     "cell_type": "code",
     "collapsed": false,
     "input": [],
     "language": "python",
     "metadata": {},
     "outputs": [],
     "prompt_number": 60
    },
    {
     "cell_type": "code",
     "collapsed": false,
     "input": [],
     "language": "python",
     "metadata": {},
     "outputs": []
    }
   ],
   "metadata": {}
  }
 ]
}
