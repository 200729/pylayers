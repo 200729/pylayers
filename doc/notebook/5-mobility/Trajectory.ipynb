{
 "metadata": {
  "name": ""
 },
 "nbformat": 3,
 "nbformat_minor": 0,
 "worksheets": [
  {
   "cells": [
    {
     "cell_type": "heading",
     "level": 2,
     "metadata": {},
     "source": [
      "Example of a trajectory synthesis in DLR WHERE2 environment "
     ]
    },
    {
     "cell_type": "code",
     "collapsed": false,
     "input": [
      "from pylayers.simul.simulem import *\n",
      "from pylayers.antprop.rays import *\n",
      "from pylayers.antprop.channel import *\n",
      "from pylayers.antprop.signature import *\n",
      "import pylayers.util.pyutil as pyu\n",
      "from pylayers.gis.layout import *\n",
      "from pylayers.util.project import *\n",
      "import pylayers.signal.bsignal as bs\n",
      "from datetime import datetime\n",
      "import time\n",
      "import pdb\n",
      "import pickle\n",
      "import numpy as np\n",
      "import matplotlib.pyplot as plt "
     ],
     "language": "python",
     "metadata": {},
     "outputs": [
      {
       "metadata": {},
       "output_type": "display_data",
       "text": [
        "<matplotlib.figure.Figure at 0x4cad9d0>"
       ]
      }
     ],
     "prompt_number": 1
    },
    {
     "cell_type": "markdown",
     "metadata": {},
     "source": [
      "This function has to be moved in simulem module.\n",
      "It is a temporary implementation. Signatures can be handled much more efficiently here.\n",
      "It run a full simulation and returns a list of channel impulse response. \n"
     ]
    },
    {
     "cell_type": "code",
     "collapsed": false,
     "input": [
      "def evalcir(S,wav,cutoff=4):\n",
      "    \"\"\"\n",
      "    Parameters\n",
      "    ----------\n",
      "\n",
      "    S \n",
      "    tx\n",
      "    rx\n",
      "    wav\n",
      "    cutoff\n",
      "\n",
      "    \"\"\"\n",
      "\n",
      "    crxp =-1\n",
      "    ctxp =-1\n",
      "    tcir = {}\n",
      "    tx = S.tx.position \n",
      "    Ntx = len(tx[0])\n",
      "    rx = S.rx.position\n",
      "    Nrx = len(rx[0])\n",
      "\n",
      "    #for kt in range(1,Ntx-1):\n",
      "    #print kt+1\n",
      "    kt=0\n",
      "    tcir[kt+1] = {}\n",
      "    t = np.array([S.tx.position[0,kt+1],S.tx.position[1,kt+1],S.tx.position[2,kt+1]])\n",
      "    for kr in range(Nrx-1):\n",
      "        if (mod(kr,10)==0):\n",
      "            print kr+1\n",
      "        r = np.array([S.rx.position[0,kr+1],S.rx.position[1,kr+1],S.rx.position[2,kr+1]])\n",
      "        ctx = S.L.pt2cy(t)\n",
      "        crx = S.L.pt2cy(r)\n",
      "        if (ctx<>ctxp)|(crx<>crxp):\n",
      "            Si  = Signatures(S.L,ctx,crx)\n",
      "            ctxp = ctx\n",
      "            crxp = crx\n",
      "            Si.run4(cutoff=cutoff)\n",
      "        r2d = Si.rays(t,r)\n",
      "        #r2d.show(S.L)\n",
      "\n",
      "        r3d = r2d.to3D(S.L)\n",
      "        r3d.locbas(S.L)\n",
      "        r3d.fillinter(S.L)\n",
      "        Ct  = r3d.eval(S.fGHz)\n",
      "        sca = Ct.prop2tran(S.tx.A,S.rx.A)\n",
      "        cir = sca.applywavB(wav.sfg)\n",
      "        tcir[kt+1][kr+1]=cir\n",
      "    return(tcir)"
     ],
     "language": "python",
     "metadata": {},
     "outputs": [],
     "prompt_number": 2
    },
    {
     "cell_type": "heading",
     "level": 4,
     "metadata": {},
     "source": [
      "loading the Layout"
     ]
    },
    {
     "cell_type": "code",
     "collapsed": false,
     "input": [
      "S = Simul()\n",
      "filestr = 'DLR2'\n",
      "S.layout(filestr+'.ini','matDB.ini','slabDB.ini')\n",
      "try:\n",
      "    S.L.dumpr()\n",
      "except:\n",
      "    S.L.build()\n",
      "    S.L.dumpw()"
     ],
     "language": "python",
     "metadata": {},
     "outputs": [],
     "prompt_number": 3
    },
    {
     "cell_type": "code",
     "collapsed": false,
     "input": [
      "S.L.display['ednodes']=False\n",
      "S.L.display['nodes']=False\n",
      "S.L.display['title']='DLR WP4 WHERE2 measurement site'\n",
      "S.L.display['overlay']=False\n",
      "fig,ax = S.L.showGs()    "
     ],
     "language": "python",
     "metadata": {},
     "outputs": [],
     "prompt_number": 5
    },
    {
     "cell_type": "markdown",
     "metadata": {},
     "source": [
      "We have a list of static Anchor Nodes. Those values correspond to the actual anchor nodes coordinates \n",
      "of the WHERE2 project DLR measurement campaign. "
     ]
    },
    {
     "cell_type": "code",
     "collapsed": false,
     "input": [
      "AnchorNodes = {390:{'name':'MT_ACO_05','coord':[6,0.81,1.64]},\n",
      "               386:{'name':'MT_ACO_08','coord':[30.574,2.8,1.291]},\n",
      "               391:{'name':'MT_ACO_07','coord':[11.78,-5.553,1.5]},\n",
      "               385:{'name': 'MT_ACO_01','coord':[19.52,-0.69,1.446]},\n",
      "               387:{'name':'MT_ACO_03','coord':[28.606,-0.74,1.467]},\n",
      "               400:{'name':'MT_ACO_02','coord':[30.574,2.8,1.291]},\n",
      "               1:{'name':'MT_DLR_RTDSlave','coord':[0.85,0,1.18]}\n",
      "              }"
     ],
     "language": "python",
     "metadata": {},
     "outputs": [],
     "prompt_number": 7
    },
    {
     "cell_type": "code",
     "collapsed": false,
     "input": [
      "S.tx.clear()\n",
      "S.rx.clear()\n",
      "S.tx.filant='def.vsh3'\n",
      "S.rx.filant='def.vsh3'\n",
      "da ={}\n",
      "dm ={}"
     ],
     "language": "python",
     "metadata": {},
     "outputs": [],
     "prompt_number": 8
    },
    {
     "cell_type": "markdown",
     "metadata": {},
     "source": [
      "Vizualization of the simulated scenario "
     ]
    },
    {
     "cell_type": "code",
     "collapsed": false,
     "input": [
      "fig,ax=S.L.showG('s',nodes=False)\n",
      "plt.axis('off')\n",
      "#\n",
      "# add new points in tx and rx\n",
      "#\n",
      "#for c,k in enumerate(AnchorNodes):\n",
      "c = 0 # first anchor nodes\n",
      "k = AnchorNodes.keys()[c]\n",
      "pta = array([AnchorNodes[k]['coord'][0],AnchorNodes[k]['coord'][1],AnchorNodes[k]['coord'][2]]).reshape(3,1)\n",
      "#\n",
      "# To add a point \n",
      "#\n",
      "S.tx.point(pta,mode=\"add\")\n",
      "da[c]=k\n",
      "plt.plot(pta[0,:],pta[1,:],'or')"
     ],
     "language": "python",
     "metadata": {},
     "outputs": [
      {
       "metadata": {},
       "output_type": "pyout",
       "prompt_number": 9,
       "text": [
        "[<matplotlib.lines.Line2D at 0x547d8d0>]"
       ]
      },
      {
       "metadata": {},
       "output_type": "display_data",
       "png": "[encoded data removed]",
       "text": [
        "<matplotlib.figure.Figure at 0x7fb341250fd0>"
       ]
      }
     ],
     "prompt_number": 9
    },
    {
     "cell_type": "markdown",
     "metadata": {},
     "source": [
      "In the following a trajectory for the receiver is defined.\n",
      "\n",
      "`linevect` function allows to define a linear trajectory from `ptt` along direction `vec`."
     ]
    },
    {
     "cell_type": "code",
     "collapsed": false,
     "input": [
      "S.rx.linevect(npt=20, step=0.2, ptt=[0, 0, 1.275], vec=[1, 0, 0], mode='subst')\n",
      "ps = S.rx.position[:,-1]\n",
      "S.rx.linevect(npt=10, step=0.2, ptt=ps,vec=[0,1,0],mode='append')"
     ],
     "language": "python",
     "metadata": {},
     "outputs": [],
     "prompt_number": 17
    },
    {
     "cell_type": "markdown",
     "metadata": {},
     "source": [
      "Looking what is does "
     ]
    },
    {
     "cell_type": "code",
     "collapsed": false,
     "input": [
      "S.L.display['ednodes']=False\n",
      "S.L.display['edges']=True\n",
      "S.L.display['nodes']=False\n",
      "S.L.display['title']='Trajectory to be simulated'\n",
      "S.show(s=20)"
     ],
     "language": "python",
     "metadata": {},
     "outputs": [
      {
       "output_type": "stream",
       "stream": "stdout",
       "text": [
        "Warning : no furniture file loaded\n"
       ]
      },
      {
       "metadata": {},
       "output_type": "pyout",
       "prompt_number": 18,
       "text": [
        "(<matplotlib.figure.Figure at 0x7fb341c85350>,\n",
        " <matplotlib.axes.AxesSubplot at 0x7fb341c85990>)"
       ]
      },
      {
       "metadata": {},
       "output_type": "display_data",
       "png": "[encoded data removed]",
       "text": [
        "<matplotlib.figure.Figure at 0x7fb341c85350>"
       ]
      }
     ],
     "prompt_number": 18
    },
    {
     "cell_type": "markdown",
     "metadata": {},
     "source": [
      "Choosing a UWB waveform for the simulation"
     ]
    },
    {
     "cell_type": "code",
     "collapsed": false,
     "input": [
      "wav = wvf.Waveform(type='W1compensate')\n",
      "wav.show()"
     ],
     "language": "python",
     "metadata": {},
     "outputs": [
      {
       "metadata": {},
       "output_type": "display_data",
       "png": "[encoded data removed]",
       "text": [
        "<matplotlib.figure.Figure at 0x3653650>"
       ]
      }
     ],
     "prompt_number": 14
    },
    {
     "cell_type": "markdown",
     "metadata": {},
     "source": [
      "running the simulation"
     ]
    },
    {
     "cell_type": "code",
     "collapsed": false,
     "input": [
      "tcir = evalcir(S,wav,cutoff=5)"
     ],
     "language": "python",
     "metadata": {},
     "outputs": [
      {
       "output_type": "stream",
       "stream": "stdout",
       "text": [
        "1\n",
        "11"
       ]
      },
      {
       "output_type": "stream",
       "stream": "stdout",
       "text": [
        "\n",
        "21"
       ]
      },
      {
       "ename": "IndexError",
       "evalue": "too many indices",
       "output_type": "pyerr",
       "traceback": [
        "\u001b[1;31m---------------------------------------------------------------------------\u001b[0m\n\u001b[1;31mIndexError\u001b[0m                                Traceback (most recent call last)",
        "\u001b[1;32m<ipython-input-19-259074b6d9b6>\u001b[0m in \u001b[0;36m<module>\u001b[1;34m()\u001b[0m\n\u001b[1;32m----> 1\u001b[1;33m \u001b[0mtcir\u001b[0m \u001b[1;33m=\u001b[0m \u001b[0mevalcir\u001b[0m\u001b[1;33m(\u001b[0m\u001b[0mS\u001b[0m\u001b[1;33m,\u001b[0m\u001b[0mwav\u001b[0m\u001b[1;33m,\u001b[0m\u001b[0mcutoff\u001b[0m\u001b[1;33m=\u001b[0m\u001b[1;36m5\u001b[0m\u001b[1;33m)\u001b[0m\u001b[1;33m\u001b[0m\u001b[0m\n\u001b[0m",
        "\u001b[1;32m<ipython-input-2-0cc1b8425061>\u001b[0m in \u001b[0;36mevalcir\u001b[1;34m(S, wav, cutoff)\u001b[0m\n\u001b[0;32m     42\u001b[0m         \u001b[0mr3d\u001b[0m\u001b[1;33m.\u001b[0m\u001b[0mlocbas\u001b[0m\u001b[1;33m(\u001b[0m\u001b[0mS\u001b[0m\u001b[1;33m.\u001b[0m\u001b[0mL\u001b[0m\u001b[1;33m)\u001b[0m\u001b[1;33m\u001b[0m\u001b[0m\n\u001b[0;32m     43\u001b[0m         \u001b[0mr3d\u001b[0m\u001b[1;33m.\u001b[0m\u001b[0mfillinter\u001b[0m\u001b[1;33m(\u001b[0m\u001b[0mS\u001b[0m\u001b[1;33m.\u001b[0m\u001b[0mL\u001b[0m\u001b[1;33m)\u001b[0m\u001b[1;33m\u001b[0m\u001b[0m\n\u001b[1;32m---> 44\u001b[1;33m         \u001b[0mCt\u001b[0m  \u001b[1;33m=\u001b[0m \u001b[0mr3d\u001b[0m\u001b[1;33m.\u001b[0m\u001b[0meval\u001b[0m\u001b[1;33m(\u001b[0m\u001b[0mS\u001b[0m\u001b[1;33m.\u001b[0m\u001b[0mfGHz\u001b[0m\u001b[1;33m)\u001b[0m\u001b[1;33m\u001b[0m\u001b[0m\n\u001b[0m\u001b[0;32m     45\u001b[0m         \u001b[0msca\u001b[0m \u001b[1;33m=\u001b[0m \u001b[0mCt\u001b[0m\u001b[1;33m.\u001b[0m\u001b[0mprop2tran\u001b[0m\u001b[1;33m(\u001b[0m\u001b[0mS\u001b[0m\u001b[1;33m.\u001b[0m\u001b[0mtx\u001b[0m\u001b[1;33m.\u001b[0m\u001b[0mA\u001b[0m\u001b[1;33m,\u001b[0m\u001b[0mS\u001b[0m\u001b[1;33m.\u001b[0m\u001b[0mrx\u001b[0m\u001b[1;33m.\u001b[0m\u001b[0mA\u001b[0m\u001b[1;33m)\u001b[0m\u001b[1;33m\u001b[0m\u001b[0m\n\u001b[0;32m     46\u001b[0m         \u001b[0mcir\u001b[0m \u001b[1;33m=\u001b[0m \u001b[0msca\u001b[0m\u001b[1;33m.\u001b[0m\u001b[0mapplywavB\u001b[0m\u001b[1;33m(\u001b[0m\u001b[0mwav\u001b[0m\u001b[1;33m.\u001b[0m\u001b[0msfg\u001b[0m\u001b[1;33m)\u001b[0m\u001b[1;33m\u001b[0m\u001b[0m\n",
        "\u001b[1;32m/home/uguen/Documents/rch/devel/pylayers/pylayers/antprop/rays.pyc\u001b[0m in \u001b[0;36meval\u001b[1;34m(self, fGHz, ib)\u001b[0m\n\u001b[0;32m   1179\u001b[0m \u001b[1;33m\u001b[0m\u001b[0m\n\u001b[0;32m   1180\u001b[0m         \u001b[0mself\u001b[0m\u001b[1;33m.\u001b[0m\u001b[0mI\u001b[0m\u001b[1;33m.\u001b[0m\u001b[0meval\u001b[0m\u001b[1;33m(\u001b[0m\u001b[0mfGHz\u001b[0m\u001b[1;33m)\u001b[0m\u001b[1;33m\u001b[0m\u001b[0m\n\u001b[1;32m-> 1181\u001b[1;33m         \u001b[0mB\u001b[0m\u001b[1;33m=\u001b[0m\u001b[0mself\u001b[0m\u001b[1;33m.\u001b[0m\u001b[0mB\u001b[0m\u001b[1;33m.\u001b[0m\u001b[0meval\u001b[0m\u001b[1;33m(\u001b[0m\u001b[0mfGHz\u001b[0m\u001b[1;33m)\u001b[0m\u001b[1;33m\u001b[0m\u001b[0m\n\u001b[0m\u001b[0;32m   1182\u001b[0m         \u001b[0mB0\u001b[0m\u001b[1;33m=\u001b[0m\u001b[0mself\u001b[0m\u001b[1;33m.\u001b[0m\u001b[0mB0\u001b[0m\u001b[1;33m.\u001b[0m\u001b[0meval\u001b[0m\u001b[1;33m(\u001b[0m\u001b[0mfGHz\u001b[0m\u001b[1;33m)\u001b[0m\u001b[1;33m\u001b[0m\u001b[0m\n\u001b[0;32m   1183\u001b[0m \u001b[1;33m\u001b[0m\u001b[0m\n",
        "\u001b[1;32m/home/uguen/Documents/rch/devel/pylayers/pylayers/antprop/interactions.pyc\u001b[0m in \u001b[0;36meval\u001b[1;34m(self, fGHz)\u001b[0m\n\u001b[0;32m    427\u001b[0m \u001b[1;33m\u001b[0m\u001b[0m\n\u001b[0;32m    428\u001b[0m \u001b[1;33m\u001b[0m\u001b[0m\n\u001b[1;32m--> 429\u001b[1;33m         \u001b[0mself\u001b[0m\u001b[1;33m.\u001b[0m\u001b[0mdelay\u001b[0m\u001b[1;33m(\u001b[0m\u001b[1;33m)\u001b[0m\u001b[1;33m\u001b[0m\u001b[0m\n\u001b[0m\u001b[0;32m    430\u001b[0m         \u001b[1;32mif\u001b[0m \u001b[0mlen\u001b[0m\u001b[1;33m(\u001b[0m\u001b[0mself\u001b[0m\u001b[1;33m.\u001b[0m\u001b[0mdata\u001b[0m\u001b[1;33m)\u001b[0m \u001b[1;33m!=\u001b[0m \u001b[1;36m0\u001b[0m\u001b[1;33m:\u001b[0m\u001b[1;33m\u001b[0m\u001b[0m\n\u001b[0;32m    431\u001b[0m             \u001b[0mlidx\u001b[0m \u001b[1;33m=\u001b[0m \u001b[0mlen\u001b[0m\u001b[1;33m(\u001b[0m\u001b[0mself\u001b[0m\u001b[1;33m.\u001b[0m\u001b[0midx\u001b[0m\u001b[1;33m)\u001b[0m\u001b[1;33m\u001b[0m\u001b[0m\n",
        "\u001b[1;32m/home/uguen/Documents/rch/devel/pylayers/pylayers/antprop/interactions.pyc\u001b[0m in \u001b[0;36mdelay\u001b[1;34m(self)\u001b[0m\n\u001b[0;32m    104\u001b[0m             \u001b[0mself\u001b[0m\u001b[1;33m.\u001b[0m\u001b[0msout\u001b[0m \u001b[1;33m=\u001b[0m \u001b[0mself\u001b[0m\u001b[1;33m.\u001b[0m\u001b[0mdata\u001b[0m\u001b[1;33m[\u001b[0m\u001b[1;36m0\u001b[0m\u001b[1;33m]\u001b[0m\u001b[1;33m\u001b[0m\u001b[0m\n\u001b[0;32m    105\u001b[0m         \u001b[1;32melif\u001b[0m \u001b[0mself\u001b[0m\u001b[1;33m.\u001b[0m\u001b[0mtyp\u001b[0m \u001b[1;33m==\u001b[0m \u001b[1;33m-\u001b[0m\u001b[1;36m1\u001b[0m\u001b[1;33m:\u001b[0m\u001b[1;33m\u001b[0m\u001b[0m\n\u001b[1;32m--> 106\u001b[1;33m             \u001b[0mself\u001b[0m\u001b[1;33m.\u001b[0m\u001b[0msout\u001b[0m \u001b[1;33m=\u001b[0m \u001b[0mnp\u001b[0m\u001b[1;33m.\u001b[0m\u001b[0mzeros\u001b[0m\u001b[1;33m(\u001b[0m\u001b[1;33m(\u001b[0m\u001b[0mlen\u001b[0m\u001b[1;33m(\u001b[0m\u001b[0mself\u001b[0m\u001b[1;33m.\u001b[0m\u001b[0mdata\u001b[0m\u001b[1;33m[\u001b[0m\u001b[1;33m:\u001b[0m\u001b[1;33m,\u001b[0m \u001b[1;36m0\u001b[0m\u001b[1;33m]\u001b[0m\u001b[1;33m)\u001b[0m\u001b[1;33m)\u001b[0m\u001b[1;33m)\u001b[0m\u001b[1;33m\u001b[0m\u001b[0m\n\u001b[0m\u001b[0;32m    107\u001b[0m \u001b[1;33m\u001b[0m\u001b[0m\n\u001b[0;32m    108\u001b[0m     \u001b[1;32mdef\u001b[0m \u001b[0mstack\u001b[0m\u001b[1;33m(\u001b[0m\u001b[0mself\u001b[0m\u001b[1;33m,\u001b[0m \u001b[0mdata\u001b[0m\u001b[1;33m=\u001b[0m\u001b[0mnp\u001b[0m\u001b[1;33m.\u001b[0m\u001b[0marray\u001b[0m\u001b[1;33m(\u001b[0m\u001b[1;33m(\u001b[0m\u001b[1;33m)\u001b[0m\u001b[1;33m)\u001b[0m\u001b[1;33m,\u001b[0m \u001b[0midx\u001b[0m\u001b[1;33m=\u001b[0m\u001b[1;36m0\u001b[0m\u001b[1;33m,\u001b[0m \u001b[0misdata\u001b[0m\u001b[1;33m=\u001b[0m\u001b[0mTrue\u001b[0m\u001b[1;33m)\u001b[0m\u001b[1;33m:\u001b[0m\u001b[1;33m\u001b[0m\u001b[0m\n",
        "\u001b[1;31mIndexError\u001b[0m: too many indices"
       ]
      },
      {
       "output_type": "stream",
       "stream": "stdout",
       "text": [
        "\n"
       ]
      }
     ],
     "prompt_number": 19
    },
    {
     "cell_type": "markdown",
     "metadata": {},
     "source": [
      "\n",
      "The full trajectory simulation took **56.8s** on a Dell M6700. It is stored as a dictionnary of 59 entries containing object from class Usignal of length 9930 points.\n",
      "\n"
     ]
    },
    {
     "cell_type": "markdown",
     "metadata": {},
     "source": [
      "Saving the data in pickle format "
     ]
    },
    {
     "cell_type": "code",
     "collapsed": false,
     "input": [
      "file = open(\"tcir5.pickle\",\"w\")\n",
      "pickle.dump(tcir,file)\n",
      "file.close()"
     ],
     "language": "python",
     "metadata": {},
     "outputs": [],
     "prompt_number": 13
    },
    {
     "cell_type": "markdown",
     "metadata": {},
     "source": [
      "Reading the data from the above file"
     ]
    },
    {
     "cell_type": "code",
     "collapsed": false,
     "input": [
      "del tcir\n",
      "file=open(\"tcir5.pickle\",\"r\")\n",
      "tcir=pickle.load(file)\n",
      "file.close()\n",
      "#\n",
      "for i in tcir[1].keys():\n",
      "    cir = tcir[1][i]\n",
      "    cir.zlr(0,150)\n",
      "    try:\n",
      "        ttcir=np.vstack((ttcir,cir.y))\n",
      "    except:\n",
      "        ttcir=cir.y"
     ],
     "language": "python",
     "metadata": {},
     "outputs": [],
     "prompt_number": 14
    },
    {
     "cell_type": "heading",
     "level": 4,
     "metadata": {},
     "source": [
      "Aggregated CIR along a synthetic trajectory (line in the corridor) "
     ]
    },
    {
     "cell_type": "code",
     "collapsed": false,
     "input": [
      "plt.figure(figsize=(10,10))\n",
      "dmax=150\n",
      "plt.imshow(20*np.log10(ttcir+1e-20),vmax=-40,vmin=-120,origin='lower',extent=[0,dmax,1,69])\n",
      "plt.xlabel(r'delay $\\times$ c (meters)',fontsize=20)\n",
      "#plt.ylabel(r'distance along trajectory (meters)',fontsize=20)\n",
      "plt.ylabel(r'trajectory index number',fontsize=20)\n",
      "clb=plt.colorbar()\n",
      "clb.set_label('level (dB)',fontsize=20)\n",
      "\n",
      "plt.axis('tight')"
     ],
     "language": "python",
     "metadata": {},
     "outputs": [],
     "prompt_number": 20
    },
    {
     "cell_type": "code",
     "collapsed": false,
     "input": [
      "tcir[1][13].plot(types=['v'])"
     ],
     "language": "python",
     "metadata": {},
     "outputs": [],
     "prompt_number": 24
    },
    {
     "cell_type": "code",
     "collapsed": false,
     "input": [
      "plt.figure(figsize=(10,5))\n",
      "tcir[1][1].plot(types=['v'])\n",
      "xlabel('Delay (ns)')\n",
      "ylabel('Level (V)')\n",
      "title('Received Waveform')"
     ],
     "language": "python",
     "metadata": {},
     "outputs": [],
     "prompt_number": 16
    },
    {
     "cell_type": "code",
     "collapsed": false,
     "input": [
      "tcir[1][40].plot(types=['v'])\n",
      "xlabel('Delay (ns)')\n",
      "ylabel('Level (V)')\n",
      "title('Received Waveform')"
     ],
     "language": "python",
     "metadata": {},
     "outputs": [],
     "prompt_number": 17
    }
   ],
   "metadata": {}
  }
 ]
}