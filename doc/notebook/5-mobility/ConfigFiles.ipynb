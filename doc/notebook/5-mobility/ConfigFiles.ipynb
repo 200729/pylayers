{
 "metadata": {
  "name": ""
 },
 "nbformat": 3,
 "nbformat_minor": 0,
 "worksheets": [
  {
   "cells": [
    {
     "cell_type": "code",
     "collapsed": false,
     "input": [
      "import ConfigParser\n",
      "import pylayers.util.pyutil as pyu"
     ],
     "language": "python",
     "metadata": {},
     "outputs": [],
     "prompt_number": 1
    },
    {
     "cell_type": "markdown",
     "metadata": {},
     "source": [
      "#Network Simulation Configuration"
     ]
    },
    {
     "cell_type": "markdown",
     "metadata": {},
     "source": [
      "PyLayers is designed to provide indoor radio channel simulation for mobile agents. \n",
      "\n",
      "The goal is to adress mobility in indoor environement heterogeneous network, with human being carriers of a mobile User Equipement (UE) which possibly embeds several Radio Acess Technology (RAT). \n",
      "\n",
      "Several human can be created and their motion in the environement should be as realistic as possible, because for many applications it turns out that many parameter of interest\n",
      "are stongly dependent of the dynamic topology of the mobile network. \n",
      "\n",
      "In the following the configuration files for proceeding with those high level `PyLayers` simulation are described. \n",
      "\n",
      "The configuration file is `simulnet.ini` "
     ]
    },
    {
     "cell_type": "markdown",
     "metadata": {},
     "source": [
      "### Simulnet.ini"
     ]
    },
    {
     "cell_type": "markdown",
     "metadata": {},
     "source": [
      "This file is located in `$BASENAME/ini`"
     ]
    },
    {
     "cell_type": "code",
     "collapsed": false,
     "input": [
      "!cat $BASENAME/ini/simulnet.ini"
     ],
     "language": "python",
     "metadata": {},
     "outputs": [
      {
       "output_type": "stream",
       "stream": "stdout",
       "text": [
        "[Mysql]\r\n",
        "host = localhost\r\n",
        "user = root\r\n",
        "passwd = sqlsql\r\n",
        "dbname = test\r\n",
        "dumpdb =True\r\n",
        "\r\n",
        "[Save]\r\n",
        "save=[]\r\n",
        ";save=['csv','mysql','matlab','pyray','txt','ini']\r\n",
        "savep=True\r\n",
        "\r\n",
        "[Layout]\r\n",
        "filename = TA-Office.ini\r\n",
        "\r\n",
        "x_offset  = 30\r\n",
        "y_offset = 2\r\n",
        "\r\n",
        "the_world_width\t = 65\r\n",
        "the_world_height = 20\r\n",
        "the_world_scale\t = 20 \r\n",
        "\r\n",
        "[Mechanics]\r\n",
        "; update time for agent movement\r\n",
        "mecanic_update_time = 0.1\r\n",
        "; select how agnt choose destiantion\r\n",
        ";'random' ; file\r\n",
        "choose_destination = 'random'\r\n",
        "\r\n",
        "\r\n",
        "[Network]\r\n",
        "; refresh TOA regulary 'synchro 'or with distance 'autionomous'\r\n",
        "Communication_mode='autonomous'\r\n",
        "; update time for refreshing network\r\n",
        "network_update_time = 0.1\r\n",
        "; show nodes moving & radio link\r\n",
        "show = False\r\n",
        "; show in ipython notebook\r\n",
        "ipython_nb_show = False\r\n",
        "; show signature ( not fully functionnal)\r\n",
        "show_sg = False\r\n",
        "; show 2 tables : mecanic & network\r\n",
        "show_table = False\r\n",
        "; show the same information but in terminal\r\n",
        "dispinfo = False\r\n",
        "\r\n",
        "[Localization]\r\n",
        "; perform localization\r\n",
        "localization = True\r\n",
        "; time to refresh localization\r\n",
        "localization_update_time = 1.0\r\n",
        "; list of used methods method = ['alg','geo']\r\n",
        "method = ['alg']\r\n",
        "\r\n",
        "\r\n",
        "\r\n",
        "[Simulation]\r\n",
        "; Simulation duration\r\n",
        "duration = 10.0\r\n",
        "; speed ratio \r\n",
        "speedratio = 1.\r\n",
        "; time for refreshing tk plot ( obsolete)\r\n",
        "show_interval = 0.5\r\n",
        "; show scene using tk renderer ( obsolete)\r\n",
        "showtk   = False\r\n",
        "; choose seed for random mobiliity\r\n",
        "seed = 1\r\n",
        "; verbose output\r\n",
        "verbose = True\r\n",
        "\r\n"
       ]
      }
     ],
     "prompt_number": 2
    },
    {
     "cell_type": "code",
     "collapsed": false,
     "input": [
      "Cp = ConfigParser.ConfigParser()\n",
      "Cp.read(pyu.getlong('simulnet.ini','ini'))"
     ],
     "language": "python",
     "metadata": {},
     "outputs": [
      {
       "output_type": "pyout",
       "prompt_number": 3,
       "text": [
        "['/home/uguen/Bureau/P1/ini/simulnet.ini']"
       ]
      }
     ],
     "prompt_number": 3
    },
    {
     "cell_type": "markdown",
     "metadata": {},
     "source": [
      "Simulnet.ini contains the following sections"
     ]
    },
    {
     "cell_type": "code",
     "collapsed": false,
     "input": [
      "Cp.sections()"
     ],
     "language": "python",
     "metadata": {},
     "outputs": [
      {
       "output_type": "pyout",
       "prompt_number": 4,
       "text": [
        "['Mysql',\n",
        " 'Save',\n",
        " 'Layout',\n",
        " 'Mechanics',\n",
        " 'Network',\n",
        " 'Localization',\n",
        " 'Simulation']"
       ]
      }
     ],
     "prompt_number": 4
    },
    {
     "cell_type": "heading",
     "level": 3,
     "metadata": {},
     "source": [
      "Save section"
     ]
    },
    {
     "cell_type": "markdown",
     "metadata": {},
     "source": [
      "This section define the save options. "
     ]
    },
    {
     "cell_type": "code",
     "collapsed": false,
     "input": [
      "dict(Cp.items('Save'))"
     ],
     "language": "python",
     "metadata": {},
     "outputs": [
      {
       "output_type": "pyout",
       "prompt_number": 5,
       "text": [
        "{'save': '[]', 'savep': 'True'}"
       ]
      }
     ],
     "prompt_number": 5
    },
    {
     "cell_type": "markdown",
     "metadata": {},
     "source": [
      "The `savep` boolean enable/disable saving of the simulation."
     ]
    },
    {
     "cell_type": "code",
     "collapsed": false,
     "input": [
      "dict(Cp.items('Save'))['savep']"
     ],
     "language": "python",
     "metadata": {},
     "outputs": [
      {
       "output_type": "pyout",
       "prompt_number": 6,
       "text": [
        "'True'"
       ]
      }
     ],
     "prompt_number": 6
    },
    {
     "cell_type": "markdown",
     "metadata": {},
     "source": [
      "The log file which contains all traces from the dynamic are in `$BASENAME/netsave`"
     ]
    },
    {
     "cell_type": "code",
     "collapsed": false,
     "input": [
      "ls /home/Bureau/P1/netsave/"
     ],
     "language": "python",
     "metadata": {},
     "outputs": [
      {
       "output_type": "stream",
       "stream": "stdout",
       "text": [
        "ls: impossible d'acc\u00e9der \u00e0 /home/Bureau/P1/netsave/: Aucun fichier ou dossier de ce type\r\n"
       ]
      }
     ],
     "prompt_number": 7
    },
    {
     "cell_type": "markdown",
     "metadata": {},
     "source": [
      "## Layout\n",
      "\n",
      "This section allow setup the layout for the simulation "
     ]
    },
    {
     "cell_type": "code",
     "collapsed": false,
     "input": [
      "dict(Cp.items('Layout'))"
     ],
     "language": "python",
     "metadata": {},
     "outputs": [
      {
       "output_type": "pyout",
       "prompt_number": 8,
       "text": [
        "{'filename': 'TA-Office.ini',\n",
        " 'the_world_height': '20',\n",
        " 'the_world_scale': '20',\n",
        " 'the_world_width': '65',\n",
        " 'x_offset': '30',\n",
        " 'y_offset': '2'}"
       ]
      }
     ],
     "prompt_number": 8
    },
    {
     "cell_type": "markdown",
     "metadata": {},
     "source": [
      "Choose the used Layout for simulation"
     ]
    },
    {
     "cell_type": "code",
     "collapsed": false,
     "input": [
      "dict(Cp.items('Layout'))['filename']"
     ],
     "language": "python",
     "metadata": {},
     "outputs": [
      {
       "output_type": "pyout",
       "prompt_number": 9,
       "text": [
        "'TA-Office.ini'"
       ]
      }
     ],
     "prompt_number": 9
    },
    {
     "cell_type": "markdown",
     "metadata": {},
     "source": [
      "Setup an offset on the origin of axis"
     ]
    },
    {
     "cell_type": "code",
     "collapsed": false,
     "input": [
      "print dict(Cp.items('Layout'))['x_offset']\n",
      "print dict(Cp.items('Layout'))['y_offset']"
     ],
     "language": "python",
     "metadata": {},
     "outputs": [
      {
       "output_type": "stream",
       "stream": "stdout",
       "text": [
        "30\n",
        "2\n"
       ]
      }
     ],
     "prompt_number": 10
    },
    {
     "cell_type": "markdown",
     "metadata": {},
     "source": [
      "## Network"
     ]
    },
    {
     "cell_type": "code",
     "collapsed": false,
     "input": [
      "dict(Cp.items('Network'))"
     ],
     "language": "python",
     "metadata": {},
     "outputs": [
      {
       "output_type": "pyout",
       "prompt_number": 11,
       "text": [
        "{'communication_mode': \"'autonomous'\",\n",
        " 'dispinfo': 'False',\n",
        " 'ipython_nb_show': 'False',\n",
        " 'network_update_time': '0.1',\n",
        " 'show': 'False',\n",
        " 'show_sg': 'False',\n",
        " 'show_table': 'False'}"
       ]
      }
     ],
     "prompt_number": 11
    },
    {
     "cell_type": "markdown",
     "metadata": {},
     "source": [
      "Setup communication mode between node:\n",
      "\n",
      "+ autonomous : the data exchange between nodes is driven by the localization layer. If more information is required to estimate the position a communication request is send to the communication stae\n",
      "+ synchro : the data exchange between nodes is periodic. LDPs are periodically refreshed at the network_update_time"
     ]
    },
    {
     "cell_type": "code",
     "collapsed": false,
     "input": [
      "dict(Cp.items('Network'))['communication_mode']"
     ],
     "language": "python",
     "metadata": {},
     "outputs": [
      {
       "output_type": "pyout",
       "prompt_number": 12,
       "text": [
        "\"'autonomous'\""
       ]
      }
     ],
     "prompt_number": 12
    },
    {
     "cell_type": "markdown",
     "metadata": {},
     "source": [
      "Time step for the refresh network information\n"
     ]
    },
    {
     "cell_type": "code",
     "collapsed": false,
     "input": [
      "dict(Cp.items('Network'))['network_update_time']"
     ],
     "language": "python",
     "metadata": {},
     "outputs": [
      {
       "output_type": "pyout",
       "prompt_number": 13,
       "text": [
        "'0.1'"
       ]
      }
     ],
     "prompt_number": 13
    },
    {
     "cell_type": "markdown",
     "metadata": {},
     "source": [
      "Vizualization of the simulation using matplotlib"
     ]
    },
    {
     "cell_type": "code",
     "collapsed": false,
     "input": [
      "dict(Cp.items('Network'))['show']"
     ],
     "language": "python",
     "metadata": {},
     "outputs": [
      {
       "output_type": "pyout",
       "prompt_number": 14,
       "text": [
        "'False'"
       ]
      }
     ],
     "prompt_number": 14
    },
    {
     "cell_type": "markdown",
     "metadata": {},
     "source": [
      "Vizualization of a table summing up the data exchange of the nodes"
     ]
    },
    {
     "cell_type": "code",
     "collapsed": false,
     "input": [
      "dict(Cp.items('Network'))['show_table']"
     ],
     "language": "python",
     "metadata": {},
     "outputs": [
      {
       "output_type": "pyout",
       "prompt_number": 15,
       "text": [
        "'False'"
       ]
      }
     ],
     "prompt_number": 15
    },
    {
     "cell_type": "markdown",
     "metadata": {},
     "source": [
      "Vizualization of the simulation inside ipython notebook "
     ]
    },
    {
     "cell_type": "code",
     "collapsed": false,
     "input": [
      "dict(Cp.items('Network'))['ipython_nb_show']"
     ],
     "language": "python",
     "metadata": {},
     "outputs": [
      {
       "output_type": "pyout",
       "prompt_number": 16,
       "text": [
        "'False'"
       ]
      }
     ],
     "prompt_number": 16
    },
    {
     "cell_type": "markdown",
     "metadata": {},
     "source": [
      "## Mechanics\n",
      "\n",
      "This section allow to setup the agent movement during simulation"
     ]
    },
    {
     "cell_type": "code",
     "collapsed": false,
     "input": [
      "dict(Cp.items('Mechanics'))"
     ],
     "language": "python",
     "metadata": {},
     "outputs": [
      {
       "output_type": "pyout",
       "prompt_number": 17,
       "text": [
        "{'choose_destination': \"'random'\", 'mecanic_update_time': '0.1'}"
       ]
      }
     ],
     "prompt_number": 17
    },
    {
     "cell_type": "markdown",
     "metadata": {},
     "source": [
      "Setup how agent choose their target:\n",
      "\n",
      "+ random : the agnet move into the layout randomly\n",
      "+ file : the agent follow the sequence specified in <project_dir>/nodes_destination.ini"
     ]
    },
    {
     "cell_type": "code",
     "collapsed": false,
     "input": [
      "dict(Cp.items('Mechanics'))['choose_destination']"
     ],
     "language": "python",
     "metadata": {},
     "outputs": [
      {
       "output_type": "pyout",
       "prompt_number": 18,
       "text": [
        "\"'random'\""
       ]
      }
     ],
     "prompt_number": 18
    },
    {
     "cell_type": "markdown",
     "metadata": {},
     "source": [
      "Time step for refreshing the mechanical layer (ground truth position) \n"
     ]
    },
    {
     "cell_type": "code",
     "collapsed": false,
     "input": [
      "dict(Cp.items('Mechanics'))['mecanic_update_time']"
     ],
     "language": "python",
     "metadata": {},
     "outputs": [
      {
       "output_type": "pyout",
       "prompt_number": 19,
       "text": [
        "'0.1'"
       ]
      }
     ],
     "prompt_number": 19
    },
    {
     "cell_type": "markdown",
     "metadata": {},
     "source": [
      "## Localization\n",
      "Setup Localization algorithms"
     ]
    },
    {
     "cell_type": "code",
     "collapsed": false,
     "input": [
      "dict(Cp.items('Localization'))"
     ],
     "language": "python",
     "metadata": {},
     "outputs": [
      {
       "output_type": "pyout",
       "prompt_number": 20,
       "text": [
        "{'localization': 'True',\n",
        " 'localization_update_time': '1.0',\n",
        " 'method': \"['alg']\"}"
       ]
      }
     ],
     "prompt_number": 20
    },
    {
     "cell_type": "markdown",
     "metadata": {},
     "source": [
      "enable/disable localizaiton of the agents"
     ]
    },
    {
     "cell_type": "code",
     "collapsed": false,
     "input": [
      "dict(Cp.items('Localization'))['localization']"
     ],
     "language": "python",
     "metadata": {},
     "outputs": [
      {
       "output_type": "pyout",
       "prompt_number": 21,
       "text": [
        "'True'"
       ]
      }
     ],
     "prompt_number": 21
    },
    {
     "cell_type": "markdown",
     "metadata": {},
     "source": [
      "Select localization methods :\n",
      "\n",
      "+ Algebraic : h\u00e9t\u00e9rogeneous localization algorithm\n",
      "+ Geometric : RGPA "
     ]
    },
    {
     "cell_type": "code",
     "collapsed": false,
     "input": [
      "dict(Cp.items('Localization'))['method']"
     ],
     "language": "python",
     "metadata": {},
     "outputs": [
      {
       "output_type": "pyout",
       "prompt_number": 22,
       "text": [
        "\"['alg']\""
       ]
      }
     ],
     "prompt_number": 22
    },
    {
     "cell_type": "markdown",
     "metadata": {},
     "source": [
      "Time step for localization update"
     ]
    },
    {
     "cell_type": "code",
     "collapsed": false,
     "input": [
      "dict(Cp.items('Localization'))['localization_update_time']"
     ],
     "language": "python",
     "metadata": {},
     "outputs": [
      {
       "output_type": "pyout",
       "prompt_number": 23,
       "text": [
        "'1.0'"
       ]
      }
     ],
     "prompt_number": 23
    },
    {
     "cell_type": "markdown",
     "metadata": {},
     "source": [
      "## Simulation"
     ]
    },
    {
     "cell_type": "code",
     "collapsed": false,
     "input": [
      "dict(Cp.items('Simulation'))\n"
     ],
     "language": "python",
     "metadata": {},
     "outputs": [
      {
       "output_type": "pyout",
       "prompt_number": 24,
       "text": [
        "{'duration': '10.0',\n",
        " 'seed': '1',\n",
        " 'show_interval': '0.5',\n",
        " 'showtk': 'False',\n",
        " 'speedratio': '1.',\n",
        " 'verbose': 'True'}"
       ]
      }
     ],
     "prompt_number": 24
    },
    {
     "cell_type": "markdown",
     "metadata": {},
     "source": [
      "Setup simulation duration in second"
     ]
    },
    {
     "cell_type": "code",
     "collapsed": false,
     "input": [
      "dict(Cp.items('Simulation'))['duration']\n"
     ],
     "language": "python",
     "metadata": {},
     "outputs": [
      {
       "output_type": "pyout",
       "prompt_number": 25,
       "text": [
        "'10.0'"
       ]
      }
     ],
     "prompt_number": 25
    },
    {
     "cell_type": "markdown",
     "metadata": {},
     "source": [
      "Setup random seed for simulation"
     ]
    },
    {
     "cell_type": "code",
     "collapsed": false,
     "input": [
      "dict(Cp.items('Simulation'))['seed']\n"
     ],
     "language": "python",
     "metadata": {},
     "outputs": [
      {
       "output_type": "pyout",
       "prompt_number": 26,
       "text": [
        "'1'"
       ]
      }
     ],
     "prompt_number": 26
    },
    {
     "cell_type": "markdown",
     "metadata": {},
     "source": [
      "Display messages during simulation"
     ]
    },
    {
     "cell_type": "code",
     "collapsed": false,
     "input": [
      "dict(Cp.items('Simulation'))['verbose']\n"
     ],
     "language": "python",
     "metadata": {},
     "outputs": [
      {
       "output_type": "pyout",
       "prompt_number": 27,
       "text": [
        "'True'"
       ]
      }
     ],
     "prompt_number": 27
    },
    {
     "cell_type": "code",
     "collapsed": false,
     "input": [
      "from IPython.display import FileLink\n",
      "FileLink('Mobility.ipynb')"
     ],
     "language": "python",
     "metadata": {},
     "outputs": [
      {
       "html": [
        "Path (<tt>Mobility.ipynb</tt>) doesn't exist. It may still be in the process of being generated, or you may have the incorrect path."
       ],
       "output_type": "pyout",
       "prompt_number": 28,
       "text": [
        "/home/uguen/Documents/rch/devel/pylayers/doc/notebook/Mobility.ipynb"
       ]
      }
     ],
     "prompt_number": 28
    },
    {
     "cell_type": "code",
     "collapsed": false,
     "input": [
      "from IPython.core.display import HTML\n",
      "\n",
      "def css_styling():\n",
      "    styles = open(\"../styles/custom.css\", \"r\").read()\n",
      "    return HTML(styles)\n",
      "css_styling()"
     ],
     "language": "python",
     "metadata": {},
     "outputs": [
      {
       "html": [
        "<style>\n",
        "    @font-face {\n",
        "        font-family: \"Computer Modern\";\n",
        "        src: url('http://mirrors.ctan.org/fonts/cm-unicode/fonts/otf/cmunss.otf');\n",
        "    }\n",
        "    div.cell{\n",
        "        width:800px;\n",
        "        margin-left:16% !important;\n",
        "        margin-right:auto;\n",
        "    }\n",
        "    h1 {\n",
        "        font-family: Helvetica, serif;\n",
        "    }\n",
        "    h4{\n",
        "        margin-top:12px;\n",
        "        margin-bottom: 3px;\n",
        "       }\n",
        "    div.text_cell_render{\n",
        "        font-family: Computer Modern, \"Helvetica Neue\", Arial, Helvetica, Geneva, sans-serif;\n",
        "        line-height: 145%;\n",
        "        font-size: 130%;\n",
        "        width:800px;\n",
        "        margin-left:auto;\n",
        "        margin-right:auto;\n",
        "    }\n",
        "    .CodeMirror{\n",
        "            font-family: \"Source Code Pro\", source-code-pro,Consolas, monospace;\n",
        "    }\n",
        "    .prompt{\n",
        "        display: None;\n",
        "    }\n",
        "    .text_cell_render h5 {\n",
        "        font-weight: 300;\n",
        "        font-size: 22pt;\n",
        "        color: #4057A1;\n",
        "        font-style: italic;\n",
        "        margin-bottom: .5em;\n",
        "        margin-top: 0.5em;\n",
        "        display: block;\n",
        "    }\n",
        "    \n",
        "    .warning{\n",
        "        color: rgb( 240, 20, 20 )\n",
        "        }  \n",
        "</style>\n",
        "<script>\n",
        "    MathJax.Hub.Config({\n",
        "                        TeX: {\n",
        "                           extensions: [\"AMSmath.js\"]\n",
        "                           },\n",
        "                tex2jax: {\n",
        "                    inlineMath: [ ['$','$'], [\"\\\\(\",\"\\\\)\"] ],\n",
        "                    displayMath: [ ['$$','$$'], [\"\\\\[\",\"\\\\]\"] ]\n",
        "                },\n",
        "                displayAlign: 'center', // Change this to 'center' to center equations.\n",
        "                \"HTML-CSS\": {\n",
        "                    styles: {'.MathJax_Display': {\"margin\": 4}}\n",
        "                }\n",
        "        });\n",
        "</script>"
       ],
       "output_type": "pyout",
       "prompt_number": 29,
       "text": [
        "<IPython.core.display.HTML at 0x27bc150>"
       ]
      }
     ],
     "prompt_number": 29
    },
    {
     "cell_type": "code",
     "collapsed": false,
     "input": [],
     "language": "python",
     "metadata": {},
     "outputs": [],
     "prompt_number": 30
    }
   ],
   "metadata": {}
  }
 ]
}