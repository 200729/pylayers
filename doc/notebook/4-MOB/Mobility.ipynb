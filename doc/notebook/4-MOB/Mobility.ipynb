{
 "metadata": {
  "name": "",
  "signature": "sha256:d8788c108be78a66cd9616233c9a45a7c02986c96d8f8121559db52fbc5da28e"
 },
 "nbformat": 3,
 "nbformat_minor": 0,
 "worksheets": [
  {
   "cells": [
    {
     "cell_type": "markdown",
     "metadata": {},
     "source": [
      "## Trajectory and Network simulation"
     ]
    },
    {
     "cell_type": "code",
     "collapsed": false,
     "input": [
      "from IPython.display import Image, HTML, Latex, YouTubeVideo\n",
      "import numpy as np\n",
      "import pylayers.mobility.trajectory as traj\n",
      "from pylayers.mobility.ban.body import *\n",
      "from pylayers.gis.layout import *\n",
      "%matplotlib inline"
     ],
     "language": "python",
     "metadata": {},
     "outputs": [
      {
       "output_type": "stream",
       "stream": "stderr",
       "text": [
        "WARNING:traits.has_traits:DEPRECATED: traits.has_traits.wrapped_class, 'the 'implements' class advisor has been deprecated. Use the 'provides' class decorator.\n"
       ]
      }
     ],
     "prompt_number": 1
    },
    {
     "cell_type": "code",
     "collapsed": false,
     "input": [
      "YouTubeVideo('1Qa6xLpU5-M')"
     ],
     "language": "python",
     "metadata": {},
     "outputs": [
      {
       "html": [
        "\n",
        "        <iframe\n",
        "            width=\"400\"\n",
        "            height=300\"\n",
        "            src=\"https://www.youtube.com/embed/1Qa6xLpU5-M\"\n",
        "            frameborder=\"0\"\n",
        "            allowfullscreen\n",
        "        ></iframe>\n",
        "        "
       ],
       "metadata": {},
       "output_type": "pyout",
       "prompt_number": 2,
       "text": [
        "<IPython.lib.display.YouTubeVideo at 0x7fc5e52775d0>"
       ]
      }
     ],
     "prompt_number": 2
    },
    {
     "cell_type": "markdown",
     "metadata": {},
     "source": [
      "Trajectories can be generated using simulnet.\n"
     ]
    },
    {
     "cell_type": "code",
     "collapsed": false,
     "input": [
      "from pylayers.simul.simulnet import *\n",
      "S=Simul()"
     ],
     "language": "python",
     "metadata": {},
     "outputs": [
      {
       "output_type": "stream",
       "stream": "stdout",
       "text": [
        "Layout graphs are loaded from /home/uguen/Bureau/P1/struc/ini\n"
       ]
      },
      {
       "metadata": {},
       "output_type": "display_data",
       "text": [
        "<matplotlib.figure.Figure at 0x7fc5949f2b90>"
       ]
      }
     ],
     "prompt_number": 3
    },
    {
     "cell_type": "code",
     "collapsed": false,
     "input": [
      "# set simulation duration\n",
      "\n",
      "S.sim_opt['duration']='100'\n",
      "\n",
      "S.meca_opt['mecanic_update_time']=0.1\n",
      "\n",
      "# turn on network simulation\n",
      "S.net_opt['network']=True"
     ],
     "language": "python",
     "metadata": {},
     "outputs": [],
     "prompt_number": 4
    },
    {
     "cell_type": "code",
     "collapsed": false,
     "input": [
      "# run mechanical simulation\n",
      "S.runsimul()"
     ],
     "language": "python",
     "metadata": {},
     "outputs": [],
     "prompt_number": 5
    },
    {
     "cell_type": "markdown",
     "metadata": {},
     "source": [
      "trajectories can be imported from a simulnet simulation with the `importh5` method"
     ]
    },
    {
     "cell_type": "code",
     "collapsed": false,
     "input": [
      "from pylayers.mobility.trajectory import *"
     ],
     "language": "python",
     "metadata": {},
     "outputs": [],
     "prompt_number": 6
    },
    {
     "cell_type": "code",
     "collapsed": false,
     "input": [
      "str1 = eval(S.sim_opt['filename'])\n",
      "str2 = S.L.filename.split('.')[0]\n",
      "# the save filename is composed of simulation filename and layout filename\n",
      "save_filename = str1 + '_' + str2 +'.h5'\n",
      "\n",
      "list_traj = S.traj"
     ],
     "language": "python",
     "metadata": {},
     "outputs": [],
     "prompt_number": 7
    },
    {
     "cell_type": "code",
     "collapsed": false,
     "input": [
      "list_traj"
     ],
     "language": "python",
     "metadata": {},
     "outputs": [
      {
       "metadata": {},
       "output_type": "pyout",
       "prompt_number": 8,
       "text": [
        "Trajectories performed in Layout : TA-Office.ini\n",
        "\n",
        "Trajectory of agent John with ID 1\n",
        "----------------------------------\n",
        "t (s) : 0.00 : 0.20 : 99.80\n",
        "dtot (m) : 348.62\n",
        "Vmoy (m/s) : 3.49\n",
        "                                    x         y        vx        vy        ax  \\\n",
        "t                                                                               \n",
        "1970-01-01 00:00:00         18.907750  2.528547  0.038749  0.155237  0.193744   \n",
        "1970-01-01 00:00:00.200000  18.921699  2.584433  0.069748  0.279427  0.154995   \n",
        "\n",
        "                                  ay      s  \n",
        "t                                            \n",
        "1970-01-01 00:00:00         0.776185  0.160  \n",
        "1970-01-01 00:00:00.200000  0.620948  0.448  \n",
        "\n",
        "Trajectory of agent Alex with ID 2\n",
        "----------------------------------\n",
        "t (s) : 0.00 : 0.20 : 99.80\n",
        "dtot (m) : 331.98\n",
        "Vmoy (m/s) : 3.33\n",
        "                                    x         y        vx        vy        ax  \\\n",
        "t                                                                               \n",
        "1970-01-01 00:00:00         29.706510  2.528831  0.032551  0.156654  0.162753   \n",
        "1970-01-01 00:00:00.200000  29.718228  2.585226  0.058591  0.281977  0.130202   \n",
        "\n",
        "                                  ay      s  \n",
        "t                                            \n",
        "1970-01-01 00:00:00         0.783270  0.160  \n",
        "1970-01-01 00:00:00.200000  0.626616  0.448  \n",
        "\n",
        "Access point Router with ID 6\n",
        "-----------------------------\n",
        "t (s) : 0.00\n",
        "Vmoy (m/s) : 0.0\n",
        "              x  y    z  vx  vy  ax  ay  s\n",
        "t                                         \n",
        "1970-01-01  0.5  2  2.5   0   0   0   0  0\n",
        "\n",
        "Access point Router with ID 7\n",
        "-----------------------------\n",
        "t (s) : 0.00\n",
        "Vmoy (m/s) : 0.0\n",
        "              x   y    z  vx  vy  ax  ay  s\n",
        "t                                          \n",
        "1970-01-01  0.7  14  2.5   0   0   0   0  0\n",
        "\n",
        "Access point Router with ID 8\n",
        "-----------------------------\n",
        "t (s) : 0.00\n",
        "Vmoy (m/s) : 0.0\n",
        "             x   y    z  vx  vy  ax  ay  s\n",
        "t                                         \n",
        "1970-01-01  39  13  2.5   0   0   0   0  0\n",
        "\n"
       ]
      }
     ],
     "prompt_number": 8
    },
    {
     "cell_type": "markdown",
     "metadata": {},
     "source": [
      "The 2 following trajectories have been calculated with `pylayers.simul.simulnet`"
     ]
    },
    {
     "cell_type": "code",
     "collapsed": false,
     "input": [
      "t=S.traj.resample(10)"
     ],
     "language": "python",
     "metadata": {},
     "outputs": [],
     "prompt_number": 12
    },
    {
     "cell_type": "code",
     "collapsed": false,
     "input": [
      "f=plt.figure(figsize=(20,20))\n",
      "f,a = S.L.showG('s',fig=f)\n",
      "for nodes in t:\n",
      "    f,a = nodes.plot(fig=f,ax=a)"
     ],
     "language": "python",
     "metadata": {},
     "outputs": [
      {
       "metadata": {},
       "output_type": "display_data",
       "png": "[encoded data removed]",
       "text": [
        "<matplotlib.figure.Figure at 0x7fc58e608b90>"
       ]
      }
     ],
     "prompt_number": 13
    },
    {
     "cell_type": "code",
     "collapsed": false,
     "input": [
      "S"
     ],
     "language": "python",
     "metadata": {},
     "outputs": [
      {
       "metadata": {},
       "output_type": "pyout",
       "prompt_number": 14,
       "text": [
        "Simulation information\n",
        "----------------------\n",
        "Layout: TA-Office.ini\n",
        "Simulation duration: 100\n",
        "Random seed: 1\n",
        "Save simulation: True\n",
        "\n",
        "Update times\n",
        "-------------\n",
        "Mechanical update: 0.1\n",
        "Network update: 0.1\n",
        "Localization update: 'autonomous'\n",
        "\n",
        "Agents => self.lAg[i]\n",
        "------\n",
        "Number of agents :5\n",
        "Agents IDs: ['1', '2', '6', '7', '8']\n",
        "Agents names: ['John', 'Alex', 'Router', 'Router', 'Router']\n",
        "Destination of chosen agents: 'random'\n",
        "\n",
        "Network\n",
        "-------\n",
        "Nodes per wstd: {'rat1': ['1', '8', '2', '7', '6']}\n",
        "\n",
        "Localization\n",
        "------------\n",
        "Localization enable: False\n",
        "Postion estimation methods: ['geo']"
       ]
      }
     ],
     "prompt_number": 14
    },
    {
     "cell_type": "code",
     "collapsed": false,
     "input": [
      "S.save.save['1']['8']['rat1']['Pr']"
     ],
     "language": "python",
     "metadata": {},
     "outputs": [
      {
       "metadata": {},
       "output_type": "pyout",
       "prompt_number": 22,
       "text": [
        "array([[ nan,  nan],\n",
        "       [ nan,  nan],\n",
        "       [ nan,  nan],\n",
        "       [ nan,  nan],\n",
        "       [ nan,  nan],\n",
        "       [ nan,  nan],\n",
        "       [ nan,  nan],\n",
        "       [ nan,  nan],\n",
        "       [ nan,  nan],\n",
        "       [ nan,  nan],\n",
        "       [ nan,  nan],\n",
        "       [ nan,  nan],\n",
        "       [ nan,  nan],\n",
        "       [ nan,  nan],\n",
        "       [ nan,  nan],\n",
        "       [ nan,  nan],\n",
        "       [ nan,  nan],\n",
        "       [ nan,  nan],\n",
        "       [ nan,  nan],\n",
        "       [ nan,  nan],\n",
        "       [ nan,  nan],\n",
        "       [ nan,  nan],\n",
        "       [ nan,  nan],\n",
        "       [ nan,  nan],\n",
        "       [ nan,  nan],\n",
        "       [ nan,  nan],\n",
        "       [ nan,  nan],\n",
        "       [ nan,  nan],\n",
        "       [ nan,  nan],\n",
        "       [ nan,  nan],\n",
        "       [ nan,  nan],\n",
        "       [ nan,  nan],\n",
        "       [ nan,  nan],\n",
        "       [ nan,  nan],\n",
        "       [ nan,  nan],\n",
        "       [ nan,  nan],\n",
        "       [ nan,  nan],\n",
        "       [ nan,  nan],\n",
        "       [ nan,  nan],\n",
        "       [ nan,  nan],\n",
        "       [ nan,  nan],\n",
        "       [ nan,  nan],\n",
        "       [ nan,  nan],\n",
        "       [ nan,  nan],\n",
        "       [ nan,  nan],\n",
        "       [ nan,  nan],\n",
        "       [ nan,  nan],\n",
        "       [ nan,  nan],\n",
        "       [ nan,  nan],\n",
        "       [ nan,  nan],\n",
        "       [ nan,  nan],\n",
        "       [ nan,  nan],\n",
        "       [ nan,  nan],\n",
        "       [ nan,  nan],\n",
        "       [ nan,  nan],\n",
        "       [ nan,  nan],\n",
        "       [ nan,  nan],\n",
        "       [ nan,  nan],\n",
        "       [ nan,  nan],\n",
        "       [ nan,  nan],\n",
        "       [ nan,  nan],\n",
        "       [ nan,  nan],\n",
        "       [ nan,  nan],\n",
        "       [ nan,  nan],\n",
        "       [ nan,  nan],\n",
        "       [ nan,  nan],\n",
        "       [ nan,  nan],\n",
        "       [ nan,  nan],\n",
        "       [ nan,  nan],\n",
        "       [ nan,  nan],\n",
        "       [ nan,  nan],\n",
        "       [ nan,  nan],\n",
        "       [ nan,  nan],\n",
        "       [ nan,  nan],\n",
        "       [ nan,  nan],\n",
        "       [ nan,  nan],\n",
        "       [ nan,  nan],\n",
        "       [ nan,  nan],\n",
        "       [ nan,  nan],\n",
        "       [ nan,  nan],\n",
        "       [ nan,  nan],\n",
        "       [ nan,  nan],\n",
        "       [ nan,  nan],\n",
        "       [ nan,  nan],\n",
        "       [ nan,  nan],\n",
        "       [ nan,  nan],\n",
        "       [ nan,  nan],\n",
        "       [ nan,  nan],\n",
        "       [ nan,  nan],\n",
        "       [ nan,  nan],\n",
        "       [ nan,  nan],\n",
        "       [ nan,  nan],\n",
        "       [ nan,  nan],\n",
        "       [ nan,  nan],\n",
        "       [ nan,  nan],\n",
        "       [ nan,  nan],\n",
        "       [ nan,  nan],\n",
        "       [ nan,  nan],\n",
        "       [ nan,  nan],\n",
        "       [ nan,  nan],\n",
        "       [ nan,  nan]])"
       ]
      }
     ],
     "prompt_number": 22
    },
    {
     "cell_type": "code",
     "collapsed": false,
     "input": [
      "from IPython.core.display import HTML\n",
      "\n",
      "def css_styling():\n",
      "    styles = open(\"../styles/custom.css\", \"r\").read()\n",
      "    return HTML(styles)\n",
      "css_styling()"
     ],
     "language": "python",
     "metadata": {},
     "outputs": []
    }
   ],
   "metadata": {}
  }
 ]
}