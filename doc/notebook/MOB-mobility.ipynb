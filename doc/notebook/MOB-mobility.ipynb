{
 "metadata": {
  "name": "",
  "signature": "sha256:282cccc332fd92801a3caed2f7b00706e0229236bd809c63831f52f0d983d937"
 },
 "nbformat": 3,
 "nbformat_minor": 0,
 "worksheets": [
  {
   "cells": [
    {
     "cell_type": "code",
     "collapsed": false,
     "input": [
      "from IPython.display import Image, HTML, Latex, YouTubeVideo\n",
      "import numpy as np"
     ],
     "language": "python",
     "metadata": {},
     "outputs": []
    },
    {
     "cell_type": "code",
     "collapsed": false,
     "input": [
      "#YouTubeVideo('1Qa6xLpU5-M')"
     ],
     "language": "python",
     "metadata": {},
     "outputs": []
    },
    {
     "cell_type": "code",
     "collapsed": false,
     "input": [
      "import pylayers.mobility.trajectory as traj\n",
      "from pylayers.mobility.body.body import *\n",
      "from pylayers.gis.layout import *"
     ],
     "language": "python",
     "metadata": {},
     "outputs": []
    },
    {
     "cell_type": "markdown",
     "metadata": {},
     "source": [
      "trajectories can be generated using simulnet.\n"
     ]
    },
    {
     "cell_type": "code",
     "collapsed": false,
     "input": [
      "from pylayers.simul.simulnet import *\n",
      "S=Simul()\n",
      "# set simulation duration\n",
      "S.sim_opt['duration']=10\n",
      "\n",
      "# turn off network simulation\n",
      "S.net_opt['network']=False\n",
      "\n",
      "# run mechanical simulation\n",
      "S.runsimul()\n"
     ],
     "language": "python",
     "metadata": {},
     "outputs": []
    },
    {
     "cell_type": "markdown",
     "metadata": {},
     "source": [
      "trajectories can be imported from a simulnet simulation with the `importh5` method"
     ]
    },
    {
     "cell_type": "code",
     "collapsed": false,
     "input": [
      "from pylayers.mobility.trajectory import *"
     ],
     "language": "python",
     "metadata": {},
     "outputs": []
    },
    {
     "cell_type": "code",
     "collapsed": false,
     "input": [
      "str1 = eval(S.sim_opt['filename'])\n",
      "str2 = S.L.filename.split('.')[0]\n",
      "# the save filename is composed of simulation filename and layout filename\n",
      "save_filename = str1 + '_' + str2 +'.h5'\n",
      "\n",
      "list_traj = importh5(save_filename)"
     ],
     "language": "python",
     "metadata": {},
     "outputs": []
    },
    {
     "cell_type": "markdown",
     "metadata": {},
     "source": [
      "The 2 following trajectories have been calculated with `pylayers.simul.simulnet`"
     ]
    },
    {
     "cell_type": "code",
     "collapsed": false,
     "input": [
      "plt.figure(figsize=(20,20))\n",
      "f,a = S.L.showGs()\n",
      "for nodes in list_traj:\n",
      "    f,a = nodes.plot()"
     ],
     "language": "python",
     "metadata": {},
     "outputs": []
    }
   ],
   "metadata": {}
  }
 ]
}