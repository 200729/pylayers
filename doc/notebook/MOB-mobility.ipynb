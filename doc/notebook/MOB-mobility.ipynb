{
 "metadata": {
  "name": "",
  "signature": "sha256:b6402f252b7f6cbf47cd9d2c50bb07c6b926b729d44990369e85dc7ba9c9cb1a"
 },
 "nbformat": 3,
 "nbformat_minor": 0,
 "worksheets": [
  {
   "cells": [
    {
     "cell_type": "code",
     "collapsed": false,
     "input": [
      "from IPython.display import Image, HTML, Latex, YouTubeVideo\n",
      "import numpy as np"
     ],
     "language": "python",
     "metadata": {},
     "outputs": [
      {
       "output_type": "stream",
       "stream": "stderr",
       "text": [
        "/usr/local/lib/python2.7/dist-packages/pkg_resources.py:991: UserWarning: /home/uguen/.python-eggs is writable by group/others and vulnerable to attack when used with get_resource_filename. Consider a more secure location (set with .set_extraction_path or the PYTHON_EGG_CACHE environment variable).\n",
        "  warnings.warn(msg, UserWarning)\n"
       ]
      },
      {
       "output_type": "display_data",
       "text": [
        "<matplotlib.figure.Figure at 0x5423dd0>"
       ]
      }
     ],
     "prompt_number": 1
    },
    {
     "cell_type": "code",
     "collapsed": false,
     "input": [
      "#YouTubeVideo('1Qa6xLpU5-M')"
     ],
     "language": "python",
     "metadata": {},
     "outputs": [],
     "prompt_number": 2
    },
    {
     "cell_type": "code",
     "collapsed": false,
     "input": [
      "import pylayers.mobility.trajectory as traj\n",
      "from pylayers.mobility.body.body import *\n",
      "from pylayers.gis.layout import *"
     ],
     "language": "python",
     "metadata": {},
     "outputs": [],
     "prompt_number": 3
    },
    {
     "cell_type": "markdown",
     "metadata": {},
     "source": [
      "trajectories can be generated using simulnet.\n"
     ]
    },
    {
     "cell_type": "code",
     "collapsed": false,
     "input": [
      "from pylayers.simul.simulnet import *\n",
      "S=Simul()\n",
      "# set simulation duration\n",
      "S.sim_opt['duration']=10\n",
      "\n",
      "# turn off network simulation\n",
      "S.net_opt['network']=False\n",
      "\n",
      "# run mechanical simulation\n",
      "S.runsimul()\n"
     ],
     "language": "python",
     "metadata": {},
     "outputs": [
      {
       "output_type": "stream",
       "stream": "stdout",
       "text": [
        "Layout graphs are loaded from  /home/uguen/Bureau/P1 /struc/ini\n",
        "meca: updt ag 1 @ "
       ]
      },
      {
       "output_type": "stream",
       "stream": "stdout",
       "text": [
        " 0\n",
        "refresh RSS node 1  @ 0\n",
        "meca: updt ag 2 @  0\n",
        "refresh RSS node"
       ]
      },
      {
       "output_type": "stream",
       "stream": "stdout",
       "text": [
        " 2  @ 0\n",
        "network updated @ 0\n",
        "network updated @ 0.1\n",
        "network updated @ 0.2\n",
        "refresh RSS node 1  @ 0.3\n",
        "network updated @ 0.3\n",
        "refresh RSS node 2  @ 0.4\n",
        "network updated @ 0.4\n",
        "network updated @"
       ]
      },
      {
       "output_type": "stream",
       "stream": "stdout",
       "text": [
        " 0.5\n",
        "refresh RSS node 1  @ 0.6\n",
        "network updated @ 0.6\n",
        "network updated @ 0.7\n",
        "network updated @ 0.8\n",
        "refresh RSS node 2  @ 0.8\n",
        "refresh RSS node 1  @ 0.9\n",
        "network updated @ 0.9\n",
        "network updated @ 1.0\n",
        "meca: updt ag 1 @  1.0\n",
        "meca: updt ag 2 @  1.0\n",
        "network updated @"
       ]
      },
      {
       "output_type": "stream",
       "stream": "stdout",
       "text": [
        " 1.1\n",
        "refresh RSS node 1  @ 1.2\n",
        "network updated @ 1.2\n",
        "refresh RSS node 2  @ 1.2\n",
        "network updated @ 1.3\n",
        "network updated @ 1.4\n",
        "localization request communication from node 1 @ 1.5\n",
        "communication requested by node  1\n",
        "communication requested by node  1\n",
        "localization request communication from node 2 @ 1.5\n",
        "communication requested by node  2\n",
        "communication requested by node  2\n",
        "refresh RSS node 1  @ 1.5\n",
        "network updated @ 1.5\n",
        "refresh RSS node 2  @ 1.6\n",
        "network updated @ 1.6\n",
        "network updated @"
       ]
      },
      {
       "output_type": "stream",
       "stream": "stdout",
       "text": [
        " 1.7\n",
        "refresh RSS node 1  @ 1.8\n",
        "network updated @ 1.8\n",
        "network updated @ 1.9\n",
        "meca: updt ag 1 @  2.0\n",
        "meca: updt ag 2 @  2.0\n",
        "refresh RSS node 2  @ 2.0\n",
        "network updated @ 2.0\n",
        "refresh RSS node 1  @ 2.1\n",
        "network updated @"
       ]
      },
      {
       "output_type": "stream",
       "stream": "stdout",
       "text": [
        " 2.1\n",
        "network updated @ 2.2\n",
        "network updated @ 2.3\n",
        "refresh RSS node 2  @ 2.4\n",
        "refresh RSS node 1  @ 2.4\n",
        "network updated @ 2.4\n",
        "localization request communication from node 1 @ 2.5\n",
        "communication requested by node  1\n",
        "communication requested by node  1\n",
        "Done request from 1 to 2 on rat rat1\n",
        "localization request communication from node 2 @ 2.5\n",
        "communication requested by node  2\n",
        "communication requested by node  2\n",
        "Done request from 2 to 1 on rat rat1\n",
        "network updated @ 2.5\n",
        "network updated @"
       ]
      },
      {
       "output_type": "stream",
       "stream": "stdout",
       "text": [
        " 2.6\n",
        "refresh RSS node 1  @ 2.7\n",
        "network updated @ 2.7\n",
        "refresh RSS node 2  @ 2.8\n",
        "network updated @ 2.8\n",
        "network updated @ 2.9\n",
        "refresh RSS node 1  @ 3.0\n",
        "meca: updt ag 1 @  3.0\n",
        "meca: updt ag 1 @  3.0\n",
        "meca: updt ag 2 @  3.0\n",
        "meca: updt ag 2 @ "
       ]
      },
      {
       "output_type": "stream",
       "stream": "stdout",
       "text": [
        " 3.0\n",
        "network updated @ 3.0\n",
        "network updated @ 3.1\n",
        "refresh RSS node 2  @ 3.2\n",
        "network updated @ 3.2\n",
        "refresh RSS node 1  @ 3.3\n",
        "network updated @ 3.3\n",
        "network updated @ 3.4\n",
        "localization request communication from node"
       ]
      },
      {
       "output_type": "stream",
       "stream": "stdout",
       "text": [
        " 1 @ 3.5\n",
        "communication requested by node  1\n",
        "communication requested by node  1\n",
        "Done request from 1 to 2 on rat rat1\n",
        "localization request communication from node 2 @ 3.5\n",
        "communication requested by node  2\n",
        "communication requested by node  2\n",
        "Done request from 2 to 1 on rat rat1\n",
        "network updated @ 3.5\n",
        "refresh RSS node 1  @ 3.6\n",
        "refresh RSS node 2  @ 3.6\n",
        "network updated @ 3.6\n",
        "network updated @ 3.7\n",
        "network updated @ 3.8\n",
        "refresh RSS node 1  @ 3.9\n",
        "network updated @ 3.9\n",
        "refresh RSS node 2  @ 4.0\n",
        "meca: updt ag 1 @  4.0\n",
        "meca: updt ag 2 @ "
       ]
      },
      {
       "output_type": "stream",
       "stream": "stdout",
       "text": [
        " 4.0\n",
        "network updated @ 4.0\n",
        "network updated @ 4.1\n",
        "refresh RSS node 1  @ 4.2\n",
        "network updated @ 4.2\n",
        "network updated @ 4.3\n",
        "refresh RSS node 2  @ 4.4\n",
        "network updated @"
       ]
      },
      {
       "output_type": "stream",
       "stream": "stdout",
       "text": [
        " 4.4\n",
        "refresh RSS node 1  @ 4.5\n",
        "localization request communication from node 1 @ 4.5\n",
        "communication requested by node  1\n",
        "communication requested by node  1\n",
        "Done request from 1 to 2 on rat rat1\n",
        "localization request communication from node 2 @ 4.5\n",
        "communication requested by node  2\n",
        "communication requested by node  2\n",
        "Done request from 2 to 1 on rat rat1\n",
        "network updated @ 4.5\n",
        "network updated @ 4.6\n",
        "network updated @ 4.7\n",
        "refresh RSS node 1  @ 4.8\n",
        "network updated @ 4.8\n",
        "refresh RSS node 2  @ 4.8\n",
        "network updated @ 4.9\n",
        "network updated @"
       ]
      },
      {
       "output_type": "stream",
       "stream": "stdout",
       "text": [
        " 5.0\n",
        "meca: updt ag 1 @  5.0\n",
        "meca: updt ag 2 @  5.0\n",
        "network updated @ 5.1\n",
        "refresh RSS node 1  @ 5.1\n",
        "network updated @ 5.2\n",
        "refresh RSS node 2  @ 5.2\n",
        "network updated @ 5.3\n",
        "network updated @ 5.4\n",
        "refresh RSS node 1  @ 5.4\n",
        "network updated @"
       ]
      },
      {
       "output_type": "stream",
       "stream": "stdout",
       "text": [
        " 5.5\n",
        "localization request communication from node 1 @ 5.5\n",
        "communication requested by node  1\n",
        "communication requested by node  1\n",
        "Done request from 1 to 2 on rat rat1\n",
        "localization request communication from node 2 @ 5.5\n",
        "communication requested by node  2\n",
        "communication requested by node  2\n",
        "Done request from 2 to 1 on rat rat1\n",
        "network updated @ 5.6\n",
        "refresh RSS node 2  @ 5.6\n",
        "network updated @ 5.7\n",
        "refresh RSS node 1  @ 5.7\n",
        "network updated @ 5.8\n",
        "network updated @ 5.9\n",
        "network updated @ 6.0\n",
        "refresh RSS node 1  @ 6.0\n",
        "meca: updt ag 1 @  6.0\n",
        "meca: updt ag 2 @  6.0\n",
        "refresh RSS node"
       ]
      },
      {
       "output_type": "stream",
       "stream": "stdout",
       "text": [
        " 2  @ 6.0\n",
        "network updated @ 6.1\n",
        "network updated @ 6.2\n",
        "network updated @ 6.3\n",
        "refresh RSS node 1  @ 6.3\n",
        "network updated @ 6.4\n",
        "refresh RSS node 2  @ 6.4\n",
        "network updated @ 6.5\n",
        "localization request communication from node 1 @ 6.5\n",
        "communication requested by node  1\n",
        "communication requested by node  1\n",
        "Done request from 1 to 2 on rat rat1\n",
        "localization request communication from node 2 @ 6.5\n",
        "communication requested by node  2\n",
        "communication requested by node  2\n",
        "Done request from 2 to 1 on rat rat1\n",
        "network updated @ 6.6\n",
        "refresh RSS node 1  @ 6.6\n",
        "network updated @"
       ]
      },
      {
       "output_type": "stream",
       "stream": "stdout",
       "text": [
        " 6.7\n",
        "network updated @ 6.8\n",
        "refresh RSS node 2  @ 6.8\n",
        "network updated @ 6.9\n",
        "refresh RSS node 1  @ 6.9\n",
        "network updated @ 7.0\n",
        "meca: updt ag 1 @  7.0\n",
        "meca: updt ag 2 @  7.0\n",
        "network updated @ 7.1\n",
        "network updated @"
       ]
      },
      {
       "output_type": "stream",
       "stream": "stdout",
       "text": [
        " 7.2\n",
        "refresh RSS node 1  @ 7.2\n",
        "refresh RSS node 2  @ 7.2\n",
        "network updated @ 7.3\n",
        "network updated @ 7.4\n",
        "network updated @ 7.5\n",
        "refresh RSS node 1  @ 7.5\n",
        "localization request communication from node 1 @ 7.5\n",
        "communication requested by node  1\n",
        "communication requested by node  1\n",
        "Done request from 1 to 2 on rat rat1\n",
        "localization request communication from node 2 @ 7.5\n",
        "communication requested by node  2\n",
        "communication requested by node  2\n",
        "Done request from 2 to 1 on rat rat1\n",
        "network updated @ 7.6\n",
        "refresh RSS node 2  @ 7.6\n",
        "network updated @ 7.7\n",
        "network updated @"
       ]
      },
      {
       "output_type": "stream",
       "stream": "stdout",
       "text": [
        " 7.8\n",
        "refresh RSS node 1  @ 7.8\n",
        "network updated @ 7.9\n",
        "network updated @ 8.0\n",
        "meca: updt ag 1 @  8.0\n",
        "meca: updt ag 2 @  8.0\n",
        "refresh RSS node 2  @ 8.0\n",
        "network updated @ 8.1\n",
        "refresh RSS node 1  @ 8.1\n",
        "network updated @"
       ]
      },
      {
       "output_type": "stream",
       "stream": "stdout",
       "text": [
        " 8.2\n",
        "network updated @ 8.3\n",
        "network updated @ 8.4\n",
        "refresh RSS node 1  @ 8.4\n",
        "refresh RSS node 2  @ 8.4\n",
        "network updated @ 8.5\n",
        "localization request communication from node 1 @ 8.5\n",
        "communication requested by node  1\n",
        "communication requested by node  1\n",
        "Done request from 1 to 2 on rat rat1\n",
        "localization request communication from node 2 @ 8.5\n",
        "communication requested by node  2\n",
        "communication requested by node  2\n",
        "Done request from 2 to 1 on rat rat1\n",
        "network updated @ 8.6\n",
        "network updated @"
       ]
      },
      {
       "output_type": "stream",
       "stream": "stdout",
       "text": [
        " 8.7\n",
        "refresh RSS node 1  @ 8.7\n",
        "network updated @ 8.8\n",
        "refresh RSS node 2  @ 8.8\n",
        "network updated @ 8.9\n",
        "network updated @ 9.0\n",
        "meca: updt ag 1 @  9.0\n",
        "meca: updt ag 2 @  9.0\n",
        "refresh RSS node"
       ]
      },
      {
       "output_type": "stream",
       "stream": "stdout",
       "text": [
        " 1  @ 9.0\n",
        "network updated @ 9.1\n",
        "network updated @ 9.2\n",
        "refresh RSS node 2  @ 9.2\n",
        "network updated @ 9.3\n",
        "refresh RSS node 1  @ 9.3\n",
        "network updated @ 9.4\n",
        "network updated @ 9.5\n",
        "localization request communication from node 1 @ 9.5\n",
        "communication requested by node  1\n",
        "communication requested by node  1\n",
        "Done request from 1 to 2 on rat rat1\n",
        "localization request communication from node 2 @ 9.5\n",
        "communication requested by node  2\n",
        "communication requested by node  2\n",
        "Done request from 2 to 1 on rat rat1\n",
        "network updated @"
       ]
      },
      {
       "output_type": "stream",
       "stream": "stdout",
       "text": [
        " 9.6\n",
        "refresh RSS node 1  @ 9.6\n",
        "refresh RSS node 2  @ 9.6\n",
        "network updated @ 9.7\n",
        "network updated @ 9.8\n",
        "network updated @ 9.9\n",
        "refresh RSS node 1  @ 9.9\n",
        "network updated @ 10.0\n",
        "meca: updt ag 1 @  10.0\n",
        "meca: updt ag 2 @  10.0\n"
       ]
      },
      {
       "output_type": "stream",
       "stream": "stderr",
       "text": [
        "/usr/local/lib/python2.7/dist-packages/pandas/io/pytables.py:528: DeprecationWarning: openFile() is pending deprecation, use open_file() instead. You may use the pt2to3 tool to update your source code.\n",
        "  self._handle = tables.openFile(self._path, self._mode, **kwargs)\n",
        "/usr/local/lib/python2.7/dist-packages/pandas/io/pytables.py:1044: DeprecationWarning: getNode() is pending deprecation, use get_node() instead. You may use the pt2to3 tool to update your source code.\n",
        "  return self._handle.getNode(self.root, key)\n",
        "/usr/local/lib/python2.7/dist-packages/pandas/io/pytables.py:1044: DeprecationWarning: getNode() is pending deprecation, use get_node() instead. You may use the pt2to3 tool to update your source code.\n",
        "  return self._handle.getNode(self.root, key)\n",
        "/usr/local/lib/python2.7/dist-packages/pandas/io/pytables.py:1251: DeprecationWarning: createGroup() is pending deprecation, use create_group() instead. You may use the pt2to3 tool to update your source code.\n",
        "  group = self._handle.createGroup(path, p)\n",
        "/usr/local/lib/python2.7/dist-packages/pandas/io/pytables.py:3592: DeprecationWarning: createTable() is pending deprecation, use create_table() instead. You may use the pt2to3 tool to update your source code.\n",
        "  table = self._handle.createTable(self.group, **options)\n",
        "/usr/local/lib/python2.7/dist-packages/pandas/io/pytables.py:3032: DeprecationWarning: createIndex() is pending deprecation, use create_index() instead. You may use the pt2to3 tool to update your source code.\n",
        "  v.createIndex(**kw)\n",
        "/usr/local/lib/python2.7/dist-packages/pandas/io/pytables.py:1044: DeprecationWarning: getNode() is pending deprecation, use get_node() instead. You may use the pt2to3 tool to update your source code.\n",
        "  return self._handle.getNode(self.root, key)\n",
        "/usr/local/lib/python2.7/dist-packages/pandas/io/pytables.py:1044: DeprecationWarning: getNode() is pending deprecation, use get_node() instead. You may use the pt2to3 tool to update your source code.\n",
        "  return self._handle.getNode(self.root, key)\n",
        "/usr/local/lib/python2.7/dist-packages/pandas/io/pytables.py:1251: DeprecationWarning: createGroup() is pending deprecation, use create_group() instead. You may use the pt2to3 tool to update your source code.\n",
        "  group = self._handle.createGroup(path, p)\n",
        "/usr/local/lib/python2.7/dist-packages/pandas/io/pytables.py:3592: DeprecationWarning: createTable() is pending deprecation, use create_table() instead. You may use the pt2to3 tool to update your source code.\n",
        "  table = self._handle.createTable(self.group, **options)\n",
        "/usr/local/lib/python2.7/dist-packages/pandas/io/pytables.py:3032: DeprecationWarning: createIndex() is pending deprecation, use create_index() instead. You may use the pt2to3 tool to update your source code.\n",
        "  v.createIndex(**kw)\n"
       ]
      },
      {
       "output_type": "display_data",
       "text": [
        "<matplotlib.figure.Figure at 0x690ff50>"
       ]
      },
      {
       "output_type": "display_data",
       "png": "[encoded data removed]",
       "text": [
        "<matplotlib.figure.Figure at 0x6162650>"
       ]
      },
      {
       "output_type": "display_data",
       "png": "[encoded data removed]",
       "text": [
        "<matplotlib.figure.Figure at 0x7943cd0>"
       ]
      }
     ],
     "prompt_number": 4
    },
    {
     "cell_type": "markdown",
     "metadata": {},
     "source": [
      "trajectories can be imported from a simulnet simulation with the `importh5` method"
     ]
    },
    {
     "cell_type": "code",
     "collapsed": false,
     "input": [
      "from pylayers.mobility.trajectory import *"
     ],
     "language": "python",
     "metadata": {},
     "outputs": [],
     "prompt_number": 5
    },
    {
     "cell_type": "code",
     "collapsed": false,
     "input": [
      "str1 = eval(S.sim_opt['filename'])\n",
      "str2 = S.L.filename.split('.')[0]\n",
      "# the save filename is composed of simulation filename and layout filename\n",
      "save_filename = str1 + '_' + str2 +'.h5'\n",
      "\n",
      "list_traj = importh5(save_filename)"
     ],
     "language": "python",
     "metadata": {},
     "outputs": [
      {
       "output_type": "stream",
       "stream": "stderr",
       "text": [
        "/usr/local/lib/python2.7/dist-packages/pandas/io/pytables.py:528: DeprecationWarning: openFile() is pending deprecation, use open_file() instead. You may use the pt2to3 tool to update your source code.\n",
        "  self._handle = tables.openFile(self._path, self._mode, **kwargs)\n",
        "/usr/local/lib/python2.7/dist-packages/pandas/io/pytables.py:1031: DeprecationWarning: walkNodes() is pending deprecation, use walk_nodes() instead. You may use the pt2to3 tool to update your source code.\n",
        "  g for g in self._handle.walkNodes()\n",
        "/usr/local/lib/python2.7/dist-packages/pandas/io/pytables.py:1044: DeprecationWarning: getNode() is pending deprecation, use get_node() instead. You may use the pt2to3 tool to update your source code.\n",
        "  return self._handle.getNode(self.root, key)\n",
        "/usr/local/lib/python2.7/dist-packages/pandas/io/pytables.py:1044: DeprecationWarning: getNode() is pending deprecation, use get_node() instead. You may use the pt2to3 tool to update your source code.\n",
        "  return self._handle.getNode(self.root, key)\n"
       ]
      }
     ],
     "prompt_number": 6
    },
    {
     "cell_type": "markdown",
     "metadata": {},
     "source": [
      "The 2 following trajectories have been calculated with `pylayers.simul.simulnet`"
     ]
    },
    {
     "cell_type": "code",
     "collapsed": false,
     "input": [
      "c\n",
      "f=plt.figure(figsize=(20,20))\n",
      "f,a = S.L.showGs(fig=f)\n",
      "for nodes in list_traj:\n",
      "    f,a = nodes.plot(fig=f,ax=a)"
     ],
     "language": "python",
     "metadata": {},
     "outputs": [
      {
       "ename": "NameError",
       "evalue": "name 'c' is not defined",
       "output_type": "pyerr",
       "traceback": [
        "\u001b[1;31m---------------------------------------------------------------------------\u001b[0m\n\u001b[1;31mNameError\u001b[0m                                 Traceback (most recent call last)",
        "\u001b[1;32m<ipython-input-7-4eff773e6024>\u001b[0m in \u001b[0;36m<module>\u001b[1;34m()\u001b[0m\n\u001b[1;32m----> 1\u001b[1;33m \u001b[0mc\u001b[0m\u001b[1;33m\u001b[0m\u001b[0m\n\u001b[0m\u001b[0;32m      2\u001b[0m \u001b[0mf\u001b[0m\u001b[1;33m=\u001b[0m\u001b[0mplt\u001b[0m\u001b[1;33m.\u001b[0m\u001b[0mfigure\u001b[0m\u001b[1;33m(\u001b[0m\u001b[0mfigsize\u001b[0m\u001b[1;33m=\u001b[0m\u001b[1;33m(\u001b[0m\u001b[1;36m20\u001b[0m\u001b[1;33m,\u001b[0m\u001b[1;36m20\u001b[0m\u001b[1;33m)\u001b[0m\u001b[1;33m)\u001b[0m\u001b[1;33m\u001b[0m\u001b[0m\n\u001b[0;32m      3\u001b[0m \u001b[0mf\u001b[0m\u001b[1;33m,\u001b[0m\u001b[0ma\u001b[0m \u001b[1;33m=\u001b[0m \u001b[0mS\u001b[0m\u001b[1;33m.\u001b[0m\u001b[0mL\u001b[0m\u001b[1;33m.\u001b[0m\u001b[0mshowGs\u001b[0m\u001b[1;33m(\u001b[0m\u001b[0mfig\u001b[0m\u001b[1;33m=\u001b[0m\u001b[0mf\u001b[0m\u001b[1;33m)\u001b[0m\u001b[1;33m\u001b[0m\u001b[0m\n\u001b[0;32m      4\u001b[0m \u001b[1;32mfor\u001b[0m \u001b[0mnodes\u001b[0m \u001b[1;32min\u001b[0m \u001b[0mlist_traj\u001b[0m\u001b[1;33m:\u001b[0m\u001b[1;33m\u001b[0m\u001b[0m\n\u001b[0;32m      5\u001b[0m     \u001b[0mf\u001b[0m\u001b[1;33m,\u001b[0m\u001b[0ma\u001b[0m \u001b[1;33m=\u001b[0m \u001b[0mnodes\u001b[0m\u001b[1;33m.\u001b[0m\u001b[0mplot\u001b[0m\u001b[1;33m(\u001b[0m\u001b[0mfig\u001b[0m\u001b[1;33m=\u001b[0m\u001b[0mf\u001b[0m\u001b[1;33m,\u001b[0m\u001b[0max\u001b[0m\u001b[1;33m=\u001b[0m\u001b[0ma\u001b[0m\u001b[1;33m)\u001b[0m\u001b[1;33m\u001b[0m\u001b[0m\n",
        "\u001b[1;31mNameError\u001b[0m: name 'c' is not defined"
       ]
      }
     ],
     "prompt_number": 7
    },
    {
     "cell_type": "code",
     "collapsed": false,
     "input": [
      "importsn()\n"
     ],
     "language": "python",
     "metadata": {},
     "outputs": [],
     "prompt_number": 35
    },
    {
     "cell_type": "code",
     "collapsed": false,
     "input": [],
     "language": "python",
     "metadata": {},
     "outputs": []
    }
   ],
   "metadata": {}
  }
 ]
}