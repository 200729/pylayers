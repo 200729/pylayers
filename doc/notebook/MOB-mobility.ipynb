{
 "metadata": {
  "name": "",
  "signature": "sha256:5bdf1d42ef6ec8332154725104b327c16ca9f403b8fcb0d6cf59926bb93b3056"
 },
 "nbformat": 3,
 "nbformat_minor": 0,
 "worksheets": [
  {
   "cells": [
    {
     "cell_type": "code",
     "collapsed": false,
     "input": [
      "from IPython.display import Image, HTML, Latex, YouTubeVideo\n",
      "import numpy as np"
     ],
     "language": "python",
     "metadata": {},
     "outputs": [
      {
       "output_type": "display_data",
       "text": [
        "<matplotlib.figure.Figure at 0x87bff10>"
       ]
      }
     ],
     "prompt_number": 1
    },
    {
     "cell_type": "code",
     "collapsed": false,
     "input": [
      "#YouTubeVideo('1Qa6xLpU5-M')"
     ],
     "language": "python",
     "metadata": {},
     "outputs": [],
     "prompt_number": 2
    },
    {
     "cell_type": "code",
     "collapsed": false,
     "input": [
      "import pylayers.mobility.trajectory as traj\n",
      "from pylayers.mobility.body.body import *\n",
      "from pylayers.gis.layout import *"
     ],
     "language": "python",
     "metadata": {},
     "outputs": [],
     "prompt_number": 3
    },
    {
     "cell_type": "markdown",
     "metadata": {},
     "source": [
      "trajectories can be generated using simulnet.\n"
     ]
    },
    {
     "cell_type": "code",
     "collapsed": false,
     "input": [
      "from pylayers.simul.simulnet import *\n",
      "S=Simul()\n",
      "# set simulation duration\n",
      "S.sim_opt['duration']=10\n",
      "\n",
      "# turn off network simulation\n",
      "S.net_opt['network']=False\n",
      "\n",
      "# run mechanical simulation\n",
      "S.runsimul()\n"
     ],
     "language": "python",
     "metadata": {},
     "outputs": [
      {
       "output_type": "stream",
       "stream": "stdout",
       "text": [
        "Layout graphs are loaded from  /home/uguen/Bureau/P1 /struc/ini\n",
        "meca: updt ag 1 @ "
       ]
      },
      {
       "output_type": "stream",
       "stream": "stdout",
       "text": [
        " 0\n",
        "refresh RSS node 1  @ 0\n",
        "meca: updt ag 2 @ "
       ]
      },
      {
       "output_type": "stream",
       "stream": "stdout",
       "text": [
        " 0\n",
        "refresh RSS node 2  @ 0\n",
        "network updated @ 0\n",
        "network updated @ 0.1\n",
        "network updated @ 0.2\n",
        "refresh RSS node 1  @ 0.3\n",
        "network updated @"
       ]
      },
      {
       "output_type": "stream",
       "stream": "stdout",
       "text": [
        " 0.3\n",
        "refresh RSS node 2  @ 0.4\n",
        "network updated @ 0.4\n",
        "network updated @ 0.5\n",
        "refresh RSS node 1  @ 0.6\n",
        "network updated @ 0.6\n",
        "network updated @ 0.7\n",
        "network updated @ 0.8\n",
        "refresh RSS node 2  @ 0.8\n",
        "refresh RSS node 1  @ 0.9\n",
        "network updated @"
       ]
      },
      {
       "output_type": "stream",
       "stream": "stdout",
       "text": [
        " 0.9\n",
        "network updated @ 1.0\n",
        "meca: updt ag 1 @  1.0\n",
        "meca: updt ag 2 @  1.0\n",
        "network updated @ 1.1\n",
        "refresh RSS node 1  @ 1.2\n",
        "network updated @ 1.2\n",
        "refresh RSS node 2  @ 1.2\n",
        "network updated @"
       ]
      },
      {
       "output_type": "stream",
       "stream": "stdout",
       "text": [
        " 1.3\n",
        "network updated @ 1.4\n",
        "localization request communication from node 1 @ 1.5\n",
        "communication requested by node  1\n",
        "communication requested by node  1\n",
        "localization request communication from node 2 @ 1.5\n",
        "communication requested by node  2\n",
        "communication requested by node  2\n",
        "refresh RSS node 1  @ 1.5\n",
        "network updated @ 1.5\n",
        "refresh RSS node 2  @ 1.6\n",
        "network updated @ 1.6\n",
        "network updated @ 1.7\n",
        "refresh RSS node 1  @ 1.8\n",
        "network updated @"
       ]
      },
      {
       "output_type": "stream",
       "stream": "stdout",
       "text": [
        " 1.8\n",
        "network updated @ 1.9\n",
        "meca: updt ag 1 @  2.0\n",
        "meca: updt ag 2 @  2.0\n",
        "refresh RSS node 2  @ 2.0\n",
        "network updated @ 2.0\n",
        "refresh RSS node 1  @ 2.1\n",
        "network updated @"
       ]
      },
      {
       "output_type": "stream",
       "stream": "stdout",
       "text": [
        " 2.1\n",
        "network updated @ 2.2\n",
        "network updated @ 2.3\n",
        "refresh RSS node 2  @ 2.4\n",
        "refresh RSS node 1  @ 2.4\n",
        "network updated @ 2.4\n",
        "localization request communication from node 1 @ 2.5\n",
        "communication requested by node  1\n",
        "communication requested by node  1\n",
        "Done request from 1 to 2 on rat rat1\n",
        "localization request communication from node 2 @ 2.5\n",
        "communication requested by node  2\n",
        "communication requested by node  2\n",
        "Done request from 2 to 1 on rat rat1\n",
        "network updated @ 2.5\n",
        "network updated @"
       ]
      },
      {
       "output_type": "stream",
       "stream": "stdout",
       "text": [
        " 2.6\n",
        "refresh RSS node 1  @ 2.7\n",
        "network updated @ 2.7\n",
        "refresh RSS node 2  @ 2.8\n",
        "network updated @ 2.8\n",
        "network updated @ 2.9\n",
        "refresh RSS node 1  @ 3.0\n",
        "meca: updt ag 1 @  3.0\n",
        "meca: updt ag 1 @  3.0\n",
        "meca: updt ag 2 @ "
       ]
      },
      {
       "output_type": "stream",
       "stream": "stdout",
       "text": [
        " 3.0\n",
        "meca: updt ag 2 @  3.0\n",
        "network updated @ 3.0\n",
        "network updated @ 3.1\n",
        "refresh RSS node 2  @ 3.2\n",
        "network updated @ 3.2\n",
        "refresh RSS node 1  @ 3.3\n",
        "network updated @"
       ]
      },
      {
       "output_type": "stream",
       "stream": "stdout",
       "text": [
        " 3.3\n",
        "network updated @ 3.4\n",
        "localization request communication from node 1 @ 3.5\n",
        "communication requested by node  1\n",
        "communication requested by node  1\n",
        "Done request from 1 to 2 on rat rat1\n",
        "localization request communication from node 2 @ 3.5\n",
        "communication requested by node  2\n",
        "communication requested by node  2\n",
        "Done request from 2 to 1 on rat rat1\n",
        "network updated @ 3.5\n",
        "refresh RSS node 1  @ 3.6\n",
        "refresh RSS node 2  @ 3.6\n",
        "network updated @ 3.6\n",
        "network updated @ 3.7\n",
        "network updated @ 3.8\n",
        "refresh RSS node 1  @ 3.9\n",
        "network updated @"
       ]
      },
      {
       "output_type": "stream",
       "stream": "stdout",
       "text": [
        " 3.9\n",
        "refresh RSS node 2  @ 4.0\n",
        "meca: updt ag 1 @  4.0\n",
        "meca: updt ag 2 @  4.0\n",
        "network updated @ 4.0\n",
        "network updated @ 4.1\n",
        "refresh RSS node 1  @ 4.2\n",
        "network updated @ 4.2\n",
        "network updated @"
       ]
      },
      {
       "output_type": "stream",
       "stream": "stdout",
       "text": [
        " 4.3\n",
        "refresh RSS node 2  @ 4.4\n",
        "network updated @ 4.4\n",
        "refresh RSS node 1  @ 4.5\n",
        "localization request communication from node 1 @ 4.5\n",
        "communication requested by node  1\n",
        "communication requested by node  1\n",
        "Done request from 1 to 2 on rat rat1\n",
        "localization request communication from node 2 @ 4.5\n",
        "communication requested by node  2\n",
        "communication requested by node  2\n",
        "Done request from 2 to 1 on rat rat1\n",
        "network updated @ 4.5\n",
        "network updated @ 4.6\n",
        "network updated @ 4.7\n",
        "refresh RSS node 1  @ 4.8\n",
        "network updated @ 4.8\n",
        "refresh RSS node 2  @ 4.8\n",
        "network updated @"
       ]
      },
      {
       "output_type": "stream",
       "stream": "stdout",
       "text": [
        " 4.9\n",
        "network updated @ 5.0\n",
        "meca: updt ag 1 @  5.0\n",
        "meca: updt ag 2 @  5.0\n",
        "network updated @ 5.1\n",
        "refresh RSS node 1  @ 5.1\n",
        "network updated @ 5.2\n",
        "refresh RSS node 2  @ 5.2\n",
        "network updated @"
       ]
      },
      {
       "output_type": "stream",
       "stream": "stdout",
       "text": [
        " 5.3\n",
        "network updated @ 5.4\n",
        "refresh RSS node 1  @ 5.4\n",
        "network updated @ 5.5\n",
        "localization request communication from node 1 @ 5.5\n",
        "communication requested by node  1\n",
        "communication requested by node  1\n",
        "Done request from 1 to 2 on rat rat1\n",
        "localization request communication from node 2 @ 5.5\n",
        "communication requested by node  2\n",
        "communication requested by node  2\n",
        "Done request from 2 to 1 on rat rat1\n",
        "network updated @ 5.6\n",
        "refresh RSS node 2  @ 5.6\n",
        "network updated @ 5.7\n",
        "refresh RSS node 1  @ 5.7\n",
        "network updated @ 5.8\n",
        "network updated @ 5.9\n",
        "network updated @"
       ]
      },
      {
       "output_type": "stream",
       "stream": "stdout",
       "text": [
        " 6.0\n",
        "refresh RSS node 1  @ 6.0\n",
        "meca: updt ag 1 @  6.0\n",
        "meca: updt ag 2 @  6.0\n",
        "refresh RSS node 2  @ 6.0\n",
        "network updated @ 6.1\n",
        "network updated @ 6.2\n",
        "network updated @ 6.3\n",
        "refresh RSS node 1  @ 6.3\n",
        "network updated @"
       ]
      },
      {
       "output_type": "stream",
       "stream": "stdout",
       "text": [
        " 6.4\n",
        "refresh RSS node 2  @ 6.4\n",
        "network updated @ 6.5\n",
        "localization request communication from node 1 @ 6.5\n",
        "communication requested by node  1\n",
        "communication requested by node  1\n",
        "Done request from 1 to 2 on rat rat1\n",
        "localization request communication from node 2 @ 6.5\n",
        "communication requested by node  2\n",
        "communication requested by node  2\n",
        "Done request from 2 to 1 on rat rat1\n",
        "network updated @ 6.6\n",
        "refresh RSS node 1  @ 6.6\n",
        "network updated @ 6.7\n",
        "network updated @ 6.8\n",
        "refresh RSS node 2  @ 6.8\n",
        "network updated @ 6.9\n",
        "refresh RSS node 1  @ 6.9\n",
        "network updated @ 7.0\n",
        "meca: updt ag 1 @  7.0\n",
        "meca: updt ag 2 @ "
       ]
      },
      {
       "output_type": "stream",
       "stream": "stdout",
       "text": [
        " 7.0\n",
        "network updated @ 7.1\n",
        "network updated @ 7.2\n",
        "refresh RSS node 1  @ 7.2\n",
        "refresh RSS node 2  @ 7.2\n",
        "network updated @ 7.3\n",
        "network updated @"
       ]
      },
      {
       "output_type": "stream",
       "stream": "stdout",
       "text": [
        " 7.4\n",
        "network updated @ 7.5\n",
        "refresh RSS node 1  @ 7.5\n",
        "localization request communication from node 1 @ 7.5\n",
        "communication requested by node  1\n",
        "communication requested by node  1\n",
        "Done request from 1 to 2 on rat rat1\n",
        "localization request communication from node 2 @ 7.5\n",
        "communication requested by node  2\n",
        "communication requested by node  2\n",
        "Done request from 2 to 1 on rat rat1\n",
        "network updated @ 7.6\n",
        "refresh RSS node 2  @ 7.6\n",
        "network updated @ 7.7\n",
        "network updated @ 7.8\n",
        "refresh RSS node 1  @ 7.8\n",
        "network updated @"
       ]
      },
      {
       "output_type": "stream",
       "stream": "stdout",
       "text": [
        " 7.9\n",
        "network updated @ 8.0\n",
        "meca: updt ag 1 @  8.0\n",
        "meca: updt ag 2 @  8.0\n",
        "refresh RSS node 2  @ 8.0\n",
        "network updated @ 8.1\n",
        "refresh RSS node 1  @ 8.1\n",
        "network updated @"
       ]
      },
      {
       "output_type": "stream",
       "stream": "stdout",
       "text": [
        " 8.2\n",
        "network updated @ 8.3\n",
        "network updated @ 8.4\n",
        "refresh RSS node 1  @ 8.4\n",
        "refresh RSS node 2  @ 8.4\n",
        "network updated @ 8.5\n",
        "localization request communication from node 1 @ 8.5\n",
        "communication requested by node  1\n",
        "communication requested by node  1\n",
        "Done request from 1 to 2 on rat rat1\n",
        "localization request communication from node 2 @ 8.5\n",
        "communication requested by node  2\n",
        "communication requested by node  2\n",
        "Done request from 2 to 1 on rat rat1\n",
        "network updated @ 8.6\n",
        "network updated @"
       ]
      },
      {
       "output_type": "stream",
       "stream": "stdout",
       "text": [
        " 8.7\n",
        "refresh RSS node 1  @ 8.7\n",
        "network updated @ 8.8\n",
        "refresh RSS node 2  @ 8.8\n",
        "network updated @ 8.9\n",
        "network updated @ 9.0\n",
        "meca: updt ag 1 @  9.0\n",
        "meca: updt ag 2 @  9.0\n",
        "refresh RSS node"
       ]
      },
      {
       "output_type": "stream",
       "stream": "stdout",
       "text": [
        " 1  @ 9.0\n",
        "network updated @ 9.1\n",
        "network updated @ 9.2\n",
        "refresh RSS node 2  @ 9.2\n",
        "network updated @ 9.3\n",
        "refresh RSS node 1  @ 9.3\n",
        "network updated @ 9.4\n",
        "network updated @ 9.5\n",
        "localization request communication from node 1 @ 9.5\n",
        "communication requested by node  1\n",
        "communication requested by node  1\n",
        "Done request from 1 to 2 on rat rat1\n",
        "localization request communication from node 2 @ 9.5\n",
        "communication requested by node  2\n",
        "communication requested by node  2\n",
        "Done request from 2 to 1 on rat rat1\n",
        "network updated @"
       ]
      },
      {
       "output_type": "stream",
       "stream": "stdout",
       "text": [
        " 9.6\n",
        "refresh RSS node 1  @ 9.6\n",
        "refresh RSS node 2  @ 9.6\n",
        "network updated @ 9.7\n",
        "network updated @ 9.8\n",
        "network updated @ 9.9\n",
        "refresh RSS node 1  @ 9.9\n",
        "network updated @ 10.0\n",
        "meca: updt ag 1 @  10.0\n",
        "meca: updt ag 2 @ "
       ]
      },
      {
       "output_type": "stream",
       "stream": "stdout",
       "text": [
        " 10.0\n"
       ]
      },
      {
       "output_type": "display_data",
       "text": [
        "<matplotlib.figure.Figure at 0x9f64f50>"
       ]
      },
      {
       "output_type": "display_data",
       "png": "[encoded data removed]",
       "text": [
        "<matplotlib.figure.Figure at 0x974fd50>"
       ]
      },
      {
       "output_type": "display_data",
       "png": "[encoded data removed]",
       "text": [
        "<matplotlib.figure.Figure at 0xafd5b10>"
       ]
      }
     ],
     "prompt_number": 4
    },
    {
     "cell_type": "markdown",
     "metadata": {},
     "source": [
      "trajectories can be imported from a simulnet simulation with the `importh5` method"
     ]
    },
    {
     "cell_type": "code",
     "collapsed": false,
     "input": [
      "from pylayers.mobility.trajectory import *"
     ],
     "language": "python",
     "metadata": {},
     "outputs": [],
     "prompt_number": 5
    },
    {
     "cell_type": "code",
     "collapsed": false,
     "input": [
      "str1 = eval(S.sim_opt['filename'])\n",
      "str2 = S.L.filename.split('.')[0]\n",
      "# the save filename is composed of simulation filename and layout filename\n",
      "save_filename = str1 + '_' + str2 +'.h5'\n",
      "\n",
      "list_traj = importh5(save_filename)"
     ],
     "language": "python",
     "metadata": {},
     "outputs": [],
     "prompt_number": 6
    },
    {
     "cell_type": "markdown",
     "metadata": {},
     "source": [
      "The 2 following trajectories have been calculated with `pylayers.simul.simulnet`"
     ]
    },
    {
     "cell_type": "code",
     "collapsed": false,
     "input": [
      "f=plt.figure(figsize=(20,20))\n",
      "f,a = S.L.showGs(fig=f)\n",
      "for nodes in list_traj:\n",
      "    f,a = nodes.plot(fig=f,ax=a)"
     ],
     "language": "python",
     "metadata": {},
     "outputs": [
      {
       "output_type": "display_data",
       "png": "[encoded data removed]",
       "text": [
        "<matplotlib.figure.Figure at 0xb363c90>"
       ]
      }
     ],
     "prompt_number": 7
    }
   ],
   "metadata": {}
  }
 ]
}