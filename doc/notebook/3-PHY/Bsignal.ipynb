{
 "metadata": {
  "name": "",
  "signature": "sha256:7f3bed755b8bcd1f27568f86a8d4d757500f81ec7a63250e44aba7f0a6f13ff5"
 },
 "nbformat": 3,
 "nbformat_minor": 0,
 "worksheets": [
  {
   "cells": [
    {
     "cell_type": "code",
     "collapsed": false,
     "input": [
      "from pylayers.signal.bsignal import *"
     ],
     "language": "python",
     "metadata": {},
     "outputs": [],
     "prompt_number": 1
    },
    {
     "cell_type": "markdown",
     "metadata": {},
     "source": [
      "We construct an impulse signal normalized in energy."
     ]
    },
    {
     "cell_type": "code",
     "collapsed": false,
     "input": [
      "E=EnImpulse(fe=40)"
     ],
     "language": "python",
     "metadata": {},
     "outputs": [],
     "prompt_number": 2
    },
    {
     "cell_type": "code",
     "collapsed": false,
     "input": [
      "E.plot(typ='v')"
     ],
     "language": "python",
     "metadata": {},
     "outputs": [],
     "prompt_number": 3
    },
    {
     "cell_type": "code",
     "collapsed": false,
     "input": [
      "E.energy()"
     ],
     "language": "python",
     "metadata": {},
     "outputs": [],
     "prompt_number": 4
    },
    {
     "cell_type": "markdown",
     "metadata": {},
     "source": [
      "The Fourier transform of this signal has the hermitian Symmetry."
     ]
    },
    {
     "cell_type": "code",
     "collapsed": false,
     "input": [
      "F = E.fft()\n",
      "F.plot(typ='m')"
     ],
     "language": "python",
     "metadata": {},
     "outputs": [],
     "prompt_number": 5
    },
    {
     "cell_type": "code",
     "collapsed": false,
     "input": [
      "F.y[0]"
     ],
     "language": "python",
     "metadata": {},
     "outputs": [],
     "prompt_number": 6
    },
    {
     "cell_type": "markdown",
     "metadata": {},
     "source": [
      "We then extract the non redundant part of the signal with the `ft` method"
     ]
    },
    {
     "cell_type": "code",
     "collapsed": false,
     "input": [
      "G=E.ft()"
     ],
     "language": "python",
     "metadata": {},
     "outputs": [],
     "prompt_number": 7
    },
    {
     "cell_type": "code",
     "collapsed": false,
     "input": [
      "GH=G.symHz(100,scale='extract')"
     ],
     "language": "python",
     "metadata": {},
     "outputs": [],
     "prompt_number": 8
    },
    {
     "cell_type": "code",
     "collapsed": false,
     "input": [
      "print GH.y[1]\n",
      "print GH.y[-1]"
     ],
     "language": "python",
     "metadata": {},
     "outputs": [],
     "prompt_number": 9
    },
    {
     "cell_type": "code",
     "collapsed": false,
     "input": [
      "ip=F.ifft()\n",
      "ip2=GH.ifft()"
     ],
     "language": "python",
     "metadata": {},
     "outputs": [],
     "prompt_number": 10
    },
    {
     "cell_type": "code",
     "collapsed": false,
     "input": [
      "f,a=E.plot(typ='v',labels=['original'])\n",
      "f,a=ip.plot(typ='v',fig=f,ax=a[0][0],labels=['no zero padding'])\n",
      "f,a=ip2.plot(typ='v',fig=f,ax=a[0][0],labels=['zero padding'])\n",
      "title('extract mode')"
     ],
     "language": "python",
     "metadata": {},
     "outputs": [],
     "prompt_number": 11
    },
    {
     "cell_type": "code",
     "collapsed": false,
     "input": [
      "ip.energy()"
     ],
     "language": "python",
     "metadata": {},
     "outputs": [],
     "prompt_number": 12
    },
    {
     "cell_type": "code",
     "collapsed": false,
     "input": [
      "ip2.energy()"
     ],
     "language": "python",
     "metadata": {},
     "outputs": [],
     "prompt_number": 13
    },
    {
     "cell_type": "code",
     "collapsed": false,
     "input": [
      "Y=E.esd()"
     ],
     "language": "python",
     "metadata": {},
     "outputs": [],
     "prompt_number": 14
    },
    {
     "cell_type": "markdown",
     "metadata": {},
     "source": []
    },
    {
     "cell_type": "markdown",
     "metadata": {},
     "source": [
      "FHsignal for in CIR mode\n",
      "------------------------"
     ]
    },
    {
     "cell_type": "markdown",
     "metadata": {},
     "source": [
      "We create a Fusignal which corresponds to the signal\n",
      "\n",
      "$$X_u(f) = \\alpha e^{-2j\\pi f \\tau}$$\n",
      "\n",
      "$$f\\in [f_{min},f_{max}]$$"
     ]
    },
    {
     "cell_type": "code",
     "collapsed": false,
     "input": [
      "f = np.arange(2,10,0.01)\n",
      "y = 2*np.ones(len(f))*np.exp(-2*1j*np.pi*f*3)\n",
      "N = len(f)\n",
      "Hu = FUsignal(f,y)\n",
      "print N"
     ],
     "language": "python",
     "metadata": {},
     "outputs": [],
     "prompt_number": 15
    },
    {
     "cell_type": "code",
     "collapsed": false,
     "input": [
      "Hu.plot(typ='m')"
     ],
     "language": "python",
     "metadata": {},
     "outputs": [],
     "prompt_number": 16
    },
    {
     "cell_type": "code",
     "collapsed": false,
     "input": [
      "hu = Hu.ifft()"
     ],
     "language": "python",
     "metadata": {},
     "outputs": [],
     "prompt_number": 17
    },
    {
     "cell_type": "markdown",
     "metadata": {},
     "source": [
      "The inverse Fourier transform allows to recover perfectly the amplitude $\\alpha$ and the delay $\\tau$\n",
      "of the channel "
     ]
    },
    {
     "cell_type": "code",
     "collapsed": false,
     "input": [
      "hu.plot(typ='m')"
     ],
     "language": "python",
     "metadata": {},
     "outputs": [],
     "prompt_number": 18
    },
    {
     "cell_type": "code",
     "collapsed": false,
     "input": [
      "real=np.imag(hu.y)\n",
      "u = np.where(hu.y==max(hu.y))[0]\n",
      "tau = hu.x[u]\n",
      "alpha = abs(hu.y[u])\n",
      "print alpha,tau"
     ],
     "language": "python",
     "metadata": {},
     "outputs": [],
     "prompt_number": 19
    },
    {
     "cell_type": "code",
     "collapsed": false,
     "input": [
      "H = Hu.symHz(100,scale='cir')"
     ],
     "language": "python",
     "metadata": {},
     "outputs": [],
     "prompt_number": 20
    },
    {
     "cell_type": "code",
     "collapsed": false,
     "input": [
      "H.plot(typ='m')"
     ],
     "language": "python",
     "metadata": {},
     "outputs": [],
     "prompt_number": 21
    },
    {
     "cell_type": "code",
     "collapsed": false,
     "input": [
      "h = H.ifft(tt='rt')"
     ],
     "language": "python",
     "metadata": {},
     "outputs": [],
     "prompt_number": 22
    },
    {
     "cell_type": "code",
     "collapsed": false,
     "input": [
      "h.plot(typ='v')"
     ],
     "language": "python",
     "metadata": {},
     "outputs": [],
     "prompt_number": 23
    },
    {
     "cell_type": "code",
     "collapsed": false,
     "input": [
      "real=np.imag(h.y)\n",
      "u = np.where(h.y==max(h.y))[0]\n",
      "tau = h.x[u]\n",
      "alpha = abs(h.y[u])\n",
      "print alpha,tau"
     ],
     "language": "python",
     "metadata": {},
     "outputs": [],
     "prompt_number": 24
    },
    {
     "cell_type": "code",
     "collapsed": false,
     "input": [
      "fft.ifft(H.y)"
     ],
     "language": "python",
     "metadata": {},
     "outputs": [],
     "prompt_number": 25
    },
    {
     "cell_type": "code",
     "collapsed": false,
     "input": [
      "print H.y[203]\n",
      "print H.y[-203]\n",
      "len(H.y)"
     ],
     "language": "python",
     "metadata": {},
     "outputs": [],
     "prompt_number": 26
    },
    {
     "cell_type": "code",
     "collapsed": false,
     "input": [
      "Y=h.fft()"
     ],
     "language": "python",
     "metadata": {},
     "outputs": [],
     "prompt_number": 27
    },
    {
     "cell_type": "code",
     "collapsed": false,
     "input": [
      "Y.plot(typ='m')"
     ],
     "language": "python",
     "metadata": {},
     "outputs": [],
     "prompt_number": 28
    }
   ],
   "metadata": {}
  }
 ]
}
