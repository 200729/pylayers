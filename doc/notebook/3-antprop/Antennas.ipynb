{
 "metadata": {
  "name": ""
 },
 "nbformat": 3,
 "nbformat_minor": 0,
 "worksheets": [
  {
   "cells": [
    {
     "cell_type": "markdown",
     "metadata": {},
     "source": [
      "# Handling Antennas"
     ]
    },
    {
     "cell_type": "markdown",
     "metadata": {},
     "source": [
      "> Antennas are handled in the  `pylayers.antenna` module. `PyLayers` provides a compact representation of complex antennas using both vector and scalar spherical harmonics representation of the complex antenna radiation pattern. "
     ]
    },
    {
     "cell_type": "code",
     "collapsed": true,
     "input": [
      "from pylayers.antprop.antenna import *\n",
      "from pylayers.antprop.antvsh import *"
     ],
     "language": "python",
     "metadata": {},
     "outputs": [],
     "prompt_number": 1
    },
    {
     "cell_type": "markdown",
     "metadata": {},
     "source": [
      "The first step consists in reading the raw data from an antenna  `.mat` file. In the example below the antenna has been measured in a [SATIMO](http://satimo.com/) near field chamber. Antennas are by default read in a directory specified relativeley to the curent project pointed by the `$BASENAME` environment variable.  "
     ]
    },
    {
     "cell_type": "code",
     "collapsed": false,
     "input": [
      "A = Antenna('S1R1.mat','ant/UWBAN/Matfile')"
     ],
     "language": "python",
     "metadata": {},
     "outputs": [],
     "prompt_number": 2
    },
    {
     "cell_type": "markdown",
     "metadata": {},
     "source": [
      "The Antenna class has a __repr__ method which provides information about the curent object. "
     ]
    },
    {
     "cell_type": "code",
     "collapsed": false,
     "input": [
      "A"
     ],
     "language": "python",
     "metadata": {},
     "outputs": [],
     "prompt_number": 3
    },
    {
     "cell_type": "code",
     "collapsed": false,
     "input": [
      "#%pfile A.show3"
     ],
     "language": "python",
     "metadata": {},
     "outputs": [],
     "prompt_number": 4
    },
    {
     "cell_type": "markdown",
     "metadata": {},
     "source": [
      "If [geomview](http://www.geomview.org/) is installed a vizalization of the antenna pattern is obtained in using a `show3` method"
     ]
    },
    {
     "cell_type": "code",
     "collapsed": false,
     "input": [
      "#A.show3(k=0,typ='Gain')"
     ],
     "language": "python",
     "metadata": {},
     "outputs": [],
     "prompt_number": 5
    },
    {
     "cell_type": "code",
     "collapsed": false,
     "input": [
      "#A.show3(k=60,typ='Gain')"
     ],
     "language": "python",
     "metadata": {},
     "outputs": [],
     "prompt_number": 6
    },
    {
     "cell_type": "markdown",
     "metadata": {},
     "source": [
      "## Unwraping the phase "
     ]
    },
    {
     "cell_type": "code",
     "collapsed": false,
     "input": [
      "freq = A.fa.reshape(104,1,1)\n",
      "ed = A.getdelay(freq)\n",
      "I = A.Ftheta[:,:,:]*np.exp(2*1j*np.pi*freq*ed)"
     ],
     "language": "python",
     "metadata": {},
     "outputs": [],
     "prompt_number": 7
    },
    {
     "cell_type": "code",
     "collapsed": false,
     "input": [
      "np.shape(A.Fphi)\n",
      "im= plt.imshow(np.angle(I[:,45,:]))\n",
      "cb = plt.colorbar()\n",
      "cb.set_label('phase rad')\n",
      "plt.xlabel('theta')\n"
     ],
     "language": "python",
     "metadata": {},
     "outputs": [],
     "prompt_number": 8
    },
    {
     "cell_type": "code",
     "collapsed": false,
     "input": [
      "plt.plot(freq[:,0,0]*1e9,np.unwrap(np.angle(I[:,45,85])))\n",
      "plt.xlabel('frequency (GHz)')"
     ],
     "language": "python",
     "metadata": {},
     "outputs": [],
     "prompt_number": 9
    },
    {
     "cell_type": "markdown",
     "metadata": {},
     "source": [
      "The following figure represents all the radiation patterns in the azimuth plane for each of the 104 measured frequencies"
     ]
    },
    {
     "cell_type": "code",
     "collapsed": false,
     "input": [
      "print 'Ntheta',A.Nt\n",
      "print 'Nphi',A.Np\n",
      "print 'Nf',A.Nf"
     ],
     "language": "python",
     "metadata": {},
     "outputs": [],
     "prompt_number": 10
    },
    {
     "cell_type": "code",
     "collapsed": false,
     "input": [
      "A.info()"
     ],
     "language": "python",
     "metadata": {},
     "outputs": [],
     "prompt_number": 11
    },
    {
     "cell_type": "markdown",
     "metadata": {},
     "source": [
      "## Evaluation of Vector Spherical Harmonics Coefficients \n",
      "\n",
      "At that stage the Vector Spherical Harmonics coefficients are computed. \n",
      "\n",
      "The `vsh` function is implemented in the module `antvsh.py` and is relying on the 'spherepack <http://www2.cisl.ucar.edu/resources/legacy/spherepack>'_ package. "
     ]
    },
    {
     "cell_type": "code",
     "collapsed": true,
     "input": [
      "A = vsh(A)"
     ],
     "language": "python",
     "metadata": {},
     "outputs": [],
     "prompt_number": 12
    },
    {
     "cell_type": "markdown",
     "metadata": {},
     "source": [
      "The information about the antenna indicates now the presence of spherical coefficients, in \n",
      "format vsh1. \n",
      "\n",
      "N1 = 90 and M1 = 89. \n",
      "\n",
      "There is the same number of coefficients for $B_r$, $B_i$, $C_r$, $C_i$\n",
      "independently to their relative importance. "
     ]
    },
    {
     "cell_type": "code",
     "collapsed": false,
     "input": [
      "A.C"
     ],
     "language": "python",
     "metadata": {},
     "outputs": [],
     "prompt_number": 13
    },
    {
     "cell_type": "code",
     "collapsed": false,
     "input": [
      "A.C.s1tos2(30)"
     ],
     "language": "python",
     "metadata": {},
     "outputs": [],
     "prompt_number": 14
    },
    {
     "cell_type": "code",
     "collapsed": true,
     "input": [
      "A.C"
     ],
     "language": "python",
     "metadata": {},
     "outputs": [],
     "prompt_number": 15
    },
    {
     "cell_type": "code",
     "collapsed": true,
     "input": [
      "plt.figure(figsize=(10,10))\n",
      "A.C.show(typ='s2',k=300)"
     ],
     "language": "python",
     "metadata": {},
     "outputs": [],
     "prompt_number": 16
    },
    {
     "cell_type": "markdown",
     "metadata": {},
     "source": [
      "Transformation in shape 3 - energy thresholding"
     ]
    },
    {
     "cell_type": "code",
     "collapsed": false,
     "input": [
      "A.C.s2tos3(1e-5)"
     ],
     "language": "python",
     "metadata": {},
     "outputs": [],
     "prompt_number": 17
    },
    {
     "cell_type": "code",
     "collapsed": false,
     "input": [
      "plt.figure(figsize=(10,10))\n",
      "A.C.show('s3')"
     ],
     "language": "python",
     "metadata": {},
     "outputs": [],
     "prompt_number": 18
    },
    {
     "cell_type": "code",
     "collapsed": false,
     "input": [
      "print len(A.theta)\n",
      "print len(A.phi)"
     ],
     "language": "python",
     "metadata": {},
     "outputs": [],
     "prompt_number": 19
    },
    {
     "cell_type": "code",
     "collapsed": false,
     "input": [
      "A"
     ],
     "language": "python",
     "metadata": {},
     "outputs": []
    },
    {
     "cell_type": "code",
     "collapsed": true,
     "input": [
      "Fth2,Fph2 = A.Fsynth3(A.theta,A.phi,pattern=True) "
     ],
     "language": "python",
     "metadata": {},
     "outputs": []
    },
    {
     "cell_type": "code",
     "collapsed": true,
     "input": [
      "compdiag(0,A,A.theta,A.phi,Fth2,Fph2,'modulus')"
     ],
     "language": "python",
     "metadata": {},
     "outputs": [],
     "prompt_number": 21
    },
    {
     "cell_type": "code",
     "collapsed": false,
     "input": [
      "A"
     ],
     "language": "python",
     "metadata": {},
     "outputs": [],
     "prompt_number": 22
    },
    {
     "cell_type": "code",
     "collapsed": false,
     "input": [
      "from IPython.core.display import HTML\n",
      "\n",
      "def css_styling():\n",
      "    styles = open(\"../styles/custom.css\", \"r\").read()\n",
      "    return HTML(styles)\n",
      "css_styling()"
     ],
     "language": "python",
     "metadata": {},
     "outputs": [],
     "prompt_number": 23
    }
   ],
   "metadata": {}
  }
 ]
}
