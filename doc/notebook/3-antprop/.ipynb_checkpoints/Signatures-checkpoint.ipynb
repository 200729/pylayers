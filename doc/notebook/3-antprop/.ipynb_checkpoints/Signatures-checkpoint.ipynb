{
 "metadata": {
  "name": ""
 },
 "nbformat": 3,
 "nbformat_minor": 0,
 "worksheets": [
  {
   "cells": [
    {
     "cell_type": "markdown",
     "metadata": {},
     "source": [
      "# Ray Signatures"
     ]
    },
    {
     "cell_type": "code",
     "collapsed": false,
     "input": [
      "import time\n",
      "from pylayers.gis.layout import *\n",
      "from pylayers.antprop.signature import *\n",
      "from pylayers.antprop.rays import *"
     ],
     "language": "python",
     "metadata": {},
     "outputs": [],
     "prompt_number": 1
    },
    {
     "cell_type": "code",
     "collapsed": false,
     "input": [
      "L = Layout('defstr.ini')\n",
      "try:\n",
      "    L.dumpr()\n",
      "except:\n",
      "    L.build()\n",
      "    L.dumpw()"
     ],
     "language": "python",
     "metadata": {},
     "outputs": [],
     "prompt_number": 6
    },
    {
     "cell_type": "markdown",
     "metadata": {},
     "source": [
      "Showing the graph of rooms with 2 rooms separated by a DOOR segment "
     ]
    },
    {
     "cell_type": "code",
     "collapsed": false,
     "input": [
      "L.showG('v')\n",
      "a=plt.axis('off')"
     ],
     "language": "python",
     "metadata": {},
     "outputs": [],
     "prompt_number": 7
    },
    {
     "cell_type": "markdown",
     "metadata": {},
     "source": [
      "The graph of interactions is shown below. "
     ]
    },
    {
     "cell_type": "code",
     "collapsed": false,
     "input": [
      "L.showG('i',figsize=(20,20))\n",
      "a=plt.axis('off')"
     ],
     "language": "python",
     "metadata": {},
     "outputs": [],
     "prompt_number": 8
    },
    {
     "cell_type": "markdown",
     "metadata": {},
     "source": [
      "All the interactions of a given cycle are stored as meta information in nodes of `Gt` "
     ]
    },
    {
     "cell_type": "code",
     "collapsed": false,
     "input": [
      "L.Gt.node[0]['inter']"
     ],
     "language": "python",
     "metadata": {},
     "outputs": [],
     "prompt_number": 9
    },
    {
     "cell_type": "markdown",
     "metadata": {},
     "source": [
      "The signature is calculated with as parameters the  Layout object and two cycle numbers. \n",
      "In example below it is 0 and 1. "
     ]
    },
    {
     "cell_type": "code",
     "collapsed": false,
     "input": [
      "Si = Signatures(L,0,1)"
     ],
     "language": "python",
     "metadata": {},
     "outputs": [],
     "prompt_number": 10
    },
    {
     "cell_type": "markdown",
     "metadata": {},
     "source": [
      "The cold start determination of the signature is done with `run1` function. The code is not finished here and there is room for significant acceleration in incorporating propagation based heuristics. The mitigation of combinatorics explosion is done in setting a cutoff vlaue which limits the exploration in the interaction graph. "
     ]
    },
    {
     "cell_type": "code",
     "collapsed": false,
     "input": [
      "Si.run1(cutoff=3)"
     ],
     "language": "python",
     "metadata": {},
     "outputs": [],
     "prompt_number": 11
    },
    {
     "cell_type": "markdown",
     "metadata": {},
     "source": [
      "An exhaustive search of signatures when no prior information is given is a combinatory hard problem. \n",
      "The number of signatures grows rapidly with the cutoff parameter. "
     ]
    },
    {
     "cell_type": "markdown",
     "metadata": {},
     "source": [
      "The representaion method of a signature gives informations about the different signatures. Signatures are grouped by number of interactions. "
     ]
    },
    {
     "cell_type": "code",
     "collapsed": false,
     "input": [
      "Si"
     ],
     "language": "python",
     "metadata": {},
     "outputs": [],
     "prompt_number": 12
    },
    {
     "cell_type": "code",
     "collapsed": false,
     "input": [
      "L.Gt.pos"
     ],
     "language": "python",
     "metadata": {},
     "outputs": [],
     "prompt_number": 13
    },
    {
     "cell_type": "code",
     "collapsed": false,
     "input": [
      "ptx = np.array(L.Gt.pos[0])+np.random.rand(2)\n",
      "prx = np.array(L.Gt.pos[1])+np.random.rand(2)\n",
      "print ptx\n",
      "print prx"
     ],
     "language": "python",
     "metadata": {},
     "outputs": [],
     "prompt_number": 14
    },
    {
     "cell_type": "markdown",
     "metadata": {},
     "source": [
      "Evaluate performances of signature and ray evaluation"
     ]
    },
    {
     "cell_type": "code",
     "collapsed": false,
     "input": [
      "tt1 = {}\n",
      "tt2 = {}\n",
      "tint={}\n",
      "tsig={} # number of sig\n",
      "tray={} # number of rays\n",
      "maxcutoff=7\n",
      "for cutoff in range(maxcutoff):\n",
      "     del Si\n",
      "        \n",
      "     Si = Signatures(L,0,1)\n",
      "     tic1=time.time()\n",
      "     Si.run1(cutoff=cutoff)\n",
      "     tic2=time.time()\n",
      "     r2d = Si.rays(ptx,prx)   \n",
      "     tic3=time.time()\n",
      "     Si.num()   \n",
      "     Nr = len(r2d)   \n",
      "     tt1[cutoff]=tic2-tic1\n",
      "     tt2[cutoff]=tic3-tic2   \n",
      "     tint[cutoff]=Si.nint   \n",
      "     tsig[cutoff]=Si.nsig\n",
      "     tray[cutoff]=Nr\n",
      "     print cutoff,tt2[cutoff]\n",
      "#    L.display['ednodes']=False\n",
      "#    r2d.show(L)"
     ],
     "language": "python",
     "metadata": {},
     "outputs": [],
     "prompt_number": 15
    },
    {
     "cell_type": "markdown",
     "metadata": {},
     "source": [
      "It appears that the increasing number of signatures obatined with the run1 algorithm do not yield necessarily a significant increase in the number of rays."
     ]
    },
    {
     "cell_type": "code",
     "collapsed": false,
     "input": [
      "p1=semilogy(tt1.keys(),tray.values(),'ob')\n",
      "p2=semilogy(tt1.keys(),tsig.values(),'or')\n",
      "legend((p1[0],p2[0]),('rays','signature'),loc='best')\n",
      "xlabel('cutoff')\n",
      "ylabel('#')"
     ],
     "language": "python",
     "metadata": {},
     "outputs": [],
     "prompt_number": 17
    },
    {
     "cell_type": "code",
     "collapsed": false,
     "input": [
      "#b1=bar(tt2.keys(),tt2.values(),color='red')\n",
      "#b2=bar(tt1.keys(),tt1.values(),color='blue')\n",
      "#b1=semilogx(tt2.keys(),log10(tt2.values()),color='red')\n",
      "#b2=semilogx(tt1.keys(),log10(tt1.values()),color='blue')\n",
      "#b3=semilogx(tt1.keys(),log10(0.1*(arange(10))**3),color='green')\n",
      "b1=loglog(tt2.keys(),tt2.values(),'k.')\n",
      "b2=loglog(tt1.keys(),tt1.values(),'r.')\n",
      "b3=loglog(tt1.keys(),0.1*arange(maxcutoff)**3,color='green')\n",
      "b4=loglog(tt1.keys(),0.001*arange(maxcutoff)**2,color='green')\n",
      "b5=loglog(tt1.keys(),0.1*arange(maxcutoff)**4.4,color='cyan')\n",
      "legend((b1[0],b2[0],b3[0],b4[0],b5[0]),('rays','signature',r'$O(N^3)$',r'$O(N^2)$',r'$O(N^{4.4})$'),loc='best')\n",
      "xlabel('cutoff')\n",
      "ylabel('time (s)')"
     ],
     "language": "python",
     "metadata": {},
     "outputs": [],
     "prompt_number": 18
    },
    {
     "cell_type": "code",
     "collapsed": false,
     "input": [
      "b1=loglog(tt2.keys(),tint.values(),color='red')\n",
      "b2=loglog(tt1.keys(),tsig.values(),color='blue')\n",
      "#b3=loglog(tt1.keys(),arange(maxcutoff)**3,color='green')\n",
      "#b4=loglog(tt1.keys(),arange(maxcutoff)**2,color='green')\n",
      "#legend((b1[0],b2[0],b3[0],b4[0]),('interactions','signatures',r'$O(N^3)$',r'$O(N^2)$'),loc='best')\n",
      "legend((b1[0],b2[0]),('interactions','signatures'),loc='best')\n",
      "xlabel('cutoff')\n",
      "ylabel('#')"
     ],
     "language": "python",
     "metadata": {},
     "outputs": [],
     "prompt_number": 19
    },
    {
     "cell_type": "code",
     "collapsed": false,
     "input": [
      "#b1=loglog(tsig.values(),tt1.values(),color='red')\n",
      "b2=loglog(tint.values(),tt2.values(),color='red')\n",
      "b3=loglog(tint.values(),0.0004*array(tint.values())**0.88,color='blue')\n",
      "xlabel('# Interactions')"
     ],
     "language": "python",
     "metadata": {},
     "outputs": [],
     "prompt_number": 20
    },
    {
     "cell_type": "code",
     "collapsed": false,
     "input": [
      "plot(tint.values(),tt2.values(),color='red')\n",
      "plot(tint.values(),0.0004*array(tint.values())**0.88,color='blue')"
     ],
     "language": "python",
     "metadata": {},
     "outputs": [],
     "prompt_number": 21
    },
    {
     "cell_type": "markdown",
     "metadata": {},
     "source": [
      "The computation time in rays grows exponentially with the number of interactions.\n",
      "\n",
      "$$T_{rays}=\\alpha N_i^{0.88} [s]$$"
     ]
    },
    {
     "cell_type": "code",
     "collapsed": false,
     "input": [
      "b1=loglog(tt2.keys(),tint.values(),color='red')\n",
      "b2=loglog(tt2.keys(),array(tt2.keys())**5,color='blue')"
     ],
     "language": "python",
     "metadata": {},
     "outputs": [],
     "prompt_number": 22
    },
    {
     "cell_type": "code",
     "collapsed": false,
     "input": [
      "for k in range(maxcutoff):\n",
      "    r2d.show(L,i=k+1,colray='red',widthray=0.5)\n",
      "    title(str(k+1))"
     ],
     "language": "python",
     "metadata": {},
     "outputs": [],
     "prompt_number": 23
    },
    {
     "cell_type": "code",
     "collapsed": false,
     "input": [
      "fig,ax=r2d.show(L,i=1,figsize=(20,10),colray='red',widthray=3)\n",
      "fig,ax=r2d.show(L,i=1,colray='green',widthray=2,fig=fig,ax=ax)\n",
      "fig,ax=r2d.show(L,i=2,colray='blue',widthray=1,fig=fig,ax=ax)\n",
      "fig,ax=r2d.show(L,i=3,colray='black',widthray=1,fig=fig,ax=ax)\n",
      "fig,ax=r2d.show(L,i=4,colray='green',widthray=0.5,fig=fig,ax=ax)\n",
      "fig,ax=r2d.show(L,i=5,colray='green',widthray=0.5,fig=fig,ax=ax)\n",
      "fig,ax=r2d.show(L,i=6,colray='green',widthray=0.5,fig=fig,ax=ax)\n",
      "fig,ax=r2d.show(L,i=7,colray='green',widthray=0.5,fig=fig,ax=ax)\n",
      "#fig,ax=r2d.show(L,i=8,colray='green',widthray=0.5,fig=fig,ax=ax)\n",
      "#fig,ax=r2d.show(L,i=9,colray='green',widthray=0.5,fig=fig,ax=ax)"
     ],
     "language": "python",
     "metadata": {},
     "outputs": [],
     "prompt_number": 24
    },
    {
     "cell_type": "code",
     "collapsed": false,
     "input": [
      "from IPython.core.display import HTML\n",
      "\n",
      "def css_styling():\n",
      "    styles = open(\"../styles/custom.css\", \"r\").read()\n",
      "    return HTML(styles)\n",
      "css_styling()"
     ],
     "language": "python",
     "metadata": {},
     "outputs": [],
     "prompt_number": 20
    }
   ],
   "metadata": {}
  }
 ]
}