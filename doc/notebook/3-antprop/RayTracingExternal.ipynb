{
 "metadata": {
  "name": ""
 },
 "nbformat": 3,
 "nbformat_minor": 0,
 "worksheets": [
  {
   "cells": [
    {
     "cell_type": "markdown",
     "metadata": {},
     "source": [
      "# Simulation with the external version of the Ray Tracing"
     ]
    },
    {
     "cell_type": "code",
     "collapsed": false,
     "input": [
      "from pylayers.simul.simulem import *\n",
      "from pylayers.antprop.rays import *\n",
      "from pylayers.antprop.channel import *\n",
      "import pylayers.util.pyutil as pyu\n",
      "import pylayers.signal.bsignal as bs"
     ],
     "language": "python",
     "metadata": {},
     "outputs": [],
     "prompt_number": 1
    },
    {
     "cell_type": "markdown",
     "metadata": {},
     "source": [
      "Create the simulation object with `defstr` layout  "
     ]
    },
    {
     "cell_type": "code",
     "collapsed": false,
     "input": [
      "S = Simul()\n",
      "# loading a layout \n",
      "filestr = 'defstr'\n",
      "filestr = 'DLR' # layout not correct yet \n",
      "S.layout(filestr+'.str','matDB.ini','slabDB.ini')   \n",
      "S.L.display['ednodes']=False\n",
      "S.L.display['nodes']=False\n",
      "S.L.display['title']='DLR WP4 WHERE2 measurement site'\n",
      "S.L.display['overlay']=False\n",
      "S.L.showG('s')    \n",
      "#S.L.origin = np.array([762.6,1133.2])\n",
      "#plt.plot(S.L.origin[0],S.L.origin[1],'o')"
     ],
     "language": "python",
     "metadata": {},
     "outputs": [],
     "prompt_number": 2
    },
    {
     "cell_type": "code",
     "collapsed": false,
     "input": [
      "S.filestr"
     ],
     "language": "python",
     "metadata": {},
     "outputs": [],
     "prompt_number": 3
    },
    {
     "cell_type": "code",
     "collapsed": false,
     "input": [
      "S.L.Gs.node[1]"
     ],
     "language": "python",
     "metadata": {},
     "outputs": [],
     "prompt_number": 4
    },
    {
     "cell_type": "markdown",
     "metadata": {},
     "source": [
      "Select Tx and Rx positions"
     ]
    },
    {
     "cell_type": "code",
     "collapsed": false,
     "input": [
      "itx=1\n",
      "irx=1\n",
      "S.tx = RadioNode(typ='tx')\n",
      "S.tx.point([1,0,1.4])\n",
      "S.rx = RadioNode(typ='rx')\n",
      "S.rx.point([8,0,1.5])\n",
      "#S.tx.transform(-30,S.L.origin)\n",
      "#S.rx.transform(-30,S.L.origin)"
     ],
     "language": "python",
     "metadata": {},
     "outputs": [],
     "prompt_number": 5
    },
    {
     "cell_type": "code",
     "collapsed": false,
     "input": [
      "S.show()"
     ],
     "language": "python",
     "metadata": {},
     "outputs": [],
     "prompt_number": 6
    },
    {
     "cell_type": "markdown",
     "metadata": {},
     "source": [
      "Run raytracing determination between itx and irx  \n"
     ]
    },
    {
     "cell_type": "code",
     "collapsed": false,
     "input": [
      "S.info()"
     ],
     "language": "python",
     "metadata": {},
     "outputs": [],
     "prompt_number": 7
    },
    {
     "cell_type": "code",
     "collapsed": false,
     "input": [
      "S.launching(itx=1,verbose=True)"
     ],
     "language": "python",
     "metadata": {},
     "outputs": [],
     "prompt_number": 8
    },
    {
     "cell_type": "code",
     "collapsed": false,
     "input": [
      "S.tracing(1,1,verbose=True)"
     ],
     "language": "python",
     "metadata": {},
     "outputs": [],
     "prompt_number": 9
    },
    {
     "cell_type": "code",
     "collapsed": false,
     "input": [
      "S.info()"
     ],
     "language": "python",
     "metadata": {},
     "outputs": [],
     "prompt_number": 10
    },
    {
     "cell_type": "code",
     "collapsed": false,
     "input": [
      "S.run(itx,irx,verbose=True)"
     ],
     "language": "python",
     "metadata": {},
     "outputs": [],
     "prompt_number": 11
    },
    {
     "cell_type": "markdown",
     "metadata": {},
     "source": [
      "Load Tud object from generated file. A Tud object is gathering all the necessary information for avaluating the field along the rays of the link (itx,irx)"
     ]
    },
    {
     "cell_type": "code",
     "collapsed": false,
     "input": [
      "Gt=GrRayTud()\n",
      "Gt.load(S.dtud[itx][irx],S.dtang[itx][irx],S.drang[itx][irx],S.slab)"
     ],
     "language": "python",
     "metadata": {},
     "outputs": [],
     "prompt_number": 52
    },
    {
     "cell_type": "markdown",
     "metadata": {},
     "source": [
      "# How to use the GrRayTud object? "
     ]
    },
    {
     "cell_type": "markdown",
     "metadata": {},
     "source": [
      "## Gt is an object from class GrRayTud (Group of rays in TUD format) "
     ]
    },
    {
     "cell_type": "markdown",
     "metadata": {},
     "source": [
      "### Gt.eval\n",
      "Thhis method evaluates the field along the rays. "
     ]
    },
    {
     "cell_type": "code",
     "collapsed": false,
     "input": [
      "Gt.eval()"
     ],
     "language": "python",
     "metadata": {},
     "outputs": [],
     "prompt_number": 20
    },
    {
     "cell_type": "markdown",
     "metadata": {},
     "source": [
      "### Gt.info(r)\n",
      "\n",
      "returns the information associated to a given ray number r"
     ]
    },
    {
     "cell_type": "code",
     "collapsed": false,
     "input": [
      "# Gt.info(2)    --> bug to fix"
     ],
     "language": "python",
     "metadata": {},
     "outputs": [],
     "prompt_number": 63
    },
    {
     "cell_type": "markdown",
     "metadata": {},
     "source": [
      "### Gt.ray(r)\n",
      "\n",
      "return the index of the interactions of ray r into the Gt.I.I matrix "
     ]
    },
    {
     "cell_type": "code",
     "collapsed": false,
     "input": [
      "Gt.ray(0)"
     ],
     "language": "python",
     "metadata": {},
     "outputs": [],
     "prompt_number": 54
    },
    {
     "cell_type": "markdown",
     "metadata": {},
     "source": [
      "### Gt.typ(r)\n",
      "\n",
      "return the type of the interactions of ray r "
     ]
    },
    {
     "cell_type": "code",
     "collapsed": false,
     "input": [
      "Gt.typ(0)"
     ],
     "language": "python",
     "metadata": {},
     "outputs": [],
     "prompt_number": 55
    },
    {
     "cell_type": "markdown",
     "metadata": {},
     "source": [
      "## Gt Attributes"
     ]
    },
    {
     "cell_type": "markdown",
     "metadata": {},
     "source": [
      "### Gt.I"
     ]
    },
    {
     "cell_type": "markdown",
     "metadata": {},
     "source": [
      "Gt has an attribute I, which is a class Interactions.\n",
      "\n",
      "This class Interactions gather all basis interactions : B / T / R / L "
     ]
    },
    {
     "cell_type": "code",
     "collapsed": false,
     "input": [
      "print Gt.I.B\n",
      "print Gt.I.R\n",
      "print Gt.I.T\n",
      "print Gt.I.L"
     ],
     "language": "python",
     "metadata": {},
     "outputs": [],
     "prompt_number": 56
    },
    {
     "cell_type": "markdown",
     "metadata": {},
     "source": [
      "All basis interactions B / T / R / L have the same attributes:\n",
      "\n",
      "* idx : the index of the interaction \n",
      "* data : which is a np.shape(self.data) = len(self.idx) , 3 \n",
      "* data[:,0] = theta\n",
      "* data[:,1] = si\n",
      "* data[:,2] = sr or st ( named sout in the following)"
     ]
    },
    {
     "cell_type": "code",
     "collapsed": false,
     "input": [
      "print Gt.I.R.idx,'\\n'\n",
      "print Gt.I.R.data"
     ],
     "language": "python",
     "metadata": {},
     "outputs": [],
     "prompt_number": 57
    },
    {
     "cell_type": "markdown",
     "metadata": {},
     "source": [
      "T and R basis interractions have also an extra attribute:\n",
      "\n",
      "* dusl : a dictonnary of used slab ( the number is the **position** into the self.idx, not direcly the index)\n"
     ]
    },
    {
     "cell_type": "code",
     "collapsed": false,
     "input": [
      "print Gt.I.R.dusl"
     ],
     "language": "python",
     "metadata": {},
     "outputs": [],
     "prompt_number": 58
    },
    {
     "cell_type": "markdown",
     "metadata": {},
     "source": [
      "### Gt.dli"
     ]
    },
    {
     "cell_type": "code",
     "collapsed": false,
     "input": [
      "Gt.keys()"
     ],
     "language": "python",
     "metadata": {},
     "outputs": [],
     "prompt_number": 59
    },
    {
     "cell_type": "markdown",
     "metadata": {},
     "source": [
      "Thus, Lets see what contains Gt.dli for 3 interractions"
     ]
    },
    {
     "cell_type": "code",
     "collapsed": false,
     "input": [
      "Gt[5]"
     ],
     "language": "python",
     "metadata": {},
     "outputs": [],
     "prompt_number": 60
    },
    {
     "cell_type": "markdown",
     "metadata": {},
     "source": [
      "This is a new dictionnary which gives:\n",
      "\n",
      "* 'nbrays' : The number of ray which have 3 interractions ( here only 1)\n",
      "\n",
      "* 'rayidx' : The index of the ray ( here only the ray number 0)\n",
      "\n",
      "* 'rays' : a np array which contains the index of the interraction maxtrix"
     ]
    },
    {
     "cell_type": "code",
     "collapsed": false,
     "input": [
      "from IPython.core.display import HTML\n",
      "\n",
      "def css_styling():\n",
      "    styles = open(\"../styles/custom.css\", \"r\").read()\n",
      "    return HTML(styles)\n",
      "css_styling()"
     ],
     "language": "python",
     "metadata": {},
     "outputs": [],
     "prompt_number": 61
    }
   ],
   "metadata": {}
  }
 ]
}
