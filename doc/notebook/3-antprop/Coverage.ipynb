{
 "metadata": {
  "name": ""
 },
 "nbformat": 3,
 "nbformat_minor": 0,
 "worksheets": [
  {
   "cells": [
    {
     "cell_type": "markdown",
     "metadata": {},
     "source": [
      "# Coverage with a Multi Wall model "
     ]
    },
    {
     "cell_type": "markdown",
     "metadata": {},
     "source": [
      "> Sometimes it might be useful to get a fast estimate about losses in a given indoor environment. \n",
      "> Ray tracing is generally time consuming and depending on the purpose of the study it could be relevant \n",
      "> to proceed with a simpler approach while staying site-specific. `PyLayers` provides such a tool which heavily relies on the core module `slab.py`"
     ]
    },
    {
     "cell_type": "markdown",
     "metadata": {},
     "source": [
      "First let's import the `coverage` module"
     ]
    },
    {
     "cell_type": "code",
     "collapsed": false,
     "input": [
      "from pylayers.antprop.coverage import *\n",
      "import time"
     ],
     "language": "python",
     "metadata": {},
     "outputs": [],
     "prompt_number": 1
    },
    {
     "cell_type": "markdown",
     "metadata": {},
     "source": [
      "Instantiate a coverage object.\n",
      "By defaut, `TA-Office.str` layout strucure is loaded.\n",
      "\n",
      "This information can be modified in the **coverage.ini** file in the project directory.\n",
      "\n",
      "Below is an example of how the content of the file looks like"
     ]
    },
    {
     "cell_type": "code",
     "collapsed": false,
     "input": [
      "!cat $BASENAME/ini/coverage.ini"
     ],
     "language": "python",
     "metadata": {},
     "outputs": [],
     "prompt_number": 2
    },
    {
     "cell_type": "code",
     "collapsed": false,
     "input": [
      "# Create a Coverage object from coverag.ini file\n",
      "C = Coverage()"
     ],
     "language": "python",
     "metadata": {},
     "outputs": [],
     "prompt_number": 3
    },
    {
     "cell_type": "markdown",
     "metadata": {},
     "source": [
      "The coverage object has a `__repr__` which summarizes the different parameters of the current coverage object"
     ]
    },
    {
     "cell_type": "code",
     "collapsed": false,
     "input": [
      "C"
     ],
     "language": "python",
     "metadata": {},
     "outputs": [],
     "prompt_number": 4
    },
    {
     "cell_type": "code",
     "collapsed": false,
     "input": [
      "# evaluate coverage \n",
      "C.cover()"
     ],
     "language": "python",
     "metadata": {},
     "outputs": [],
     "prompt_number": 5
    },
    {
     "cell_type": "markdown",
     "metadata": {},
     "source": [
      "# Calculating Received Power Coverage"
     ]
    },
    {
     "cell_type": "code",
     "collapsed": false,
     "input": [
      "C.L.display['nodes']=False\n",
      "C.L.display['ednodes']=False\n",
      "C.L.showGs()"
     ],
     "language": "python",
     "metadata": {},
     "outputs": [],
     "prompt_number": 6
    },
    {
     "cell_type": "markdown",
     "metadata": {},
     "source": [
      "Then, the coverage calculation is launched by calling the `cover()` method"
     ]
    },
    {
     "cell_type": "markdown",
     "metadata": {},
     "source": [
      "The shadowing map coverage results can be displayed by invoquing various functions.\n",
      "\n",
      "+ showLoss : display the path loss\n",
      "+ showPower : display the received powercover"
     ]
    },
    {
     "cell_type": "markdown",
     "metadata": {},
     "source": [
      "The following examples represent the estimated received power for 3 different frequencies"
     ]
    },
    {
     "cell_type": "code",
     "collapsed": false,
     "input": [
      "C.fGHz=0.400\n",
      "tic = time.time()\n",
      "C.cover()\n",
      "C.showPower(figsize=(10,10))\n",
      "toc =time.time()\n",
      "print 'Elapsed time : {0:.2f} seconds'.format(toc-tic)"
     ],
     "language": "python",
     "metadata": {},
     "outputs": [],
     "prompt_number": 7
    },
    {
     "cell_type": "code",
     "collapsed": false,
     "input": [
      "C.fGHz=2.4\n",
      "tic = time.time()\n",
      "C.cover()\n",
      "C.showPower(figsize=(10,10))\n",
      "toc =time.time()\n",
      "print 'Elapsed time : {0:.2f} seconds'.format(toc-tic)"
     ],
     "language": "python",
     "metadata": {},
     "outputs": [],
     "prompt_number": 8
    },
    {
     "cell_type": "code",
     "collapsed": false,
     "input": [
      "C.fGHz=2.4\n",
      "tic = time.time()\n",
      "C.cover()\n",
      "C.showPower(figsize=(10,10))\n",
      "toc =time.time()\n",
      "print 'Elapsed time : {0:.2f} seconds'.format(toc-tic)"
     ],
     "language": "python",
     "metadata": {},
     "outputs": [],
     "prompt_number": 9
    },
    {
     "cell_type": "markdown",
     "metadata": {},
     "source": [
      "The transmitter coordinates are : "
     ]
    },
    {
     "cell_type": "code",
     "collapsed": false,
     "input": [
      "C.tx"
     ],
     "language": "python",
     "metadata": {},
     "outputs": [],
     "prompt_number": 10
    },
    {
     "cell_type": "markdown",
     "metadata": {},
     "source": [
      "This can be modified on the flight, and the coverage is updated accordingly"
     ]
    },
    {
     "cell_type": "code",
     "collapsed": false,
     "input": [
      "C.fGHz=100\n",
      "C.tx = np.array((21,2))\n",
      "\n",
      "%timeit\n",
      "C.cover()\n",
      "C.showPower(polar='o',figsize=(10,10))\n",
      "C.showPower(polar='p',figsize=(10,10))"
     ],
     "language": "python",
     "metadata": {},
     "outputs": [],
     "prompt_number": 11
    },
    {
     "cell_type": "code",
     "collapsed": false,
     "input": [
      "from IPython.core.display import HTML\n",
      "\n",
      "def css_styling():\n",
      "    styles = open(\"../styles/custom.css\", \"r\").read()\n",
      "    return HTML(styles)\n",
      "css_styling()"
     ],
     "language": "python",
     "metadata": {},
     "outputs": [],
     "prompt_number": 12
    },
    {
     "cell_type": "markdown",
     "metadata": {},
     "source": [
      "The excess delay due to crossing the wall can also be evaluted."
     ]
    }
   ],
   "metadata": {}
  }
 ]
}
