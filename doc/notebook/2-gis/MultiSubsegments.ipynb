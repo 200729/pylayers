{
 "metadata": {
  "name": ""
 },
 "nbformat": 3,
 "nbformat_minor": 0,
 "worksheets": [
  {
   "cells": [
    {
     "cell_type": "markdown",
     "metadata": {},
     "source": [
      "## Multi sub-segments"
     ]
    },
    {
     "cell_type": "code",
     "collapsed": false,
     "input": [
      "from pylayers.simul.simulem import *\n",
      "from pylayers.antprop.rays import *\n",
      "from pylayers.gis.layout import *\n",
      "from pylayers.antprop.signature import *\n",
      "import pylayers.signal.bsignal as bs\n",
      "import pylayers.signal.waveform as wvf \n",
      "from pylayers.simul.simulem import *\n",
      "import matplotlib.pyplot as plt "
     ],
     "language": "python",
     "metadata": {},
     "outputs": [],
     "prompt_number": 1
    },
    {
     "cell_type": "code",
     "collapsed": false,
     "input": [
      "S = Simul()\n",
      "filestr = 'defstr3'\n",
      "S.layout(filestr+'.ini','matDB.ini','slabDB.ini')"
     ],
     "language": "python",
     "metadata": {},
     "outputs": [],
     "prompt_number": 2
    },
    {
     "cell_type": "markdown",
     "metadata": {},
     "source": [
      "The studied configuration is composed of a simple 2 rooms building separated by a subsegment which has a multi subsegment attribute. The attribute of the subsegment can be changed  with the method `chgmss` (change multisubsegment) "
     ]
    },
    {
     "cell_type": "code",
     "collapsed": false,
     "input": [
      "S.L.chgmss(1,ss_name=['AIR','AIR','WOOD'])\n",
      "S.L.build()"
     ],
     "language": "python",
     "metadata": {},
     "outputs": [],
     "prompt_number": 3
    },
    {
     "cell_type": "markdown",
     "metadata": {},
     "source": [
      "The $\\mathcal{G}_s$ graph dictionnary has the following structure"
     ]
    },
    {
     "cell_type": "code",
     "collapsed": false,
     "input": [
      "S.L.Gs.node"
     ],
     "language": "python",
     "metadata": {},
     "outputs": [],
     "prompt_number": 4
    },
    {
     "cell_type": "markdown",
     "metadata": {},
     "source": []
    },
    {
     "cell_type": "code",
     "collapsed": false,
     "input": [
      "S.info()"
     ],
     "language": "python",
     "metadata": {},
     "outputs": [],
     "prompt_number": 5
    },
    {
     "cell_type": "code",
     "collapsed": false,
     "input": [
      "S.tx.clear()\n",
      "S.rx.clear()\n",
      "\n",
      "# \n",
      "tx=np.array([759,1114,1.0])\n",
      "rx=np.array([767,1114,1.5])\n",
      "#\n",
      "S.tx.point(tx)\n",
      "S.rx.point(rx)\n",
      "# getting cycles from tx \n",
      "ctx = S.L.pt2cy(S.tx.position[:,0])\n",
      "# getting cycles from rx \n",
      "crx = S.L.pt2cy(S.rx.position[:,0])\n",
      "f,a = S.show()\n"
     ],
     "language": "python",
     "metadata": {},
     "outputs": [],
     "prompt_number": 6
    },
    {
     "cell_type": "code",
     "collapsed": false,
     "input": [
      "fGHz=np.arange(2,6,0.5)\n",
      "wav = wvf.Waveform(fcGHz=4,bandGHz=1.5)\n",
      "wav.show()"
     ],
     "language": "python",
     "metadata": {},
     "outputs": [],
     "prompt_number": 7
    },
    {
     "cell_type": "markdown",
     "metadata": {},
     "source": [
      "The different steps are :"
     ]
    },
    {
     "cell_type": "markdown",
     "metadata": {},
     "source": [
      "+ determine the signatures\n",
      "+ determine the 2d rays \n",
      "+ determine the 3d rays \n",
      "+ determine local basis on 3D rays\n",
      "+ fill interactions \n"
     ]
    },
    {
     "cell_type": "code",
     "collapsed": false,
     "input": [
      "Si = Signatures(S.L,ctx,crx)\n",
      "Si.run1(cutoff=5)\n",
      "r2d = Si.rays(tx,rx)\n",
      "r3d = r2d.to3D(S.L)\n",
      "r3d.locbas(S.L)\n",
      "r3d.fillinter(S.L)"
     ],
     "language": "python",
     "metadata": {},
     "outputs": [],
     "prompt_number": 8
    },
    {
     "cell_type": "heading",
     "level": 2,
     "metadata": {},
     "source": [
      "Channel variability due to different `Layout` constitutive materials"
     ]
    },
    {
     "cell_type": "code",
     "collapsed": false,
     "input": [
      "r3d"
     ],
     "language": "python",
     "metadata": {},
     "outputs": [],
     "prompt_number": 9
    },
    {
     "cell_type": "code",
     "collapsed": false,
     "input": [
      "layer = ['AIR','AIR','AIR']\n",
      "S.L.chgmss(1,ss_name=layer)\n",
      "S.L.Gs.node[1]['ss_name']=layer\n",
      "S.L.g2npy()\n",
      "# graph to numpy \n",
      "r3d.fillinter(S.L,append=True)\n",
      "Cair = r3d.eval(fGHz)\n",
      "scair = Cair.prop2tran(a='theta',b='theta')\n",
      "cirair = scair.applywavB(wav.sfg)\n",
      "#cirair = evcir(r3d,wav)\n",
      "fig,ax = cirair.plot(types=['v'],xmin=20,xmax=60)\n",
      "title = plt.title(str(layer))"
     ],
     "language": "python",
     "metadata": {},
     "outputs": [],
     "prompt_number": 10
    },
    {
     "cell_type": "code",
     "collapsed": false,
     "input": [
      "type(cirair)"
     ],
     "language": "python",
     "metadata": {},
     "outputs": [],
     "prompt_number": 11
    },
    {
     "cell_type": "code",
     "collapsed": false,
     "input": [
      "layer = ['PARTITION','PARTITION','PARTITION']\n",
      "S.L.chgmss(1,ss_name=layer)\n",
      "S.L.Gs.node[1]['ss_name']=layer\n",
      "S.L.g2npy()\n",
      "# graph to numpy \n",
      "r3d.fillinter(S.L,append=True)\n",
      "Cwood=r3d.eval(fGHz)\n",
      "scwood=Cwood.prop2tran(a='theta',b='theta')\n",
      "cirwood = scwood.applywavB(wav.sfg)\n",
      "cirwood.plot(types=['v'],xmin=20,xmax=60)\n",
      "plt.title(str(layer))"
     ],
     "language": "python",
     "metadata": {},
     "outputs": [],
     "prompt_number": 12
    },
    {
     "cell_type": "code",
     "collapsed": false,
     "input": [
      "layer = ['METAL','METAL','METAL']\n",
      "S.L.chgmss(1,ss_name=layer)\n",
      "S.L.Gs.node[1]['ss_name']=layer\n",
      "# graph to numpy \n",
      "S.L.g2npy()\n",
      "r3d.fillinter(S.L,append=True)\n",
      "Cmetal=r3d.eval(fGHz)\n",
      "scmetal=Cmetal.prop2tran(a='theta',b='theta')\n",
      "cirmetal = scmetal.applywavB(wav.sfg)\n",
      "cirmetal.plot(types=['v'],xmin=20,xmax=60)\n",
      "plt.title(str(layer))\n",
      "plt.show()"
     ],
     "language": "python",
     "metadata": {},
     "outputs": [],
     "prompt_number": 13
    },
    {
     "cell_type": "code",
     "collapsed": false,
     "input": [
      "#fig2=plt.figure()\n",
      "f,a=cirair.plot(types=['l20'],color='b')\n",
      "plt.axis([0,100,-120,-40])\n",
      "plt.title('A simple illustration of shadowing effect')\n",
      "plt.legend(['air'])\n",
      "f,a=cirwood.plot(types=['l20'],color='k')\n",
      "plt.axis([0,100,-120,-40])\n",
      "plt.legend(['wood'])\n",
      "f,a=cirmetal.plot(types=['l20'],color='r')\n",
      "plt.axis([0,100,-120,-40])\n",
      "plt.legend(['metal'])"
     ],
     "language": "python",
     "metadata": {},
     "outputs": [],
     "prompt_number": 14
    },
    {
     "cell_type": "code",
     "collapsed": false,
     "input": [
      "from IPython.core.display import HTML\n",
      "\n",
      "def css_styling():\n",
      "    styles = open(\"../styles/custom.css\", \"r\").read()\n",
      "    return HTML(styles)\n",
      "css_styling()"
     ],
     "language": "python",
     "metadata": {},
     "outputs": [],
     "prompt_number": 15
    }
   ],
   "metadata": {}
  }
 ]
}
