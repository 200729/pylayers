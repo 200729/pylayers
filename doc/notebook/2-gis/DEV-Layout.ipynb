{
 "metadata": {
  "name": ""
 },
 "nbformat": 3,
 "nbformat_minor": 0,
 "worksheets": [
  {
   "cells": [
    {
     "cell_type": "code",
     "collapsed": false,
     "input": [
      "from IPython.core.display import HTML\n",
      "\n",
      "def css_styling():\n",
      "    styles = open(\"../styles/custom.css\", \"r\").read()\n",
      "    return HTML(styles)\n",
      "css_styling()"
     ],
     "language": "python",
     "metadata": {},
     "outputs": [
      {
       "html": [
        "<style>\n",
        "    @font-face {\n",
        "        font-family: \"Computer Modern\";\n",
        "        src: url('http://mirrors.ctan.org/fonts/cm-unicode/fonts/otf/cmunss.otf');\n",
        "    }\n",
        "    div.cell{\n",
        "        width:800px;\n",
        "        margin-left:16% !important;\n",
        "        margin-right:auto;\n",
        "    }\n",
        "    h1 {\n",
        "        font-family: Helvetica, serif;\n",
        "    }\n",
        "    h4{\n",
        "        margin-top:12px;\n",
        "        margin-bottom: 3px;\n",
        "       }\n",
        "    div.text_cell_render{\n",
        "        font-family: Computer Modern, \"Helvetica Neue\", Arial, Helvetica, Geneva, sans-serif;\n",
        "        line-height: 145%;\n",
        "        font-size: 130%;\n",
        "        width:800px;\n",
        "        margin-left:auto;\n",
        "        margin-right:auto;\n",
        "    }\n",
        "    .CodeMirror{\n",
        "            font-family: \"Source Code Pro\", source-code-pro,Consolas, monospace;\n",
        "    }\n",
        "    .prompt{\n",
        "        display: None;\n",
        "    }\n",
        "    .text_cell_render h5 {\n",
        "        font-weight: 300;\n",
        "        font-size: 22pt;\n",
        "        color: #4057A1;\n",
        "        font-style: italic;\n",
        "        margin-bottom: .5em;\n",
        "        margin-top: 0.5em;\n",
        "        display: block;\n",
        "    }\n",
        "    \n",
        "    .warning{\n",
        "        color: rgb( 240, 20, 20 )\n",
        "        }  \n",
        "</style>\n",
        "<script>\n",
        "    MathJax.Hub.Config({\n",
        "                        TeX: {\n",
        "                           extensions: [\"AMSmath.js\"]\n",
        "                           },\n",
        "                tex2jax: {\n",
        "                    inlineMath: [ ['$','$'], [\"\\\\(\",\"\\\\)\"] ],\n",
        "                    displayMath: [ ['$$','$$'], [\"\\\\[\",\"\\\\]\"] ]\n",
        "                },\n",
        "                displayAlign: 'center', // Change this to 'center' to center equations.\n",
        "                \"HTML-CSS\": {\n",
        "                    styles: {'.MathJax_Display': {\"margin\": 4}}\n",
        "                }\n",
        "        });\n",
        "</script>"
       ],
       "output_type": "pyout",
       "prompt_number": 1,
       "text": [
        "<IPython.core.display.HTML at 0x432b410>"
       ]
      }
     ],
     "prompt_number": 1
    },
    {
     "cell_type": "code",
     "collapsed": false,
     "input": [
      "from pylayers.gis.layout import *\n",
      "from IPython.display import Image\n",
      "\n",
      "import os"
     ],
     "language": "python",
     "metadata": {},
     "outputs": [
      {
       "output_type": "display_data",
       "text": [
        "<matplotlib.figure.Figure at 0x5128c10>"
       ]
      }
     ],
     "prompt_number": 2
    },
    {
     "cell_type": "markdown",
     "metadata": {},
     "source": [
      "## Getting the list of all available Layouts : the `ls()` method"
     ]
    },
    {
     "cell_type": "markdown",
     "metadata": {},
     "source": [
      "The `ls()` method lists the layout file which are available in the `struc` directory of the current project."
     ]
    },
    {
     "cell_type": "code",
     "collapsed": false,
     "input": [
      "L=Layout()\n",
      "L.ls()"
     ],
     "language": "python",
     "metadata": {},
     "outputs": [
      {
       "output_type": "pyout",
       "prompt_number": 3,
       "text": [
        "['11D-E1.ini',\n",
        " 'DLR.ini',\n",
        " 'DLR2.ini',\n",
        " 'Lstruc.ini',\n",
        " 'TA-Office.ini',\n",
        " 'W2PTIN.ini',\n",
        " 'WHERE1.ini',\n",
        " 'defstr.ini',\n",
        " 'defstr3.ini',\n",
        " 'example.ini',\n",
        " 'klepal.ini',\n",
        " 'mokadem.ini',\n",
        " 'newfm.ini',\n",
        " 'w2ptin.ini',\n",
        " 'where1.ini']"
       ]
      }
     ],
     "prompt_number": 3
    },
    {
     "cell_type": "code",
     "collapsed": false,
     "input": [
      "L.ls(typ='osm')"
     ],
     "language": "python",
     "metadata": {},
     "outputs": [
      {
       "output_type": "pyout",
       "prompt_number": 4,
       "text": [
        "['DLR.osm', 'DLR2.osm', 'where1.osm']"
       ]
      }
     ],
     "prompt_number": 4
    },
    {
     "cell_type": "code",
     "collapsed": false,
     "input": [
      "L=Layout('DLR.osm')\n"
     ],
     "language": "python",
     "metadata": {},
     "outputs": [],
     "prompt_number": 5
    },
    {
     "cell_type": "code",
     "collapsed": false,
     "input": [
      "L.Gs.node[1]"
     ],
     "language": "python",
     "metadata": {},
     "outputs": [
      {
       "output_type": "pyout",
       "prompt_number": 6,
       "text": [
        "{'name': 'WALL',\n",
        " 'norm': array([-0.52106509, -0.85351694,  0.        ]),\n",
        " 'transition': False,\n",
        " 'z': ('0.0', '3.0')}"
       ]
      }
     ],
     "prompt_number": 6
    },
    {
     "cell_type": "code",
     "collapsed": false,
     "input": [
      "L.saveosm('DLR.osm')"
     ],
     "language": "python",
     "metadata": {},
     "outputs": [],
     "prompt_number": 7
    },
    {
     "cell_type": "code",
     "collapsed": false,
     "input": [
      "Image('../../../data/struc/images/TA-Office.png')"
     ],
     "language": "python",
     "metadata": {},
     "outputs": [
      {
       "output_type": "pyout",
       "png": "[encoded data removed]",
       "prompt_number": 8,
       "text": [
        "<IPython.core.display.Image at 0x5163350>"
       ]
      }
     ],
     "prompt_number": 8
    },
    {
     "cell_type": "code",
     "collapsed": false,
     "input": [
      "fig,ax=L.showGs()"
     ],
     "language": "python",
     "metadata": {},
     "outputs": [
      {
       "output_type": "display_data",
       "png": "[encoded data removed]",
       "text": [
        "<matplotlib.figure.Figure at 0x5163510>"
       ]
      }
     ],
     "prompt_number": 9
    },
    {
     "cell_type": "code",
     "collapsed": false,
     "input": [
      "L=Layout('TA-Office.ini')"
     ],
     "language": "python",
     "metadata": {},
     "outputs": [],
     "prompt_number": 10
    },
    {
     "cell_type": "code",
     "collapsed": false,
     "input": [
      "L.showGs()"
     ],
     "language": "python",
     "metadata": {},
     "outputs": [
      {
       "output_type": "pyout",
       "prompt_number": 11,
       "text": [
        "(<matplotlib.figure.Figure at 0x5f91950>,\n",
        " <matplotlib.axes.AxesSubplot at 0x5fa77d0>)"
       ]
      },
      {
       "output_type": "display_data",
       "png": "[encoded data removed]",
       "text": [
        "<matplotlib.figure.Figure at 0x5f91950>"
       ]
      }
     ],
     "prompt_number": 11
    },
    {
     "cell_type": "code",
     "collapsed": false,
     "input": [
      "L=Layout('11D-E1.ini')\n",
      "L"
     ],
     "language": "python",
     "metadata": {},
     "outputs": [
      {
       "output_type": "pyout",
       "prompt_number": 12,
       "text": [
        "\n",
        "----------------\n",
        "11D-E1.ini\n",
        "----------------\n",
        "\n",
        "Number of points  : 204\n",
        "Number of segments  : 190\n",
        "Number of sub segments  : 0\n",
        "Number of cycles  : 0\n",
        "Number of rooms  : 0\n",
        "degree 0 : []\n",
        "degree 1 : [-214 -213 -212 -211 -210 -206 -204 -202 -201 -200 -198 -197 -196 -195 -194\n",
        " -193 -191 -188 -184 -183 -182 -179 -178 -177 -175 -174 -172 -171 -167 -166\n",
        " -164 -162 -161 -156 -154 -152 -150 -148 -147 -145 -144 -142 -140 -139 -137\n",
        " -135 -134 -132 -130 -129 -128 -126 -124 -123 -122 -120 -118 -116 -115 -113\n",
        " -112 -110 -109 -107 -105 -103 -102 -100  -98  -96  -94  -92  -90  -88  -87\n",
        "  -85  -80  -78  -75  -73  -71  -70  -68  -67  -65  -63  -62  -59  -57  -55\n",
        "  -54  -52  -51  -49  -48  -46  -43  -41  -40  -39  -37  -36  -33  -31  -30\n",
        "  -28  -25  -24  -21  -20  -18  -15  -13  -12  -10   -9   -8   -7   -6   -5\n",
        "   -4   -3]\n",
        "degree 2 : 14\n",
        "degree 3 : 42\n",
        "degree 4 : [-190 -185 -181 -176 -170 -163 -149 -143 -138 -131 -127 -121 -114 -108 -101\n",
        "  -79  -72  -66  -53  -50  -38  -35  -22  -19  -14  -11]\n",
        "\n",
        "xrange :(-2.536, 73.369)\n",
        "yrange :(-0.096, 15.004)\n",
        "\n",
        "Useful dictionnaries\n",
        "----------------\n",
        "sl {slab name : slab dictionary}\n",
        "name :  {slab :seglist} \n",
        "\n",
        "Useful arrays\n",
        "----------------\n",
        "tsg : get segment index in Gs from tahe\n",
        "tgs : get segment index in tahe from Gs\n",
        "lsss : list of segments with sub-segment\n",
        "sla : associated slab name\n",
        "stridess : stride for adressing sub segment \n",
        "degree : degree of nodes \n"
       ]
      }
     ],
     "prompt_number": 12
    },
    {
     "cell_type": "code",
     "collapsed": false,
     "input": [
      "L.showG('s',figsize=(20,10))"
     ],
     "language": "python",
     "metadata": {},
     "outputs": [
      {
       "output_type": "pyout",
       "prompt_number": 13,
       "text": [
        "(<matplotlib.figure.Figure at 0x5fbe9d0>,\n",
        " <matplotlib.axes.AxesSubplot at 0x5fbcbd0>)"
       ]
      },
      {
       "output_type": "display_data",
       "png": "[encoded data removed]",
       "text": [
        "<matplotlib.figure.Figure at 0x5fbe9d0>"
       ]
      }
     ],
     "prompt_number": 13
    },
    {
     "cell_type": "code",
     "collapsed": false,
     "input": [
      "L=Layout('klepal.ini')\n",
      "L"
     ],
     "language": "python",
     "metadata": {},
     "outputs": [
      {
       "output_type": "stream",
       "stream": "stdout",
       "text": [
        "problem to construct geomfile\n"
       ]
      },
      {
       "output_type": "pyout",
       "prompt_number": 14,
       "text": [
        "\n",
        "----------------\n",
        "klepal.ini\n",
        "Image('/home/uguen/Bureau/P1/struc/images/IMG-Layout-Klepal.png')\n",
        "----------------\n",
        "\n",
        "Number of points  : 54\n",
        "Number of segments  : 67\n",
        "Number of sub segments  : 0\n",
        "Number of cycles  : 0\n",
        "Number of rooms  : 0\n",
        "degree 0 : [-85 -84 -79 -32]\n",
        "degree 1 : []\n",
        "degree 2 : 23\n",
        "degree 3 : 20\n",
        "degree 4 : [-69 -68 -67 -66 -65 -64 -42]\n",
        "\n",
        "xrange :(0.043999999999999997, 48.914999999999999)\n",
        "yrange :(0.14499999999999999, 14.205)\n",
        "\n",
        "Useful dictionnaries\n",
        "----------------\n",
        "sl {slab name : slab dictionary}\n",
        "name :  {slab :seglist} \n",
        "\n",
        "Useful arrays\n",
        "----------------\n",
        "tsg : get segment index in Gs from tahe\n",
        "tgs : get segment index in tahe from Gs\n",
        "lsss : list of segments with sub-segment\n",
        "sla : associated slab name\n",
        "stridess : stride for adressing sub segment \n",
        "degree : degree of nodes \n"
       ]
      }
     ],
     "prompt_number": 14
    },
    {
     "cell_type": "markdown",
     "metadata": {},
     "source": [
      "This Layout is still in construction"
     ]
    },
    {
     "cell_type": "code",
     "collapsed": false,
     "input": [
      "L.showGs()"
     ],
     "language": "python",
     "metadata": {},
     "outputs": [
      {
       "output_type": "pyout",
       "prompt_number": 15,
       "text": [
        "(<matplotlib.figure.Figure at 0x51c1050>,\n",
        " <matplotlib.axes.AxesSubplot at 0x6000950>)"
       ]
      },
      {
       "output_type": "display_data",
       "png": "[encoded data removed]",
       "text": [
        "<matplotlib.figure.Figure at 0x51c1050>"
       ]
      }
     ],
     "prompt_number": 15
    },
    {
     "cell_type": "code",
     "collapsed": false,
     "input": [
      "L=Layout('W2PTIN.ini')"
     ],
     "language": "python",
     "metadata": {},
     "outputs": [],
     "prompt_number": 16
    },
    {
     "cell_type": "code",
     "collapsed": false,
     "input": [
      " L.showGs()"
     ],
     "language": "python",
     "metadata": {},
     "outputs": [
      {
       "output_type": "pyout",
       "prompt_number": 17,
       "text": [
        "(<matplotlib.figure.Figure at 0x5813e10>,\n",
        " <matplotlib.axes.AxesSubplot at 0x51d9910>)"
       ]
      },
      {
       "output_type": "display_data",
       "png": "[encoded data removed]",
       "text": [
        "<matplotlib.figure.Figure at 0x5813e10>"
       ]
      }
     ],
     "prompt_number": 17
    },
    {
     "cell_type": "markdown",
     "metadata": {},
     "source": [
      "## The useful numpy arrays of the Layout"
     ]
    },
    {
     "cell_type": "markdown",
     "metadata": {},
     "source": [
      "## `pt` the array of points"
     ]
    },
    {
     "cell_type": "markdown",
     "metadata": {},
     "source": [
      "point coordinates are stored in two places : \n",
      "\n",
      "    L.Gs.pos : in a dictionnary form (key is the point negative index) \n",
      "    L.pt : in a numpy array"
     ]
    },
    {
     "cell_type": "code",
     "collapsed": false,
     "input": [
      "print np.shape(L.pt)\n",
      "print len(filter(lambda x: x<0,L.Gs.pos))"
     ],
     "language": "python",
     "metadata": {},
     "outputs": [
      {
       "output_type": "stream",
       "stream": "stdout",
       "text": [
        "(2, 185)\n",
        "185\n"
       ]
      }
     ],
     "prompt_number": 18
    },
    {
     "cell_type": "markdown",
     "metadata": {},
     "source": [
      "This dual storage is chosen (temporarily ? ) for computational efficiency reason. The \n",
      "priority goes to the graph and the numpy array is calculated at the end of the edition in the `Layout.g2npy`\n",
      "method (graph to numpy) which is in charge of the conversion. \n"
     ]
    },
    {
     "cell_type": "markdown",
     "metadata": {},
     "source": [
      "### tahe (tail-head)"
     ]
    },
    {
     "cell_type": "markdown",
     "metadata": {},
     "source": [
      "`tahe` is a $(2\\times N_{s})$  where $N_s$ denotes the number of segment. The first line  is the tail index of the segment $k$ and the second line is the head of the segment $k$. Where $k$ is the index of a given segment (starting in 0). "
     ]
    },
    {
     "cell_type": "markdown",
     "metadata": {},
     "source": [
      "## `tgs` : trancodage from graph indexing to numpy array indexing"
     ]
    },
    {
     "cell_type": "markdown",
     "metadata": {},
     "source": [
      "`tgs` is an arry with length $N_s$+1. The index 0 is not used because none segment has 0 as an index. "
     ]
    },
    {
     "cell_type": "code",
     "collapsed": false,
     "input": [
      "ns = 5\n",
      "utahe = L.tgs[ns]"
     ],
     "language": "python",
     "metadata": {},
     "outputs": [],
     "prompt_number": 19
    },
    {
     "cell_type": "code",
     "collapsed": false,
     "input": [
      "tahe =  L.tahe[:,utahe]"
     ],
     "language": "python",
     "metadata": {},
     "outputs": [],
     "prompt_number": 20
    },
    {
     "cell_type": "code",
     "collapsed": false,
     "input": [
      "ptail = L.pt[:,tahe[0]]\n",
      "phead = L.pt[:,tahe[1]]"
     ],
     "language": "python",
     "metadata": {},
     "outputs": [],
     "prompt_number": 21
    },
    {
     "cell_type": "code",
     "collapsed": false,
     "input": [
      "print ptail"
     ],
     "language": "python",
     "metadata": {},
     "outputs": [
      {
       "output_type": "stream",
       "stream": "stdout",
       "text": [
        "[ 29.785   6.822]\n"
       ]
      }
     ],
     "prompt_number": 22
    },
    {
     "cell_type": "code",
     "collapsed": false,
     "input": [
      "print phead "
     ],
     "language": "python",
     "metadata": {},
     "outputs": [
      {
       "output_type": "stream",
       "stream": "stdout",
       "text": [
        "[ 27.414   6.822]\n"
       ]
      }
     ],
     "prompt_number": 23
    },
    {
     "cell_type": "code",
     "collapsed": false,
     "input": [
      "L.Gs.node[5]"
     ],
     "language": "python",
     "metadata": {},
     "outputs": [
      {
       "output_type": "pyout",
       "prompt_number": 24,
       "text": [
        "{'connect': [-8, -139],\n",
        " 'name': 'PARTITION',\n",
        " 'ncycles': [35],\n",
        " 'norm': array([ 0., -1.,  0.]),\n",
        " 'transition': False,\n",
        " 'z': (0, 3.0)}"
       ]
      }
     ],
     "prompt_number": 24
    },
    {
     "cell_type": "code",
     "collapsed": false,
     "input": [
      "print L.Gs.pos[-8]\n",
      "print L.Gs.pos[-139]"
     ],
     "language": "python",
     "metadata": {},
     "outputs": [
      {
       "output_type": "stream",
       "stream": "stdout",
       "text": [
        "(29.785, 6.822)\n",
        "(27.414, 6.822)\n"
       ]
      }
     ],
     "prompt_number": 25
    },
    {
     "cell_type": "code",
     "collapsed": false,
     "input": [
      "aseg = np.array([4,7,134])"
     ],
     "language": "python",
     "metadata": {},
     "outputs": [],
     "prompt_number": 26
    },
    {
     "cell_type": "code",
     "collapsed": false,
     "input": [
      "print np.shape(aseg)"
     ],
     "language": "python",
     "metadata": {},
     "outputs": [
      {
       "output_type": "stream",
       "stream": "stdout",
       "text": [
        "(3,)\n"
       ]
      }
     ],
     "prompt_number": 27
    },
    {
     "cell_type": "code",
     "collapsed": false,
     "input": [
      "pt  = L.tahe[:,L.tgs[aseg]][0,:]\n",
      "ph = L.tahe[:,L.tgs[aseg]][1,:]\n",
      "pth = np.vstack((pt,ph))"
     ],
     "language": "python",
     "metadata": {},
     "outputs": [],
     "prompt_number": 28
    },
    {
     "cell_type": "code",
     "collapsed": false,
     "input": [
      "np.shape(pth)"
     ],
     "language": "python",
     "metadata": {},
     "outputs": [
      {
       "output_type": "pyout",
       "prompt_number": 29,
       "text": [
        "(2, 3)"
       ]
      }
     ],
     "prompt_number": 29
    },
    {
     "cell_type": "markdown",
     "metadata": {},
     "source": [
      "## `Layout.seg2pts` a function for getting points coordinates from segment number array"
     ]
    },
    {
     "cell_type": "code",
     "collapsed": false,
     "input": [
      "L.seg2pts(aseg)"
     ],
     "language": "python",
     "metadata": {},
     "outputs": [
      {
       "output_type": "pyout",
       "prompt_number": 30,
       "text": [
        "array([[ 29.785,   0.044,  22.538],\n",
        "       [  6.822,  23.078,   8.711],\n",
        "       [ 29.785,  -3.754,  20.326],\n",
        "       [  8.921,  23.078,   8.693]])"
       ]
      }
     ],
     "prompt_number": 30
    },
    {
     "cell_type": "code",
     "collapsed": false,
     "input": [
      "aseg = array(filter(lambda x: x>0,L.Gs.nodes()))\n",
      "pth = L.seg2pts(aseg)"
     ],
     "language": "python",
     "metadata": {},
     "outputs": [],
     "prompt_number": 31
    },
    {
     "cell_type": "code",
     "collapsed": false,
     "input": [
      "from pylayers.util.plotutil import displot"
     ],
     "language": "python",
     "metadata": {},
     "outputs": [],
     "prompt_number": 32
    },
    {
     "cell_type": "code",
     "collapsed": false,
     "input": [
      "displot(pth[0:2,:],pth[2:,:])"
     ],
     "language": "python",
     "metadata": {},
     "outputs": [
      {
       "output_type": "pyout",
       "prompt_number": 33,
       "text": [
        "(<matplotlib.figure.Figure at 0x5825390>,\n",
        " <matplotlib.axes.AxesSubplot at 0x6004890>)"
       ]
      },
      {
       "output_type": "display_data",
       "png": "[encoded data removed]",
       "text": [
        "<matplotlib.figure.Figure at 0x5825390>"
       ]
      }
     ],
     "prompt_number": 33
    }
   ],
   "metadata": {}
  }
 ]
}