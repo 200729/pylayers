{
 "metadata": {
  "name": ""
 },
 "nbformat": 3,
 "nbformat_minor": 0,
 "worksheets": [
  {
   "cells": [
    {
     "cell_type": "code",
     "collapsed": false,
     "input": [
      "from pylayers.gis.layout  import *\n",
      "import matplotlib.pyplot as plt\n",
      "import pylayers.util.geomutil as geu\n",
      "import networkx as nx\n",
      "import copy "
     ],
     "language": "python",
     "metadata": {},
     "outputs": [],
     "prompt_number": 1
    },
    {
     "cell_type": "markdown",
     "metadata": {},
     "source": [
      "Load WHERE1 Layout and build the graph Gt"
     ]
    },
    {
     "cell_type": "code",
     "collapsed": false,
     "input": [
      "L = Layout('WHERE1.ini')\n",
      "L.buildGt()"
     ],
     "language": "python",
     "metadata": {},
     "outputs": [],
     "prompt_number": 2
    },
    {
     "cell_type": "code",
     "collapsed": false,
     "input": [
      "fig = plt.figure(figsize=(20,20))\n",
      "L.showG('t',labels=True,font_size=14,fig=fig)\n",
      "plt.axis('off')"
     ],
     "language": "python",
     "metadata": {},
     "outputs": [],
     "prompt_number": 3
    },
    {
     "cell_type": "code",
     "collapsed": false,
     "input": [
      "L.buildGr()"
     ],
     "language": "python",
     "metadata": {},
     "outputs": [],
     "prompt_number": 4
    },
    {
     "cell_type": "code",
     "collapsed": false,
     "input": [
      "L.showG('r',figsize=(20,20))\n",
      "plt.axis('off')"
     ],
     "language": "python",
     "metadata": {},
     "outputs": [],
     "prompt_number": 5
    },
    {
     "cell_type": "markdown",
     "metadata": {},
     "source": [
      "Then the graph of visibility is built"
     ]
    },
    {
     "cell_type": "code",
     "collapsed": false,
     "input": [
      "L.Gt.node[22]['cycle']"
     ],
     "language": "python",
     "metadata": {},
     "outputs": [],
     "prompt_number": 6
    },
    {
     "cell_type": "markdown",
     "metadata": {},
     "source": [
      "Cycle 5 has 8 neighbors. Cycle 22 is only connected with one point.\n",
      "\n",
      "\n"
     ]
    },
    {
     "cell_type": "code",
     "collapsed": false,
     "input": [
      "fig = plt.figure(figsize=(20,20))\n",
      "ax = gca()\n",
      "L.showG('s',fig=fig,ax=ax,nodes=False)\n",
      "plt.axis('off')"
     ],
     "language": "python",
     "metadata": {},
     "outputs": [],
     "prompt_number": 7
    },
    {
     "cell_type": "code",
     "collapsed": false,
     "input": [
      "cy = 22\n",
      "p=L.Gt.node[cy]['polyg']\n",
      "q=L.Gt.node[cy]['cycle']"
     ],
     "language": "python",
     "metadata": {},
     "outputs": [],
     "prompt_number": 8
    },
    {
     "cell_type": "code",
     "collapsed": false,
     "input": [
      "figsize(5,5)\n",
      "plt.ion()\n",
      "p.buildGv(show=True,debug=True)\n",
      "plt.axis('off')"
     ],
     "language": "python",
     "metadata": {},
     "outputs": [],
     "prompt_number": 9
    },
    {
     "cell_type": "code",
     "collapsed": false,
     "input": [
      "L.buildGv()"
     ],
     "language": "python",
     "metadata": {},
     "outputs": [],
     "prompt_number": 10
    },
    {
     "cell_type": "code",
     "collapsed": false,
     "input": [
      "L.showG('v',figsize=(20,20),labels=True,font_size=12)\n",
      "plt.axis('off')"
     ],
     "language": "python",
     "metadata": {},
     "outputs": [],
     "prompt_number": 11
    },
    {
     "cell_type": "markdown",
     "metadata": {},
     "source": [
      "The real degree of a node is the degree of the node in the graph minus the number of air wall connected to this node\n"
     ]
    },
    {
     "cell_type": "code",
     "collapsed": false,
     "input": [
      "nx.degree(L.Gs,-272)"
     ],
     "language": "python",
     "metadata": {},
     "outputs": [],
     "prompt_number": 12
    },
    {
     "cell_type": "code",
     "collapsed": false,
     "input": [
      "nodes = L.Gs.nodes()\n",
      "useg  = filter(lambda x : x>0,nodes)\n",
      "upnt  = filter(lambda x : x<0,nodes)\n",
      "degseg  = map(lambda x : nx.degree(L.Gs,x),useg)\n",
      "assert(np.all(array(degseg)==2)) # all segments have degree 2\n",
      "degpnt = map(lambda x : nx.degree(L.Gs,x),upnt)\n",
      "num1 = filter(lambda x : degpnt[x]==1,range(len(degpnt)))\n",
      "npt1 = map(lambda x : upnt[x],num1)"
     ],
     "language": "python",
     "metadata": {},
     "outputs": [],
     "prompt_number": 13
    },
    {
     "cell_type": "code",
     "collapsed": false,
     "input": [
      "L.showG('s',figsize=(20,20),nodes=False)\n",
      "plt.axis('off')\n",
      "plot(L.pt[0,L.tgs[npt1]],L.pt[1,L.tgs[npt1]],'or')"
     ],
     "language": "python",
     "metadata": {},
     "outputs": [],
     "prompt_number": 17
    },
    {
     "cell_type": "code",
     "collapsed": false,
     "input": [
      "npt1"
     ],
     "language": "python",
     "metadata": {},
     "outputs": [],
     "prompt_number": 18
    },
    {
     "cell_type": "code",
     "collapsed": false,
     "input": [
      "nx.degree(L.Gs,-236)"
     ],
     "language": "python",
     "metadata": {},
     "outputs": [],
     "prompt_number": 19
    }
   ],
   "metadata": {}
  }
 ]
}
