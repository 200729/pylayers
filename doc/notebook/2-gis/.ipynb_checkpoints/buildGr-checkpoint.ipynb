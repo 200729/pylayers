{
 "metadata": {
  "name": ""
 },
 "nbformat": 3,
 "nbformat_minor": 0,
 "worksheets": [
  {
   "cells": [
    {
     "cell_type": "markdown",
     "metadata": {},
     "source": [
      "## Building the graph of rooms"
     ]
    },
    {
     "cell_type": "code",
     "collapsed": false,
     "input": [
      "from pylayers.gis.layout  import *\n",
      "import matplotlib.pyplot as plt\n",
      "import pylayers.util.geomutil as geu\n",
      "import networkx as nx\n",
      "import copy "
     ],
     "language": "python",
     "metadata": {},
     "outputs": [],
     "prompt_number": 1
    },
    {
     "cell_type": "markdown",
     "metadata": {},
     "source": [
      "Load WHERE1 Layout and build the graph Gt"
     ]
    },
    {
     "cell_type": "code",
     "collapsed": false,
     "input": [
      "L = Layout('WHERE1.ini')\n",
      "L.buildGt()"
     ],
     "language": "python",
     "metadata": {},
     "outputs": [],
     "prompt_number": 2
    },
    {
     "cell_type": "code",
     "collapsed": false,
     "input": [
      "fig = plt.figure(figsize=(20,20))\n",
      "L.showG('t',labels=True,font_size=14,fig=fig)\n",
      "plt.axis('off')"
     ],
     "language": "python",
     "metadata": {},
     "outputs": [],
     "prompt_number": 3
    },
    {
     "cell_type": "code",
     "collapsed": false,
     "input": [
      "L.Gt.neighbors(5)"
     ],
     "language": "python",
     "metadata": {},
     "outputs": [],
     "prompt_number": 4
    },
    {
     "cell_type": "code",
     "collapsed": false,
     "input": [
      "L.Gt.edge[5]"
     ],
     "language": "python",
     "metadata": {},
     "outputs": [],
     "prompt_number": 5
    },
    {
     "cell_type": "markdown",
     "metadata": {},
     "source": [
      "Cycle 5 has 8 neighbors. Cycle 22 is only connected with one point.\n",
      "\n",
      "\n"
     ]
    },
    {
     "cell_type": "code",
     "collapsed": false,
     "input": [
      "Ga = nx.Graph()\n",
      "Ga.pos ={}\n",
      "for k in L.Gt.edge:\n",
      "    dk = L.Gt.edge[k]\n",
      "    for cy in dk:\n",
      "        try:\n",
      "            segs = dk[cy]['segment']\n",
      "        except:\n",
      "            segs=[]\n",
      "        for s in segs:\n",
      "            if L.Gs.node[s]['name']=='AIR':\n",
      "                if k not in Ga.node:\n",
      "                    Ga.add_node(k)\n",
      "                    Ga.pos[k]=L.Gt.pos[k]\n",
      "                if cy not in Ga.node:\n",
      "                    Ga.add_node(cy)\n",
      "                    Ga.pos[cy]=L.Gt.pos[cy]\n",
      "                Ga.add_edge(k,cy) \n",
      "                "
     ],
     "language": "python",
     "metadata": {},
     "outputs": [],
     "prompt_number": 6
    },
    {
     "cell_type": "code",
     "collapsed": false,
     "input": [
      "fig = plt.figure(figsize=(20,20))\n",
      "L.showG('s',fig=fig)\n",
      "plt.axis('off')\n",
      "nx.draw(Ga,Ga.pos)"
     ],
     "language": "python",
     "metadata": {},
     "outputs": [],
     "prompt_number": 7
    },
    {
     "cell_type": "code",
     "collapsed": false,
     "input": [
      "connected =nx.connected_components(Ga)\n",
      "print connected"
     ],
     "language": "python",
     "metadata": {},
     "outputs": [],
     "prompt_number": 8
    },
    {
     "cell_type": "code",
     "collapsed": false,
     "input": [
      "H=Ga.subgraph([44,45,39])\n",
      "nx.dfs_successors(H)   "
     ],
     "language": "python",
     "metadata": {},
     "outputs": [],
     "prompt_number": 9
    },
    {
     "cell_type": "code",
     "collapsed": false,
     "input": [
      "Gr = copy.deepcopy(L.Gt)"
     ],
     "language": "python",
     "metadata": {},
     "outputs": [],
     "prompt_number": 10
    },
    {
     "cell_type": "code",
     "collapsed": false,
     "input": [
      "Gr.node[5]['cycle']"
     ],
     "language": "python",
     "metadata": {},
     "outputs": [],
     "prompt_number": 11
    },
    {
     "cell_type": "code",
     "collapsed": false,
     "input": [
      "Gr = copy.deepcopy(L.Gt)\n",
      "for licy in connected:\n",
      "    H = Ga.subgraph(licy)\n",
      "    dsucc = nx.dfs_successors(H) \n",
      "    for ncy in dsucc:\n",
      "        for cy in dsucc[ncy]:\n",
      "            neigh = nx.neighbors(Gr,cy)\n",
      "            Gr.node[ncy]['cycle']+=Gr.node[cy]['cycle']\n",
      "            for k in neigh:\n",
      "                Gr.add_edge(ncy,k)       \n",
      "            Gr.remove_node(cy)\n",
      "        Gr.pos[ncy]=tuple(Gr.node[ncy]['cycle'].g)   \n",
      "        "
     ],
     "language": "python",
     "metadata": {},
     "outputs": [],
     "prompt_number": 12
    },
    {
     "cell_type": "code",
     "collapsed": false,
     "input": [
      "fig = plt.figure(figsize=(20,20))\n",
      "ax = gca()\n",
      "L.showG('s',fig=fig,ax=ax,nodes=False)\n",
      "plt.axis('off')\n",
      "nx.draw(Gr,Gr.pos)"
     ],
     "language": "python",
     "metadata": {},
     "outputs": [],
     "prompt_number": 36
    },
    {
     "cell_type": "code",
     "collapsed": false,
     "input": [
      "ltrans=L.listtransition"
     ],
     "language": "python",
     "metadata": {},
     "outputs": [],
     "prompt_number": 37
    },
    {
     "cell_type": "code",
     "collapsed": false,
     "input": [
      "a = Gr.node[78]['cycle']"
     ],
     "language": "python",
     "metadata": {},
     "outputs": [],
     "prompt_number": 38
    },
    {
     "cell_type": "code",
     "collapsed": false,
     "input": [
      "a.show()"
     ],
     "language": "python",
     "metadata": {},
     "outputs": [],
     "prompt_number": 39
    },
    {
     "cell_type": "code",
     "collapsed": false,
     "input": [
      "ldoors = filter(lambda x:L.Gs.node[x]['name']<>'AIR',ltrans)"
     ],
     "language": "python",
     "metadata": {},
     "outputs": [],
     "prompt_number": 40
    },
    {
     "cell_type": "markdown",
     "metadata": {},
     "source": [
      "Destroy cycles which have no doors"
     ]
    },
    {
     "cell_type": "code",
     "collapsed": false,
     "input": [
      "keys = Gr.node.keys()\n",
      "for cy in keys:\n",
      "    lseg = Gr.node[cy]['cycle'].cycle\n",
      "    hasdoor = filter(lambda n : n in ldoors,lseg)\n",
      "    if len(hasdoor)>0:\n",
      "        pass\n",
      "    else:\n",
      "        Gr.remove_node(cy)"
     ],
     "language": "python",
     "metadata": {},
     "outputs": [],
     "prompt_number": 41
    },
    {
     "cell_type": "code",
     "collapsed": false,
     "input": [
      "fig = plt.figure(figsize=(20,20))\n",
      "ax = gca()\n",
      "L.showG('s',fig=fig,ax=ax,nodes=False)\n",
      "plt.axis('off')\n",
      "nx.draw(Gr,Gr.pos)"
     ],
     "language": "python",
     "metadata": {},
     "outputs": [],
     "prompt_number": 42
    },
    {
     "cell_type": "code",
     "collapsed": false,
     "input": [
      "from IPython.core.display import HTML\n",
      "\n",
      "def css_styling():\n",
      "    styles = open(\"../styles/custom.css\", \"r\").read()\n",
      "    return HTML(styles)\n",
      "css_styling()"
     ],
     "language": "python",
     "metadata": {},
     "outputs": [],
     "prompt_number": 43
    }
   ],
   "metadata": {}
  }
 ]
}
