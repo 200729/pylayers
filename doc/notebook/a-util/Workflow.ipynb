{
 "metadata": {
  "name": "Worflow"
 },
 "nbformat": 3,
 "nbformat_minor": 0,
 "worksheets": [
  {
   "cells": [
    {
     "cell_type": "heading",
     "level": 1,
     "metadata": {},
     "source": [
      "Workflow for integrating notebook in other format"
     ]
    },
    {
     "cell_type": "heading",
     "level": 2,
     "metadata": {},
     "source": [
      "Titre 2"
     ]
    },
    {
     "cell_type": "heading",
     "level": 3,
     "metadata": {},
     "source": [
      "Titre 3 "
     ]
    },
    {
     "cell_type": "heading",
     "level": 4,
     "metadata": {},
     "source": [
      "Titre 4"
     ]
    },
    {
     "cell_type": "code",
     "collapsed": false,
     "input": [
      "from numpy import *\n",
      "from matplotlib.pyplot import *\n",
      "x = arange(10)\n",
      "plot(x)\n",
      "show()"
     ],
     "language": "python",
     "metadata": {},
     "outputs": [],
     "prompt_number": 1
    },
    {
     "cell_type": "markdown",
     "metadata": {},
     "source": [
      "nbconvert Workflow.ipynb -o latex \n",
      "\n",
      "padflatex Workflow.tex"
     ]
    },
    {
     "cell_type": "markdown",
     "metadata": {},
     "source": [
      "This is a latex equation $\\sqrt{x}$"
     ]
    }
   ],
   "metadata": {}
  }
 ]
}
