{
 "metadata": {
  "name": ""
 },
 "nbformat": 3,
 "nbformat_minor": 0,
 "worksheets": [
  {
   "cells": [
    {
     "cell_type": "markdown",
     "metadata": {},
     "source": [
      "# Introduction"
     ]
    },
    {
     "cell_type": "markdown",
     "metadata": {},
     "source": [
      "## What is PyLayers about ? "
     ]
    },
    {
     "cell_type": "markdown",
     "metadata": {},
     "source": [
      "The scientific face of the Python world is vibrant nowadays and the collection of all recentlty developped tools is facilitating studies of advanced problems. Ipython,numpy,numba,scipy,matplotlib,shapely,networkx,pandas,scikit-image,scikit-learn,mayavi,vispy,simpy,sympy,.. \n",
      "Each one of these projects is terrific, the collection of them is changing the world ( ...not only of data science ). \n",
      "\n",
      "PyLayers is an ongoing endeavour to build a versatile, intuitive and efficient open-source platform for cross layer studies, deeply rooted in the physics of wireless propagation. \n",
      "\n",
      "In the short term, the major targeted applications are in the field of wireless indoor radio localization and navigation. However, it is anticipated that provided a sufficient amount of contributors (students, experts,...) hopefully may join, the evolution of the PyLayers platform could also help for tackling other related problems as designing energy efficient wireless 5G networks, smart grids and cities in a cooperative, parcimonious and resiliant way.   \n",
      "\n",
      "\n",
      "PyLayers owes immensly to two former FP7 European Projects brillantly led by Ronald Raulefs from DLR (WHERE1 and [WHERE2](http://www.kn-s.dlr.de/where2/) ) and to the amazing expertise and frienship which was there concentrated on the topic of Indoor localization between  2008 and 2013. Most of the examples provided and currently studied comes out from those 2 projects. \n",
      "\n",
      "PyLayers is currently developped in the frame of the CORMORAN French ANR project. \n",
      "\n",
      "An other purpose of PyLayers is engineering education. So, if you are a curious student who can see the fun of surfing radio waves with python, please have a look inside and join !\n",
      " \n",
      "Bernard Uguen \n",
      "\n",
      "Professor @ University of Rennes, ESIR, \n",
      "IETR CNRS, Brittany Region, France"
     ]
    },
    {
     "cell_type": "markdown",
     "metadata": {},
     "source": [
      "## PyLayers Keywords"
     ]
    },
    {
     "cell_type": "markdown",
     "metadata": {},
     "source": [
      "+ Python scientific framework\n",
      "+ Ray Tracing \n",
      "+ Electromagnetism\n",
      "+ Indoor Radio Propagation Modelling \n",
      "+ Impulse Radio Ultra Wide Band IR-UWB (IEEE 802.15.4a)\n",
      "+ Efficient handling of antenna patterns for UWB scenario\n",
      "+ Indoor Localisation \n",
      "+ Exploiting Multi Path Components (MPC) for positioning \n",
      "+ Cooperative Positioning\n",
      "+ Robust Geometric Positioning Algorithm (RGPA)\n",
      "+ Radio channel modeling (site specific and statistical)\n",
      "+ Channel Sounding \n",
      "+ MIMO channel\n",
      "+ PHY/MAC/NET\n",
      "+ Wireless Body Area Network (IEEE 802.15.6)\n",
      "+ Human mobility simulation \n",
      "+ Motion capture "
     ]
    },
    {
     "cell_type": "markdown",
     "metadata": {},
     "source": [
      "## Warnings"
     ]
    },
    {
     "cell_type": "markdown",
     "metadata": {},
     "source": [
      "This documentation is generated automatically with sphinx from the PyLayers source code files on github (https://github.com/pylayers/pylayers).\n",
      "It contains at that stage a significant number of typos, wrong english expressions, and unsufficiently explained features which remain in the source code. \n",
      "\n",
      "The collection of notebooks in the doc directory is used as a complementary battery of tests using \n",
      "[runipy](https://pypi.python.org/pypi/runipy), it is used to track regressions and unworking functionalities.  \n",
      "\n",
      "It is expected that the magic of `git` (an other gi(f)t from Linus Torvalds) will gradually improve this document and the code at the same time.\n",
      "\n",
      "Nothing here is warantee, nothing should be taken for granted. This documention is by far not sufficiently peer reviewed at that time to have reach a sufficient level of quality. It is expected that there are engineers and scientists out there, interested by the PyLayers endeavour and are curious to have a try, to provide feed back and to contribute to the necessary continuous improvement of the PyLayers platform. \n",
      "\n",
      "So, if you see any wrong assertion or have seen any thing that could be improved, please do not hesitate to provide a feed back on the [issues page of the project](https://github.com/pylayers/pylayers/issues?milestone=1&state=open)\n",
      "\n",
      "If you find any bug, please keep preciously track of it in a notebook and `gist` it and send the link on the issues page. \n",
      "\n",
      "PyLayers's developers are not experts in computer science, sorry for that, but they are keen to learn more simple and efficient (== pythonic) manners to do things. So any feedback from advanced Python users is more than welcome for any suggestions of improvement about the source code.   \n",
      "\n",
      "If you have any interest to be involved and participate to the `PyLayers` journey, the best way is to open a `github` account and to fork the project on your own machine.  Use PyLayers for your own needs, and if you wish provide feedback to the project with a **pull request**.\n"
     ]
    },
    {
     "cell_type": "markdown",
     "metadata": {},
     "source": [
      "## How to install PyLayers ? "
     ]
    },
    {
     "cell_type": "markdown",
     "metadata": {},
     "source": [
      "PyLayers is developped on Linux platform. If you are working on a Windows platform and you are not familiar with the Python ecosystem, a good idea is to install first [Anaconda](https://store.continuum.io/cshop/anaconda/). It provides you most of the required dependencies.  \n",
      "\n",
      "### Dependencies \n",
      "\n",
      "\n",
      "    Before to install pylayers you need to install the following dependencies \n",
      "\n",
      "\n",
      "    numpy>=1.6.1\n",
      "    scipy>=0.10.1\n",
      "    networkx>=1.7\n",
      "    matplotlib>=1.1.0\n",
      "    shapely>=1.2.14\n",
      "    descartes>=1.0\n",
      "    SimPy>=2.2\n",
      "    PIL>=1.1.5\n",
      "    bitstring>=3.0.2\n",
      "    pyintervall>=1.0\n",
      "    pandas >=0.12.0\n",
      "\n",
      "    The installation of matplotlib basemap requires installation of libraries GEOS\n",
      "    and PROJ4. The installation procedure is well described in\n",
      "\n",
      "http://matplotlib.org/basemap/users/installing.html\n",
      "\n",
      "    For supporting the osm format PyLayers is relying on imposm. The installation \n",
      "    of imposm is not straighforward it requires to install first Tokyo-Cabinet\n",
      "    and Google-Protobuf library. PyLayers can work without imposm you need to \n",
      "    comment the only import to the module in pylayers/gis/osmparser.py. \n",
      "\n",
      "http://imposm.org/docs/imposm/latest/install.html#id1\n",
      "\n",
      "    Most of these dependencies are handled in the setup.py script.\n",
      "    \n",
      "    python setup.py install\n",
      "    \n",
      "   \n",
      "### Setting of environment variables \\$BASENAME and \\$PYLAYERS\n",
      "   \n",
      "    It is required to define the two enviroment variables $PYLAYERS and $BASENAME\n",
      "    \n",
      "    in your .bashrc add those 2 lines \n",
      "\n",
      "    #export PYLAYERS = <path to the directory where pylayers is installed>\n",
      "    \n",
      "    for example if you install PyLyers in your home directory \n",
      "    \n",
      "    export PYLAYERS=~/pylayers\n",
      "    export BASENAME=~/plproject\n",
      "\n",
      "\n",
      "### Installing PyInterval\n",
      "\n",
      "\n",
      "    get crlibm library first \n",
      "    http://lipforge.ens-lyon.fr/frs/?group_id=8&release_id=123\n",
      "    \n",
      "    if problem for compilation add \n",
      "    CPPFLAGS= -fPIC in scs_lib/Makefile\n",
      "    \n",
      "    sudo easy_install pyinterval\n",
      "\n",
      "### Testing\n",
      "\n",
      "\n",
      "make test-code"
     ]
    }
   ],
   "metadata": {}
  }
 ]
}
