{
 "metadata": {
  "name": ""
 },
 "nbformat": 3,
 "nbformat_minor": 0,
 "worksheets": [
  {
   "cells": [
    {
     "cell_type": "markdown",
     "metadata": {},
     "source": [
      "## What PyLayers is about ? "
     ]
    },
    {
     "cell_type": "markdown",
     "metadata": {},
     "source": [
      "+ Indoor Radio Propagation Modelling \n",
      "+ IR UWB (IEEE 802.15.4a and IEEE 802.15.6)\n",
      "+ Wireless Body Area Network \n",
      "+ Indoor Localisation \n",
      "+ Human mobility simulation \n",
      "\n",
      "+ Cooperative Positioning "
     ]
    },
    {
     "cell_type": "markdown",
     "metadata": {},
     "source": [
      "## How to install PyLayers ? "
     ]
    },
    {
     "cell_type": "markdown",
     "metadata": {},
     "source": [
      "If you are working on a Windows platform and you are not familiar with the Python ecosystem, a good idea is to install \n",
      "first [Anaconda](https://store.continuum.io/cshop/anaconda/). It will provide you most of the required dependencies.  \n",
      "\n",
      "### Dependencies \n",
      "\n",
      "\n",
      "    Before to install pylayers you need to install the following dependencies \n",
      "\n",
      "\n",
      "    numpy>=1.6.1\n",
      "    scipy>=0.10.1\n",
      "    networkx>=1.7\n",
      "    matplotlib>=1.1.0\n",
      "    shapely>=1.2.14\n",
      "    descartes>=1.0\n",
      "    SimPy>=2.2\n",
      "    PIL>=1.1.5\n",
      "    bitstring>=3.0.2\n",
      "    pyintervall>=1.0\n",
      "    pandas >=0.12.0\n",
      "\n",
      "    The installation of matplotlib basemap requires installation of libraries GEOS\n",
      "    and PROJ4. The installation procedure is well described in\n",
      "\n",
      "http://matplotlib.org/basemap/users/installing.html\n",
      "\n",
      "    For supporting the osm format PyLayers is relying on imposm. The installation \n",
      "    of imposm is not straighforward it requires to install first Tokyo-Cabinet\n",
      "    and Google-Protobuf library. PyLayers can work without imposm you need to \n",
      "    comment the only import to the module in pylayers/gis/osmparser.py. \n",
      "\n",
      "http://imposm.org/docs/imposm/latest/install.html#id1\n",
      "\n",
      "    Most of these dependencies are handled in the setup.py script.\n",
      "    \n",
      "    python setup.py install\n",
      "    \n",
      "   \n",
      "### Setting of environment variables \\$BASENAME and \\$PYLAYERS\n",
      "   \n",
      "    It is required to define the two enviroment variables $PYLAYERS and $BASENAME\n",
      "    \n",
      "    in your .bashrc add those 2 lines \n",
      "\n",
      "    #export PYLAYERS = <path to the directory where pylayers is installed>\n",
      "    \n",
      "    for example if you install PyLyers in your home directory \n",
      "    \n",
      "    export PYLAYERS=~/pylayers\n",
      "    export BASENAME=~/plproject\n",
      "\n",
      "\n",
      "### Installing PyInterval\n",
      "\n",
      "\n",
      "    get crlibm library first \n",
      "    http://lipforge.ens-lyon.fr/frs/?group_id=8&release_id=123\n",
      "    \n",
      "    if problem for compilation add \n",
      "    CPPFLAGS= -fPIC in scs_lib/Makefile\n",
      "    \n",
      "    sudo easy_install pyinterval\n",
      "\n",
      "### Testing\n",
      "\n",
      "\n",
      "make test-code"
     ]
    }
   ],
   "metadata": {}
  }
 ]
}
