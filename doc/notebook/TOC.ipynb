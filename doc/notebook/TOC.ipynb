{
 "metadata": {
  "name": ""
 },
 "nbformat": 3,
 "nbformat_minor": 0,
 "worksheets": [
  {
   "cells": [
    {
     "cell_type": "code",
     "collapsed": false,
     "input": [
      "!find . -name \"*.ipynb\""
     ],
     "language": "python",
     "metadata": {},
     "outputs": [
      {
       "output_type": "stream",
       "stream": "stdout",
       "text": [
        "./2-gis/DOC-LayoutEditor.ipynb\r\n",
        "./2-gis/.ipynb_checkpoints/MultiSubsegments-checkpoint.ipynb\r\n",
        "./2-gis/.ipynb_checkpoints/buildGr-checkpoint.ipynb\r\n",
        "./2-gis/.ipynb_checkpoints/DOC-LayoutEditor-checkpoint.ipynb\r\n",
        "./2-gis/.ipynb_checkpoints/DEV-Layout-checkpoint.ipynb\r\n",
        "./2-gis/.ipynb_checkpoints/buildGi-checkpoint.ipynb\r\n",
        "./2-gis/DEV-Layout.ipynb\r\n",
        "./2-gis/MultiSubsegments.ipynb\r\n",
        "./4-signal/UwbWaveforms.ipynb\r\n",
        "./4-signal/.ipynb_checkpoints/UwbWaveforms-checkpoint.ipynb\r\n",
        "./4-signal/DEV-Bsignal.ipynb\r\n",
        "./a-util/DOC-geomutil.ipynb\r\n",
        "./a-util/Workflow.ipynb\r\n",
        "./3-antprop/Signatures.ipynb\r\n",
        "./3-antprop/Coverage.ipynb\r\n",
        "./3-antprop/.ipynb_checkpoints/SlabsAndMaterials-checkpoint.ipynb\r\n",
        "./3-antprop/.ipynb_checkpoints/RayTracingExternal-checkpoint.ipynb\r\n",
        "./3-antprop/.ipynb_checkpoints/DEV-Slab-checkpoint.ipynb\r\n",
        "./3-antprop/.ipynb_checkpoints/Antennas-checkpoint.ipynb\r\n",
        "./3-antprop/SlabsAndMaterials.ipynb\r\n",
        "./3-antprop/RayTracingExternal.ipynb\r\n",
        "./3-antprop/MultiwallModel.ipynb\r\n",
        "./3-antprop/Antennas.ipynb\r\n",
        "./1-introduction/.ipynb_checkpoints/Introduction-checkpoint.ipynb\r\n",
        "./1-introduction/Introduction.ipynb\r\n",
        "./TOC.ipynb\r\n",
        "./7-location/DOC-RGPA.ipynb\r\n",
        "./7-location/DOC-Localization.ipynb\r\n",
        "./7-location/DEV-Algebraic.ipynb\r\n",
        "./8-simul/DOC-RayTracing2.ipynb\r\n",
        "./8-simul/DEV_PyRT1.ipynb\r\n",
        "./8-simul/DEV-RayTracingW1.ipynb\r\n",
        "./8-simul/DOC-simulnet.ipynb\r\n",
        "./8-simul/DEV-W2-DLR.ipynb\r\n",
        "./8-simul/.ipynb_checkpoints/DEV_PyRT1-checkpoint.ipynb\r\n",
        "./8-simul/DOC-RayTracing.ipynb\r\n",
        "./5-mobility/ConfigFiles.ipynb\r\n",
        "./5-mobility/.ipynb_checkpoints/DEV-BODY-checkpoint.ipynb\r\n",
        "./5-mobility/Trajectory.ipynb\r\n",
        "./5-mobility/Mobility.ipynb\r\n"
       ]
      }
     ],
     "prompt_number": 1
    },
    {
     "cell_type": "markdown",
     "metadata": {},
     "source": [
      "[Notebook](./2-gis/DOC-LayoutEditor.ipynb)"
     ]
    },
    {
     "cell_type": "markdown",
     "metadata": {},
     "source": []
    }
   ],
   "metadata": {}
  }
 ]
}