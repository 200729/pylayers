{
 "metadata": {
  "name": ""
 },
 "nbformat": 3,
 "nbformat_minor": 0,
 "worksheets": [
  {
   "cells": [
    {
     "cell_type": "heading",
     "level": 2,
     "metadata": {},
     "source": [
      "Notebooks"
     ]
    },
    {
     "cell_type": "markdown",
     "metadata": {},
     "source": [
      "[Introduction](./1-introduction/Introduction.ipynb)"
     ]
    },
    {
     "cell_type": "heading",
     "level": 2,
     "metadata": {},
     "source": [
      "2-GIS\n"
     ]
    },
    {
     "cell_type": "markdown",
     "metadata": {},
     "source": [
      "[DEV-Layout](./2-gis/DEV-Layout.ipynb)\n",
      "\n",
      "[DOC-Layout editor](./2-gis/DOC-LayoutEditor.ipynb)\n",
      "\n",
      "[MultiSegments](./2-gis/MultiSubsegments.ipynb)\n"
     ]
    },
    {
     "cell_type": "heading",
     "level": 2,
     "metadata": {},
     "source": [
      "3-Antenna and propagation"
     ]
    },
    {
     "cell_type": "markdown",
     "metadata": {},
     "source": [
      "[Signatures](./3-antprop/Signatures.ipynb)\n",
      "\n",
      "[Coverage](./3-antprop/Coverage.ipynb)\n",
      "\n",
      "[MultiWall Model](./3-antprop/MultiwallModel.ipynb)\n",
      "\n",
      "[Antenna](./3-antprop/Antennas.ipynb)\n",
      "\n",
      "[Slab and Materials](./3-antprop/SlabsAndMaterials.ipynb)"
     ]
    },
    {
     "cell_type": "heading",
     "level": 2,
     "metadata": {},
     "source": [
      "4-Signal"
     ]
    },
    {
     "cell_type": "markdown",
     "metadata": {},
     "source": [
      "[UWB waveforms](./4-signal/UwbWaveforms.ipynb)"
     ]
    },
    {
     "cell_type": "heading",
     "level": 2,
     "metadata": {},
     "source": [
      "5-Mobility\n"
     ]
    },
    {
     "cell_type": "markdown",
     "metadata": {},
     "source": [
      "[Mobility](./5-mobility/Mobility.ipynb)\n",
      "\n",
      "[Config files](./5-mobility/ConfigFiles.ipynb)\n",
      "\n",
      "[Trajectory](./5-mobility/Trajectory.ipynb)"
     ]
    },
    {
     "cell_type": "heading",
     "level": 2,
     "metadata": {},
     "source": [
      "7-Location algorithms"
     ]
    },
    {
     "cell_type": "markdown",
     "metadata": {},
     "source": [
      "[DOC-RGPA](./7-location/DOC-RGPA.ipynb)\n",
      "\n",
      "[DOC-Localization](./7-location/DOC-Localization.ipynb)\n",
      "\n",
      "[DEV-Algebraic](./7-location/DEV-Algebraic.ipynb)\n",
      "\n"
     ]
    },
    {
     "cell_type": "heading",
     "level": 2,
     "metadata": {},
     "source": [
      "8-Electromagnetic Simulation"
     ]
    },
    {
     "cell_type": "markdown",
     "metadata": {},
     "source": [
      "[DOC Raytracing 2](./8-simul/DOC-RayTracing2.ipynb)\n",
      "\n",
      "[DEV Ray tracing W1](./8-simul/DEV-RayTracingW1.ipynb)\n",
      "\n",
      "[DEV Ray tracing](./8-simul/DEV_PyRT1.ipynb)"
     ]
    },
    {
     "cell_type": "code",
     "collapsed": false,
     "input": [
      "!find . -name \"*.ipynb\""
     ],
     "language": "python",
     "metadata": {},
     "outputs": [
      {
       "output_type": "stream",
       "stream": "stdout",
       "text": [
        "./2-gis/DOC-LayoutEditor.ipynb\r\n",
        "./2-gis/.ipynb_checkpoints/MultiSubsegments-checkpoint.ipynb\r\n",
        "./2-gis/.ipynb_checkpoints/buildGr-checkpoint.ipynb\r\n",
        "./2-gis/.ipynb_checkpoints/DOC-LayoutEditor-checkpoint.ipynb\r\n",
        "./2-gis/.ipynb_checkpoints/DEV-Layout-checkpoint.ipynb\r\n",
        "./2-gis/.ipynb_checkpoints/buildGi-checkpoint.ipynb\r\n",
        "./2-gis/DEV-Layout.ipynb\r\n",
        "./2-gis/MultiSubsegments.ipynb\r\n",
        "./4-signal/UwbWaveforms.ipynb\r\n",
        "./4-signal/.ipynb_checkpoints/UwbWaveforms-checkpoint.ipynb\r\n",
        "./a-util/DOC-geomutil.ipynb\r\n",
        "./a-util/Workflow.ipynb\r\n",
        "./a-util/.ipynb_checkpoints/DOC-geomutil-checkpoint.ipynb\r\n",
        "./3-antprop/Signatures.ipynb\r\n",
        "./3-antprop/Coverage.ipynb\r\n",
        "./3-antprop/.ipynb_checkpoints/SlabsAndMaterials-checkpoint.ipynb\r\n",
        "./3-antprop/.ipynb_checkpoints/Coverage-checkpoint.ipynb\r\n",
        "./3-antprop/.ipynb_checkpoints/Signatures-checkpoint.ipynb\r\n",
        "./3-antprop/.ipynb_checkpoints/RayTracingExternal-checkpoint.ipynb\r\n",
        "./3-antprop/.ipynb_checkpoints/DEV-Slab-checkpoint.ipynb\r\n",
        "./3-antprop/.ipynb_checkpoints/Antennas-checkpoint.ipynb\r\n",
        "./3-antprop/SlabsAndMaterials.ipynb\r\n",
        "./3-antprop/MultiwallModel.ipynb\r\n",
        "./3-antprop/Antennas.ipynb\r\n",
        "./1-introduction/.ipynb_checkpoints/Introduction-checkpoint.ipynb\r\n",
        "./1-introduction/Introduction.ipynb\r\n",
        "./TOC.ipynb\r\n",
        "./7-location/.ipynb_checkpoints/DOC-RGPA-checkpoint.ipynb\r\n",
        "./7-location/DOC-RGPA.ipynb\r\n",
        "./7-location/DOC-Localization.ipynb\r\n",
        "./7-location/DEV-Algebraic.ipynb\r\n",
        "./8-simul/DOC-RayTracing2.ipynb\r\n",
        "./8-simul/DEV_PyRT1.ipynb\r\n",
        "./8-simul/DEV-RayTracingW1.ipynb\r\n",
        "./8-simul/.ipynb_checkpoints/DEV_PyRT1-checkpoint.ipynb\r\n",
        "./8-simul/.ipynb_checkpoints/DEV-RayTracingW1-checkpoint.ipynb\r\n",
        "./8-simul/.ipynb_checkpoints/DOC-RayTracing2-checkpoint.ipynb\r\n",
        "./8-simul/.ipynb_checkpoints/DOC-simulnet-checkpoint.ipynb\r\n",
        "./5-mobility/ConfigFiles.ipynb\r\n",
        "./5-mobility/.ipynb_checkpoints/Mobility-checkpoint.ipynb\r\n",
        "./5-mobility/.ipynb_checkpoints/Trajectory-checkpoint.ipynb\r\n",
        "./5-mobility/Trajectory.ipynb\r\n",
        "./5-mobility/Mobility.ipynb\r\n"
       ]
      }
     ],
     "prompt_number": 1
    },
    {
     "cell_type": "markdown",
     "metadata": {},
     "source": [
      "\n"
     ]
    }
   ],
   "metadata": {}
  }
 ]
}