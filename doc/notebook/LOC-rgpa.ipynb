{
 "metadata": {
  "name": ""
 },
 "nbformat": 3,
 "nbformat_minor": 0,
 "worksheets": [
  {
   "cells": [
    {
     "cell_type": "markdown",
     "metadata": {},
     "source": [
      "Robust Geometric Positioning Algorithm"
     ]
    },
    {
     "cell_type": "code",
     "collapsed": false,
     "input": [
      "from pylayers.location.geometric.constraints.cla import *\n",
      "from pylayers.location.geometric.constraints.toa import *\n",
      "from pylayers.location.geometric.constraints.tdoa import *\n",
      "from pylayers.location.geometric.constraints.rss import *\n",
      "from pylayers.network.model import *\n",
      "\n",
      "import matplotlib.pyplot as plt\n"
     ],
     "language": "python",
     "metadata": {},
     "outputs": [
      {
       "output_type": "stream",
       "stream": "stderr",
       "text": [
        "/usr/local/lib/python2.7/dist-packages/pkg_resources.py:991: UserWarning: /home/uguen/.python-eggs is writable by group/others and vulnerable to attack when used with get_resource_filename. Consider a more secure location (set with .set_extraction_path or the PYTHON_EGG_CACHE environment variable).\n",
        "  warnings.warn(msg, UserWarning)\n"
       ]
      },
      {
       "output_type": "display_data",
       "text": [
        "<matplotlib.figure.Figure at 0x47d2dd0>"
       ]
      }
     ],
     "prompt_number": 1
    },
    {
     "cell_type": "markdown",
     "metadata": {},
     "source": [
      "Let's define 4 anchors in the plane."
     ]
    },
    {
     "cell_type": "code",
     "collapsed": false,
     "input": [
      "pt1=np.array(([0,0]))\n",
      "pt2=np.array(([10,15]))\n",
      "pt3=np.array(([5,28]))\n",
      "pt4=np.array(([-10,-10]))\n",
      "# the unknown point is p\n",
      "p = np.array((0,5))"
     ],
     "language": "python",
     "metadata": {},
     "outputs": [],
     "prompt_number": 2
    },
    {
     "cell_type": "markdown",
     "metadata": {},
     "source": [
      "Then displaying the scene with ancho nodes (in red) and blind nodes in blue"
     ]
    },
    {
     "cell_type": "code",
     "collapsed": false,
     "input": [
      "f=plt.figure()\n",
      "ax=f.add_subplot(111)\n",
      "ax.plot(pt1[0],pt1[1],'or',label='anchor 1')\n",
      "ax.plot(pt2[0],pt2[1],'or',label='anchor 2')\n",
      "ax.plot(pt3[0],pt3[1],'or',label='anchor 3')\n",
      "ax.plot(pt4[0],pt4[1],'or',label='anchor 4')\n",
      "ax.plot(p[0],p[1],'xb',label='p')\n",
      "\n",
      "\n",
      "ax.legend(loc='best')"
     ],
     "language": "python",
     "metadata": {},
     "outputs": [
      {
       "output_type": "pyout",
       "prompt_number": 3,
       "text": [
        "<matplotlib.legend.Legend at 0x49400d0>"
       ]
      },
      {
       "output_type": "display_data",
       "png": "[encoded data removed]",
       "text": [
        "<matplotlib.figure.Figure at 0x48cf3d0>"
       ]
      }
     ],
     "prompt_number": 3
    },
    {
     "cell_type": "markdown",
     "metadata": {},
     "source": [
      "The euclidian distance betwenn blind node $p$ and anchors ans the corresponding Time of flight are evaluated. "
     ]
    },
    {
     "cell_type": "code",
     "collapsed": false,
     "input": [
      "d1=np.sqrt(np.sum((pt1-p)**2))\n",
      "d2=np.sqrt(np.sum((pt2-p)**2))\n",
      "d3=np.sqrt(np.sum((pt3-p)**2))\n",
      "d4=np.sqrt(np.sum((pt4-p)**2))\n",
      "\n",
      "toa1=d1/0.3\n",
      "toa2=d2/0.3\n",
      "toa3=d3/0.3\n",
      "toa4=d4/0.3\n",
      "\n",
      "print 'distance p-1=',d1, '/ toa1=',toa1\n",
      "print 'distance p-2=',d2, '/ toa2=',toa2\n",
      "print 'distance p-3=',d3, '/ toa3=',toa3\n",
      "print 'distance p-4=',d4, '/ toa3=',toa4"
     ],
     "language": "python",
     "metadata": {},
     "outputs": [
      {
       "output_type": "stream",
       "stream": "stdout",
       "text": [
        "distance p-1= 5.0 / toa1= 16.6666666667\n",
        "distance p-2= 14.1421356237 / toa2= 47.1404520791\n",
        "distance p-3= 23.5372045919 / toa3= 78.4573486396\n",
        "distance p-4= 18.0277563773 / toa3= 60.0925212577\n"
       ]
      }
     ],
     "prompt_number": 4
    },
    {
     "cell_type": "heading",
     "level": 1,
     "metadata": {},
     "source": [
      "RGPA (Robust Geometric Positioning Algorithm)"
     ]
    },
    {
     "cell_type": "markdown",
     "metadata": {},
     "source": [
      "## Exploiting Time of Arrival (ToA) only"
     ]
    },
    {
     "cell_type": "markdown",
     "metadata": {},
     "source": [
      "We call `Constraint Layer Array` (CLA) the object which gathers all the geometric constraints of a considered scenario."
     ]
    },
    {
     "cell_type": "code",
     "collapsed": false,
     "input": [
      "C=CLA()"
     ],
     "language": "python",
     "metadata": {},
     "outputs": [],
     "prompt_number": 5
    },
    {
     "cell_type": "markdown",
     "metadata": {},
     "source": [
      "Instanciate TOA constraints, notice that their id are differents "
     ]
    },
    {
     "cell_type": "code",
     "collapsed": false,
     "input": [
      "T1=TOA(id=0,value = toa1, std = np.array([1.0]), p = pt1)\n",
      "T2=TOA(id=1,value = toa2, std = np.array([1.0]), p = pt2)\n",
      "T3=TOA(id=2,value = toa3, std = np.array([1.0]), p = pt3)\n",
      "T4=TOA(id=3,value = toa4, std = np.array([1.0]), p = pt4)"
     ],
     "language": "python",
     "metadata": {},
     "outputs": [],
     "prompt_number": 6
    },
    {
     "cell_type": "markdown",
     "metadata": {},
     "source": [
      "Add TOA contraints to the CLA"
     ]
    },
    {
     "cell_type": "code",
     "collapsed": false,
     "input": [
      "C.append(T1)\n",
      "C.append(T2)\n",
      "C.append(T3)\n",
      "C.append(T4)"
     ],
     "language": "python",
     "metadata": {},
     "outputs": [],
     "prompt_number": 7
    },
    {
     "cell_type": "markdown",
     "metadata": {},
     "source": [
      "All the constraints of the CLA can be listed as follows"
     ]
    },
    {
     "cell_type": "code",
     "collapsed": false,
     "input": [
      "C.c"
     ],
     "language": "python",
     "metadata": {},
     "outputs": [
      {
       "output_type": "pyout",
       "prompt_number": 8,
       "text": [
        "[node | peer   |type | rat  | p              | value    | std  | runable| usable|\n",
        "    0 |        |TOA  |      | [0 0]          | [ 16.667]| [ 1.]|       1|      1|,\n",
        " node | peer   |type | rat  | p              | value    | std  | runable| usable|\n",
        "    1 |        |TOA  |      | [10 15]        | [ 47.14] | [ 1.]|       1|      1|,\n",
        " node | peer   |type | rat  | p              | value    | std  | runable| usable|\n",
        "    2 |        |TOA  |      | [ 5 28]        | [ 78.457]| [ 1.]|       1|      1|,\n",
        " node | peer   |type | rat  | p              | value    | std  | runable| usable|\n",
        "    3 |        |TOA  |      | [-10 -10]      | [ 60.093]| [ 1.]|       1|      1|]"
       ]
      }
     ],
     "prompt_number": 8
    },
    {
     "cell_type": "markdown",
     "metadata": {},
     "source": [
      "Get information on the cla :\n",
      " \n",
      "  + type : TOA / RSS\n",
      "  + p : Position of the origin of the constraint\n",
      "  + value : power ( RSS ) / time in ns ( TOA)\n",
      "  + std : standard deviation $\\sigma^2$ of value\n",
      "  + runable : does the constraint has a position p ?\n",
      "  + obsolete : does the value has been obtained recently ?\n",
      "  + usuable : runbale AND NOT obsolete\n",
      "  + evlauated : obsolete\n",
      "  "
     ]
    },
    {
     "cell_type": "code",
     "collapsed": false,
     "input": [
      "C.info()"
     ],
     "language": "python",
     "metadata": {},
     "outputs": [
      {
       "output_type": "stream",
       "stream": "stdout",
       "text": [
        "type , p              , value, std  , runable, usable, obsolete, evaluated\n",
        "TOA  , [0 0]          , [ 16.667], [ 1.],       1,      1,        0,         0\n",
        "type , p              , value, std  , runable, usable, obsolete, evaluated\n",
        "TOA  , [10 15]        , [ 47.14], [ 1.],       1,      1,        0,         0\n",
        "type , p              , value, std  , runable, usable, obsolete, evaluated\n",
        "TOA  , [ 5 28]        , [ 78.457], [ 1.],       1,      1,        0,         0\n",
        "type , p              , value, std  , runable, usable, obsolete, evaluated\n",
        "TOA  , [-10 -10]      , [ 60.093], [ 1.],       1,      1,        0,         0\n"
       ]
      }
     ],
     "prompt_number": 9
    },
    {
     "cell_type": "markdown",
     "metadata": {},
     "source": [
      "Update the CLA"
     ]
    },
    {
     "cell_type": "code",
     "collapsed": false,
     "input": [
      "C.update()"
     ],
     "language": "python",
     "metadata": {},
     "outputs": [],
     "prompt_number": 10
    },
    {
     "cell_type": "markdown",
     "metadata": {},
     "source": [
      "Compute the cla"
     ]
    },
    {
     "cell_type": "code",
     "collapsed": false,
     "input": [
      "C.compute()"
     ],
     "language": "python",
     "metadata": {},
     "outputs": [
      {
       "output_type": "pyout",
       "prompt_number": 11,
       "text": [
        "True"
       ]
      }
     ],
     "prompt_number": 11
    },
    {
     "cell_type": "markdown",
     "metadata": {},
     "source": [
      "show the estimated position"
     ]
    },
    {
     "cell_type": "code",
     "collapsed": false,
     "input": [
      "C.pe"
     ],
     "language": "python",
     "metadata": {},
     "outputs": [
      {
       "output_type": "pyout",
       "prompt_number": 12,
       "text": [
        "array([ -4.735e-03,   4.992e+00])"
       ]
      }
     ],
     "prompt_number": 12
    },
    {
     "cell_type": "markdown",
     "metadata": {},
     "source": [
      "to be compare with the actual position value"
     ]
    },
    {
     "cell_type": "code",
     "collapsed": false,
     "input": [
      "p"
     ],
     "language": "python",
     "metadata": {},
     "outputs": [
      {
       "output_type": "pyout",
       "prompt_number": 13,
       "text": [
        "array([0, 5])"
       ]
      }
     ],
     "prompt_number": 13
    },
    {
     "cell_type": "markdown",
     "metadata": {},
     "source": [
      "## RSS"
     ]
    },
    {
     "cell_type": "markdown",
     "metadata": {},
     "source": [
      "The RSS is a quantity which is weakly related to distance via a parametric model. The bettet the model, better would be tthe inference ab out tthe associated distance. \n",
      "t\n",
      "To model the Path Loss shadowing model is widely used. \n",
      "\n",
      "To define the classical path loss shadowing model widely used in this context the `PLSmodel` class has been defined. "
     ]
    },
    {
     "cell_type": "code",
     "collapsed": false,
     "input": [
      "M = PLSmodel(f=3.0,rssnp=2.64,d0=1.0,sigrss=3.0,method='mode')"
     ],
     "language": "python",
     "metadata": {},
     "outputs": [],
     "prompt_number": 14
    },
    {
     "cell_type": "markdown",
     "metadata": {},
     "source": [
      "For simulation purpose : get RSS from distances (or associated delay) with the above model\n",
      "\n",
      "\n"
     ]
    },
    {
     "cell_type": "code",
     "collapsed": false,
     "input": [
      "toa1"
     ],
     "language": "python",
     "metadata": {},
     "outputs": [
      {
       "output_type": "pyout",
       "prompt_number": 15,
       "text": [
        "16.666666666666668"
       ]
      }
     ],
     "prompt_number": 15
    },
    {
     "cell_type": "code",
     "collapsed": false,
     "input": [
      "M.getPL(toa1,1)"
     ],
     "language": "python",
     "metadata": {},
     "outputs": [
      {
       "output_type": "pyout",
       "prompt_number": 16,
       "text": [
        "9.3413044301112294"
       ]
      }
     ],
     "prompt_number": 16
    },
    {
     "cell_type": "markdown",
     "metadata": {},
     "source": [
      "## TDOA"
     ]
    },
    {
     "cell_type": "code",
     "collapsed": false,
     "input": [
      "Td1=TDOA(id=0,value = toa1-toa2, std = np.array([1.0]), p = np.array([pt1,pt2]))\n",
      "Td2=TDOA(id=1,value = toa1-toa3, std = np.array([1.0]), p = np.array([pt1,pt3]))\n",
      "Td3=TDOA(id=2,value = toa1-toa4, std = np.array([1.0]), p = np.array([pt1,pt4]))\n"
     ],
     "language": "python",
     "metadata": {},
     "outputs": [],
     "prompt_number": 17
    },
    {
     "cell_type": "code",
     "collapsed": false,
     "input": [
      "C=CLA()\n",
      "C.append(Td1)\n",
      "C.append(Td2)\n",
      "C.append(Td3)"
     ],
     "language": "python",
     "metadata": {},
     "outputs": [],
     "prompt_number": 18
    },
    {
     "cell_type": "code",
     "collapsed": false,
     "input": [
      "C.compute()"
     ],
     "language": "python",
     "metadata": {},
     "outputs": [
      {
       "output_type": "stream",
       "stream": "stdout",
       "text": [
        "TDOA 2.0\n",
        "TDOA 2.0\n",
        "TDOA 2.0\n",
        "TDOA 1.5\n",
        "TDOA 1.5\n",
        "TDOA 1.5\n",
        "TDOA 1.375\n",
        "TDOA 1.375\n",
        "TDOA 1.375\n",
        "TDOA 1.375\n",
        "TDOA 1.375\n",
        "TDOA 1.375\n"
       ]
      },
      {
       "output_type": "pyout",
       "prompt_number": 19,
       "text": [
        "True"
       ]
      }
     ],
     "prompt_number": 19
    },
    {
     "cell_type": "code",
     "collapsed": false,
     "input": [
      "C.pe"
     ],
     "language": "python",
     "metadata": {},
     "outputs": [
      {
       "output_type": "pyout",
       "prompt_number": 20,
       "text": [
        "array([ 0.021,  4.987])"
       ]
      }
     ],
     "prompt_number": 20
    },
    {
     "cell_type": "code",
     "collapsed": false,
     "input": [
      "from IPython.core.display import HTML\n",
      "\n",
      "def css_styling():\n",
      "    styles = open(\"../styles/custom.css\", \"r\").read()\n",
      "    return HTML(styles)\n",
      "css_styling()"
     ],
     "language": "python",
     "metadata": {},
     "outputs": [
      {
       "html": [
        "<style>\n",
        "    @font-face {\n",
        "        font-family: \"Computer Modern\";\n",
        "        src: url('http://mirrors.ctan.org/fonts/cm-unicode/fonts/otf/cmunss.otf');\n",
        "    }\n",
        "    div.cell{\n",
        "        width:800px;\n",
        "        margin-left:16% !important;\n",
        "        margin-right:auto;\n",
        "    }\n",
        "    h1 {\n",
        "        font-family: Helvetica, serif;\n",
        "    }\n",
        "    h4{\n",
        "        margin-top:12px;\n",
        "        margin-bottom: 3px;\n",
        "       }\n",
        "    div.text_cell_render{\n",
        "        font-family: Computer Modern, \"Helvetica Neue\", Arial, Helvetica, Geneva, sans-serif;\n",
        "        line-height: 145%;\n",
        "        font-size: 130%;\n",
        "        width:800px;\n",
        "        margin-left:auto;\n",
        "        margin-right:auto;\n",
        "    }\n",
        "    .CodeMirror{\n",
        "            font-family: \"Source Code Pro\", source-code-pro,Consolas, monospace;\n",
        "    }\n",
        "    .prompt{\n",
        "        display: None;\n",
        "    }\n",
        "    .text_cell_render h5 {\n",
        "        font-weight: 300;\n",
        "        font-size: 22pt;\n",
        "        color: #4057A1;\n",
        "        font-style: italic;\n",
        "        margin-bottom: .5em;\n",
        "        margin-top: 0.5em;\n",
        "        display: block;\n",
        "    }\n",
        "    \n",
        "    .warning{\n",
        "        color: rgb( 240, 20, 20 )\n",
        "        }  \n",
        "</style>\n",
        "<script>\n",
        "    MathJax.Hub.Config({\n",
        "                        TeX: {\n",
        "                           extensions: [\"AMSmath.js\"]\n",
        "                           },\n",
        "                tex2jax: {\n",
        "                    inlineMath: [ ['$','$'], [\"\\\\(\",\"\\\\)\"] ],\n",
        "                    displayMath: [ ['$$','$$'], [\"\\\\[\",\"\\\\]\"] ]\n",
        "                },\n",
        "                displayAlign: 'center', // Change this to 'center' to center equations.\n",
        "                \"HTML-CSS\": {\n",
        "                    styles: {'.MathJax_Display': {\"margin\": 4}}\n",
        "                }\n",
        "        });\n",
        "</script>"
       ],
       "output_type": "pyout",
       "prompt_number": 21,
       "text": [
        "<IPython.core.display.HTML at 0x4922690>"
       ]
      }
     ],
     "prompt_number": 21
    }
   ],
   "metadata": {}
  }
 ]
}