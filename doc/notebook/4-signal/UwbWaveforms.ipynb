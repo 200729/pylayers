{
 "metadata": {
  "name": ""
 },
 "nbformat": 3,
 "nbformat_minor": 0,
 "worksheets": [
  {
   "cells": [
    {
     "cell_type": "markdown",
     "metadata": {},
     "source": [
      "## Synthesis of Ultra Wide Band Waveforms"
     ]
    },
    {
     "cell_type": "markdown",
     "metadata": {},
     "source": [
      "Once the propagation channel has been evaluated. This is done in the `pylayers.antprop.channel` module. \n",
      "The received signal is evaluated in applying a convolution product of each ray tranfer function with a specific\n",
      "IR-UWB waveform. The necessary modules are \n",
      "\n",
      "+ `pylayers.signal.bsignal`.\n",
      "+ `pylayers.signal.waveform`\n",
      "+ `pylayers.signal.channel`\n",
      "\n",
      "The module `pylayers.simul.simulem` is for definition of electromagnetic simulation.  "
     ]
    },
    {
     "cell_type": "code",
     "collapsed": true,
     "input": [
      "from pylayers.signal.bsignal import *\n",
      "from pylayers.signal.waveform import *\n",
      "from pylayers.antprop.channel import *\n",
      "from pylayers.simul.simulem import *"
     ],
     "language": "python",
     "metadata": {},
     "outputs": [
      {
       "output_type": "display_data",
       "text": [
        "<matplotlib.figure.Figure at 0x4b82890>"
       ]
      }
     ],
     "prompt_number": 1
    },
    {
     "cell_type": "markdown",
     "metadata": {},
     "source": [
      "### Generation of an Impulse of normalized energy \n",
      "\n",
      "One possible manner to define an energy normalized short UWB impulse is as follows using  `bsignal.EnImpulse` function. \n",
      "\n",
      "The default waveform is a gaussian windowing of a sine wave of frequency $f_c$. The normalization term depends on the exponential scaling factor $\\tau$. \n",
      "\n",
      "$p(t)= \\frac{\\sqrt{2\\sqrt{2}}}{\\tau\\sqrt{\\pi}} \\cos(2\\pi f_c t) e^{-(\\frac{t}{\\tau})^2}$\n",
      "\n",
      "$\\tau = \\frac{2}{B\\pi}\\sqrt{\\frac{\\gamma_{dB}\\ln{10}}{20}}$\n",
      "\n",
      "where $B$ is the desired bandwidth defined at $\\gamma_{dB}$ below the spectrum maximum and $f_c$ is the central frequency of the pulse.\n",
      "\n",
      "\n"
     ]
    },
    {
     "cell_type": "code",
     "collapsed": true,
     "input": [
      "fc     = 4 \n",
      "band   = 2\n",
      "thresh = 10\n",
      "fe     = 100 \n",
      "ip     = EnImpulse([],fc,band,thresh,fe)"
     ],
     "language": "python",
     "metadata": {},
     "outputs": [],
     "prompt_number": 2
    },
    {
     "cell_type": "code",
     "collapsed": false,
     "input": [
      "ip.info()"
     ],
     "language": "python",
     "metadata": {},
     "outputs": [
      {
       "output_type": "stream",
       "stream": "stdout",
       "text": [
        "TUsignal\n",
        "--------\n",
        "shx :  (343,)\n",
        "shy :  (343,)\n",
        "dx :   0.01\n",
        "xmin : -1.71\n",
        "xmax : 1.71\n",
        "ymin : -1.89545539648\n",
        "ymax : 2.16154131873\n"
       ]
      }
     ],
     "prompt_number": 3
    },
    {
     "cell_type": "markdown",
     "metadata": {},
     "source": [
      "## Verification of energy normalization in both domains"
     ]
    },
    {
     "cell_type": "code",
     "collapsed": false,
     "input": [
      "E1= sum(ip.y*ip.y)*ip.dx()\n",
      "print \"Integration in time\",E1"
     ],
     "language": "python",
     "metadata": {},
     "outputs": [
      {
       "output_type": "stream",
       "stream": "stdout",
       "text": [
        "Integration in time 1.0\n"
       ]
      }
     ],
     "prompt_number": 4
    },
    {
     "cell_type": "code",
     "collapsed": false,
     "input": [
      "P = ip.esd()\n",
      "E2 = sum(P.y)*P.dx()\n",
      "print \"Integration in frequency domain \",E2"
     ],
     "language": "python",
     "metadata": {},
     "outputs": [
      {
       "output_type": "stream",
       "stream": "stdout",
       "text": [
        "Integration in frequency domain  1.0\n"
       ]
      }
     ],
     "prompt_number": 5
    },
    {
     "cell_type": "markdown",
     "metadata": {},
     "source": [
      "## Calculation of UWB channel impulse response"
     ]
    },
    {
     "cell_type": "markdown",
     "metadata": {},
     "source": [
      "We choose to load a simple floor plan. "
     ]
    },
    {
     "cell_type": "code",
     "collapsed": false,
     "input": [
      "S = Simul()\n",
      "S.L = Layout('defstr3.ini')"
     ],
     "language": "python",
     "metadata": {},
     "outputs": [],
     "prompt_number": 6
    },
    {
     "cell_type": "markdown",
     "metadata": {},
     "source": [
      "A simulation object has an `info` method providing a summary of simulation informations."
     ]
    },
    {
     "cell_type": "code",
     "collapsed": false,
     "input": [
      "S.info()"
     ],
     "language": "python",
     "metadata": {},
     "outputs": [
      {
       "output_type": "stream",
       "stream": "stdout",
       "text": [
        "default.ini\n",
        "------------------------------------------\n",
        "Layout Info : \n",
        "filestr :  defstr3.ini\n",
        "filematini :  matDB.ini\n",
        "fileslabini :  slabDB.ini\n",
        "filegeom :  defstr3.off\n",
        "boundaries  (758.49, 768.516, 1111.9, 1115.963)\n",
        "number of Points : 8\n",
        "number of Segments : 9\n",
        "number of Sub-Segments : 3\n",
        "Gs Nodes :  17\n",
        "Gs Edges :  18\n",
        "Gt Nodes :  0\n",
        "Gt Edges :  0\n",
        "vnodes = Gt.node[Nc]['cycles'].cycle \n",
        "poly = Gt.node[Nc]['cycle'].polyg \n",
        "Gr Nodes    : 0\n",
        "Gr Edges    : 0\n",
        "Nc  = Gr.node[nroom]['cycles']  \n",
        "None\n",
        "Tx Info :\n",
        "npos       :  1\n",
        "position   :  [[  7.59000000e+02]\n",
        " [  1.11400000e+03]\n",
        " [  1.00000000e+00]]\n",
        "name       :  \n",
        "type       :  tx\n",
        "fileini    :  radiotx.ini\n",
        "filespa    :  radiotx.spa\n",
        "filegeom   :  radiotx.vect\n",
        "fileant    :  defant.vsh3\n",
        "filestr    :  defstr.str2\n",
        "None\n",
        "Rx Info :\n",
        "npos       :  1\n",
        "position   :  [[  767. ]\n",
        " [ 1114. ]\n",
        " [    1.5]]\n",
        "name       :  \n",
        "type       :  rx\n",
        "fileini    :  radiorx.ini\n",
        "filespa    :  radiorx.spa\n",
        "filegeom   :  radiorx.vect\n",
        "fileant    :  defant.vsh3\n",
        "filestr    :  defstr.str2\n",
        "None\n"
       ]
      }
     ],
     "prompt_number": 7
    },
    {
     "cell_type": "code",
     "collapsed": false,
     "input": [
      "S.L.Gs.node"
     ],
     "language": "python",
     "metadata": {},
     "outputs": [
      {
       "output_type": "pyout",
       "prompt_number": 8,
       "text": [
        "{-8: {},\n",
        " -7: {},\n",
        " -6: {},\n",
        " -5: {},\n",
        " -4: {},\n",
        " -3: {},\n",
        " -2: {},\n",
        " -1: {},\n",
        " 1: {'connect': [-8, -7],\n",
        "  'name': 'PARTITION',\n",
        "  'ncycles': [0, 1],\n",
        "  'norm': array([-0.999982  , -0.00599989,  0.        ]),\n",
        "  'ss_name': ['WOOD', 'AIR', 'WOOD'],\n",
        "  'ss_z': [(0.0, 2.7), (2.7, 2.8), (2.8, 3)],\n",
        "  'transition': True,\n",
        "  'z': (0.0, 3.0)},\n",
        " 2: {'connect': [-8, -2],\n",
        "  'name': 'WALL',\n",
        "  'ncycles': [0, 1],\n",
        "  'norm': array([ 0.99997778,  0.00666652,  0.        ]),\n",
        "  'transition': False,\n",
        "  'z': (0.0, 3.0)},\n",
        " 3: {'connect': [-7, -5],\n",
        "  'name': 'WALL',\n",
        "  'ncycles': [0, 1],\n",
        "  'norm': array([-0.99997775, -0.00667097,  0.        ]),\n",
        "  'transition': False,\n",
        "  'z': (0.0, 3.0)},\n",
        " 4: {'connect': [-6, -1],\n",
        "  'name': 'WALL',\n",
        "  'ncycles': [1],\n",
        "  'norm': array([ 0.99997888,  0.00649986,  0.        ]),\n",
        "  'transition': False,\n",
        "  'z': (0.0, 3.0)},\n",
        " 5: {'connect': [-6, -5],\n",
        "  'name': 'WALL',\n",
        "  'ncycles': [1],\n",
        "  'norm': array([-0.00619988,  0.99998078,  0.        ]),\n",
        "  'transition': False,\n",
        "  'z': (0.0, 3.0)},\n",
        " 6: {'connect': [-5, -4],\n",
        "  'name': 'WALL',\n",
        "  'ncycles': [0],\n",
        "  'norm': array([-0.00639987,  0.99997952,  0.        ]),\n",
        "  'transition': False,\n",
        "  'z': (0.0, 3.0)},\n",
        " 7: {'connect': [-4, -3],\n",
        "  'name': 'WALL',\n",
        "  'ncycles': [0],\n",
        "  'norm': array([ 0.99997887,  0.00650149,  0.        ]),\n",
        "  'transition': False,\n",
        "  'z': (0.0, 3.0)},\n",
        " 8: {'connect': [-3, -2],\n",
        "  'name': 'WALL',\n",
        "  'ncycles': [0],\n",
        "  'norm': array([ 0.00639987, -0.99997952,  0.        ]),\n",
        "  'transition': False,\n",
        "  'z': (0.0, 3.0)},\n",
        " 9: {'connect': [-1, -2],\n",
        "  'name': 'WALL',\n",
        "  'ncycles': [1],\n",
        "  'norm': array([ 0.00639987, -0.99997952,  0.        ]),\n",
        "  'transition': False,\n",
        "  'z': (0.0, 3.0)}}"
       ]
      }
     ],
     "prompt_number": 8
    },
    {
     "cell_type": "code",
     "collapsed": false,
     "input": [
      "st = S.wav.st\n",
      "sf = S.wav.sf\n",
      "S.wav.info()"
     ],
     "language": "python",
     "metadata": {},
     "outputs": [
      {
       "output_type": "stream",
       "stream": "stdout",
       "text": [
        "fcGHz  :  4.493\n",
        "typ  :  generic\n",
        "feGHz  :  100\n",
        "Np  :  3000\n",
        "twns  :  30\n",
        "te  :  0.01\n",
        "threshdB  :  3\n",
        "bandGHz  :  0.499\n"
       ]
      }
     ],
     "prompt_number": 9
    },
    {
     "cell_type": "markdown",
     "metadata": {},
     "source": [
      "The waveform associated with the simulation object is "
     ]
    },
    {
     "cell_type": "code",
     "collapsed": false,
     "input": [
      "S.wav"
     ],
     "language": "python",
     "metadata": {},
     "outputs": [
      {
       "output_type": "pyout",
       "prompt_number": 10,
       "text": [
        "{'Np': 3000,\n",
        " 'bandGHz': 0.499,\n",
        " 'fcGHz': 4.493,\n",
        " 'feGHz': 100,\n",
        " 'te': 0.01,\n",
        " 'threshdB': 3,\n",
        " 'twns': 30,\n",
        " 'typ': 'generic'}"
       ]
      }
     ],
     "prompt_number": 10
    },
    {
     "cell_type": "code",
     "collapsed": false,
     "input": [
      "S.wav.show()"
     ],
     "language": "python",
     "metadata": {},
     "outputs": [
      {
       "output_type": "display_data",
       "png": "[encoded data removed]",
       "text": [
        "<matplotlib.figure.Figure at 0x31a3f50>"
       ]
      }
     ],
     "prompt_number": 11
    },
    {
     "cell_type": "markdown",
     "metadata": {},
     "source": [
      "Above the waveform is a generic UWB waveform. The interested user can add easyly any other mathematical expression of UWB waveform for investigation on pulse waveform modulation for example. The waveform can also comes from measurement. For now there are two version of this waveform which has been used during the M1 measurement campaign. One is not compensated `W1compensate` for an extra short delay which can introduse a bias when interpretating the observed delay in terms of distance. The non compensated version is `W1offset` from the time origin about 0.7 ns.\n",
      "\n",
      "The waveform class should grow for incorporating more waveforms, especially waveforms compliants with the current IEEE 802.15.4a and IEEE 802.15.6 standards. "
     ]
    },
    {
     "cell_type": "code",
     "collapsed": false,
     "input": [
      "wavmeasured = Waveform(typ='W1compensate')\n",
      "wavmeasured.show()"
     ],
     "language": "python",
     "metadata": {},
     "outputs": [
      {
       "output_type": "display_data",
       "png": "[encoded data removed]",
       "text": [
        "<matplotlib.figure.Figure at 0x7f2bec21dc90>"
       ]
      }
     ],
     "prompt_number": 12
    },
    {
     "cell_type": "code",
     "collapsed": false,
     "input": [
      "wavmeasured = Waveform(typ='W1offset')\n",
      "wavmeasured.show()"
     ],
     "language": "python",
     "metadata": {},
     "outputs": [
      {
       "output_type": "display_data",
       "png": "[encoded data removed]",
       "text": [
        "<matplotlib.figure.Figure at 0x7f2bec6f43d0>"
       ]
      }
     ],
     "prompt_number": 13
    },
    {
     "cell_type": "markdown",
     "metadata": {},
     "source": [
      "Here the time domain waveform is measured and the anticausal part of the signal is artificially set to 0.\n",
      "\n",
      "To handle properly the time domain wavefom in PyLayers, it is required to center the signal in the middle of the array.  The waveform has embedded in the object its frequency domain and time domain representation.  \n",
      "\n",
      "+ `st` member stands for signal in time domain\n",
      "+ `sf` member stands for signal in frequency domain"
     ]
    },
    {
     "cell_type": "code",
     "collapsed": false,
     "input": [
      "print type(S.wav.sf)\n",
      "print type(S.wav.st)"
     ],
     "language": "python",
     "metadata": {},
     "outputs": [
      {
       "output_type": "stream",
       "stream": "stdout",
       "text": [
        "<class 'pylayers.signal.bsignal.FUsignal'>\n",
        "<class 'pylayers.signal.bsignal.EnImpulse'>\n"
       ]
      }
     ],
     "prompt_number": 14
    },
    {
     "cell_type": "markdown",
     "metadata": {},
     "source": [
      "+ `FUsignal` Frequency domain uniformly sampled base signal \n",
      "+ `TUsignal` Time domain uniformly sampled base signal"
     ]
    },
    {
     "cell_type": "heading",
     "level": 2,
     "metadata": {},
     "source": [
      "Construction of the propagation channel "
     ]
    },
    {
     "cell_type": "markdown",
     "metadata": {},
     "source": [
      "The link between Txid = 1 and Rxid =1 is simply loaded as"
     ]
    },
    {
     "cell_type": "markdown",
     "metadata": {},
     "source": [
      "The following representation shows the spatial spreading of the propagation channel. \n",
      "On the left are scattered the intensity of rays wrt to angles of departure (in azimut and elevation). \n",
      "On the right is the intensity of rays wrt to angles of arrival. It misses the application between the 2\n",
      "planes as well as the delay dimension of the propagation channel."
     ]
    },
    {
     "cell_type": "code",
     "collapsed": false,
     "input": [
      "from pylayers.antprop.signature import *\n",
      "from pylayers.antprop.channel import *"
     ],
     "language": "python",
     "metadata": {},
     "outputs": [],
     "prompt_number": 15
    },
    {
     "cell_type": "code",
     "collapsed": false,
     "input": [
      "S.L.build()"
     ],
     "language": "python",
     "metadata": {},
     "outputs": [],
     "prompt_number": 16
    },
    {
     "cell_type": "code",
     "collapsed": false,
     "input": [
      "S.L"
     ],
     "language": "python",
     "metadata": {},
     "outputs": [
      {
       "output_type": "pyout",
       "prompt_number": 17,
       "text": [
        "\n",
        "----------------\n",
        "defstr3.ini\n",
        "Image('/home/uguen/Bureau/P1/struc/images/TA-Office.png')\n",
        "----------------\n",
        "\n",
        "Number of points  : 8\n",
        "Number of segments  : 9\n",
        "Number of sub segments  : 3\n",
        "Number of cycles  : 2\n",
        "Number of rooms  : 2\n",
        "degree 0 : []\n",
        "degree 1 : [-8 -7]\n",
        "degree 2 : 4\n",
        "degree 3 : 2\n",
        "\n",
        "xrange :(758.49, 768.516)\n",
        "yrange :(1111.9, 1115.963)\n",
        "\n",
        "Useful dictionnaries\n",
        "----------------\n",
        "di {interaction : [nstr,typi]}\n",
        "sl {slab name : slab dictionary}\n",
        "name :  {slab :seglist} \n",
        "\n",
        "Useful arrays\n",
        "----------------\n",
        "tsg : get segment index in Gs from tahe\n",
        "tgs : get segment index in tahe from Gs\n",
        "lsss : list of segments with sub-segment\n",
        "sla : associated slab name\n",
        "stridess : stride for adressing sub segment \n",
        "degree : degree of nodes \n"
       ]
      }
     ],
     "prompt_number": 17
    },
    {
     "cell_type": "code",
     "collapsed": false,
     "input": [
      "S.L.Gt.pos"
     ],
     "language": "python",
     "metadata": {},
     "outputs": [
      {
       "output_type": "pyout",
       "prompt_number": 18,
       "text": [
        "{0: (766.00300113353387, 1113.947479109665),\n",
        " 1: (761.00289669547806, 1113.915769812613)}"
       ]
      }
     ],
     "prompt_number": 18
    },
    {
     "cell_type": "code",
     "collapsed": false,
     "input": [
      "tx=np.array([759,1114,1.0])\n",
      "rx=np.array([767,1114,1.5])\n",
      "ctx = S.L.pt2cy(tx)\n",
      "crx = S.L.pt2cy(rx)"
     ],
     "language": "python",
     "metadata": {},
     "outputs": [],
     "prompt_number": 19
    },
    {
     "cell_type": "markdown",
     "metadata": {},
     "source": [
      "The sequence of command below :\n",
      "    \n",
      "+ initialize a signature between cycle ctx and cycle crx\n",
      "+ evaluates the signature with a given cutoff value\n",
      "+ calculates a set of 2D rays from signature and tx/rx coordinates\n",
      "+ calculates a set of 3D ray from 2D rays and layout and ceil height (default H=3m)\n",
      "+ calculates local basis and various geometric information out of the 3D ray and Layout \n",
      "+ fill and reorganize the interactions object with proper material chararcteristics"
     ]
    },
    {
     "cell_type": "code",
     "collapsed": false,
     "input": [
      "Si = Signatures(S.L,ctx,crx)\n",
      "Si.run1(cutoff=3)\n",
      "r2d = Si.rays(tx,rx)\n",
      "r3d = r2d.to3D(S.L)\n",
      "r3d.locbas(S.L)\n",
      "r3d.fillinter(S.L)"
     ],
     "language": "python",
     "metadata": {},
     "outputs": [],
     "prompt_number": 20
    },
    {
     "cell_type": "markdown",
     "metadata": {},
     "source": [
      "Define a frequency base in GHz."
     ]
    },
    {
     "cell_type": "code",
     "collapsed": false,
     "input": [
      "fGHz = np.arange(2,10,0.01)"
     ],
     "language": "python",
     "metadata": {},
     "outputs": [],
     "prompt_number": 21
    },
    {
     "cell_type": "markdown",
     "metadata": {},
     "source": [
      "Evaluate the propagation channel $\\tilde{\\mathbf{C}}$. Here the meaning of tilde is that the complex value of the channel do not include the phase term due to delay along the ray. "
     ]
    },
    {
     "cell_type": "code",
     "collapsed": false,
     "input": [
      "C = r3d.eval(fGHz) "
     ],
     "language": "python",
     "metadata": {},
     "outputs": [
      {
       "output_type": "stream",
       "stream": "stdout",
       "text": [
        "Rays evaluation\n"
       ]
      }
     ],
     "prompt_number": 22
    },
    {
     "cell_type": "code",
     "collapsed": false,
     "input": [
      "print type(C)"
     ],
     "language": "python",
     "metadata": {},
     "outputs": [
      {
       "output_type": "stream",
       "stream": "stdout",
       "text": [
        "<class 'pylayers.antprop.channel.Ctilde'>\n"
       ]
      }
     ],
     "prompt_number": 23
    },
    {
     "cell_type": "markdown",
     "metadata": {},
     "source": [
      "##  Construction of the transmission channel"
     ]
    },
    {
     "cell_type": "markdown",
     "metadata": {},
     "source": [
      "The transmission channel is obtained from the combination of the propagation channel $\\tilde{\\mathbf{C}}$ and the vector antenna pattern at both side of the radio link. This operation is implemented in the `prop2tran` method of the `Ctilde` class.  "
     ]
    },
    {
     "cell_type": "code",
     "collapsed": true,
     "input": [
      "sc = C.prop2tran()"
     ],
     "language": "python",
     "metadata": {},
     "outputs": [],
     "prompt_number": 24
    },
    {
     "cell_type": "markdown",
     "metadata": {},
     "source": [
      "The ScalChannel object contains all the information about the ray transfer functions. \n",
      "The transmission channel is obtained by applying a vector radiation pattern using an antenna file.\n",
      "\n",
      "In the presented case, it comes from a real antenna which has been used during the **FP7 project WHERE1** measurement campaign \n",
      "M1."
     ]
    },
    {
     "cell_type": "code",
     "collapsed": false,
     "input": [
      "sc"
     ],
     "language": "python",
     "metadata": {},
     "outputs": [
      {
       "output_type": "pyout",
       "prompt_number": 25,
       "text": [
        "freq :2.0 9.99 800\n",
        "shape  :(95, 800)\n",
        "tau :26.7186992365 52.3652657556\n",
        "dist :8.01560977094 15.7095797267\n"
       ]
      }
     ],
     "prompt_number": 25
    },
    {
     "cell_type": "markdown",
     "metadata": {},
     "source": [
      "The antenna radiation pattern is stored in a very compact way thanks to Vector Spherical Harmonics decomposition.\n",
      "The following gives information about the content of the antenna object."
     ]
    },
    {
     "cell_type": "code",
     "collapsed": false,
     "input": [
      "S.tx.A.info()"
     ],
     "language": "python",
     "metadata": {},
     "outputs": [
      {
       "output_type": "stream",
       "stream": "stdout",
       "text": [
        "defant.vsh3\n",
        "type :  vsh3\n",
        "No vsh coefficient calculated yet\n"
       ]
      }
     ],
     "prompt_number": 26
    },
    {
     "cell_type": "markdown",
     "metadata": {},
     "source": [
      "The figure below plot on a same graph all the tansfer function in modulus and phase of the ray transfer function."
     ]
    },
    {
     "cell_type": "markdown",
     "metadata": {},
     "source": [
      "If a realistic antenna is applied it gives "
     ]
    },
    {
     "cell_type": "code",
     "collapsed": false,
     "input": [
      "sca = C.prop2tran(S.tx.A,S.rx.A)"
     ],
     "language": "python",
     "metadata": {},
     "outputs": [],
     "prompt_number": 27
    },
    {
     "cell_type": "markdown",
     "metadata": {},
     "source": [
      "## Calculate UWB Channel Impulse Response "
     ]
    },
    {
     "cell_type": "markdown",
     "metadata": {},
     "source": [
      "Once the transmission channel has been evaluated on can convolved the waveform with the channel impulse response to get the received waveform."
     ]
    },
    {
     "cell_type": "code",
     "collapsed": true,
     "input": [
      "r = sca.applywavB(S.wav.sfg)"
     ],
     "language": "python",
     "metadata": {},
     "outputs": [],
     "prompt_number": 28
    },
    {
     "cell_type": "code",
     "collapsed": false,
     "input": [
      "fig,ax = r.plot(types=['l20'])\n",
      "plt.axis([15,60,-80,-20])\n",
      "plt.title(u'Received Waveform $r(t)$')"
     ],
     "language": "python",
     "metadata": {},
     "outputs": [
      {
       "output_type": "stream",
       "stream": "stderr",
       "text": [
        "/usr/local/lib/python2.7/dist-packages/matplotlib-1.2.1-py2.7-linux-x86_64.egg/matplotlib/axes.py:4601: UserWarning: No labeled objects found. Use label='...' kwarg on individual plots.\n",
        "  warnings.warn(\"No labeled objects found. \"\n"
       ]
      },
      {
       "output_type": "pyout",
       "prompt_number": 29,
       "text": [
        "<matplotlib.text.Text at 0x7f2bec21af50>"
       ]
      },
      {
       "output_type": "display_data",
       "png": "[encoded data removed]",
       "text": [
        "<matplotlib.figure.Figure at 0x7f2bec7044d0>"
       ]
      }
     ],
     "prompt_number": 29
    },
    {
     "cell_type": "code",
     "collapsed": false,
     "input": [
      "r.plot(types=['v'])\n",
      "plt.axis([15,60,-0.3,0.3])\n",
      "plt.title(u'Received Waveform $r(t)$')"
     ],
     "language": "python",
     "metadata": {},
     "outputs": [
      {
       "output_type": "pyout",
       "prompt_number": 30,
       "text": [
        "<matplotlib.text.Text at 0x7f2becb902d0>"
       ]
      },
      {
       "output_type": "display_data",
       "png": "[encoded data removed]",
       "text": [
        "<matplotlib.figure.Figure at 0x7f2bec20c510>"
       ]
      }
     ],
     "prompt_number": 30
    },
    {
     "cell_type": "heading",
     "level": 2,
     "metadata": {},
     "source": [
      "Hermitian symetry enforcment "
     ]
    },
    {
     "cell_type": "markdown",
     "metadata": {},
     "source": [
      "If the number of point for the transmission channel and the waveform were the same the mathematical operation is an Hadamrd-Shur product between \n",
      "$\\mathbf{Y}$ and $\\mathbf{W}$. \n",
      "\n",
      "$\\mathbf{Y} = \\mathbf{S} \\odot \\mathbf{W}$\n",
      "\n",
      "In practice this is what is done after a resampling of the time base with a reinterpolated  time step. "
     ]
    },
    {
     "cell_type": "markdown",
     "metadata": {},
     "source": [
      "The process which consists in going from time domain to frequency domain is delegated to a specialized class `pylayers.signal.bsignal.Bsignal` which maintains the proper \n",
      "binding between signal samples and their indexation either in time or in frequency domain."
     ]
    },
    {
     "cell_type": "code",
     "collapsed": false,
     "input": [
      "wgam = S.wav.sfg\n",
      "Y    = sc.apply(wgam)\n",
      "tau  = Y.tau0\n",
      "dod = Y.dod\n",
      "doa = Y.doa"
     ],
     "language": "python",
     "metadata": {},
     "outputs": [],
     "prompt_number": 31
    },
    {
     "cell_type": "markdown",
     "metadata": {},
     "source": [
      "The transmission channel has a member data which is the time delay of each path in nano seconds"
     ]
    },
    {
     "cell_type": "code",
     "collapsed": false,
     "input": [
      "print 'tau =', tau"
     ],
     "language": "python",
     "metadata": {},
     "outputs": [
      {
       "output_type": "stream",
       "stream": "stdout",
       "text": [
        "tau = [ 26.71869924  29.10708199  27.93842436  36.72255959  30.075433\n",
        "  30.03048589  29.64889324  34.35921355  32.36081306  38.49519081\n",
        "  32.21591227  32.17395555  31.81807982  37.6193175   31.1640552\n",
        "  31.12068041  30.75261837  39.23286412  38.90590625  37.86521462\n",
        "  33.05244038  32.66533294  40.03698677  37.62655033  42.60531715\n",
        "  37.02969534  36.99319869  36.68410469  41.01072684  35.18330575\n",
        "  35.14489175  34.81939407  40.89683313  40.58328319  39.58671257\n",
        "  35.01138599  34.64617309  41.66885699  39.35848858  40.07348617\n",
        "  39.75344272  38.7355282   34.04600538  33.67032288  40.8610692\n",
        "  38.50225911  45.47942049  40.04709276  42.35118067  42.04868734\n",
        "  40.27031144  45.28154414  47.70172314  44.78709963  44.50096862\n",
        "  43.59404942  39.48582634  39.16236258  45.49315307  43.38690997\n",
        "  43.27298187  42.97677133  42.03698148  37.75972919  37.42134832\n",
        "  44.00333673  41.82213078  46.9223936   41.6785673   43.89710511\n",
        "  43.6053373   41.8930939   46.73062778  49.07940224  46.20654017\n",
        "  40.87097143  43.13106967  42.83408426  41.08971465  46.01179095\n",
        "  48.39546526  50.34922397  45.50204727  47.54249857  47.27323528\n",
        "  45.69862854  50.17055816  52.36526576  49.00725478  44.01253199\n",
        "  46.11893144  45.84130714  44.21573608  48.82367841  51.07629317]\n"
       ]
      }
     ],
     "prompt_number": 32
    },
    {
     "cell_type": "code",
     "collapsed": false,
     "input": [
      "h = hist(tau)"
     ],
     "language": "python",
     "metadata": {},
     "outputs": [
      {
       "output_type": "display_data",
       "png": "[encoded data removed]",
       "text": [
        "<matplotlib.figure.Figure at 0x4c5e350>"
       ]
      }
     ],
     "prompt_number": 33
    },
    {
     "cell_type": "markdown",
     "metadata": {},
     "source": [
      "Direction of arrival $(\\theta_r,\\phi_r)$ in radians"
     ]
    },
    {
     "cell_type": "code",
     "collapsed": false,
     "input": [
      "print \"doa = \", doa[1:10,:]"
     ],
     "language": "python",
     "metadata": {},
     "outputs": [
      {
       "output_type": "stream",
       "stream": "stdout",
       "text": [
        "doa =  [[  1.98320677e+00   0.00000000e+00]\n",
        " [  1.26791146e+00   0.00000000e+00]\n",
        " [  1.52539537e+00  -3.13036507e+00]\n",
        " [  1.51535171e+00   4.84206095e-01]\n",
        " [  1.51526864e+00   7.19176215e-04]\n",
        " [  1.51455323e+00  -4.42936565e-01]\n",
        " [  8.88479772e-01   0.00000000e+00]\n",
        " [  2.17308367e+00   0.00000000e+00]\n",
        " [  1.87870692e+00  -3.13036507e+00]]\n"
       ]
      }
     ],
     "prompt_number": 34
    },
    {
     "cell_type": "code",
     "collapsed": false,
     "input": [
      "subplot(221)\n",
      "ht = hist(doa[:,0],20)\n",
      "xlabel(u'$\\\\theta_r$')\n",
      "ylabel('#')\n",
      "subplot(222)\n",
      "hp = hist(doa[:,1],20)\n",
      "xlabel(u'$\\phi_r$')\n",
      "ylabel('#')\n",
      "subplot(223)\n",
      "ht = hist(dod[:,0],20)\n",
      "xlabel(u'$\\\\theta_t$')\n",
      "ylabel('#')\n",
      "subplot(224)\n",
      "hp = hist(dod[:,1],20)\n",
      "xlabel(u'$\\phi_t$')\n",
      "ylabel('#')\n",
      "tight_layout()"
     ],
     "language": "python",
     "metadata": {},
     "outputs": [
      {
       "output_type": "display_data",
       "png": "[encoded data removed]",
       "text": [
        "<matplotlib.figure.Figure at 0xa3ae550>"
       ]
      }
     ],
     "prompt_number": 35
    },
    {
     "cell_type": "markdown",
     "metadata": {},
     "source": [
      "symHz force the Hermitian symetry of Y with as an argument here a zero padding of 500 points"
     ]
    },
    {
     "cell_type": "code",
     "collapsed": false,
     "input": [
      "UH   = Y.symHz(500)"
     ],
     "language": "python",
     "metadata": {},
     "outputs": [],
     "prompt_number": 36
    },
    {
     "cell_type": "code",
     "collapsed": false,
     "input": [
      "#%psource Y.symHz"
     ],
     "language": "python",
     "metadata": {},
     "outputs": [],
     "prompt_number": 37
    },
    {
     "cell_type": "code",
     "collapsed": false,
     "input": [
      "uh   = UH.ifft(1)"
     ],
     "language": "python",
     "metadata": {},
     "outputs": [],
     "prompt_number": 38
    },
    {
     "cell_type": "code",
     "collapsed": true,
     "input": [
      "ips  = Y.ift(500,1)\n",
      "t    = ips.x \n",
      "ip0  = TUsignal(t,ips.y[0,:])"
     ],
     "language": "python",
     "metadata": {},
     "outputs": [],
     "prompt_number": 39
    },
    {
     "cell_type": "code",
     "collapsed": false,
     "input": [
      "plot(UH.x,real(UH.y[0,:]),UH.x,imag(UH.y[0,:]))\n",
      "U0 = FHsignal(UH.x,UH.y[0,:])\n",
      "u0 = U0.ifft(1)\n",
      "u1 = ifft(U0.y)\n",
      "plt.figure()"
     ],
     "language": "python",
     "metadata": {},
     "outputs": [
      {
       "output_type": "pyout",
       "prompt_number": 40,
       "text": [
        "<matplotlib.figure.Figure at 0x7f2bed40f4d0>"
       ]
      },
      {
       "output_type": "display_data",
       "png": "[encoded data removed]",
       "text": [
        "<matplotlib.figure.Figure at 0xa3a3a90>"
       ]
      },
      {
       "output_type": "display_data",
       "text": [
        "<matplotlib.figure.Figure at 0x7f2bed40f4d0>"
       ]
      }
     ],
     "prompt_number": 40
    },
    {
     "cell_type": "code",
     "collapsed": false,
     "input": [
      "plot(uh.x,uh.y[0,:])"
     ],
     "language": "python",
     "metadata": {},
     "outputs": [
      {
       "output_type": "pyout",
       "prompt_number": 41,
       "text": [
        "[<matplotlib.lines.Line2D at 0x7f2bed409b50>]"
       ]
      },
      {
       "output_type": "display_data",
       "png": "[encoded data removed]",
       "text": [
        "<matplotlib.figure.Figure at 0x7f2becb7f050>"
       ]
      }
     ],
     "prompt_number": 41
    },
    {
     "cell_type": "code",
     "collapsed": false,
     "input": [],
     "language": "python",
     "metadata": {},
     "outputs": [],
     "prompt_number": 42
    }
   ],
   "metadata": {}
  }
 ]
}