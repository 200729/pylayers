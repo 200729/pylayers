{
 "metadata": {
  "name": ""
 },
 "nbformat": 3,
 "nbformat_minor": 0,
 "worksheets": [
  {
   "cells": [
    {
     "cell_type": "code",
     "collapsed": true,
     "input": [
      "from pylayers.signal.bsignal import *\n",
      "from pylayers.simul.simulem import *"
     ],
     "language": "python",
     "metadata": {},
     "outputs": [
      {
       "output_type": "display_data",
       "text": [
        "<matplotlib.figure.Figure at 0xb05ce2c>"
       ]
      }
     ],
     "prompt_number": 1
    },
    {
     "cell_type": "markdown",
     "metadata": {},
     "source": [
      "# Generation of an Impulse of normalized energy \n",
      "\n",
      "One possible manner to define an energy normalized short UWB impulse is as follows. This UWB waveform is generated with `bsignal.EnImpulse` function. \n",
      "\n",
      "The default waveform is a gaussian windowing of a sine wave of frequency $f_c$. The normalization term depends on the exponential scaling factor $\\tau$. \n",
      "\n",
      "$p(t)= \\frac{\\sqrt{2\\sqrt{2}}}{\\tau\\sqrt{\\pi}} \\cos(2\\pi f_c t) e^{-(\\frac{t}{\\tau})^2}$\n",
      "\n",
      "$\\tau = \\frac{2}{B\\pi}\\sqrt{\\frac{\\gamma_{dB}\\ln{10}}{20}}$\n",
      "\n",
      "where $B$ is the desired bandwidth defined at $\\gamma_{dB}$ below the spectrum maximum and $f_c$ is the central frequency of the pulse.\n",
      "\n",
      "\n"
     ]
    },
    {
     "cell_type": "code",
     "collapsed": true,
     "input": [
      "fc     = 4 \n",
      "band   = 2\n",
      "thresh = 10\n",
      "fe     = 100 \n",
      "ip     = EnImpulse([],fc,band,thresh,fe)"
     ],
     "language": "python",
     "metadata": {},
     "outputs": [],
     "prompt_number": 2
    },
    {
     "cell_type": "code",
     "collapsed": false,
     "input": [
      "ip.info()"
     ],
     "language": "python",
     "metadata": {},
     "outputs": [
      {
       "output_type": "stream",
       "stream": "stdout",
       "text": [
        "TUsignal\n",
        "--------\n",
        "shx :  (343,)\n",
        "shy :  (343,)\n",
        "dx :   0.01\n",
        "xmin : -1.71\n",
        "xmax : 1.71\n",
        "ymin : -1.89545539648\n",
        "ymax : 2.16154131873\n"
       ]
      }
     ],
     "prompt_number": 3
    },
    {
     "cell_type": "markdown",
     "metadata": {},
     "source": [
      "## Verification of energy normalization in both domains"
     ]
    },
    {
     "cell_type": "code",
     "collapsed": false,
     "input": [
      "E1= sum(ip.y*ip.y)*ip.dx()\n",
      "print \"Integration in time\",E1"
     ],
     "language": "python",
     "metadata": {},
     "outputs": [
      {
       "output_type": "stream",
       "stream": "stdout",
       "text": [
        "Integration in time 1.0\n"
       ]
      }
     ],
     "prompt_number": 4
    },
    {
     "cell_type": "code",
     "collapsed": false,
     "input": [
      "P = ip.esd()\n",
      "E2 = sum(P.y)*P.dx()\n",
      "print \"Integration in frequency domain \",E2"
     ],
     "language": "python",
     "metadata": {},
     "outputs": [
      {
       "output_type": "stream",
       "stream": "stdout",
       "text": [
        "Integration in frequency domain  1.0\n"
       ]
      }
     ],
     "prompt_number": 5
    },
    {
     "cell_type": "markdown",
     "metadata": {},
     "source": [
      "## Calculation of UWB channel impulse response"
     ]
    },
    {
     "cell_type": "code",
     "collapsed": false,
     "input": [
      "S = Simul()\n",
      "S.L=Layout('defstr3.ini')"
     ],
     "language": "python",
     "metadata": {},
     "outputs": [],
     "prompt_number": 6
    },
    {
     "cell_type": "code",
     "collapsed": false,
     "input": [
      "S.L.Gs.node"
     ],
     "language": "python",
     "metadata": {},
     "outputs": [
      {
       "output_type": "pyout",
       "prompt_number": 7,
       "text": [
        "{-8: {},\n",
        " -7: {},\n",
        " -6: {},\n",
        " -5: {},\n",
        " -4: {},\n",
        " -3: {},\n",
        " -2: {},\n",
        " -1: {},\n",
        " 1: {'connect': [-8, -7],\n",
        "  'name': 'PARTITION',\n",
        "  'ncycles': [0, 1],\n",
        "  'norm': array([-0.999982  , -0.00599989,  0.        ]),\n",
        "  'ss_name': ['WOOD', 'AIR', 'WOOD'],\n",
        "  'ss_z': [(0.0, 2.7), (2.7, 2.8), (2.8, 3)],\n",
        "  'transition': True,\n",
        "  'z': (0.0, 3.0)},\n",
        " 2: {'connect': [-8, -2],\n",
        "  'name': 'WALL',\n",
        "  'ncycles': [0, 1],\n",
        "  'norm': array([ 0.99997778,  0.00666652,  0.        ]),\n",
        "  'transition': False,\n",
        "  'z': (0.0, 3.0)},\n",
        " 3: {'connect': [-7, -5],\n",
        "  'name': 'WALL',\n",
        "  'ncycles': [0, 1],\n",
        "  'norm': array([-0.99997775, -0.00667097,  0.        ]),\n",
        "  'transition': False,\n",
        "  'z': (0.0, 3.0)},\n",
        " 4: {'connect': [-6, -1],\n",
        "  'name': 'WALL',\n",
        "  'ncycles': [1],\n",
        "  'norm': array([ 0.99997888,  0.00649986,  0.        ]),\n",
        "  'transition': False,\n",
        "  'z': (0.0, 3.0)},\n",
        " 5: {'connect': [-6, -5],\n",
        "  'name': 'WALL',\n",
        "  'ncycles': [1],\n",
        "  'norm': array([-0.00619988,  0.99998078,  0.        ]),\n",
        "  'transition': False,\n",
        "  'z': (0.0, 3.0)},\n",
        " 6: {'connect': [-5, -4],\n",
        "  'name': 'WALL',\n",
        "  'ncycles': [0],\n",
        "  'norm': array([-0.00639987,  0.99997952,  0.        ]),\n",
        "  'transition': False,\n",
        "  'z': (0.0, 3.0)},\n",
        " 7: {'connect': [-4, -3],\n",
        "  'name': 'WALL',\n",
        "  'ncycles': [0],\n",
        "  'norm': array([ 0.99997887,  0.00650149,  0.        ]),\n",
        "  'transition': False,\n",
        "  'z': (0.0, 3.0)},\n",
        " 8: {'connect': [-3, -2],\n",
        "  'name': 'WALL',\n",
        "  'ncycles': [0],\n",
        "  'norm': array([ 0.00639987, -0.99997952,  0.        ]),\n",
        "  'transition': False,\n",
        "  'z': (0.0, 3.0)},\n",
        " 9: {'connect': [-2, -1],\n",
        "  'name': 'WALL',\n",
        "  'ncycles': [1],\n",
        "  'norm': array([-0.00639987,  0.99997952,  0.        ]),\n",
        "  'transition': False,\n",
        "  'z': (0.0, 3.0)}}"
       ]
      }
     ],
     "prompt_number": 7
    },
    {
     "cell_type": "code",
     "collapsed": false,
     "input": [
      "st = S.wav.st\n",
      "sf = S.wav.sf\n",
      "S.wav.info()"
     ],
     "language": "python",
     "metadata": {},
     "outputs": [
      {
       "output_type": "stream",
       "stream": "stdout",
       "text": [
        "fcGHz  :  4.493\n",
        "typ  :  generic\n",
        "feGHz  :  100\n",
        "Np  :  3000\n",
        "twns  :  30\n",
        "te  :  0.01\n",
        "threshdB  :  3\n",
        "bandGHz  :  0.499\n"
       ]
      }
     ],
     "prompt_number": 8
    },
    {
     "cell_type": "code",
     "collapsed": false,
     "input": [
      "S.wav"
     ],
     "language": "python",
     "metadata": {},
     "outputs": [
      {
       "output_type": "pyout",
       "prompt_number": 9,
       "text": [
        "{'Np': 3000,\n",
        " 'bandGHz': 0.499,\n",
        " 'fcGHz': 4.493,\n",
        " 'feGHz': 100,\n",
        " 'te': 0.01,\n",
        " 'threshdB': 3,\n",
        " 'twns': 30,\n",
        " 'typ': 'generic'}"
       ]
      }
     ],
     "prompt_number": 9
    },
    {
     "cell_type": "code",
     "collapsed": false,
     "input": [
      "S.wav.show()"
     ],
     "language": "python",
     "metadata": {},
     "outputs": [
      {
       "output_type": "display_data",
       "png": "[encoded data removed]",
       "text": [
        "<matplotlib.figure.Figure at 0xb0dcaac>"
       ]
      }
     ],
     "prompt_number": 10
    },
    {
     "cell_type": "markdown",
     "metadata": {},
     "source": [
      "Here the time domain waveform is measured and the anticausal part of the signal is artificially set to 0.\n",
      "\n",
      "To handle properly the time domain wavefom it is required to center the signal in the middle of the array. \n",
      "\n",
      "+ `st` member stands for signal in time domain\n",
      "+ `sf` member stands for signal in frequency domain"
     ]
    },
    {
     "cell_type": "markdown",
     "metadata": {},
     "source": [
      "The measured waveform has a small offset of 0.7 ns, the following waveform compensate for this bias and is centered on local time origin. "
     ]
    },
    {
     "cell_type": "code",
     "collapsed": false,
     "input": [
      "S.wav['typ']='W1compensate'\n",
      "S.wav.eval()"
     ],
     "language": "python",
     "metadata": {},
     "outputs": [],
     "prompt_number": 11
    },
    {
     "cell_type": "markdown",
     "metadata": {},
     "source": [
      "The frequency domain version of the signal is embedded in the same object. \n",
      "\n",
      "`sf` stands for signal in frequency domain. "
     ]
    },
    {
     "cell_type": "code",
     "collapsed": false,
     "input": [
      "type(S.wav.sf)"
     ],
     "language": "python",
     "metadata": {},
     "outputs": [
      {
       "output_type": "pyout",
       "prompt_number": 12,
       "text": [
        "pylayers.signal.bsignal.FUsignal"
       ]
      }
     ],
     "prompt_number": 12
    },
    {
     "cell_type": "heading",
     "level": 2,
     "metadata": {},
     "source": [
      "Construction of the propagation channel "
     ]
    },
    {
     "cell_type": "markdown",
     "metadata": {},
     "source": [
      "The link between Txid = 1 and Rxid =1 is simply loaded as"
     ]
    },
    {
     "cell_type": "markdown",
     "metadata": {},
     "source": [
      "The following representation shows the spatial spreading of the propagation channel. \n",
      "On the left are scattered the intensity of rays wrt to angles of departure (in azimut and elevation). \n",
      "On the right is the intensity of rays wrt to angles of arrival. It misses the application between the 2\n",
      "planes as well as the delay dimension of the propagation channel."
     ]
    },
    {
     "cell_type": "code",
     "collapsed": false,
     "input": [
      "from pylayers.antprop.signature import *\n",
      "from pylayers.antprop.channel import *"
     ],
     "language": "python",
     "metadata": {},
     "outputs": [],
     "prompt_number": 13
    },
    {
     "cell_type": "code",
     "collapsed": false,
     "input": [
      "S.L.build()"
     ],
     "language": "python",
     "metadata": {},
     "outputs": [],
     "prompt_number": 14
    },
    {
     "cell_type": "code",
     "collapsed": false,
     "input": [
      "S.L"
     ],
     "language": "python",
     "metadata": {},
     "outputs": [
      {
       "output_type": "pyout",
       "prompt_number": 15,
       "text": [
        "\n",
        "----------------\n",
        "defstr3.ini\n",
        "Image('/private/staff/t/ot/niamiot/Bureau/P1/struc/images/TA-Office.png')\n",
        "----------------\n",
        "\n",
        "Number of points  : 8\n",
        "Number of segments  : 9\n",
        "Number of sub segments  : 3\n",
        "Number of cycles  : 2\n",
        "Number of rooms  : 2\n",
        "degree 0 : []\n",
        "degree 1 : [-8 -7]\n",
        "degree 2 : 4\n",
        "degree 3 : 2\n",
        "\n",
        "xrange :(758.49, 768.516)\n",
        "yrange :(1111.9, 1115.963)\n",
        "\n",
        "Useful dictionnaries\n",
        "----------------\n",
        "di {interaction : [nstr,typi]}\n",
        "sl {slab name : slab dictionary}\n",
        "name :  {slab :seglist} \n",
        "\n",
        "Useful arrays\n",
        "----------------\n",
        "tsg : get segment index in Gs from tahe\n",
        "tgs : get segment index in tahe from Gs\n",
        "lsss : list of segments with sub-segment\n",
        "sla : associated slab name\n",
        "stridess : stride for adressing sub segment \n",
        "degree : degree of nodes "
       ]
      }
     ],
     "prompt_number": 15
    },
    {
     "cell_type": "code",
     "collapsed": false,
     "input": [
      "S.L.Gt.pos"
     ],
     "language": "python",
     "metadata": {},
     "outputs": [
      {
       "output_type": "pyout",
       "prompt_number": 16,
       "text": [
        "{0: (766.00300113353387, 1113.947479109665),\n",
        " 1: (761.00289669547806, 1113.915769812613)}"
       ]
      }
     ],
     "prompt_number": 16
    },
    {
     "cell_type": "code",
     "collapsed": false,
     "input": [
      "tx=np.array([759,1114,1.0])\n",
      "rx=np.array([767,1114,1.5])\n",
      "ctx = S.L.pt2cy(tx)\n",
      "crx = S.L.pt2cy(rx)"
     ],
     "language": "python",
     "metadata": {},
     "outputs": [],
     "prompt_number": 17
    },
    {
     "cell_type": "code",
     "collapsed": false,
     "input": [
      "Si = Signatures(S.L,ctx,crx)\n",
      "Si.run1(cutoff=3)\n",
      "r2d = Si.rays(tx,rx)\n",
      "r3d = r2d.to3D(S.L)\n",
      "r3d.locbas(S.L)\n",
      "r3d.fillinter(S.L)"
     ],
     "language": "python",
     "metadata": {},
     "outputs": [],
     "prompt_number": 18
    },
    {
     "cell_type": "code",
     "collapsed": false,
     "input": [
      "fGHz = np.arange(2,10,0.1)"
     ],
     "language": "python",
     "metadata": {},
     "outputs": [],
     "prompt_number": 19
    },
    {
     "cell_type": "code",
     "collapsed": false,
     "input": [
      "C = r3d.eval(fGHz) "
     ],
     "language": "python",
     "metadata": {},
     "outputs": [
      {
       "output_type": "stream",
       "stream": "stdout",
       "text": [
        "Rays evaluation\n"
       ]
      }
     ],
     "prompt_number": 20
    },
    {
     "cell_type": "markdown",
     "metadata": {},
     "source": [
      "##  Construction of the transmission channel"
     ]
    },
    {
     "cell_type": "markdown",
     "metadata": {},
     "source": [
      "The transmission channel is obtain from the combination of the propagation channel and the vector antenna pattern at bot side of the radio link"
     ]
    },
    {
     "cell_type": "code",
     "collapsed": true,
     "input": [
      "sc = C.prop2tran()"
     ],
     "language": "python",
     "metadata": {},
     "outputs": [],
     "prompt_number": 21
    },
    {
     "cell_type": "markdown",
     "metadata": {},
     "source": [
      "The ScalChannel object contains all the information about the ray transfer functions. \n",
      "The transmission channel is obtained by applying a vector radiation pattern using an antenna file.\n",
      "\n",
      "In the presented case, it comes from a real antenna which has been used during the **FP7 project WHERE1** measurement campaign \n",
      "M1."
     ]
    },
    {
     "cell_type": "code",
     "collapsed": false,
     "input": [
      "sc"
     ],
     "language": "python",
     "metadata": {},
     "outputs": [
      {
       "output_type": "pyout",
       "prompt_number": 22,
       "text": [
        "freq :2.0 9.9 80\n",
        "shape  :(95, 80)\n",
        "tau :26.7186992365 52.3652657556\n",
        "dist :8.01560977094 15.7095797267"
       ]
      }
     ],
     "prompt_number": 22
    },
    {
     "cell_type": "markdown",
     "metadata": {},
     "source": [
      "The antenna radiation pattern is stored in a very compact way thanks to Vector Spherical Harmonics decomposition.\n",
      "The following gives information about the content of the antenna object."
     ]
    },
    {
     "cell_type": "code",
     "collapsed": false,
     "input": [
      "S.tx.A.info()"
     ],
     "language": "python",
     "metadata": {},
     "outputs": [
      {
       "output_type": "stream",
       "stream": "stdout",
       "text": [
        "defant.vsh3\n",
        "type :  vsh3\n",
        "No vsh coefficient calculated yet\n"
       ]
      }
     ],
     "prompt_number": 23
    },
    {
     "cell_type": "markdown",
     "metadata": {},
     "source": [
      "The figure below plot on a same graph all the tansfer function in modulus and phase of the ray transfer function."
     ]
    },
    {
     "cell_type": "markdown",
     "metadata": {},
     "source": [
      "If a realistic antenna is applied it gives "
     ]
    },
    {
     "cell_type": "code",
     "collapsed": false,
     "input": [
      "alpha = 1./sqrt(30)  # scaling constant depends on how are stored the antenna data\n",
      "sca = C.prop2tran(S.tx.A,S.rx.A)"
     ],
     "language": "python",
     "metadata": {},
     "outputs": [],
     "prompt_number": 24
    },
    {
     "cell_type": "markdown",
     "metadata": {},
     "source": [
      "## Calculate UWB Channel Impulse Response "
     ]
    },
    {
     "cell_type": "code",
     "collapsed": true,
     "input": [
      "cir = sca.applywavB(S.wav.sfg)"
     ],
     "language": "python",
     "metadata": {},
     "outputs": [],
     "prompt_number": 25
    },
    {
     "cell_type": "code",
     "collapsed": false,
     "input": [
      "cir.plot(types=['l20'])\n",
      "plt.axis([15,60,-120,-40])\n",
      "plt.title('Received Waveform')"
     ],
     "language": "python",
     "metadata": {},
     "outputs": [
      {
       "output_type": "stream",
       "stream": "stderr",
       "text": [
        "/usr/local/lib/python2.7/site-packages/matplotlib/axes.py:4442: UserWarning: No labeled objects found. Use label='...' kwarg on individual plots.\n",
        "  warnings.warn(\"No labeled objects found. \"\n"
       ]
      },
      {
       "output_type": "pyout",
       "prompt_number": 26,
       "text": [
        "<matplotlib.text.Text at 0xb0e998c>"
       ]
      },
      {
       "output_type": "display_data",
       "png": "[encoded data removed]",
       "text": [
        "<matplotlib.figure.Figure at 0xb0eda6c>"
       ]
      }
     ],
     "prompt_number": 26
    },
    {
     "cell_type": "heading",
     "level": 2,
     "metadata": {},
     "source": [
      "Hermitian symetry enforcment "
     ]
    },
    {
     "cell_type": "markdown",
     "metadata": {},
     "source": [
      "If the number of point for the transmission channel and the waveform were the same the mathematical operation is an Hadamrd-Shur product between \n",
      "$\\mathbf{Y}$ and $\\mathbf{W}$. \n",
      "\n",
      "$\\mathbf{Y} = \\mathbf{S} \\odot \\mathbf{W}$\n",
      "\n",
      "In practice this is what is done after a resampling of the time base with the greater time step. "
     ]
    },
    {
     "cell_type": "markdown",
     "metadata": {},
     "source": [
      "The process which consists in going from time domain to frequency domain is delegated to a specialized class `Bsignal` which maintain the proper \n",
      "binding between signal samples and their indexation either in time or in frequency domain."
     ]
    },
    {
     "cell_type": "code",
     "collapsed": false,
     "input": [
      "wgam = S.wav.sfg\n",
      "Y    = sc.apply(wgam)\n",
      "tau  = Y.tau0\n",
      "dod = Y.dod\n",
      "doa = Y.doa"
     ],
     "language": "python",
     "metadata": {},
     "outputs": [],
     "prompt_number": 27
    },
    {
     "cell_type": "markdown",
     "metadata": {},
     "source": [
      "The transmission channel has a member data which is the time delay of each path"
     ]
    },
    {
     "cell_type": "code",
     "collapsed": false,
     "input": [
      "print 'tau =', tau"
     ],
     "language": "python",
     "metadata": {},
     "outputs": [
      {
       "output_type": "stream",
       "stream": "stdout",
       "text": [
        "tau = [ 26.71869924  29.10708199  27.93842436  36.72255959  30.075433\n",
        "  30.03048589  29.64889324  34.35921355  32.36081306  38.49519081\n",
        "  32.21591227  32.17395555  31.81807982  37.6193175   31.1640552\n",
        "  31.12068041  30.75261837  39.23286412  38.90590625  37.86521462\n",
        "  33.05244038  32.66533294  40.03698677  37.62655033  42.60531715\n",
        "  37.02969534  36.99319869  36.68410469  41.01072684  35.18330575\n",
        "  35.14489175  34.81939407  40.89683313  40.58328319  39.58671257\n",
        "  35.01138599  34.64617309  41.66885699  39.35848858  40.07348617\n",
        "  39.75344272  38.7355282   34.04600538  33.67032288  40.8610692\n",
        "  38.50225911  45.47942049  40.04709276  42.35118067  42.04868734\n",
        "  40.27031144  45.28154414  47.70172314  44.78709963  44.50096862\n",
        "  43.59404942  39.48582634  39.16236258  45.49315307  43.38690997\n",
        "  43.27298187  42.97677133  42.03698148  37.75972919  37.42134832\n",
        "  44.00333673  41.82213078  46.9223936   41.6785673   43.89710511\n",
        "  43.6053373   41.8930939   46.73062778  49.07940224  46.20654017\n",
        "  40.87097143  43.13106967  42.83408426  41.08971465  46.01179095\n",
        "  48.39546526  50.34922397  45.50204727  47.54249857  47.27323528\n",
        "  45.69862854  50.17055816  52.36526576  49.00725478  44.01253199\n",
        "  46.11893144  45.84130714  44.21573608  48.82367841  51.07629317]\n"
       ]
      }
     ],
     "prompt_number": 28
    },
    {
     "cell_type": "code",
     "collapsed": false,
     "input": [
      "print \"doa = \", doa"
     ],
     "language": "python",
     "metadata": {},
     "outputs": [
      {
       "output_type": "stream",
       "stream": "stdout",
       "text": [
        "doa =  [[  1.50837752e+00   0.00000000e+00]\n",
        " [  1.98320677e+00   0.00000000e+00]\n",
        " [  1.26791146e+00   0.00000000e+00]\n",
        " [  1.52539537e+00  -3.13036507e+00]\n",
        " [  1.51535171e+00   4.84206095e-01]\n",
        " [  1.51526864e+00   7.19176215e-04]\n",
        " [  1.51455323e+00  -4.42936565e-01]\n",
        " [  8.88479772e-01   0.00000000e+00]\n",
        " [  2.17308367e+00   0.00000000e+00]\n",
        " [  1.87870692e+00  -3.13036507e+00]\n",
        " [  1.94135891e+00   4.84206095e-01]\n",
        " [  1.94186560e+00   7.19176215e-04]\n",
        " [  1.94622120e+00  -4.42936565e-01]\n",
        " [  1.34742607e+00  -3.13036507e+00]\n",
        " [  1.30010040e+00   4.84206095e-01]\n",
        " [  1.29971360e+00   7.19176215e-04]\n",
        " [  1.29638573e+00  -4.42936565e-01]\n",
        " [  1.52830215e+00   2.78816399e+00]\n",
        " [  1.52794482e+00  -2.79803225e+00]\n",
        " [  1.52676633e+00  -7.82084487e-01]\n",
        " [  1.52035001e+00   4.37966837e-01]\n",
        " [  1.51975167e+00  -3.98794687e-01]\n",
        " [  1.52915612e+00  -3.13075689e+00]\n",
        " [  1.52648687e+00   7.88643791e-01]\n",
        " [  1.03730369e+00  -3.13036507e+00]\n",
        " [  9.45773253e-01   4.84206095e-01]\n",
        " [  9.45061235e-01   7.19176215e-04]\n",
        " [  9.38959217e-01  -4.42936565e-01]\n",
        " [  2.03424708e+00  -3.13036507e+00]\n",
        " [  2.11891270e+00   4.84206095e-01]\n",
        " [  2.11958014e+00   7.19176215e-04]\n",
        " [  2.12530598e+00  -4.42936565e-01]\n",
        " [  1.86008514e+00   2.78816399e+00]\n",
        " [  1.86238551e+00  -2.79803225e+00]\n",
        " [  1.86995011e+00  -7.82084487e-01]\n",
        " [  1.91051826e+00   4.37966837e-01]\n",
        " [  1.91424624e+00  -3.98794687e-01]\n",
        " [  1.85457510e+00  -3.13075689e+00]\n",
        " [  1.87173895e+00   7.88643791e-01]\n",
        " [  1.36131633e+00   2.78816399e+00]\n",
        " [  1.35960444e+00  -2.79803225e+00]\n",
        " [  1.35396717e+00  -7.82084487e-01]\n",
        " [  1.32351711e+00   4.37966837e-01]\n",
        " [  1.32069940e+00  -3.98794687e-01]\n",
        " [  1.36541233e+00  -3.13075689e+00]\n",
        " [  1.35263232e+00   7.88643791e-01]\n",
        " [  1.53414151e+00  -2.50351162e+00]\n",
        " [  1.52916663e+00   7.30195950e-01]\n",
        " [  1.53143267e+00   2.81579411e+00]\n",
        " [  1.53114935e+00  -2.82413360e+00]\n",
        " [  1.52939752e+00  -7.23561949e-01]\n",
        " [  1.53398126e+00   2.52262984e+00]\n",
        " [  1.53584988e+00  -9.70847715e-01]\n",
        " [  1.06583881e+00   2.78816399e+00]\n",
        " [  1.06228121e+00  -2.79803225e+00]\n",
        " [  1.05064699e+00  -7.82084487e-01]\n",
        " [  9.89963827e-01   4.37966837e-01]\n",
        " [  9.84532886e-01  -3.98794687e-01]\n",
        " [  1.07439746e+00  -3.13075689e+00]\n",
        " [  1.04791035e+00   7.88643791e-01]\n",
        " [  2.00828608e+00   2.78816399e+00]\n",
        " [  2.01151219e+00  -2.79803225e+00]\n",
        " [  2.02208319e+00  -7.82084487e-01]\n",
        " [  2.07776116e+00   4.37966837e-01]\n",
        " [  2.08279021e+00  -3.98794687e-01]\n",
        " [  2.00053700e+00  -3.13075689e+00]\n",
        " [  2.02457443e+00   7.88643791e-01]\n",
        " [  1.82206965e+00  -2.50351162e+00]\n",
        " [  1.85450716e+00   7.30195950e-01]\n",
        " [  1.83980203e+00   2.81579411e+00]\n",
        " [  1.84164716e+00  -2.82413360e+00]\n",
        " [  1.85301437e+00  -7.23561949e-01]\n",
        " [  1.82312320e+00   2.52262984e+00]\n",
        " [  1.81080396e+00  -9.70847715e-01]\n",
        " [  1.38945441e+00  -2.50351162e+00]\n",
        " [  1.36546280e+00   7.30195950e-01]\n",
        " [  1.37636407e+00   2.81579411e+00]\n",
        " [  1.37499856e+00  -2.82413360e+00]\n",
        " [  1.36657140e+00  -7.23561949e-01]\n",
        " [  1.38867828e+00   2.52262984e+00]\n",
        " [  1.39774140e+00  -9.70847715e-01]\n",
        " [  1.12594053e+00  -2.50351162e+00]\n",
        " [  1.07450333e+00   7.30195950e-01]\n",
        " [  1.09760124e+00   2.81579411e+00]\n",
        " [  1.09468281e+00  -2.82413360e+00]\n",
        " [  1.07683122e+00  -7.23561949e-01]\n",
        " [  1.12424214e+00   2.52262984e+00]\n",
        " [  1.14421571e+00  -9.70847715e-01]\n",
        " [  1.95421627e+00  -2.50351162e+00]\n",
        " [  2.00044125e+00   7.30195950e-01]\n",
        " [  1.97961207e+00   2.81579411e+00]\n",
        " [  1.98223726e+00  -2.82413360e+00]\n",
        " [  1.99833654e+00  -7.23561949e-01]\n",
        " [  1.95573345e+00   2.52262984e+00]\n",
        " [  1.93792847e+00  -9.70847715e-01]]\n"
       ]
      }
     ],
     "prompt_number": 29
    },
    {
     "cell_type": "markdown",
     "metadata": {},
     "source": [
      "symHz force the Hermitian symetry of Y with as an argument here a zero padding of 500 points"
     ]
    },
    {
     "cell_type": "code",
     "collapsed": false,
     "input": [
      "uh   = UH.ifft(1)"
     ],
     "language": "python",
     "metadata": {},
     "outputs": [
      {
       "ename": "NameError",
       "evalue": "name 'UH' is not defined",
       "output_type": "pyerr",
       "traceback": [
        "\u001b[1;31m---------------------------------------------------------------------------\u001b[0m\n\u001b[1;31mNameError\u001b[0m                                 Traceback (most recent call last)",
        "\u001b[1;32m<ipython-input-30-57e917552819>\u001b[0m in \u001b[0;36m<module>\u001b[1;34m()\u001b[0m\n\u001b[1;32m----> 1\u001b[1;33m \u001b[0muh\u001b[0m   \u001b[1;33m=\u001b[0m \u001b[0mUH\u001b[0m\u001b[1;33m.\u001b[0m\u001b[0mifft\u001b[0m\u001b[1;33m(\u001b[0m\u001b[1;36m1\u001b[0m\u001b[1;33m)\u001b[0m\u001b[1;33m\u001b[0m\u001b[0m\n\u001b[0m",
        "\u001b[1;31mNameError\u001b[0m: name 'UH' is not defined"
       ]
      }
     ],
     "prompt_number": 30
    },
    {
     "cell_type": "code",
     "collapsed": true,
     "input": [
      "ips  = Y.ift(500,1)\n",
      "t    = ips.x \n",
      "ip0  = TUsignal(t,ips.y[0,:])"
     ],
     "language": "python",
     "metadata": {},
     "outputs": [],
     "prompt_number": 197
    },
    {
     "cell_type": "code",
     "collapsed": false,
     "input": [
      "plot(UH.x,real(UH.y[0,:]),UH.x,imag(UH.y[0,:]))\n",
      "U0 = FHsignal(UH.x,UH.y[0,:])\n",
      "u0 = U0.ifft(1)\n",
      "u1 = ifft(U0.y)\n",
      "plt.figure()\n"
     ],
     "language": "python",
     "metadata": {},
     "outputs": [
      {
       "metadata": {},
       "output_type": "pyout",
       "prompt_number": 198,
       "text": [
        "<matplotlib.figure.Figure at 0x115d7090>"
       ]
      },
      {
       "metadata": {},
       "output_type": "display_data",
       "png": "[encoded data removed]",
       "text": [
        "<matplotlib.figure.Figure at 0x7f4b2ee2ff10>"
       ]
      },
      {
       "metadata": {},
       "output_type": "display_data",
       "text": [
        "<matplotlib.figure.Figure at 0x115d7090>"
       ]
      }
     ],
     "prompt_number": 198
    },
    {
     "cell_type": "code",
     "collapsed": false,
     "input": [
      "plot(uh.x,uh.y[0,:]*1000+3)"
     ],
     "language": "python",
     "metadata": {},
     "outputs": [
      {
       "metadata": {},
       "output_type": "pyout",
       "prompt_number": 199,
       "text": [
        "[<matplotlib.lines.Line2D at 0x7f4b2f399b90>]"
       ]
      },
      {
       "metadata": {},
       "output_type": "display_data",
       "png": "[encoded data removed]",
       "text": [
        "<matplotlib.figure.Figure at 0x154c4ad0>"
       ]
      }
     ],
     "prompt_number": 199
    },
    {
     "cell_type": "code",
     "collapsed": false,
     "input": [
      "from IPython.core.display import HTML\n",
      "\n",
      "def css_styling():\n",
      "    styles = open(\"../styles/custom.css\", \"r\").read()\n",
      "    return HTML(styles)\n",
      "css_styling()"
     ],
     "language": "python",
     "metadata": {},
     "outputs": [
      {
       "html": [
        "<style>\n",
        "    @font-face {\n",
        "        font-family: \"Computer Modern\";\n",
        "        src: url('http://mirrors.ctan.org/fonts/cm-unicode/fonts/otf/cmunss.otf');\n",
        "    }\n",
        "    div.cell{\n",
        "        width:800px;\n",
        "        margin-left:16% !important;\n",
        "        margin-right:auto;\n",
        "    }\n",
        "    h1 {\n",
        "        font-family: Helvetica, serif;\n",
        "    }\n",
        "    h4{\n",
        "        margin-top:12px;\n",
        "        margin-bottom: 3px;\n",
        "       }\n",
        "    div.text_cell_render{\n",
        "        font-family: Computer Modern, \"Helvetica Neue\", Arial, Helvetica, Geneva, sans-serif;\n",
        "        line-height: 145%;\n",
        "        font-size: 130%;\n",
        "        width:800px;\n",
        "        margin-left:auto;\n",
        "        margin-right:auto;\n",
        "    }\n",
        "    .CodeMirror{\n",
        "            font-family: \"Source Code Pro\", source-code-pro,Consolas, monospace;\n",
        "    }\n",
        "    .prompt{\n",
        "        display: None;\n",
        "    }\n",
        "    .text_cell_render h5 {\n",
        "        font-weight: 300;\n",
        "        font-size: 22pt;\n",
        "        color: #4057A1;\n",
        "        font-style: italic;\n",
        "        margin-bottom: .5em;\n",
        "        margin-top: 0.5em;\n",
        "        display: block;\n",
        "    }\n",
        "    \n",
        "    .warning{\n",
        "        color: rgb( 240, 20, 20 )\n",
        "        }  \n",
        "</style>\n",
        "<script>\n",
        "    MathJax.Hub.Config({\n",
        "                        TeX: {\n",
        "                           extensions: [\"AMSmath.js\"]\n",
        "                           },\n",
        "                tex2jax: {\n",
        "                    inlineMath: [ ['$','$'], [\"\\\\(\",\"\\\\)\"] ],\n",
        "                    displayMath: [ ['$$','$$'], [\"\\\\[\",\"\\\\]\"] ]\n",
        "                },\n",
        "                displayAlign: 'center', // Change this to 'center' to center equations.\n",
        "                \"HTML-CSS\": {\n",
        "                    styles: {'.MathJax_Display': {\"margin\": 4}}\n",
        "                }\n",
        "        });\n",
        "</script>"
       ],
       "metadata": {},
       "output_type": "pyout",
       "prompt_number": 200,
       "text": [
        "<IPython.core.display.HTML at 0x7f4b2bebb090>"
       ]
      }
     ],
     "prompt_number": 200
    }
   ],
   "metadata": {}
  }
 ]
}