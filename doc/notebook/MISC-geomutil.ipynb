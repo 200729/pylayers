{
 "metadata": {
  "name": ""
 },
 "nbformat": 3,
 "nbformat_minor": 0,
 "worksheets": [
  {
   "cells": [
    {
     "cell_type": "code",
     "collapsed": false,
     "input": [
      "from IPython.core.display import HTML\n",
      "def css_styling():\n",
      "    styles = open(\"../styles/custom.css\", \"r\").read()\n",
      "    return HTML(styles)\n",
      "css_styling()"
     ],
     "language": "python",
     "metadata": {},
     "outputs": [],
     "prompt_number": 1
    },
    {
     "cell_type": "markdown",
     "metadata": {},
     "source": [
      "**Geomutil** is a module which gathers different geometrical functions used in other modeule of pylayers.\n",
      "\n",
      "\n",
      "The importation is done as below. The geoutil alias is *geu*\n",
      "\n"
     ]
    },
    {
     "cell_type": "code",
     "collapsed": false,
     "input": [
      "from pylayers.util.geomutil import *\n",
      "from pylayers.util.plotutil import *\n",
      "import shapely.geometry as shg"
     ],
     "language": "python",
     "metadata": {},
     "outputs": [],
     "prompt_number": 2
    },
    {
     "cell_type": "heading",
     "level": 1,
     "metadata": {},
     "source": [
      "Class Polygon"
     ]
    },
    {
     "cell_type": "markdown",
     "metadata": {},
     "source": [
      "This class is important because it implements the visibility graph, of a Polygon."
     ]
    },
    {
     "cell_type": "markdown",
     "metadata": {},
     "source": [
      "The Polygon class is a subclass of the shapely polygon class. \n",
      "It allows to initialize a Polygon with different object (list,np.array,sh.MultiPoint)\n",
      "\n"
     ]
    },
    {
     "cell_type": "code",
     "collapsed": false,
     "input": [
      "points = shg.MultiPoint([(0, 0), (1, 1), (2, 0), (1, 0),(0,-2)])\n",
      "poly1 = Polygon(points)\n",
      "poly2 = Polygon(p=[[3,4,4,3],[1,1,2,2]])\n",
      "N = 7\n",
      "phi = np.linspace(0,2*np.pi,N)\n",
      "x = 3*np.cos(phi)+5\n",
      "y = 3*np.sin(phi)+5\n",
      "nppoints  = np.vstack((x,y))\n",
      "poly3  = Polygon(nppoints)"
     ],
     "language": "python",
     "metadata": {},
     "outputs": [],
     "prompt_number": 3
    },
    {
     "cell_type": "heading",
     "level": 2,
     "metadata": {},
     "source": [
      "ploting polygons"
     ]
    },
    {
     "cell_type": "code",
     "collapsed": false,
     "input": [
      "fig = figure()\n",
      "ax = fig.gca()\n",
      "axis('off')\n",
      "axis('equal')\n",
      "fig,ax=poly1.plot(color='green',fig=fig,ax=ax)\n",
      "fig,ax=poly2.plot(color='red',fig=fig,ax=ax)\n",
      "fig,ax=poly3.plot(color='#000000',fig=fig,ax=ax)"
     ],
     "language": "python",
     "metadata": {},
     "outputs": [],
     "prompt_number": 4
    },
    {
     "cell_type": "markdown",
     "metadata": {},
     "source": [
      "## `buildGv()`"
     ]
    },
    {
     "cell_type": "markdown",
     "metadata": {},
     "source": [
      "Dertermine visibility relationships in a Polygon. Returns a graph\n",
      "\n",
      "This function is used for determining visibility relationships in indoor environement.\n",
      "\n"
     ]
    },
    {
     "cell_type": "code",
     "collapsed": false,
     "input": [
      "figsize(8,8)\n",
      "points  = shg.MultiPoint([(0, 0), (0, 1), (2.5,1), (2.5, 2), \\\n",
      "                                          (2.8,2), (2.8, 1.1), (3.2, 1.1), \\\n",
      "                                          (3.2, 0.7), (0.4, 0.7), (0.4, 0)])\n",
      "polyg   = Polygon(points)\n",
      "Gv      = polyg.buildGv(show=True)\n",
      "plt.axis('off')"
     ],
     "language": "python",
     "metadata": {},
     "outputs": [],
     "prompt_number": 5
    },
    {
     "cell_type": "heading",
     "level": 1,
     "metadata": {},
     "source": [
      "Geomview classes"
     ]
    },
    {
     "cell_type": "heading",
     "level": 2,
     "metadata": {},
     "source": [
      "GeomVect class"
     ]
    },
    {
     "cell_type": "markdown",
     "metadata": {},
     "source": [
      "This class is used to interact with geomview 3D viewer. \n",
      "\n"
     ]
    },
    {
     "cell_type": "heading",
     "level": 3,
     "metadata": {},
     "source": [
      "geomBase"
     ]
    },
    {
     "cell_type": "markdown",
     "metadata": {},
     "source": [
      "Display a base "
     ]
    },
    {
     "cell_type": "code",
     "collapsed": false,
     "input": [
      "v1 = np.array([1,0,0])\n",
      "v2 = np.array([0,1,0])\n",
      "v3 = np.array([0,0,1])\n",
      "M  = np.vstack((v1,v2,v3))\n",
      "gv = GeomVect('test')\n",
      "gv.geomBase(M)\n",
      "#gv.show3()"
     ],
     "language": "python",
     "metadata": {},
     "outputs": [],
     "prompt_number": 6
    },
    {
     "cell_type": "heading",
     "level": 3,
     "metadata": {},
     "source": [
      "points"
     ]
    },
    {
     "cell_type": "markdown",
     "metadata": {},
     "source": [
      "display a set of points "
     ]
    },
    {
     "cell_type": "code",
     "collapsed": false,
     "input": [
      "gv1 = GeomVect('test1')\n",
      "gv1.points(rand(3,10))\n",
      "#gv1.show3()"
     ],
     "language": "python",
     "metadata": {},
     "outputs": [],
     "prompt_number": 7
    },
    {
     "cell_type": "markdown",
     "metadata": {},
     "source": [
      "ndarray method converts a Polygon object to an ndarray "
     ]
    },
    {
     "cell_type": "code",
     "collapsed": false,
     "input": [
      "geo = Geomoff('test2')\n",
      "pt  = poly3.ndarray().T\n",
      "pt1 = np.hstack((pt,np.zeros((7,1))))\n"
     ],
     "language": "python",
     "metadata": {},
     "outputs": [],
     "prompt_number": 8
    },
    {
     "cell_type": "markdown",
     "metadata": {},
     "source": [
      "This class is used in module vrml2geom"
     ]
    },
    {
     "cell_type": "code",
     "collapsed": false,
     "input": [
      "polys = [[0,1,2,3,4,5,6]]\n",
      "geo.polygons(pt1,polys)\n",
      "#geo.show3()"
     ],
     "language": "python",
     "metadata": {},
     "outputs": [],
     "prompt_number": 9
    },
    {
     "cell_type": "code",
     "collapsed": false,
     "input": [
      "poly = [0,1,2,3,4,5,6]\n",
      "geo.polygon(pt1,poly)\n",
      "#geo.show3()"
     ],
     "language": "python",
     "metadata": {},
     "outputs": [],
     "prompt_number": 10
    },
    {
     "cell_type": "code",
     "collapsed": false,
     "input": [
      "np.zeros((7,1))"
     ],
     "language": "python",
     "metadata": {},
     "outputs": [],
     "prompt_number": 11
    },
    {
     "cell_type": "code",
     "collapsed": false,
     "input": [
      "extrem=np.array([-2,2,-2,2,-2,2])"
     ],
     "language": "python",
     "metadata": {},
     "outputs": [],
     "prompt_number": 12
    },
    {
     "cell_type": "heading",
     "level": 3,
     "metadata": {},
     "source": [
      "plotting a box "
     ]
    },
    {
     "cell_type": "code",
     "collapsed": false,
     "input": [
      "geo=Geomoff('test3')\n",
      "geo.box()"
     ],
     "language": "python",
     "metadata": {},
     "outputs": [],
     "prompt_number": 13
    },
    {
     "cell_type": "code",
     "collapsed": false,
     "input": [
      "#geo.show3()"
     ],
     "language": "python",
     "metadata": {},
     "outputs": [],
     "prompt_number": 14
    },
    {
     "cell_type": "heading",
     "level": 2,
     "metadata": {},
     "source": [
      "Utility functions"
     ]
    },
    {
     "cell_type": "heading",
     "level": 3,
     "metadata": {},
     "source": [
      "angledir"
     ]
    },
    {
     "cell_type": "markdown",
     "metadata": {},
     "source": [
      "angledir converts a 3D vector into the 2 spherical angle $\\theta$, $\\phi$ expressed in radians"
     ]
    },
    {
     "cell_type": "code",
     "collapsed": false,
     "input": [
      "s = np.array([[2,0,0],[0,2,0],[0,0,1],[1,1,1]]) \n",
      "angledir(s)*180/pi"
     ],
     "language": "python",
     "metadata": {},
     "outputs": [],
     "prompt_number": 15
    },
    {
     "cell_type": "heading",
     "level": 3,
     "metadata": {},
     "source": [
      "linet"
     ]
    },
    {
     "cell_type": "code",
     "collapsed": false,
     "input": [
      "fig = figure()\n",
      "axis('off')\n",
      "ax = fig.gca()\n",
      "p1 = np.array([0,0])\n",
      "p2 = np.array([1,0])\n",
      "p3 = np.array([0,1])\n",
      "p4 = np.array([1,1])\n",
      "ax = linet(ax,p1,p2,al=0.7,color='red',linewidth=3)\n",
      "ax = linet(ax,p2,p3,al=0.8,color='blue',linewidth=2)\n",
      "ax = linet(ax,p3,p4,al=0.9,color='green',linewidth=1)\n",
      "ax = linet(ax,p4,p1,al=1,color='cyan',linewidth=10)"
     ],
     "language": "python",
     "metadata": {},
     "outputs": [],
     "prompt_number": 16
    },
    {
     "cell_type": "heading",
     "level": 3,
     "metadata": {},
     "source": [
      "dptseg(p,pt,ph)"
     ]
    },
    {
     "cell_type": "markdown",
     "metadata": {},
     "source": [
      "this function calculates distances between a set of points and a segment"
     ]
    },
    {
     "cell_type": "code",
     "collapsed": false,
     "input": [
      "pt = np.array([0,0])\n",
      "ph = np.array([10,0])\n",
      "p  = np.array([[-1,1 ,3,4,11],[8,1,2,3,3]])\n",
      "d1,d2,h = dptseg(p,pt,ph)\n"
     ],
     "language": "python",
     "metadata": {},
     "outputs": [],
     "prompt_number": 17
    },
    {
     "cell_type": "code",
     "collapsed": false,
     "input": [
      "print d1,d2,h"
     ],
     "language": "python",
     "metadata": {},
     "outputs": [],
     "prompt_number": 18
    },
    {
     "cell_type": "heading",
     "level": 3,
     "metadata": {},
     "source": [
      "displot\n"
     ]
    },
    {
     "cell_type": "code",
     "collapsed": false,
     "input": [
      "axis('off')\n",
      "axis('equal')\n",
      "N   = 50\n",
      "pt  = sp.rand(2,N)\n",
      "ph  = sp.rand(2,N)\n",
      "f,a = displot(pt,ph)"
     ],
     "language": "python",
     "metadata": {},
     "outputs": [],
     "prompt_number": 19
    },
    {
     "cell_type": "heading",
     "level": 3,
     "metadata": {},
     "source": [
      "ptonseg(pta,phe,pt)\n"
     ]
    },
    {
     "cell_type": "markdown",
     "metadata": {},
     "source": [
      "used in select.py"
     ]
    },
    {
     "cell_type": "code",
     "collapsed": false,
     "input": [
      "pta = np.array([0,0])\n",
      "phe = np.array([10,0])\n",
      "pt = np.array([9,8])\n",
      "p = ptonseg(pta,phe,pt)\n",
      "print p"
     ],
     "language": "python",
     "metadata": {},
     "outputs": [],
     "prompt_number": 20
    },
    {
     "cell_type": "heading",
     "level": 3,
     "metadata": {},
     "source": [
      "ptconvex"
     ]
    },
    {
     "cell_type": "code",
     "collapsed": false,
     "input": [
      "points  = shg.MultiPoint([(0, 0), (0, 1), (3.2, 1), (3.2, 0.7), (0.4, 0.7), (0.4, 0)])\n",
      "N = len(points)\n",
      "polyg   = Polygon(points)\n",
      "tcc,n   = polyg.ptconvex()       "
     ],
     "language": "python",
     "metadata": {},
     "outputs": [],
     "prompt_number": 21
    },
    {
     "cell_type": "code",
     "collapsed": false,
     "input": [
      "axis('off')\n",
      "axis('equal')\n",
      "k = 0\n",
      "polyg.plot()\n",
      "for p in points:\n",
      "    if tcc[k] == 1 :\n",
      "        plt.plot(p.x, p.y, 'o', color='red',alpha=1)\n",
      "    else:\n",
      "        plt.plot(p.x, p.y, 'o', color='blue',alpha=0.3)\n",
      "    k = k+1\n"
     ],
     "language": "python",
     "metadata": {},
     "outputs": [],
     "prompt_number": 22
    },
    {
     "cell_type": "heading",
     "level": 3,
     "metadata": {},
     "source": [
      "intersect"
     ]
    },
    {
     "cell_type": "markdown",
     "metadata": {},
     "source": [
      "intersect(A,B,C,D) wether or not the N segments (AB) intersects N segments (CD). \n",
      "The intersection is tested only for the segment of same index in the ndarray. "
     ]
    },
    {
     "cell_type": "code",
     "collapsed": false,
     "input": [
      "from pylayers.util.geomutil import *\n",
      "from pylayers.util.plotutil import *\n",
      "import scipy as sp\n",
      "N1 = 6\n",
      "N2 = 5\n",
      "A = sp.rand(2,N1)\n",
      "B = sp.rand(2,N1)\n",
      "C = sp.rand(2,N1)\n",
      "D = sp.rand(2,N1)\n",
      "b1 = intersect(A,B,C,D)"
     ],
     "language": "python",
     "metadata": {},
     "outputs": [],
     "prompt_number": 23
    },
    {
     "cell_type": "code",
     "collapsed": false,
     "input": [
      "b1"
     ],
     "language": "python",
     "metadata": {},
     "outputs": [],
     "prompt_number": 24
    },
    {
     "cell_type": "code",
     "collapsed": false,
     "input": [
      "pt1 = A[:,b1]\n",
      "ph1 = B[:,b1]\n",
      "pt2 = C[:,b1]\n",
      "ph2 = D[:,b1]\n",
      "pt3 = A[:,(1-b1).astype(bool)]\n",
      "ph3 = B[:,(1-b1).astype(bool)]\n",
      "pt4 = C[:,(1-b1).astype(bool)]\n",
      "ph4 = D[:,(1-b1).astype(bool)]\n",
      "f1,a1 = displot(pt1,ph1,'r')\n",
      "f2,a2 = displot(pt2,ph2,'b')\n",
      "f3,a3 = displot(pt3,ph3,'c')\n",
      "f4,a4 = displot(pt4,ph4,'y')\n",
      "ti = plt.title('test intersect')"
     ],
     "language": "python",
     "metadata": {},
     "outputs": [],
     "prompt_number": 25
    },
    {
     "cell_type": "code",
     "collapsed": false,
     "input": [
      "b1\n"
     ],
     "language": "python",
     "metadata": {},
     "outputs": [],
     "prompt_number": 26
    },
    {
     "cell_type": "code",
     "collapsed": false,
     "input": [
      "(1-b1).astype('bool')"
     ],
     "language": "python",
     "metadata": {},
     "outputs": [],
     "prompt_number": 27
    },
    {
     "cell_type": "code",
     "collapsed": false,
     "input": [
      "b1.all()"
     ],
     "language": "python",
     "metadata": {},
     "outputs": [],
     "prompt_number": 28
    },
    {
     "cell_type": "code",
     "collapsed": false,
     "input": [
      "b1.any()"
     ],
     "language": "python",
     "metadata": {},
     "outputs": [],
     "prompt_number": 29
    },
    {
     "cell_type": "markdown",
     "metadata": {},
     "source": [
      "One want to evaluate all the intersection of a set of segments of "
     ]
    },
    {
     "cell_type": "markdown",
     "metadata": {},
     "source": [
      "## Useful functions"
     ]
    },
    {
     "cell_type": "code",
     "collapsed": false,
     "input": [
      "isaligned?"
     ],
     "language": "python",
     "metadata": {},
     "outputs": [],
     "prompt_number": 30
    },
    {
     "cell_type": "code",
     "collapsed": false,
     "input": [
      "pts = np.array([-27.835,  10.891])\n",
      "phs = np.array([-27.836,  10.926])\n",
      "\n",
      "ptk = array([-27.833,  10.686])\n",
      "phk = array([-27.835,  10.891])\n"
     ],
     "language": "python",
     "metadata": {},
     "outputs": [],
     "prompt_number": 31
    },
    {
     "cell_type": "code",
     "collapsed": false,
     "input": [
      "isaligned(pts,phs,ptk)"
     ],
     "language": "python",
     "metadata": {},
     "outputs": [],
     "prompt_number": 32
    },
    {
     "cell_type": "code",
     "collapsed": false,
     "input": [
      "isaligned(pts,phs,phk)"
     ],
     "language": "python",
     "metadata": {},
     "outputs": [],
     "prompt_number": 33
    },
    {
     "cell_type": "code",
     "collapsed": false,
     "input": [
      "plot(pts[0],pts[1],'or')\n",
      "plot(phs[0],phs[1],'or')\n",
      "plot(ptk[0],ptk[1],'ob')\n",
      "plot(phk[0],phk[1],'ob')\n",
      "axis('equal')"
     ],
     "language": "python",
     "metadata": {},
     "outputs": [],
     "prompt_number": 34
    },
    {
     "cell_type": "code",
     "collapsed": false,
     "input": [],
     "language": "python",
     "metadata": {},
     "outputs": [],
     "prompt_number": 35
    }
   ],
   "metadata": {}
  }
 ]
}
