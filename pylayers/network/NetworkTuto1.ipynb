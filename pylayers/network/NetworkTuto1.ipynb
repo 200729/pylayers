{
 "metadata": {
  "name": "NetworkTuto1"
 },
 "nbformat": 3,
 "nbformat_minor": 0,
 "worksheets": [
  {
   "cells": [
    {
     "cell_type": "markdown",
     "metadata": {},
     "source": [
      "# Initialization"
     ]
    },
    {
     "cell_type": "code",
     "collapsed": false,
     "input": [
      "from pylayers.gis.layout import *\n",
      "from pylayers.mobility.agent import *\n",
      "from pylayers.network.network import *"
     ],
     "language": "python",
     "metadata": {},
     "outputs": [],
     "prompt_number": 77
    },
    {
     "cell_type": "markdown",
     "metadata": {},
     "source": [
      "## Layout Creation\n",
      "\n",
      "First we need to load a layout structure. \n",
      "\n",
      "A place where nodes from a network can move and communicate"
     ]
    },
    {
     "cell_type": "code",
     "collapsed": false,
     "input": [
      "L=Layout('TA-Office.str2')\n",
      "L.build('str')\n",
      "fig,ax=L.showG('',show=True)\n",
      "\n"
     ],
     "language": "python",
     "metadata": {},
     "outputs": [
      {
       "output_type": "display_data",
       "png": "[encoded data removed]"
      }
     ],
     "prompt_number": 78
    },
    {
     "cell_type": "markdown",
     "metadata": {},
     "source": [
      "## Network Creation\n",
      "\n",
      "Now we must instanciate a void Network. \n",
      "\n",
      "A Network will gather all radio acces technology RAT from all agents\n",
      "The Network class inherits from networkx "
     ]
    },
    {
     "cell_type": "code",
     "collapsed": false,
     "input": [
      "N=Network()"
     ],
     "language": "python",
     "metadata": {},
     "outputs": [],
     "prompt_number": 79
    },
    {
     "cell_type": "markdown",
     "metadata": {},
     "source": [
      "## Agents Creation\n",
      "\n",
      "Then we need to instanciate agents ( nodes ) into that layout.\n",
      "An agent is either a moving person or a static acces point which have one or more (RAT).\n",
      "\n",
      "- For that tutorial we create 3 agents in room **0 ,3 and 5** respectively.\n",
      "- We suppose they communicate on the same and unique RAT : **'rat1'**\n",
      "- Obviously agent will evolve into the previously created network **N**.\n",
      "    "
     ]
    },
    {
     "cell_type": "code",
     "collapsed": false,
     "input": [
      "Ag=[]\n",
      "nb_agent = 3\n",
      "room_init=[0,3,5]\n",
      "for na in range(nb_agent):\n",
      "    Ag.append(Agent(ID=na,Layout=L,net=N,roomId=room_init[na],RAT=['rat1']))"
     ],
     "language": "python",
     "metadata": {},
     "outputs": [
      {
       "output_type": "stream",
       "stream": "stdout",
       "text": [
        "nextroom :  13\n",
        "nextroom :  12\n",
        "nextroom : "
       ]
      },
      {
       "output_type": "stream",
       "stream": "stdout",
       "text": [
        " 4\n"
       ]
      }
     ],
     "prompt_number": 80
    },
    {
     "cell_type": "markdown",
     "metadata": {},
     "source": [
      "## Connection Creation\n",
      "\n",
      "Now we can create the Network. It means, we connect agents all together, according to their common RAT.\n"
     ]
    },
    {
     "cell_type": "code",
     "collapsed": false,
     "input": [
      "N.create()\n",
      "\n",
      "\n",
      "# show the Layout\n",
      "fig,ax=L.showG('')\n",
      "# show the network layer\n",
      "N.show(fig=fig,legend=True)\n"
     ],
     "language": "python",
     "metadata": {},
     "outputs": [
      {
       "output_type": "stream",
       "stream": "stdout",
       "text": [
        "('rat1', <pylayers.network.network.Network object at 0xaf7400cc>)\n"
       ]
      },
      {
       "output_type": "display_data",
       "png": "[encoded data removed]"
      }
     ],
     "prompt_number": 81
    },
    {
     "cell_type": "markdown",
     "metadata": {},
     "source": [
      "## Nodes and edges"
     ]
    },
    {
     "cell_type": "markdown",
     "metadata": {},
     "source": [
      "Because Network inherits of networkx, you can have information about nodes and edges as such"
     ]
    },
    {
     "cell_type": "markdown",
     "metadata": {},
     "source": [
      "The node is a dictionnary whi containts the folowing keys :\n",
      "\n",
      "* 'PN'  : Its Personnal Network ( described in the following)\n",
      "* 'RAT' : A list of RAT of which it belongs\n",
      "* 'p'   : Its true position\n",
      "* 'pe'  : Its estimated position if it has computed it by itself ( cf. location tutorial - IN CONSTRUCTION -)\n",
      "* 't'   : A time stamp\n",
      "* 'type': Its type ( 'ag' : for agent or 'ap' for access point )\n",
      "\n",
      "example with node '0'"
     ]
    },
    {
     "cell_type": "code",
     "collapsed": false,
     "input": [
      "N.node[0]"
     ],
     "language": "python",
     "metadata": {},
     "outputs": [
      {
       "output_type": "pyout",
       "prompt_number": 82,
       "text": [
        "{'PN': <pylayers.network.network.Network at 0xa9644cc>,\n",
        " 'RAT': ['rat1'],\n",
        " 'p': array([ 38.73340372,   2.49958336]),\n",
        " 'pe': array([], dtype=float64),\n",
        " 't': 1350658560.222875,\n",
        " 'type': 'ag'}"
       ]
      }
     ],
     "prompt_number": 82
    },
    {
     "cell_type": "markdown",
     "metadata": {},
     "source": [
      "The edge is a dictionnary of dictionnary. \n",
      "Each RAT is a key of the first dictionnary.\n",
      "Location dependent parameter (LDP) is the key of the second.\n",
      "\n",
      "example with edge 0-1\n"
     ]
    },
    {
     "cell_type": "code",
     "collapsed": false,
     "input": [
      "N.edge[0][1]"
     ],
     "language": "python",
     "metadata": {},
     "outputs": [
      {
       "output_type": "pyout",
       "prompt_number": 83,
       "text": [
        "{'rat1': {'Pr': [], 'TOA': []}}"
       ]
      }
     ],
     "prompt_number": 83
    },
    {
     "cell_type": "markdown",
     "metadata": {},
     "source": [
      "Obviously, LDPs values are void, because no location depend parameter have been still computed."
     ]
    },
    {
     "cell_type": "markdown",
     "metadata": {},
     "source": [
      "# Compute Location dependent parameters (LDPs)\n",
      "\n",
      "LDPs are radio measurements bewteen agents. It could be either\n",
      "1. Time of Arrival (**TOA**) \n",
      "2. Received Power (**Pr**)\n",
      "\n",
      "In order to compute those LDPs for all nodes for a given RAT, proceed as follow: "
     ]
    },
    {
     "cell_type": "code",
     "collapsed": false,
     "input": [
      "N.compute_LDPs(N.nodes(),RAT='rat1',LDP='TOA')\n",
      "N.edge[0][1]"
     ],
     "language": "python",
     "metadata": {},
     "outputs": [
      {
       "output_type": "pyout",
       "prompt_number": 84,
       "text": [
        "{'rat1': {'Pr': [], 'TOA': [6.715853651045947, 0.3], 'd': 22.211421307626036}}"
       ]
      }
     ],
     "prompt_number": 84
    }
   ],
   "metadata": {}
  }
 ]
}