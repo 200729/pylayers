{
  "nbformat_minor": 0, 
  "cells": [
    {
      "source": "# Using the vna", 
      "cell_type": "markdown", 
      "metadata": {}
    }, 
    {
      "source": "from E5072A import *\nfrom pylayers.antprop.channel import *\n%pylab inline", 
      "cell_type": "code", 
      "metadata": {}, 
      "execution_count": null, 
      "outputs": [
        {
          "output_type": "execute_result", 
          "data": {
            "text/plain": "WARNING:traits.has_traits:DEPRECATED: traits.has_traits.wrapped_class, 'the 'implements' class advisor has been deprecated. Use the 'provides' class decorator.\nPopulating the interactive namespace from numpy and matplotlib\nWARNING: pylab import has clobbered these variables: ['plt', 'select']\n`%matplotlib` prevents importing * from pylab and numpy"
          }, 
          "execution_count": 1, 
          "metadata": {}
        }
      ]
    }, 
    {
      "source": "Attention \u00e0 la taile du buffer lu. Toutes les donn\u00e9es ne sont pas utiles.", 
      "cell_type": "markdown", 
      "metadata": {}
    }, 
    {
      "source": "vna = SCPI(\"129.20.33.201\",verbose=False)", 
      "cell_type": "code", 
      "metadata": {}, 
      "execution_count": null, 
      "outputs": []
    }, 
    {
      "source": "vna.write(\":SENS1:SWE:POIN 201\")", 
      "cell_type": "code", 
      "metadata": {}, 
      "execution_count": null, 
      "outputs": []
    }, 
    {
      "source": "vna.write(\":SENS1:BAND 10\")", 
      "cell_type": "code", 
      "metadata": {}, 
      "execution_count": null, 
      "outputs": []
    }, 
    {
      "source": "vna = SCPI(\"129.20.33.201\",verbose=False)\nident = vna.getIdent()\nprint \"Talking to : \",ident\nvna.write(\"FORM:DATA REAL\")\nvna.select(param='S21',chan=1)\nvna.write(\":SENS1:SWE:POIN 1201\")\nvna.write(\"DISP:WIND1:TRAC1:Y:SCAL:AUTO\")\nvna.s.send(\":SENS1:SWE:POIN?\\n\")\nNpoints = eval(vna.s.recv(56).replace('\\n',''))\nprint \"Npoints : \",Npoints\n# set fmin fmax\nvna.write(\":SENS1:FREQ:STAR 1.8e9\")\nvna.write(\":SENS1:FREQ:STOP 2.2e9\")\n\n#get frequency range\ncom = \":SENS1:FREQ:DATA?\\n\"\n\nvna.write(\"TRIG:SING\")\n\ntime.sleep(1)\ncom1 = \":CALC1:DATA:SDAT?\\n\"\n#u = np.arange(0,Npoints)*2\n#v = np.arange(0,Npoints)*2+1\nN = 1\nfGHz = np.linspace(1.8,2.2,1201)\ny  = np.zeros(len(fGHz))[None,:]\nH = Tchannel(x=fGHz,y=y)\nfor k in range(N):\n#plt.imshow(abs(res))\n    B = vna.read(com1)\n    C = B[8:]\n    print len(C)\n    print Npoints*16\n    assert(len(C)==Npoints*16)\n    S = np.frombuffer(C,dtype='>f8')\n    H.frombuf(S)\n    #S21 = S[u]+1j*S[v]\n    #try:\n    #    res=np.vstack((res,S21.T))\n    #except:\n    #    res=S21.T\n#\n#\n#    tab = vna.readeval(vna)(com)\n#    f = np.frombuffer(tab,'>f8')\n#    freq = f[1:]\n#    plt.plot(freq)\nvna.close()\n#plt.imshow(abs(res))\n#plt.axis('tight')\n#plt.show()", 
      "cell_type": "code", 
      "metadata": {}, 
      "execution_count": null, 
      "outputs": [
        {
          "output_type": "execute_result", 
          "data": {
            "text/plain": "Talking to :  Agilent Technologies,E5072A,MY51100293,A.01.04\n\nNpoints :  1201\n19216\n19216"
          }, 
          "execution_count": 5, 
          "metadata": {}
        }
      ]
    }, 
    {
      "source": "H.save('calibration')", 
      "cell_type": "code", 
      "metadata": {}, 
      "execution_count": null, 
      "outputs": []
    }, 
    {
      "source": "H.calibrate('calibration')", 
      "cell_type": "code", 
      "metadata": {}, 
      "execution_count": null, 
      "outputs": []
    }, 
    {
      "source": "S", 
      "cell_type": "code", 
      "metadata": {}, 
      "execution_count": null, 
      "outputs": [
        {
          "output_type": "execute_result", 
          "data": {
            "text/plain": "array([ 0.13201947,  0.34113391,  0.36570441, ...,  0.19094155,\n        0.27251609, -0.20261151])"
          }, 
          "execution_count": 8, 
          "metadata": {}
        }
      ]
    }, 
    {
      "source": "plt.plot(np.real(H.y[0]),'b',label=\"Real part\")\nplt.plot(np.imag(H.y[0]),'r',label='Imaginary part\"')\nplt.legend()\nplt.ylim(-1,2)", 
      "cell_type": "code", 
      "metadata": {}, 
      "execution_count": null, 
      "outputs": [
        {
          "output_type": "execute_result", 
          "data": {
            "text/plain": "(-1, 2)"
          }, 
          "execution_count": 9, 
          "metadata": {}
        }
      ]
    }, 
    {
      "source": "H.plot()", 
      "cell_type": "code", 
      "metadata": {}, 
      "execution_count": null, 
      "outputs": [
        {
          "output_type": "execute_result", 
          "data": {
            "text/plain": "(<matplotlib.figure.Figure at 0x7fe27ef1a750>,\n array([[<matplotlib.axes._subplots.AxesSubplot object at 0x7fe27efdac10>]], dtype=object))"
          }, 
          "execution_count": 10, 
          "metadata": {}
        }
      ]
    }, 
    {
      "source": "H", 
      "cell_type": "code", 
      "metadata": {}, 
      "execution_count": null, 
      "outputs": [
        {
          "output_type": "execute_result", 
          "data": {
            "text/plain": "freq : 1.8 2.2 1201\nshape  : (1, 1201)\ntau (min, max) : [] []\ndist :[] []\n\n calibrated : Yes\n windowed : No"
          }, 
          "execution_count": 11, 
          "metadata": {}
        }
      ]
    }, 
    {
      "source": "fig=figure(figsize=(20,10))\nH.plot(fig=fig)", 
      "cell_type": "code", 
      "metadata": {}, 
      "execution_count": null, 
      "outputs": [
        {
          "output_type": "execute_result", 
          "data": {
            "text/plain": "(<matplotlib.figure.Figure at 0x7f927184f2d0>,\n array([[<matplotlib.axes._subplots.AxesSubplot object at 0x7f9271a0bd50>]], dtype=object))"
          }, 
          "execution_count": 12, 
          "metadata": {}
        }
      ]
    }, 
    {
      "source": "800*0.1", 
      "cell_type": "code", 
      "metadata": {}, 
      "execution_count": null, 
      "outputs": [
        {
          "output_type": "execute_result", 
          "data": {
            "text/plain": "80.0"
          }, 
          "execution_count": 13, 
          "metadata": {}
        }
      ]
    }, 
    {
      "source": "h=H.ift(ffts=1)", 
      "cell_type": "code", 
      "metadata": {}, 
      "execution_count": null, 
      "outputs": []
    }, 
    {
      "source": "h.plot(typ='v',xmin=-10,xmax=10)", 
      "cell_type": "code", 
      "metadata": {}, 
      "execution_count": null, 
      "outputs": [
        {
          "output_type": "execute_result", 
          "data": {
            "text/plain": "(<matplotlib.figure.Figure at 0x7fe27f22f250>,\n array([[<matplotlib.axes._subplots.AxesSubplot object at 0x7fe27f1bb210>]], dtype=object))"
          }, 
          "execution_count": 15, 
          "metadata": {}
        }
      ]
    }, 
    {
      "source": "H=Tchannel()", 
      "cell_type": "code", 
      "metadata": {}, 
      "execution_count": null, 
      "outputs": []
    }, 
    {
      "source": "H.load('calibration.mat')", 
      "cell_type": "code", 
      "metadata": {}, 
      "execution_count": null, 
      "outputs": []
    }, 
    {
      "source": "H", 
      "cell_type": "code", 
      "metadata": {}, 
      "execution_count": null, 
      "outputs": [
        {
          "output_type": "execute_result", 
          "data": {
            "text/plain": "freq : 1.8 2.2 1201\nshape  : (1, 1201)\ntau (min, max) : [] []\ndist :[] []\n\n calibrated : No\n windowed : No"
          }, 
          "execution_count": 18, 
          "metadata": {}
        }
      ]
    }, 
    {
      "source": "H.plot()", 
      "cell_type": "code", 
      "metadata": {}, 
      "execution_count": null, 
      "outputs": [
        {
          "output_type": "execute_result", 
          "data": {
            "text/plain": "(<matplotlib.figure.Figure at 0x7f9271740e90>,\n array([[<matplotlib.axes._subplots.AxesSubplot object at 0x7f9271737790>]], dtype=object))"
          }, 
          "execution_count": 19, 
          "metadata": {}
        }
      ]
    }, 
    {
      "source": "H.calibrate('calibration.mat')", 
      "cell_type": "code", 
      "metadata": {}, 
      "execution_count": null, 
      "outputs": []
    }, 
    {
      "source": "H.plot()", 
      "cell_type": "code", 
      "metadata": {}, 
      "execution_count": null, 
      "outputs": [
        {
          "output_type": "execute_result", 
          "data": {
            "text/plain": "(<matplotlib.figure.Figure at 0x7f927165f610>,\n array([[<matplotlib.axes._subplots.AxesSubplot object at 0x7f9271655710>]], dtype=object))"
          }, 
          "execution_count": 21, 
          "metadata": {}
        }
      ]
    }, 
    {
      "source": "h=H.ift(ffts=1)", 
      "cell_type": "code", 
      "metadata": {}, 
      "execution_count": null, 
      "outputs": []
    }, 
    {
      "source": "h.plot(typ='v')", 
      "cell_type": "code", 
      "metadata": {}, 
      "execution_count": null, 
      "outputs": [
        {
          "output_type": "execute_result", 
          "data": {
            "text/plain": "(<matplotlib.figure.Figure at 0x7f927159be10>,\n array([[<matplotlib.axes._subplots.AxesSubplot object at 0x7f9271642910>]], dtype=object))"
          }, 
          "execution_count": 23, 
          "metadata": {}
        }
      ]
    }, 
    {
      "source": "", 
      "cell_type": "code", 
      "metadata": {}, 
      "execution_count": null, 
      "outputs": []
    }
  ], 
  "nbformat": 4, 
  "metadata": {}
}