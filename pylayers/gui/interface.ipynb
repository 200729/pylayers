{
 "cells": [
  {
   "cell_type": "code",
   "execution_count": 1,
   "metadata": {
    "ExecuteTime": {
     "end_time": "2016-07-04T11:20:19.805907",
     "start_time": "2016-07-04T11:20:19.783331"
    },
    "collapsed": false,
    "hide_input": true,
    "run_control": {
     "frozen": false,
     "read_only": true
    }
   },
   "outputs": [
    {
     "data": {
      "text/html": [
       "<script>\n",
       "code_show=true; \n",
       "function code_toggle() {\n",
       " if (code_show){\n",
       " $('div.input').hide();\n",
       " } else {\n",
       " $('div.input').show();\n",
       " }\n",
       " code_show = !code_show\n",
       "} \n",
       "$( document ).ready(code_toggle);\n",
       "</script>"
      ],
      "text/plain": [
       "<IPython.core.display.HTML object>"
      ]
     },
     "execution_count": 1,
     "metadata": {},
     "output_type": "execute_result"
    }
   ],
   "source": [
    "from IPython.display import HTML\n",
    "HTML('''<script>\n",
    "code_show=true; \n",
    "function code_toggle() {\n",
    " if (code_show){\n",
    " $('div.input').hide();\n",
    " } else {\n",
    " $('div.input').show();\n",
    " }\n",
    " code_show = !code_show\n",
    "} \n",
    "$( document ).ready(code_toggle);\n",
    "</script>''')"
   ]
  },
  {
   "cell_type": "code",
   "execution_count": 2,
   "metadata": {
    "ExecuteTime": {
     "end_time": "2016-07-04T11:20:25.562741",
     "start_time": "2016-07-04T11:20:19.916992"
    },
    "collapsed": false,
    "hide_input": true,
    "run_control": {
     "frozen": false,
     "read_only": false
    }
   },
   "outputs": [],
   "source": [
    "################# IMPORTS \n",
    "###################################################\n",
    "import warnings\n",
    "warnings.filterwarnings('ignore')\n",
    "import ipywidgets as widgets\n",
    "from IPython.display import display,clear_output\n",
    "from pylayers.simul.link import *\n",
    "import copy\n",
    "import pylayers.util.geomutil as geu\n",
    "import os\n",
    "%matplotlib inline\n",
    "%gui wx\n",
    "\n",
    "def update_L(Lname):\n",
    "    \n",
    "#     from IPython.core.debugger import Tracer\n",
    "\n",
    "#     Tracer()()\n",
    "    DL.L=Layout(Lname)\n",
    "\n",
    "    xmin,xmax,ymin,ymax=DL.L.ax\n",
    "    zmax = DL.L.maxheight-0.1\n",
    "    tx=copy.copy(DL.a)\n",
    "    rx=copy.copy(DL.b)\n",
    "\n",
    "    \n",
    "    tx_x.min,tx_x.max=xmin,xmax\n",
    "    tx_y.min,tx_y.max=ymin,ymax\n",
    "    tx_z.max=zmax\n",
    "    tx_x.value=tx[0]\n",
    "    tx_y.value=tx[1]\n",
    "    tx_z.value=tx[2]\n",
    "    \n",
    "\n",
    "    rx_x.min,rx_x.max=xmin,xmax\n",
    "    rx_y.min,rx_y.max=ymin,ymax\n",
    "    rx_z.max=zmax\n",
    "    rx_x.value=rx[0]\n",
    "    rx_y.value=rx[1]\n",
    "    rx_z.value=rx[2]\n",
    "    \n",
    "################# FUNC def\n",
    "###################################################\n",
    "    \n",
    "def update_Aa(ant):\n",
    "    DL.Aa=Antenna(ant)\n",
    "def update_Ab(ant):\n",
    "    DL.Ab=Antenna(ant)\n",
    "    \n",
    "def update_a(x,y,z):\n",
    "    DL.a=np.array([x,y,z])\n",
    "def update_b(x,y,z):\n",
    "    DL.b=np.array([x,y,z])\n",
    "\n",
    "def update_Ta(alpha,beta,gamma):\n",
    "    T = geu.MEulerAngle(alpha,beta=beta,gamma=gamma)\n",
    "    DL.Ta=T\n",
    "def update_Tb(alpha,beta,gamma):\n",
    "    T = geu.MEulerAngle(alpha,beta=beta,gamma=gamma)\n",
    "    DL.Tb=T\n",
    "    \n",
    "def update_fGHz(fm,fM,fs):\n",
    "    DL.fGHz=np.linspace(fm,fM,fs)\n",
    "    \n",
    "def DLeval(*args):\n",
    "#     clear_output()\n",
    "    pbar = tqdm.tqdm_notebook(total=100)\n",
    "    DL.eval(verbose=False,\n",
    "            force=force.value,\n",
    "            cutoff=cutoff.value,\n",
    "            diffraction = diff.value,\n",
    "            ra_vectorized = vect.value,\n",
    "            ra_number_mirror_cf = mirror.value,\n",
    "            applywav = appwav.value,\n",
    "            progressbar=pbar)\n",
    "    DL.R._show3()\n",
    "    pbar.close()\n",
    "\n",
    "\n",
    "################# interface \n",
    "###################################################\n",
    "mlab.clf()\n",
    "DL=DLink()\n",
    "xmin,xmax,ymin,ymax=DL.L.ax\n",
    "zmax = DL.L.maxheight-0.1\n",
    "DL._show3()\n",
    "# page 1  LAy\n",
    "layout = widgets.Dropdown(description='File:',\n",
    "                          options=os.listdir(basename +'/struc/ini/'),\n",
    "                          value='defstr.ini',\n",
    "                          )\n",
    "\n",
    "layoutpage = widgets.Box(children=[layout])\n",
    "\n",
    "_=widgets.interactive(update_L,Lname=layout)\n",
    "\n",
    "\n",
    "# page 2 TX\n",
    "\n",
    "##### TX position\n",
    "tx_x = widgets.FloatSlider(description='x :',\n",
    "                           \n",
    "                           min=DL.L.ax[0],\n",
    "                           max=DL.L.ax[1],\n",
    "                           value=DL.a[0],\n",
    "                           step=0.1,\n",
    "                           padding=4)\n",
    "tx_y = widgets.FloatSlider(description='y :',\n",
    "                           min=DL.L.ax[2],\n",
    "                           max=DL.L.ax[3],\n",
    "                           value=DL.a[1],\n",
    "                           step=0.1,\n",
    "                           padding=4)\n",
    "tx_z = widgets.FloatSlider(description='z :',\n",
    "                           min=0.,\n",
    "                           max=zmax,\n",
    "                           value=DL.a[2],\n",
    "                           step=0.1,\n",
    "                           padding=4)\n",
    "\n",
    "\n",
    "\n",
    "tx_pos = widgets.Box(children=[tx_x, tx_y,tx_z])\n",
    "\n",
    "_=widgets.interactive(update_a,x=tx_x,y=tx_y,z=tx_z)\n",
    "\n",
    "\n",
    "###### TX antenna\n",
    "# ant default\n",
    "av_ant = ['Omni','Gauss']\n",
    "\n",
    "# ant file\n",
    "antext= ['vsh3','sh3']\n",
    "for fname in os.listdir(basename +'/ant'):\n",
    "    if fname.split('.')[-1] in antext:\n",
    "        av_ant.append(fname)\n",
    "\n",
    "tx_ant = widgets.Dropdown(description='File:', value='Omni',options=av_ant)\n",
    "\n",
    "\n",
    "#######TX Rotation\n",
    "\n",
    "gammaTX=widgets.FloatSlider(value=0,\n",
    "                         min=-np.pi,\n",
    "                          max=np.pi,\n",
    "                          step=np.pi/50,\n",
    "                        description='x-roll')\n",
    "\n",
    "\n",
    "betaTX=widgets.FloatSlider(value=0,\n",
    "                         min=-np.pi,\n",
    "                          max=np.pi,\n",
    "                          step=np.pi/50,\n",
    "                        description='y-roll')\n",
    "\n",
    "alphaTX=widgets.FloatSlider(value=0,\n",
    "                         min=-np.pi,\n",
    "                          max=np.pi,\n",
    "                          step=np.pi/50,\n",
    "                        description='z-roll')\n",
    "\n",
    "\n",
    "tx_rot = widgets.Box(children=[alphaTX,betaTX,gammaTX])\n",
    "\n",
    "tx_antbox = widgets.Box(children=[tx_ant,tx_rot])\n",
    "\n",
    "tx_postab = widgets.Tab(children=[tx_pos,tx_antbox])\n",
    "tx_postab.set_title(0, 'Position')\n",
    "tx_postab.set_title(1, 'Antenna')\n",
    "\n",
    "tx_page = widgets.Box(children=[tx_postab])\n",
    "\n",
    "\n",
    "_=widgets.interactive(update_Ta,alpha=alphaTX,beta=betaTX,gamma=gammaTX)\n",
    "_=widgets.interactive(update_Aa,ant=tx_ant)\n",
    "\n",
    "\n",
    "\n",
    "# page 2 RX\n",
    "\n",
    "\n",
    "\n",
    "rx_x = widgets.FloatSlider(description='x :',\n",
    "                           min=DL.L.ax[0],\n",
    "                           max=DL.L.ax[1],\n",
    "                           value=DL.b[0],\n",
    "                           step=0.1,\n",
    "                           padding=4)\n",
    "rx_y = widgets.FloatSlider(description='y :',\n",
    "                           min=DL.L.ax[2],\n",
    "                           max=DL.L.ax[3],\n",
    "                           value=DL.b[1],\n",
    "                           step=0.1,\n",
    "                           padding=4)\n",
    "rx_z = widgets.FloatSlider(description='z :',\n",
    "                           min=0.,\n",
    "                           max=zmax,\n",
    "                           value=DL.b[2],\n",
    "                           step=0.1,\n",
    "                           padding=4)\n",
    "\n",
    "\n",
    "rx_pos = widgets.Box(children=[rx_x, rx_y,rx_z])\n",
    "_=widgets.interactive(update_b,x=rx_x,y=rx_y,z=rx_z)\n",
    "\n",
    "\n",
    "\n",
    "rx_ant = widgets.Dropdown(description='File:', value='Omni',options=av_ant ,padding=12)\n",
    "\n",
    "#######RX Rotation\n",
    "\n",
    "\n",
    "gammaRX=widgets.FloatSlider(value=0,\n",
    "                         min=-np.pi,\n",
    "                          max=np.pi,\n",
    "                          step=np.pi/50,\n",
    "                        description='x-roll')\n",
    "\n",
    "\n",
    "betaRX=widgets.FloatSlider(value=0,\n",
    "                         min=-np.pi,\n",
    "                          max=np.pi,\n",
    "                          step=np.pi/50,\n",
    "                        description='y-roll')\n",
    "\n",
    "alphaRX=widgets.FloatSlider(value=0,\n",
    "                         min=-np.pi,\n",
    "                          max=np.pi,\n",
    "                          step=np.pi/50,\n",
    "                        description='z-roll')\n",
    "\n",
    "rx_rot = widgets.Box(children=[alphaRX,betaRX,gammaRX])\n",
    "\n",
    "rx_antbox = widgets.Box(children=[rx_ant,rx_rot])\n",
    "\n",
    "rx_postab = widgets.Tab(children=[rx_pos,rx_antbox])\n",
    "rx_postab.set_title(0, 'Position')\n",
    "rx_postab.set_title(1, 'Antenna')\n",
    "\n",
    "rx_page = widgets.Box(children=[rx_postab])\n",
    "\n",
    "\n",
    "_=widgets.interactive(update_Tb,alpha=alphaRX,beta=betaRX,gamma=gammaRX)\n",
    "_=widgets.interactive(update_Ab,ant=rx_ant)\n",
    "\n",
    "# page 3\n",
    "\n",
    "fm = widgets.FloatText(description='fGHz min', value=DL.fGHz[0],padding=12)\n",
    "fM = widgets.FloatText(description='fGHz max', value=DL.fGHz[-1],padding=12)\n",
    "fs = widgets.FloatText(description='fGHz step', value=.1,padding=12)\n",
    "\n",
    "\n",
    "param_page = widgets.Box(children=[fm,fM,fs])\n",
    "\n",
    "_=widgets.interactive(update_fGHz,fm=fm,fM=fM,fs=fs)\n",
    "\n",
    "\n",
    "\n",
    "\n",
    "\n",
    "###### page 4 adv param\n",
    "\n",
    "force = widgets.Checkbox(description='force',value=False)\n",
    "cutoff = widgets.IntText(description='Cutoff',value=DL.cutoff)\n",
    "diff = widgets.Checkbox(description='diffractions',value=True)\n",
    "vect = widgets.Checkbox(description='vect.rays',value=True)\n",
    "mirror = widgets.IntText(description='mirror',value=1)\n",
    "appwav = widgets.Checkbox(description='apply wavform',value=True)\n",
    "\n",
    "adv_param_page = widgets.Box(children=[force,cutoff,appwav,mirror,diff,vect],padding=100)\n",
    "\n",
    "\n",
    "tabs = widgets.Tab(children=[layoutpage,tx_page,rx_page,param_page,adv_param_page])\n",
    "tabs.set_title(0, 'Layout')\n",
    "tabs.set_title(1, 'Tx')\n",
    "tabs.set_title(2, 'Rx')\n",
    "tabs.set_title(3, 'Parameters')\n",
    "tabs.set_title(4, 'Advanced Parameters')\n",
    "\n",
    "\n",
    "# eval\n",
    "\n",
    "eval_button = widgets.Button(description='Eval')\n",
    "eval_button.on_click(DLeval)\n",
    "\n",
    "\n",
    "interface = widgets.Box(children=[tabs,eval_button])\n",
    "\n",
    "\n",
    "display(interface)\n",
    "\n"
   ]
  },
  {
   "cell_type": "code",
   "execution_count": null,
   "metadata": {
    "collapsed": true,
    "hide_input": true
   },
   "outputs": [],
   "source": []
  }
 ],
 "metadata": {
  "kernelspec": {
   "display_name": "Python 2",
   "language": "python",
   "name": "python2"
  },
  "language_info": {
   "codemirror_mode": {
    "name": "ipython",
    "version": 2
   },
   "file_extension": ".py",
   "mimetype": "text/x-python",
   "name": "python",
   "nbconvert_exporter": "python",
   "pygments_lexer": "ipython2",
   "version": "2.7.11"
  },
  "latex_envs": {
   "bibliofile": "biblio.bib",
   "cite_by": "apalike",
   "current_citInitial": 1,
   "eqLabelWithNumbers": true,
   "eqNumInitial": 0
  },
  "nav_menu": {},
  "toc": {
   "navigate_menu": true,
   "number_sections": true,
   "sideBar": true,
   "threshold": 6,
   "toc_cell": true,
   "toc_section_display": "block",
   "toc_window_display": false
  },
  "widgets": {
   "state": {
    "0533fe71326045fbbe665d0f3a702234": {
     "views": []
    },
    "0708e9f2014d4deca0bdc4e69d2b916d": {
     "views": []
    },
    "09b373d4578c4f548ae4702f410be667": {
     "views": []
    },
    "0b1e424eebd74e22af5552ec67849086": {
     "views": []
    },
    "0e82b37f661e49ad8bd6d1412655d3d0": {
     "views": []
    },
    "106fd78964cd48809e79cd5e2ca83800": {
     "views": []
    },
    "1303287890b8494aa062ca0bb1fe052d": {
     "views": []
    },
    "131b38789d7c4938b0b511cfa04c8e51": {
     "views": []
    },
    "13e22d493918426f9af209a8a1ce0e30": {
     "views": []
    },
    "17fb1580390049bf8ba9a7f54ea897bd": {
     "views": []
    },
    "1972daf27c8c4dc28c8caed796a3ebcb": {
     "views": []
    },
    "19b7f352353944aba6070ca719d37273": {
     "views": []
    },
    "1d483c01852c456f992adf7c175ab634": {
     "views": []
    },
    "1f72c5000ebe4177ac80e5e99c208f0b": {
     "views": []
    },
    "20879edf0f174920b1a365bfe8ab2370": {
     "views": []
    },
    "24d3e7b3530b42339db5b0ea6daf2a75": {
     "views": []
    },
    "2600e3e563c34ef3abd49cf5223d7dec": {
     "views": []
    },
    "261a642305c14cea91a6c7c7bb9f3c90": {
     "views": []
    },
    "2add02b4aa774ca692fbabf6d7d3ed7c": {
     "views": []
    },
    "34195daacdf2492f8ea06de1767a9d1c": {
     "views": []
    },
    "377a3fc1da644169be70b58ac327676f": {
     "views": []
    },
    "37dc67a6144840e9b171cd07a0863378": {
     "views": []
    },
    "391c71d917c543f5b335147fbb367b71": {
     "views": []
    },
    "3c7bea3205bd4d3a835b264309e0b141": {
     "views": []
    },
    "41606072422649b99e9e635406c2c7e1": {
     "views": []
    },
    "44d7691c74f842f69e0b706b816d3b13": {
     "views": []
    },
    "461d5cd5adee40979feb6847cab0caa7": {
     "views": []
    },
    "46be5976fa714ffd8f9bb4a2da3bebde": {
     "views": []
    },
    "48069e3bd9ba4b5ca2bb2dd178b92bf0": {
     "views": []
    },
    "48b1ed1abe044281900f6e9c87a9bf84": {
     "views": []
    },
    "4d0cd18d4966434da6f88bf3f506b46b": {
     "views": []
    },
    "51437c16b75c40bb84b5d1881c84849b": {
     "views": []
    },
    "53d196d4be5c4fa5aba9890a68f33e1f": {
     "views": []
    },
    "566a00aa41fc4503a7861f241dbedb8d": {
     "views": []
    },
    "57b4065f72544a4fa7da8fa007635a6d": {
     "views": []
    },
    "590ac7738e5848d5abcf648c3da0f608": {
     "views": []
    },
    "5a4341cc10ed4060b232f396dfad849b": {
     "views": []
    },
    "5b5522cfcaad40b1831dbbac6c7c7ab3": {
     "views": []
    },
    "5f6a7f76a3264af6a5732e9d8c89c8e3": {
     "views": []
    },
    "602b57379e8e468d9dc5ed8aa99f4b46": {
     "views": []
    },
    "6af9b7ee206c4f35b88f22385e2abea4": {
     "views": []
    },
    "6f80dda119ea4504bb368df367a54aaf": {
     "views": []
    },
    "6f92491902c44032ae5d1960707592fe": {
     "views": [
      {
       "cell_index": 1
      }
     ]
    },
    "740881f19745446a8ce9f880d014ffd5": {
     "views": []
    },
    "742e03c10cbe461c894a855f9e3856f9": {
     "views": []
    },
    "748fa33cd63c4f2ca17cd5e1cc774ff9": {
     "views": []
    },
    "76289c19ce33469c859f4380cea76a00": {
     "views": []
    },
    "777aa70324824d18895bf6004f75e05c": {
     "views": []
    },
    "79d3b39148714e53986224cde2f7ba91": {
     "views": []
    },
    "7a0a010a4e044dde861cdb3a165816cd": {
     "views": []
    },
    "7b3dbc2c22a347fe805770aa47b537e3": {
     "views": []
    },
    "80650fe48c1f491f85a1e5050b05c6ae": {
     "views": []
    },
    "8544338710854d40ab4e7efb4e8b2057": {
     "views": []
    },
    "8a3f237e1beb4aa3a43ffca87f8d3f5f": {
     "views": []
    },
    "8b76616ffff84cc5aa8b6b17b5214f10": {
     "views": []
    },
    "9213f8d1911e438e99248d5a5effe6db": {
     "views": []
    },
    "9424bd2e1b5c4654935c97fe46f80cf7": {
     "views": []
    },
    "9739359ffeb3488d81e827f70b67dc95": {
     "views": []
    },
    "9a3853ae0a7c482c9e5db6c8289c88c6": {
     "views": []
    },
    "9bdaa72731be4922a6345eb1990606b4": {
     "views": []
    },
    "9c7b146cf94844958be8bd61861918b0": {
     "views": []
    },
    "9f29dda4fbe04ccc80fa6c5bdb145ac3": {
     "views": []
    },
    "9f656b5b06cc4246afcca70f1f9e938f": {
     "views": []
    },
    "a7fbcb3a3e6c4333953e0391f56389f4": {
     "views": []
    },
    "a91c13e9f3db4ff1b7acf795d43257be": {
     "views": []
    },
    "ae2592c1281f4f60ad0366e8d77bd83b": {
     "views": []
    },
    "afebd0084305423e9ceb0fa8e92393bd": {
     "views": []
    },
    "b4390ea9cca74e5b9fe4b49d4371ea41": {
     "views": []
    },
    "b6b456522b9440a6b881207b3ca1e108": {
     "views": []
    },
    "b848c06e0805461cb6cec8084473f063": {
     "views": []
    },
    "bee8a01caab44ef78a6406950d63f87c": {
     "views": []
    },
    "c2ef4e895a294d0294b790f0f48fa191": {
     "views": []
    },
    "c5dadf77a0b44a40af0608221f4d478d": {
     "views": []
    },
    "c64cec3b57b441008f3e13a72dcb8e86": {
     "views": []
    },
    "c8cfee9940ee40bd95abceeaab957868": {
     "views": []
    },
    "ca6715eccb854bdeb72fc23932d17e97": {
     "views": []
    },
    "cb0bc4244e924b3dbc704a47f0cd369e": {
     "views": []
    },
    "ccaccda171c5498caf249f94aae8d256": {
     "views": []
    },
    "cde79a1904024e2b93b3b834cf865f02": {
     "views": []
    },
    "cdf33617bf254ae9b64725ce13b3b7da": {
     "views": []
    },
    "ce97cdb30a0e4614a2911673816abe6b": {
     "views": []
    },
    "d047fd945152497ebbfa05701855fc9d": {
     "views": []
    },
    "d6d6607b5d5f49d39cbf68178ef8bad9": {
     "views": []
    },
    "da47f10923c549d884d309e5ffee3def": {
     "views": []
    },
    "dd9ad3344e0043ac8605261ff2df55a4": {
     "views": []
    },
    "df291fec2a96411ba2870cb908eba2f3": {
     "views": []
    },
    "ef3098e4f9134cc8a78b45280dbe5cfb": {
     "views": []
    },
    "ef94dde00bde4ccea5ce75c132a82f6c": {
     "views": []
    },
    "f11465220f444f8584fb46eed0e5fcdd": {
     "views": []
    },
    "f1c50a3c3ee9414888a659f15dd47108": {
     "views": []
    },
    "f3c12640d8d040c0aa6d6aa5a18cfcf4": {
     "views": []
    },
    "f4986298dbd1455cbf4b5bf7f19867e5": {
     "views": []
    },
    "f8276f4a9058409b91cb325881ff9908": {
     "views": []
    },
    "fa612c1a1cc545db8ecc945b345a6ba4": {
     "views": []
    },
    "fd00908cb3d9478a9ef40fab962e0065": {
     "views": []
    },
    "ff8334fb3b3540248fc6fcb56135f546": {
     "views": []
    }
   },
   "version": "1.1.2"
  }
 },
 "nbformat": 4,
 "nbformat_minor": 0
}
