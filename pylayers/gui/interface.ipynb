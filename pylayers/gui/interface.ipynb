{
 "cells": [
  {
   "cell_type": "markdown",
   "metadata": {
    "toc": "true"
   },
   "source": [
    "# Table of Contents\n",
    " <p>"
   ]
  },
  {
   "cell_type": "code",
   "execution_count": 1,
   "metadata": {
    "ExecuteTime": {
     "end_time": "2016-06-29T16:54:45.797421",
     "start_time": "2016-06-29T16:54:45.781052"
    },
    "collapsed": false,
    "hide_input": false,
    "run_control": {
     "frozen": false,
     "read_only": false
    }
   },
   "outputs": [
    {
     "data": {
      "text/html": [
       "<script>\n",
       "code_show=true; \n",
       "function code_toggle() {\n",
       " if (code_show){\n",
       " $('div.input').hide();\n",
       " } else {\n",
       " $('div.input').show();\n",
       " }\n",
       " code_show = !code_show\n",
       "} \n",
       "$( document ).ready(code_toggle);\n",
       "</script>"
      ],
      "text/plain": [
       "<IPython.core.display.HTML object>"
      ]
     },
     "execution_count": 1,
     "metadata": {},
     "output_type": "execute_result"
    }
   ],
   "source": [
    "from IPython.display import HTML\n",
    "HTML('''<script>\n",
    "code_show=true; \n",
    "function code_toggle() {\n",
    " if (code_show){\n",
    " $('div.input').hide();\n",
    " } else {\n",
    " $('div.input').show();\n",
    " }\n",
    " code_show = !code_show\n",
    "} \n",
    "$( document ).ready(code_toggle);\n",
    "</script>''')"
   ]
  },
  {
   "cell_type": "code",
   "execution_count": 2,
   "metadata": {
    "ExecuteTime": {
     "end_time": "2016-06-29T16:56:08.410232",
     "start_time": "2016-06-29T16:56:06.924417"
    },
    "collapsed": false,
    "hide_input": false,
    "run_control": {
     "frozen": false,
     "read_only": false
    }
   },
   "outputs": [
    {
     "name": "stdout",
     "output_type": "stream",
     "text": [
      "\n"
     ]
    }
   ],
   "source": [
    "################# IMPORTS \n",
    "###################################################\n",
    "import warnings\n",
    "warnings.filterwarnings('ignore')\n",
    "import ipywidgets as widgets\n",
    "from IPython.display import display,clear_output\n",
    "from pylayers.simul.link import *\n",
    "import copy\n",
    "import pylayers.util.geomutil as geu\n",
    "import os\n",
    "import tqdm\n",
    "%gui wx\n",
    "%matplotlib inline\n",
    "\n",
    "def update_L(Lname):\n",
    "    \n",
    "#     from IPython.core.debugger import Tracer\n",
    "\n",
    "#     Tracer()()\n",
    "    DL.L=Layout(Lname)\n",
    "\n",
    "    xmin,xmax,ymin,ymax=DL.L.ax\n",
    "    zmax = DL.L.maxheight-0.1\n",
    "    tx=copy.copy(DL.a)\n",
    "    rx=copy.copy(DL.b)\n",
    "\n",
    "    \n",
    "    tx_x.min,tx_x.max=xmin,xmax\n",
    "    tx_y.min,tx_y.max=ymin,ymax\n",
    "    tx_z.max=zmax\n",
    "    tx_x.value=tx[0]\n",
    "    tx_y.value=tx[1]\n",
    "    tx_z.value=tx[2]\n",
    "    \n",
    "\n",
    "    rx_x.min,rx_x.max=xmin,xmax\n",
    "    rx_y.min,rx_y.max=ymin,ymax\n",
    "    rx_z.max=zmax\n",
    "    rx_x.value=rx[0]\n",
    "    rx_y.value=rx[1]\n",
    "    rx_z.value=rx[2]\n",
    "    \n",
    "################# FUNC def\n",
    "###################################################\n",
    "    \n",
    "def update_Aa(ant):\n",
    "    DL.Aa=Antenna(ant)\n",
    "def update_Ab(ant):\n",
    "    DL.Ab=Antenna(ant)\n",
    "    \n",
    "def update_a(x,y,z):\n",
    "    DL.a=np.array([x,y,z])\n",
    "def update_b(x,y,z):\n",
    "    DL.b=np.array([x,y,z])\n",
    "\n",
    "def update_Ta(alpha,beta,gamma):\n",
    "    T = geu.MEulerAngle(alpha,beta=beta,gamma=gamma)\n",
    "    DL.Ta=T\n",
    "def update_Tb(alpha,beta,gamma):\n",
    "    T = geu.MEulerAngle(alpha,beta=beta,gamma=gamma)\n",
    "    DL.Tb=T\n",
    "    \n",
    "def update_fGHz(fm,fM,fs):\n",
    "    DL.fGHz=np.linspace(fm,fM,fs)\n",
    "    \n",
    "def DLeval(*args):\n",
    "#     clear_output()\n",
    "    pbar = tqdm.tqdm_notebook(total=100)\n",
    "    DL.eval(verbose=False,\n",
    "            force=force.value,\n",
    "            cutoff=cutoff.value,\n",
    "            diffraction = diff.value,\n",
    "            ra_vectorized = vect.value,\n",
    "            ra_number_mirror_cf = mirror.value,\n",
    "            applywav = appwav.value,\n",
    "            progressbar=pbar)\n",
    "    DL.R._show3()\n",
    "    pbar.close()\n",
    "\n",
    "\n",
    "################# interface \n",
    "###################################################\n",
    "mlab.clf()\n",
    "DL=DLink()\n",
    "xmin,xmax,ymin,ymax=DL.L.ax\n",
    "zmax = DL.L.maxheight-0.1\n",
    "DL._show3()\n",
    "# page 1  LAy\n",
    "layout = widgets.Dropdown(description='File:',\n",
    "                          options=os.listdir(basename +'/struc/ini/'),\n",
    "                          value='defstr.ini',\n",
    "                          )\n",
    "\n",
    "layoutpage = widgets.Box(children=[layout])\n",
    "\n",
    "_=widgets.interactive(update_L,Lname=layout)\n",
    "\n",
    "\n",
    "# page 2 TX\n",
    "\n",
    "##### TX position\n",
    "tx_x = widgets.FloatSlider(description='x :',\n",
    "                           \n",
    "                           min=DL.L.ax[0],\n",
    "                           max=DL.L.ax[1],\n",
    "                           value=DL.a[0],\n",
    "                           step=0.1,\n",
    "                           padding=4)\n",
    "tx_y = widgets.FloatSlider(description='y :',\n",
    "                           min=DL.L.ax[2],\n",
    "                           max=DL.L.ax[3],\n",
    "                           value=DL.a[1],\n",
    "                           step=0.1,\n",
    "                           padding=4)\n",
    "tx_z = widgets.FloatSlider(description='z :',\n",
    "                           min=0.,\n",
    "                           max=zmax,\n",
    "                           value=DL.a[2],\n",
    "                           step=0.1,\n",
    "                           padding=4)\n",
    "\n",
    "\n",
    "\n",
    "tx_pos = widgets.Box(children=[tx_x, tx_y,tx_z])\n",
    "\n",
    "_=widgets.interactive(update_a,x=tx_x,y=tx_y,z=tx_z)\n",
    "\n",
    "\n",
    "###### TX antenna\n",
    "# ant default\n",
    "av_ant = ['Omni','Gauss']\n",
    "\n",
    "# ant file\n",
    "antext= ['vsh3','sh3']\n",
    "for fname in os.listdir(basename +'/ant'):\n",
    "    if fname.split('.')[-1] in antext:\n",
    "        av_ant.append(fname)\n",
    "\n",
    "tx_ant = widgets.Dropdown(description='File:', value='Omni',options=av_ant)\n",
    "\n",
    "\n",
    "#######TX Rotation\n",
    "\n",
    "gammaTX=widgets.FloatSlider(value=0,\n",
    "                         min=-np.pi,\n",
    "                          max=np.pi,\n",
    "                          step=np.pi/50,\n",
    "                        description='x-roll')\n",
    "\n",
    "\n",
    "betaTX=widgets.FloatSlider(value=0,\n",
    "                         min=-np.pi,\n",
    "                          max=np.pi,\n",
    "                          step=np.pi/50,\n",
    "                        description='y-roll')\n",
    "\n",
    "alphaTX=widgets.FloatSlider(value=0,\n",
    "                         min=-np.pi,\n",
    "                          max=np.pi,\n",
    "                          step=np.pi/50,\n",
    "                        description='z-roll')\n",
    "\n",
    "\n",
    "tx_rot = widgets.Box(children=[alphaTX,betaTX,gammaTX])\n",
    "\n",
    "tx_antbox = widgets.Box(children=[tx_ant,tx_rot])\n",
    "\n",
    "tx_postab = widgets.Tab(children=[tx_pos,tx_antbox])\n",
    "tx_postab.set_title(0, 'Position')\n",
    "tx_postab.set_title(1, 'Antenna')\n",
    "\n",
    "tx_page = widgets.Box(children=[tx_postab])\n",
    "\n",
    "\n",
    "_=widgets.interactive(update_Ta,alpha=alphaTX,beta=betaTX,gamma=gammaTX)\n",
    "_=widgets.interactive(update_Aa,ant=tx_ant)\n",
    "\n",
    "\n",
    "\n",
    "# page 2 RX\n",
    "\n",
    "\n",
    "\n",
    "rx_x = widgets.FloatSlider(description='x :',\n",
    "                           min=DL.L.ax[0],\n",
    "                           max=DL.L.ax[1],\n",
    "                           value=DL.b[0],\n",
    "                           step=0.1,\n",
    "                           padding=4)\n",
    "rx_y = widgets.FloatSlider(description='y :',\n",
    "                           min=DL.L.ax[2],\n",
    "                           max=DL.L.ax[3],\n",
    "                           value=DL.b[1],\n",
    "                           step=0.1,\n",
    "                           padding=4)\n",
    "rx_z = widgets.FloatSlider(description='z :',\n",
    "                           min=0.,\n",
    "                           max=zmax,\n",
    "                           value=DL.b[2],\n",
    "                           step=0.1,\n",
    "                           padding=4)\n",
    "\n",
    "\n",
    "rx_pos = widgets.Box(children=[rx_x, rx_y,rx_z])\n",
    "_=widgets.interactive(update_b,x=rx_x,y=rx_y,z=rx_z)\n",
    "\n",
    "\n",
    "\n",
    "rx_ant = widgets.Dropdown(description='File:', value='Omni',options=av_ant ,padding=12)\n",
    "\n",
    "#######RX Rotation\n",
    "\n",
    "\n",
    "gammaRX=widgets.FloatSlider(value=0,\n",
    "                         min=-np.pi,\n",
    "                          max=np.pi,\n",
    "                          step=np.pi/50,\n",
    "                        description='x-roll')\n",
    "\n",
    "\n",
    "betaRX=widgets.FloatSlider(value=0,\n",
    "                         min=-np.pi,\n",
    "                          max=np.pi,\n",
    "                          step=np.pi/50,\n",
    "                        description='y-roll')\n",
    "\n",
    "alphaRX=widgets.FloatSlider(value=0,\n",
    "                         min=-np.pi,\n",
    "                          max=np.pi,\n",
    "                          step=np.pi/50,\n",
    "                        description='z-roll')\n",
    "\n",
    "rx_rot = widgets.Box(children=[alphaRX,betaRX,gammaRX])\n",
    "\n",
    "rx_antbox = widgets.Box(children=[rx_ant,rx_rot])\n",
    "\n",
    "rx_postab = widgets.Tab(children=[rx_pos,rx_antbox])\n",
    "rx_postab.set_title(0, 'Position')\n",
    "rx_postab.set_title(1, 'Antenna')\n",
    "\n",
    "rx_page = widgets.Box(children=[rx_postab])\n",
    "\n",
    "\n",
    "_=widgets.interactive(update_Tb,alpha=alphaRX,beta=betaRX,gamma=gammaRX)\n",
    "_=widgets.interactive(update_Ab,ant=rx_ant)\n",
    "\n",
    "# page 3\n",
    "\n",
    "fm = widgets.FloatText(description='fGHz min', value=DL.fGHz[0],padding=12)\n",
    "fM = widgets.FloatText(description='fGHz max', value=DL.fGHz[-1],padding=12)\n",
    "fs = widgets.FloatText(description='fGHz step', value=.1,padding=12)\n",
    "\n",
    "\n",
    "param_page = widgets.Box(children=[fm,fM,fs])\n",
    "\n",
    "_=widgets.interactive(update_fGHz,fm=fm,fM=fM,fs=fs)\n",
    "\n",
    "\n",
    "\n",
    "\n",
    "\n",
    "###### page 4 adv param\n",
    "\n",
    "force = widgets.Checkbox(description='force',value=False)\n",
    "cutoff = widgets.IntText(description='Cutoff',value=DL.cutoff)\n",
    "diff = widgets.Checkbox(description='diffractions',value=True)\n",
    "vect = widgets.Checkbox(description='vect.rays',value=True)\n",
    "mirror = widgets.IntText(description='mirror',value=1)\n",
    "appwav = widgets.Checkbox(description='apply wavform',value=True)\n",
    "\n",
    "adv_param_page = widgets.Box(children=[force,cutoff,appwav,mirror,diff,vect],padding=100)\n",
    "\n",
    "\n",
    "tabs = widgets.Tab(children=[layoutpage,tx_page,rx_page,param_page,adv_param_page])\n",
    "tabs.set_title(0, 'Layout')\n",
    "tabs.set_title(1, 'Tx')\n",
    "tabs.set_title(2, 'Rx')\n",
    "tabs.set_title(3, 'Parameters')\n",
    "tabs.set_title(4, 'Advanced Parameters')\n",
    "\n",
    "\n",
    "# eval\n",
    "\n",
    "eval_button = widgets.Button(description='Eval')\n",
    "eval_button.on_click(DLeval)\n",
    "\n",
    "\n",
    "interface = widgets.Box(children=[tabs,eval_button])\n",
    "\n",
    "\n",
    "display(interface)\n",
    "\n"
   ]
  },
  {
   "cell_type": "code",
   "execution_count": null,
   "metadata": {
    "ExecuteTime": {
     "end_time": "2016-06-29T16:56:22.942964",
     "start_time": "2016-06-29T16:56:22.882178"
    },
    "collapsed": true
   },
   "outputs": [],
   "source": [
    "DL=DLink()"
   ]
  },
  {
   "cell_type": "code",
   "execution_count": null,
   "metadata": {
    "ExecuteTime": {
     "end_time": "2016-06-29T16:58:58.890533",
     "start_time": "2016-06-29T16:58:58.850129"
    },
    "collapsed": false,
    "hide_input": true,
    "run_control": {
     "frozen": false,
     "read_only": false
    }
   },
   "outputs": [],
   "source": [
    "DL.R.I.D.A"
   ]
  },
  {
   "cell_type": "code",
   "execution_count": null,
   "metadata": {
    "collapsed": true,
    "run_control": {
     "frozen": false,
     "read_only": false
    }
   },
   "outputs": [],
   "source": []
  }
 ],
 "metadata": {
  "hide_input": false,
  "kernelspec": {
   "display_name": "Python 2",
   "language": "python",
   "name": "python2"
  },
  "language_info": {
   "codemirror_mode": {
    "name": "ipython",
    "version": 2
   },
   "file_extension": ".py",
   "mimetype": "text/x-python",
   "name": "python",
   "nbconvert_exporter": "python",
   "pygments_lexer": "ipython2",
   "version": "2.7.10"
  },
  "latex_envs": {
   "bibliofile": "biblio.bib",
   "cite_by": "apalike",
   "current_citInitial": 1,
   "eqLabelWithNumbers": true,
   "eqNumInitial": 0
  },
  "nav_menu": {},
  "toc": {
   "navigate_menu": true,
   "number_sections": true,
   "sideBar": true,
   "threshold": 6,
   "toc_cell": true,
   "toc_section_display": "block",
   "toc_window_display": false
  },
  "widgets": {
   "state": {
    "0007bf1dd0214216bb762a4889d12495": {
     "views": []
    },
    "00b6af934d2043fa9dc7c402475c9d9f": {
     "views": []
    },
    "02ab24a394f14a5d98b3be845b5dbb65": {
     "views": []
    },
    "038d7a65b8c34134bfef9ee4b01b6120": {
     "views": []
    },
    "0813d08fec1043368ed5edb1d2c5b0c4": {
     "views": []
    },
    "0aee4da2ee384f09a404a6ef3f229747": {
     "views": []
    },
    "0e08505552cd400ba3cb066f9190f176": {
     "views": []
    },
    "0eb21aaf95a54f40969cdc711c7118a7": {
     "views": []
    },
    "0f85908c9c214669a09c2c116d1b2636": {
     "views": []
    },
    "102d9785ef8049e6b35077d41d9691ac": {
     "views": []
    },
    "1675be13c0bd46e1808dc6211b04dd96": {
     "views": []
    },
    "174bbec1afca46e1b8a6f7f1f8cc2fc1": {
     "views": []
    },
    "1b602087e7b44a78835196836b32ee22": {
     "views": []
    },
    "1ba0abf93a4d444bb334bfa2bde7b527": {
     "views": []
    },
    "1ccef12740d941f6951ce3e14f5a9514": {
     "views": []
    },
    "1e71641daa564f8c881316bd87b1716b": {
     "views": []
    },
    "1e8d4fc6c52a4a949d4557065099e1fc": {
     "views": []
    },
    "1ef77a9997d0420797478e3af348eaa9": {
     "views": []
    },
    "1f3a97de2d204bd4b3d2b4090fbe172b": {
     "views": []
    },
    "1f5dd4f11c094954b98466b1e5c21c1b": {
     "views": []
    },
    "20069c6c3dec4a6591b005accac6c867": {
     "views": []
    },
    "211d87d804c14143a94102dc6a591edf": {
     "views": []
    },
    "2281175792ab4870b3294a5a2d7f2c2a": {
     "views": []
    },
    "22c6e0c1366048358922f16321efac17": {
     "views": []
    },
    "2348cca6f6344a6e83258e929bf29927": {
     "views": []
    },
    "242d8bb6bbbd4df38f2ad7042e193c9c": {
     "views": []
    },
    "25cead69b58e454990d948249914e754": {
     "views": []
    },
    "272f88c1d28849dd8c71d1a5201e3851": {
     "views": []
    },
    "27942f2f18c5456e9317d8160e0f583f": {
     "views": []
    },
    "27f74d2b3db4432992d4c6b0135117ee": {
     "views": []
    },
    "2c413be0522547ee983fc3f41ab0bd68": {
     "views": []
    },
    "2ec3b2f958de46ed91719699708f4ad9": {
     "views": []
    },
    "2f1d0652b4f545499ab79e69100da002": {
     "views": []
    },
    "2f67af24cd8a45618673c1da9b997bba": {
     "views": []
    },
    "31509b2de03947a7a3b0834702348c8b": {
     "views": []
    },
    "325c99e494bf42d49359210c1ec31eb4": {
     "views": []
    },
    "325e7552dc414bf3a29877dbf5959eb7": {
     "views": []
    },
    "3275cc5da1e744c0aec0e3fcb45f420f": {
     "views": []
    },
    "3687b49c026c4fc5838a04588a261dd6": {
     "views": []
    },
    "369f1fd5ff8d4456a1bb963c4c92adbc": {
     "views": []
    },
    "37b1be475e2e42df94f55af67c3844de": {
     "views": []
    },
    "3a02c9910ba44f2cb193d019e1cc829b": {
     "views": []
    },
    "3abe55b4f1e94c13a5b449bb03c2e797": {
     "views": []
    },
    "3cf225f7551147f69f4090441eb0830f": {
     "views": []
    },
    "3d214a580d8942c98e26d310ddac07da": {
     "views": []
    },
    "3d4959d2e75149c7918dd7ac4d0605d9": {
     "views": []
    },
    "3e04d3e9e2b44f229c3d1cbf85e2949b": {
     "views": []
    },
    "3eded00d760b48ab87d6d797d9c9e174": {
     "views": []
    },
    "3fec973e18264824a3927d3403dfa68d": {
     "views": []
    },
    "419271eb6f9d4e1a9937d66b868d3ede": {
     "views": []
    },
    "42f29bb1dbd2439391e3b9ab9001ad61": {
     "views": []
    },
    "44417d0848314e3184240b3182131bdf": {
     "views": []
    },
    "4785bee9bc00466a8a0fecea1ae5d094": {
     "views": []
    },
    "48345d5314924d0ab12d126fd43bd070": {
     "views": []
    },
    "4a8362b7a9c54fa5a14a9f300128491c": {
     "views": []
    },
    "4c2aa1911fb94c929f38918a9a054112": {
     "views": []
    },
    "4db34907a109488897e990a8d6e6181e": {
     "views": []
    },
    "50386d759a6b48828f2d2cceaed11902": {
     "views": []
    },
    "5053d2379c7a42a8b8ef2c36bfb2e078": {
     "views": []
    },
    "50c82c22567e4c1e80af0429e036c590": {
     "views": [
      {
       "cell_index": 2
      }
     ]
    },
    "513fcbcb6b1c47758f249dfb6d8d8c57": {
     "views": []
    },
    "52ce89f966494e3d8c1eb8e0eadb3efd": {
     "views": []
    },
    "540c500012844822b8b63bb47bea5611": {
     "views": []
    },
    "547df6a322a140618fd0a6bbf165a430": {
     "views": []
    },
    "54977aa106334cb2addfacb5cabad4f0": {
     "views": []
    },
    "54f0a712be3d4e98a80633261938936c": {
     "views": []
    },
    "56674d4dd15d4d5a857d1e70a21ec65b": {
     "views": []
    },
    "568304b935244b5a91c1531dcb0633de": {
     "views": []
    },
    "569e925d7f844cc38b8c5a557d4aa440": {
     "views": []
    },
    "5728188b74064a8fa4968eebccbb2737": {
     "views": []
    },
    "59489baa03344e6cb430713df477a1f8": {
     "views": []
    },
    "5ae9b9aad56e4da894c97e6cecf4dee2": {
     "views": []
    },
    "5b36171ef16f4cad974541b2860654a3": {
     "views": []
    },
    "5b5071415d844015ba826cf167a95f32": {
     "views": []
    },
    "5c995e1618bc497c8adea74af2fd1fe0": {
     "views": []
    },
    "5e28cdd3d8854a198b66d85570ceecf4": {
     "views": [
      {
       "cell_index": 2
      }
     ]
    },
    "608bebe9090248f4a28a1889c76fa765": {
     "views": []
    },
    "60bfe8bff57546eb8cf89dcf74ff0aec": {
     "views": []
    },
    "624276e933b54f2a95d3b984ad2a70fd": {
     "views": []
    },
    "63f1dd43219a47d1ae7fdf29e5e7678b": {
     "views": []
    },
    "6688ffcd16d74357a0d13f2213935583": {
     "views": []
    },
    "671408460ec74db1b3c18edcd2e471b9": {
     "views": []
    },
    "6732fac4512d444c8fcf0001a2f39e02": {
     "views": []
    },
    "6847fbe690124be991068ac8c99ccecc": {
     "views": []
    },
    "6c2cb7e91ade4f79861c2e9717666509": {
     "views": []
    },
    "6c6868fe48db4fc5aa2aadb86f4ae23f": {
     "views": []
    },
    "6d3d58c904254181b721c050a615d159": {
     "views": []
    },
    "6d42cc75fdca49179a1ff72e81df1199": {
     "views": []
    },
    "6e6806b168e44dd9809d2d33397a937d": {
     "views": []
    },
    "6eb3f4ce859a4e1ea305e38b3078f0dc": {
     "views": []
    },
    "709b66a3371149dbbc1c49ef621ccd90": {
     "views": []
    },
    "71457c2cdd7449ca900fe8fd122cbbe5": {
     "views": []
    },
    "73e9c766a1264f58b5685ad89533712d": {
     "views": []
    },
    "7752977ae409481b8c8d3cfd2ccc81bb": {
     "views": []
    },
    "78664ca936c04b68a0e6f27ad64c7eb1": {
     "views": []
    },
    "78923caafd554a7faf9e91cd59b64dd9": {
     "views": []
    },
    "78ad40d7ac78459d922ce29e31c6e1e1": {
     "views": []
    },
    "78d640236193424786634cd61252701a": {
     "views": []
    },
    "7a4c1500be104713923190350897f9b1": {
     "views": []
    },
    "7a5e15c1be1f43c3b222b61e209eb77b": {
     "views": []
    },
    "7a8d80ba2d4349f9bbc8f62874b4e254": {
     "views": []
    },
    "7ba70f73106e403da798bf593a6d879c": {
     "views": []
    },
    "7d4eba8f95a94afebecd48f039543f91": {
     "views": []
    },
    "7e40b8aa3be8452d9d88597a1ec75884": {
     "views": []
    },
    "801497b3405446b0a4ecc5e5566a68ea": {
     "views": []
    },
    "8080cf257af74c16bf9a6dcc3038b13f": {
     "views": []
    },
    "8092133b1d3b40d8b47b09c52ab4ac54": {
     "views": []
    },
    "82619ceab3a04700b61815065f5fb8f0": {
     "views": []
    },
    "832df4eea43140e4a65b7dbb735a21cd": {
     "views": []
    },
    "8353242091c544bda823dbadf1dc59c6": {
     "views": []
    },
    "838feacc67a74efc9a728cd26ebfa2c4": {
     "views": []
    },
    "87d83e93d685470286948e88c3a64da4": {
     "views": []
    },
    "8855a64fc18e403a8e2a64c9e2978829": {
     "views": []
    },
    "893ed05ff8994657b85cffa74f7e5c5b": {
     "views": []
    },
    "8d44daa9f8fb45b7bf4350d206cd3363": {
     "views": []
    },
    "92d8c4cc9f2f4423965f3e678fac7fc4": {
     "views": []
    },
    "94808b2e32194737aa047db657693dec": {
     "views": []
    },
    "94cc14e47c8c4b5d8970b817c503dea6": {
     "views": []
    },
    "955e95da0487431da49fd2b9435e760c": {
     "views": []
    },
    "9670c67e6e064d438798fa64eaeda51a": {
     "views": []
    },
    "985e7b4538bf43dd905013f801ab80c6": {
     "views": []
    },
    "98be67853fcd41119beb6ff13f7929b2": {
     "views": []
    },
    "9a117e23c1054a0cb79fb3f1dfd8c551": {
     "views": []
    },
    "9b7577e22df54726b772822976395e41": {
     "views": []
    },
    "9ba92ba497fe478b90b2649dcc9d388c": {
     "views": []
    },
    "9e6eae2fb5cd4991b555adeae7cb2d2e": {
     "views": []
    },
    "9f63d0d50f4d4d7c9751fa87db994e6c": {
     "views": []
    },
    "a0539c8fdc574d23bc7025db021fd59c": {
     "views": []
    },
    "a1e02cc5a41742b19ffc06d5079e90c5": {
     "views": []
    },
    "a35138450b8a4d32898dbc228cd84d0f": {
     "views": []
    },
    "a7e79c35824e414cb4a3aaecfab8afa9": {
     "views": []
    },
    "a88f5fbf2d0e461989da5efff5f539c6": {
     "views": []
    },
    "a9b152fee3074faba86fff52cba5eace": {
     "views": []
    },
    "aa754835b9a84fd6a6f26d1f4f25e12b": {
     "views": []
    },
    "ab7b5e180b214316b4d0211aea5b5fa5": {
     "views": []
    },
    "adaaf0ab5151465dab78cce52c1808a2": {
     "views": []
    },
    "aff18aecb826487da599c68f436b5565": {
     "views": []
    },
    "b01d766e9a6648b8af1982b6884d389b": {
     "views": []
    },
    "b1f3a78e58a54effba31794ced3ecc49": {
     "views": []
    },
    "b23398a2dbae416e8bc4a805f540c55e": {
     "views": []
    },
    "b33586b9e15f46728b84f2ff3e3be588": {
     "views": []
    },
    "b43e1eb34ad5462685fe546cd7b6e2ac": {
     "views": []
    },
    "b617aa864c744f0292428ef2734c948c": {
     "views": []
    },
    "b6e4f203008c4f33976b8d0aa9f779e9": {
     "views": []
    },
    "b6f15d8a914b480c824a53ea7fb822b9": {
     "views": []
    },
    "b7be98d2703c4675851b852681a8c48f": {
     "views": []
    },
    "b8cbafab64584859bb82dc8f5b4b90b7": {
     "views": []
    },
    "ba4413ab691f469280f5655d6b1040b2": {
     "views": []
    },
    "bdc0796cd8b84359aadf32a208d14a64": {
     "views": []
    },
    "bf935cdfb3604dbdad7a1bfb75503df5": {
     "views": []
    },
    "c08935782a464234ab6484222e57991e": {
     "views": []
    },
    "c19312125d7f401abbad794784eef022": {
     "views": []
    },
    "c371dee2bc694027b86a76dc2d1b2afb": {
     "views": []
    },
    "c434d44e41264d2683ee2883921acc88": {
     "views": []
    },
    "c56fb7223e86499990f543a389444698": {
     "views": []
    },
    "c6bc8b8608174489bfa19dbb443c553a": {
     "views": []
    },
    "c810aea0f823491e90443e558fd18ef6": {
     "views": []
    },
    "c911f57fe41249b983180b238fe8558c": {
     "views": []
    },
    "c93fe3a95d954b04884e899f242343f0": {
     "views": []
    },
    "c9f4d574a689420e8de0bdf389137db6": {
     "views": []
    },
    "cab89e0c271a4f55b37531982643482a": {
     "views": []
    },
    "cbbbda1668af434b92636fe040dbd418": {
     "views": []
    },
    "ccd42ddd24f94740b615d14c7d0cc7fb": {
     "views": []
    },
    "cf804d0bcd47473e917dc957452f629e": {
     "views": []
    },
    "d16bc3577581449db4b167f01da91754": {
     "views": []
    },
    "d1c758f4d9bc47e8b86f8a59c5b858a2": {
     "views": []
    },
    "d261ac23493d4fc59095eedf608bbdc0": {
     "views": []
    },
    "d508a18b896f4026b80f98f4adca04a8": {
     "views": []
    },
    "d59cee0ea30b445e810468bc8fedf2b4": {
     "views": []
    },
    "d632e4e3a38e4e12a02f351607d1a3be": {
     "views": []
    },
    "d7a549f7130b4f1aa1cd62a38478074f": {
     "views": []
    },
    "d7d5018706964b3cbe7945f0360f4ec8": {
     "views": []
    },
    "d81a159a3fe74df78286d83542163d83": {
     "views": []
    },
    "d8c48145d5f440318d780d6e5ff38121": {
     "views": []
    },
    "d90244923e9d4e6dae6b0bcaeeb0b1f1": {
     "views": []
    },
    "db44fca0427546e5a21126ecb64c2df8": {
     "views": []
    },
    "ddde7bd55f454e1a8a01560834a681dc": {
     "views": []
    },
    "de7469b20737403f8d61cea48dc7b24a": {
     "views": []
    },
    "e0e4e9a6817a48d88c5d7d74c0ff5d0f": {
     "views": []
    },
    "e4b5a82e82c84647a84939f6f3682d45": {
     "views": []
    },
    "e50c08fced75437e84c96ab9159765f8": {
     "views": []
    },
    "e7bcf375f7074a1e9ae1531d13fc2de7": {
     "views": []
    },
    "e7d49953a126441e8ccf5d7f9a584be2": {
     "views": []
    },
    "e7f4902c8f8e4360ac8201e41377cb7c": {
     "views": []
    },
    "eb9f9caadbb84d9ab4bfc7bfe2fbd9a1": {
     "views": []
    },
    "ee08ccad44bc477aba685b357712083b": {
     "views": []
    },
    "ef3f04c8f87247c4871d39c64e3509b5": {
     "views": []
    },
    "ef8b02b1e2214263bc9e8c13a41f0fba": {
     "views": []
    },
    "f14bf000c27548a6a5a39519296dad49": {
     "views": []
    },
    "f4b18232518f46f586e1dc57089a4ecb": {
     "views": []
    },
    "f53a3b47d8434cfb9bc133e29c7b64bf": {
     "views": []
    },
    "f6ed78112bd54054932dd4e29d3d0b7f": {
     "views": []
    },
    "f721d14a28e54edbb9a9c7a2502dcae4": {
     "views": []
    },
    "f912a96570304f74ae7e56d26f4f40f1": {
     "views": []
    },
    "fa7cdab5539e43e6adde7eaf4023bbf6": {
     "views": []
    },
    "fd0c54d97ffc4741a9a28801191796eb": {
     "views": []
    },
    "fda1296da24c4a48a7a804960c2b30dd": {
     "views": []
    },
    "ff57eaaf818044f09351f7c3c6521e49": {
     "views": []
    }
   },
   "version": "1.1.2"
  }
 },
 "nbformat": 4,
 "nbformat_minor": 0
}
