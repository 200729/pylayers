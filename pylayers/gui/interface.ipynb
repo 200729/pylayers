{
 "cells": [
  {
   "cell_type": "markdown",
   "metadata": {
    "toc": "true"
   },
   "source": [
    "# Table of Contents\n",
    " <p>"
   ]
  },
  {
   "cell_type": "code",
   "execution_count": 1,
   "metadata": {
    "ExecuteTime": {
     "end_time": "2016-07-04T09:45:05.197563",
     "start_time": "2016-07-04T09:45:05.177936"
    },
    "collapsed": false,
    "hide_input": true,
    "run_control": {
     "frozen": false,
     "read_only": true
    }
   },
   "outputs": [
    {
     "data": {
      "text/html": [
       "<script>\n",
       "code_show=true; \n",
       "function code_toggle() {\n",
       " if (code_show){\n",
       " $('div.input').hide();\n",
       " } else {\n",
       " $('div.input').show();\n",
       " }\n",
       " code_show = !code_show\n",
       "} \n",
       "$( document ).ready(code_toggle);\n",
       "</script>"
      ],
      "text/plain": [
       "<IPython.core.display.HTML object>"
      ]
     },
     "execution_count": 1,
     "metadata": {},
     "output_type": "execute_result"
    }
   ],
   "source": [
    "from IPython.display import HTML\n",
    "HTML('''<script>\n",
    "code_show=true; \n",
    "function code_toggle() {\n",
    " if (code_show){\n",
    " $('div.input').hide();\n",
    " } else {\n",
    " $('div.input').show();\n",
    " }\n",
    " code_show = !code_show\n",
    "} \n",
    "$( document ).ready(code_toggle);\n",
    "</script>''')"
   ]
  },
  {
   "cell_type": "code",
   "execution_count": 1,
   "metadata": {
    "ExecuteTime": {
     "end_time": "2016-07-04T09:54:07.121722",
     "start_time": "2016-07-04T09:54:01.730125"
    },
    "collapsed": false,
    "hide_input": true,
    "run_control": {
     "frozen": false,
     "read_only": false
    }
   },
   "outputs": [
    {
     "name": "stderr",
     "output_type": "stream",
     "text": [
      "Widget Javascript not detected.  It may not be installed properly. Did you enable the widgetsnbextension? If not, then run \"jupyter nbextension enable --py --sys-prefix widgetsnbextension\"\n",
      "Widget Javascript not detected.  It may not be installed properly. Did you enable the widgetsnbextension? If not, then run \"jupyter nbextension enable --py --sys-prefix widgetsnbextension\"\n"
     ]
    },
    {
     "name": "stdout",
     "output_type": "stream",
     "text": [
      "\n"
     ]
    }
   ],
   "source": [
    "################# IMPORTS \n",
    "###################################################\n",
    "import warnings\n",
    "warnings.filterwarnings('ignore')\n",
    "import ipywidgets as widgets\n",
    "from IPython.display import display,clear_output\n",
    "from pylayers.simul.link import *\n",
    "import copy\n",
    "import pylayers.util.geomutil as geu\n",
    "import os\n",
    "%matplotlib inline\n",
    "%gui wx\n",
    "\n",
    "def update_L(Lname):\n",
    "    \n",
    "#     from IPython.core.debugger import Tracer\n",
    "\n",
    "#     Tracer()()\n",
    "    DL.L=Layout(Lname)\n",
    "\n",
    "    xmin,xmax,ymin,ymax=DL.L.ax\n",
    "    zmax = DL.L.maxheight-0.1\n",
    "    tx=copy.copy(DL.a)\n",
    "    rx=copy.copy(DL.b)\n",
    "\n",
    "    \n",
    "    tx_x.min,tx_x.max=xmin,xmax\n",
    "    tx_y.min,tx_y.max=ymin,ymax\n",
    "    tx_z.max=zmax\n",
    "    tx_x.value=tx[0]\n",
    "    tx_y.value=tx[1]\n",
    "    tx_z.value=tx[2]\n",
    "    \n",
    "\n",
    "    rx_x.min,rx_x.max=xmin,xmax\n",
    "    rx_y.min,rx_y.max=ymin,ymax\n",
    "    rx_z.max=zmax\n",
    "    rx_x.value=rx[0]\n",
    "    rx_y.value=rx[1]\n",
    "    rx_z.value=rx[2]\n",
    "    \n",
    "################# FUNC def\n",
    "###################################################\n",
    "    \n",
    "def update_Aa(ant):\n",
    "    DL.Aa=Antenna(ant)\n",
    "def update_Ab(ant):\n",
    "    DL.Ab=Antenna(ant)\n",
    "    \n",
    "def update_a(x,y,z):\n",
    "    DL.a=np.array([x,y,z])\n",
    "def update_b(x,y,z):\n",
    "    DL.b=np.array([x,y,z])\n",
    "\n",
    "def update_Ta(alpha,beta,gamma):\n",
    "    T = geu.MEulerAngle(alpha,beta=beta,gamma=gamma)\n",
    "    DL.Ta=T\n",
    "def update_Tb(alpha,beta,gamma):\n",
    "    T = geu.MEulerAngle(alpha,beta=beta,gamma=gamma)\n",
    "    DL.Tb=T\n",
    "    \n",
    "def update_fGHz(fm,fM,fs):\n",
    "    DL.fGHz=np.linspace(fm,fM,fs)\n",
    "    \n",
    "def DLeval(*args):\n",
    "#     clear_output()\n",
    "    pbar = tqdm.tqdm_notebook(total=100)\n",
    "    DL.eval(verbose=False,\n",
    "            force=force.value,\n",
    "            cutoff=cutoff.value,\n",
    "            diffraction = diff.value,\n",
    "            ra_vectorized = vect.value,\n",
    "            ra_number_mirror_cf = mirror.value,\n",
    "            applywav = appwav.value,\n",
    "            progressbar=pbar)\n",
    "    DL.R._show3()\n",
    "    pbar.close()\n",
    "\n",
    "\n",
    "################# interface \n",
    "###################################################\n",
    "mlab.clf()\n",
    "DL=DLink()\n",
    "xmin,xmax,ymin,ymax=DL.L.ax\n",
    "zmax = DL.L.maxheight-0.1\n",
    "DL._show3()\n",
    "# page 1  LAy\n",
    "layout = widgets.Dropdown(description='File:',\n",
    "                          options=os.listdir(basename +'/struc/ini/'),\n",
    "                          value='defstr.ini',\n",
    "                          )\n",
    "\n",
    "layoutpage = widgets.Box(children=[layout])\n",
    "\n",
    "_=widgets.interactive(update_L,Lname=layout)\n",
    "\n",
    "\n",
    "# page 2 TX\n",
    "\n",
    "##### TX position\n",
    "tx_x = widgets.FloatSlider(description='x :',\n",
    "                           \n",
    "                           min=DL.L.ax[0],\n",
    "                           max=DL.L.ax[1],\n",
    "                           value=DL.a[0],\n",
    "                           step=0.1,\n",
    "                           padding=4)\n",
    "tx_y = widgets.FloatSlider(description='y :',\n",
    "                           min=DL.L.ax[2],\n",
    "                           max=DL.L.ax[3],\n",
    "                           value=DL.a[1],\n",
    "                           step=0.1,\n",
    "                           padding=4)\n",
    "tx_z = widgets.FloatSlider(description='z :',\n",
    "                           min=0.,\n",
    "                           max=zmax,\n",
    "                           value=DL.a[2],\n",
    "                           step=0.1,\n",
    "                           padding=4)\n",
    "\n",
    "\n",
    "\n",
    "tx_pos = widgets.Box(children=[tx_x, tx_y,tx_z])\n",
    "\n",
    "_=widgets.interactive(update_a,x=tx_x,y=tx_y,z=tx_z)\n",
    "\n",
    "\n",
    "###### TX antenna\n",
    "# ant default\n",
    "av_ant = ['Omni','Gauss']\n",
    "\n",
    "# ant file\n",
    "antext= ['vsh3','sh3']\n",
    "for fname in os.listdir(basename +'/ant'):\n",
    "    if fname.split('.')[-1] in antext:\n",
    "        av_ant.append(fname)\n",
    "\n",
    "tx_ant = widgets.Dropdown(description='File:', value='Omni',options=av_ant)\n",
    "\n",
    "\n",
    "#######TX Rotation\n",
    "\n",
    "gammaTX=widgets.FloatSlider(value=0,\n",
    "                         min=-np.pi,\n",
    "                          max=np.pi,\n",
    "                          step=np.pi/50,\n",
    "                        description='x-roll')\n",
    "\n",
    "\n",
    "betaTX=widgets.FloatSlider(value=0,\n",
    "                         min=-np.pi,\n",
    "                          max=np.pi,\n",
    "                          step=np.pi/50,\n",
    "                        description='y-roll')\n",
    "\n",
    "alphaTX=widgets.FloatSlider(value=0,\n",
    "                         min=-np.pi,\n",
    "                          max=np.pi,\n",
    "                          step=np.pi/50,\n",
    "                        description='z-roll')\n",
    "\n",
    "\n",
    "tx_rot = widgets.Box(children=[alphaTX,betaTX,gammaTX])\n",
    "\n",
    "tx_antbox = widgets.Box(children=[tx_ant,tx_rot])\n",
    "\n",
    "tx_postab = widgets.Tab(children=[tx_pos,tx_antbox])\n",
    "tx_postab.set_title(0, 'Position')\n",
    "tx_postab.set_title(1, 'Antenna')\n",
    "\n",
    "tx_page = widgets.Box(children=[tx_postab])\n",
    "\n",
    "\n",
    "_=widgets.interactive(update_Ta,alpha=alphaTX,beta=betaTX,gamma=gammaTX)\n",
    "_=widgets.interactive(update_Aa,ant=tx_ant)\n",
    "\n",
    "\n",
    "\n",
    "# page 2 RX\n",
    "\n",
    "\n",
    "\n",
    "rx_x = widgets.FloatSlider(description='x :',\n",
    "                           min=DL.L.ax[0],\n",
    "                           max=DL.L.ax[1],\n",
    "                           value=DL.b[0],\n",
    "                           step=0.1,\n",
    "                           padding=4)\n",
    "rx_y = widgets.FloatSlider(description='y :',\n",
    "                           min=DL.L.ax[2],\n",
    "                           max=DL.L.ax[3],\n",
    "                           value=DL.b[1],\n",
    "                           step=0.1,\n",
    "                           padding=4)\n",
    "rx_z = widgets.FloatSlider(description='z :',\n",
    "                           min=0.,\n",
    "                           max=zmax,\n",
    "                           value=DL.b[2],\n",
    "                           step=0.1,\n",
    "                           padding=4)\n",
    "\n",
    "\n",
    "rx_pos = widgets.Box(children=[rx_x, rx_y,rx_z])\n",
    "_=widgets.interactive(update_b,x=rx_x,y=rx_y,z=rx_z)\n",
    "\n",
    "\n",
    "\n",
    "rx_ant = widgets.Dropdown(description='File:', value='Omni',options=av_ant ,padding=12)\n",
    "\n",
    "#######RX Rotation\n",
    "\n",
    "\n",
    "gammaRX=widgets.FloatSlider(value=0,\n",
    "                         min=-np.pi,\n",
    "                          max=np.pi,\n",
    "                          step=np.pi/50,\n",
    "                        description='x-roll')\n",
    "\n",
    "\n",
    "betaRX=widgets.FloatSlider(value=0,\n",
    "                         min=-np.pi,\n",
    "                          max=np.pi,\n",
    "                          step=np.pi/50,\n",
    "                        description='y-roll')\n",
    "\n",
    "alphaRX=widgets.FloatSlider(value=0,\n",
    "                         min=-np.pi,\n",
    "                          max=np.pi,\n",
    "                          step=np.pi/50,\n",
    "                        description='z-roll')\n",
    "\n",
    "rx_rot = widgets.Box(children=[alphaRX,betaRX,gammaRX])\n",
    "\n",
    "rx_antbox = widgets.Box(children=[rx_ant,rx_rot])\n",
    "\n",
    "rx_postab = widgets.Tab(children=[rx_pos,rx_antbox])\n",
    "rx_postab.set_title(0, 'Position')\n",
    "rx_postab.set_title(1, 'Antenna')\n",
    "\n",
    "rx_page = widgets.Box(children=[rx_postab])\n",
    "\n",
    "\n",
    "_=widgets.interactive(update_Tb,alpha=alphaRX,beta=betaRX,gamma=gammaRX)\n",
    "_=widgets.interactive(update_Ab,ant=rx_ant)\n",
    "\n",
    "# page 3\n",
    "\n",
    "fm = widgets.FloatText(description='fGHz min', value=DL.fGHz[0],padding=12)\n",
    "fM = widgets.FloatText(description='fGHz max', value=DL.fGHz[-1],padding=12)\n",
    "fs = widgets.FloatText(description='fGHz step', value=.1,padding=12)\n",
    "\n",
    "\n",
    "param_page = widgets.Box(children=[fm,fM,fs])\n",
    "\n",
    "_=widgets.interactive(update_fGHz,fm=fm,fM=fM,fs=fs)\n",
    "\n",
    "\n",
    "\n",
    "\n",
    "\n",
    "###### page 4 adv param\n",
    "\n",
    "force = widgets.Checkbox(description='force',value=False)\n",
    "cutoff = widgets.IntText(description='Cutoff',value=DL.cutoff)\n",
    "diff = widgets.Checkbox(description='diffractions',value=True)\n",
    "vect = widgets.Checkbox(description='vect.rays',value=True)\n",
    "mirror = widgets.IntText(description='mirror',value=1)\n",
    "appwav = widgets.Checkbox(description='apply wavform',value=True)\n",
    "\n",
    "adv_param_page = widgets.Box(children=[force,cutoff,appwav,mirror,diff,vect],padding=100)\n",
    "\n",
    "\n",
    "tabs = widgets.Tab(children=[layoutpage,tx_page,rx_page,param_page,adv_param_page])\n",
    "tabs.set_title(0, 'Layout')\n",
    "tabs.set_title(1, 'Tx')\n",
    "tabs.set_title(2, 'Rx')\n",
    "tabs.set_title(3, 'Parameters')\n",
    "tabs.set_title(4, 'Advanced Parameters')\n",
    "\n",
    "\n",
    "# eval\n",
    "\n",
    "eval_button = widgets.Button(description='Eval')\n",
    "eval_button.on_click(DLeval)\n",
    "\n",
    "\n",
    "interface = widgets.Box(children=[tabs,eval_button])\n",
    "\n",
    "\n",
    "display(interface)\n",
    "\n"
   ]
  },
  {
   "cell_type": "code",
   "execution_count": null,
   "metadata": {
    "collapsed": true,
    "run_control": {
     "frozen": false,
     "read_only": false
    }
   },
   "outputs": [],
   "source": []
  },
  {
   "cell_type": "code",
   "execution_count": 5,
   "metadata": {
    "ExecuteTime": {
     "end_time": "2016-07-04T09:54:48.699631",
     "start_time": "2016-07-04T09:54:48.666301"
    },
    "collapsed": false
   },
   "outputs": [
    {
     "data": {
      "text/plain": [
       "array([[[[ -1.03080964e-18 +2.06326841e-03j,\n",
       "           -9.87859239e-19 +1.97729889e-03j,\n",
       "            1.05371652e-19 +1.89820693e-03j]]],\n",
       "\n",
       "\n",
       "       [[[             nan            +nanj,\n",
       "                       nan            +nanj,\n",
       "                       nan            +nanj]]],\n",
       "\n",
       "\n",
       "       [[[ -9.37452609e+09 -9.44995482e+09j,\n",
       "           -8.79646109e+09 -8.86390960e+09j,\n",
       "           -8.27513360e+09 -8.33633328e+09j]]],\n",
       "\n",
       "\n",
       "       ..., \n",
       "       [[[             nan            +nanj,\n",
       "                       nan            +nanj,\n",
       "                       nan            +nanj]]],\n",
       "\n",
       "\n",
       "       [[[             nan            +nanj,\n",
       "                       nan            +nanj,\n",
       "                       nan            +nanj]]],\n",
       "\n",
       "\n",
       "       [[[  0.00000000e+00 +0.00000000e+00j,\n",
       "            0.00000000e+00 +0.00000000e+00j,\n",
       "            0.00000000e+00 +0.00000000e+00j]]]])"
      ]
     },
     "execution_count": 5,
     "metadata": {},
     "output_type": "execute_result"
    }
   ],
   "source": [
    "DL.L."
   ]
  },
  {
   "cell_type": "code",
   "execution_count": null,
   "metadata": {
    "collapsed": true
   },
   "outputs": [],
   "source": []
  }
 ],
 "metadata": {
  "kernelspec": {
   "display_name": "Python 2",
   "language": "python",
   "name": "python2"
  },
  "language_info": {
   "codemirror_mode": {
    "name": "ipython",
    "version": 2
   },
   "file_extension": ".py",
   "mimetype": "text/x-python",
   "name": "python",
   "nbconvert_exporter": "python",
   "pygments_lexer": "ipython2",
   "version": "2.7.11"
  },
  "latex_envs": {
   "bibliofile": "biblio.bib",
   "cite_by": "apalike",
   "current_citInitial": 1,
   "eqLabelWithNumbers": true,
   "eqNumInitial": 0
  },
  "nav_menu": {},
  "toc": {
   "navigate_menu": true,
   "number_sections": true,
   "sideBar": true,
   "threshold": 6,
   "toc_cell": true,
   "toc_section_display": "block",
   "toc_window_display": false
  },
  "widgets": {
   "state": {
    "00412d4437c34c66ba5b5350e57d24f4": {
     "views": []
    },
    "00aac62931174309ada9f18f6b533693": {
     "views": []
    },
    "00d36eb61acc402298e0132894ef53b5": {
     "views": []
    },
    "01bfdd4382f04abf8db01de252b78e1f": {
     "views": []
    },
    "0338573ae4b94de381ff78bbf1663465": {
     "views": []
    },
    "03f5cc6f1e504ca79defa724ac55ff88": {
     "views": []
    },
    "0520476a53a94c3eb1f2181bf49ec983": {
     "views": []
    },
    "06f8b4e1fda64945960b1953da6062c7": {
     "views": []
    },
    "091ab983036046cd98bfb466377d5e59": {
     "views": []
    },
    "0b1cb92ab4184bb48a11539a47cf1db8": {
     "views": []
    },
    "0bfec4578f5142b88b32fbf158fd3664": {
     "views": []
    },
    "0f5ef79afe2e43c4b15ef880d596b31e": {
     "views": []
    },
    "109a072d716544ca96d37632269a134c": {
     "views": []
    },
    "1102dace73fc4ba9b5e653931589352c": {
     "views": []
    },
    "123318d8c54247a9a6e02f2ea6dac5bf": {
     "views": []
    },
    "12b58bbecc4a4380afd87673b5e0243b": {
     "views": []
    },
    "15013beabea647959e7d341608fb4b19": {
     "views": []
    },
    "1756a59cd5534ca98b95cd31ea760df9": {
     "views": []
    },
    "17a0fdd50773488b9ed175a76d95aded": {
     "views": []
    },
    "1819c9028c83404e817b2f6868c9c016": {
     "views": []
    },
    "19c808a21b3e4f3580a343e2adb7ffc8": {
     "views": []
    },
    "19f9574bfa714fbcbfb372cb1830bf80": {
     "views": []
    },
    "1b073cc761164efc8d0f10f119c7a70c": {
     "views": []
    },
    "1c08f9810cb64438bb6b604e2d061b3a": {
     "views": []
    },
    "1d87a4d57c07437880bc358c244235cb": {
     "views": []
    },
    "22b7cec08d794bccba903872086255db": {
     "views": []
    },
    "26814a355d2b421dac8308385ae85413": {
     "views": []
    },
    "284426a2c9c5405bacbe896fab14effa": {
     "views": []
    },
    "28d16ebbcdc944cbb7aba9c254b61093": {
     "views": []
    },
    "2a97a2197bf440f89d5b8ce1a9c316e7": {
     "views": []
    },
    "2cd3fcda2b5648cdb458a37d4ac2c48d": {
     "views": []
    },
    "2e5e74e979cd41c492e848e10306b450": {
     "views": []
    },
    "2f3b30dccd2143f1955e4e5149b78d17": {
     "views": []
    },
    "2f4b096e3b9c43119ba3249f74480d57": {
     "views": []
    },
    "2f8818af694a4648872cd33e71708002": {
     "views": []
    },
    "3094f14915f64f718574fdf70242f3a3": {
     "views": []
    },
    "315c4c2274e54cb9b48d74e37713f0e8": {
     "views": []
    },
    "32c9764776ba4d1f9079cc196b67c917": {
     "views": []
    },
    "343c445a7a194ade8d86719194ce1ee5": {
     "views": []
    },
    "34af1ee569f24b5c8e2ddf22d26b959a": {
     "views": []
    },
    "35fd2f64789449ce8d91621655fa62ed": {
     "views": []
    },
    "38bdc97e5c93411c97de84202cacf3d8": {
     "views": []
    },
    "393915c8c90f41f7937b707c02823815": {
     "views": []
    },
    "3c3e121b02534fc5b3c64ce61779c19e": {
     "views": []
    },
    "3e2f3bc47b5546b48cb5c26eab8a47e7": {
     "views": []
    },
    "3ecc9d0cd87b4c95aa4c57159ead2f33": {
     "views": []
    },
    "3f69046d185f4b2f923e397e39ac9134": {
     "views": []
    },
    "411d0e5fe7c04558be06821fdbff5a25": {
     "views": []
    },
    "41ca5bacf7a24e30be5e0aad899418a1": {
     "views": []
    },
    "41d8988eef7c4285b23e4d913d9bba56": {
     "views": []
    },
    "427b95b49ea9439c8f9b53b8054b446e": {
     "views": []
    },
    "436017c30dd843efb19ad7a37d00457c": {
     "views": []
    },
    "43e02fd9545b4ba581e9f560e5ffe60d": {
     "views": []
    },
    "442392aac6c44c8f9096285a765b112c": {
     "views": []
    },
    "442fb4e4db704adca7080eb4f4aa0c77": {
     "views": []
    },
    "44af119b2be14f96a810ca0b47aa54cf": {
     "views": []
    },
    "46aacdb12be949b0baa17a0bcfcd78a9": {
     "views": []
    },
    "47896a6321f543fb842bab41b0862238": {
     "views": []
    },
    "49df9c43aca549129e2a26cb84b576fb": {
     "views": []
    },
    "4b6a384a301845208a05c3e4636a55c2": {
     "views": []
    },
    "4b7c757b63ad4d4f9b2cef09a213198f": {
     "views": []
    },
    "5323f8d512c749918e722a1c77a66ee4": {
     "views": []
    },
    "555f4f3290804a9b97b8d8ad74ac33ed": {
     "views": []
    },
    "57598c5f727d4a4f8ee668d1c599bf39": {
     "views": []
    },
    "5bbc0e2ce19d466b9f13c7831d408883": {
     "views": []
    },
    "5cf4783af75d4367977a6c9d163770fe": {
     "views": []
    },
    "5e5564f0293c44458f0b112cae7eaffd": {
     "views": []
    },
    "5ecdd8059b644e859f8c86bbe53145df": {
     "views": []
    },
    "61be41301f6043899cfe9f84ae2d63db": {
     "views": []
    },
    "626160d09f984364942bd2a962ce376c": {
     "views": []
    },
    "62c04f49a7e74c0a9036e621719b7da0": {
     "views": []
    },
    "63401d097aac44e79e443fb639ef6245": {
     "views": [
      {
       "cell_index": 2
      }
     ]
    },
    "67678a1075be44f18f9ae5368bf5924a": {
     "views": []
    },
    "67b73e1be29949e58116bc29ae840362": {
     "views": []
    },
    "67d1b2f4f63643c697fb3062ad4aa4d8": {
     "views": []
    },
    "67f383ebe336499bb7ff83ab8fcb5b4d": {
     "views": []
    },
    "691db97c2a5d4f2398a53c5e595cda39": {
     "views": []
    },
    "69781105fda042f895553dbd5a7f3088": {
     "views": []
    },
    "69c003e59428401180d276b41f295b71": {
     "views": []
    },
    "6c8811210073447e9aa992ff8ff01938": {
     "views": []
    },
    "6cb2210ca5de44b885ded030d1a0c815": {
     "views": []
    },
    "6ec9701a70c54b388acab9aa06b8e9d9": {
     "views": []
    },
    "6f04f60e6e3f4c9cad66ee6f524dc1a1": {
     "views": []
    },
    "6f0f047550c4451a9964b7c44bda36c8": {
     "views": []
    },
    "6f7399f5ad6d459fb4cec93114ed3088": {
     "views": []
    },
    "71ec2d43f1bf40468e646d61b3f9654f": {
     "views": []
    },
    "744b8a722b5741c99fb0980e2e5e700c": {
     "views": []
    },
    "74bbc2b2b5664e2794d45de3befec9ba": {
     "views": []
    },
    "7585a18dc65f47338158a281bfed55e9": {
     "views": []
    },
    "76f464156c694813ba9be237d7d85ad8": {
     "views": []
    },
    "7829bb4d5e974da88b9576b767e98b55": {
     "views": []
    },
    "7873ff29be9e4c06bec3c670eb41128a": {
     "views": []
    },
    "795ed584d1f84b53ae94908311bf10fb": {
     "views": []
    },
    "7b1c2eeccc1b4d3d905a147274d1622b": {
     "views": []
    },
    "7b294db743ea4adc98064f7cb9ba6122": {
     "views": []
    },
    "7b8d7e362cff4a17a3524911c9d4f52d": {
     "views": []
    },
    "7e07c0ecceeb4adaadd051a60a92735b": {
     "views": []
    },
    "808703cc93de446ca95b6ce70e986939": {
     "views": [
      {
       "cell_index": 2
      }
     ]
    },
    "82ca62d4559a41bb8a734aa960f7acb2": {
     "views": []
    },
    "84192b37413e4435ba7e21213f4aa4cb": {
     "views": []
    },
    "841a13da5e73478cbfa6522413271dd5": {
     "views": []
    },
    "8449576d90534c099d55563afbac92d6": {
     "views": []
    },
    "871fac905c3642ebbd3300286a0fd5ed": {
     "views": []
    },
    "87e40b9ea712424da5b8c98d576e94ea": {
     "views": [
      {
       "cell_index": 2
      }
     ]
    },
    "8cf2d2425cc34024b4f769aba8e6c905": {
     "views": []
    },
    "8d821c3ef4ce446f817f68f37f70e84a": {
     "views": []
    },
    "8f13920b992c4f3ab603340fe31ce3c1": {
     "views": []
    },
    "8f94927548d143c5bfcee003fbf87249": {
     "views": []
    },
    "91b81bbe7003476387f5177662045cae": {
     "views": []
    },
    "91e59570b3504714b51ab36f751c63af": {
     "views": []
    },
    "9237dcd3286147dea573254fa3f54dcd": {
     "views": []
    },
    "926b6c098b534778b2e1ca708cb3819b": {
     "views": []
    },
    "93cbbc3a65c34962a54fbd2f6032a9f7": {
     "views": []
    },
    "9525197589fe4f86ab188f4a643dc1d8": {
     "views": []
    },
    "965b106c522d4f9dabf55a0ad1f62316": {
     "views": []
    },
    "9ad837e556ff49728bc2d61273dedc96": {
     "views": []
    },
    "9ae056e3dde740b8a0654a8fa32c333b": {
     "views": []
    },
    "9b3ee29a83624dbca336b49f1abf9c9c": {
     "views": []
    },
    "9f5be2feec7e490fa174e0fd254b63aa": {
     "views": []
    },
    "a0e108ff4097470b87207758335aea18": {
     "views": []
    },
    "a171790d7d324bfeb8fd7b1bcd54bec6": {
     "views": []
    },
    "a21b9d2923564df89cf3e0ddeaffdb0a": {
     "views": []
    },
    "a7bdd07108514f00bb50a5e31a06615f": {
     "views": []
    },
    "a7c881ea57324a129e54e4f2caada1e6": {
     "views": []
    },
    "a98dc11c27bf406b9dc5aaffbb599513": {
     "views": []
    },
    "aa28570645374493bb3f80e516b9c98e": {
     "views": []
    },
    "aaae4b5901f346749a5c73f604a2d2c3": {
     "views": []
    },
    "ac916ee89a6449df98de9557f4b51cde": {
     "views": []
    },
    "adb26cb80cbf479fb8d0cd0b55bcd501": {
     "views": []
    },
    "adfc5bca70c14b58be6b9ffa2a954952": {
     "views": []
    },
    "af639935a4d942478930b3267cc80622": {
     "views": []
    },
    "b0c95880b7534b6cb0a782c5b6c93416": {
     "views": []
    },
    "b439e492647f4febb0c2dd45dcba8c82": {
     "views": []
    },
    "b5467dea6be147f28863f68ca225ab5c": {
     "views": []
    },
    "b68093345fde4e779450d5b69ae02ee0": {
     "views": []
    },
    "b976ded2bf1542c2a0e7a1bb26cfdedd": {
     "views": []
    },
    "ba7a32cccb994124a1be89025bc94ee5": {
     "views": []
    },
    "baf92470655f408bb80129a9a3513119": {
     "views": []
    },
    "c054ac0de5ac4530a505d4c0f92378c2": {
     "views": []
    },
    "c0acaa72d0b648128a0cbc02cf724732": {
     "views": []
    },
    "c0d161fa7bcd41c284536e42177338b7": {
     "views": []
    },
    "c312866d66a54ac5bb4989a59ecbda16": {
     "views": []
    },
    "c35595a009d341419da8cbbc0063ad4b": {
     "views": []
    },
    "c380515c2e3845f2a126283886f94135": {
     "views": []
    },
    "c443b5262d5a4287990981050e8ae27f": {
     "views": []
    },
    "c502f73f470344e5874d5e476a3bf581": {
     "views": []
    },
    "c5922e36315f4af9bc4a68c69446243b": {
     "views": []
    },
    "c67a4159e9a4498b8fa2d56961d37115": {
     "views": []
    },
    "c8111e90465f445b929293a06015731e": {
     "views": []
    },
    "c8c5d3cb1e054c02a1e77bcd8993f662": {
     "views": []
    },
    "c903367bf64f462e9cf67300d24be7e6": {
     "views": []
    },
    "cb49a9619fd34ec0bade077467148694": {
     "views": []
    },
    "cbb8b929042945c5a7fe0bec4213ef05": {
     "views": []
    },
    "cccac99c347b4426872cdde787648a1f": {
     "views": []
    },
    "cd5c65140633418fad4bbd78202b5403": {
     "views": []
    },
    "ce4fa9652f2442549db878b9dd376a60": {
     "views": []
    },
    "cfc38d261b664922998420ad91b97fdd": {
     "views": []
    },
    "cfd50d93e5404c30bd16014081bac1c9": {
     "views": []
    },
    "d04405146bf048448ab7bcd788b8ef1a": {
     "views": []
    },
    "d0bce49a7df9458489139a5f11a85e39": {
     "views": []
    },
    "d0d7c5be235a4d3fa04283b3dbc370f2": {
     "views": []
    },
    "d13b66a6f96048c1a13cb4b12daf8eec": {
     "views": []
    },
    "d2ad8566fb684a8abea295324be87e83": {
     "views": []
    },
    "d2dff70b5c104aaab0ed89aaf1da9606": {
     "views": []
    },
    "d3e423f381f04d63b420ac8e58db59d2": {
     "views": []
    },
    "d5b59dec146240248f52060e2db66cdc": {
     "views": []
    },
    "d63f43bd5f94420ca2d7ec39d47e2898": {
     "views": []
    },
    "d79a9a595a734511993e168637901720": {
     "views": []
    },
    "d9c4ce7becee4ccc8f306367712418ff": {
     "views": []
    },
    "d9c758c78fbe40ef9329129601215ed6": {
     "views": []
    },
    "d9fcb005ecfb48c69f15fd61c298e27d": {
     "views": []
    },
    "dbeffb0c7a494284b40756d16dcd5907": {
     "views": []
    },
    "dcc3eb23ad054bcbabf9e6ecfd5b6424": {
     "views": []
    },
    "dd875e4e842e41cbb98689a64887edec": {
     "views": []
    },
    "ddb5e127bc5c4ad5b2449492bf1b3dea": {
     "views": []
    },
    "dde1372cdc3941e9aba6284349c2cb47": {
     "views": []
    },
    "df3952626d2847f385c34d245267d5d5": {
     "views": []
    },
    "df8487d7dc7a442990a0006cd25dd854": {
     "views": []
    },
    "e1d16b0663264f8fb0f85f13d5dd60e7": {
     "views": []
    },
    "e216280656844ab4860433b72597995d": {
     "views": []
    },
    "e3ccc07187ef46799ba0e08817810c75": {
     "views": []
    },
    "e491aaa7e20848e6abe88a6ec5426403": {
     "views": []
    },
    "e5a2f79d510d4d11b00eb104474346b2": {
     "views": []
    },
    "e63dd66c07ee4bada7ea2c7598ee4210": {
     "views": []
    },
    "e6fe50b770bd4fd4974978914cb8989e": {
     "views": []
    },
    "e782d80effe94523b0c1099f9e1eeed3": {
     "views": []
    },
    "e90024fddaa2497fb5f7be929755b192": {
     "views": []
    },
    "e9c09ac48f9a4d95a9ed6622cc4c1070": {
     "views": []
    },
    "e9f905eb32b04059b38aee2e0e568509": {
     "views": []
    },
    "eb2958330cc84650b3e5d4848dcbd608": {
     "views": []
    },
    "ee328587bf0c447298007654d2d8ddd7": {
     "views": []
    },
    "eeb4bdc1f8ff48db8c670518c762b27a": {
     "views": []
    },
    "eff61cc3244643439a3a7ba7edb68f8b": {
     "views": []
    },
    "f0595055f3e74d4dbdc52835a681eaf3": {
     "views": []
    },
    "f0ad09e9f7874696958aaeceeb2f6e64": {
     "views": []
    },
    "f39925ef8d1a408083578ecdf80f6937": {
     "views": []
    },
    "f4f51d11b4034b95ae97636b9cb9163b": {
     "views": []
    },
    "f7bb34323a5f4795aba7074e07f22ac8": {
     "views": []
    },
    "fa6e5118082348a09a5a2c7ecb8e16d2": {
     "views": []
    },
    "fc0c333191b6467e8ac468ec729d98a8": {
     "views": []
    },
    "fd7517ee2b7d464db47b7b9896e6e554": {
     "views": []
    },
    "fe5c7c3557f540cfa3224c9985b58c62": {
     "views": []
    },
    "fe6d88bf57e34be7bb6f55b3641a504b": {
     "views": []
    },
    "ff03662f7e044c898d46ab6cd95a4fa6": {
     "views": []
    }
   },
   "version": "1.1.2"
  }
 },
 "nbformat": 4,
 "nbformat_minor": 0
}
