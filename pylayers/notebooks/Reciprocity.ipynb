{
 "metadata": {
  "name": ""
 },
 "nbformat": 3,
 "nbformat_minor": 0,
 "worksheets": [
  {
   "cells": [
    {
     "cell_type": "code",
     "collapsed": false,
     "input": [
      "from pylayers.antprop.rays import *\n",
      "from pylayers.gis.layout import *\n",
      "from pylayers.antprop.signature import *\n",
      "import pylayers.signal.bsignal as bs\n",
      "import pylayers.signal.waveform as wvf \n",
      "from pylayers.simul.simulem import *\n",
      "import matplotlib.pyplot as plt \n",
      "import time"
     ],
     "language": "python",
     "metadata": {},
     "outputs": [
      {
       "metadata": {},
       "output_type": "display_data",
       "text": [
        "<matplotlib.figure.Figure at 0x59a7150>"
       ]
      }
     ],
     "prompt_number": 1
    },
    {
     "cell_type": "code",
     "collapsed": false,
     "input": [
      "print \"=======================\"\n",
      "print \" start test_rays.py (Ray Tracing numpy) \"\n",
      "print \"=======================\"\n",
      "S = Simul()\n",
      "filestr = 'defstr3'\n",
      "S.layout(filestr+'.ini','matDB.ini','slabDB.ini')\n",
      "S.L.Gs.node[1]['ss_name']=['WOOD','AIR','METAL']\n",
      "S.L.build()\n",
      "# first case\n",
      "tx=array([759,1114,1.0])\n",
      "rx=array([767,1114,1.5])\n",
      "S.tx.clear()\n",
      "S.rx.clear()\n",
      "S.tx.point(tx)\n",
      "S.rx.point(rx)\n",
      "Ctx = S.L.pt2cy(S.tx.position[:,0])\n",
      "Crx = S.L.pt2cy(S.rx.position[:,0])\n"
     ],
     "language": "python",
     "metadata": {},
     "outputs": [
      {
       "output_type": "stream",
       "stream": "stdout",
       "text": [
        "=======================\n",
        " start test_rays.py (Ray Tracing numpy) \n",
        "=======================\n"
       ]
      }
     ],
     "prompt_number": 2
    },
    {
     "cell_type": "code",
     "collapsed": false,
     "input": [
      "Si = Signatures(S.L,Ctx,Crx)\n",
      "\n",
      "Si.run4(cutoff=5,algo='old')\n",
      "r2d = Si.rays(tx,rx)\n",
      "r3d = r2d.to3D(S.L)\n",
      "r3d.locbas(S.L)\n",
      "r3d.fillinter(S.L)\n",
      "\n"
     ],
     "language": "python",
     "metadata": {},
     "outputs": [],
     "prompt_number": 3
    },
    {
     "cell_type": "code",
     "collapsed": false,
     "input": [
      "fGHz=np.arange(2,11,0.1)\n",
      "wav = wvf.Waveform(fcGHz=5,bandGHz=3)\n",
      "C=r3d.eval(fGHz)\n",
      "sc=C.prop2tran(a='theta',b='theta')\n",
      "cir = sc.applywavB(wav.sfg)"
     ],
     "language": "python",
     "metadata": {},
     "outputs": [],
     "prompt_number": 8
    },
    {
     "cell_type": "code",
     "collapsed": false,
     "input": [
      "cir.plot()"
     ],
     "language": "python",
     "metadata": {},
     "outputs": [
      {
       "metadata": {},
       "output_type": "pyout",
       "prompt_number": 9,
       "text": [
        "(<matplotlib.figure.Figure at 0x61c1c90>,\n",
        " array([[<matplotlib.axes.AxesSubplot object at 0x1739f810>]], dtype=object))"
       ]
      },
      {
       "metadata": {},
       "output_type": "display_data",
       "png": "[encoded data removed]",
       "text": [
        "<matplotlib.figure.Figure at 0x61c1c90>"
       ]
      }
     ],
     "prompt_number": 9
    },
    {
     "cell_type": "code",
     "collapsed": false,
     "input": [
      "r2 = r2d.extract(2,1)\n",
      "q2 = r2.reciprocal()"
     ],
     "language": "python",
     "metadata": {},
     "outputs": [],
     "prompt_number": 10
    },
    {
     "cell_type": "code",
     "collapsed": false,
     "input": [
      "r2.show(S.L)"
     ],
     "language": "python",
     "metadata": {},
     "outputs": [
      {
       "metadata": {},
       "output_type": "pyout",
       "prompt_number": 11,
       "text": [
        "(<matplotlib.figure.Figure at 0x61d64d0>,\n",
        " <matplotlib.axes.AxesSubplot at 0x173d02d0>)"
       ]
      },
      {
       "metadata": {},
       "output_type": "display_data",
       "png": "[encoded data removed]",
       "text": [
        "<matplotlib.figure.Figure at 0x61d64d0>"
       ]
      }
     ],
     "prompt_number": 11
    },
    {
     "cell_type": "code",
     "collapsed": false,
     "input": [
      "q2.show(S.L)"
     ],
     "language": "python",
     "metadata": {},
     "outputs": [
      {
       "metadata": {},
       "output_type": "pyout",
       "prompt_number": 12,
       "text": [
        "(<matplotlib.figure.Figure at 0x173d4990>,\n",
        " <matplotlib.axes.AxesSubplot at 0x635bb90>)"
       ]
      },
      {
       "metadata": {},
       "output_type": "display_data",
       "png": "[encoded data removed]",
       "text": [
        "<matplotlib.figure.Figure at 0x173d4990>"
       ]
      }
     ],
     "prompt_number": 12
    },
    {
     "cell_type": "code",
     "collapsed": false,
     "input": [
      "r3 = r2.to3D(S.L)\n",
      "r3.locbas(S.L)\n",
      "r3.fillinter(S.L)\n",
      "q3 = q2.to3D(S.L)\n",
      "q3.locbas(S.L)\n",
      "q3.fillinter(S.L)"
     ],
     "language": "python",
     "metadata": {},
     "outputs": [],
     "prompt_number": 13
    },
    {
     "cell_type": "code",
     "collapsed": false,
     "input": [
      "r3"
     ],
     "language": "python",
     "metadata": {},
     "outputs": [
      {
       "metadata": {},
       "output_type": "pyout",
       "prompt_number": 14,
       "text": [
        "Rays3D\n",
        "----------\n",
        "2 / 1 : [0]\n",
        "3 / 2 : [1 2]\n",
        "4 / 2 : [3 4]\n",
        "-----\n",
        "ni : 16\n",
        "nl : 37\n"
       ]
      }
     ],
     "prompt_number": 14
    },
    {
     "cell_type": "code",
     "collapsed": false,
     "input": [
      "q3"
     ],
     "language": "python",
     "metadata": {},
     "outputs": [
      {
       "metadata": {},
       "output_type": "pyout",
       "prompt_number": 15,
       "text": [
        "Rays3D\n",
        "----------\n",
        "2 / 1 : [0]\n",
        "3 / 2 : [1 2]\n",
        "4 / 2 : [3 4]\n",
        "-----\n",
        "ni : 16\n",
        "nl : 37\n"
       ]
      }
     ],
     "prompt_number": 15
    },
    {
     "cell_type": "code",
     "collapsed": false,
     "input": [
      "Cr=r3.eval(fGHz)\n",
      "Cr.sort()\n",
      "scr=Cr.prop2tran(a='theta',b='theta')\n",
      "Cq=q3.eval(fGHz)\n",
      "Cq.sort()\n",
      "scq=Cq.prop2tran(a='theta',b='theta')"
     ],
     "language": "python",
     "metadata": {},
     "outputs": [],
     "prompt_number": 24
    },
    {
     "cell_type": "code",
     "collapsed": false,
     "input": [
      "scr"
     ],
     "language": "python",
     "metadata": {},
     "outputs": [
      {
       "metadata": {},
       "output_type": "pyout",
       "prompt_number": 25,
       "text": [
        "freq :2.0 10.9 90\n",
        "shape  :(5, 90)\n",
        "tau :30.0754329983 37.0296953364\n",
        "dist :9.0226298995 11.1089086009"
       ]
      }
     ],
     "prompt_number": 25
    },
    {
     "cell_type": "code",
     "collapsed": false,
     "input": [
      "scq"
     ],
     "language": "python",
     "metadata": {},
     "outputs": [
      {
       "metadata": {},
       "output_type": "pyout",
       "prompt_number": 26,
       "text": [
        "freq :2.0 10.9 90\n",
        "shape  :(5, 90)\n",
        "tau :30.0754329983 37.0296953364\n",
        "dist :9.0226298995 11.1089086009"
       ]
      }
     ],
     "prompt_number": 26
    },
    {
     "cell_type": "code",
     "collapsed": false,
     "input": [
      "scq.RSSI()"
     ],
     "language": "python",
     "metadata": {},
     "outputs": [
      {
       "metadata": {},
       "output_type": "pyout",
       "prompt_number": 27,
       "text": [
        "-174.69642541933584"
       ]
      }
     ],
     "prompt_number": 27
    },
    {
     "cell_type": "code",
     "collapsed": false,
     "input": [
      "scr.RSSI()"
     ],
     "language": "python",
     "metadata": {},
     "outputs": [
      {
       "metadata": {},
       "output_type": "pyout",
       "prompt_number": 28,
       "text": [
        "-186.6265337763507"
       ]
      }
     ],
     "prompt_number": 28
    },
    {
     "cell_type": "code",
     "collapsed": false,
     "input": [
      "print scr.doa\n",
      "print scq.dod"
     ],
     "language": "python",
     "metadata": {},
     "outputs": [
      {
       "output_type": "stream",
       "stream": "stdout",
       "text": [
        "[[ 1.62624094 -2.65738656]\n",
        " [ 1.84149225 -2.65738656]\n",
        " [ 1.20023375 -2.65738656]\n",
        " [ 1.02267995 -2.65738656]\n",
        " [ 2.1958194  -2.65738656]]\n",
        "[[ 1.62624094 -2.65738656]\n",
        " [ 1.84149225 -2.65738656]\n",
        " [ 1.20023375 -2.65738656]\n",
        " [ 1.02267995 -2.65738656]\n",
        " [ 2.1958194  -2.65738656]]\n"
       ]
      }
     ],
     "prompt_number": 29
    },
    {
     "cell_type": "code",
     "collapsed": false,
     "input": [
      "print scr.dod\n",
      "print scq.doa"
     ],
     "language": "python",
     "metadata": {},
     "outputs": [
      {
       "output_type": "stream",
       "stream": "stdout",
       "text": [
        "[[ 1.51535171 -0.47140627]\n",
        " [ 1.84149225 -0.47140627]\n",
        " [ 1.20023375 -0.47140627]\n",
        " [ 2.1189127  -0.47140627]\n",
        " [ 0.94577325 -0.47140627]]\n",
        "[[ 1.51535171 -0.47140627]\n",
        " [ 1.84149225 -0.47140627]\n",
        " [ 1.20023375 -0.47140627]\n",
        " [ 2.1189127  -0.47140627]\n",
        " [ 0.94577325 -0.47140627]]\n"
       ]
      }
     ],
     "prompt_number": 30
    },
    {
     "cell_type": "code",
     "collapsed": false,
     "input": [
      "-2.65738-0.47140627"
     ],
     "language": "python",
     "metadata": {},
     "outputs": [
      {
       "metadata": {},
       "output_type": "pyout",
       "prompt_number": 31,
       "text": [
        "-3.12878627"
       ]
      }
     ],
     "prompt_number": 31
    },
    {
     "cell_type": "code",
     "collapsed": false,
     "input": [
      "print scr.tau0\n",
      "print scq.tau0"
     ],
     "language": "python",
     "metadata": {},
     "outputs": [
      {
       "output_type": "stream",
       "stream": "stdout",
       "text": [
        "[ 30.075433    31.1640552   32.21591227  35.18330575  37.02969534]\n",
        "[ 30.075433    31.1640552   32.21591227  35.18330575  37.02969534]\n"
       ]
      }
     ],
     "prompt_number": 39
    },
    {
     "cell_type": "code",
     "collapsed": false,
     "input": [
      "r = 0\n",
      "print Cr.Ctt.y[r,0],Cr.Ctp.y[r,0]\n",
      "print Cr.Cpt.y[r,0],Cr.Cpp.y[r,0]\n",
      "print \"---\"\n",
      "print Cq.Ctt.y[r,0],Cq.Ctp.y[r,0]\n",
      "print Cq.Cpt.y[r,0],Cq.Cpp.y[r,0]"
     ],
     "language": "python",
     "metadata": {},
     "outputs": [
      {
       "output_type": "stream",
       "stream": "stdout",
       "text": [
        "(-0.0010970650804+0.00154165561881j) (-0.000285099237226-1.6343942278e-05j)\n",
        "(0.000386960205264-3.40925819469e-05j) (-0.00896182738981-0.00142783977353j)\n",
        "---\n",
        "(-0.00114066112462+0.00149224706606j) (0.00221404852452+0.000355176540939j)\n",
        "(-1.25317203473e-05+0.000390391340476j) (-0.00869169983471-0.00138257036507j)\n"
       ]
      }
     ],
     "prompt_number": 41
    },
    {
     "cell_type": "markdown",
     "metadata": {},
     "source": [
      "Quand on parcours les bases locales \u00e0 l'envers on n'observe pas de transposition !"
     ]
    },
    {
     "cell_type": "code",
     "collapsed": false,
     "input": [
      "print r3[4]['B'][:,:,1,0]\n",
      "print q3[4]['B'][:,:,-2,0]"
     ],
     "language": "python",
     "metadata": {},
     "outputs": [
      {
       "output_type": "stream",
       "stream": "stdout",
       "text": [
        "[[-0.28997035 -0.95703563]\n",
        " [ 0.95703563 -0.28997035]]\n",
        "[[-0.28997035 -0.95703563]\n",
        " [ 0.95703563 -0.28997035]]\n"
       ]
      }
     ],
     "prompt_number": 46
    },
    {
     "cell_type": "code",
     "collapsed": false,
     "input": [
      "print r3[4]['sig'][:,:,0]\n",
      "print q3[4]['sig'][:,::-1,0]"
     ],
     "language": "python",
     "metadata": {},
     "outputs": [
      {
       "output_type": "stream",
       "stream": "stdout",
       "text": [
        "[[0 0 9 2 0 0]\n",
        " [0 4 1 2 5 0]]\n",
        "[[0 0 9 2 0 0]\n",
        " [0 4 1 2 5 0]]\n"
       ]
      }
     ],
     "prompt_number": 35
    },
    {
     "cell_type": "code",
     "collapsed": false,
     "input": [
      "print r3.I.R.A[0,0,:,:]\n",
      "print q3.I.R.A[0,0,:,:]\n"
     ],
     "language": "python",
     "metadata": {},
     "outputs": [
      {
       "output_type": "stream",
       "stream": "stdout",
       "text": [
        "[[-0.66496906+0.10411095j  0.00000000+0.j        ]\n",
        " [ 0.00000000+0.j          0.00833447-0.11908462j]]\n",
        "[[-0.65556474+0.10597379j  0.00000000+0.j        ]\n",
        " [ 0.00000000+0.j          0.02446793-0.11971704j]]\n"
       ]
      }
     ],
     "prompt_number": 36
    },
    {
     "cell_type": "code",
     "collapsed": false,
     "input": [
      "print r3.I.T.A[0,0,:,:]\n",
      "print q3.I.T.A[0,0,:,:]"
     ],
     "language": "python",
     "metadata": {},
     "outputs": [
      {
       "output_type": "stream",
       "stream": "stdout",
       "text": [
        "[[ 0.11860977+0.03985772j  0.00000000+0.j        ]\n",
        " [ 0.00000000+0.j          0.12910212+0.03839063j]]\n",
        "[[ 0.11860977+0.03985772j  0.00000000+0.j        ]\n",
        " [ 0.00000000+0.j          0.12910212+0.03839063j]]\n"
       ]
      }
     ],
     "prompt_number": 38
    }
   ],
   "metadata": {}
  }
 ]
}