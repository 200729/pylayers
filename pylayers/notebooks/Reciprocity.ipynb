{
 "metadata": {
  "name": ""
 },
 "nbformat": 3,
 "nbformat_minor": 0,
 "worksheets": [
  {
   "cells": [
    {
     "cell_type": "code",
     "collapsed": false,
     "input": [
      "from pylayers.antprop.rays import *\n",
      "from pylayers.gis.layout import *\n",
      "from pylayers.antprop.signature import *\n",
      "import pylayers.signal.bsignal as bs\n",
      "import pylayers.signal.waveform as wvf \n",
      "from pylayers.simul.simulem import *\n",
      "import matplotlib.pyplot as plt \n",
      "import time"
     ],
     "language": "python",
     "metadata": {},
     "outputs": [
      {
       "metadata": {},
       "output_type": "display_data",
       "text": [
        "<matplotlib.figure.Figure at 0xb5d8f0c>"
       ]
      }
     ],
     "prompt_number": 4
    },
    {
     "cell_type": "code",
     "collapsed": false,
     "input": [
      "print \"=======================\"\n",
      "print \" start test_rays.py (Ray Tracing numpy) \"\n",
      "print \"=======================\"\n",
      "S = Simul()\n",
      "filestr = 'defstr'\n",
      "S.layout(filestr+'.ini','matDB.ini','slabDB.ini')\n",
      "S.L.Gs.node[1]['ss_name']=['WOOD','AIR','METAL']\n",
      "S.L.build()\n",
      "# first case\n",
      "tx=array([759,1114,1.0])\n",
      "rx=array([767,1114,1.5])\n",
      "S.tx.clear()\n",
      "S.rx.clear()\n",
      "S.tx.point(tx)\n",
      "S.rx.point(rx)\n",
      "Ctx = S.L.pt2cy(S.tx.position[:,0])\n",
      "Crx = S.L.pt2cy(S.rx.position[:,0])\n"
     ],
     "language": "python",
     "metadata": {},
     "outputs": [
      {
       "output_type": "stream",
       "stream": "stdout",
       "text": [
        "=======================\n",
        " start test_rays.py (Ray Tracing numpy) \n",
        "=======================\n"
       ]
      }
     ],
     "prompt_number": 5
    },
    {
     "cell_type": "code",
     "collapsed": false,
     "input": [
      "Si1 = Signatures(S.L,Ctx,Crx)\n",
      "\n",
      "Si1.run4(cutoff=5,algo='old')\n",
      "r2d = Si1.rays(tx,rx)\n",
      "r3d1 = r2d.to3D(S.L)\n",
      "r3d1.locbas(S.L)\n",
      "r3d1.fillinter(S.L)\n",
      "\n"
     ],
     "language": "python",
     "metadata": {},
     "outputs": [
      {
       "output_type": "stream",
       "stream": "stdout",
       "text": [
        "> /private/staff/t/ot/niamiot/Documents/Code/pylayers/pylayers/antprop/rays.py(1048)fillinter()\n",
        "-> if k !=0:\n"
       ]
      },
      {
       "name": "stdout",
       "output_type": "stream",
       "stream": "stdout",
       "text": [
        "(Pdb) c\n"
       ]
      }
     ],
     "prompt_number": 6
    },
    {
     "cell_type": "code",
     "collapsed": false,
     "input": [
      "r3d1.show3(S.L)"
     ],
     "language": "python",
     "metadata": {},
     "outputs": [],
     "prompt_number": 12
    },
    {
     "cell_type": "code",
     "collapsed": false,
     "input": [
      "print np.shape(r3d1[2]['Bi'])\n",
      "print np.shape(r3d1[2]['pt'])\n",
      "print r3d1[2]['pt']"
     ],
     "language": "python",
     "metadata": {},
     "outputs": [
      {
       "output_type": "stream",
       "stream": "stdout",
       "text": [
        "(3, 3, 2, 6)\n",
        "(3, 4, 6)\n",
        "[[[  7.59000000e+02   7.59000000e+02   7.59000000e+02   7.59000000e+02\n",
        "     7.59000000e+02   7.59000000e+02]\n",
        "  [  7.63502592e+02   7.62200000e+02   7.63502544e+02   7.63062691e+02\n",
        "     7.58502390e+02   7.62936596e+02]\n",
        "  [  7.63571429e+02   7.63502592e+02   7.68502653e+02   7.63514435e+02\n",
        "     7.63502607e+02   7.63491780e+02]\n",
        "  [  7.67000000e+02   7.67000000e+02   7.67000000e+02   7.67000000e+02\n",
        "     7.67000000e+02   7.67000000e+02]]\n",
        "\n",
        " [[  1.11400000e+03   1.11400000e+03   1.11400000e+03   1.11400000e+03\n",
        "     1.11400000e+03   1.11400000e+03]\n",
        "  [  1.11400000e+03   1.11400000e+03   1.11400799e+03   1.11192910e+03\n",
        "     1.11399389e+03   1.11592757e+03]\n",
        "  [  1.11400000e+03   1.11400000e+03   1.11401687e+03   1.11216670e+03\n",
        "     1.11399748e+03   1.11566420e+03]\n",
        "  [  1.11400000e+03   1.11400000e+03   1.11400000e+03   1.11400000e+03\n",
        "     1.11400000e+03   1.11400000e+03]]\n",
        "\n",
        " [[  1.00000000e+00   1.00000000e+00   1.00000000e+00   1.00000000e+00\n",
        "     1.00000000e+00   1.00000000e+00]\n",
        "  [  2.96988400e+00   0.00000000e+00   1.20456070e+00   1.25308984e+00\n",
        "     1.02766167e+00   1.24678417e+00]\n",
        "  [  3.00000000e+00   4.07060000e-01   1.43172690e+00   1.28141889e+00\n",
        "     1.30559796e+00   1.28138112e+00]\n",
        "  [  1.50000000e+00   1.50000000e+00   1.50000000e+00   1.50000000e+00\n",
        "     1.50000000e+00   1.50000000e+00]]]\n"
       ]
      }
     ],
     "prompt_number": 10
    },
    {
     "cell_type": "code",
     "collapsed": false,
     "input": [
      "G=geu.GeomVect()\n",
      "G.geomBase(r3d1[2]['Bi'][:,:,0,0])\n",
      "G.show3()\n",
      "G.filename"
     ],
     "language": "python",
     "metadata": {},
     "outputs": [
      {
       "metadata": {},
       "output_type": "pyout",
       "prompt_number": 7,
       "text": [
        "'/private/staff/t/ot/niamiot/Bureau/P1/geom/geomdef.vect'"
       ]
      }
     ],
     "prompt_number": 7
    },
    {
     "cell_type": "code",
     "collapsed": false,
     "input": [
      "fGHz=np.arange(2,11,0.1)\n",
      "wav = wvf.Waveform(fcGHz=5,bandGHz=3)\n",
      "C1=r3d1.eval(fGHz)\n",
      "sc1=C1.prop2tran(a='theta',b='theta')\n",
      "cir1 = sc1.applywavB(wav.sfg)"
     ],
     "language": "python",
     "metadata": {},
     "outputs": [],
     "prompt_number": 9
    },
    {
     "cell_type": "code",
     "collapsed": false,
     "input": [
      "rx=array([759,1114,1.0])\n",
      "tx=array([767,1114,1.5])\n",
      "S.tx.clear()\n",
      "S.rx.clear()\n",
      "S.tx.point(tx)\n",
      "S.rx.point(rx)\n",
      "Ctx = S.L.pt2cy(S.tx.position[:,0])\n",
      "Crx = S.L.pt2cy(S.rx.position[:,0])"
     ],
     "language": "python",
     "metadata": {},
     "outputs": [],
     "prompt_number": 21
    },
    {
     "cell_type": "code",
     "collapsed": false,
     "input": [
      "Si2 = Signatures(S.L,Ctx,Crx)\n",
      "\n",
      "Si2.run4(cutoff=5,algo='old')\n",
      "r2d2 = Si2.rays(tx,rx)\n",
      "r3d2 = r2d2.to3D(S.L)\n",
      "r3d2.locbas(S.L)\n",
      "r3d2.fillinter(S.L)"
     ],
     "language": "python",
     "metadata": {},
     "outputs": [
      {
       "output_type": "stream",
       "stream": "stdout",
       "text": [
        "> /private/staff/t/ot/niamiot/Documents/Code/pylayers/pylayers/antprop/rays.py(1048)fillinter()\n",
        "-> if k !=0:\n"
       ]
      },
      {
       "name": "stdout",
       "output_type": "stream",
       "stream": "stdout",
       "text": [
        "(Pdb) c\n"
       ]
      }
     ],
     "prompt_number": 22
    },
    {
     "cell_type": "code",
     "collapsed": false,
     "input": [
      "fGHz=np.arange(2,11,0.1)\n",
      "wav = wvf.Waveform(fcGHz=5,bandGHz=3)\n",
      "C2=r3d2.eval(fGHz)\n",
      "sc2=C2.prop2tran(a='theta',b='theta')\n",
      "cir2 = sc2.applywavB(wav.sfg)"
     ],
     "language": "python",
     "metadata": {},
     "outputs": [],
     "prompt_number": 23
    },
    {
     "cell_type": "code",
     "collapsed": false,
     "input": [
      "cir1.plot(types='v')\n",
      "cir2.plot(types='v')"
     ],
     "language": "python",
     "metadata": {},
     "outputs": [
      {
       "output_type": "stream",
       "stream": "stderr",
       "text": [
        "/usr/local/lib/python2.7/site-packages/matplotlib/axes.py:4442: UserWarning: No labeled objects found. Use label='...' kwarg on individual plots.\n",
        "  warnings.warn(\"No labeled objects found. \"\n"
       ]
      },
      {
       "metadata": {},
       "output_type": "pyout",
       "prompt_number": 24,
       "text": [
        "(<matplotlib.figure.Figure at 0xb5dd7ac>,\n",
        " array([[<matplotlib.axes.AxesSubplot object at 0xb47df8c>]], dtype=object))"
       ]
      },
      {
       "metadata": {},
       "output_type": "display_data",
       "png": "[encoded data removed]",
       "text": [
        "<matplotlib.figure.Figure at 0xc7f59ac>"
       ]
      },
      {
       "metadata": {},
       "output_type": "display_data",
       "png": "[encoded data removed]",
       "text": [
        "<matplotlib.figure.Figure at 0xb5dd7ac>"
       ]
      }
     ],
     "prompt_number": 24
    },
    {
     "cell_type": "code",
     "collapsed": false,
     "input": [
      "r2 = r2d.extract(2,1)\n",
      "q2 = r2.reciprocal()"
     ],
     "language": "python",
     "metadata": {},
     "outputs": [],
     "prompt_number": 25
    },
    {
     "cell_type": "code",
     "collapsed": false,
     "input": [
      "r2.show(S.L)"
     ],
     "language": "python",
     "metadata": {},
     "outputs": [
      {
       "metadata": {},
       "output_type": "pyout",
       "prompt_number": 26,
       "text": [
        "(<matplotlib.figure.Figure at 0xb606cec>,\n",
        " <matplotlib.axes.AxesSubplot at 0xb47586c>)"
       ]
      },
      {
       "metadata": {},
       "output_type": "display_data",
       "png": "[encoded data removed]",
       "text": [
        "<matplotlib.figure.Figure at 0xb606cec>"
       ]
      }
     ],
     "prompt_number": 26
    },
    {
     "cell_type": "code",
     "collapsed": false,
     "input": [
      "q2.show(S.L)"
     ],
     "language": "python",
     "metadata": {},
     "outputs": [
      {
       "metadata": {},
       "output_type": "pyout",
       "prompt_number": 27,
       "text": [
        "(<matplotlib.figure.Figure at 0xc59c20c>,\n",
        " <matplotlib.axes.AxesSubplot at 0xc920a6c>)"
       ]
      },
      {
       "metadata": {},
       "output_type": "display_data",
       "png": "[encoded data removed]",
       "text": [
        "<matplotlib.figure.Figure at 0xc59c20c>"
       ]
      }
     ],
     "prompt_number": 27
    },
    {
     "cell_type": "code",
     "collapsed": false,
     "input": [
      "q2[2]"
     ],
     "language": "python",
     "metadata": {},
     "outputs": [
      {
       "metadata": {},
       "output_type": "pyout",
       "prompt_number": 28,
       "text": [
        "{'alpha': array([[ 0.43716222],\n",
        "        [ 0.49382031]]), 'pt': array([[[  763.51443532],\n",
        "         [  763.06269126]],\n",
        " \n",
        "        [[ 1112.16670206],\n",
        "         [ 1111.92909882]],\n",
        " \n",
        "        [[    1.28141889],\n",
        "         [    1.25308984]]]), 'sig': array([[[2],\n",
        "         [9]],\n",
        " \n",
        "        [[2],\n",
        "         [1]]])}"
       ]
      }
     ],
     "prompt_number": 28
    },
    {
     "cell_type": "code",
     "collapsed": false,
     "input": [
      "r3 = r2.to3D(S.L)\n",
      "r3.locbas(S.L)\n",
      "r3.fillinter(S.L)\n",
      "q3 = q2.to3D(S.L)\n",
      "q3.locbas(S.L)\n",
      "q3.fillinter(S.L)"
     ],
     "language": "python",
     "metadata": {},
     "outputs": [
      {
       "output_type": "stream",
       "stream": "stdout",
       "text": [
        "> /private/staff/t/ot/niamiot/Documents/Code/pylayers/pylayers/antprop/rays.py(1048)fillinter()\n",
        "-> if k !=0:\n"
       ]
      },
      {
       "name": "stdout",
       "output_type": "stream",
       "stream": "stdout",
       "text": [
        "(Pdb) c\n"
       ]
      },
      {
       "output_type": "stream",
       "stream": "stdout",
       "text": [
        "> /private/staff/t/ot/niamiot/Documents/Code/pylayers/pylayers/antprop/rays.py(1048)fillinter()\n",
        "-> if k !=0:\n"
       ]
      },
      {
       "name": "stdout",
       "output_type": "stream",
       "stream": "stdout",
       "text": [
        "(Pdb) c\n"
       ]
      }
     ],
     "prompt_number": 29
    },
    {
     "cell_type": "code",
     "collapsed": false,
     "input": [
      "r3"
     ],
     "language": "python",
     "metadata": {},
     "outputs": [
      {
       "metadata": {},
       "output_type": "pyout",
       "prompt_number": 30,
       "text": [
        "Rays3D\n",
        "----------\n",
        "2 / 1 : [0]\n",
        "3 / 2 : [1 2]\n",
        "4 / 2 : [3 4]\n",
        "-----\n",
        "ni : 16\n",
        "nl : 37\n"
       ]
      }
     ],
     "prompt_number": 30
    },
    {
     "cell_type": "code",
     "collapsed": false,
     "input": [
      "q3"
     ],
     "language": "python",
     "metadata": {},
     "outputs": [
      {
       "metadata": {},
       "output_type": "pyout",
       "prompt_number": 31,
       "text": [
        "Rays3D\n",
        "----------\n",
        "2 / 1 : [0]\n",
        "3 / 2 : [1 2]\n",
        "4 / 2 : [3 4]\n",
        "-----\n",
        "ni : 16\n",
        "nl : 37\n"
       ]
      }
     ],
     "prompt_number": 31
    },
    {
     "cell_type": "code",
     "collapsed": false,
     "input": [
      "Cr=r3.eval(fGHz)\n",
      "Cr.sort()\n",
      "scr=Cr.prop2tran(a='theta',b='theta')\n",
      "Cq=q3.eval(fGHz)\n",
      "Cq.sort()\n",
      "scq=Cq.prop2tran(a='theta',b='theta')"
     ],
     "language": "python",
     "metadata": {},
     "outputs": [],
     "prompt_number": 32
    },
    {
     "cell_type": "code",
     "collapsed": false,
     "input": [
      "scr"
     ],
     "language": "python",
     "metadata": {},
     "outputs": [
      {
       "metadata": {},
       "output_type": "pyout",
       "prompt_number": 33,
       "text": [
        "freq :2.0 10.9 90\n",
        "shape  :(5, 90)\n",
        "tau :30.0754329983 37.0296953364\n",
        "dist :9.0226298995 11.1089086009"
       ]
      }
     ],
     "prompt_number": 33
    },
    {
     "cell_type": "code",
     "collapsed": false,
     "input": [
      "scq"
     ],
     "language": "python",
     "metadata": {},
     "outputs": [
      {
       "metadata": {},
       "output_type": "pyout",
       "prompt_number": 34,
       "text": [
        "freq :2.0 10.9 90\n",
        "shape  :(5, 90)\n",
        "tau :30.0754329983 37.0296953364\n",
        "dist :9.0226298995 11.1089086009"
       ]
      }
     ],
     "prompt_number": 34
    },
    {
     "cell_type": "code",
     "collapsed": false,
     "input": [
      "scq.RSSI()"
     ],
     "language": "python",
     "metadata": {},
     "outputs": [
      {
       "metadata": {},
       "output_type": "pyout",
       "prompt_number": 35,
       "text": [
        "-214.48794517208708"
       ]
      }
     ],
     "prompt_number": 35
    },
    {
     "cell_type": "code",
     "collapsed": false,
     "input": [
      "scr.RSSI()"
     ],
     "language": "python",
     "metadata": {},
     "outputs": [
      {
       "metadata": {},
       "output_type": "pyout",
       "prompt_number": 36,
       "text": [
        "-201.66023304796383"
       ]
      }
     ],
     "prompt_number": 36
    },
    {
     "cell_type": "code",
     "collapsed": false,
     "input": [
      "print scr.doa\n",
      "print scq.dod"
     ],
     "language": "python",
     "metadata": {},
     "outputs": [
      {
       "output_type": "stream",
       "stream": "stdout",
       "text": [
        "[[ 1.62624094 -2.65738656]\n",
        " [ 1.84149225 -2.65738656]\n",
        " [ 1.20023375 -2.65738656]\n",
        " [ 1.02267995 -2.65738656]\n",
        " [ 2.1958194  -2.65738656]]\n",
        "[[ 1.62624094 -2.65738656]\n",
        " [ 1.84149225 -2.65738656]\n",
        " [ 1.20023375 -2.65738656]\n",
        " [ 1.02267995 -2.65738656]\n",
        " [ 2.1958194  -2.65738656]]\n"
       ]
      }
     ],
     "prompt_number": 37
    },
    {
     "cell_type": "code",
     "collapsed": false,
     "input": [
      "print scr.dod\n",
      "print scq.doa"
     ],
     "language": "python",
     "metadata": {},
     "outputs": [
      {
       "output_type": "stream",
       "stream": "stdout",
       "text": [
        "[[ 1.51535171 -0.47140627]\n",
        " [ 1.84149225 -0.47140627]\n",
        " [ 1.20023375 -0.47140627]\n",
        " [ 2.1189127  -0.47140627]\n",
        " [ 0.94577325 -0.47140627]]\n",
        "[[ 1.51535171 -0.47140627]\n",
        " [ 1.84149225 -0.47140627]\n",
        " [ 1.20023375 -0.47140627]\n",
        " [ 2.1189127  -0.47140627]\n",
        " [ 0.94577325 -0.47140627]]\n"
       ]
      }
     ],
     "prompt_number": 38
    },
    {
     "cell_type": "code",
     "collapsed": false,
     "input": [
      "-2.65738-0.47140627"
     ],
     "language": "python",
     "metadata": {},
     "outputs": [
      {
       "metadata": {},
       "output_type": "pyout",
       "prompt_number": 39,
       "text": [
        "-3.12878627"
       ]
      }
     ],
     "prompt_number": 39
    },
    {
     "cell_type": "code",
     "collapsed": false,
     "input": [
      "r3[2]\n"
     ],
     "language": "python",
     "metadata": {},
     "outputs": [
      {
       "metadata": {},
       "output_type": "pyout",
       "prompt_number": 53,
       "text": [
        "{'B': array([[[[ 0.99958853],\n",
        "          [ 0.99085166],\n",
        "          [ 0.99431503]],\n",
        " \n",
        "         [[-0.02868413],\n",
        "          [-0.13495552],\n",
        "          [-0.10647828]]],\n",
        " \n",
        " \n",
        "        [[[ 0.02868413],\n",
        "          [-0.13495552],\n",
        "          [ 0.10647828]],\n",
        " \n",
        "         [[ 0.99958853],\n",
        "          [-0.99085166],\n",
        "          [ 0.99431503]]]]), 'Bo0': array([[[ 0.88956147],\n",
        "         [ 0.049372  ],\n",
        "         [ 0.45413962]],\n",
        " \n",
        "        [[-0.45344176],\n",
        "         [-0.0251667 ],\n",
        "         [ 0.89093053]],\n",
        " \n",
        "        [[ 0.05541622],\n",
        "         [-0.99846334],\n",
        "         [ 0.        ]]]), 'aoa': array([[ 1.62624094],\n",
        "        [-2.65738656]]), 'aod': array([[ 1.51535171],\n",
        "        [-0.47140627]]), 'dis': array([ 9.0226299]), 'nbrays': 1, 'norm': array([[[-0.00639987],\n",
        "         [ 0.99997778]],\n",
        " \n",
        "        [[ 0.99997952],\n",
        "         [ 0.00666652]],\n",
        " \n",
        "        [[ 0.        ],\n",
        "         [ 0.        ]]]), 'nstrswall': array([9, 2]), 'nstrwall': array([9, 2]), 'pt': array([[[  7.59000000e+02],\n",
        "         [  7.63062691e+02],\n",
        "         [  7.63514435e+02],\n",
        "         [  7.67000000e+02]],\n",
        " \n",
        "        [[  1.11400000e+03],\n",
        "         [  1.11192910e+03],\n",
        "         [  1.11216670e+03],\n",
        "         [  1.11400000e+03]],\n",
        " \n",
        "        [[  1.00000000e+00],\n",
        "         [  1.25308984e+00],\n",
        "         [  1.28141889e+00],\n",
        "         [  1.50000000e+00]]]), 'rayidx': array([0]), 'rays': array([[0],\n",
        "        [1]]), 'scpr': array([[-0.45912556],\n",
        "        [ 0.88676368]]), 'si': array([[ 4.56707198],\n",
        "        [ 0.51120498],\n",
        "        [ 3.94435295]]), 'sig': array([[[0],\n",
        "         [9],\n",
        "         [2],\n",
        "         [0]],\n",
        " \n",
        "        [[0],\n",
        "         [1],\n",
        "         [2],\n",
        "         [0]]]), 'theta': array([[ 1.0937857 ],\n",
        "        [ 0.48050052]]), 'vsi': array([[[ 0.88956147],\n",
        "         [ 0.88368478],\n",
        "         [ 0.88368478]],\n",
        " \n",
        "        [[-0.45344176],\n",
        "         [ 0.46479054],\n",
        "         [ 0.46479054]],\n",
        " \n",
        "        [[ 0.05541622],\n",
        "         [ 0.05541622],\n",
        "         [ 0.05541622]]])}"
       ]
      }
     ],
     "prompt_number": 53
    },
    {
     "cell_type": "code",
     "collapsed": false,
     "input": [
      "print scr.tau0\n",
      "print scq.tau0"
     ],
     "language": "python",
     "metadata": {},
     "outputs": [
      {
       "output_type": "stream",
       "stream": "stdout",
       "text": [
        "[ 30.075433    31.1640552   32.21591227  35.18330575  37.02969534]\n",
        "[ 30.075433    31.1640552   32.21591227  35.18330575  37.02969534]\n"
       ]
      }
     ],
     "prompt_number": 40
    },
    {
     "cell_type": "code",
     "collapsed": false,
     "input": [
      "r = 1\n",
      "print Cr.Ctt.y[r,0],Cr.Ctp.y[r,0]\n",
      "print Cr.Cpt.y[r,0],Cr.Cpp.y[r,0]\n",
      "print \"---\"\n",
      "print Cq.Ctt.y[r,0],Cq.Ctp.y[r,0]\n",
      "print Cq.Cpt.y[r,0],Cq.Cpp.y[r,0]"
     ],
     "language": "python",
     "metadata": {},
     "outputs": [
      {
       "output_type": "stream",
       "stream": "stdout",
       "text": [
        "(0.000817805186098+0.000490962427123j) (0.000177146672464-0.000293892048238j)\n",
        "(0.00101281359052+0.000812161706468j) (-0.00074956662285-0.000177517586845j)\n",
        "---\n",
        "(0.000601895414567-1.06109476407e-05j) (-0.000214054414722+0.000221967290327j)\n",
        "(-0.000886458220214-0.000686862202976j) (-0.000987448491684-0.000697154906243j)\n"
       ]
      }
     ],
     "prompt_number": 41
    },
    {
     "cell_type": "markdown",
     "metadata": {},
     "source": [
      "Quand on parcours les bases locales \u00e0 l'envers on n'observe pas de transposition !"
     ]
    },
    {
     "cell_type": "code",
     "collapsed": false,
     "input": [
      "print r3[4]['B'][:,:,1,0]\n",
      "print q3[4]['B'][:,:,-2,0]"
     ],
     "language": "python",
     "metadata": {},
     "outputs": [
      {
       "output_type": "stream",
       "stream": "stdout",
       "text": [
        "[[ 0.28997035 -0.95703563]\n",
        " [-0.95703563 -0.28997035]]\n",
        "[[ 0.28997035 -0.95703563]\n",
        " [-0.95703563 -0.28997035]]\n"
       ]
      }
     ],
     "prompt_number": 42
    },
    {
     "cell_type": "code",
     "collapsed": false,
     "input": [
      "print r3[4]['sig'][:,:,0]\n",
      "print q3[4]['sig'][:,::-1,0]"
     ],
     "language": "python",
     "metadata": {},
     "outputs": [
      {
       "output_type": "stream",
       "stream": "stdout",
       "text": [
        "[[0 0 9 2 0 0]\n",
        " [0 4 1 2 5 0]]\n",
        "[[0 0 9 2 0 0]\n",
        " [0 4 1 2 5 0]]\n"
       ]
      }
     ],
     "prompt_number": 43
    },
    {
     "cell_type": "code",
     "collapsed": false,
     "input": [
      "print r3[4]['sig'][:,:,0]\n",
      "print q3[4]['sig'][:,::,0]"
     ],
     "language": "python",
     "metadata": {},
     "outputs": [
      {
       "output_type": "stream",
       "stream": "stdout",
       "text": [
        "[[0 0 9 2 0 0]\n",
        " [0 4 1 2 5 0]]\n",
        "[[0 0 2 9 0 0]\n",
        " [0 5 2 1 4 0]]\n"
       ]
      }
     ],
     "prompt_number": 44
    },
    {
     "cell_type": "code",
     "collapsed": false,
     "input": [
      "print r3.ray2nbi\n",
      "print q3.ray2nbi"
     ],
     "language": "python",
     "metadata": {},
     "outputs": [
      {
       "output_type": "stream",
       "stream": "stdout",
       "text": [
        "[ 2.  3.  3.  4.  4.]\n",
        "[ 2.  3.  3.  4.  4.]\n"
       ]
      }
     ],
     "prompt_number": 45
    },
    {
     "cell_type": "code",
     "collapsed": false,
     "input": [
      "print r3.I.I[0,0]\n",
      "print q3.I.I[0,0]"
     ],
     "language": "python",
     "metadata": {},
     "outputs": [
      {
       "output_type": "stream",
       "stream": "stdout",
       "text": [
        "[[-0.64527526+0.10793555j  0.00000000+0.j        ]\n",
        " [ 0.00000000+0.j          0.04168686-0.12035459j]]\n",
        "[[ 0.11860977+0.03985772j  0.00000000+0.j        ]\n",
        " [ 0.00000000+0.j          0.12910212+0.03839063j]]\n"
       ]
      }
     ],
     "prompt_number": 46
    },
    {
     "cell_type": "code",
     "collapsed": false,
     "input": [
      "print r3.I.R.A[0,0,:,:]\n",
      "print q3.I.R.A[0,0,:,:]\n"
     ],
     "language": "python",
     "metadata": {},
     "outputs": [
      {
       "output_type": "stream",
       "stream": "stdout",
       "text": [
        "[[-0.64527526+0.10793555j  0.00000000+0.j        ]\n",
        " [ 0.00000000+0.j          0.04168686-0.12035459j]]\n",
        "[[-0.64527526+0.10793555j  0.00000000+0.j        ]\n",
        " [ 0.00000000+0.j          0.04168686-0.12035459j]]\n"
       ]
      }
     ],
     "prompt_number": 47
    },
    {
     "cell_type": "code",
     "collapsed": false,
     "input": [
      "print r3.I.T.A[0,0,:,:]\n",
      "print q3.I.T.A[0,0,:,:]"
     ],
     "language": "python",
     "metadata": {},
     "outputs": [
      {
       "output_type": "stream",
       "stream": "stdout",
       "text": [
        "[[ 0.11860977+0.03985772j  0.00000000+0.j        ]\n",
        " [ 0.00000000+0.j          0.12910212+0.03839063j]]\n",
        "[[ 0.11860977+0.03985772j  0.00000000+0.j        ]\n",
        " [ 0.00000000+0.j          0.12910212+0.03839063j]]\n"
       ]
      }
     ],
     "prompt_number": 48
    },
    {
     "cell_type": "code",
     "collapsed": false,
     "input": [
      "print r3.I.I[0,1]\n",
      "print q3.I.I[0,-2]"
     ],
     "language": "python",
     "metadata": {},
     "outputs": [
      {
       "output_type": "stream",
       "stream": "stdout",
       "text": [
        "[[ 0.11860977+0.03985772j  0.00000000+0.j        ]\n",
        " [ 0.00000000+0.j          0.12910212+0.03839063j]]\n",
        "[[-0.68898310+0.09905839j  0.00000000+0.j        ]\n",
        " [ 0.00000000+0.j         -0.03467441-0.11722798j]]\n"
       ]
      }
     ],
     "prompt_number": 49
    },
    {
     "cell_type": "code",
     "collapsed": false,
     "input": [
      "i = 2\n",
      "r = 0\n",
      "a3=r3.extract(i,r)"
     ],
     "language": "python",
     "metadata": {},
     "outputs": [],
     "prompt_number": 104
    },
    {
     "cell_type": "code",
     "collapsed": false,
     "input": [
      "a3.to3D(S.L)\n",
      "b3 = a3.reciprocal()\n",
      "b3.locbas(S.L)\n"
     ],
     "language": "python",
     "metadata": {},
     "outputs": [],
     "prompt_number": 105
    },
    {
     "cell_type": "code",
     "collapsed": false,
     "input": [
      "np.shape(a3[i]['B'])"
     ],
     "language": "python",
     "metadata": {},
     "outputs": [
      {
       "metadata": {},
       "output_type": "pyout",
       "prompt_number": 106,
       "text": [
        "(2, 2, 3, 1)"
       ]
      }
     ],
     "prompt_number": 106
    },
    {
     "cell_type": "code",
     "collapsed": false,
     "input": [
      "a3.info(0)"
     ],
     "language": "python",
     "metadata": {},
     "outputs": [
      {
       "output_type": "stream",
       "stream": "stdout",
       "text": [
        "Rays have not been evaluated yet\n"
       ]
      }
     ],
     "prompt_number": 117
    },
    {
     "cell_type": "code",
     "collapsed": false,
     "input": [
      "a3r = a3[i]['B'].reshape(2,6,order='F')\n",
      "plt.imshow(a3r,interpolation='nearest',cmap='PuOr')\n",
      "colorbar()"
     ],
     "language": "python",
     "metadata": {},
     "outputs": [
      {
       "metadata": {},
       "output_type": "pyout",
       "prompt_number": 108,
       "text": [
        "<matplotlib.colorbar.Colorbar instance at 0xf12ee8c>"
       ]
      },
      {
       "metadata": {},
       "output_type": "display_data",
       "png": "[encoded data removed]",
       "text": [
        "<matplotlib.figure.Figure at 0xef69dec>"
       ]
      }
     ],
     "prompt_number": 108
    },
    {
     "cell_type": "code",
     "collapsed": false,
     "input": [
      "b3[i]['B']"
     ],
     "language": "python",
     "metadata": {},
     "outputs": [
      {
       "metadata": {},
       "output_type": "pyout",
       "prompt_number": 115,
       "text": [
        "array([[[[ 0.99431503],\n",
        "         [ 0.99085166],\n",
        "         [ 0.99958853]],\n",
        "\n",
        "        [[ 0.10647828],\n",
        "         [-0.13495552],\n",
        "         [ 0.02868413]]],\n",
        "\n",
        "\n",
        "       [[[-0.10647828],\n",
        "         [-0.13495552],\n",
        "         [-0.02868413]],\n",
        "\n",
        "        [[ 0.99431503],\n",
        "         [-0.99085166],\n",
        "         [ 0.99958853]]]])"
       ]
      }
     ],
     "prompt_number": 115
    },
    {
     "cell_type": "code",
     "collapsed": false,
     "input": [
      "r3"
     ],
     "language": "python",
     "metadata": {},
     "outputs": [
      {
       "metadata": {},
       "output_type": "pyout",
       "prompt_number": 127,
       "text": [
        "Rays3D\n",
        "----------\n",
        "2 / 1 : [0]\n",
        "3 / 2 : [1 2]\n",
        "4 / 2 : [3 4]\n",
        "-----\n",
        "ni : 16\n",
        "nl : 37\n"
       ]
      }
     ],
     "prompt_number": 127
    },
    {
     "cell_type": "code",
     "collapsed": false,
     "input": [
      "b3r = b3[i]['B'].reshape(2,6,order='F')\n",
      "plt.imshow(b3r,interpolation='nearest',cmap='PuOr')\n",
      "colorbar()"
     ],
     "language": "python",
     "metadata": {},
     "outputs": [
      {
       "metadata": {},
       "output_type": "pyout",
       "prompt_number": 119,
       "text": [
        "<matplotlib.colorbar.Colorbar instance at 0x100ff8ec>"
       ]
      },
      {
       "metadata": {},
       "output_type": "display_data",
       "png": "[encoded data removed]",
       "text": [
        "<matplotlib.figure.Figure at 0x100658ac>"
       ]
      }
     ],
     "prompt_number": 119
    },
    {
     "cell_type": "code",
     "collapsed": false,
     "input": [
      "import pylayers.util.geomutil as geu\n",
      "pyu.getlong(S.L.filename,\"geom\")"
     ],
     "language": "python",
     "metadata": {},
     "outputs": [
      {
       "metadata": {},
       "output_type": "pyout",
       "prompt_number": 125,
       "text": [
        "'/private/staff/t/ot/niamiot/Bureau/P1/geom/defstr.ini'"
       ]
      }
     ],
     "prompt_number": 125
    },
    {
     "cell_type": "code",
     "collapsed": false,
     "input": [
      "print np.shape(r3[3]['Bo'])\n",
      "\n"
     ],
     "language": "python",
     "metadata": {},
     "outputs": [
      {
       "ename": "NameError",
       "evalue": "name 'r3' is not defined",
       "output_type": "pyerr",
       "traceback": [
        "\u001b[1;31m---------------------------------------------------------------------------\u001b[0m\n\u001b[1;31mNameError\u001b[0m                                 Traceback (most recent call last)",
        "\u001b[1;32m<ipython-input-5-2b0e647bb8da>\u001b[0m in \u001b[0;36m<module>\u001b[1;34m()\u001b[0m\n\u001b[1;32m----> 1\u001b[1;33m \u001b[1;32mprint\u001b[0m \u001b[0mnp\u001b[0m\u001b[1;33m.\u001b[0m\u001b[0mshape\u001b[0m\u001b[1;33m(\u001b[0m\u001b[0mr3\u001b[0m\u001b[1;33m[\u001b[0m\u001b[1;36m3\u001b[0m\u001b[1;33m]\u001b[0m\u001b[1;33m[\u001b[0m\u001b[1;34m'Bo'\u001b[0m\u001b[1;33m]\u001b[0m\u001b[1;33m)\u001b[0m\u001b[1;33m\u001b[0m\u001b[0m\n\u001b[0m\u001b[0;32m      2\u001b[0m \u001b[1;33m\u001b[0m\u001b[0m\n",
        "\u001b[1;31mNameError\u001b[0m: name 'r3' is not defined"
       ]
      }
     ],
     "prompt_number": 5
    },
    {
     "cell_type": "code",
     "collapsed": false,
     "input": [
      "def showBases(L=[],r3):\n",
      "    \n",
      "    \n",
      "    \n",
      "    baselist = geu.Geomlist(bases,clear=True)\n",
      "    baselist.append(\"LIST\\n\")\n",
      "    if L!=[]:\n",
      "        filestruc = pyu.getlong(L.filename,\"geom\")\n",
      "        baselist.append('{<'+filestruc+'}\\n')\n"
     ],
     "language": "python",
     "metadata": {},
     "outputs": []
    }
   ],
   "metadata": {}
  }
 ]
}