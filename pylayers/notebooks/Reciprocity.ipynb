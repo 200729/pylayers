{
 "metadata": {
  "name": ""
 },
 "nbformat": 3,
 "nbformat_minor": 0,
 "worksheets": [
  {
   "cells": [
    {
     "cell_type": "code",
     "collapsed": false,
     "input": [
      "from pylayers.antprop.rays import *\n",
      "from pylayers.gis.layout import *\n",
      "from pylayers.antprop.signature import *\n",
      "import pylayers.signal.bsignal as bs\n",
      "import pylayers.signal.waveform as wvf \n",
      "from pylayers.simul.simulem import *\n",
      "import matplotlib.pyplot as plt \n",
      "import time"
     ],
     "language": "python",
     "metadata": {},
     "outputs": []
    },
    {
     "cell_type": "code",
     "collapsed": false,
     "input": [
      "print \"=======================\"\n",
      "print \" start test_rays.py (Ray Tracing numpy) \"\n",
      "print \"=======================\"\n",
      "S = Simul()\n",
      "filestr = 'defstr3'\n",
      "S.layout(filestr+'.ini','matDB.ini','slabDB.ini')\n",
      "S.L.Gs.node[1]['ss_name']=['WOOD','AIR','METAL']\n",
      "S.L.build()\n",
      "# first case\n",
      "tx=array([759,1114,1.0])\n",
      "rx=array([767,1114,1.5])\n",
      "S.tx.clear()\n",
      "S.rx.clear()\n",
      "S.tx.point(tx)\n",
      "S.rx.point(rx)\n",
      "Ctx = S.L.pt2cy(S.tx.position[:,0])\n",
      "Crx = S.L.pt2cy(S.rx.position[:,0])\n"
     ],
     "language": "python",
     "metadata": {},
     "outputs": []
    },
    {
     "cell_type": "code",
     "collapsed": false,
     "input": [
      "Si = Signatures(S.L,Ctx,Crx)\n",
      "\n",
      "Si.run4(cutoff=5,algo='old')\n",
      "r2d = Si.rays(tx,rx)\n",
      "r3d = r2d.to3D(S.L)\n",
      "r3d.locbas(S.L)\n",
      "r3d.fillinter(S.L)\n",
      "\n"
     ],
     "language": "python",
     "metadata": {},
     "outputs": []
    },
    {
     "cell_type": "code",
     "collapsed": false,
     "input": [
      "fGHz=np.arange(2,11,0.1)\n",
      "wav = wvf.Waveform(fcGHz=5,bandGHz=3)\n",
      "C=r3d.eval(fGHz)\n",
      "sc=C.prop2tran(a='theta',b='theta')\n",
      "cir = sc.applywavB(wav.sfg)"
     ],
     "language": "python",
     "metadata": {},
     "outputs": []
    },
    {
     "cell_type": "code",
     "collapsed": false,
     "input": [
      "cir.plot()"
     ],
     "language": "python",
     "metadata": {},
     "outputs": []
    },
    {
     "cell_type": "code",
     "collapsed": false,
     "input": [
      "r2 = r2d.extract(2,1)\n",
      "q2 = r2.reciprocal()"
     ],
     "language": "python",
     "metadata": {},
     "outputs": []
    },
    {
     "cell_type": "code",
     "collapsed": false,
     "input": [
      "r2.show(S.L)"
     ],
     "language": "python",
     "metadata": {},
     "outputs": []
    },
    {
     "cell_type": "code",
     "collapsed": false,
     "input": [
      "q2.show(S.L)"
     ],
     "language": "python",
     "metadata": {},
     "outputs": []
    },
    {
     "cell_type": "code",
     "collapsed": false,
     "input": [
      "r3 = r2.to3D(S.L)\n",
      "r3.locbas(S.L)\n",
      "r3.fillinter(S.L)\n",
      "q3 = q2.to3D(S.L)\n",
      "q3.locbas(S.L)\n",
      "q3.fillinter(S.L)"
     ],
     "language": "python",
     "metadata": {},
     "outputs": []
    },
    {
     "cell_type": "code",
     "collapsed": false,
     "input": [
      "r3"
     ],
     "language": "python",
     "metadata": {},
     "outputs": []
    },
    {
     "cell_type": "code",
     "collapsed": false,
     "input": [
      "q3"
     ],
     "language": "python",
     "metadata": {},
     "outputs": []
    },
    {
     "cell_type": "code",
     "collapsed": false,
     "input": [
      "Cr=r3.eval(fGHz)\n",
      "Cr.sort()\n",
      "scr=Cr.prop2tran(a='theta',b='theta')\n",
      "Cq=q3.eval(fGHz)\n",
      "Cq.sort()\n",
      "scq=Cq.prop2tran(a='theta',b='theta')"
     ],
     "language": "python",
     "metadata": {},
     "outputs": []
    },
    {
     "cell_type": "code",
     "collapsed": false,
     "input": [
      "scr"
     ],
     "language": "python",
     "metadata": {},
     "outputs": []
    },
    {
     "cell_type": "code",
     "collapsed": false,
     "input": [
      "scq"
     ],
     "language": "python",
     "metadata": {},
     "outputs": []
    },
    {
     "cell_type": "code",
     "collapsed": false,
     "input": [
      "scq.RSSI()"
     ],
     "language": "python",
     "metadata": {},
     "outputs": []
    },
    {
     "cell_type": "code",
     "collapsed": false,
     "input": [
      "scr.RSSI()"
     ],
     "language": "python",
     "metadata": {},
     "outputs": []
    },
    {
     "cell_type": "code",
     "collapsed": false,
     "input": [
      "print scr.doa\n",
      "print scq.dod"
     ],
     "language": "python",
     "metadata": {},
     "outputs": []
    },
    {
     "cell_type": "code",
     "collapsed": false,
     "input": [
      "print scr.dod\n",
      "print scq.doa"
     ],
     "language": "python",
     "metadata": {},
     "outputs": []
    },
    {
     "cell_type": "code",
     "collapsed": false,
     "input": [
      "-2.65738-0.47140627"
     ],
     "language": "python",
     "metadata": {},
     "outputs": []
    },
    {
     "cell_type": "code",
     "collapsed": false,
     "input": [
      "print scr.tau0\n",
      "print scq.tau0"
     ],
     "language": "python",
     "metadata": {},
     "outputs": []
    },
    {
     "cell_type": "code",
     "collapsed": false,
     "input": [
      "r = 0\n",
      "print Cr.Ctt.y[r,0],Cr.Ctp.y[r,0]\n",
      "print Cr.Cpt.y[r,0],Cr.Cpp.y[r,0]\n",
      "print \"---\"\n",
      "print Cq.Ctt.y[r,0],Cq.Ctp.y[r,0]\n",
      "print Cq.Cpt.y[r,0],Cq.Cpp.y[r,0]"
     ],
     "language": "python",
     "metadata": {},
     "outputs": []
    },
    {
     "cell_type": "markdown",
     "metadata": {},
     "source": [
      "Quand on parcours les bases locales \u00e0 l'envers on n'observe pas de transposition !"
     ]
    },
    {
     "cell_type": "code",
     "collapsed": false,
     "input": [
      "print r3[4]['B'][:,:,1,0]\n",
      "print q3[4]['B'][:,:,-2,0]"
     ],
     "language": "python",
     "metadata": {},
     "outputs": []
    },
    {
     "cell_type": "code",
     "collapsed": false,
     "input": [
      "print r3[4]['sig'][:,:,0]\n",
      "print q3[4]['sig'][:,::-1,0]"
     ],
     "language": "python",
     "metadata": {},
     "outputs": []
    },
    {
     "cell_type": "code",
     "collapsed": false,
     "input": [
      "print r3.I.R.A[0,0,:,:]\n",
      "print q3.I.R.A[0,0,:,:]\n"
     ],
     "language": "python",
     "metadata": {},
     "outputs": []
    },
    {
     "cell_type": "code",
     "collapsed": false,
     "input": [
      "print r3.I.T.A[0,0,:,:]\n",
      "print q3.I.T.A[0,0,:,:]"
     ],
     "language": "python",
     "metadata": {},
     "outputs": []
    }
   ],
   "metadata": {}
  }
 ]
}