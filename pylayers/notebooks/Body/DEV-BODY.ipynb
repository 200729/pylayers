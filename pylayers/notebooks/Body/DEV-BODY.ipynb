{
 "metadata": {
  "name": "",
  "signature": "sha256:916bf0d295bff9b652e740c6c70da7579ebb82e9a6dceb93e85010209285f3db"
 },
 "nbformat": 3,
 "nbformat_minor": 0,
 "worksheets": [
  {
   "cells": [
    {
     "cell_type": "markdown",
     "metadata": {},
     "source": [
      "# Handling Body Mobility in PyLayers"
     ]
    },
    {
     "cell_type": "code",
     "collapsed": false,
     "input": [
      "from pylayers.mobility.body.body import *\n",
      "from pylayers.mobility.trajectory import Trajectory\n",
      "from IPython.display import Image"
     ],
     "language": "python",
     "metadata": {},
     "outputs": [
      {
       "metadata": {},
       "output_type": "display_data",
       "text": [
        "<matplotlib.figure.Figure at 0x49c98d0>"
       ]
      }
     ],
     "prompt_number": 1
    },
    {
     "cell_type": "markdown",
     "metadata": {},
     "source": [
      "The body mobility is imported from motion capture files. This is the chosen manner to achieve a high degree of realism for the modeling of the human motion. Two kind of files exist : \n",
      "\n",
      "+ `c3d` files are a set of point which are evolving in time\n",
      "+ `bvh` files are a stuctured version of the motion capture.\n",
      "\n",
      "Both type of file will be exploited in the following. "
     ]
    },
    {
     "cell_type": "markdown",
     "metadata": {},
     "source": [
      "## `BodyCylinder` data structure"
     ]
    },
    {
     "cell_type": "markdown",
     "metadata": {},
     "source": [
      "To ease electromagnetic simulation a simplification of the motion capture data structure is necessary. Generally there is a large number of captutred points, not all of them being useful for our modeling. \n",
      "\n",
      "The body model is a restriction of key body segments which are transformed into $K$ cylinders of radius $r_k$. \n",
      "\n",
      "The chosen body model is made of 11 cylinders. 4 cylinders decribing the two arms, 4 cylinders decribing the two legs,  2 cylinders describing the trunk and 1 cylinder for the head. \n",
      "\n",
      "The body cylinder model is handle by a dedicated Python class call `Body`"
     ]
    },
    {
     "cell_type": "markdown",
     "metadata": {},
     "source": [
      "To create a void body, simply instantiate a Body object from the class"
     ]
    },
    {
     "cell_type": "code",
     "collapsed": false,
     "input": [
      "bc = Body()"
     ],
     "language": "python",
     "metadata": {},
     "outputs": [],
     "prompt_number": 48
    },
    {
     "cell_type": "markdown",
     "metadata": {},
     "source": [
      "which is equivalent to :"
     ]
    },
    {
     "cell_type": "code",
     "collapsed": false,
     "input": [
      "bc = Body(_filebody='John.ini',_filemocap='07_01.c3d')"
     ],
     "language": "python",
     "metadata": {},
     "outputs": [],
     "prompt_number": 49
    },
    {
     "cell_type": "markdown",
     "metadata": {},
     "source": [
      "The default body filename is John.ini and the default motion capture filename is '07_01.c3d'. The creation of a Body consists in reading a `_filebody` and a `_filemocap`"
     ]
    },
    {
     "cell_type": "markdown",
     "metadata": {},
     "source": [
      "## Description of a body file\n",
      "\n",
      "An example of a body file is given below. It is a file in `ini` format with 4 sections. \n",
      "\n",
      "+ [nodes] \n",
      " \n",
      "   This section associates a node number to a c3d fils conventional  node number \n",
      "   \n",
      "    NodeId = C3DNODE\n",
      "    \n",
      "+ [cylinder]\n",
      "\n",
      "   This section associates a cylinder Id to a dictionnary wich contains cylinder tail head and radius information \n",
      "   \n",
      "      CylId = {'t',NodeId1,'h',NodeId2,'r',float (m),'name',}\n",
      "      \n",
      "+ [device]\n",
      "\n",
      "   This section associates a device name to a dictionnary wich contains cylinder device related information\n",
      "   \n",
      "       DevId = {'typ' : {static|mobile} \n",
      "                 'cyl': CylId \n",
      "                 'l'  : length coordinate in ccs,\n",
      "                 'h'  : height coordinate in ccs, \n",
      "                 'a'  : angle coordinate in ccs, \n",
      "                 'file' : antenna file , \n",
      "                 'T' : Rotation matrix }\n",
      "   "
     ]
    },
    {
     "cell_type": "code",
     "collapsed": false,
     "input": [
      "#%load /home/uguen/Bureau/P1/ini/John.ini"
     ],
     "language": "python",
     "metadata": {},
     "outputs": [],
     "prompt_number": 4
    },
    {
     "cell_type": "raw",
     "metadata": {},
     "source": [
      "[nodes]\n",
      "0 = STRN\n",
      "1 = CLAV\n",
      "2 = RFHD \n",
      "3 =RSHO \n",
      "4 =LSHO\n",
      "5 =RELB \n",
      "6 =LELB \n",
      "7 =RWRB \n",
      "8 =LWRB\n",
      "9 =RFWT\n",
      "10 =LFWT \n",
      "11 =RKNE\n",
      "12 =LKNE \n",
      "13 =RANK \n",
      "14 =LANK \n",
      "15 =BOTT \n",
      "[cylinder]\n",
      "; sternum (STRN) - clavicule (CLAV)\n",
      "trunku = {'t':0,'h':1,'r':0.18}\n",
      "; bottom  (BOTT) sternum (STRN)  \n",
      "trunkb = {'t':15,'h':0,'r':0.17}\n",
      "; clavicule (CLAV)  - tete (RFHD)\n",
      "head = {'t':1,'h':2,'r':0.12}\n",
      "; coude droit (RELB)  epaule droite (RSHO)\n",
      "armr = {t':5,'h':3,'r':0.05}\n",
      "; coude gauche (LELB)  epaule gauche (LSHO)\n",
      "arml  = {t':6,'h':4,'r':0.05}\n",
      "; poignet droit (RWRB) coude droit (RELB)  \n",
      "forearmr = {'t':7,'h':5,'r':0.05}\n",
      "; left wrist (LWRB)  left elbow (LELB)  \n",
      "forearml = {'t':8,'h':6,'r':0.05}\n",
      "; knee droit (RKNE) hanche droit (RFWT)  \n",
      "thighr = {'t':11,'h':9,'r':0.05}\n",
      "; knee left (LKNE)  hanche left (LFWT)  \n",
      "thighl = {'t':12,'h':10,'r':0.05}\n",
      "; cheville droit (RANK) genou  droit (RKNE)  \n",
      "calfr = {'t':13,'h':11,'r':0.05}\n",
      "; cheville droit (LANK) genou  droit (LKNE)  \n",
      "calfl = {'t':14,'h':12,'r':0.05}\n",
      "[device]\n",
      "0 = {'typ':'static','cyl':'trunku','l':0.0,'h':0.00,'a':0,'file':'defant.vsh3','T':np.array([[0,0,1],[1,0,0],[0,1,0]])}\n",
      "1 = {'typ':'static','cyl':'trunku','l':0.0,'h':0.00,'a':180,'file':'defant.vsh3','T':np.array([[1,0,0],[0,1,0],[0,0,1]])}\n",
      "[mocap]\n",
      "walk = '07_01_c3d' \n"
     ]
    },
    {
     "cell_type": "code",
     "collapsed": false,
     "input": [
      "bc"
     ],
     "language": "python",
     "metadata": {},
     "outputs": [
      {
       "metadata": {},
       "output_type": "pyout",
       "prompt_number": 50,
       "text": [
        "My name is : John\n",
        "\n",
        "I have a Galaxy Gear device on the left formarm\n",
        "I have a cardio device on the upper part of trunk\n",
        "I am nowhere yet\n",
        "\n",
        "filename : 07_01.c3d\n",
        "nframes : 300\n",
        "Centered : True\n",
        "Mocap Speed : 1.36558346484"
       ]
      }
     ],
     "prompt_number": 50
    },
    {
     "cell_type": "markdown",
     "metadata": {},
     "source": [
      "## Loading a Motion Capture File"
     ]
    },
    {
     "cell_type": "markdown",
     "metadata": {},
     "source": [
      "A `.c3d` motion capture file is loaded with the method `loadC3D` with as arguments the motion capture file and the number of frames to load.  \n",
      "\n",
      "The motion is represented as a sequence of framef stored in the `d` variable member."
     ]
    },
    {
     "cell_type": "markdown",
     "metadata": {},
     "source": [
      "It is possible to get the information from the C3D header by using the verbose option of the `read_c3d` function"
     ]
    },
    {
     "cell_type": "code",
     "collapsed": false,
     "input": [
      "# Video Frame Rate \n",
      "Vrate = 120\n",
      "# Inter Frame\n",
      "Tframe = 1./120\n",
      "# select a number of frame \n",
      "nframes = 300\n",
      "# Time duration of the whole selected frame sequence\n",
      "Tfseq = Tframe*nframes\n",
      "#\n",
      "# load a .c3dmotion capture file\n",
      "# this update the g.pos \n",
      "#\n",
      "#bc.loadC3D(filename='07_01.c3d',nframes=nframes,centered=True)"
     ],
     "language": "python",
     "metadata": {},
     "outputs": [],
     "prompt_number": 6
    },
    {
     "cell_type": "markdown",
     "metadata": {},
     "source": [
      "The duration of the capture is "
     ]
    },
    {
     "cell_type": "code",
     "collapsed": false,
     "input": [
      "print \"Duration of the motion capture sequence\", Tfseq,\" seconds\""
     ],
     "language": "python",
     "metadata": {},
     "outputs": [
      {
       "output_type": "stream",
       "stream": "stdout",
       "text": [
        "Duration of the motion capture sequence 2.5  seconds\n"
       ]
      }
     ],
     "prompt_number": 51
    },
    {
     "cell_type": "markdown",
     "metadata": {},
     "source": [
      "`d` is a MDA of shape `(3,npoint,nframe)`. It contains all the possible configurations of the body. In general it is supposed to be a cyclic motion as an integer number of walking steps. This allows to instantiate the body configuration anywhere else in space in a given trajectory. \n",
      "\n",
      "A specific space-time configuration of the body is called a **`topos`**."
     ]
    },
    {
     "cell_type": "code",
     "collapsed": false,
     "input": [
      "np.shape(bc.d)"
     ],
     "language": "python",
     "metadata": {},
     "outputs": [
      {
       "metadata": {},
       "output_type": "pyout",
       "prompt_number": 52,
       "text": [
        "(3, 16, 300)"
       ]
      }
     ],
     "prompt_number": 52
    },
    {
     "cell_type": "markdown",
     "metadata": {},
     "source": [
      "## Defining a trajectory\n",
      "\n",
      "A Trajectory is a class which : \n",
      "\n",
      "+ derives from a pandas `DataFrame` \n",
      "+ is container for time,position,velocity and acceleration. \n",
      "\n",
      "To define a default trajectory : "
     ]
    },
    {
     "cell_type": "code",
     "collapsed": false,
     "input": [
      "traj = Trajectory()\n",
      "traj.generate()"
     ],
     "language": "python",
     "metadata": {},
     "outputs": [],
     "prompt_number": 53
    },
    {
     "cell_type": "code",
     "collapsed": false,
     "input": [
      "traj.head()"
     ],
     "language": "python",
     "metadata": {},
     "outputs": [
      {
       "html": [
        "<div style=\"max-height:1000px;max-width:1500px;overflow:auto;\">\n",
        "<table border=\"1\" class=\"dataframe\">\n",
        "  <thead>\n",
        "    <tr style=\"text-align: right;\">\n",
        "      <th></th>\n",
        "      <th>x</th>\n",
        "      <th>y</th>\n",
        "      <th>z</th>\n",
        "      <th>vx</th>\n",
        "      <th>vy</th>\n",
        "      <th>vz</th>\n",
        "      <th>ax</th>\n",
        "      <th>ay</th>\n",
        "      <th>az</th>\n",
        "      <th>s</th>\n",
        "    </tr>\n",
        "  </thead>\n",
        "  <tbody>\n",
        "    <tr>\n",
        "      <th>1970-01-01 00:00:00</th>\n",
        "      <td> 0.000000</td>\n",
        "      <td> 0.000000</td>\n",
        "      <td> 1.291380</td>\n",
        "      <td> 0.061186</td>\n",
        "      <td> 0.204082</td>\n",
        "      <td>-0.618186</td>\n",
        "      <td>-0.000229</td>\n",
        "      <td> 0</td>\n",
        "      <td>-0.029266</td>\n",
        "      <td> 0.000000</td>\n",
        "    </tr>\n",
        "    <tr>\n",
        "      <th>1970-01-01 00:00:00.204082</th>\n",
        "      <td> 0.061186</td>\n",
        "      <td> 0.204082</td>\n",
        "      <td> 0.673195</td>\n",
        "      <td> 0.060957</td>\n",
        "      <td> 0.204082</td>\n",
        "      <td>-0.647452</td>\n",
        "      <td>-0.000458</td>\n",
        "      <td> 0</td>\n",
        "      <td> 0.816612</td>\n",
        "      <td> 0.653871</td>\n",
        "    </tr>\n",
        "    <tr>\n",
        "      <th>1970-01-01 00:00:00.408163</th>\n",
        "      <td> 0.122143</td>\n",
        "      <td> 0.408163</td>\n",
        "      <td> 0.025743</td>\n",
        "      <td> 0.060499</td>\n",
        "      <td> 0.204082</td>\n",
        "      <td> 0.169160</td>\n",
        "      <td>-0.000684</td>\n",
        "      <td> 0</td>\n",
        "      <td>-0.296871</td>\n",
        "      <td> 1.335456</td>\n",
        "    </tr>\n",
        "    <tr>\n",
        "      <th>1970-01-01 00:00:00.612245</th>\n",
        "      <td> 0.182642</td>\n",
        "      <td> 0.612245</td>\n",
        "      <td> 0.194902</td>\n",
        "      <td> 0.059815</td>\n",
        "      <td> 0.204082</td>\n",
        "      <td>-0.127712</td>\n",
        "      <td>-0.000909</td>\n",
        "      <td> 0</td>\n",
        "      <td>-0.545908</td>\n",
        "      <td> 1.607347</td>\n",
        "    </tr>\n",
        "    <tr>\n",
        "      <th>1970-01-01 00:00:00.816327</th>\n",
        "      <td> 0.242457</td>\n",
        "      <td> 0.816327</td>\n",
        "      <td> 0.067191</td>\n",
        "      <td> 0.058906</td>\n",
        "      <td> 0.204082</td>\n",
        "      <td>-0.673620</td>\n",
        "      <td>-0.001129</td>\n",
        "      <td> 0</td>\n",
        "      <td> 1.706767</td>\n",
        "      <td> 1.855414</td>\n",
        "    </tr>\n",
        "  </tbody>\n",
        "</table>\n",
        "<p>5 rows \u00d7 10 columns</p>\n",
        "</div>"
       ],
       "metadata": {},
       "output_type": "pyout",
       "prompt_number": 54,
       "text": [
        "                                   x         y         z        vx        vy  \\\n",
        "1970-01-01 00:00:00         0.000000  0.000000  1.291380  0.061186  0.204082   \n",
        "1970-01-01 00:00:00.204082  0.061186  0.204082  0.673195  0.060957  0.204082   \n",
        "1970-01-01 00:00:00.408163  0.122143  0.408163  0.025743  0.060499  0.204082   \n",
        "1970-01-01 00:00:00.612245  0.182642  0.612245  0.194902  0.059815  0.204082   \n",
        "1970-01-01 00:00:00.816327  0.242457  0.816327  0.067191  0.058906  0.204082   \n",
        "\n",
        "                                  vz        ax  ay        az         s  \n",
        "1970-01-01 00:00:00        -0.618186 -0.000229   0 -0.029266  0.000000  \n",
        "1970-01-01 00:00:00.204082 -0.647452 -0.000458   0  0.816612  0.653871  \n",
        "1970-01-01 00:00:00.408163  0.169160 -0.000684   0 -0.296871  1.335456  \n",
        "1970-01-01 00:00:00.612245 -0.127712 -0.000909   0 -0.545908  1.607347  \n",
        "1970-01-01 00:00:00.816327 -0.673620 -0.001129   0  1.706767  1.855414  \n",
        "\n",
        "[5 rows x 10 columns]"
       ]
      }
     ],
     "prompt_number": 54
    },
    {
     "cell_type": "code",
     "collapsed": false,
     "input": [
      "f,a = traj.plot()"
     ],
     "language": "python",
     "metadata": {},
     "outputs": [
      {
       "metadata": {},
       "output_type": "display_data",
       "png": "[encoded data removed]",
       "text": [
        "<matplotlib.figure.Figure at 0x6951cd0>"
       ]
      }
     ],
     "prompt_number": 55
    },
    {
     "cell_type": "markdown",
     "metadata": {},
     "source": [
      "### settopos () method\n",
      "\n",
      "Once the trajectory has been defined it is possible to send the body at the position corresponding to any time \n",
      "of the trajectory with the `settopos` method. \n",
      "\n",
      "settopos takes as argument \n",
      "\n",
      "+ A trajectory \n",
      "+ A time index"
     ]
    },
    {
     "cell_type": "code",
     "collapsed": false,
     "input": [
      "traj.__repr__()"
     ],
     "language": "python",
     "metadata": {},
     "outputs": [
      {
       "metadata": {},
       "output_type": "pyout",
       "prompt_number": 56,
       "text": [
        "'t (s) : 0.0:9.591837\\nd (m) : 60.1095521128\\nVmoy (m/s) : 6.26674036608\\n'"
       ]
      }
     ],
     "prompt_number": 56
    },
    {
     "cell_type": "code",
     "collapsed": false,
     "input": [
      " bc.settopos(traj,t=5)"
     ],
     "language": "python",
     "metadata": {},
     "outputs": [],
     "prompt_number": 57
    },
    {
     "cell_type": "code",
     "collapsed": false,
     "input": [
      "figure(figsize=(15,20))\n",
      "for t in arange(traj.tmin+0.4,traj.tmax,0.5):\n",
      "    bc.settopos(traj,t=t)\n",
      "    f,a=bc.show(color='b',plane='yz',topos=True)\n",
      "    axis('off')"
     ],
     "language": "python",
     "metadata": {},
     "outputs": [
      {
       "metadata": {},
       "output_type": "display_data",
       "png": "[encoded data removed]",
       "text": [
        "<matplotlib.figure.Figure at 0x7fa210244410>"
       ]
      }
     ],
     "prompt_number": 61
    },
    {
     "cell_type": "code",
     "collapsed": true,
     "input": [
      "bc"
     ],
     "language": "python",
     "metadata": {},
     "outputs": [
      {
       "metadata": {},
       "output_type": "pyout",
       "prompt_number": 62,
       "text": [
        "My centroid position is \n",
        "[ 0.31956097  9.3877551 ]\n",
        "filename : 07_01.c3d\n",
        "nframes : 300\n",
        "Centered : True\n",
        "Mocap Speed : 1.36558346484"
       ]
      }
     ],
     "prompt_number": 62
    },
    {
     "cell_type": "code",
     "collapsed": false,
     "input": [
      "bc"
     ],
     "language": "python",
     "metadata": {},
     "outputs": [
      {
       "metadata": {},
       "output_type": "pyout",
       "prompt_number": 17,
       "text": [
        "My centroid position is \n",
        "[ 0.87233593  6.93877551]\n",
        "filename : 07_01.c3d\n",
        "nframes : 300\n",
        "Centered : True\n",
        "Mocap Speed : 1.36558346484"
       ]
      }
     ],
     "prompt_number": 17
    },
    {
     "cell_type": "code",
     "collapsed": false,
     "input": [],
     "language": "python",
     "metadata": {},
     "outputs": [],
     "prompt_number": 17
    },
    {
     "cell_type": "markdown",
     "metadata": {},
     "source": [
      "+ 3  : dimension of space\n",
      "+ 16 : number of nodes\n",
      "+ 300 : number of frames "
     ]
    },
    {
     "cell_type": "markdown",
     "metadata": {},
     "source": [
      "The figure below shows the projection in a vertival plane of the body nodes. "
     ]
    },
    {
     "cell_type": "heading",
     "level": 2,
     "metadata": {},
     "source": [
      "Centering the motion"
     ]
    },
    {
     "cell_type": "code",
     "collapsed": false,
     "input": [
      "bc.centered"
     ],
     "language": "python",
     "metadata": {},
     "outputs": [
      {
       "metadata": {},
       "output_type": "pyout",
       "prompt_number": 18,
       "text": [
        "True"
       ]
      }
     ],
     "prompt_number": 18
    },
    {
     "cell_type": "markdown",
     "metadata": {},
     "source": [
      "In order to translate the motion in any point in space-time, a distinction is made between the real motion or topos and the centered motion capture which acts as a virtual motion. \n",
      "\n",
      "Let $\\mathbf{p}^k$ denotes the center of gravity of the body in the (O,x,y) plane"
     ]
    },
    {
     "cell_type": "code",
     "collapsed": false,
     "input": [
      "bc.center()"
     ],
     "language": "python",
     "metadata": {},
     "outputs": [],
     "prompt_number": 19
    },
    {
     "cell_type": "code",
     "collapsed": false,
     "input": [
      "a = np.hstack((bc.vg,bc.vg[:,-1][:,newaxis]))"
     ],
     "language": "python",
     "metadata": {},
     "outputs": [],
     "prompt_number": 20
    },
    {
     "cell_type": "markdown",
     "metadata": {},
     "source": [
      "$\\mathbf{v}_g$ is the velocity vector of the gravity center of the body."
     ]
    },
    {
     "cell_type": "code",
     "collapsed": false,
     "input": [
      "print np.shape(bc.pg)\n",
      "print np.shape(bc.vg)"
     ],
     "language": "python",
     "metadata": {},
     "outputs": [
      {
       "output_type": "stream",
       "stream": "stdout",
       "text": [
        "(3, 300)\n",
        "(3, 300)\n"
       ]
      }
     ],
     "prompt_number": 21
    },
    {
     "cell_type": "code",
     "collapsed": false,
     "input": [
      "print bc.vg[:,145]\n",
      "print bc.vg[:,298]"
     ],
     "language": "python",
     "metadata": {},
     "outputs": [
      {
       "output_type": "stream",
       "stream": "stdout",
       "text": [
        "[ 0.0114987  -0.00026335  0.        ]\n",
        "[  1.08123514e-02   7.24411022e-05   0.00000000e+00]\n"
       ]
      }
     ],
     "prompt_number": 22
    },
    {
     "cell_type": "markdown",
     "metadata": {},
     "source": [
      "At that point the body structure is centered. \n",
      "\n",
      "\n",
      "\n",
      "The frame is centered in the xy plane by substracting from the configuration of points the projection of the body in the xy plane. "
     ]
    },
    {
     "cell_type": "code",
     "collapsed": false,
     "input": [
      "np.shape(bc.d)"
     ],
     "language": "python",
     "metadata": {},
     "outputs": [
      {
       "metadata": {},
       "output_type": "pyout",
       "prompt_number": 23,
       "text": [
        "(3, 16, 300)"
       ]
      }
     ],
     "prompt_number": 23
    },
    {
     "cell_type": "code",
     "collapsed": false,
     "input": [
      "bc.npoints"
     ],
     "language": "python",
     "metadata": {},
     "outputs": [
      {
       "metadata": {},
       "output_type": "pyout",
       "prompt_number": 24,
       "text": [
        "16"
       ]
      }
     ],
     "prompt_number": 24
    },
    {
     "cell_type": "markdown",
     "metadata": {},
     "source": [
      "Each frame is centered above the origin. For example for a walk motion the effect of the centering is just like if the body was still walking but not moving forward exactly in the same manner as a walk on a conveyor belt."
     ]
    },
    {
     "cell_type": "code",
     "collapsed": false,
     "input": [
      "pgc = np.sum(bc.d[:,:,0],axis=1)/16\n",
      "pg0 = bc.pg[:,0]\n",
      "print \"True center of gravity\", pg0\n",
      "print \"Center of gravity of the centered frame\",pgc"
     ],
     "language": "python",
     "metadata": {},
     "outputs": [
      {
       "output_type": "stream",
       "stream": "stdout",
       "text": [
        "True center of gravity [-1.74251571  0.49373077  0.        ]\n",
        "Center of gravity of the centered frame [  3.74700271e-16   1.38777878e-17   8.94887363e-01]\n"
       ]
      }
     ],
     "prompt_number": 25
    },
    {
     "cell_type": "code",
     "collapsed": false,
     "input": [
      "np.shape(bc.pg)"
     ],
     "language": "python",
     "metadata": {},
     "outputs": [
      {
       "metadata": {},
       "output_type": "pyout",
       "prompt_number": 26,
       "text": [
        "(3, 300)"
       ]
      }
     ],
     "prompt_number": 26
    },
    {
     "cell_type": "markdown",
     "metadata": {},
     "source": [
      "The current file contains 300 frames"
     ]
    },
    {
     "cell_type": "code",
     "collapsed": false,
     "input": [
      "tframe = arange(bc.nframes)"
     ],
     "language": "python",
     "metadata": {},
     "outputs": [],
     "prompt_number": 27
    },
    {
     "cell_type": "code",
     "collapsed": false,
     "input": [
      "np.shape(bc.pg[0:-1,:])"
     ],
     "language": "python",
     "metadata": {},
     "outputs": [
      {
       "metadata": {},
       "output_type": "pyout",
       "prompt_number": 28,
       "text": [
        "(2, 300)"
       ]
      }
     ],
     "prompt_number": 28
    },
    {
     "cell_type": "code",
     "collapsed": false,
     "input": [
      "xg = bc.pg[0,:]\n",
      "yg = bc.pg[1,:]\n",
      "zg = bc.pg[2,:]\n",
      "figure(figsize=(8,8))\n",
      "subplot(311)\n",
      "plot(tframe,xg)\n",
      "title('x component')\n",
      "ylabel('m')\n",
      "subplot(312)\n",
      "xlabel('frame index')\n",
      "title('y component')\n",
      "ylabel('m')\n",
      "plot(tframe,yg)\n",
      "subplot(313)\n",
      "xlabel('frame index')\n",
      "title('Motion capture centroid trajectory')\n",
      "ylabel('m')\n",
      "plot(xg,yg,'.b')\n",
      "\n",
      "d = bc.pg[0:-1,1:]-bc.pg[0:-1,0:-1]\n",
      "smocap = cumsum(sqrt(sum(d*d,axis=0)))\n",
      "\n",
      "Vmocap = smocap[-1]/Tfseq\n",
      "title('Length = '+str(smocap[-1])+' V = '+str(Vmocap*3.6)+' km/h')\n",
      "axis('scaled')\n",
      "axis('off')\n",
      "plt.tight_layout()"
     ],
     "language": "python",
     "metadata": {},
     "outputs": [
      {
       "metadata": {},
       "output_type": "display_data",
       "png": "[encoded data removed]",
       "text": [
        "<matplotlib.figure.Figure at 0x52845d0>"
       ]
      }
     ],
     "prompt_number": 29
    },
    {
     "cell_type": "code",
     "collapsed": false,
     "input": [
      "plot(smocap)\n",
      "title('evolution of curvilinear abscisse from motion capture centroid trajectory') \n",
      "xlabel('frame index')\n",
      "ylabel('distance (meters)')"
     ],
     "language": "python",
     "metadata": {},
     "outputs": [
      {
       "metadata": {},
       "output_type": "pyout",
       "prompt_number": 30,
       "text": [
        "<matplotlib.text.Text at 0x55e3f10>"
       ]
      },
      {
       "metadata": {},
       "output_type": "display_data",
       "png": "[encoded data removed]",
       "text": [
        "<matplotlib.figure.Figure at 0x7fa210238290>"
       ]
      }
     ],
     "prompt_number": 30
    },
    {
     "cell_type": "heading",
     "level": 2,
     "metadata": {},
     "source": [
      "Defining a large scale trajectory "
     ]
    },
    {
     "cell_type": "markdown",
     "metadata": {},
     "source": [
      "A large scale trajectory is defined in the $(O,x,y)$ plane.\n",
      "\n",
      "`traj` is a data structure (Npt,2)"
     ]
    },
    {
     "cell_type": "code",
     "collapsed": false,
     "input": [
      "v = Vmocap\n",
      "print v*3.6,\"Kmph\""
     ],
     "language": "python",
     "metadata": {},
     "outputs": [
      {
       "output_type": "stream",
       "stream": "stdout",
       "text": [
        "4.91610047343 Kmph\n"
       ]
      }
     ],
     "prompt_number": 31
    },
    {
     "cell_type": "code",
     "collapsed": false,
     "input": [
      "# time in seconds\n",
      "time = np.arange(0,10,0.01)\n",
      "x = v*time\n",
      "y = np.zeros(len(time))\n",
      "z = np.zeros(len(time))\n",
      "traj = Trajectory()\n",
      "traj.generate(time,np.vstack((x,y,y)).T)\n",
      "traj.tmax"
     ],
     "language": "python",
     "metadata": {},
     "outputs": [
      {
       "metadata": {},
       "output_type": "pyout",
       "prompt_number": 32,
       "text": [
        "9.97"
       ]
      }
     ],
     "prompt_number": 32
    },
    {
     "cell_type": "code",
     "collapsed": false,
     "input": [
      "fig ,ax = traj.plot()"
     ],
     "language": "python",
     "metadata": {},
     "outputs": [
      {
       "metadata": {},
       "output_type": "display_data",
       "png": "[encoded data removed]",
       "text": [
        "<matplotlib.figure.Figure at 0x5225a90>"
       ]
      }
     ],
     "prompt_number": 33
    },
    {
     "cell_type": "heading",
     "level": 2,
     "metadata": {},
     "source": [
      "Trajectory"
     ]
    },
    {
     "cell_type": "heading",
     "level": 2,
     "metadata": {},
     "source": [
      "`posvel()`"
     ]
    },
    {
     "cell_type": "markdown",
     "metadata": {},
     "source": [
      "\n",
      "\n",
      "\n",
      "The `posvel()` function (position and velocity) takes as arguments the following parameters \n",
      "\n",
      "+ `traj` a plane trajectory object.\n",
      "+ $t_k$ time for evaluation of topos \n",
      "+ $T_{fs}$ duration of the periodic motion frame sequence \n",
      "\n",
      "and returns \n",
      "\n",
      "+ the frame index $k_f = \\lfloor \\frac{t_k \\pmod{T_{fs}}}{t_f} \\rfloor$\n",
      "+ the trajectory index $k_t = \\lfloor t_k \\rfloor$\n",
      "+ velocity unitary vector along motion capture frame $\\hat{\\mathbf{v}}_s = \\frac{\\mathbf{p}^g[k_f]-\\mathbf{p}^g[k_f-1]}{|\\mathbf{p}^g[k_f]-\\mathbf{p}^g[k_f-1]|}$\n",
      "+ $\\hat{\\mathbf{w}}_s = \\mathbf{\\hat{z}} \\times  \\hat{\\mathbf{v}}_s $\n",
      "+  velocity unitary vector along trajectory $\\hat{\\mathbf{v}}_t = \\frac{\\mathbf{p}^t[k_t]-\\mathbf{p}^g[k_t-1]}{|\\mathbf{p}^g[k_t]-\\mathbf{p}^t[k_t-1]|}$\n",
      "+ $\\hat{\\mathbf{w}}_t = \\mathbf{\\hat{z}} \\times  \\hat{\\mathbf{v}}_t $\n",
      "\n",
      "$t_f = \\frac{T_{fs}}{Nf}$ is the interframe time or frame sampling period, it is equal to the whole duration of the motion sequence $T_{fs}$ divided by the number of frames\n",
      "\n",
      "\n",
      "\n"
     ]
    },
    {
     "cell_type": "markdown",
     "metadata": {},
     "source": [
      "`settopos` is a method which takes as argument : \n",
      "\n",
      "+ `traj` a plane trajectory (Npt,2)\n",
      "+ $t_k$ time for evaluation of topos "
     ]
    },
    {
     "cell_type": "markdown",
     "metadata": {},
     "source": [
      "In futher version of the project, this function will be modified to be able to avoid passing the whole trajectory. "
     ]
    },
    {
     "cell_type": "code",
     "collapsed": false,
     "input": [
      "bc.settopos(traj=traj,t=3)"
     ],
     "language": "python",
     "metadata": {},
     "outputs": [],
     "prompt_number": 34
    },
    {
     "cell_type": "markdown",
     "metadata": {},
     "source": [
      "There is now a new data structure in the Body objet. This data structure is called a `topos`."
     ]
    },
    {
     "cell_type": "code",
     "collapsed": false,
     "input": [
      "print np.shape(bc.topos)"
     ],
     "language": "python",
     "metadata": {},
     "outputs": [
      {
       "output_type": "stream",
       "stream": "stdout",
       "text": [
        "(3, 16)\n"
       ]
      }
     ],
     "prompt_number": 35
    },
    {
     "cell_type": "code",
     "collapsed": false,
     "input": [
      "bc.topos"
     ],
     "language": "python",
     "metadata": {},
     "outputs": [
      {
       "metadata": {},
       "output_type": "pyout",
       "prompt_number": 36,
       "text": [
        "array([[ 4.19599817,  4.15046572,  4.13081653,  4.07294142,  4.08289287,\n",
        "         4.11542251,  3.94530449,  4.26514518,  3.82039411,  4.12746908,\n",
        "         4.18189918,  3.89824308,  4.28535797,  3.70884964,  4.41212222,\n",
        "         4.15468413],\n",
        "       [ 0.00978643,  0.01039192, -0.08586912, -0.15014439,  0.17454155,\n",
        "        -0.29891008,  0.28336831, -0.31726715,  0.37578539, -0.14822518,\n",
        "         0.12069953, -0.11848735,  0.13268648, -0.04485156,  0.07025805,\n",
        "        -0.01376282],\n",
        "       [ 1.18925612,  1.35442836,  1.57836099,  1.39037819,  1.40039528,\n",
        "         1.07349379,  1.11418117,  0.83620759,  0.89701301,  0.89713179,\n",
        "         0.89777028,  0.44315412,  0.43969984,  0.09704225,  0.05562085,\n",
        "         0.89745103]])"
       ]
      }
     ],
     "prompt_number": 36
    },
    {
     "cell_type": "code",
     "collapsed": false,
     "input": [
      "bc.show3()"
     ],
     "language": "python",
     "metadata": {},
     "outputs": [],
     "prompt_number": 37
    },
    {
     "cell_type": "code",
     "collapsed": false,
     "input": [
      "bc.settopos(traj=traj,t=1)\n",
      "fig,ax=bc.plot3d(topos=True)\n",
      "bc.settopos(traj=traj,t=4)\n",
      "bc.plot3d(topos=True,fig=fig,ax=ax)\n",
      "bc.settopos(traj=traj,t=6)\n",
      "bc.plot3d(topos=True,fig=fig,ax=ax)"
     ],
     "language": "python",
     "metadata": {},
     "outputs": [
      {
       "metadata": {},
       "output_type": "pyout",
       "prompt_number": 38,
       "text": [
        "(<matplotlib.figure.Figure at 0x5964450>,\n",
        " <matplotlib.axes.Axes3DSubplot at 0x7fa210247890>)"
       ]
      },
      {
       "metadata": {},
       "output_type": "display_data",
       "png": "[encoded data removed]",
       "text": [
        "<matplotlib.figure.Figure at 0x5964450>"
       ]
      }
     ],
     "prompt_number": 38
    },
    {
     "cell_type": "markdown",
     "metadata": {},
     "source": [
      "## Coordinates systems"
     ]
    },
    {
     "cell_type": "markdown",
     "metadata": {},
     "source": [
      "Each cylinder of the `Body` model bears one specific coordinate system. \n",
      "\n",
      "One or several cylinder coordinate systems can be chosen to define the Body Local Coordinates System (BLCS) which is required for motion capture (BLCS) applications. This point should be clarified, this is not that simple. \n",
      "\n",
      "In general, its origin will be chosen on a position which is the most time invariant as on the chest or the back. \n",
      "\n",
      "\n",
      "Those frames of references are all defined in the Global Coordinate System (GCS) of the scene."
     ]
    },
    {
     "cell_type": "markdown",
     "metadata": {},
     "source": [
      "### Construction of the Cylinder Coordinate System"
     ]
    },
    {
     "cell_type": "markdown",
     "metadata": {},
     "source": [
      "The method `setccs()` is used to associate a Cylinder Coordinate System (CCS) to each cylinder of the bodyCylinder model. Notice that those cylinders coordinates systems are not known by the localization application. The localization application will define the BLCS from the position of radiating devices placed on the body surface. "
     ]
    },
    {
     "cell_type": "code",
     "collapsed": false,
     "input": [
      "bc.vtopos"
     ],
     "language": "python",
     "metadata": {},
     "outputs": [
      {
       "metadata": {},
       "output_type": "pyout",
       "prompt_number": 39,
       "text": [
        "array([[ 1.],\n",
        "       [ 0.],\n",
        "       [ 0.]])"
       ]
      }
     ],
     "prompt_number": 39
    },
    {
     "cell_type": "markdown",
     "metadata": {},
     "source": [
      "Each basis is constructed with the function from `geomutil.onbfromaxe()` : orthonormal bases from axes. This function takes 2 sets of $n$ points $\\mathbf{p}_{A,n}$ and $\\mathbf{p}_{B,n}$ as input and provides an orthonormal basis as output. \n",
      "\n",
      "3 unitary vectors are constructed :\n",
      "\n",
      "\n",
      "$$\\hat{\\mathbf{w}}_n = \\frac{\\mathbf{p}_B-\\mathbf{p}_A}{| \\mathbf{p}_B-\\mathbf{p}_A |} $$\n",
      "\n",
      "$$\\hat{\\mathbf{u}}_n = \\frac{\\hat{\\mathbf{v}}_g - (\\hat{\\mathbf{v}}_g.{\\hat{\\mathbf{w}}_n}) \\mathbf{\\hat{w}}_n}{|\\hat{\\mathbf{v}_g} - (\\hat{\\mathbf{v}_g}.{\\hat{\\mathbf{w}}_n}) \\mathbf{\\hat{w}}_n|} $$\n",
      "\n",
      "$$\\hat{\\mathbf{v}}_n = \\mathbf{\\hat{w}}_n \\times \\mathbf{\\hat{u}}_n  $$\n",
      "\n",
      "Where $\\hat{\\mathbf{v}}_g$ is the unit velocity vector along actual trajectory.  \n",
      "\n",
      "The outpout of `geomutil.onbframe` is an MDA  $(3\\times n \\times 3)$ of $n$ unitary matrices aggregated along axis 1 $$\\mathbf{T}_n=[\\hat{\\mathbf{u}}_n, \\hat{\\mathbf{v}}_n, \\hat{\\mathbf{w}}_n]$$\n"
     ]
    },
    {
     "cell_type": "markdown",
     "metadata": {},
     "source": [
      "To create the CCS : "
     ]
    },
    {
     "cell_type": "code",
     "collapsed": false,
     "input": [
      "bc.setccs()"
     ],
     "language": "python",
     "metadata": {},
     "outputs": [],
     "prompt_number": 40
    },
    {
     "cell_type": "code",
     "collapsed": false,
     "input": [
      "import scipy.linalg as la \n",
      "print \"ccs dimensions : \",np.shape(bc.ccs)\n",
      "print bc.ccs[0,:,:]\n",
      "print \"Check determinant : \", la.det(bc.ccs[0,:,:])"
     ],
     "language": "python",
     "metadata": {},
     "outputs": [
      {
       "output_type": "stream",
       "stream": "stdout",
       "text": [
        "ccs dimensions :  (11, 3, 3)\n",
        "[[ 0.94678656  0.05306765 -0.31745715]\n",
        " [-0.06834689  0.99696857 -0.03718026]\n",
        " [ 0.31452173  0.05689898  0.94754345]]\n",
        "Check determinant :  1.0\n"
       ]
      }
     ],
     "prompt_number": 41
    },
    {
     "cell_type": "markdown",
     "metadata": {},
     "source": [
      "Create a Wireframe body representation from the body graph model"
     ]
    },
    {
     "cell_type": "markdown",
     "metadata": {},
     "source": [
      "Representation of frames associated with the cylinder"
     ]
    },
    {
     "cell_type": "code",
     "collapsed": false,
     "input": [
      "bc.show3?"
     ],
     "language": "python",
     "metadata": {},
     "outputs": [],
     "prompt_number": 42
    },
    {
     "cell_type": "markdown",
     "metadata": {},
     "source": [
      "On the figure below the wireframe model is shown associated with the 11 CCS (Cylinder coordinates systems) "
     ]
    },
    {
     "cell_type": "code",
     "collapsed": false,
     "input": [
      "Image('CCS.png')"
     ],
     "language": "python",
     "metadata": {},
     "outputs": [
      {
       "metadata": {},
       "output_type": "pyout",
       "png": "Q0NTLnBuZw==\n",
       "prompt_number": 43,
       "text": [
        "<IPython.core.display.Image at 0x5a84f50>"
       ]
      }
     ],
     "prompt_number": 43
    },
    {
     "cell_type": "heading",
     "level": 2,
     "metadata": {},
     "source": [
      "Placing a dcs (Device Coordinate System ) on the cylinder"
     ]
    },
    {
     "cell_type": "markdown",
     "metadata": {},
     "source": [
      "A DCS is refered by 4 numbers $(Id,l,h,\\alpha)$"
     ]
    },
    {
     "cell_type": "markdown",
     "metadata": {},
     "source": [
      "Cylinder Id"
     ]
    },
    {
     "cell_type": "code",
     "collapsed": false,
     "input": [
      "Id = 4 # 4 Left Arm\n",
      "l  = 0.1 # Longitudinal coordinates\n",
      "h  = 0.03 # height \n",
      "alpha = 45 # angle degrees"
     ],
     "language": "python",
     "metadata": {},
     "outputs": [],
     "prompt_number": 44
    },
    {
     "cell_type": "code",
     "collapsed": false,
     "input": [
      "ed = bc.g.edges()[Id]\n",
      "kta=ed[0]\n",
      "khe=ed[1]\n",
      "# TODO calculate cylinder length\n",
      "phe = array(bc.topos[:,khe])\n",
      "pta = array(bc.topos[:,kta])\n",
      "dl = phe-pta \n",
      "print bc.nodes_Id[kta],bc.nodes_Id[khe]\n",
      "lmax = sqrt(dot(dl,dl))\n",
      "print lmax"
     ],
     "language": "python",
     "metadata": {},
     "outputs": [
      {
       "ename": "AttributeError",
       "evalue": "'Body' object has no attribute 'g'",
       "output_type": "pyerr",
       "traceback": [
        "\u001b[1;31m---------------------------------------------------------------------------\u001b[0m\n\u001b[1;31mAttributeError\u001b[0m                            Traceback (most recent call last)",
        "\u001b[1;32m<ipython-input-45-939c95b08aff>\u001b[0m in \u001b[0;36m<module>\u001b[1;34m()\u001b[0m\n\u001b[1;32m----> 1\u001b[1;33m \u001b[0med\u001b[0m \u001b[1;33m=\u001b[0m \u001b[0mbc\u001b[0m\u001b[1;33m.\u001b[0m\u001b[0mg\u001b[0m\u001b[1;33m.\u001b[0m\u001b[0medges\u001b[0m\u001b[1;33m(\u001b[0m\u001b[1;33m)\u001b[0m\u001b[1;33m[\u001b[0m\u001b[0mId\u001b[0m\u001b[1;33m]\u001b[0m\u001b[1;33m\u001b[0m\u001b[0m\n\u001b[0m\u001b[0;32m      2\u001b[0m \u001b[0mkta\u001b[0m\u001b[1;33m=\u001b[0m\u001b[0med\u001b[0m\u001b[1;33m[\u001b[0m\u001b[1;36m0\u001b[0m\u001b[1;33m]\u001b[0m\u001b[1;33m\u001b[0m\u001b[0m\n\u001b[0;32m      3\u001b[0m \u001b[0mkhe\u001b[0m\u001b[1;33m=\u001b[0m\u001b[0med\u001b[0m\u001b[1;33m[\u001b[0m\u001b[1;36m1\u001b[0m\u001b[1;33m]\u001b[0m\u001b[1;33m\u001b[0m\u001b[0m\n\u001b[0;32m      4\u001b[0m \u001b[1;31m# TODO calculate cylinder length\u001b[0m\u001b[1;33m\u001b[0m\u001b[1;33m\u001b[0m\u001b[0m\n\u001b[0;32m      5\u001b[0m \u001b[0mphe\u001b[0m \u001b[1;33m=\u001b[0m \u001b[0marray\u001b[0m\u001b[1;33m(\u001b[0m\u001b[0mbc\u001b[0m\u001b[1;33m.\u001b[0m\u001b[0mtopos\u001b[0m\u001b[1;33m[\u001b[0m\u001b[1;33m:\u001b[0m\u001b[1;33m,\u001b[0m\u001b[0mkhe\u001b[0m\u001b[1;33m]\u001b[0m\u001b[1;33m)\u001b[0m\u001b[1;33m\u001b[0m\u001b[0m\n",
        "\u001b[1;31mAttributeError\u001b[0m: 'Body' object has no attribute 'g'"
       ]
      }
     ],
     "prompt_number": 45
    },
    {
     "cell_type": "code",
     "collapsed": false,
     "input": [
      "import scipy.linalg as la\n",
      "origin = pta\n",
      "CCS = bc.ccs[Id,:,:]\n",
      "print origin\n"
     ],
     "language": "python",
     "metadata": {},
     "outputs": []
    },
    {
     "cell_type": "code",
     "collapsed": false,
     "input": [
      "print CCS\n",
      "#print la.det(CCS)"
     ],
     "language": "python",
     "metadata": {},
     "outputs": []
    },
    {
     "cell_type": "markdown",
     "metadata": {},
     "source": [
      "Rotate Matrix around z"
     ]
    },
    {
     "cell_type": "code",
     "collapsed": false,
     "input": [
      "R = np.array([[cos(alpha),-sin(alpha),0],[sin(alpha),cos(alpha),0],[0,0,1]])\n",
      "print R"
     ],
     "language": "python",
     "metadata": {},
     "outputs": []
    },
    {
     "cell_type": "code",
     "collapsed": false,
     "input": [
      "CCSr = dot(CCS,R)"
     ],
     "language": "python",
     "metadata": {},
     "outputs": []
    },
    {
     "cell_type": "code",
     "collapsed": false,
     "input": [
      "print CCSr"
     ],
     "language": "python",
     "metadata": {},
     "outputs": []
    },
    {
     "cell_type": "code",
     "collapsed": false,
     "input": [
      "neworigin = origin + CCSr[:,2]*l + CCSr[:,0]*h\n",
      "print neworigin"
     ],
     "language": "python",
     "metadata": {},
     "outputs": []
    },
    {
     "cell_type": "code",
     "collapsed": false,
     "input": [
      "filename = 'cacs'+str(Id)\n",
      "geov = geu.GeomVect(filename)\n",
      "geov.geomBase(CCSr,pt= neworigin,scale=0.1)\n",
      "chaine =  '{<' + filename+'.vect' + \"}\\n\"\n",
      "bodylist.append(chaine)"
     ],
     "language": "python",
     "metadata": {},
     "outputs": []
    },
    {
     "cell_type": "code",
     "collapsed": false,
     "input": [
      "bodylist.show3"
     ],
     "language": "python",
     "metadata": {},
     "outputs": []
    },
    {
     "cell_type": "code",
     "collapsed": false,
     "input": [
      "#bc.settopos(traj,2.3,Tstep)\n",
      "#bc.movie(traj=traj,tk=time,topos=True)\n",
      "############# verification de la base\n",
      "#B.LoadMotion()\n",
      "#c3d_frames = B.d\n",
      "#B.CylinderModel()\n",
      "#fr_id  = 125\n",
      "#B.cylinder_basis0()\n",
      "#B.cylinder_basis_k (frameId = fr_id)\n",
      "#P = np.array([1,1,1])\n",
      "#for cy_id in range(10):\n",
      "#A = np.zeros(shape = (3))\n",
      "#u0 = B.basis0[cy_id,0:3]\n",
      "#v0 = B.basis0[cy_id,3:6]\n",
      "#w0 = B.basis0[cy_id,6:]\n",
      "#fig  = plt.figure()\n",
      "#ax = fig.add_subplot(111, projection='3d')\n",
      "#SF = 1\n",
      "#plt.plot((A[0],SF*u0[0]+A[0]),(A[1],SF*u0[1]+A[1]),(A[2],SF*u0[2]+A[2]), 'y')\n",
      "#plt.plot((A[0],SF*v0[0]+A[0]),(A[1],SF*v0[1]+A[1]),(A[2],SF*v0[2]+A[2]),'r')\n",
      "#plt.plot((A[0],SF*w0[0]+A[0]),(A[1],SF*w0[1]+A[1]),(A[2],SF*w0[2]+A[2]),'g')\n",
      "#uk = B.basisk[cy_id,0:3]\n",
      "#vk = B.basisk[cy_id,3:6]\n",
      "#wk = B.basisk[cy_id,6:]\n",
      "#plt.plot((A[0],SF*uk[0]+A[0]),(A[1],SF*uk[1]+A[1]),(A[2],SF*uk[2]+A[2]), 'y--')\n",
      "#plt.plot((A[0],SF*vk[0]+A[0]),(A[1],SF*vk[1]+A[1]),(A[2],SF*vk[2]+A[2]),'r--')\n",
      "#plt.plot((A[0],SF*wk[0]+A[0]),(A[1],SF*wk[1]+A[1]),(A[2],SF*wk[2]+A[2]),'g--')\n",
      "#plt.autoscale()\n",
      "#plt.title(str(cy_id))\n",
      "#plt.show()\n",
      "############   Antenna on cylinders\n",
      "\n",
      "# Load a .c3dmotion capture file\n",
      "\n",
      "#\n",
      "# extract a numpy array (3 x np x nf )\n",
      "#\n",
      "#   3  : x y  z\n",
      "#   np : number of points\n",
      "#   nf : number of frames\n",
      "#\n",
      "\n",
      "#c3dframe = bc.d\n",
      "\n",
      "#bc.geomfile(0)\n",
      "#bc.movie()\n",
      "#pg = np.sum(bc.d,axis=1)\n",
      "\n",
      "#\n",
      "# Convert c3d file into a 10 (4+4+1+1) cylinder model\n",
      "#\n",
      "#  4 arms 4 legs 1 trunk 1 head\n",
      "#\n",
      "#  create member c array\n",
      "#  c : array(shape  =  (nc,8)), Id (1), A coordinate (3) , B coordinate (3) , radius (1)\n",
      "#\n",
      "\n",
      "#bc.antennas()\n",
      "\n",
      "#\n",
      "# create a reference basis on each cylinder\n",
      "#\n",
      "# WARNING : arbitray orientation for the first frame\n",
      "#\n",
      "\n",
      "#bc.cylinder_basis0()\n",
      "#\n",
      "##\n",
      "## Below an example of positioning antenna around cylnders\n",
      "##\n",
      "##\n",
      "#\n",
      "#fr_ind = 0\n",
      "#cyl = B.c[:, :, fr_ind]\n",
      "## scale factor\n",
      "#SF = 1\n",
      "#\n",
      "## 10 antennas on 10 cylinders\n",
      "#\n",
      "#cy_id = range(0, 10)\n",
      "#l = np.ones((10))\n",
      "#alpha = np.pi / 2 * np.ones((10))\n",
      "#\n",
      "#\n",
      "##\n",
      "## Display Frame 0 \n",
      "##\n",
      "#B.cyl_antenna(cy_id, l, alpha, 0)\n",
      "#\n",
      "#fig = plt.figure()\n",
      "#\n",
      "#ax = fig.add_subplot(111, aspect='equal', projection='3d')\n",
      "#\n",
      "#for i in range(B.c.shape[0]):\n",
      "#    pltu.cylinder(fig, cyl[i, 1:4], cyl[i, 4:7], cyl[i, 7])\n",
      "#    A3 = cyl[i, 1:4]\n",
      "#    u3 = B.basis0[i, 0:3]\n",
      "#    v3 = B.basis0[i, 3:6]\n",
      "#    w3 = B.basis0[i, 6:]\n",
      "#\n",
      "#    plt.plot((A3[0], SF * u3[0] + A3[0]), (\n",
      "#        A3[1], SF * u3[1] + A3[1]), (A3[2], SF * u3[2] + A3[2]), 'y--')\n",
      "#    plt.plot((A3[0], SF * v3[0] + A3[0]), (\n",
      "#        A3[1], SF * v3[1] + A3[1]), (A3[2], SF * v3[2] + A3[2]), 'r--')\n",
      "#    plt.plot((A3[0], SF * w3[0] + A3[0]), (\n",
      "#        A3[1], SF * w3[1] + A3[1]), (A3[2], SF * w3[2] + A3[2]), 'g--')\n",
      "#    plt.plot((A3[0], B.ant[i, 0] + A3[0]), (\n",
      "#        A3[1], B.ant[i, 1] + A3[1]), (A3[2], B.ant[i, 2] + A3[2]), 'c*--')\n",
      "#    #~ plt.axis('tight')\n",
      "#    #~ fig  = plt.figure()\n",
      "#    #~ plt.plot((A3[0],SF*u3[0]+A3[0]),(A3[1],SF*u3[1]+A3[1]), 'y--')\n",
      "#    #~ plt.plot((A3[0],SF*v3[0]+A3[0]),(A3[1],SF*v3[1]+A3[1]),'r--')\n",
      "#    #~ plt.plot((A3[0],SF*w3[0]+A3[0]),(A3[1],SF*w3[1]+A3[1]),'g--')\n",
      "#        #~\n",
      "#    #~ plt.plot((A3[0],B.ant[0]+ A3[0]) ,(A3[1],B.ant[1]+ A3[1]),'c*--')\n",
      "#    #~ plt.axis('scaled')\n",
      "#\n",
      "##\n",
      "## Display Frame 60 \n",
      "##\n",
      "#fr_ind2 = 60\n",
      "#cyl1 = B.c[:, :, fr_ind2]\n",
      "#B.cylinder_basis_k(frameId=fr_ind2)\n",
      "#B.cyl_antenna(cy_id, l, alpha, fr_ind2)\n",
      "#SF = 1\n",
      "#\n",
      "#fig = plt.figure()\n",
      "#for i in range(B.c.shape[0]):\n",
      "#    pltu.cylinder(fig, cyl1[i, 1:4], cyl1[i, 4:7], cyl1[i, 7])\n",
      "#    A3 = cyl1[i, 1:4]\n",
      "#    u3 = B.basisk[i, 0:3]\n",
      "#    v3 = B.basisk[i, 3:6]\n",
      "#    w3 = B.basisk[i, 6:]\n",
      "#\n",
      "#    plt.plot((A3[0], SF * u3[0] + A3[0]), (\n",
      "#        A3[1], SF * u3[1] + A3[1]), (A3[2], SF * u3[2] + A3[2]), 'y--')\n",
      "#    plt.plot((A3[0], SF * v3[0] + A3[0]), (\n",
      "#        A3[1], SF * v3[1] + A3[1]), (A3[2], SF * v3[2] + A3[2]), 'r--')\n",
      "#    plt.plot((A3[0], SF * w3[0] + A3[0]), (\n",
      "#        A3[1], SF * w3[1] + A3[1]), (A3[2], SF * w3[2] + A3[2]), 'g--')\n",
      "#    plt.plot((A3[0], B.ant[i, 0] + A3[0]), (\n",
      "#        A3[1], B.ant[i, 1] + A3[1]), (A3[2], B.ant[i, 2] + A3[2]), 'c*--')\n",
      "#    #~ plt.axis('tight')\n",
      "#\n",
      "#plt.show()\n",
      "#\n",
      "#####################\n",
      "#B.LoadMotion()\n",
      "#f = B.d\n",
      "#cycle_distance = dist(f[:, 0, 0], f[:, 0, -1])\n",
      "#print 'distance parcouru pendant un cycle de marche = ', cycle_distance\n",
      "##~ for fr_id in range(0,124):\n",
      "#    #~ inter_frames_dist = dist(f[:,0,fr_id],f[:,0,fr_id  +1])\n",
      "#    #~ print ' frame ID = ' , fr_id ,  'distance parcouru pendant un step = ', inter_frames_dist\n",
      "##~\n",
      "##~\n",
      "#\n",
      "######## test translation and rotation\n",
      "#fig = plt.figure()\n",
      "#\n",
      "#ax = fig.add_subplot(111, projection='3d')\n",
      "#ax.scatter(f[0, :, 0], f[1, :, 0], f[2, :, 0], c='g', marker='o')\n",
      "#ax.scatter(f[0, :, -1], f[1, :, -1], f[2, :, -1], c='g', marker='*')\n",
      "#\n",
      "## translation\n",
      "##~ p = np.array([0,0,0])\n",
      "##~ f1 = translate(f,p)\n",
      "##~ ax.scatter(f1[0,:,0],f1[1,:,0],f1[2,:,0] )\n",
      "##~ ax.scatter(f1[0,:,-1],f1[1,:,-1],f1[2,:,-1] )\n",
      "## rotantion\n",
      "##~ fig = plt.figure()\n",
      "##~\n",
      "##~ ax = fig.add_subplot(111, projection='3d')\n",
      "#f2 = rotation(f, np.pi / 2)\n",
      "#ax.scatter(f2[0, :, 0], f2[1, :, 0], f2[2, :, 0], c='r', marker='o')\n",
      "#ax.scatter(f2[0, :, -1], f2[1, :, -1], f2[2, :, -1], c='r', marker='*')\n",
      "#plt.show()\n"
     ],
     "language": "python",
     "metadata": {},
     "outputs": []
    },
    {
     "cell_type": "heading",
     "level": 2,
     "metadata": {},
     "source": [
      "Trajectory Class"
     ]
    },
    {
     "cell_type": "markdown",
     "metadata": {},
     "source": [
      "This class inheritates from `pandas.DataFrame`"
     ]
    },
    {
     "cell_type": "code",
     "collapsed": false,
     "input": [
      "t = arange(0,10,0.01)"
     ],
     "language": "python",
     "metadata": {},
     "outputs": []
    },
    {
     "cell_type": "code",
     "collapsed": false,
     "input": [
      "x = 2*t*np.cos(t)\n",
      "y = 3*t*np.sin(t) \n",
      "pt =np.vstack((x,y)).T\n",
      "traj = Trajectory(t,pt)\n",
      "traj.plot()"
     ],
     "language": "python",
     "metadata": {},
     "outputs": []
    },
    {
     "cell_type": "code",
     "collapsed": false,
     "input": [
      "traj.columns"
     ],
     "language": "python",
     "metadata": {},
     "outputs": []
    },
    {
     "cell_type": "code",
     "collapsed": false,
     "input": [
      "figsize(10,10)\n",
      "traj.plot()"
     ],
     "language": "python",
     "metadata": {},
     "outputs": []
    },
    {
     "cell_type": "heading",
     "level": 2,
     "metadata": {},
     "source": [
      "Testing geomutil functions"
     ]
    },
    {
     "cell_type": "code",
     "collapsed": false,
     "input": [
      "from pylayers.util.geomutil import *                     \n",
      "import numpy as np\n",
      "v1 = np.array([1,0,0])     # blue   first vector                             \n",
      "v2 = np.array([0,1,0])     # green  second vector                              \n",
      "v3 = np.array([0,0,1])     # rouge  third vector\n",
      "M  = np.vstack((v1,v2,v3))  \n",
      "gv = Geomlist('testcolor')\n",
      "gv.append('LIST\\n')\n",
      "gv1 = GeomVect('test')\n",
      "gv1.geomBase(M,pt=np.array([1,1,1]))  \n",
      "gv.append('{< axes.list}')\n",
      "gv.append('{< test.vect}')                                        \n",
      "gv.show3()  "
     ],
     "language": "python",
     "metadata": {},
     "outputs": []
    },
    {
     "cell_type": "markdown",
     "metadata": {},
     "source": [
      "+ x bleu\n",
      "+ y vert \n",
      "+ z rouge"
     ]
    },
    {
     "cell_type": "code",
     "collapsed": false,
     "input": [
      "#bc.show3(topos=True,wire=True,tag='A',ccs=True,lccs=[9],pattern=True)"
     ],
     "language": "python",
     "metadata": {},
     "outputs": []
    },
    {
     "cell_type": "code",
     "collapsed": false,
     "input": [
      "bc.topos\n"
     ],
     "language": "python",
     "metadata": {},
     "outputs": []
    },
    {
     "cell_type": "code",
     "collapsed": false,
     "input": [
      "from IPython.core.display import HTML\n",
      "\n",
      "def css_styling():\n",
      "    styles = open(\"../styles/custom.css\", \"r\").read()\n",
      "    return HTML(styles)\n",
      "css_styling()"
     ],
     "language": "python",
     "metadata": {},
     "outputs": []
    }
   ],
   "metadata": {}
  }
 ]
}