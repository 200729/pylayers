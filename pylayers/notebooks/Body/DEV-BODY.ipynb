{
 "metadata": {
  "name": "",
  "signature": "sha256:55c6628802b9212e50f669fef90fc26251dee3128089bf90b0ac8fa7f361057c"
 },
 "nbformat": 3,
 "nbformat_minor": 0,
 "worksheets": [
  {
   "cells": [
    {
     "cell_type": "markdown",
     "metadata": {},
     "source": [
      "# Handling Body Mobility in PyLayers"
     ]
    },
    {
     "cell_type": "code",
     "collapsed": false,
     "input": [
      "from pylayers.mobility.body.body import *\n",
      "from pylayers.mobility.trajectory import Trajectory\n",
      "from IPython.display import Image"
     ],
     "language": "python",
     "metadata": {},
     "outputs": [
      {
       "metadata": {},
       "output_type": "display_data",
       "text": [
        "<matplotlib.figure.Figure at 0x43f0910>"
       ]
      }
     ],
     "prompt_number": 1
    },
    {
     "cell_type": "markdown",
     "metadata": {},
     "source": [
      "The body mobility is imported from motion capture files. This is the chosen manner to achieve a high degree of realism for the modeling of the human motion. Two kind of files exist : \n",
      "\n",
      "+ `c3d` files are a set of point which are evolving in time\n",
      "+ `bvh` files are a stuctured version of the motion capture.\n",
      "\n",
      "Both type of file will be exploited in the following. "
     ]
    },
    {
     "cell_type": "markdown",
     "metadata": {},
     "source": [
      "## `BodyCylinder` data structure"
     ]
    },
    {
     "cell_type": "markdown",
     "metadata": {},
     "source": [
      "To ease electromagnetic simulation a simplification of the motion capture data structure is necessary. Generally there is a large number of captutred points, not all of them being useful for our modeling. \n",
      "\n",
      "This is a restriction of key body segments which are transformed into $K$ cylinders of radius $r_k$. \n",
      "\n",
      "The chosen model body model is made of 11 cylinders. 4 cylinders decribing the two arms, 4 cylinders decribing the two legs,  2 cylinders describing the trunk and 1 cylinder for the head. \n",
      "\n",
      "The body cylinder model is handle by a dedicated Python class call `Body`"
     ]
    },
    {
     "cell_type": "markdown",
     "metadata": {},
     "source": [
      "To create a void body, simply instantiate a Body object from the class"
     ]
    },
    {
     "cell_type": "code",
     "collapsed": false,
     "input": [
      "bc = Body()"
     ],
     "language": "python",
     "metadata": {},
     "outputs": [],
     "prompt_number": 2
    },
    {
     "cell_type": "markdown",
     "metadata": {},
     "source": [
      "which is equivalent to :"
     ]
    },
    {
     "cell_type": "code",
     "collapsed": false,
     "input": [
      "bc = Body(_filebody='John.ini',_filemocap='07_01.c3d')"
     ],
     "language": "python",
     "metadata": {},
     "outputs": [],
     "prompt_number": 3
    },
    {
     "cell_type": "markdown",
     "metadata": {},
     "source": [
      "The default body filename is John.ini and the defaily motion capture filename is '07_01.c3d'. The creation of a Body consists in reading a `_filebody` and a `_filemocap`"
     ]
    },
    {
     "cell_type": "code",
     "collapsed": false,
     "input": [
      "#%load /home/uguen/Bureau/P1/ini/John.ini"
     ],
     "language": "python",
     "metadata": {},
     "outputs": [],
     "prompt_number": 4
    },
    {
     "cell_type": "markdown",
     "metadata": {},
     "source": [
      "## Description of a body file\n",
      "\n",
      "An example of a body file is given below. It is a file in `ini` format with 4 sections. \n",
      "\n",
      "+ [nodes] \n",
      " \n",
      "   This section associates a node number to a c3d fils conventional  node number \n",
      "   \n",
      "    NodeId = C3DNODE\n",
      "    \n",
      "+ [cylinder]\n",
      "\n",
      "   This section associates a cylinder Id to a dictionnary wich contains cylinder tail head and radius information \n",
      "   \n",
      "      CylId = {'t',NodeId1,'h',NodeId2,'r',float (m)}\n",
      "      \n",
      "+ [device]\n",
      "\n",
      "   This section associates a device name to a dictionnary wich contains cylinder device related information\n",
      "   \n",
      "       DevId = {'typ' : {static|mobile} \n",
      "                 'cyl': CylId \n",
      "                 'l'  : length coordinate in ccs,\n",
      "                 'h'  : height coordinate in ccs, \n",
      "                 'a'  : angle coordinate in ccs, \n",
      "                 'file' : antenna file , \n",
      "                 'T' : Rotation matrix }\n",
      "   "
     ]
    },
    {
     "cell_type": "raw",
     "metadata": {},
     "source": [
      "[nodes]\n",
      "0 = STRN\n",
      "1 = CLAV\n",
      "2 = RFHD \n",
      "3 =RSHO \n",
      "4 =LSHO\n",
      "5 =RELB \n",
      "6 =LELB \n",
      "7 =RWRB \n",
      "8 =LWRB\n",
      "9 =RFWT\n",
      "10 =LFWT \n",
      "11 =RKNE\n",
      "12 =LKNE \n",
      "13 =RANK \n",
      "14 =LANK \n",
      "15 =BOTT \n",
      "[cylinder]\n",
      "; sternum (STRN) - clavicule (CLAV)\n",
      "0 = {'t':0,'h':1,'r':0.18}\n",
      "; clavicule (CLAV)  - tete (RFHD)\n",
      "1 = {'t':1,'h':2,'r':0.12}\n",
      "; coude droit (RELB)  epaule droite (RSHO)\n",
      "2 = {'t':5,'h':3,'r':0.05}\n",
      "; coude gauche (LELB)  epaule gauche (LSHO)\n",
      "3 = {'t':6,'h':4,'r':0.05}\n",
      "; poignet droit (RWRB) coude droit (RELB)  \n",
      "4 = {'t':7,'h':5,'r':0.05}\n",
      "; poignet droit (LWRB) coude droit (LELB)  \n",
      "5 = {'t':8,'h':6,'r':0.05}\n",
      "; genou droit (RKNE) hanche droit (RFWT)  \n",
      "6 = {'t':11,'h':9,'r':0.05}\n",
      "; genou droit (RKNE)  hanche droit (RFWT)  \n",
      "7 = {'t':12,'h':10,'r':0.05}\n",
      "; cheville droit (RANK) genou  droit (RKNE)  \n",
      "8 = {'t':13,'h':11,'r':0.05}\n",
      "; cheville droit (LANK) genou  droit (LKNE)  \n",
      "9 = {'t':14,'h':12,'r':0.05}\n",
      "; bottom  (BOTT) sternum (STRN)  \n",
      "10 = {'t':15,'h':0,'r':0.17}\n",
      "[device]\n",
      "CHEST = {'typ':'static','cyl':0,'l':0.0,'h':0.00,'a':0,'file':'defant.vsh3','T':np.array([[0,0,1],[1,0,0],[0,1,0]])}\n",
      ";CHEST = {'cyl':0,'l':0.0,'h':0.00,'a':0,'file':'defant.vsh3','T':np.array([[1,0,0],[0,1,0],[0,0,1]])}\n",
      "BACK  = {'typ':'static','cyl':0,'l':0.0,'h':0.00,'a':180,'file':'defant.vsh3','T':np.array([[1,0,0],[0,1,0],[0,0,1]])}\n",
      "[mocap]\n",
      "walk = '07_01_c3d' \n"
     ]
    },
    {
     "cell_type": "code",
     "collapsed": false,
     "input": [
      "bc"
     ],
     "language": "python",
     "metadata": {},
     "outputs": [
      {
       "metadata": {},
       "output_type": "pyout",
       "prompt_number": 5,
       "text": [
        "My name is : John\n",
        "\n",
        "I have a chest device on cylinder 0\n",
        "I have a back device on cylinder 0\n",
        "I am nowhere yet\n",
        "\n",
        "filename : 07_01.c3d\n",
        "nframes : 300\n",
        "Centered : True\n",
        "Mocap Speed : 1.36558346484"
       ]
      }
     ],
     "prompt_number": 5
    },
    {
     "cell_type": "markdown",
     "metadata": {},
     "source": [
      "## Loading a Motion Capture File"
     ]
    },
    {
     "cell_type": "markdown",
     "metadata": {},
     "source": [
      "A `.c3d` motion capture file is loaded with the method `loadC3D` with as arguments the motion capture file and the number of frames to load.  \n",
      "\n",
      "The motion is represented as a sequence of framef stored in the `d` variable member."
     ]
    },
    {
     "cell_type": "markdown",
     "metadata": {},
     "source": [
      "It is possible to get the information from the C3D header by using the verbose option of the `read_c3d` function"
     ]
    },
    {
     "cell_type": "code",
     "collapsed": false,
     "input": [
      "# Video Frame Rate \n",
      "Vrate = 120\n",
      "# Inter Frame\n",
      "Tframe = 1./120\n",
      "# select a number of frame \n",
      "nframes = 300\n",
      "# Time duration of the whole selected frame sequence\n",
      "Tfseq = Tframe*nframes\n",
      "#\n",
      "# load a .c3dmotion capture file\n",
      "# this update the g.pos \n",
      "#\n",
      "#bc.loadC3D(filename='07_01.c3d',nframes=nframes,centered=True)"
     ],
     "language": "python",
     "metadata": {},
     "outputs": [],
     "prompt_number": 6
    },
    {
     "cell_type": "markdown",
     "metadata": {},
     "source": [
      "The duration of the capture is "
     ]
    },
    {
     "cell_type": "code",
     "collapsed": false,
     "input": [
      "print \"Duration of the motion capture sequence\", Tfseq,\" seconds\""
     ],
     "language": "python",
     "metadata": {},
     "outputs": [
      {
       "output_type": "stream",
       "stream": "stdout",
       "text": [
        "Duration of the motion capture sequence 2.5  seconds\n"
       ]
      }
     ],
     "prompt_number": 7
    },
    {
     "cell_type": "markdown",
     "metadata": {},
     "source": [
      "`d` is a MDA of shape `(3,npoint,nframe)`. It contains all the possible configurations of the body. In general it is supposed to be a cyclic motion as an integer number of walking steps. This allows to instantiate the body configuration anywhere else in space in a given trajectory. \n",
      "\n",
      "A specific space-time configuration of the body is called a **`topos`**."
     ]
    },
    {
     "cell_type": "code",
     "collapsed": false,
     "input": [
      "np.shape(bc.d)"
     ],
     "language": "python",
     "metadata": {},
     "outputs": [
      {
       "metadata": {},
       "output_type": "pyout",
       "prompt_number": 8,
       "text": [
        "(3, 16, 300)"
       ]
      }
     ],
     "prompt_number": 8
    },
    {
     "cell_type": "markdown",
     "metadata": {},
     "source": [
      "## Defining a trajectory\n",
      "\n",
      "A Trajectory is a class which : \n",
      "\n",
      "+ derives from a pandas `DataFrame` \n",
      "+ is container for time,position,velocity and acceleration. \n",
      "\n",
      "To define a default trajectory : "
     ]
    },
    {
     "cell_type": "code",
     "collapsed": false,
     "input": [
      "traj = Trajectory()\n",
      "traj.generate()"
     ],
     "language": "python",
     "metadata": {},
     "outputs": [],
     "prompt_number": 9
    },
    {
     "cell_type": "code",
     "collapsed": false,
     "input": [
      "traj"
     ],
     "language": "python",
     "metadata": {},
     "outputs": [
      {
       "html": [
        "<div style=\"max-height:1000px;max-width:1500px;overflow:auto;\">\n",
        "<table border=\"1\" class=\"dataframe\">\n",
        "  <thead>\n",
        "    <tr style=\"text-align: right;\">\n",
        "      <th></th>\n",
        "      <th>x</th>\n",
        "      <th>y</th>\n",
        "      <th>z</th>\n",
        "      <th>vx</th>\n",
        "      <th>vy</th>\n",
        "      <th>vz</th>\n",
        "      <th>ax</th>\n",
        "      <th>ay</th>\n",
        "      <th>az</th>\n",
        "      <th>s</th>\n",
        "    </tr>\n",
        "  </thead>\n",
        "  <tbody>\n",
        "    <tr>\n",
        "      <th>1970-01-01 00:00:00</th>\n",
        "      <td> 0.000000</td>\n",
        "      <td> 0.000000</td>\n",
        "      <td> 0.109610</td>\n",
        "      <td> 0.061186</td>\n",
        "      <td> 0.204082</td>\n",
        "      <td> 1.756260</td>\n",
        "      <td>-0.000229</td>\n",
        "      <td> 0.000000e+00</td>\n",
        "      <td>-5.134408</td>\n",
        "      <td>  0.000000</td>\n",
        "    </tr>\n",
        "    <tr>\n",
        "      <th>1970-01-01 00:00:00.204082</th>\n",
        "      <td> 0.061186</td>\n",
        "      <td> 0.204082</td>\n",
        "      <td> 1.865870</td>\n",
        "      <td> 0.060957</td>\n",
        "      <td> 0.204082</td>\n",
        "      <td>-3.378148</td>\n",
        "      <td>-0.000458</td>\n",
        "      <td> 0.000000e+00</td>\n",
        "      <td> 4.668037</td>\n",
        "      <td>  1.769136</td>\n",
        "    </tr>\n",
        "    <tr>\n",
        "      <th>1970-01-01 00:00:00.408163</th>\n",
        "      <td> 0.122143</td>\n",
        "      <td> 0.408163</td>\n",
        "      <td>-1.512278</td>\n",
        "      <td> 0.060499</td>\n",
        "      <td> 0.204082</td>\n",
        "      <td> 1.289889</td>\n",
        "      <td>-0.000684</td>\n",
        "      <td> 0.000000e+00</td>\n",
        "      <td>-3.342471</td>\n",
        "      <td>  5.153992</td>\n",
        "    </tr>\n",
        "    <tr>\n",
        "      <th>1970-01-01 00:00:00.612245</th>\n",
        "      <td> 0.182642</td>\n",
        "      <td> 0.612245</td>\n",
        "      <td>-0.222389</td>\n",
        "      <td> 0.059815</td>\n",
        "      <td> 0.204082</td>\n",
        "      <td>-2.052582</td>\n",
        "      <td>-0.000909</td>\n",
        "      <td> 0.000000e+00</td>\n",
        "      <td> 3.852365</td>\n",
        "      <td>  6.461327</td>\n",
        "    </tr>\n",
        "    <tr>\n",
        "      <th>1970-01-01 00:00:00.816327</th>\n",
        "      <td> 0.242457</td>\n",
        "      <td> 0.816327</td>\n",
        "      <td>-2.274971</td>\n",
        "      <td> 0.058906</td>\n",
        "      <td> 0.204082</td>\n",
        "      <td> 1.799783</td>\n",
        "      <td>-0.001129</td>\n",
        "      <td> 0.000000e+00</td>\n",
        "      <td>-1.045733</td>\n",
        "      <td>  8.524897</td>\n",
        "    </tr>\n",
        "    <tr>\n",
        "      <th>1970-01-01 00:00:01.020408</th>\n",
        "      <td> 0.301364</td>\n",
        "      <td> 1.020408</td>\n",
        "      <td>-0.475188</td>\n",
        "      <td> 0.057777</td>\n",
        "      <td> 0.204082</td>\n",
        "      <td> 0.754050</td>\n",
        "      <td>-0.001346</td>\n",
        "      <td> 0.000000e+00</td>\n",
        "      <td>-0.941494</td>\n",
        "      <td> 10.337171</td>\n",
        "    </tr>\n",
        "    <tr>\n",
        "      <th>1970-01-01 00:00:01.224490</th>\n",
        "      <td> 0.359141</td>\n",
        "      <td> 1.224490</td>\n",
        "      <td> 0.278862</td>\n",
        "      <td> 0.056431</td>\n",
        "      <td> 0.204082</td>\n",
        "      <td>-0.187444</td>\n",
        "      <td>-0.001557</td>\n",
        "      <td> 0.000000e+00</td>\n",
        "      <td>-1.118776</td>\n",
        "      <td> 11.120484</td>\n",
        "    </tr>\n",
        "    <tr>\n",
        "      <th>1970-01-01 00:00:01.428571</th>\n",
        "      <td> 0.415572</td>\n",
        "      <td> 1.428571</td>\n",
        "      <td> 0.091418</td>\n",
        "      <td> 0.054874</td>\n",
        "      <td> 0.204082</td>\n",
        "      <td>-1.306220</td>\n",
        "      <td>-0.001763</td>\n",
        "      <td> 0.000000e+00</td>\n",
        "      <td> 3.766348</td>\n",
        "      <td> 11.403272</td>\n",
        "    </tr>\n",
        "    <tr>\n",
        "      <th>1970-01-01 00:00:01.632653</th>\n",
        "      <td> 0.470446</td>\n",
        "      <td> 1.632653</td>\n",
        "      <td>-1.214802</td>\n",
        "      <td> 0.053111</td>\n",
        "      <td> 0.204082</td>\n",
        "      <td> 2.460128</td>\n",
        "      <td>-0.001962</td>\n",
        "      <td> 0.000000e+00</td>\n",
        "      <td>-2.755375</td>\n",
        "      <td> 12.726477</td>\n",
        "    </tr>\n",
        "    <tr>\n",
        "      <th>1970-01-01 00:00:01.836735</th>\n",
        "      <td> 0.523557</td>\n",
        "      <td> 1.836735</td>\n",
        "      <td> 1.245326</td>\n",
        "      <td> 0.051149</td>\n",
        "      <td> 0.204082</td>\n",
        "      <td>-0.295246</td>\n",
        "      <td>-0.002154</td>\n",
        "      <td> 2.220446e-16</td>\n",
        "      <td>-0.098803</td>\n",
        "      <td> 15.195627</td>\n",
        "    </tr>\n",
        "    <tr>\n",
        "      <th>1970-01-01 00:00:02.040816</th>\n",
        "      <td> 0.574706</td>\n",
        "      <td> 2.040816</td>\n",
        "      <td> 0.950080</td>\n",
        "      <td> 0.048996</td>\n",
        "      <td> 0.204082</td>\n",
        "      <td>-0.394049</td>\n",
        "      <td>-0.002337</td>\n",
        "      <td>-4.440892e-16</td>\n",
        "      <td>-1.675846</td>\n",
        "      <td> 15.558168</td>\n",
        "    </tr>\n",
        "    <tr>\n",
        "      <th>1970-01-01 00:00:02.244898</th>\n",
        "      <td> 0.623702</td>\n",
        "      <td> 2.244898</td>\n",
        "      <td> 0.556030</td>\n",
        "      <td> 0.046658</td>\n",
        "      <td> 0.204082</td>\n",
        "      <td>-2.069895</td>\n",
        "      <td>-0.002512</td>\n",
        "      <td> 0.000000e+00</td>\n",
        "      <td> 3.810284</td>\n",
        "      <td> 16.004626</td>\n",
        "    </tr>\n",
        "    <tr>\n",
        "      <th>1970-01-01 00:00:02.448980</th>\n",
        "      <td> 0.670360</td>\n",
        "      <td> 2.448980</td>\n",
        "      <td>-1.513865</td>\n",
        "      <td> 0.044146</td>\n",
        "      <td> 0.204082</td>\n",
        "      <td> 1.740389</td>\n",
        "      <td>-0.002677</td>\n",
        "      <td> 4.440892e-16</td>\n",
        "      <td>-3.153238</td>\n",
        "      <td> 18.085080</td>\n",
        "    </tr>\n",
        "    <tr>\n",
        "      <th>1970-01-01 00:00:02.653061</th>\n",
        "      <td> 0.714506</td>\n",
        "      <td> 2.653061</td>\n",
        "      <td> 0.226524</td>\n",
        "      <td> 0.041469</td>\n",
        "      <td> 0.204082</td>\n",
        "      <td>-1.412849</td>\n",
        "      <td>-0.002833</td>\n",
        "      <td> 0.000000e+00</td>\n",
        "      <td> 3.878569</td>\n",
        "      <td> 19.837950</td>\n",
        "    </tr>\n",
        "    <tr>\n",
        "      <th>1970-01-01 00:00:02.857143</th>\n",
        "      <td> 0.755975</td>\n",
        "      <td> 2.857143</td>\n",
        "      <td>-1.186324</td>\n",
        "      <td> 0.038636</td>\n",
        "      <td> 0.204082</td>\n",
        "      <td> 2.465720</td>\n",
        "      <td>-0.002978</td>\n",
        "      <td>-4.440892e-16</td>\n",
        "      <td>-4.726331</td>\n",
        "      <td> 21.266065</td>\n",
        "    </tr>\n",
        "    <tr>\n",
        "      <th>1970-01-01 00:00:03.061224</th>\n",
        "      <td> 0.794611</td>\n",
        "      <td> 3.061224</td>\n",
        "      <td> 1.279396</td>\n",
        "      <td> 0.035658</td>\n",
        "      <td> 0.204082</td>\n",
        "      <td>-2.260611</td>\n",
        "      <td>-0.003111</td>\n",
        "      <td> 0.000000e+00</td>\n",
        "      <td> 1.916789</td>\n",
        "      <td> 23.740518</td>\n",
        "    </tr>\n",
        "    <tr>\n",
        "      <th>1970-01-01 00:00:03.265306</th>\n",
        "      <td> 0.830270</td>\n",
        "      <td> 3.265306</td>\n",
        "      <td>-0.981216</td>\n",
        "      <td> 0.032547</td>\n",
        "      <td> 0.204082</td>\n",
        "      <td>-0.343823</td>\n",
        "      <td>-0.003233</td>\n",
        "      <td> 4.440892e-16</td>\n",
        "      <td> 2.086098</td>\n",
        "      <td> 26.010602</td>\n",
        "    </tr>\n",
        "    <tr>\n",
        "      <th>1970-01-01 00:00:03.469388</th>\n",
        "      <td> 0.862817</td>\n",
        "      <td> 3.469388</td>\n",
        "      <td>-1.325038</td>\n",
        "      <td> 0.029314</td>\n",
        "      <td> 0.204082</td>\n",
        "      <td> 1.742275</td>\n",
        "      <td>-0.003343</td>\n",
        "      <td> 0.000000e+00</td>\n",
        "      <td>-2.115805</td>\n",
        "      <td> 26.411754</td>\n",
        "    </tr>\n",
        "    <tr>\n",
        "      <th>1970-01-01 00:00:03.673469</th>\n",
        "      <td> 0.892131</td>\n",
        "      <td> 3.673469</td>\n",
        "      <td> 0.417237</td>\n",
        "      <td> 0.025971</td>\n",
        "      <td> 0.204082</td>\n",
        "      <td>-0.373530</td>\n",
        "      <td>-0.003440</td>\n",
        "      <td>-4.440892e-16</td>\n",
        "      <td> 0.906184</td>\n",
        "      <td> 28.166186</td>\n",
        "    </tr>\n",
        "    <tr>\n",
        "      <th>1970-01-01 00:00:03.877551</th>\n",
        "      <td> 0.918102</td>\n",
        "      <td> 3.877551</td>\n",
        "      <td> 0.043707</td>\n",
        "      <td> 0.022531</td>\n",
        "      <td> 0.204082</td>\n",
        "      <td> 0.532654</td>\n",
        "      <td>-0.003525</td>\n",
        "      <td> 0.000000e+00</td>\n",
        "      <td>-1.009333</td>\n",
        "      <td> 28.592622</td>\n",
        "    </tr>\n",
        "    <tr>\n",
        "      <th>1970-01-01 00:00:04.081633</th>\n",
        "      <td> 0.940633</td>\n",
        "      <td> 4.081633</td>\n",
        "      <td> 0.576362</td>\n",
        "      <td> 0.019006</td>\n",
        "      <td> 0.204082</td>\n",
        "      <td>-0.476679</td>\n",
        "      <td>-0.003596</td>\n",
        "      <td> 8.881784e-16</td>\n",
        "      <td> 1.056225</td>\n",
        "      <td> 29.163479</td>\n",
        "    </tr>\n",
        "    <tr>\n",
        "      <th>1970-01-01 00:00:04.285714</th>\n",
        "      <td> 0.959639</td>\n",
        "      <td> 4.285714</td>\n",
        "      <td> 0.099683</td>\n",
        "      <td> 0.015410</td>\n",
        "      <td> 0.204082</td>\n",
        "      <td> 0.579547</td>\n",
        "      <td>-0.003654</td>\n",
        "      <td>-8.881784e-16</td>\n",
        "      <td> 0.528040</td>\n",
        "      <td> 29.682356</td>\n",
        "    </tr>\n",
        "    <tr>\n",
        "      <th>1970-01-01 00:00:04.489796</th>\n",
        "      <td> 0.975048</td>\n",
        "      <td> 4.489796</td>\n",
        "      <td> 0.679230</td>\n",
        "      <td> 0.011756</td>\n",
        "      <td> 0.204082</td>\n",
        "      <td> 1.107587</td>\n",
        "      <td>-0.003698</td>\n",
        "      <td> 0.000000e+00</td>\n",
        "      <td>-3.668739</td>\n",
        "      <td> 30.296979</td>\n",
        "    </tr>\n",
        "    <tr>\n",
        "      <th>1970-01-01 00:00:04.693878</th>\n",
        "      <td> 0.986804</td>\n",
        "      <td> 4.693878</td>\n",
        "      <td> 1.786816</td>\n",
        "      <td> 0.008058</td>\n",
        "      <td> 0.204082</td>\n",
        "      <td>-2.561152</td>\n",
        "      <td>-0.003728</td>\n",
        "      <td> 0.000000e+00</td>\n",
        "      <td> 5.846201</td>\n",
        "      <td> 31.423272</td>\n",
        "    </tr>\n",
        "    <tr>\n",
        "      <th>1970-01-01 00:00:04.897959</th>\n",
        "      <td> 0.994863</td>\n",
        "      <td> 4.897959</td>\n",
        "      <td>-0.774336</td>\n",
        "      <td> 0.004330</td>\n",
        "      <td> 0.204082</td>\n",
        "      <td> 3.285048</td>\n",
        "      <td>-0.003744</td>\n",
        "      <td> 0.000000e+00</td>\n",
        "      <td>-4.615846</td>\n",
        "      <td> 33.992555</td>\n",
        "    </tr>\n",
        "    <tr>\n",
        "      <th>1970-01-01 00:00:05.102041</th>\n",
        "      <td> 0.999193</td>\n",
        "      <td> 5.102041</td>\n",
        "      <td> 2.510712</td>\n",
        "      <td> 0.000586</td>\n",
        "      <td> 0.204082</td>\n",
        "      <td>-1.330797</td>\n",
        "      <td>-0.003746</td>\n",
        "      <td> 8.881784e-16</td>\n",
        "      <td> 0.428513</td>\n",
        "      <td> 37.283939</td>\n",
        "    </tr>\n",
        "    <tr>\n",
        "      <th>1970-01-01 00:00:05.306122</th>\n",
        "      <td> 0.999779</td>\n",
        "      <td> 5.306122</td>\n",
        "      <td> 1.179915</td>\n",
        "      <td>-0.003161</td>\n",
        "      <td> 0.204082</td>\n",
        "      <td>-0.902285</td>\n",
        "      <td>-0.003735</td>\n",
        "      <td>-8.881784e-16</td>\n",
        "      <td> 0.562240</td>\n",
        "      <td> 38.630294</td>\n",
        "    </tr>\n",
        "    <tr>\n",
        "      <th>1970-01-01 00:00:05.510204</th>\n",
        "      <td> 0.996618</td>\n",
        "      <td> 5.510204</td>\n",
        "      <td> 0.277630</td>\n",
        "      <td>-0.006895</td>\n",
        "      <td> 0.204082</td>\n",
        "      <td>-0.340045</td>\n",
        "      <td>-0.003709</td>\n",
        "      <td> 0.000000e+00</td>\n",
        "      <td>-0.363646</td>\n",
        "      <td> 39.555376</td>\n",
        "    </tr>\n",
        "    <tr>\n",
        "      <th>1970-01-01 00:00:05.714286</th>\n",
        "      <td> 0.989723</td>\n",
        "      <td> 5.714286</td>\n",
        "      <td>-0.062416</td>\n",
        "      <td>-0.010604</td>\n",
        "      <td> 0.204082</td>\n",
        "      <td>-0.703692</td>\n",
        "      <td>-0.003669</td>\n",
        "      <td> 8.881784e-16</td>\n",
        "      <td> 2.262189</td>\n",
        "      <td> 39.952022</td>\n",
        "    </tr>\n",
        "    <tr>\n",
        "      <th>1970-01-01 00:00:05.918367</th>\n",
        "      <td> 0.979119</td>\n",
        "      <td> 5.918367</td>\n",
        "      <td>-0.766107</td>\n",
        "      <td>-0.014273</td>\n",
        "      <td> 0.204082</td>\n",
        "      <td> 1.558497</td>\n",
        "      <td>-0.003616</td>\n",
        "      <td>-8.881784e-16</td>\n",
        "      <td>-4.425201</td>\n",
        "      <td> 40.684786</td>\n",
        "    </tr>\n",
        "    <tr>\n",
        "      <th>1970-01-01 00:00:06.122449</th>\n",
        "      <td> 0.964846</td>\n",
        "      <td> 6.122449</td>\n",
        "      <td> 0.792390</td>\n",
        "      <td>-0.017888</td>\n",
        "      <td> 0.204082</td>\n",
        "      <td>-2.866704</td>\n",
        "      <td>-0.003549</td>\n",
        "      <td> 0.000000e+00</td>\n",
        "      <td> 5.671750</td>\n",
        "      <td> 42.256653</td>\n",
        "    </tr>\n",
        "    <tr>\n",
        "      <th>1970-01-01 00:00:06.326531</th>\n",
        "      <td> 0.946958</td>\n",
        "      <td> 6.326531</td>\n",
        "      <td>-2.074314</td>\n",
        "      <td>-0.021437</td>\n",
        "      <td> 0.204082</td>\n",
        "      <td> 2.805046</td>\n",
        "      <td>-0.003468</td>\n",
        "      <td> 0.000000e+00</td>\n",
        "      <td>-1.724266</td>\n",
        "      <td> 45.130668</td>\n",
        "    </tr>\n",
        "    <tr>\n",
        "      <th>1970-01-01 00:00:06.530612</th>\n",
        "      <td> 0.925521</td>\n",
        "      <td> 6.530612</td>\n",
        "      <td> 0.730731</td>\n",
        "      <td>-0.024905</td>\n",
        "      <td> 0.204082</td>\n",
        "      <td> 1.080780</td>\n",
        "      <td>-0.003375</td>\n",
        "      <td> 0.000000e+00</td>\n",
        "      <td>-3.166900</td>\n",
        "      <td> 47.943210</td>\n",
        "    </tr>\n",
        "    <tr>\n",
        "      <th>1970-01-01 00:00:06.734694</th>\n",
        "      <td> 0.900616</td>\n",
        "      <td> 6.734694</td>\n",
        "      <td> 1.811511</td>\n",
        "      <td>-0.028280</td>\n",
        "      <td> 0.204082</td>\n",
        "      <td>-2.086121</td>\n",
        "      <td>-0.003269</td>\n",
        "      <td> 8.881784e-16</td>\n",
        "      <td> 2.130590</td>\n",
        "      <td> 49.043371</td>\n",
        "    </tr>\n",
        "    <tr>\n",
        "      <th>1970-01-01 00:00:06.938776</th>\n",
        "      <td> 0.872336</td>\n",
        "      <td> 6.938776</td>\n",
        "      <td>-0.274610</td>\n",
        "      <td>-0.031549</td>\n",
        "      <td> 0.204082</td>\n",
        "      <td> 0.044469</td>\n",
        "      <td>-0.003151</td>\n",
        "      <td>-8.881784e-16</td>\n",
        "      <td> 0.146888</td>\n",
        "      <td> 51.139641</td>\n",
        "    </tr>\n",
        "    <tr>\n",
        "      <th>1970-01-01 00:00:07.142857</th>\n",
        "      <td> 0.840787</td>\n",
        "      <td> 7.142857</td>\n",
        "      <td>-0.230140</td>\n",
        "      <td>-0.034699</td>\n",
        "      <td> 0.204082</td>\n",
        "      <td> 0.191358</td>\n",
        "      <td>-0.003021</td>\n",
        "      <td> 0.000000e+00</td>\n",
        "      <td> 0.289364</td>\n",
        "      <td> 51.350880</td>\n",
        "    </tr>\n",
        "    <tr>\n",
        "      <th>1970-01-01 00:00:07.346939</th>\n",
        "      <td> 0.806088</td>\n",
        "      <td> 7.346939</td>\n",
        "      <td>-0.038783</td>\n",
        "      <td>-0.037720</td>\n",
        "      <td> 0.204082</td>\n",
        "      <td> 0.480722</td>\n",
        "      <td>-0.002879</td>\n",
        "      <td> 8.881784e-16</td>\n",
        "      <td> 0.207905</td>\n",
        "      <td> 51.632787</td>\n",
        "    </tr>\n",
        "    <tr>\n",
        "      <th>1970-01-01 00:00:07.551020</th>\n",
        "      <td> 0.768368</td>\n",
        "      <td> 7.551020</td>\n",
        "      <td> 0.441939</td>\n",
        "      <td>-0.040599</td>\n",
        "      <td> 0.204082</td>\n",
        "      <td> 0.688626</td>\n",
        "      <td>-0.002727</td>\n",
        "      <td>-8.881784e-16</td>\n",
        "      <td>-1.530975</td>\n",
        "      <td> 52.156395</td>\n",
        "    </tr>\n",
        "    <tr>\n",
        "      <th>1970-01-01 00:00:07.755102</th>\n",
        "      <td> 0.727768</td>\n",
        "      <td> 7.755102</td>\n",
        "      <td> 1.130565</td>\n",
        "      <td>-0.043327</td>\n",
        "      <td> 0.204082</td>\n",
        "      <td>-0.842349</td>\n",
        "      <td>-0.002565</td>\n",
        "      <td> 0.000000e+00</td>\n",
        "      <td> 2.122203</td>\n",
        "      <td> 52.875772</td>\n",
        "    </tr>\n",
        "    <tr>\n",
        "      <th>1970-01-01 00:00:07.959184</th>\n",
        "      <td> 0.684442</td>\n",
        "      <td> 7.959184</td>\n",
        "      <td> 0.288217</td>\n",
        "      <td>-0.045891</td>\n",
        "      <td> 0.204082</td>\n",
        "      <td> 1.279854</td>\n",
        "      <td>-0.002393</td>\n",
        "      <td> 0.000000e+00</td>\n",
        "      <td>-2.476126</td>\n",
        "      <td> 53.743573</td>\n",
        "    </tr>\n",
        "    <tr>\n",
        "      <th>1970-01-01 00:00:08.163265</th>\n",
        "      <td> 0.638550</td>\n",
        "      <td> 8.163265</td>\n",
        "      <td> 1.568071</td>\n",
        "      <td>-0.048284</td>\n",
        "      <td> 0.204082</td>\n",
        "      <td>-1.196272</td>\n",
        "      <td>-0.002212</td>\n",
        "      <td> 0.000000e+00</td>\n",
        "      <td> 1.380942</td>\n",
        "      <td> 55.040408</td>\n",
        "    </tr>\n",
        "    <tr>\n",
        "      <th>1970-01-01 00:00:08.367347</th>\n",
        "      <td> 0.590266</td>\n",
        "      <td> 8.367347</td>\n",
        "      <td> 0.371799</td>\n",
        "      <td>-0.050496</td>\n",
        "      <td> 0.204082</td>\n",
        "      <td> 0.184670</td>\n",
        "      <td>-0.002023</td>\n",
        "      <td> 0.000000e+00</td>\n",
        "      <td>-1.160168</td>\n",
        "      <td> 56.254923</td>\n",
        "    </tr>\n",
        "    <tr>\n",
        "      <th>1970-01-01 00:00:08.571429</th>\n",
        "      <td> 0.539770</td>\n",
        "      <td> 8.571429</td>\n",
        "      <td> 0.556470</td>\n",
        "      <td>-0.052519</td>\n",
        "      <td> 0.204082</td>\n",
        "      <td>-0.975497</td>\n",
        "      <td>-0.001826</td>\n",
        "      <td> 1.776357e-15</td>\n",
        "      <td> 1.731679</td>\n",
        "      <td> 56.534748</td>\n",
        "    </tr>\n",
        "    <tr>\n",
        "      <th>1970-01-01 00:00:08.775510</th>\n",
        "      <td> 0.487252</td>\n",
        "      <td> 8.775510</td>\n",
        "      <td>-0.419028</td>\n",
        "      <td>-0.054345</td>\n",
        "      <td> 0.204082</td>\n",
        "      <td> 0.756182</td>\n",
        "      <td>-0.001622</td>\n",
        "      <td>-1.776357e-15</td>\n",
        "      <td> 0.446913</td>\n",
        "      <td> 57.532748</td>\n",
        "    </tr>\n",
        "    <tr>\n",
        "      <th>1970-01-01 00:00:08.979592</th>\n",
        "      <td> 0.432907</td>\n",
        "      <td> 8.979592</td>\n",
        "      <td> 0.337154</td>\n",
        "      <td>-0.055967</td>\n",
        "      <td> 0.204082</td>\n",
        "      <td> 1.203095</td>\n",
        "      <td>-0.001412</td>\n",
        "      <td> 0.000000e+00</td>\n",
        "      <td>-2.761029</td>\n",
        "      <td> 58.317868</td>\n",
        "    </tr>\n",
        "    <tr>\n",
        "      <th>1970-01-01 00:00:09.183673</th>\n",
        "      <td> 0.376940</td>\n",
        "      <td> 9.183673</td>\n",
        "      <td> 1.540249</td>\n",
        "      <td>-0.057379</td>\n",
        "      <td> 0.204082</td>\n",
        "      <td>-1.557933</td>\n",
        "      <td>-0.001197</td>\n",
        "      <td> 0.000000e+00</td>\n",
        "      <td> 2.837706</td>\n",
        "      <td> 59.539432</td>\n",
        "    </tr>\n",
        "    <tr>\n",
        "      <th>1970-01-01 00:00:09.387755</th>\n",
        "      <td> 0.319561</td>\n",
        "      <td> 9.387755</td>\n",
        "      <td>-0.017684</td>\n",
        "      <td>-0.058577</td>\n",
        "      <td> 0.204082</td>\n",
        "      <td> 1.279772</td>\n",
        "      <td>-0.000978</td>\n",
        "      <td> 0.000000e+00</td>\n",
        "      <td>-3.028638</td>\n",
        "      <td> 61.111723</td>\n",
        "    </tr>\n",
        "    <tr>\n",
        "      <th>1970-01-01 00:00:09.591837</th>\n",
        "      <td> 0.260984</td>\n",
        "      <td> 9.591837</td>\n",
        "      <td> 1.262089</td>\n",
        "      <td>-0.059555</td>\n",
        "      <td> 0.204082</td>\n",
        "      <td>-1.748865</td>\n",
        "      <td>-0.000755</td>\n",
        "      <td> 0.000000e+00</td>\n",
        "      <td> 1.710025</td>\n",
        "      <td> 62.408989</td>\n",
        "    </tr>\n",
        "  </tbody>\n",
        "</table>\n",
        "<p>48 rows \u00d7 10 columns</p>\n",
        "</div>"
       ],
       "metadata": {},
       "output_type": "pyout",
       "prompt_number": 51,
       "text": [
        "t (s) : 0.0:9.591837\n",
        "d (m) : 62.4089887428\n",
        "Vmoy (m/s) : 6.50646885918"
       ]
      }
     ],
     "prompt_number": 51
    },
    {
     "cell_type": "code",
     "collapsed": false,
     "input": [
      "f,a = traj.plot()"
     ],
     "language": "python",
     "metadata": {},
     "outputs": [
      {
       "metadata": {},
       "output_type": "display_data",
       "png": "[encoded data removed]",
       "text": [
        "<matplotlib.figure.Figure at 0x4a640d0>"
       ]
      }
     ],
     "prompt_number": 11
    },
    {
     "cell_type": "markdown",
     "metadata": {},
     "source": [
      "### settopos () method\n",
      "\n",
      "Once the trajectory has been defined it is possible to send the body at the position corresponding to any time \n",
      "of the trajectory with the `settopos` method. \n",
      "\n",
      "settopos takes as argument \n",
      "\n",
      "+ A trajectory \n",
      "+ A time index"
     ]
    },
    {
     "cell_type": "code",
     "collapsed": false,
     "input": [
      "figure(figsize=(15,20))\n",
      "bc.settopos(traj,t=1)\n",
      "f,a=bc.show(color='b',plane='yz',topos=True)\n",
      "bc.settopos(traj,t=2)\n",
      "f,a = bc.show(color='b',plane='yz',topos=True)\n",
      "bc.settopos(traj,t=1)\n",
      "f,a=bc.show(color='b',plane='yz',topos=True)\n",
      "bc.settopos(traj,t=3)\n",
      "f,a = bc.show(color='b',plane='yz',topos=True)\n",
      "bc.settopos(traj,t=4)\n",
      "f,a = bc.show(color='b',plane='yz',topos=True)\n",
      "bc.settopos(traj,t=4.5)\n",
      "f,a = bc.show(color='b',plane='yz',topos=True)"
     ],
     "language": "python",
     "metadata": {},
     "outputs": [
      {
       "metadata": {},
       "output_type": "display_data",
       "png": "[encoded data removed]",
       "text": [
        "<matplotlib.figure.Figure at 0x4e22f90>"
       ]
      }
     ],
     "prompt_number": 52
    },
    {
     "cell_type": "code",
     "collapsed": false,
     "input": [
      "bc"
     ],
     "language": "python",
     "metadata": {},
     "outputs": [
      {
       "metadata": {},
       "output_type": "pyout",
       "prompt_number": 54,
       "text": [
        "My centroid position is \n",
        "[ 0.52355688  1.83673469]filename : 07_01.c3d\n",
        "nframes : 300\n",
        "Centered : True\n",
        "Mocap Speed : 1.36558346484"
       ]
      }
     ],
     "prompt_number": 54
    },
    {
     "cell_type": "code",
     "collapsed": false,
     "input": [
      "bc"
     ],
     "language": "python",
     "metadata": {},
     "outputs": [
      {
       "metadata": {},
       "output_type": "pyout",
       "prompt_number": 32,
       "text": [
        "My centroid position is \n",
        "[ 0.87233593  6.93877551]filename : 07_01.c3d\n",
        "nframes : 300\n",
        "Centered : True\n",
        "Mocap Speed : 1.36558346484"
       ]
      }
     ],
     "prompt_number": 32
    },
    {
     "cell_type": "code",
     "collapsed": false,
     "input": [],
     "language": "python",
     "metadata": {},
     "outputs": [],
     "prompt_number": 15
    },
    {
     "cell_type": "markdown",
     "metadata": {},
     "source": [
      "+ 3  : dimension of space\n",
      "+ 16 : number of nodes\n",
      "+ 300 : number of frames "
     ]
    },
    {
     "cell_type": "markdown",
     "metadata": {},
     "source": [
      "The figure below shows the projection in a vertival plane of the body nodes. "
     ]
    },
    {
     "cell_type": "heading",
     "level": 2,
     "metadata": {},
     "source": [
      "Centering the motion"
     ]
    },
    {
     "cell_type": "code",
     "collapsed": false,
     "input": [
      "bc.centered"
     ],
     "language": "python",
     "metadata": {},
     "outputs": [
      {
       "metadata": {},
       "output_type": "pyout",
       "prompt_number": 55,
       "text": [
        "True"
       ]
      }
     ],
     "prompt_number": 55
    },
    {
     "cell_type": "markdown",
     "metadata": {},
     "source": [
      "In order to translate the motion in any point in space-time, a distinction is made between the real motion or topos and the centered motion capture which acts as a virtual motion. \n",
      "\n",
      "Let $\\mathbf{p}^k$ denotes the center of gravity of the body in the (O,x,y) plane"
     ]
    },
    {
     "cell_type": "code",
     "collapsed": false,
     "input": [
      "bc.center()"
     ],
     "language": "python",
     "metadata": {},
     "outputs": [],
     "prompt_number": 56
    },
    {
     "cell_type": "code",
     "collapsed": false,
     "input": [
      "a = np.hstack((bc.vg,bc.vg[:,-1][:,newaxis]))"
     ],
     "language": "python",
     "metadata": {},
     "outputs": [],
     "prompt_number": 57
    },
    {
     "cell_type": "markdown",
     "metadata": {},
     "source": [
      "$\\mathbf{v}_g$ is the velocity vector of the gravity center of the body."
     ]
    },
    {
     "cell_type": "code",
     "collapsed": false,
     "input": [
      "print np.shape(bc.pg)\n",
      "print np.shape(bc.vg)"
     ],
     "language": "python",
     "metadata": {},
     "outputs": [
      {
       "output_type": "stream",
       "stream": "stdout",
       "text": [
        "(3, 300)\n",
        "(3, 300)\n"
       ]
      }
     ],
     "prompt_number": 58
    },
    {
     "cell_type": "code",
     "collapsed": false,
     "input": [
      "print bc.vg[:,145]\n",
      "print bc.vg[:,298]"
     ],
     "language": "python",
     "metadata": {},
     "outputs": [
      {
       "output_type": "stream",
       "stream": "stdout",
       "text": [
        "[ 0.0114987  -0.00026335  0.        ]\n",
        "[  1.08123514e-02   7.24411022e-05   0.00000000e+00]\n"
       ]
      }
     ],
     "prompt_number": 59
    },
    {
     "cell_type": "markdown",
     "metadata": {},
     "source": [
      "At that point the body structure is centered. \n",
      "\n",
      "\n",
      "\n",
      "The frame is centered in the xy plane by substracting from the configuration of points the projection of the body in the xy plane. "
     ]
    },
    {
     "cell_type": "code",
     "collapsed": false,
     "input": [
      "np.shape(bc.d)"
     ],
     "language": "python",
     "metadata": {},
     "outputs": [
      {
       "metadata": {},
       "output_type": "pyout",
       "prompt_number": 60,
       "text": [
        "(3, 16, 300)"
       ]
      }
     ],
     "prompt_number": 60
    },
    {
     "cell_type": "code",
     "collapsed": false,
     "input": [
      "bc.npoints"
     ],
     "language": "python",
     "metadata": {},
     "outputs": [
      {
       "metadata": {},
       "output_type": "pyout",
       "prompt_number": 61,
       "text": [
        "16"
       ]
      }
     ],
     "prompt_number": 61
    },
    {
     "cell_type": "markdown",
     "metadata": {},
     "source": [
      "Each frame is centered above the origin. For example for a walk motion the effect of the centering is just like if the body was still walking but not moving forward exactly in the same manner as a walk on a conveyor belt."
     ]
    },
    {
     "cell_type": "code",
     "collapsed": false,
     "input": [
      "pgc = np.sum(bc.d[:,:,0],axis=1)/16\n",
      "pg0 = bc.pg[:,0]\n",
      "print \"True center of gravity\", pg0\n",
      "print \"Center of gravity of the centered frame\",pgc"
     ],
     "language": "python",
     "metadata": {},
     "outputs": [
      {
       "output_type": "stream",
       "stream": "stdout",
       "text": [
        "True center of gravity [-1.74251571  0.49373077  0.        ]\n",
        "Center of gravity of the centered frame [  3.74700271e-16   1.38777878e-17   8.94887363e-01]\n"
       ]
      }
     ],
     "prompt_number": 62
    },
    {
     "cell_type": "code",
     "collapsed": false,
     "input": [
      "np.shape(bc.pg)"
     ],
     "language": "python",
     "metadata": {},
     "outputs": [
      {
       "metadata": {},
       "output_type": "pyout",
       "prompt_number": 63,
       "text": [
        "(3, 300)"
       ]
      }
     ],
     "prompt_number": 63
    },
    {
     "cell_type": "markdown",
     "metadata": {},
     "source": [
      "The current file contains 300 frames"
     ]
    },
    {
     "cell_type": "code",
     "collapsed": false,
     "input": [
      "tframe = arange(bc.nframes)"
     ],
     "language": "python",
     "metadata": {},
     "outputs": [],
     "prompt_number": 64
    },
    {
     "cell_type": "code",
     "collapsed": false,
     "input": [
      "np.shape(bc.pg[0:-1,:])"
     ],
     "language": "python",
     "metadata": {},
     "outputs": [
      {
       "metadata": {},
       "output_type": "pyout",
       "prompt_number": 65,
       "text": [
        "(2, 300)"
       ]
      }
     ],
     "prompt_number": 65
    },
    {
     "cell_type": "code",
     "collapsed": false,
     "input": [
      "xg = bc.pg[0,:]\n",
      "yg = bc.pg[1,:]\n",
      "zg = bc.pg[2,:]\n",
      "figure(figsize=(8,8))\n",
      "subplot(311)\n",
      "plot(tframe,xg)\n",
      "title('x component')\n",
      "ylabel('m')\n",
      "subplot(312)\n",
      "xlabel('frame index')\n",
      "title('y component')\n",
      "ylabel('m')\n",
      "plot(tframe,yg)\n",
      "subplot(313)\n",
      "xlabel('frame index')\n",
      "title('Motion capture centroid trajectory')\n",
      "ylabel('m')\n",
      "plot(xg,yg,'.b')\n",
      "\n",
      "d = bc.pg[0:-1,1:]-bc.pg[0:-1,0:-1]\n",
      "smocap = cumsum(sqrt(sum(d*d,axis=0)))\n",
      "\n",
      "Vmocap = smocap[-1]/Tfseq\n",
      "title('Length = '+str(smocap[-1])+' V = '+str(Vmocap*3.6)+' km/h')\n",
      "axis('scaled')\n",
      "axis('off')\n",
      "plt.tight_layout()"
     ],
     "language": "python",
     "metadata": {},
     "outputs": [
      {
       "metadata": {},
       "output_type": "display_data",
       "png": "[encoded data removed]",
       "text": [
        "<matplotlib.figure.Figure at 0x4e0c310>"
       ]
      }
     ],
     "prompt_number": 66
    },
    {
     "cell_type": "code",
     "collapsed": false,
     "input": [
      "plot(smocap)\n",
      "title('evolution of curvilinear abscisse from motion capture centroid trajectory') \n",
      "xlabel('frame index')\n",
      "ylabel('distance (meters)')"
     ],
     "language": "python",
     "metadata": {},
     "outputs": [
      {
       "metadata": {},
       "output_type": "pyout",
       "prompt_number": 67,
       "text": [
        "<matplotlib.text.Text at 0x50bde90>"
       ]
      },
      {
       "metadata": {},
       "output_type": "display_data",
       "png": "[encoded data removed]",
       "text": [
        "<matplotlib.figure.Figure at 0x50d9e90>"
       ]
      }
     ],
     "prompt_number": 67
    },
    {
     "cell_type": "heading",
     "level": 2,
     "metadata": {},
     "source": [
      "Defining a large scale trajectory "
     ]
    },
    {
     "cell_type": "markdown",
     "metadata": {},
     "source": [
      "A large scale trajectory is defined in the $(O,x,y)$ plane.\n",
      "\n",
      "`traj` is a data structure (Npt,2)"
     ]
    },
    {
     "cell_type": "code",
     "collapsed": false,
     "input": [
      "v = Vmocap\n",
      "print v*3.6,\"Kmph\""
     ],
     "language": "python",
     "metadata": {},
     "outputs": [
      {
       "output_type": "stream",
       "stream": "stdout",
       "text": [
        "4.91610047343 Kmph\n"
       ]
      }
     ],
     "prompt_number": 68
    },
    {
     "cell_type": "code",
     "collapsed": false,
     "input": [
      "# time in seconds\n",
      "time = np.arange(0,10,0.01)\n",
      "x = v*time\n",
      "y = np.zeros(len(time))\n",
      "z = np.zeros(len(time))\n",
      "traj = Trajectory()\n",
      "traj.generate(time,np.vstack((x,y,y)).T)\n",
      "traj.tmax"
     ],
     "language": "python",
     "metadata": {},
     "outputs": [
      {
       "metadata": {},
       "output_type": "pyout",
       "prompt_number": 69,
       "text": [
        "9.97"
       ]
      }
     ],
     "prompt_number": 69
    },
    {
     "cell_type": "code",
     "collapsed": false,
     "input": [
      "fig ,ax = traj.plot()"
     ],
     "language": "python",
     "metadata": {},
     "outputs": [
      {
       "metadata": {},
       "output_type": "display_data",
       "png": "[encoded data removed]",
       "text": [
        "<matplotlib.figure.Figure at 0x4d6c050>"
       ]
      }
     ],
     "prompt_number": 70
    },
    {
     "cell_type": "heading",
     "level": 2,
     "metadata": {},
     "source": [
      "Trajectory"
     ]
    },
    {
     "cell_type": "heading",
     "level": 2,
     "metadata": {},
     "source": [
      "`posvel()`"
     ]
    },
    {
     "cell_type": "markdown",
     "metadata": {},
     "source": [
      "\n",
      "\n",
      "\n",
      "The `posvel()` function (position and velocity) takes as arguments the following parameters \n",
      "\n",
      "+ `traj` a plane trajectory object.\n",
      "+ $t_k$ time for evaluation of topos \n",
      "+ $T_{fs}$ duration of the periodic motion frame sequence \n",
      "\n",
      "and returns \n",
      "\n",
      "+ the frame index $k_f = \\lfloor \\frac{t_k \\pmod{T_{fs}}}{t_f} \\rfloor$\n",
      "+ the trajectory index $k_t = \\lfloor t_k \\rfloor$\n",
      "+ velocity unitary vector along motion capture frame $\\hat{\\mathbf{v}}_s = \\frac{\\mathbf{p}^g[k_f]-\\mathbf{p}^g[k_f-1]}{|\\mathbf{p}^g[k_f]-\\mathbf{p}^g[k_f-1]|}$\n",
      "+ $\\hat{\\mathbf{w}}_s = \\mathbf{\\hat{z}} \\times  \\hat{\\mathbf{v}}_s $\n",
      "+  velocity unitary vector along trajectory $\\hat{\\mathbf{v}}_t = \\frac{\\mathbf{p}^t[k_t]-\\mathbf{p}^g[k_t-1]}{|\\mathbf{p}^g[k_t]-\\mathbf{p}^t[k_t-1]|}$\n",
      "+ $\\hat{\\mathbf{w}}_t = \\mathbf{\\hat{z}} \\times  \\hat{\\mathbf{v}}_t $\n",
      "\n",
      "$t_f = \\frac{T_{fs}}{Nf}$ is the interframe time or frame sampling period, it is equal to the whole duration of the motion sequence $T_{fs}$ divided by the number of frames\n",
      "\n",
      "\n",
      "\n"
     ]
    },
    {
     "cell_type": "markdown",
     "metadata": {},
     "source": [
      "`settopos` is a method which takes as argument : \n",
      "\n",
      "+ `traj` a plane trajectory (Npt,2)\n",
      "+ $t_k$ time for evaluation of topos "
     ]
    },
    {
     "cell_type": "markdown",
     "metadata": {},
     "source": [
      "In futher version of the project, this function will be modified to be able to avoid passing the whole trajectory. "
     ]
    },
    {
     "cell_type": "code",
     "collapsed": false,
     "input": [
      "bc.settopos(traj=traj,t=3)"
     ],
     "language": "python",
     "metadata": {},
     "outputs": [],
     "prompt_number": 72
    },
    {
     "cell_type": "markdown",
     "metadata": {},
     "source": [
      "There is now a new data structure in the Body objet. This data structure is called a `topos`."
     ]
    },
    {
     "cell_type": "code",
     "collapsed": false,
     "input": [
      "print np.shape(bc.topos)"
     ],
     "language": "python",
     "metadata": {},
     "outputs": [
      {
       "output_type": "stream",
       "stream": "stdout",
       "text": [
        "(3, 16)\n"
       ]
      }
     ],
     "prompt_number": 73
    },
    {
     "cell_type": "code",
     "collapsed": false,
     "input": [
      "bc.topos"
     ],
     "language": "python",
     "metadata": {},
     "outputs": [
      {
       "metadata": {},
       "output_type": "pyout",
       "prompt_number": 74,
       "text": [
        "array([[ 4.19599817,  4.15046572,  4.13081653,  4.07294142,  4.08289287,\n",
        "         4.11542251,  3.94530449,  4.26514518,  3.82039411,  4.12746908,\n",
        "         4.18189918,  3.89824308,  4.28535797,  3.70884964,  4.41212222,\n",
        "         4.15468413],\n",
        "       [ 0.00978643,  0.01039192, -0.08586912, -0.15014439,  0.17454155,\n",
        "        -0.29891008,  0.28336831, -0.31726715,  0.37578539, -0.14822518,\n",
        "         0.12069953, -0.11848735,  0.13268648, -0.04485156,  0.07025805,\n",
        "        -0.01376282],\n",
        "       [ 1.18925612,  1.35442836,  1.57836099,  1.39037819,  1.40039528,\n",
        "         1.07349379,  1.11418117,  0.83620759,  0.89701301,  0.89713179,\n",
        "         0.89777028,  0.44315412,  0.43969984,  0.09704225,  0.05562085,\n",
        "         0.89745103]])"
       ]
      }
     ],
     "prompt_number": 74
    },
    {
     "cell_type": "code",
     "collapsed": false,
     "input": [
      "bc.show3()"
     ],
     "language": "python",
     "metadata": {},
     "outputs": [],
     "prompt_number": 75
    },
    {
     "cell_type": "code",
     "collapsed": false,
     "input": [
      "bc.settopos(traj=traj,t=1)\n",
      "fig,ax=bc.plot3d(topos=True)\n",
      "bc.settopos(traj=traj,t=4)\n",
      "bc.plot3d(topos=True,fig=fig,ax=ax)\n",
      "bc.settopos(traj=traj,t=6)\n",
      "bc.plot3d(topos=True,fig=fig,ax=ax)"
     ],
     "language": "python",
     "metadata": {},
     "outputs": [
      {
       "metadata": {},
       "output_type": "pyout",
       "prompt_number": 76,
       "text": [
        "(<matplotlib.figure.Figure at 0x4adbe90>,\n",
        " <matplotlib.axes.Axes3DSubplot at 0x7f7cc1283210>)"
       ]
      },
      {
       "metadata": {},
       "output_type": "display_data",
       "png": "[encoded data removed]",
       "text": [
        "<matplotlib.figure.Figure at 0x4adbe90>"
       ]
      }
     ],
     "prompt_number": 76
    },
    {
     "cell_type": "markdown",
     "metadata": {},
     "source": [
      "## Coordinates systems"
     ]
    },
    {
     "cell_type": "markdown",
     "metadata": {},
     "source": [
      "Each cylinder of the `Body` model bears one specific coordinate system. \n",
      "\n",
      "One or several cylinder coordinate systems can be chosen to define the Body Local Coordinates System (BLCS) which is required for motion capture (BLCS) applications. This point should be clarified, this is not that simple. \n",
      "\n",
      "In general, its origin will be chosen on a position which is the most time invariant as on the chest or the back. \n",
      "\n",
      "\n",
      "Those frames of references are all defined in the Global Coordinate System (GCS) of the scene."
     ]
    },
    {
     "cell_type": "markdown",
     "metadata": {},
     "source": [
      "### Construction of the Cylinder Coordinate System"
     ]
    },
    {
     "cell_type": "markdown",
     "metadata": {},
     "source": [
      "The method `setccs()` is used to associate a Cylinder Coordinate System (CCS) to each cylinder of the bodyCylinder model. Notice that those cylinders coordinates systems are not known by the localization application. The localization application will define the BLCS from the position of radiating devices placed on the body surface. "
     ]
    },
    {
     "cell_type": "code",
     "collapsed": false,
     "input": [
      "bc.vtopos"
     ],
     "language": "python",
     "metadata": {},
     "outputs": [
      {
       "metadata": {},
       "output_type": "pyout",
       "prompt_number": 77,
       "text": [
        "array([[ 1.],\n",
        "       [ 0.],\n",
        "       [ 0.]])"
       ]
      }
     ],
     "prompt_number": 77
    },
    {
     "cell_type": "markdown",
     "metadata": {},
     "source": [
      "Each basis is constructed with the function from `geomutil.onbfromaxe()` : orthonormal bases from axes. This function takes 2 sets of $n$ points $\\mathbf{p}_{A,n}$ and $\\mathbf{p}_{B,n}$ as input and provides an orthonormal basis as output. \n",
      "\n",
      "3 unitary vectors are constructed :\n",
      "\n",
      "\n",
      "$$\\hat{\\mathbf{w}}_n = \\frac{\\mathbf{p}_B-\\mathbf{p}_A}{| \\mathbf{p}_B-\\mathbf{p}_A |} $$\n",
      "\n",
      "$$\\hat{\\mathbf{u}}_n = \\frac{\\hat{\\mathbf{v}}_g - (\\hat{\\mathbf{v}}_g.{\\hat{\\mathbf{w}}_n}) \\mathbf{\\hat{w}}_n}{|\\hat{\\mathbf{v}_g} - (\\hat{\\mathbf{v}_g}.{\\hat{\\mathbf{w}}_n}) \\mathbf{\\hat{w}}_n|} $$\n",
      "\n",
      "$$\\hat{\\mathbf{v}}_n = \\mathbf{\\hat{w}}_n \\times \\mathbf{\\hat{u}}_n  $$\n",
      "\n",
      "Where $\\hat{\\mathbf{v}}_g$ is the unit velocity vector along actual trajectory.  \n",
      "\n",
      "The outpout of `geomutil.onbframe` is an MDA  $(3\\times n \\times 3)$ of $n$ unitary matrices aggregated along axis 1 $$\\mathbf{T}_n=[\\hat{\\mathbf{u}}_n, \\hat{\\mathbf{v}}_n, \\hat{\\mathbf{w}}_n]$$\n"
     ]
    },
    {
     "cell_type": "markdown",
     "metadata": {},
     "source": [
      "To create the CCS : "
     ]
    },
    {
     "cell_type": "code",
     "collapsed": false,
     "input": [
      "bc.setccs()"
     ],
     "language": "python",
     "metadata": {},
     "outputs": [],
     "prompt_number": 79
    },
    {
     "cell_type": "code",
     "collapsed": false,
     "input": [
      "import scipy.linalg as la \n",
      "print \"ccs dimensions : \",np.shape(bc.ccs)\n",
      "print bc.ccs[0,:,:]\n",
      "print \"Check determinant : \", la.det(bc.ccs[0,:,:])"
     ],
     "language": "python",
     "metadata": {},
     "outputs": [
      {
       "output_type": "stream",
       "stream": "stdout",
       "text": [
        "ccs dimensions :  (11, 3, 3)\n",
        "[[ 0.94678656  0.05306765 -0.31745715]\n",
        " [-0.06834689  0.99696857 -0.03718026]\n",
        " [ 0.31452173  0.05689898  0.94754345]]\n",
        "Check determinant :  1.0\n"
       ]
      }
     ],
     "prompt_number": 88
    },
    {
     "cell_type": "markdown",
     "metadata": {},
     "source": [
      "Create a Wireframe body representation from the body graph model"
     ]
    },
    {
     "cell_type": "markdown",
     "metadata": {},
     "source": [
      "Representation of frames associated with the cylinder"
     ]
    },
    {
     "cell_type": "code",
     "collapsed": false,
     "input": [
      "bc.show3?"
     ],
     "language": "python",
     "metadata": {},
     "outputs": [],
     "prompt_number": 93
    },
    {
     "cell_type": "markdown",
     "metadata": {},
     "source": [
      "On the figure below the wireframe model is shown associated with the 11 CCS (Cylinder coordinates systems) "
     ]
    },
    {
     "cell_type": "code",
     "collapsed": false,
     "input": [
      "Image('CCS.png')"
     ],
     "language": "python",
     "metadata": {},
     "outputs": [
      {
       "metadata": {},
       "output_type": "pyout",
       "png": "Q0NTLnBuZw==\n",
       "prompt_number": 90,
       "text": [
        "<IPython.core.display.Image at 0x7f7cc1377910>"
       ]
      }
     ],
     "prompt_number": 90
    },
    {
     "cell_type": "heading",
     "level": 2,
     "metadata": {},
     "source": [
      "Placing a dcs (Device Coordinate System ) on the cylinder"
     ]
    },
    {
     "cell_type": "markdown",
     "metadata": {},
     "source": [
      "A DCS is refered by 4 numbers $(Id,l,h,\\alpha)$"
     ]
    },
    {
     "cell_type": "markdown",
     "metadata": {},
     "source": [
      "Cylinder Id"
     ]
    },
    {
     "cell_type": "code",
     "collapsed": false,
     "input": [
      "Id = 4 # 4 Left Arm\n",
      "l  = 0.1 # Longitudinal coordinates\n",
      "h  = 0.03 # height \n",
      "alpha = 45 # angle degrees"
     ],
     "language": "python",
     "metadata": {},
     "outputs": []
    },
    {
     "cell_type": "code",
     "collapsed": false,
     "input": [
      "ed = bc.g.edges()[Id]\n",
      "kta=ed[0]\n",
      "khe=ed[1]\n",
      "# TODO calculate cylinder length\n",
      "phe = array(bc.topos[:,khe])\n",
      "pta = array(bc.topos[:,kta])\n",
      "dl = phe-pta \n",
      "print bc.nodes_Id[kta],bc.nodes_Id[khe]\n",
      "lmax = sqrt(dot(dl,dl))\n",
      "print lmax"
     ],
     "language": "python",
     "metadata": {},
     "outputs": []
    },
    {
     "cell_type": "code",
     "collapsed": false,
     "input": [
      "import scipy.linalg as la\n",
      "origin = pta\n",
      "CCS = bc.ccs[Id,:,:]\n",
      "print origin\n"
     ],
     "language": "python",
     "metadata": {},
     "outputs": []
    },
    {
     "cell_type": "code",
     "collapsed": false,
     "input": [
      "print CCS\n",
      "#print la.det(CCS)"
     ],
     "language": "python",
     "metadata": {},
     "outputs": []
    },
    {
     "cell_type": "markdown",
     "metadata": {},
     "source": [
      "Rotate Matrix around z"
     ]
    },
    {
     "cell_type": "code",
     "collapsed": false,
     "input": [
      "R = np.array([[cos(alpha),-sin(alpha),0],[sin(alpha),cos(alpha),0],[0,0,1]])\n",
      "print R"
     ],
     "language": "python",
     "metadata": {},
     "outputs": []
    },
    {
     "cell_type": "code",
     "collapsed": false,
     "input": [
      "CCSr = dot(CCS,R)"
     ],
     "language": "python",
     "metadata": {},
     "outputs": []
    },
    {
     "cell_type": "code",
     "collapsed": false,
     "input": [
      "print CCSr"
     ],
     "language": "python",
     "metadata": {},
     "outputs": []
    },
    {
     "cell_type": "code",
     "collapsed": false,
     "input": [
      "neworigin = origin + CCSr[:,2]*l + CCSr[:,0]*h\n",
      "print neworigin"
     ],
     "language": "python",
     "metadata": {},
     "outputs": []
    },
    {
     "cell_type": "code",
     "collapsed": false,
     "input": [
      "filename = 'cacs'+str(Id)\n",
      "geov = geu.GeomVect(filename)\n",
      "geov.geomBase(CCSr,pt= neworigin,scale=0.1)\n",
      "chaine =  '{<' + filename+'.vect' + \"}\\n\"\n",
      "bodylist.append(chaine)"
     ],
     "language": "python",
     "metadata": {},
     "outputs": []
    },
    {
     "cell_type": "code",
     "collapsed": false,
     "input": [
      "bodylist.show3"
     ],
     "language": "python",
     "metadata": {},
     "outputs": []
    },
    {
     "cell_type": "code",
     "collapsed": false,
     "input": [
      "#bc.settopos(traj,2.3,Tstep)\n",
      "#bc.movie(traj=traj,tk=time,topos=True)\n",
      "############# verification de la base\n",
      "#B.LoadMotion()\n",
      "#c3d_frames = B.d\n",
      "#B.CylinderModel()\n",
      "#fr_id  = 125\n",
      "#B.cylinder_basis0()\n",
      "#B.cylinder_basis_k (frameId = fr_id)\n",
      "#P = np.array([1,1,1])\n",
      "#for cy_id in range(10):\n",
      "#A = np.zeros(shape = (3))\n",
      "#u0 = B.basis0[cy_id,0:3]\n",
      "#v0 = B.basis0[cy_id,3:6]\n",
      "#w0 = B.basis0[cy_id,6:]\n",
      "#fig  = plt.figure()\n",
      "#ax = fig.add_subplot(111, projection='3d')\n",
      "#SF = 1\n",
      "#plt.plot((A[0],SF*u0[0]+A[0]),(A[1],SF*u0[1]+A[1]),(A[2],SF*u0[2]+A[2]), 'y')\n",
      "#plt.plot((A[0],SF*v0[0]+A[0]),(A[1],SF*v0[1]+A[1]),(A[2],SF*v0[2]+A[2]),'r')\n",
      "#plt.plot((A[0],SF*w0[0]+A[0]),(A[1],SF*w0[1]+A[1]),(A[2],SF*w0[2]+A[2]),'g')\n",
      "#uk = B.basisk[cy_id,0:3]\n",
      "#vk = B.basisk[cy_id,3:6]\n",
      "#wk = B.basisk[cy_id,6:]\n",
      "#plt.plot((A[0],SF*uk[0]+A[0]),(A[1],SF*uk[1]+A[1]),(A[2],SF*uk[2]+A[2]), 'y--')\n",
      "#plt.plot((A[0],SF*vk[0]+A[0]),(A[1],SF*vk[1]+A[1]),(A[2],SF*vk[2]+A[2]),'r--')\n",
      "#plt.plot((A[0],SF*wk[0]+A[0]),(A[1],SF*wk[1]+A[1]),(A[2],SF*wk[2]+A[2]),'g--')\n",
      "#plt.autoscale()\n",
      "#plt.title(str(cy_id))\n",
      "#plt.show()\n",
      "############   Antenna on cylinders\n",
      "\n",
      "# Load a .c3dmotion capture file\n",
      "\n",
      "#\n",
      "# extract a numpy array (3 x np x nf )\n",
      "#\n",
      "#   3  : x y  z\n",
      "#   np : number of points\n",
      "#   nf : number of frames\n",
      "#\n",
      "\n",
      "#c3dframe = bc.d\n",
      "\n",
      "#bc.geomfile(0)\n",
      "#bc.movie()\n",
      "#pg = np.sum(bc.d,axis=1)\n",
      "\n",
      "#\n",
      "# Convert c3d file into a 10 (4+4+1+1) cylinder model\n",
      "#\n",
      "#  4 arms 4 legs 1 trunk 1 head\n",
      "#\n",
      "#  create member c array\n",
      "#  c : array(shape  =  (nc,8)), Id (1), A coordinate (3) , B coordinate (3) , radius (1)\n",
      "#\n",
      "\n",
      "#bc.antennas()\n",
      "\n",
      "#\n",
      "# create a reference basis on each cylinder\n",
      "#\n",
      "# WARNING : arbitray orientation for the first frame\n",
      "#\n",
      "\n",
      "#bc.cylinder_basis0()\n",
      "#\n",
      "##\n",
      "## Below an example of positioning antenna around cylnders\n",
      "##\n",
      "##\n",
      "#\n",
      "#fr_ind = 0\n",
      "#cyl = B.c[:, :, fr_ind]\n",
      "## scale factor\n",
      "#SF = 1\n",
      "#\n",
      "## 10 antennas on 10 cylinders\n",
      "#\n",
      "#cy_id = range(0, 10)\n",
      "#l = np.ones((10))\n",
      "#alpha = np.pi / 2 * np.ones((10))\n",
      "#\n",
      "#\n",
      "##\n",
      "## Display Frame 0 \n",
      "##\n",
      "#B.cyl_antenna(cy_id, l, alpha, 0)\n",
      "#\n",
      "#fig = plt.figure()\n",
      "#\n",
      "#ax = fig.add_subplot(111, aspect='equal', projection='3d')\n",
      "#\n",
      "#for i in range(B.c.shape[0]):\n",
      "#    pltu.cylinder(fig, cyl[i, 1:4], cyl[i, 4:7], cyl[i, 7])\n",
      "#    A3 = cyl[i, 1:4]\n",
      "#    u3 = B.basis0[i, 0:3]\n",
      "#    v3 = B.basis0[i, 3:6]\n",
      "#    w3 = B.basis0[i, 6:]\n",
      "#\n",
      "#    plt.plot((A3[0], SF * u3[0] + A3[0]), (\n",
      "#        A3[1], SF * u3[1] + A3[1]), (A3[2], SF * u3[2] + A3[2]), 'y--')\n",
      "#    plt.plot((A3[0], SF * v3[0] + A3[0]), (\n",
      "#        A3[1], SF * v3[1] + A3[1]), (A3[2], SF * v3[2] + A3[2]), 'r--')\n",
      "#    plt.plot((A3[0], SF * w3[0] + A3[0]), (\n",
      "#        A3[1], SF * w3[1] + A3[1]), (A3[2], SF * w3[2] + A3[2]), 'g--')\n",
      "#    plt.plot((A3[0], B.ant[i, 0] + A3[0]), (\n",
      "#        A3[1], B.ant[i, 1] + A3[1]), (A3[2], B.ant[i, 2] + A3[2]), 'c*--')\n",
      "#    #~ plt.axis('tight')\n",
      "#    #~ fig  = plt.figure()\n",
      "#    #~ plt.plot((A3[0],SF*u3[0]+A3[0]),(A3[1],SF*u3[1]+A3[1]), 'y--')\n",
      "#    #~ plt.plot((A3[0],SF*v3[0]+A3[0]),(A3[1],SF*v3[1]+A3[1]),'r--')\n",
      "#    #~ plt.plot((A3[0],SF*w3[0]+A3[0]),(A3[1],SF*w3[1]+A3[1]),'g--')\n",
      "#        #~\n",
      "#    #~ plt.plot((A3[0],B.ant[0]+ A3[0]) ,(A3[1],B.ant[1]+ A3[1]),'c*--')\n",
      "#    #~ plt.axis('scaled')\n",
      "#\n",
      "##\n",
      "## Display Frame 60 \n",
      "##\n",
      "#fr_ind2 = 60\n",
      "#cyl1 = B.c[:, :, fr_ind2]\n",
      "#B.cylinder_basis_k(frameId=fr_ind2)\n",
      "#B.cyl_antenna(cy_id, l, alpha, fr_ind2)\n",
      "#SF = 1\n",
      "#\n",
      "#fig = plt.figure()\n",
      "#for i in range(B.c.shape[0]):\n",
      "#    pltu.cylinder(fig, cyl1[i, 1:4], cyl1[i, 4:7], cyl1[i, 7])\n",
      "#    A3 = cyl1[i, 1:4]\n",
      "#    u3 = B.basisk[i, 0:3]\n",
      "#    v3 = B.basisk[i, 3:6]\n",
      "#    w3 = B.basisk[i, 6:]\n",
      "#\n",
      "#    plt.plot((A3[0], SF * u3[0] + A3[0]), (\n",
      "#        A3[1], SF * u3[1] + A3[1]), (A3[2], SF * u3[2] + A3[2]), 'y--')\n",
      "#    plt.plot((A3[0], SF * v3[0] + A3[0]), (\n",
      "#        A3[1], SF * v3[1] + A3[1]), (A3[2], SF * v3[2] + A3[2]), 'r--')\n",
      "#    plt.plot((A3[0], SF * w3[0] + A3[0]), (\n",
      "#        A3[1], SF * w3[1] + A3[1]), (A3[2], SF * w3[2] + A3[2]), 'g--')\n",
      "#    plt.plot((A3[0], B.ant[i, 0] + A3[0]), (\n",
      "#        A3[1], B.ant[i, 1] + A3[1]), (A3[2], B.ant[i, 2] + A3[2]), 'c*--')\n",
      "#    #~ plt.axis('tight')\n",
      "#\n",
      "#plt.show()\n",
      "#\n",
      "#####################\n",
      "#B.LoadMotion()\n",
      "#f = B.d\n",
      "#cycle_distance = dist(f[:, 0, 0], f[:, 0, -1])\n",
      "#print 'distance parcouru pendant un cycle de marche = ', cycle_distance\n",
      "##~ for fr_id in range(0,124):\n",
      "#    #~ inter_frames_dist = dist(f[:,0,fr_id],f[:,0,fr_id  +1])\n",
      "#    #~ print ' frame ID = ' , fr_id ,  'distance parcouru pendant un step = ', inter_frames_dist\n",
      "##~\n",
      "##~\n",
      "#\n",
      "######## test translation and rotation\n",
      "#fig = plt.figure()\n",
      "#\n",
      "#ax = fig.add_subplot(111, projection='3d')\n",
      "#ax.scatter(f[0, :, 0], f[1, :, 0], f[2, :, 0], c='g', marker='o')\n",
      "#ax.scatter(f[0, :, -1], f[1, :, -1], f[2, :, -1], c='g', marker='*')\n",
      "#\n",
      "## translation\n",
      "##~ p = np.array([0,0,0])\n",
      "##~ f1 = translate(f,p)\n",
      "##~ ax.scatter(f1[0,:,0],f1[1,:,0],f1[2,:,0] )\n",
      "##~ ax.scatter(f1[0,:,-1],f1[1,:,-1],f1[2,:,-1] )\n",
      "## rotantion\n",
      "##~ fig = plt.figure()\n",
      "##~\n",
      "##~ ax = fig.add_subplot(111, projection='3d')\n",
      "#f2 = rotation(f, np.pi / 2)\n",
      "#ax.scatter(f2[0, :, 0], f2[1, :, 0], f2[2, :, 0], c='r', marker='o')\n",
      "#ax.scatter(f2[0, :, -1], f2[1, :, -1], f2[2, :, -1], c='r', marker='*')\n",
      "#plt.show()\n"
     ],
     "language": "python",
     "metadata": {},
     "outputs": []
    },
    {
     "cell_type": "heading",
     "level": 2,
     "metadata": {},
     "source": [
      "Trajectory Class"
     ]
    },
    {
     "cell_type": "markdown",
     "metadata": {},
     "source": [
      "This class inheritates from `pandas.DataFrame`"
     ]
    },
    {
     "cell_type": "code",
     "collapsed": false,
     "input": [
      "t = arange(0,10,0.01)"
     ],
     "language": "python",
     "metadata": {},
     "outputs": []
    },
    {
     "cell_type": "code",
     "collapsed": false,
     "input": [
      "x = 2*t*np.cos(t)\n",
      "y = 3*t*np.sin(t) \n",
      "pt =np.vstack((x,y)).T\n",
      "traj = Trajectory(t,pt)\n",
      "traj.plot()"
     ],
     "language": "python",
     "metadata": {},
     "outputs": []
    },
    {
     "cell_type": "code",
     "collapsed": false,
     "input": [
      "traj.columns"
     ],
     "language": "python",
     "metadata": {},
     "outputs": []
    },
    {
     "cell_type": "code",
     "collapsed": false,
     "input": [
      "figsize(10,10)\n",
      "traj.plot()"
     ],
     "language": "python",
     "metadata": {},
     "outputs": []
    },
    {
     "cell_type": "heading",
     "level": 2,
     "metadata": {},
     "source": [
      "Testing geomutil functions"
     ]
    },
    {
     "cell_type": "code",
     "collapsed": false,
     "input": [
      "from pylayers.util.geomutil import *                     \n",
      "import numpy as np\n",
      "v1 = np.array([1,0,0])     # blue   first vector                             \n",
      "v2 = np.array([0,1,0])     # green  second vector                              \n",
      "v3 = np.array([0,0,1])     # rouge  third vector\n",
      "M  = np.vstack((v1,v2,v3))  \n",
      "gv = Geomlist('testcolor')\n",
      "gv.append('LIST\\n')\n",
      "gv1 = GeomVect('test')\n",
      "gv1.geomBase(M,pt=np.array([1,1,1]))  \n",
      "gv.append('{< axes.list}')\n",
      "gv.append('{< test.vect}')                                        \n",
      "gv.show3()  "
     ],
     "language": "python",
     "metadata": {},
     "outputs": []
    },
    {
     "cell_type": "markdown",
     "metadata": {},
     "source": [
      "+ x bleu\n",
      "+ y vert \n",
      "+ z rouge"
     ]
    },
    {
     "cell_type": "code",
     "collapsed": false,
     "input": [
      "#bc.show3(topos=True,wire=True,tag='A',ccs=True,lccs=[9],pattern=True)"
     ],
     "language": "python",
     "metadata": {},
     "outputs": []
    },
    {
     "cell_type": "code",
     "collapsed": false,
     "input": [
      "bc.topos\n"
     ],
     "language": "python",
     "metadata": {},
     "outputs": []
    },
    {
     "cell_type": "code",
     "collapsed": false,
     "input": [
      "from IPython.core.display import HTML\n",
      "\n",
      "def css_styling():\n",
      "    styles = open(\"../styles/custom.css\", \"r\").read()\n",
      "    return HTML(styles)\n",
      "css_styling()"
     ],
     "language": "python",
     "metadata": {},
     "outputs": []
    }
   ],
   "metadata": {}
  }
 ]
}