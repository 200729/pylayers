{
 "metadata": {
  "name": ""
 },
 "nbformat": 3,
 "nbformat_minor": 0,
 "worksheets": [
  {
   "cells": [
    {
     "cell_type": "code",
     "collapsed": false,
     "input": [
      "from pylayers.antprop.antenna import *\n",
      "from pylayers.antprop.antssh import *"
     ],
     "language": "python",
     "metadata": {},
     "outputs": [],
     "prompt_number": 1
    },
    {
     "cell_type": "code",
     "collapsed": false,
     "input": [
      "A = Antenna('S1R1.mat','ant/UWBAN/Matfile')"
     ],
     "language": "python",
     "metadata": {},
     "outputs": [],
     "prompt_number": 2
    },
    {
     "cell_type": "code",
     "collapsed": false,
     "input": [
      "A"
     ],
     "language": "python",
     "metadata": {},
     "outputs": [
      {
       "metadata": {},
       "output_type": "pyout",
       "prompt_number": 3,
       "text": [
        "S1R1.mat\n",
        "mat\n",
        "S1R1\n",
        "Th1\n",
        "04/12/12\n",
        "15:55\n",
        "Mohamed at the log\n",
        "\n",
        "1\n",
        "1\n",
        "Nb theta (lat) :91\n",
        "Nb phi (lon) :180\n"
       ]
      }
     ],
     "prompt_number": 3
    },
    {
     "cell_type": "code",
     "collapsed": false,
     "input": [
      "L = 5\n",
      "A = ssh(A,L=5)"
     ],
     "language": "python",
     "metadata": {},
     "outputs": [],
     "prompt_number": 4
    },
    {
     "cell_type": "code",
     "collapsed": false,
     "input": [
      "plot(A.S.Cx.s2[0])\n"
     ],
     "language": "python",
     "metadata": {},
     "outputs": [
      {
       "output_type": "stream",
       "stream": "stderr",
       "text": [
        "/usr/local/lib/python2.7/dist-packages/numpy-1.7.1-py2.7-linux-x86_64.egg/numpy/core/numeric.py:320: ComplexWarning: Casting complex values to real discards the imaginary part\n",
        "  return array(a, dtype, copy=False, order=order)\n"
       ]
      },
      {
       "metadata": {},
       "output_type": "pyout",
       "prompt_number": 5,
       "text": [
        "[<matplotlib.lines.Line2D at 0x4d64f50>]"
       ]
      },
      {
       "metadata": {},
       "output_type": "display_data",
       "png": "[encoded data removed]",
       "text": [
        "<matplotlib.figure.Figure at 0x4d3c090>"
       ]
      }
     ],
     "prompt_number": 5
    },
    {
     "cell_type": "code",
     "collapsed": false,
     "input": [
      "A.savesh2()"
     ],
     "language": "python",
     "metadata": {},
     "outputs": [
      {
       "output_type": "stream",
       "stream": "stdout",
       "text": [
        "/private/staff/i/bi/mmhedhbi/Bureau/P1/ant/S1R1.sh2  already exist\n"
       ]
      }
     ],
     "prompt_number": 6
    },
    {
     "cell_type": "code",
     "collapsed": false,
     "input": [
      "A.loadsh2()"
     ],
     "language": "python",
     "metadata": {},
     "outputs": [],
     "prompt_number": 7
    },
    {
     "cell_type": "code",
     "collapsed": false,
     "input": [
      "A.S.Cx.s2"
     ],
     "language": "python",
     "metadata": {},
     "outputs": [
      {
       "metadata": {},
       "output_type": "pyout",
       "prompt_number": 8,
       "text": [
        "array([[ -1.16423073e-04 -1.10552760e-03j,\n",
        "          1.64040780e-02 +1.94136575e-02j,\n",
        "         -3.70584614e-03 -2.18017464e-02j, ...,\n",
        "         -1.66286342e-03 +6.70864061e-04j,\n",
        "          8.41198013e-04 +7.91723863e-04j,\n",
        "         -1.95421613e-07 -2.68689942e-07j],\n",
        "       [ -8.82831496e-03 -2.74439942e-03j,\n",
        "          9.97242084e-04 +2.25045424e-02j,\n",
        "          2.62468552e-02 -1.57898285e-02j, ...,\n",
        "          1.56105413e-03 -1.23214534e-03j,\n",
        "         -5.36051981e-04 +4.94230751e-04j,\n",
        "         -8.33706236e-08 -1.28829191e-07j],\n",
        "       [  1.76749767e-02 -1.60722749e-02j,\n",
        "         -2.17131519e-02 +4.22763636e-03j,\n",
        "          2.37721922e-02 +1.29949461e-02j, ...,\n",
        "         -2.52492421e-04 +4.14034067e-04j,\n",
        "         -1.36441911e-03 -4.64720863e-04j,\n",
        "         -1.74637954e-07 -4.29527190e-09j],\n",
        "       ..., \n",
        "       [  2.92821855e-02 +2.33457732e-02j,\n",
        "          1.42441554e-02 +2.22124460e-03j,\n",
        "         -1.66970504e-02 +6.98064404e-03j, ...,\n",
        "          3.15501760e-08 -1.90773930e-07j,\n",
        "          5.77186314e-07 -1.50575126e-07j,\n",
        "          1.08108792e-07 +7.21267225e-07j],\n",
        "       [ -6.07739185e-02 -2.96619595e-02j,\n",
        "          5.72593456e-03 +1.25778504e-02j,\n",
        "          2.87623296e-04 -7.45858518e-03j, ...,\n",
        "          2.29447443e-07 -2.43251934e-07j,\n",
        "         -5.08794163e-07 -4.81844288e-07j,\n",
        "         -5.19883197e-07 -4.61254527e-07j],\n",
        "       [  7.14721432e-02 +5.83279015e-03j,\n",
        "         -1.24763299e-03 +4.01065234e-03j,\n",
        "         -7.05619643e-04 -8.58628559e-03j, ...,\n",
        "         -2.55730599e-07 -2.55896378e-08j,\n",
        "          1.94754693e-07 +1.01119462e-06j,\n",
        "         -1.24627254e-06 +2.82014857e-07j]])"
       ]
      }
     ],
     "prompt_number": 8
    },
    {
     "cell_type": "code",
     "collapsed": false,
     "input": [
      "plot(A.S.Cx.s2[0])"
     ],
     "language": "python",
     "metadata": {},
     "outputs": [
      {
       "metadata": {},
       "output_type": "pyout",
       "prompt_number": 9,
       "text": [
        "[<matplotlib.lines.Line2D at 0x62aa290>]"
       ]
      },
      {
       "metadata": {},
       "output_type": "display_data",
       "png": "[encoded data removed]",
       "text": [
        "<matplotlib.figure.Figure at 0x4d3c650>"
       ]
      }
     ],
     "prompt_number": 9
    },
    {
     "cell_type": "code",
     "collapsed": false,
     "input": [
      "A.S.s2tos3()"
     ],
     "language": "python",
     "metadata": {},
     "outputs": [],
     "prompt_number": 10
    },
    {
     "cell_type": "code",
     "collapsed": false,
     "input": [
      "A.S.Cx.s3"
     ],
     "language": "python",
     "metadata": {},
     "outputs": [
      {
       "metadata": {},
       "output_type": "pyout",
       "prompt_number": 11,
       "text": [
        "array([[ -1.16423073e-04 -1.10552760e-03j,\n",
        "          1.64040780e-02 +1.94136575e-02j,\n",
        "         -3.70584614e-03 -2.18017464e-02j, ...,\n",
        "         -1.59958469e-03 -3.35731715e-03j,\n",
        "         -3.61563426e-04 +5.45968107e-03j,\n",
        "         -1.66286342e-03 +6.70864061e-04j],\n",
        "       [ -8.82831496e-03 -2.74439942e-03j,\n",
        "          9.97242084e-04 +2.25045424e-02j,\n",
        "          2.62468552e-02 -1.57898285e-02j, ...,\n",
        "          1.89898328e-03 -2.05242090e-03j,\n",
        "         -5.53180515e-03 +3.74341520e-03j,\n",
        "          1.56105413e-03 -1.23214534e-03j],\n",
        "       [  1.76749767e-02 -1.60722749e-02j,\n",
        "         -2.17131519e-02 +4.22763636e-03j,\n",
        "          2.37721922e-02 +1.29949461e-02j, ...,\n",
        "          5.20195486e-03 +6.95842110e-05j,\n",
        "         -9.57402695e-03 +2.40359214e-04j,\n",
        "         -2.52492421e-04 +4.14034067e-04j],\n",
        "       ..., \n",
        "       [  2.92821855e-02 +2.33457732e-02j,\n",
        "          1.42441554e-02 +2.22124460e-03j,\n",
        "         -1.66970504e-02 +6.98064404e-03j, ...,\n",
        "         -1.62459588e-03 -4.26213132e-03j,\n",
        "         -7.44115214e-03 -1.03604824e-02j,\n",
        "          3.15501760e-08 -1.90773930e-07j],\n",
        "       [ -6.07739185e-02 -2.96619595e-02j,\n",
        "          5.72593456e-03 +1.25778504e-02j,\n",
        "          2.87623296e-04 -7.45858518e-03j, ...,\n",
        "          4.04647381e-03 -2.71775802e-03j,\n",
        "          9.70804449e-03 -1.03103071e-02j,\n",
        "          2.29447443e-07 -2.43251934e-07j],\n",
        "       [  7.14721432e-02 +5.83279015e-03j,\n",
        "         -1.24763299e-03 +4.01065234e-03j,\n",
        "         -7.05619643e-04 -8.58628559e-03j, ...,\n",
        "          4.30314751e-03 +3.32134391e-03j,\n",
        "          1.22428959e-02 +7.42915138e-03j,\n",
        "         -2.55730599e-07 -2.55896378e-08j]])"
       ]
      }
     ],
     "prompt_number": 11
    },
    {
     "cell_type": "code",
     "collapsed": false,
     "input": [
      "plot(A.S.Cx.s3[0])"
     ],
     "language": "python",
     "metadata": {},
     "outputs": [
      {
       "metadata": {},
       "output_type": "pyout",
       "prompt_number": 12,
       "text": [
        "[<matplotlib.lines.Line2D at 0x7f0a400f2d50>]"
       ]
      },
      {
       "metadata": {},
       "output_type": "display_data",
       "png": "[encoded data removed]",
       "text": [
        "<matplotlib.figure.Figure at 0x62b1090>"
       ]
      }
     ],
     "prompt_number": 12
    },
    {
     "cell_type": "code",
     "collapsed": false,
     "input": [
      "A.S.Cx.ind2.shape"
     ],
     "language": "python",
     "metadata": {},
     "outputs": [
      {
       "metadata": {},
       "output_type": "pyout",
       "prompt_number": 13,
       "text": [
        "(36, 2)"
       ]
      }
     ],
     "prompt_number": 13
    },
    {
     "cell_type": "code",
     "collapsed": false,
     "input": [
      "A.savesh3()"
     ],
     "language": "python",
     "metadata": {},
     "outputs": [
      {
       "output_type": "stream",
       "stream": "stdout",
       "text": [
        "/private/staff/i/bi/mmhedhbi/Bureau/P1/ant/S1R1.sh3  already exist\n"
       ]
      }
     ],
     "prompt_number": 14
    },
    {
     "cell_type": "code",
     "collapsed": false,
     "input": [
      "plot(A.S.Cx.s2[0])"
     ],
     "language": "python",
     "metadata": {},
     "outputs": [
      {
       "metadata": {},
       "output_type": "pyout",
       "prompt_number": 15,
       "text": [
        "[<matplotlib.lines.Line2D at 0x7f0a4025ac10>]"
       ]
      },
      {
       "metadata": {},
       "output_type": "display_data",
       "png": "[encoded data removed]",
       "text": [
        "<matplotlib.figure.Figure at 0x7f0a400fa350>"
       ]
      }
     ],
     "prompt_number": 15
    },
    {
     "cell_type": "code",
     "collapsed": false,
     "input": [
      "A.loadsh3()"
     ],
     "language": "python",
     "metadata": {},
     "outputs": [],
     "prompt_number": 16
    },
    {
     "cell_type": "code",
     "collapsed": false,
     "input": [
      "plot(A.S.Cx.s3[100])"
     ],
     "language": "python",
     "metadata": {},
     "outputs": [
      {
       "metadata": {},
       "output_type": "pyout",
       "prompt_number": 23,
       "text": [
        "[<matplotlib.lines.Line2D at 0x7f0a402e3590>]"
       ]
      },
      {
       "metadata": {},
       "output_type": "display_data",
       "png": "[encoded data removed]",
       "text": [
        "<matplotlib.figure.Figure at 0x66337d0>"
       ]
      }
     ],
     "prompt_number": 23
    },
    {
     "cell_type": "code",
     "collapsed": false,
     "input": [
      "plot(A.S.Cx.s2[100])"
     ],
     "language": "python",
     "metadata": {},
     "outputs": [
      {
       "metadata": {},
       "output_type": "pyout",
       "prompt_number": 24,
       "text": [
        "[<matplotlib.lines.Line2D at 0x7f0a402d6990>]"
       ]
      },
      {
       "metadata": {},
       "output_type": "display_data",
       "png": "[encoded data removed]",
       "text": [
        "<matplotlib.figure.Figure at 0x7f0a40293cd0>"
       ]
      }
     ],
     "prompt_number": 24
    },
    {
     "cell_type": "code",
     "collapsed": false,
     "input": [
      "A.__dict__.keys()"
     ],
     "language": "python",
     "metadata": {},
     "outputs": [
      {
       "metadata": {},
       "output_type": "pyout",
       "prompt_number": 18,
       "text": [
        "['Nf',\n",
        " 'DataFile',\n",
        " 'Run',\n",
        " 'Nt',\n",
        " 'fa',\n",
        " '_filename',\n",
        " 'Notes',\n",
        " 'Ftheta',\n",
        " 'phi',\n",
        " 'Np',\n",
        " 'PhotoFile',\n",
        " 'Serie',\n",
        " 'S',\n",
        " 'AntennaName',\n",
        " 'Fphi',\n",
        " 'StartTime',\n",
        " 'Date',\n",
        " 'theta',\n",
        " 'SqG',\n",
        " 'typ']"
       ]
      }
     ],
     "prompt_number": 18
    },
    {
     "cell_type": "code",
     "collapsed": false,
     "input": [
      "A.S.Cx.__dict__.keys()"
     ],
     "language": "python",
     "metadata": {},
     "outputs": [
      {
       "metadata": {},
       "output_type": "pyout",
       "prompt_number": 19,
       "text": [
        "['k2', 'ind3', 'ind2', 'fmax', 's2', 'Nf', 's3', 'lmax', 'fmin']"
       ]
      }
     ],
     "prompt_number": 19
    },
    {
     "cell_type": "code",
     "collapsed": false,
     "input": [
      "A.S.Cx"
     ],
     "language": "python",
     "metadata": {},
     "outputs": [
      {
       "metadata": {},
       "output_type": "pyout",
       "prompt_number": 20,
       "text": [
        "Nf   : 104\n",
        "fmin (GHz) : 0.8\n",
        "fmax (GHz) : 5.95\n",
        "NCoeff s2  : 36\n",
        "Ncoeff s3 : 32\n"
       ]
      }
     ],
     "prompt_number": 20
    },
    {
     "cell_type": "code",
     "collapsed": false,
     "input": [
      "A.S.Cx.lmax"
     ],
     "language": "python",
     "metadata": {},
     "outputs": [
      {
       "metadata": {},
       "output_type": "pyout",
       "prompt_number": 25,
       "text": [
        "20"
       ]
      }
     ],
     "prompt_number": 25
    },
    {
     "cell_type": "code",
     "collapsed": false,
     "input": [],
     "language": "python",
     "metadata": {},
     "outputs": []
    }
   ],
   "metadata": {}
  }
 ]
}