{
  "nbformat_minor": 0, 
  "nbformat": 4, 
  "cells": [
    {
      "execution_count": null, 
      "cell_type": "code", 
      "source": [
        "%matplotlib inline"
      ], 
      "outputs": [], 
      "metadata": {
        "collapsed": false
      }
    }, 
    {
      "source": [
        "\n# Indoor Radio Coverage with Motley Keenan\n\n\nThis is an example of Motley-Keenan coverage \n\nThe default configuration file coverage.ini. \nAntenna assoaciated to each Access Point are handled in the module \npylayers/antprop/antenna.py\n\n[grid]\nnx = 80\nny = 40\nboundary = [20,0,30,20]\nmode = full ; file, zone , full \nfile = 'points.ini'\n\n[layout]\nfilename = TA-Office.ini ; 0 40 0 15\n;filename = W2PTIN.ini\n;filename = Lstruc.str\n\n[ap]\n0 = {'name':'room1','wstd':'ieee80211b','p':(1,12,1.2),'PtdBm':0,'chan':[11],'on':True,'ant':'Gauss','phideg':90} \n1 = {'name':'room2','wstd':'ieee80211b','p':(10,2,1.2),'PtdBm':0,'chan':[11],'on':True,'ant':'Omni','phideg':0} \n2 = {'name':'room3','wstd':'ieee80211b','p':(20,1,1.2),'PtdBm':0,'chan':[11],'on':True,'ant':'Gauss','phideg':75} \n3 = {'name':'room4','wstd':'ieee80211b','p':(36.5,1.5,1.2),'PtdBm':0,'chan':[11],'on':True,'ant':'Gauss','phideg':120} \n4 = {'name':'room5','wstd':'ieee80211b','p':(25,12,1.2),'PtdBm':0,'chan':[11],'on':True,'ant':'Gauss','phideg':180} \n\n[rx]\ntemperaturek = 300\nnoisefactordb = 0 \n\n[show]\nshow = True\n\n\n"
      ], 
      "cell_type": "markdown", 
      "metadata": {}
    }, 
    {
      "execution_count": null, 
      "cell_type": "code", 
      "source": [
        "from pylayers.antprop.coverage import *\nimport matplotlib.pyplot as plt\nimport time\nC = Coverage()\nC.L._filename\nC.tx = np.array((39,1))\nstart = time.time()\nC.cover()\nfinish = time.time()\nC.show()\n#print 'Tx position: ',C.tx \n#print 'Coverage in %1.2f seconds' % (finish-start)\nplt.show()"
      ], 
      "outputs": [], 
      "metadata": {
        "collapsed": false
      }
    }
  ], 
  "metadata": {
    "kernelspec": {
      "display_name": "Python 2", 
      "name": "python2", 
      "language": "python"
    }, 
    "language_info": {
      "mimetype": "text/x-python", 
      "nbconvert_exporter": "python", 
      "name": "python", 
      "file_extension": ".py", 
      "version": "2.7.12", 
      "pygments_lexer": "ipython2", 
      "codemirror_mode": {
        "version": 2, 
        "name": "ipython"
      }
    }
  }
}