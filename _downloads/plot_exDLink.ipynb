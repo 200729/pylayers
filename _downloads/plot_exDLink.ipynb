{
  "nbformat_minor": 0, 
  "nbformat": 4, 
  "cells": [
    {
      "execution_count": null, 
      "cell_type": "code", 
      "source": [
        "%matplotlib inline"
      ], 
      "outputs": [], 
      "metadata": {
        "collapsed": false
      }
    }, 
    {
      "source": [
        "\n# Evaluation of a radio link DLink \n\n\nLoad a Layout, set the transmitter and receiver \nposition and evaluates the link\n\n"
      ], 
      "cell_type": "markdown", 
      "metadata": {}
    }, 
    {
      "execution_count": null, 
      "cell_type": "code", 
      "source": [
        "from pylayers.simul.link import *\nimport pylayers.signal.waveform as wvf\n\n# set the frequency range from 2.4GHz to 10GHz\nfGHz=np.arange(2.4,10.,0.05)\n# set the layout from its filename\nL=Layout('defstr.ini')\n# set the link\nDL=DLink(L=L,fGHz=fGHz)\n# set the b point position \nDL.b=np.array([755,1110,1.2])\n# evaluate the link in forcing re-calculation of \n#\n#   + signatures\n#   + rays \n#   + Tilded(*) Propagation Channel \n#   + Transmission Channel H \n#\n# Diffraction : enabled\n# Vectorization : enabled\n#\nDL.eval(force=['sig','ray','Ct','H'],ra_vectorized=True,diffraction=True)\nDL.H.show()\nplt.title('Ray transfer funtion w.r.t frequency Modulus and Phase')\nplt.show()"
      ], 
      "outputs": [], 
      "metadata": {
        "collapsed": false
      }
    }
  ], 
  "metadata": {
    "kernelspec": {
      "display_name": "Python 2", 
      "name": "python2", 
      "language": "python"
    }, 
    "language_info": {
      "mimetype": "text/x-python", 
      "nbconvert_exporter": "python", 
      "name": "python", 
      "file_extension": ".py", 
      "version": "2.7.12", 
      "pygments_lexer": "ipython2", 
      "codemirror_mode": {
        "version": 2, 
        "name": "ipython"
      }
    }
  }
}