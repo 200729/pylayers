{
  "metadata": {
    "kernelspec": {
      "display_name": "Python 3",
      "name": "python3",
      "language": "python"
    },
    "language_info": {
      "name": "python",
      "nbconvert_exporter": "python",
      "pygments_lexer": "ipython3",
      "codemirror_mode": {
        "name": "ipython",
        "version": 3
      },
      "version": "3.5.4",
      "file_extension": ".py",
      "mimetype": "text/x-python"
    }
  },
  "cells": [
    {
      "execution_count": null,
      "metadata": {
        "collapsed": false
      },
      "outputs": [],
      "cell_type": "code",
      "source": [
        "%matplotlib inline"
      ]
    },
    {
      "metadata": {},
      "cell_type": "markdown",
      "source": [
        "\n# Evaluation of a radio link DLink \n\n\nLoad a Layout, set the transmitter and receiver \nposition and evaluates the link\n\n"
      ]
    },
    {
      "execution_count": null,
      "metadata": {
        "collapsed": false
      },
      "outputs": [],
      "cell_type": "code",
      "source": [
        "from pylayers.simul.link import *\nimport pylayers.signal.waveform as wvf\n\n# set the frequency range from 2.4GHz to 10GHz\nfGHz=np.arange(2.4,10.,0.05)\n# set the layout from its filename\nL=Layout('defstr.lay')\n# set the link\nDL=DLink(L=L,fGHz=fGHz)\n# set the b point position\nDL.a=np.array([2,3,1.2])\nDL.b=np.array([8,3.5,2.])\n# evaluate the link in forcing re-calculation of\n#\n#   + signatures\n#   + rays \n#   + Tilded(*) Propagation Channel \n#   + Transmission Channel H \n#\n# Diffraction : enabled\n# Vectorization : enabled\n#\nDL.eval(cutoff=5,threshold=0,ra_vectorized=True,diffraction=True)\nDL.H.show()\nplt.title('Ray transfer funtion w.r.t frequency Modulus and Phase')\nplt.show()\nplt.figure()\nDL.plt_cir()\nplt.show()"
      ]
    }
  ],
  "nbformat": 4,
  "nbformat_minor": 0
}