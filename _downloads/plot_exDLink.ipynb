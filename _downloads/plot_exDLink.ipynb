{
  "nbformat_minor": 0,
  "metadata": {
    "language_info": {
      "version": "3.5.4",
      "pygments_lexer": "ipython3",
      "file_extension": ".py",
      "mimetype": "text/x-python",
      "nbconvert_exporter": "python",
      "name": "python",
      "codemirror_mode": {
        "name": "ipython",
        "version": 3
      }
    },
    "kernelspec": {
      "name": "python3",
      "display_name": "Python 3",
      "language": "python"
    }
  },
  "nbformat": 4,
  "cells": [
    {
      "source": [
        "%matplotlib inline"
      ],
      "cell_type": "code",
      "execution_count": null,
      "outputs": [],
      "metadata": {
        "collapsed": false
      }
    },
    {
      "cell_type": "markdown",
      "source": [
        "\n# Evaluation of a radio link DLink\n\n\nLoad a Layout, set the transmitter and receiver\nposition and evaluates the link\n\n"
      ],
      "metadata": {}
    },
    {
      "source": [
        "from pylayers.simul.link import *\nimport pylayers.signal.waveform as wvf\n\n# set the frequency range from 2.4GHz to 10GHz\nfGHz = np.arange(2.4,10.,0.05)\n# set the layout from its filename\nL = Layout('defstr.lay')\n# set the link\nDL = DLink(L=L,fGHz=fGHz)\n# set the b point position\nDL.a = np.array([2,3,1.2])\nDL.b = np.array([8,3.5,2.])\n# evaluate the link in forcing re-calculation of\n#\n#   + signatures\n#   + rays\n#   + Tilded(*) Propagation Channel\n#   + Transmission Channel H\n#\n# Diffraction : enabled\n# Vectorization : enabled\n#\nDL.eval(cutoff=4, threshold=0.1, ra_vectorized=True, diffraction=True)\nDL\nDL.show()\nplt.figure()\nDL.H.show()\nplt.title('Ray transfer funtion w.r.t frequency Modulus and Phase')\nplt.show()\nplt.figure()\nDL.plt_cir()\nplt.show()"
      ],
      "cell_type": "code",
      "execution_count": null,
      "outputs": [],
      "metadata": {
        "collapsed": false
      }
    }
  ]
}