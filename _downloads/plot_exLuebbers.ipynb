{
  "nbformat_minor": 0, 
  "nbformat": 4, 
  "cells": [
    {
      "execution_count": null, 
      "cell_type": "code", 
      "source": [
        "%matplotlib inline"
      ], 
      "outputs": [], 
      "metadata": {
        "collapsed": false
      }
    }, 
    {
      "source": [
        "\n# UWB Ray tracing simulation  in outdoor scenario\n\n\nExample taken from \n\nJoseph W. Schuster, R.J Luebbers\n[Techniques for Evaluating the Accuracy of Ray-Tracing Propagation Models for Microcells](http://tinyurl.com/z2plo2v) \n\n"
      ], 
      "cell_type": "markdown", 
      "metadata": {}
    }, 
    {
      "execution_count": null, 
      "cell_type": "code", 
      "source": [
        "from pylayers.simul.link import *\nimport matplotlib.cm as cm\nL = Layout('Luebbers.ini')\nL._visual_check()\n\n# Creating a Link \n\nDL=DLink(L=L)\nDL.fGHz= np.arange(1,6,0.01)\n#DL.a = np.array(([25,21.67,2.]))\nDL.a = np.array(([37.5,5,2.]))\nDL.b = np.array(([12.5,30.,2.]))\n#\n# Set the antennas\n#\n\nDL.Aa=Antenna(typ='Omni')\nDL.Ab=Antenna(typ='Omni')\n\nDL.show()\n\n#\n# Link evaluation \n#\n\nDL.eval(force=1,diffraction=1)\n\nDL.R.show(L=DL.L)\n\nDL.ir.plot(typ=['l20'],figsize=(8,4))\nplt.xlim(100,300)\nplt.ylim(-200,-50)\nplt.show()"
      ], 
      "outputs": [], 
      "metadata": {
        "collapsed": false
      }
    }
  ], 
  "metadata": {
    "kernelspec": {
      "display_name": "Python 2", 
      "name": "python2", 
      "language": "python"
    }, 
    "language_info": {
      "mimetype": "text/x-python", 
      "nbconvert_exporter": "python", 
      "name": "python", 
      "file_extension": ".py", 
      "version": "2.7.12", 
      "pygments_lexer": "ipython2", 
      "codemirror_mode": {
        "version": 2, 
        "name": "ipython"
      }
    }
  }
}