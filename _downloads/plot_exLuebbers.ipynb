{
  "nbformat_minor": 0, 
  "nbformat": 4, 
  "cells": [
    {
      "execution_count": null, 
      "cell_type": "code", 
      "source": [
        "%matplotlib inline"
      ], 
      "outputs": [], 
      "metadata": {
        "collapsed": false
      }
    }, 
    {
      "source": [
        "\n# UWB Ray tracing simulation  in outdoor scenario\n\n\nExample taken from Joseph W. Schuster, R.J Luebbers [Techniques for Evaluating the Accuracy of Ray-Tracing Propagation Models for Microcells](http://tinyurl.com/z2plo2v) \n\n\n"
      ], 
      "cell_type": "markdown", 
      "metadata": {}
    }, 
    {
      "execution_count": null, 
      "cell_type": "code", 
      "source": [
        "from pylayers.simul.link import *\nimport matplotlib.cm as cm\nL = Layout('Luebbers.lay',bbuild=1)\n\n#ax = fig.add_subplot(2,2,1)\n#fig,ax = L._visual_check(fig=fig,ax=ax)\n#L.build()\n\n# Creating a Link \n\nDL=DLink(L=L)\nDL.fGHz= np.array([0.9])\n#DL.a = np.array(([25,21.67,2.]))\nDL.a = np.array(([37.5,5.,2.]))\nDL.b = np.array(([12.5,30.,2.]))\n#\n# Set the antennas\n#\n\nDL.Aa=Antenna(typ='Omni')\nDL.Ab=Antenna(typ='Omni')\n\n#DL.show()\n\n#\n# Link evaluation \n#\n\nDL.eval(force=1,cutoff=3,threshold=0.1,diffraction=1,nD=2)\n\nfig = plt.figure()\nax1 = fig.add_subplot(121)\nDL.R.show(L=DL.L,ax=ax1)\ncir = DL.H.getcir(BWGHz=0.5,Nf=10000)\nax2 = fig.add_subplot(122)\nax2.plot(cir.x,20*np.log10(np.abs(cir.y[0,0,:])))\nfor tick in ax2.xaxis.get_major_ticks():\n    tick.label.set_fontsize=26\nfor tick in ax2.yaxis.get_major_ticks():\n    tick.label.set_fontsize=26\nax2.set_xlim(100,300)\nax2.set_xlabel('Delay (ns)',fontsize=18)\nax2.set_ylabel('level (dB)',fontsize=18)\n#plt.ylim(-200,-50)\nfig.tight_layout()\nplt.show()"
      ], 
      "outputs": [], 
      "metadata": {
        "collapsed": false
      }
    }
  ], 
  "metadata": {
    "kernelspec": {
      "display_name": "Python 2", 
      "name": "python2", 
      "language": "python"
    }, 
    "language_info": {
      "mimetype": "text/x-python", 
      "nbconvert_exporter": "python", 
      "name": "python", 
      "file_extension": ".py", 
      "version": "2.7.12", 
      "pygments_lexer": "ipython2", 
      "codemirror_mode": {
        "version": 2, 
        "name": "ipython"
      }
    }
  }
}