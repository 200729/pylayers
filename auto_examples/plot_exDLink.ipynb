{
  "nbformat_minor": 0, 
  "nbformat": 4, 
  "cells": [
    {
      "execution_count": null, 
      "cell_type": "code", 
      "source": [
        "%matplotlib inline"
      ], 
      "outputs": [], 
      "metadata": {
        "collapsed": false
      }
    }, 
    {
      "source": [
        "\n# Evaluation of a radio link DLink \n\n\nThe example load a Layout, set the transmitter iand receiver \nposition and evaluates the link\n\n"
      ], 
      "cell_type": "markdown", 
      "metadata": {}
    }, 
    {
      "execution_count": null, 
      "cell_type": "code", 
      "source": [
        "from pylayers.simul.link import *\nimport pylayers.signal.waveform as wvf\nimport pdb\n\n# set the frequency range\nfGHz=np.arange(2.41,10.,0.05)\n# set the layout\nL=Layout('defstr.ini')\n# set the link\nDL=DLink(L=L,fGHz=fGHz)\nDL.b=np.array([755,1110,1.2])\n#DL.Aa=Antenna(typ='Omni')\n#DL.Ab=Antenna(typ='Omn')\n# Point outside\n#DL.eval(force=['sig','ray','Ct','H'],ra_vectorized=True,diffraction=True,ra_ceil_H=0)\nak,tauk = DL.eval(force=['sig','ray','Ct','H'],ra_vectorized=True,diffraction=True)\nDL.H.show()\nplt.show()"
      ], 
      "outputs": [], 
      "metadata": {
        "collapsed": false
      }
    }
  ], 
  "metadata": {
    "kernelspec": {
      "display_name": "Python 2", 
      "name": "python2", 
      "language": "python"
    }, 
    "language_info": {
      "mimetype": "text/x-python", 
      "nbconvert_exporter": "python", 
      "name": "python", 
      "file_extension": ".py", 
      "version": "2.7.12", 
      "pygments_lexer": "ipython2", 
      "codemirror_mode": {
        "version": 2, 
        "name": "ipython"
      }
    }
  }
}